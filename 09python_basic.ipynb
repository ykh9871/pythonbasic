{
 "cells": [
  {
   "cell_type": "markdown",
   "id": "fe6f7c74-6b33-4d4e-a146-30934e8b6bb3",
   "metadata": {
    "jp-MarkdownHeadingCollapsed": true,
    "tags": []
   },
   "source": [
    "## 객체지향(Object Oriented) 프로그래밍"
   ]
  },
  {
   "cell_type": "markdown",
   "id": "a27331b9-1fbe-45f1-9b0e-bcb85951e2a5",
   "metadata": {
    "tags": []
   },
   "source": [
    "- 객체지향 프로그래밍은 복잡한 문제를 잘게 나누어 객체로 만들고,   \n",
    "객체를 조합해서 문제를 해결합니다.  \n",
    "  \n",
    "  \n",
    "- 현실 세계의 복잡한 문제를 처리하는데 유용하며 기능을 개선하고  \n",
    "발전시킬 때도 해당 클래스만 수정하면 되므로 큰 프로젝트의  \n",
    "유지보수에도 매우 효율적입니다.  \n",
    "  \n",
    "  \n",
    "- 객체가 가진 데이터를 클래스의 속성(Attribute)이라 부르고   \n",
    "객체가 갖는 기능을 메서드(Method)라고 부릅니다."
   ]
  },
  {
   "cell_type": "markdown",
   "id": "b92998b3-385e-417d-aeb9-59ed79f78170",
   "metadata": {
    "tags": []
   },
   "source": [
    "### 클래스(Class)\n",
    "- 클래스명으로 주로 PascalCase(UpperCamelCase)를 사용합니다.  \n",
    "#### instance_variable = ClassName()\n",
    "\n",
    "```python  \n",
    "class ClassName:\n",
    "    def method_name(self):\n",
    "        method_body\n",
    "    class__body\n",
    "...\n",
    "```"
   ]
  },
  {
   "cell_type": "markdown",
   "id": "9e02874d-030b-46f4-b503-05a08177ad58",
   "metadata": {
    "jp-MarkdownHeadingCollapsed": true,
    "tags": []
   },
   "source": [
    "#### 메서드(Method)  \n",
    "\n",
    "```python  \n",
    "class ClassName:\n",
    "    def method_name(self):\n",
    "        method_body\n",
    "    class__body\n",
    "...\n",
    "```"
   ]
  },
  {
   "cell_type": "code",
   "execution_count": 13,
   "id": "ce945a2f-c332-49a5-9050-111a6920921a",
   "metadata": {},
   "outputs": [
    {
     "name": "stdout",
     "output_type": "stream",
     "text": [
      "<class 'int'>\n",
      "<class 'list'>\n",
      "<class 'dict'>\n"
     ]
    }
   ],
   "source": [
    "number = int(10)\n",
    "print(type(number))\n",
    "\n",
    "num_list = list(range(10))\n",
    "print(type(num_list))\n",
    "\n",
    "num_dict = dict(key=\"value\", key2=\"value2\")\n",
    "print(type(num_dict))"
   ]
  },
  {
   "cell_type": "code",
   "execution_count": 197,
   "id": "45df631a-8dc4-4c2f-a50c-49c111e4fc33",
   "metadata": {},
   "outputs": [],
   "source": [
    "class Student:\n",
    "    def __init__(self):\n",
    "        pass"
   ]
  },
  {
   "cell_type": "code",
   "execution_count": 51,
   "id": "6f6e4e70-fa77-4e7a-b66b-55ee97e61b2e",
   "metadata": {},
   "outputs": [],
   "source": [
    "gh = Student() # 독립적인 값을 보장하는 인스턴스로 생성됩니다."
   ]
  },
  {
   "cell_type": "markdown",
   "id": "cd66f429-2410-4716-8971-dc4688730376",
   "metadata": {
    "jp-MarkdownHeadingCollapsed": true,
    "tags": []
   },
   "source": [
    "#### 클래스 속성(Attribute)"
   ]
  },
  {
   "cell_type": "code",
   "execution_count": 57,
   "id": "d7bd153c-ded8-4d9e-b9d2-654e13052c4e",
   "metadata": {},
   "outputs": [],
   "source": [
    "class Person:\n",
    "    def __init__(self):\n",
    "        self.hello = \"안녕하세요.\""
   ]
  },
  {
   "cell_type": "code",
   "execution_count": 58,
   "id": "5ac2a05d-f448-44d3-bf58-c40eb6159c5d",
   "metadata": {},
   "outputs": [
    {
     "name": "stdout",
     "output_type": "stream",
     "text": [
      "안녕하세요.\n",
      "안녕하세요.\n"
     ]
    }
   ],
   "source": [
    "james = Person()\n",
    "print(james.hello)\n",
    "\n",
    "bebe = Person()\n",
    "print(bebe.hello)"
   ]
  },
  {
   "cell_type": "code",
   "execution_count": 59,
   "id": "64bb6e0e-21b3-4642-86d6-e17d26a04ae4",
   "metadata": {},
   "outputs": [
    {
     "name": "stdout",
     "output_type": "stream",
     "text": [
      "안녕하세요.\n"
     ]
    }
   ],
   "source": [
    "class Person:\n",
    "    def __init__(self):\n",
    "        self.hello = \"안녕하세요.\"\n",
    "        \n",
    "    def greeting(self):\n",
    "        print(self.hello)\n",
    "        \n",
    "james = Person()\n",
    "james.greeting()"
   ]
  },
  {
   "cell_type": "code",
   "execution_count": 60,
   "id": "1da54714-a5f0-4417-8b20-1a4091f62c88",
   "metadata": {},
   "outputs": [],
   "source": [
    "class Student:\n",
    "    def __init__(self):\n",
    "        self.hello = \"안녕하세요.\"\n",
    "        \n",
    "    def greeting(self):\n",
    "        print(self.hello)"
   ]
  },
  {
   "cell_type": "code",
   "execution_count": 61,
   "id": "07891628-fae3-44da-9910-536172fe9d17",
   "metadata": {},
   "outputs": [],
   "source": [
    "# stu_a와 stu_b는 독립적으로 존재\n",
    "stu_a = Student() # 클래스로부터 인스턴스 초기화\n",
    "stu_b = Student() # 클래스로부터 인스턴스 초기화"
   ]
  },
  {
   "cell_type": "code",
   "execution_count": 62,
   "id": "f1435d3c-5549-418f-bd67-1c54705318a9",
   "metadata": {},
   "outputs": [],
   "source": [
    "stu_a.hello = \"안녕하세요.\""
   ]
  },
  {
   "cell_type": "code",
   "execution_count": 63,
   "id": "c235c6b2-6887-49f2-80fd-7f77629a97d4",
   "metadata": {},
   "outputs": [
    {
     "name": "stdout",
     "output_type": "stream",
     "text": [
      "안녕하세요.\n"
     ]
    }
   ],
   "source": [
    "stu_a.greeting()"
   ]
  },
  {
   "cell_type": "code",
   "execution_count": 64,
   "id": "8a621b12-3971-4d5a-bf82-8712718764b5",
   "metadata": {},
   "outputs": [
    {
     "name": "stdout",
     "output_type": "stream",
     "text": [
      "안녕하세요.\n"
     ]
    }
   ],
   "source": [
    "stu_b.greeting()"
   ]
  },
  {
   "cell_type": "code",
   "execution_count": 65,
   "id": "14fa9767-29d4-48de-91a4-a07c74fb46da",
   "metadata": {},
   "outputs": [],
   "source": [
    "stu_a.name = \"학생A\""
   ]
  },
  {
   "cell_type": "code",
   "execution_count": 66,
   "id": "5d1cf80d-b525-4c31-920c-335885565603",
   "metadata": {},
   "outputs": [
    {
     "name": "stdout",
     "output_type": "stream",
     "text": [
      "학생A\n"
     ]
    }
   ],
   "source": [
    "print(stu_a.name)"
   ]
  },
  {
   "cell_type": "code",
   "execution_count": 67,
   "id": "b7c608e4-a3b7-46bb-8f11-b1d4c769e96a",
   "metadata": {},
   "outputs": [],
   "source": [
    "class Person:\n",
    "    def __init__(self, name, age):\n",
    "        self.name = name\n",
    "        self.age = age"
   ]
  },
  {
   "cell_type": "code",
   "execution_count": 68,
   "id": "9017d6a7-49bb-4c71-8aa7-8e86bfe3a1dc",
   "metadata": {},
   "outputs": [],
   "source": [
    "p1 = Person(\"name1\",40)\n",
    "p2 = Person(\"name2\",32)"
   ]
  },
  {
   "cell_type": "code",
   "execution_count": 69,
   "id": "338f0a09-7330-46d5-a812-58c924d73e55",
   "metadata": {},
   "outputs": [
    {
     "data": {
      "text/plain": [
       "{'name': 'name1', 'age': 40}"
      ]
     },
     "execution_count": 69,
     "metadata": {},
     "output_type": "execute_result"
    }
   ],
   "source": [
    "p1.__dict__ "
   ]
  },
  {
   "cell_type": "code",
   "execution_count": 70,
   "id": "91d1b3a4-e6bf-450e-8d80-1d233dd84bf8",
   "metadata": {},
   "outputs": [
    {
     "data": {
      "text/plain": [
       "{'name': 'name2', 'age': 32}"
      ]
     },
     "execution_count": 70,
     "metadata": {},
     "output_type": "execute_result"
    }
   ],
   "source": [
    "p2.__dict__"
   ]
  },
  {
   "cell_type": "code",
   "execution_count": 71,
   "id": "4171622a-3f3d-4d32-8708-b0ae013e2529",
   "metadata": {},
   "outputs": [],
   "source": [
    "class Person:\n",
    "    def __init__(self, param1, param2):\n",
    "        self.attr1 = param1\n",
    "        self.attr2 = param2"
   ]
  },
  {
   "cell_type": "code",
   "execution_count": 78,
   "id": "0e180c9a-aaca-41b9-8043-ea41bb55e5eb",
   "metadata": {},
   "outputs": [
    {
     "name": "stdout",
     "output_type": "stream",
     "text": [
      "안녕하세요. 제 이름은 마리아입니다.\n",
      "이름: 마리아\n",
      "이름: 20\n",
      "이름: 서울시 서초구 반포동\n"
     ]
    }
   ],
   "source": [
    "class Person:\n",
    "    def __init__(self, name, age, address):\n",
    "        self.hello = \"안녕하세요.\"\n",
    "        self.name = name\n",
    "        self.age = age\n",
    "        self.address = address\n",
    "        \n",
    "    def greeting(self):\n",
    "        print(f'{self.hello} 제 이름은 {self.name}입니다.')\n",
    "        \n",
    "        \n",
    "maria = Person(\"마리아\", 20, \"서울시 서초구 반포동\")\n",
    "maria.greeting()\n",
    "\n",
    "\n",
    "print(\"이름:\", maria.name)\n",
    "print(\"이름:\", maria.age)\n",
    "print(\"이름:\", maria.address)"
   ]
  },
  {
   "cell_type": "code",
   "execution_count": 87,
   "id": "d0578f89-06c4-4cae-944c-7cf14b5cde8c",
   "metadata": {},
   "outputs": [
    {
     "name": "stdout",
     "output_type": "stream",
     "text": [
      "이름: 마리아\n",
      "나이: 20\n",
      "주소: 서울시 서초구 반포동\n"
     ]
    }
   ],
   "source": [
    "class Person2:\n",
    "    def __init__(self, name, age, address):\n",
    "        self.hello = \"안녕하세요.\"\n",
    "        self.name = name\n",
    "        self.age = age\n",
    "        self.address = address\n",
    "        \n",
    "    def greeting(self):\n",
    "        print(f'{self.hello} 제 이름은 {self.name}입니다.')\n",
    "\n",
    "print(\"이름:\", maria.name)\n",
    "print(\"나이:\", maria.age)\n",
    "print(\"주소:\", maria.address)"
   ]
  },
  {
   "cell_type": "code",
   "execution_count": 85,
   "id": "02c56123-b3c6-4dbd-9234-ae5e04982574",
   "metadata": {},
   "outputs": [
    {
     "name": "stdout",
     "output_type": "stream",
     "text": [
      "안녕하세요. 제 이름은 마리아입니다.\n"
     ]
    }
   ],
   "source": [
    "maria = Person2(\"마리아\", 20, \"서울시 서초구 반포동\")\n",
    "maria.greeting()"
   ]
  },
  {
   "cell_type": "code",
   "execution_count": 86,
   "id": "5f4c415c-8006-402c-a5f6-dd9c028ee711",
   "metadata": {},
   "outputs": [
    {
     "data": {
      "text/plain": [
       "{'hello': '안녕하세요.', 'name': '마리아', 'age': 20, 'address': '서울시 서초구 반포동'}"
      ]
     },
     "execution_count": 86,
     "metadata": {},
     "output_type": "execute_result"
    }
   ],
   "source": [
    "maria.__dict__"
   ]
  },
  {
   "cell_type": "markdown",
   "id": "7e370e3f-2109-43be-9d9e-177730ce8998",
   "metadata": {
    "jp-MarkdownHeadingCollapsed": true,
    "tags": []
   },
   "source": [
    "#### 비공개 속성"
   ]
  },
  {
   "cell_type": "code",
   "execution_count": 170,
   "id": "6fdb86c3-78ab-4858-9b89-8af4cfb5ce9f",
   "metadata": {},
   "outputs": [],
   "source": [
    "class Person3:\n",
    "    def __init__(self, name, age, address, wallet):\n",
    "        self.hello = \"안녕하세요.\"\n",
    "        self.name = name\n",
    "        self.age = age\n",
    "        self.address = address\n",
    "        self.__wallet = wallet # 변수 앞에 __를 붙여 비공개 속성으로 만듦\n",
    "        \n",
    "    def greeting(self):\n",
    "        print(f\"{self.hello} 제 이름은 {self.name}입니다.\")\n",
    "        \n",
    "    def amount(self):\n",
    "        print(self.__wallet)\n",
    "        \n",
    "    def pay(self, amount):\n",
    "        if self.__wallet < amount:\n",
    "            print(\"돈이 모자랍니다.\")\n",
    "            return\n",
    "        self.__wallet -= amount"
   ]
  },
  {
   "cell_type": "code",
   "execution_count": 171,
   "id": "98bb58c9-adca-4dc7-9c74-f4b04deb9444",
   "metadata": {},
   "outputs": [],
   "source": [
    "ygh = Person3(\"윤규헌\", 26, \"경기도 광명\", 20000)"
   ]
  },
  {
   "cell_type": "code",
   "execution_count": 172,
   "id": "ccb9a886-da2d-490c-b410-66696dab8feb",
   "metadata": {},
   "outputs": [],
   "source": [
    "ygh.pay(10000)"
   ]
  },
  {
   "cell_type": "code",
   "execution_count": 173,
   "id": "5efc44c8-4e3d-4f11-9779-805b87c5196e",
   "metadata": {},
   "outputs": [
    {
     "name": "stdout",
     "output_type": "stream",
     "text": [
      "돈이 모자랍니다.\n"
     ]
    }
   ],
   "source": [
    "ygh.pay(15000)"
   ]
  },
  {
   "cell_type": "code",
   "execution_count": 174,
   "id": "6741b140-3f40-4125-bc97-f1aa96d523f7",
   "metadata": {},
   "outputs": [
    {
     "name": "stdout",
     "output_type": "stream",
     "text": [
      "10000\n"
     ]
    }
   ],
   "source": [
    "ygh.amount()"
   ]
  },
  {
   "cell_type": "code",
   "execution_count": 162,
   "id": "2ff012de-103e-4d58-9e6c-3d40202ab976",
   "metadata": {},
   "outputs": [
    {
     "name": "stdout",
     "output_type": "stream",
     "text": [
      "윤규헌\n"
     ]
    }
   ],
   "source": [
    "print(ygh.name)"
   ]
  },
  {
   "cell_type": "code",
   "execution_count": 163,
   "id": "4aa759cf-b2b5-416f-a2ba-f7ae96eb128f",
   "metadata": {},
   "outputs": [
    {
     "name": "stdout",
     "output_type": "stream",
     "text": [
      "26\n"
     ]
    }
   ],
   "source": [
    "print(ygh.age)"
   ]
  },
  {
   "cell_type": "code",
   "execution_count": 164,
   "id": "a08e30cd-f00f-4585-87b1-4fb63ab2e980",
   "metadata": {},
   "outputs": [
    {
     "name": "stdout",
     "output_type": "stream",
     "text": [
      "경기도 광명\n"
     ]
    }
   ],
   "source": [
    "print(ygh.address)"
   ]
  },
  {
   "cell_type": "code",
   "execution_count": 133,
   "id": "4fc781ed-f083-489c-a0c3-b73c4c0f06e3",
   "metadata": {},
   "outputs": [
    {
     "ename": "AttributeError",
     "evalue": "'Person3' object has no attribute 'wallet'",
     "output_type": "error",
     "traceback": [
      "\u001b[1;31m---------------------------------------------------------------------------\u001b[0m",
      "\u001b[1;31mAttributeError\u001b[0m                            Traceback (most recent call last)",
      "\u001b[1;32m~\\AppData\\Local\\Temp\\ipykernel_9208\\2328945870.py\u001b[0m in \u001b[0;36m<module>\u001b[1;34m\u001b[0m\n\u001b[1;32m----> 1\u001b[1;33m \u001b[0mprint\u001b[0m\u001b[1;33m(\u001b[0m\u001b[0mygh\u001b[0m\u001b[1;33m.\u001b[0m\u001b[0mwallet\u001b[0m\u001b[1;33m)\u001b[0m\u001b[1;33m\u001b[0m\u001b[1;33m\u001b[0m\u001b[0m\n\u001b[0m",
      "\u001b[1;31mAttributeError\u001b[0m: 'Person3' object has no attribute 'wallet'"
     ]
    }
   ],
   "source": [
    "print(ygh.wallet)"
   ]
  },
  {
   "cell_type": "code",
   "execution_count": 176,
   "id": "f735e763-139d-4cb4-a17f-261baa263eed",
   "metadata": {},
   "outputs": [
    {
     "ename": "NameError",
     "evalue": "name 'maria_wallet' is not defined",
     "output_type": "error",
     "traceback": [
      "\u001b[1;31m---------------------------------------------------------------------------\u001b[0m",
      "\u001b[1;31mNameError\u001b[0m                                 Traceback (most recent call last)",
      "\u001b[1;32m~\\AppData\\Local\\Temp\\ipykernel_9208\\1423943299.py\u001b[0m in \u001b[0;36m<module>\u001b[1;34m\u001b[0m\n\u001b[0;32m      7\u001b[0m \u001b[1;33m\u001b[0m\u001b[0m\n\u001b[0;32m      8\u001b[0m \u001b[0mmaria\u001b[0m \u001b[1;33m=\u001b[0m \u001b[0mPerson4\u001b[0m\u001b[1;33m(\u001b[0m\u001b[1;34m\"마리아\"\u001b[0m\u001b[1;33m,\u001b[0m \u001b[1;36m20\u001b[0m\u001b[1;33m,\u001b[0m \u001b[1;34m\"서울시 서초구 반포동\"\u001b[0m\u001b[1;33m,\u001b[0m \u001b[1;36m10000\u001b[0m\u001b[1;33m)\u001b[0m\u001b[1;33m\u001b[0m\u001b[1;33m\u001b[0m\u001b[0m\n\u001b[1;32m----> 9\u001b[1;33m \u001b[0mmaria_wallet\u001b[0m \u001b[1;33m-=\u001b[0m \u001b[1;36m10000\u001b[0m \u001b[1;31m# 클래스 바깥에서 비공개 속성에 접근하면 에러 발생\u001b[0m\u001b[1;33m\u001b[0m\u001b[1;33m\u001b[0m\u001b[0m\n\u001b[0m",
      "\u001b[1;31mNameError\u001b[0m: name 'maria_wallet' is not defined"
     ]
    }
   ],
   "source": [
    "class Person4:\n",
    "    def __init__(self, name, age, address, wallet):\n",
    "        self.name = name\n",
    "        self.age = age\n",
    "        self.address = address\n",
    "        self.__wallet = wallet # 변수 앞에 __를 붙여서 비공개 속성으로 만듦\n",
    "\n",
    "maria = Person4(\"마리아\", 20, \"서울시 서초구 반포동\", 10000)\n",
    "maria_wallet -= 10000 # 클래스 바깥에서 비공개 속성에 접근하면 에러 발생"
   ]
  },
  {
   "cell_type": "code",
   "execution_count": 151,
   "id": "bb548fb2-e4e9-4156-94f3-ede6d57c785a",
   "metadata": {},
   "outputs": [],
   "source": [
    "class Person3:\n",
    "    def __init__(self, name, age, address, wallet):\n",
    "        self.hello = \"안녕하세요.\"\n",
    "        self.name = name\n",
    "        self.age = age\n",
    "        self.address = address\n",
    "        self.__wallet = wallet # 변수 앞에 __를 붙여 비공개 속성으로 만듦\n",
    "        \n",
    "    def greeting(self):\n",
    "        print(f\"{self.hello} 제 이름은 {self.name}입니다.\")\n",
    "        \n",
    "    def amount(self):\n",
    "        print(self.__wallet)\n",
    "        \n",
    "    def pay(self, amount):\n",
    "        if self.__wallet < amount:\n",
    "            print(\"돈이 모자랍니다.\")\n",
    "            return\n",
    "        self.__wallet -= amount"
   ]
  },
  {
   "cell_type": "markdown",
   "id": "fce75e6c-706d-480e-8cee-8303ef64f0ae",
   "metadata": {
    "jp-MarkdownHeadingCollapsed": true,
    "tags": []
   },
   "source": [
    "#### 연습문제"
   ]
  },
  {
   "cell_type": "code",
   "execution_count": 115,
   "id": "0f9d1217-5e98-44a6-b831-368af567abdb",
   "metadata": {},
   "outputs": [
    {
     "name": "stdin",
     "output_type": "stream",
     "text": [
      "이름은 무엇인가요?: 마리아\n",
      "나이는 무엇인가요?: 20\n",
      "주소는 무엇인가요?: 서울시 강남구\n",
      "이름은 무엇인가요?: 제임스\n",
      "나이는 무엇인가요?: 21\n",
      "주소는 무엇인가요?: 서울시 구로구\n"
     ]
    },
    {
     "name": "stdout",
     "output_type": "stream",
     "text": [
      "첫번째 이름: 마리아\n",
      "첫번째 나이: 20\n",
      "첫번째 주소: 서울시 강남구\n",
      "두번째 이름: 제임스\n",
      "두번째 나이: 21\n",
      "두번째 주소: 서울시 구로구\n"
     ]
    }
   ],
   "source": [
    "class Person3:\n",
    "    def __init__(self, name, age, address):\n",
    "        self.hello = \"안녕하세요.\"\n",
    "        self.name = name\n",
    "        self.age = age\n",
    "        self.address = address\n",
    "        \n",
    "\n",
    "maria = Person3(input(\"이름은 무엇인가요?:\"),input(\"나이는 무엇인가요?:\"),input(\"주소는 무엇인가요?:\"))\n",
    "james = Person3(input(\"이름은 무엇인가요?:\"),input(\"나이는 무엇인가요?:\"),input(\"주소는 무엇인가요?:\"))\n",
    "\n",
    "print(\"첫번째 이름:\", maria.name)\n",
    "print(\"첫번째 나이:\", maria.age)\n",
    "print(\"첫번째 주소:\", maria.address)\n",
    "print(\"두번째 이름:\", james.name)\n",
    "print(\"두번째 나이:\", james.age)\n",
    "print(\"두번째 주소:\", james.address)"
   ]
  },
  {
   "cell_type": "code",
   "execution_count": 196,
   "id": "ac02d11c-f0a7-4e58-901a-2963dd267a70",
   "metadata": {},
   "outputs": [
    {
     "name": "stdin",
     "output_type": "stream",
     "text": [
      "체력,마나,AP를 입력하세요. 511.68 334.0 298\n"
     ]
    },
    {
     "name": "stdout",
     "output_type": "stream",
     "text": [
      "티버: 피해량 593.7\n"
     ]
    }
   ],
   "source": [
    "class Annie:\n",
    "    def __init__(self, HP, MP, AP):\n",
    "        self.HP = HP\n",
    "        self.MP = MP\n",
    "        self.AP = AP\n",
    "    \n",
    "    def tibbers(self):\n",
    "        damage = self.AP * 0.65 + 400\n",
    "        print(f'티버: 피해량 {damage}')\n",
    "        \n",
    "HP,MP,AP = map(float,input(\"체력,마나,AP를 입력하세요.\").split(\" \"))\n",
    "annie = Annie(HP,MP,AP)\n",
    "annie.tibbers()"
   ]
  },
  {
   "cell_type": "markdown",
   "id": "009c50ed-c2d8-4346-b3ae-5a74dbaec8c1",
   "metadata": {
    "jp-MarkdownHeadingCollapsed": true,
    "tags": []
   },
   "source": [
    "##### 현재까지 계산한 값을 속성 value로 갖는 계산기 클래스를 만들고자 합니다.\n",
    "- value 속성의 초기값은 0으로 갖습니다.  \n",
    "- add 메서드는 value 값에 인수로 받은 값을 가산합니다.  \n",
    "- minus 메서드는 value 값에 인수로 받은 값을 감산합니다.  \n",
    "- show_value 메서드는 다음과 같이 현재 값을 출력합니다.  \n",
    "\"현재 값은 000입니다.\"  \n",
    "- add와 minus는 가변인자를 활용하여 시퀀스도 처리합니다.  \n",
    "- 인수가 없는 경우 \"숫자를 입력해주세요\"라고 출력합니다.  \n",
    "- 숫자가 아닌 값에 대해서 처리는 따로 하지 않습니다."
   ]
  },
  {
   "cell_type": "code",
   "execution_count": 433,
   "id": "1bcec0e0-e38c-4dc9-a977-d4de79259063",
   "metadata": {},
   "outputs": [
    {
     "name": "stdout",
     "output_type": "stream",
     "text": [
      "현재 값은 80입니다.\n",
      "숫자를 입력해주세요.\n",
      "현재 값은 50입니다.\n",
      "현재 값은 65입니다.\n"
     ]
    }
   ],
   "source": [
    "import numpy as np\n",
    "class Calculator:\n",
    "    def __init__(self):\n",
    "        self.value = 0\n",
    "        \n",
    "    def add(self,*number):\n",
    "        if len(number) > 0:\n",
    "            num = np.array(number)\n",
    "            self.value += np.sum((num))\n",
    "        else:\n",
    "            print(f'숫자를 입력해주세요.')\n",
    "            \n",
    "    def minus(self,*number):\n",
    "        if len(number) > 0:\n",
    "            num = np.array(number)\n",
    "            self.value -= np.sum((num))\n",
    "        else:\n",
    "            print(f'숫자를 입력해주세요.')\n",
    "            \n",
    "    def show_value(self):\n",
    "        print(f'현재 값은 {self.value}입니다.')\n",
    "        \n",
    "c=Calculator()\n",
    "c.add(100)\n",
    "c.minus(20)\n",
    "c.show_value()\n",
    "c.add()\n",
    "c.minus([10,20])\n",
    "c.show_value()\n",
    "c.add(range(1,6))\n",
    "c.show_value()"
   ]
  },
  {
   "cell_type": "code",
   "execution_count": 432,
   "id": "94a5d3e8-959c-4f10-a0fe-c9c005770518",
   "metadata": {},
   "outputs": [
    {
     "name": "stdout",
     "output_type": "stream",
     "text": [
      "현재 값은 80입니다.\n",
      "숫자를 입력해주세요\n",
      "현재 값은 50입니다.\n",
      "현재 값은 65입니다.\n"
     ]
    }
   ],
   "source": [
    "#numpy 없는 코드\n",
    "class Calcultator():\n",
    "    def __init__(self):\n",
    "        self.value = 0\n",
    "    def add(self,*n):\n",
    "        if len(n) == 0:\n",
    "            print(\"숫자를 입력해주세요\")\n",
    "        for i in n:\n",
    "            if type(i) == range:\n",
    "                for j in i:\n",
    "                    self.value +=j\n",
    "            else:\n",
    "                self.value += sum(n)\n",
    "    def minus(self,*n):\n",
    "        if len(n) ==0 :\n",
    "            print(\"숫자를 입력해주세요.\")\n",
    "        for i in n:\n",
    "            if type(i) == list:\n",
    "                for j in i:\n",
    "                    self.value -= j\n",
    "            else:\n",
    "                self.value -= sum(n)\n",
    "    def show_value(self):\n",
    "        print(f\"현재 값은 {self.value}입니다.\")\n",
    "c = Calcultator()\n",
    "c.add(100)\n",
    "c.minus(20)\n",
    "c.show_value()\n",
    "c.add()\n",
    "c.minus([10,20])\n",
    "c.show_value()\n",
    "c.add(range(1,6))\n",
    "c.show_value()"
   ]
  },
  {
   "cell_type": "markdown",
   "id": "45659e24-8beb-40f8-b904-e350bd6167cb",
   "metadata": {
    "tags": []
   },
   "source": [
    "# class 복습문제"
   ]
  },
  {
   "cell_type": "markdown",
   "id": "547eeda6-b008-411b-b2b2-12cc56064dc4",
   "metadata": {
    "jp-MarkdownHeadingCollapsed": true,
    "tags": []
   },
   "source": [
    "#### 팀 객체를 생성할 수 있는 클래스를 만들어보세요.\n",
    "- 클래스 속성 : count(default 0), order (default 빈리스트)\n",
    "- 인스턴스 속성 : number(필수), name(default None)\n",
    "- 비공개 인스턴스 속성 : member (default 빈 set)"
   ]
  },
  {
   "cell_type": "code",
   "execution_count": 900,
   "id": "fba3f4cf-60a7-480a-9a2c-673093ac693d",
   "metadata": {},
   "outputs": [],
   "source": [
    "class Team:\n",
    "    \"\"\"팀 객체를 만듭니다.\"\"\"\n",
    "    count = 0\n",
    "    order = []\n",
    "    \n",
    "    def __init__(self,number,name=None,member=set()):\n",
    "        self.number = number\n",
    "        self.name = name\n",
    "        self.__member = member\n",
    "        Team.count += 1\n",
    "        \n",
    "    def add_member(self,name):\n",
    "        if name in self.__member:\n",
    "            print(f'{name} 님은 이미 팀에 있습니다.')\n",
    "        else:\n",
    "            self.__member.add(name)\n",
    "            print(f'{name} 님을 {self.number} 팀에 추가했습니다.')\n",
    "    \n",
    "    def rm_member(self,name):\n",
    "        if name in self.__member:\n",
    "            self.__member.discard(name)\n",
    "            print(f'{name} 님을 {self.number} 팀에서 삭제했습니다.')\n",
    "        else:\n",
    "            print(f'{name} 님은 해당팀에 없습니다.')\n",
    "    \n",
    "    def get_count(self):\n",
    "        return self.count\n",
    "    \n",
    "    def get_order(self):\n",
    "        return self.order\n",
    "    \n",
    "    def set_order(self,number):\n",
    "        if number in self.order:\n",
    "            self.order.remove(number)\n",
    "        self.order.append(number)\n",
    "        \n",
    "    def __len__(self):\n",
    "        return len(self.__member)"
   ]
  },
  {
   "cell_type": "code",
   "execution_count": 901,
   "id": "cb6594d9-76ea-4a4e-bcac-e589bd05f7bf",
   "metadata": {},
   "outputs": [],
   "source": [
    "t1 = Team(1)"
   ]
  },
  {
   "cell_type": "code",
   "execution_count": 902,
   "id": "70e12ab7-deab-4c7f-b5fe-4d4b096d92b0",
   "metadata": {},
   "outputs": [
    {
     "name": "stdout",
     "output_type": "stream",
     "text": [
      "윤규헌 님을 1 팀에 추가했습니다.\n"
     ]
    }
   ],
   "source": [
    "t1.add_member(\"윤규헌\")"
   ]
  },
  {
   "cell_type": "code",
   "execution_count": 903,
   "id": "cf1e315b-fe79-4811-8727-483bffad6dca",
   "metadata": {},
   "outputs": [
    {
     "name": "stdout",
     "output_type": "stream",
     "text": [
      "윤규헌 님은 이미 팀에 있습니다.\n"
     ]
    }
   ],
   "source": [
    "t1.add_member(\"윤규헌\")"
   ]
  },
  {
   "cell_type": "code",
   "execution_count": 904,
   "id": "2a1d78c6-457b-4c74-8e4e-dac1ab73304b",
   "metadata": {},
   "outputs": [
    {
     "name": "stdout",
     "output_type": "stream",
     "text": [
      "1\n"
     ]
    }
   ],
   "source": [
    "print(len(t1))"
   ]
  },
  {
   "cell_type": "code",
   "execution_count": 905,
   "id": "2118d61c-7f70-437e-a612-9ccfeceacd2c",
   "metadata": {},
   "outputs": [
    {
     "name": "stdout",
     "output_type": "stream",
     "text": [
      "이호진 님을 1 팀에 추가했습니다.\n"
     ]
    }
   ],
   "source": [
    "t1.add_member('이호진')"
   ]
  },
  {
   "cell_type": "code",
   "execution_count": 906,
   "id": "3cb455bc-1937-4eca-98b2-32d7b7bce50e",
   "metadata": {},
   "outputs": [
    {
     "name": "stdout",
     "output_type": "stream",
     "text": [
      "2\n"
     ]
    }
   ],
   "source": [
    "print(len(t1))"
   ]
  },
  {
   "cell_type": "code",
   "execution_count": 907,
   "id": "cc4a84e9-590a-4868-98b6-0b73969fb05b",
   "metadata": {},
   "outputs": [
    {
     "name": "stdout",
     "output_type": "stream",
     "text": [
      "이기수 님을 1 팀에 추가했습니다.\n"
     ]
    }
   ],
   "source": [
    "t1.add_member(\"이기수\")"
   ]
  },
  {
   "cell_type": "code",
   "execution_count": 908,
   "id": "ae43e97f-f011-4a41-a2de-ecfee6526379",
   "metadata": {},
   "outputs": [
    {
     "name": "stdout",
     "output_type": "stream",
     "text": [
      "이기수 님을 1 팀에서 삭제했습니다.\n"
     ]
    }
   ],
   "source": [
    "t1.rm_member('이기수')"
   ]
  },
  {
   "cell_type": "code",
   "execution_count": 909,
   "id": "9da26f98-520c-4f79-85d4-8dbc9a38904c",
   "metadata": {},
   "outputs": [
    {
     "name": "stdout",
     "output_type": "stream",
     "text": [
      "이기수 님은 해당팀에 없습니다.\n"
     ]
    }
   ],
   "source": [
    "t1.rm_member('이기수')"
   ]
  },
  {
   "cell_type": "code",
   "execution_count": 910,
   "id": "c2e202df-cfc7-42e4-a7b9-dd62d473a9af",
   "metadata": {},
   "outputs": [],
   "source": [
    "t2 = Team(2)"
   ]
  },
  {
   "cell_type": "code",
   "execution_count": 911,
   "id": "45343276-ae78-47b1-b335-eb9ddb825c55",
   "metadata": {},
   "outputs": [],
   "source": [
    "t2.set_order(t2.number)"
   ]
  },
  {
   "cell_type": "code",
   "execution_count": 912,
   "id": "ba177acd-3007-4e19-ac93-d6bcd330881f",
   "metadata": {},
   "outputs": [],
   "source": [
    "t1.set_order(t1.number)"
   ]
  },
  {
   "cell_type": "code",
   "execution_count": 913,
   "id": "ed4e2327-f6e2-465f-8b7a-77b7722a83e4",
   "metadata": {},
   "outputs": [
    {
     "data": {
      "text/plain": [
       "[2, 1]"
      ]
     },
     "execution_count": 913,
     "metadata": {},
     "output_type": "execute_result"
    }
   ],
   "source": [
    "t1.get_order()"
   ]
  },
  {
   "cell_type": "code",
   "execution_count": 914,
   "id": "52bd3f42-a605-48a9-8461-2fa100eee95f",
   "metadata": {},
   "outputs": [
    {
     "data": {
      "text/plain": [
       "2"
      ]
     },
     "execution_count": 914,
     "metadata": {},
     "output_type": "execute_result"
    }
   ],
   "source": [
    "t1.get_count()"
   ]
  },
  {
   "cell_type": "code",
   "execution_count": 915,
   "id": "f11d1ad3-26a0-48cc-ad9e-72fd12ee6f82",
   "metadata": {},
   "outputs": [],
   "source": [
    "t3 = Team(3)"
   ]
  },
  {
   "cell_type": "code",
   "execution_count": 916,
   "id": "7acaf807-3cc8-47f4-ae11-953ec5c13bac",
   "metadata": {},
   "outputs": [
    {
     "data": {
      "text/plain": [
       "3"
      ]
     },
     "execution_count": 916,
     "metadata": {},
     "output_type": "execute_result"
    }
   ],
   "source": [
    "t3.get_count()"
   ]
  },
  {
   "cell_type": "code",
   "execution_count": 917,
   "id": "086d159a-97bb-45f4-aef7-d06a7b51fdb2",
   "metadata": {},
   "outputs": [],
   "source": [
    "t3.set_order(t3.number)"
   ]
  },
  {
   "cell_type": "code",
   "execution_count": 918,
   "id": "78b3ed66-79cd-48ac-b4f0-2f31426f8cfe",
   "metadata": {},
   "outputs": [
    {
     "data": {
      "text/plain": [
       "[2, 1, 3]"
      ]
     },
     "execution_count": 918,
     "metadata": {},
     "output_type": "execute_result"
    }
   ],
   "source": [
    "t3.get_order()"
   ]
  },
  {
   "cell_type": "code",
   "execution_count": 1,
   "id": "53106ffc-fabb-4b31-a903-0a68083642eb",
   "metadata": {},
   "outputs": [],
   "source": [
    "class Team:\n",
    "    \"\"\"팀 객체를 만듭니다.\"\"\"\n",
    "    # 클래스 속성\n",
    "    count = 0 # Team 클래스로부터 초기화된 인스턴스 개수\n",
    "    order = []\n",
    "    \n",
    "    def __init__(self,number,name=None,member=set()):\n",
    "        self.number = number\n",
    "        self.name = name\n",
    "        self.member = member\n",
    "        Team.count += 1\n",
    "        \n",
    "    def add_member(self,name):\n",
    "        # 해당 이름이 팀에 있을 경우\n",
    "        if name in self.__member:\n",
    "            print(f'{name} 님은 이미 팀에 있습니다.')\n",
    "            return\n",
    "        # 해당 이름이 팀에 없을 경우\n",
    "        else:\n",
    "            self.__member.add(name)\n",
    "            print(f'{name} 님을 {self.number} 팀에 추가했습니다.')\n",
    "            \n",
    "    def rm_member(self,name):\n",
    "        if name in self.__member:\n",
    "            self.__member.discard(name)\n",
    "            print(f'{name} 님을 {self.number} 팀에서 삭제했습니다.')\n",
    "        else:\n",
    "            print(f'{name} 님은 해당팀에 없습니다.')\n",
    "    def get_member(self):\n",
    "        return self.__member\n",
    "    \n",
    "    def get_count(self):\n",
    "        return self.count\n",
    "    \n",
    "    def get_order(self):\n",
    "        return self.order\n",
    "    \n",
    "    def set_order(self,number):\n",
    "        if number in self.order:\n",
    "            self.order.remove(number)\n",
    "        self.order.append(number)\n",
    "        \n",
    "    # 내장 함수(Built-in function) len(Team()) --> 파이썬이 __len__(self)를 찾아서 실행\n",
    "    def __len__(self):\n",
    "        return len(self.__member)"
   ]
  },
  {
   "cell_type": "code",
   "execution_count": 7,
   "id": "f28a856d-d598-49b2-8e90-d872e005ae54",
   "metadata": {},
   "outputs": [],
   "source": [
    "t1 = Team(1) # Team 클래스로부터 인스턴스를 초기화한다. 초기화 할 때 넣는 인자 값은 __init__(self, 여기로 전달됨)  \n",
    "# 초기화될 때 1번이자 최초로 실행되는게  __init__(self) 이 특별 메서드이다."
   ]
  },
  {
   "cell_type": "markdown",
   "id": "ce507308-8da0-4518-a588-da5417bec883",
   "metadata": {
    "tags": []
   },
   "source": [
    "#### 팀 인원 짜기\n",
    "- 이름 목록을 리스트로 받습니다.\n",
    "- 팀 개수도 입력받습니다.\n",
    "- 팀간 인원이 최대 1명 초과로 차이나지 않습니다."
   ]
  },
  {
   "cell_type": "code",
   "execution_count": 11,
   "id": "836573a7-0616-44c1-9fef-bdb5b88d570b",
   "metadata": {},
   "outputs": [],
   "source": [
    "import numpy as np\n",
    "class Team:\n",
    "    \"\"\"팀 객체를 만듭니다.\"\"\"\n",
    "    # 클래스 속성\n",
    "    count = 0 # Team 클래스로부터 초기화된 인스턴스 개수\n",
    "    order = []\n",
    "    \n",
    "    def __init__(self,number,name=None,member=set()):\n",
    "        self.number = number\n",
    "        self.name = name\n",
    "        self.member = member\n",
    "        Team.count += 1\n",
    "        \n",
    "    def add_member(self,name):\n",
    "        # 해당 이름이 팀에 있을 경우\n",
    "        if name in self.__member:\n",
    "            print(f'{name} 님은 이미 팀에 있습니다.')\n",
    "            return\n",
    "        # 해당 이름이 팀에 없을 경우\n",
    "        else:\n",
    "            self.__member.add(name)\n",
    "            print(f'{name} 님을 {self.number} 팀에 추가했습니다.')\n",
    "            \n",
    "    def rm_member(self,name):\n",
    "        if name in self.__member:\n",
    "            self.__member.discard(name)\n",
    "            print(f'{name} 님을 {self.number} 팀에서 삭제했습니다.')\n",
    "        else:\n",
    "            print(f'{name} 님은 해당팀에 없습니다.')\n",
    "    def get_member(self):\n",
    "        return self.__member\n",
    "    \n",
    "    def get_count(self):\n",
    "        return self.count\n",
    "    \n",
    "    def get_order(self):\n",
    "        return self.order\n",
    "    \n",
    "    def set_order(self,number):\n",
    "        if number in self.order:\n",
    "            self.order.remove(number)\n",
    "        self.order.append(number)\n",
    "        \n",
    "    # 내장 함수(Built-in function) len(Team()) --> 파이썬이 __len__(self)를 찾아서 실행\n",
    "    def __len__(self):\n",
    "        return len(self.__member)"
   ]
  },
  {
   "cell_type": "code",
   "execution_count": null,
   "id": "ec1430ac-ceb7-4778-b5cf-0a55f048f781",
   "metadata": {},
   "outputs": [],
   "source": [
    "\"강지인 김강직 김경목 김기훈 김민수 김예린 김유림 김호영 도강현 맹지호 민병창 서영호 신제우 우상욱 윤규헌 이민호 이병호 이선주 이호진 허경모 황도희\".split(),5"
   ]
  },
  {
   "cell_type": "code",
   "execution_count": 12,
   "id": "12212ad2-2119-4a07-bf6a-62a8b193b6a5",
   "metadata": {},
   "outputs": [],
   "source": [
    "class TeamBuilder:\n",
    "    has_team=False\n",
    "    teams=[]\n",
    "    def __init__(self,members, team_count):\n",
    "        self.members = members\n",
    "        self.team_count = team_count\n",
    "        self.has_team = False\n",
    "        self.teams = []\n",
    "    def create_teams(self):\n",
    "        self.teams = []\n",
    "        t1 = list(np.random.choice(self.members, 4, replace=False))\n",
    "        self.members = list(set(self.members)-set(t1))\n",
    "        t2 = list(np.random.choice(self.members, 4, replace=False))\n",
    "        self.members = list(set(self.members)-set(t2))\n",
    "        t3 = list(np.random.choice(self.members, 4, replace=False))\n",
    "        self.members = list(set(self.members)-set(t3))\n",
    "        t4 = list(np.random.choice(self.members, 4, replace=False))\n",
    "        self.members = list(set(self.members)-set(t4))\n",
    "        t5 = self.members\n",
    "        self.members = t1,t2,t3,t4,t5\n",
    "        print(f'기존의 팀 정보를 지우고 새로 생성합니다.')\n",
    "        print(f'팀을 {self.team_count}개 생성했습니다.')\n",
    "    def show_team_info(self):\n",
    "        for _ in range(self.team_count):\n",
    "            print(f'{_+1}팀은 {self.members[_]} 입니다.')"
   ]
  },
  {
   "cell_type": "code",
   "execution_count": 13,
   "id": "6126db45-886c-4d86-b70d-42a93e999455",
   "metadata": {},
   "outputs": [],
   "source": [
    "tb = TeamBuilder(\"강지인 김강직 김경목 김기훈 김민수 김예린 김유림 김호영 도강현 맹지호 민병창 서영호 신제우 우상욱 윤규헌 이민호 이병호 이선주 이호진 허경모 황도희\".split(),5)"
   ]
  },
  {
   "cell_type": "code",
   "execution_count": 14,
   "id": "8ae1b0a3-7896-4782-a4c2-31fd002b4f3a",
   "metadata": {},
   "outputs": [
    {
     "name": "stdout",
     "output_type": "stream",
     "text": [
      "기존의 팀 정보를 지우고 새로 생성합니다.\n",
      "팀을 5개 생성했습니다.\n"
     ]
    }
   ],
   "source": [
    "tb.create_teams()"
   ]
  },
  {
   "cell_type": "code",
   "execution_count": 15,
   "id": "de2a25d9-715c-41b6-93c8-14ac3815120e",
   "metadata": {},
   "outputs": [
    {
     "name": "stdout",
     "output_type": "stream",
     "text": [
      "1팀은 ['김강직', '허경모', '김기훈', '김민수'] 입니다.\n",
      "2팀은 ['민병창', '도강현', '김유림', '김예린'] 입니다.\n",
      "3팀은 ['서영호', '윤규헌', '이선주', '맹지호'] 입니다.\n",
      "4팀은 ['신제우', '강지인', '이민호', '이병호'] 입니다.\n",
      "5팀은 ['김호영', '김경목', '우상욱', '황도희', '이호진'] 입니다.\n"
     ]
    }
   ],
   "source": [
    "tb.show_team_info()"
   ]
  },
  {
   "cell_type": "markdown",
   "id": "1d08bc7f-82be-476c-8a4b-5dd8e4b6245d",
   "metadata": {},
   "source": [
    "### 인원짜기 진짜 정답"
   ]
  },
  {
   "cell_type": "code",
   "execution_count": 1,
   "id": "85412527-0911-4ae8-8443-7ba2ac5b780b",
   "metadata": {},
   "outputs": [
    {
     "name": "stdout",
     "output_type": "stream",
     "text": [
      "윤규헌님을 1팀에 추가했습니다.\n",
      "윤규헌님은 이미 팀에 있습니다.\n",
      "1\n",
      "이호진님을 1팀에 추가했습니다.\n",
      "2\n",
      "이기수님을 1팀에 추가했습니다.\n",
      "이기수님을 1팀에서 삭제했습니다.\n",
      "이기수님은 해당 팀에 없습니다.\n",
      "order: [2, 1]\n",
      "count: 2\n",
      "count: 3\n",
      "order: [2, 1, 3]\n"
     ]
    }
   ],
   "source": [
    "class Team:\n",
    "    '''팀 객체를 만듭니다.'''\n",
    "    count = 0\n",
    "    order = []\n",
    "    def __init__(self,number):\n",
    "        self.number = number\n",
    "        self.name = None\n",
    "        self.__member = set()\n",
    "        Team.count +=1\n",
    "                         \n",
    "    def __len__(self): # 내장 함수(Built-in function) len(Team())-->파이썬 __len__(self)를 찾아서 실행\n",
    "        return len(self.__member)\n",
    "        \n",
    "    def add_member(self,name):\n",
    "        if name in self.__member:\n",
    "            print(f\"{name}님은 이미 팀에 있습니다.\")\n",
    "        else:\n",
    "            self.__member.add(name)\n",
    "            print(f\"{name}님을 {self.number}팀에 추가했습니다.\")\n",
    "            \n",
    "    def rm_member(self,name):\n",
    "        if name in self.__member:\n",
    "            self.__member.remove(name)\n",
    "            print(f\"{name}님을 {self.number}팀에서 삭제했습니다.\")\n",
    "        else:\n",
    "            print(f\"{name}님은 해당 팀에 없습니다.\")\n",
    "    \n",
    "    def get_count(self):\n",
    "        print(f\"count: {Team.count}\")\n",
    "        \n",
    "    def get_order(self):\n",
    "        print(f\"order: {Team.order}\")\n",
    "    \n",
    "    def set_order(self,num):\n",
    "        if num in Team.order:\n",
    "            Team.order.remove(num)\n",
    "        Team.order.append(num)\n",
    "        \n",
    "    def print_teams(self):\n",
    "        for i in self.__member:\n",
    "            print(i,end=' ')\n",
    "        print()\n",
    "        \n",
    "t1 = Team(1)\n",
    "t1.add_member('윤규헌')\n",
    "t1.add_member('윤규헌')\n",
    "print(len(t1))\n",
    "t1.add_member('이호진')\n",
    "print(len(t1))\n",
    "t1.add_member(\"이기수\")\n",
    "t1.rm_member('이기수')\n",
    "t1.rm_member('이기수')\n",
    "\n",
    "t2 = Team(2)\n",
    "t2.set_order(t2.number)\n",
    "t1.set_order(t1.number)\n",
    "t1.get_order()\n",
    "t1.get_count()\n",
    "t3 = Team(3)\n",
    "t3.get_count()\n",
    "t3.set_order(t3.number)\n",
    "t3.get_order()"
   ]
  },
  {
   "cell_type": "code",
   "execution_count": 2,
   "id": "ebf162ac-1138-4399-b26b-b3cc61ec0ea7",
   "metadata": {},
   "outputs": [
    {
     "name": "stdout",
     "output_type": "stream",
     "text": [
      "우상욱님을 0팀에 추가했습니다.\n",
      "황도희님을 1팀에 추가했습니다.\n",
      "김기훈님을 2팀에 추가했습니다.\n",
      "윤규헌님을 3팀에 추가했습니다.\n",
      "김민수님을 4팀에 추가했습니다.\n",
      "맹지호님을 0팀에 추가했습니다.\n",
      "이병호님을 1팀에 추가했습니다.\n",
      "김예린님을 2팀에 추가했습니다.\n",
      "김유림님을 3팀에 추가했습니다.\n",
      "김호영님을 4팀에 추가했습니다.\n",
      "허경모님을 0팀에 추가했습니다.\n",
      "이민호님을 1팀에 추가했습니다.\n",
      "이호진님을 2팀에 추가했습니다.\n",
      "신제우님을 3팀에 추가했습니다.\n",
      "강지인님을 4팀에 추가했습니다.\n",
      "도강현님을 0팀에 추가했습니다.\n",
      "서영호님을 1팀에 추가했습니다.\n",
      "김경목님을 2팀에 추가했습니다.\n",
      "김강직님을 3팀에 추가했습니다.\n",
      "이선주님을 4팀에 추가했습니다.\n",
      "민병창님을 0팀에 추가했습니다.\n",
      "Team : 1  우상욱 도강현 허경모 민병창 맹지호 \n",
      "Team : 2  이민호 서영호 황도희 이병호 \n",
      "Team : 3  김예린 김기훈 이호진 김경목 \n",
      "Team : 4  신제우 김강직 김유림 윤규헌 \n",
      "Team : 5  이선주 강지인 김민수 김호영 \n"
     ]
    }
   ],
   "source": [
    "import numpy as np\n",
    "class TeamBuilder:\n",
    "    has_team = False\n",
    "    teams = []\n",
    "    \n",
    "    def __init__(self,members,team_count):\n",
    "        self.members = members\n",
    "        self.team_count = team_count\n",
    "        self.create_team()\n",
    "        \n",
    "    def create_team(self):\n",
    "        nums = np.arange(len(self.members))\n",
    "        np.random.shuffle(nums)\n",
    "        count =0\n",
    "        if TeamBuilder.has_team:\n",
    "            TeamBuilder.teams = []\n",
    "            \n",
    "        for i in range(self.team_count):\n",
    "            TeamBuilder.teams.append(Team(i))\n",
    "        \n",
    "        for i in nums:\n",
    "            if count == self.team_count:\n",
    "                count = 0\n",
    "            \n",
    "            TeamBuilder.teams[count].add_member(self.members[i])\n",
    "            count+=1\n",
    "        has_team = True\n",
    "                \n",
    "    def show_team_info(self):\n",
    "        for i in range(self.team_count):\n",
    "            print('Team :',i+1,' ',end='')\n",
    "            TeamBuilder.teams[i].print_teams()\n",
    "        \n",
    "members =list(\"강지인 김강직 김경목 김기훈 김민수 김예린 김유림 김호영 도강현 맹지호 민병창 서영호 신제우 우상욱 윤규헌 이민호 이병호 이선주 이호진 허경모 황도희\".split())\n",
    "builder1 = TeamBuilder(members,5)\n",
    "builder1.show_team_info()"
   ]
  },
  {
   "cell_type": "code",
   "execution_count": null,
   "id": "c0dfd4fa-cf72-4e14-b133-4ca17c2350d7",
   "metadata": {},
   "outputs": [],
   "source": []
  }
 ],
 "metadata": {
  "kernelspec": {
   "display_name": "Python 3 (ipykernel)",
   "language": "python",
   "name": "python3"
  },
  "language_info": {
   "codemirror_mode": {
    "name": "ipython",
    "version": 3
   },
   "file_extension": ".py",
   "mimetype": "text/x-python",
   "name": "python",
   "nbconvert_exporter": "python",
   "pygments_lexer": "ipython3",
   "version": "3.9.13"
  }
 },
 "nbformat": 4,
 "nbformat_minor": 5
}
