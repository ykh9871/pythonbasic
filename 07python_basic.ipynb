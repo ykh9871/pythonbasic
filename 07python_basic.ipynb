{
 "cells": [
  {
   "cell_type": "markdown",
   "id": "4266d24f-5a6f-4dbf-83d0-ab32552002ea",
   "metadata": {
    "jp-MarkdownHeadingCollapsed": true,
    "tags": []
   },
   "source": [
    "### random 라이브러리\n",
    "- random.randint(시작 정수, 끝정수)"
   ]
  },
  {
   "cell_type": "code",
   "execution_count": 5,
   "id": "174a60b8-3602-44db-b989-d2bdeb95ec7f",
   "metadata": {},
   "outputs": [
    {
     "name": "stdout",
     "output_type": "stream",
     "text": [
      "[1, 1, 2, 2, 1, 1, 1, 2, 1, 2]\n"
     ]
    }
   ],
   "source": [
    "import random\n",
    "random_list = [random.randint(1,2) for _ in range(10)]\n",
    "print(random_list)"
   ]
  },
  {
   "cell_type": "markdown",
   "id": "80a6fdd0-d640-4bb6-876e-eaeeae2c994b",
   "metadata": {
    "jp-MarkdownHeadingCollapsed": true,
    "tags": []
   },
   "source": [
    "#### random 연습문제"
   ]
  },
  {
   "cell_type": "code",
   "execution_count": 59,
   "id": "530683df-8b36-465f-a4fe-3ccc96f1e7aa",
   "metadata": {},
   "outputs": [
    {
     "name": "stdin",
     "output_type": "stream",
     "text": [
      "로또 번호 몇 개 드릴까요? 7\n"
     ]
    },
    {
     "name": "stdout",
     "output_type": "stream",
     "text": [
      "[5, 16, 18, 27, 32, 34]\n",
      "[3, 15, 31, 33, 37, 40]\n",
      "[14, 21, 22, 29, 30, 45]\n",
      "[3, 11, 32, 35, 36, 39]\n",
      "[7, 15, 17, 34, 36, 40]\n",
      "[12, 33, 37, 38, 42, 45]\n",
      "[5, 17, 21, 31, 33, 34]\n"
     ]
    }
   ],
   "source": [
    "import random\n",
    "\n",
    "count = int(input(\"로또 번호 몇 개 드릴까요?\"))\n",
    "\n",
    "for i  in range(count):\n",
    "    lotto_numbers = []\n",
    "    while len(lotto_numbers) < 6:\n",
    "        lotto_number = random.randint(1,45)\n",
    "        if lotto_number not in lotto_numbers:\n",
    "            lotto_numbers.append(lotto_number)\n",
    "    lotto_numbers.sort()\n",
    "    print(lotto_numbers)"
   ]
  },
  {
   "cell_type": "code",
   "execution_count": 68,
   "id": "f34a11f2-a5f1-44a1-94f1-0e4c4a98a928",
   "metadata": {},
   "outputs": [
    {
     "name": "stdin",
     "output_type": "stream",
     "text": [
      "로또 번호 몇 개 드릴까요? 7\n"
     ]
    },
    {
     "name": "stdout",
     "output_type": "stream",
     "text": [
      "[3, 13, 15, 30, 32, 42]\n",
      "[5, 7, 14, 30, 38, 41]\n",
      "[2, 5, 20, 28, 35, 37]\n",
      "[4, 7, 9, 12, 18, 29]\n",
      "[13, 14, 16, 23, 36, 41]\n",
      "[8, 27, 30, 31, 34, 38]\n",
      "[6, 9, 17, 18, 29, 44]\n"
     ]
    }
   ],
   "source": [
    "import random\n",
    "\n",
    "count = int(input(\"로또 번호 몇 개 드릴까요?\"))\n",
    "\n",
    "for i  in range(count):\n",
    "    lotto = [j for j in range(1,45)]\n",
    "    lotto_numbers = []\n",
    "    for _ in range(6):\n",
    "        lotto_number = lotto[random.randint(1, len(lotto) - 1)]\n",
    "        lotto_numbers.append(lotto_number)\n",
    "        lotto.remove(lotto_number)\n",
    "        lotto_numbers.sort()\n",
    "    print(lotto_numbers)"
   ]
  },
  {
   "cell_type": "code",
   "execution_count": 87,
   "id": "5b315d46-0982-4540-ae33-1ff38c18871f",
   "metadata": {},
   "outputs": [
    {
     "name": "stdin",
     "output_type": "stream",
     "text": [
      "로또 번호 몇 개 드릴까요? 5\n"
     ]
    },
    {
     "name": "stdout",
     "output_type": "stream",
     "text": [
      "[8, 9, 17, 21, 31, 36]\n",
      "[11, 15, 19, 36, 37, 41]\n",
      "[5, 6, 14, 18, 36, 45]\n",
      "[6, 13, 15, 29, 33, 41]\n",
      "[3, 11, 15, 24, 26, 39]\n"
     ]
    }
   ],
   "source": [
    "import random\n",
    "\n",
    "times = int(input(\"로또 번호 몇 개 드릴까요?\"))\n",
    "\n",
    "for i in range(times): # i 개수만큼 반복\n",
    "    lotto_list = [random.randint(1,45) for k in range(6)] # k = 로또 번호가 6개니까 반복 변수로\n",
    "    for j in range(len(lotto_list)): #로또번호 리스트안의 개수만큼 반복\n",
    "        if lotto_list.count(lotto_list[j]) > 1: #중복되는 값이 1초과라면\n",
    "            for i in range(lotto_list.count(lotto_list[j])-1): #중복되는 값만큼 반복 중복되는 값이 1개는 남아야 하니까 -1\n",
    "                lotto_list.remove(lotto_list[j]) #중복되는 값을 제거\n",
    "                lotto_list.append(random.randint(1,45)) #새로운 랜덤값을 추가\n",
    "                break\n",
    "        else:\n",
    "            lotto_list.sort()\n",
    "    \n",
    "    print(lotto_list)"
   ]
  },
  {
   "cell_type": "markdown",
   "id": "e6f27150-5b08-4d34-a022-1bdb189da3c2",
   "metadata": {
    "jp-MarkdownHeadingCollapsed": true,
    "tags": []
   },
   "source": [
    "### Set 자료형  \n",
    "- 딕셔너리처럼 중괄호를 사용해서 생성합니다.\n",
    "- 중복값을 갖지 않습니다\n",
    "```python\n",
    "set_variable = {키1,키2,키3,... }  \n",
    "```  \n",
    "- set comrehention  \n",
    "```python\n",
    "set_variable = {expression for 변수 in iterable if 조건식}\n",
    "\n",
    "```"
   ]
  },
  {
   "cell_type": "markdown",
   "id": "b3a138a8-c081-426b-adb9-d3fa8ca84562",
   "metadata": {
    "jp-MarkdownHeadingCollapsed": true,
    "tags": []
   },
   "source": [
    "#### 기본"
   ]
  },
  {
   "cell_type": "code",
   "execution_count": 2,
   "id": "06158a5e-184a-4495-b3f7-d6f6d3099083",
   "metadata": {},
   "outputs": [
    {
     "name": "stdout",
     "output_type": "stream",
     "text": [
      "<class 'dict'>\n",
      "<class 'set'>\n"
     ]
    }
   ],
   "source": [
    "print(type({}))\n",
    "print(type({1}))"
   ]
  },
  {
   "cell_type": "code",
   "execution_count": 3,
   "id": "9c6a36ec-5611-4a69-a487-da2d93b3433b",
   "metadata": {},
   "outputs": [
    {
     "name": "stdout",
     "output_type": "stream",
     "text": [
      "set() <class 'set'>\n",
      "{1}\n"
     ]
    }
   ],
   "source": [
    "set_variable = set()\n",
    "print(set_variable, type(set_variable))\n",
    "# 정수 1 값을 set_variable에 5차례 넣습니다.\n",
    "[set_variable.add(1) for _ in range(5)]\n",
    "\n",
    "# 출력하면 중복된 값 없이 출력된다.\n",
    "print(set_variable)"
   ]
  },
  {
   "cell_type": "code",
   "execution_count": 4,
   "id": "820c2f0d-1c36-4b8f-89b6-8902e49ef34f",
   "metadata": {},
   "outputs": [
    {
     "name": "stdout",
     "output_type": "stream",
     "text": [
      "{1, 2, 3, 4, 5, 6, 7, 8, 9}\n",
      "{1, 2, 3, 4, 5, 6, 7, 8}\n"
     ]
    },
    {
     "ename": "KeyError",
     "evalue": "'없는 값'",
     "output_type": "error",
     "traceback": [
      "\u001b[1;31m---------------------------------------------------------------------------\u001b[0m",
      "\u001b[1;31mKeyError\u001b[0m                                  Traceback (most recent call last)",
      "\u001b[1;32m~\\AppData\\Local\\Temp\\ipykernel_12552\\3550970912.py\u001b[0m in \u001b[0;36m<module>\u001b[1;34m\u001b[0m\n\u001b[0;32m      3\u001b[0m \u001b[0mset_variable\u001b[0m\u001b[1;33m.\u001b[0m\u001b[0mremove\u001b[0m\u001b[1;33m(\u001b[0m\u001b[1;36m9\u001b[0m\u001b[1;33m)\u001b[0m\u001b[1;33m\u001b[0m\u001b[1;33m\u001b[0m\u001b[0m\n\u001b[0;32m      4\u001b[0m \u001b[0mprint\u001b[0m\u001b[1;33m(\u001b[0m\u001b[0mset_variable\u001b[0m\u001b[1;33m)\u001b[0m\u001b[1;33m\u001b[0m\u001b[1;33m\u001b[0m\u001b[0m\n\u001b[1;32m----> 5\u001b[1;33m \u001b[0mset_variable\u001b[0m\u001b[1;33m.\u001b[0m\u001b[0mremove\u001b[0m\u001b[1;33m(\u001b[0m\u001b[1;34m'없는 값'\u001b[0m\u001b[1;33m)\u001b[0m\u001b[1;33m\u001b[0m\u001b[1;33m\u001b[0m\u001b[0m\n\u001b[0m",
      "\u001b[1;31mKeyError\u001b[0m: '없는 값'"
     ]
    }
   ],
   "source": [
    "set_variable = {1,2,3,4,5,6,7,8,9}\n",
    "print(set_variable)\n",
    "set_variable.remove(9)\n",
    "print(set_variable)\n",
    "set_variable.remove('없는 값')"
   ]
  },
  {
   "cell_type": "code",
   "execution_count": 5,
   "id": "60777e05-aaa1-4121-9759-382c2301781c",
   "metadata": {},
   "outputs": [
    {
     "name": "stdout",
     "output_type": "stream",
     "text": [
      "{1, 2, 3, 4, 5, 6, 7, 8}\n",
      "{1, 2, 3, 4, 5, 6, 7}\n"
     ]
    }
   ],
   "source": [
    "print(set_variable)\n",
    "set_variable.discard(8)\n",
    "print(set_variable)\n",
    "set_variable.discard('없는 값')"
   ]
  },
  {
   "cell_type": "code",
   "execution_count": 8,
   "id": "ef50558c-3596-475e-bf11-1048e8bb5d0c",
   "metadata": {},
   "outputs": [
    {
     "name": "stdout",
     "output_type": "stream",
     "text": [
      "{0, 3, 6, 9, 12, 15, 18}\n"
     ]
    },
    {
     "data": {
      "text/plain": [
       "[0, 3, 6, 9, 12, 15, 18]"
      ]
     },
     "execution_count": 8,
     "metadata": {},
     "output_type": "execute_result"
    }
   ],
   "source": [
    "set_variable = {_ for _ in range(20) if _ % 3 == 0}\n",
    "print(set_variable)\n",
    "[set_variable.pop() for _ in range(len(set_variable))]"
   ]
  },
  {
   "cell_type": "code",
   "execution_count": 9,
   "id": "ac01eba1-431d-4a6a-be38-66687453de13",
   "metadata": {},
   "outputs": [
    {
     "name": "stdout",
     "output_type": "stream",
     "text": [
      "set() 0\n"
     ]
    },
    {
     "ename": "KeyError",
     "evalue": "'pop from an empty set'",
     "output_type": "error",
     "traceback": [
      "\u001b[1;31m---------------------------------------------------------------------------\u001b[0m",
      "\u001b[1;31mKeyError\u001b[0m                                  Traceback (most recent call last)",
      "\u001b[1;32m~\\AppData\\Local\\Temp\\ipykernel_12552\\3251311548.py\u001b[0m in \u001b[0;36m<module>\u001b[1;34m\u001b[0m\n\u001b[0;32m      1\u001b[0m \u001b[0mprint\u001b[0m\u001b[1;33m(\u001b[0m\u001b[0mset_variable\u001b[0m\u001b[1;33m,\u001b[0m \u001b[0mlen\u001b[0m\u001b[1;33m(\u001b[0m\u001b[0mset_variable\u001b[0m\u001b[1;33m)\u001b[0m\u001b[1;33m)\u001b[0m\u001b[1;33m\u001b[0m\u001b[1;33m\u001b[0m\u001b[0m\n\u001b[1;32m----> 2\u001b[1;33m \u001b[0mset_variable\u001b[0m\u001b[1;33m.\u001b[0m\u001b[0mpop\u001b[0m\u001b[1;33m(\u001b[0m\u001b[1;33m)\u001b[0m\u001b[1;33m\u001b[0m\u001b[1;33m\u001b[0m\u001b[0m\n\u001b[0m",
      "\u001b[1;31mKeyError\u001b[0m: 'pop from an empty set'"
     ]
    }
   ],
   "source": [
    "print(set_variable, len(set_variable))\n",
    "set_variable.pop()"
   ]
  },
  {
   "cell_type": "code",
   "execution_count": 10,
   "id": "bf00fd2b-cde5-43e8-86b2-210011e765c9",
   "metadata": {},
   "outputs": [
    {
     "name": "stdout",
     "output_type": "stream",
     "text": [
      "{0, 3, 6, 9, 12, 15, 18}\n",
      "set()\n"
     ]
    }
   ],
   "source": [
    "set_variable = {_ for _ in range(20) if _ % 3 == 0}\n",
    "print(set_variable)\n",
    "set_variable.clear()\n",
    "print(set_variable)"
   ]
  },
  {
   "cell_type": "code",
   "execution_count": 119,
   "id": "c3f952c8-035f-41fc-aee7-aa28902a1a27",
   "metadata": {},
   "outputs": [
    {
     "name": "stdout",
     "output_type": "stream",
     "text": [
      "{0, 3, 6, 9, 12, 15, 18} 개수는 7 입니다.\n"
     ]
    }
   ],
   "source": [
    "set_variable = {_ for _ in range(20) if _ % 3 == 0}\n",
    "print(set_variable, \"개수는\", len(set_variable), \"입니다.\")"
   ]
  },
  {
   "cell_type": "code",
   "execution_count": 212,
   "id": "dc065a08-981b-4a9b-83f0-fac4eea07f53",
   "metadata": {},
   "outputs": [
    {
     "name": "stdout",
     "output_type": "stream",
     "text": [
      "A: {1, 2, 3, 4} \n",
      "B {2, 4, 5}\n",
      "set.union(A, B): {1, 2, 3, 4, 5}\n",
      "A | B: {1, 2, 3, 4, 5}\n"
     ]
    }
   ],
   "source": [
    "A = {_ for _ in range(1,5)}\n",
    "B = {_ for _ in range(2,6) if _ != 3}\n",
    "print(\"A:\", A, \"\\nB\", B)\n",
    "print(\"set.union(A, B):\", set.union(A, B))\n",
    "print(\"A | B:\", A | B)"
   ]
  },
  {
   "cell_type": "code",
   "execution_count": 11,
   "id": "be3a4f4e-bd1f-4669-9327-b02829091338",
   "metadata": {},
   "outputs": [
    {
     "name": "stdout",
     "output_type": "stream",
     "text": [
      "A: {1, 2, 3, 4} \n",
      "B {2, 4, 5}\n",
      "set.intersection(A, B): {2, 4}\n",
      "A - B: {2, 4}\n"
     ]
    }
   ],
   "source": [
    "A = {_ for _ in range(1,5)}\n",
    "B = {_ for _ in range(2,6) if _ != 3}\n",
    "print(\"A:\", A, \"\\nB\", B)\n",
    "print(\"set.intersection(A, B):\", set.intersection(A, B))\n",
    "print(\"A - B:\", A & B)"
   ]
  },
  {
   "cell_type": "code",
   "execution_count": 123,
   "id": "a1d44a84-7aef-4407-95d0-82a0207ac0cb",
   "metadata": {},
   "outputs": [
    {
     "name": "stdout",
     "output_type": "stream",
     "text": [
      "A: {1, 2, 3, 4} \n",
      "B {2, 4, 5}\n",
      "set.difference(A, B): {1, 3}\n",
      "A - B: {1, 3}\n"
     ]
    }
   ],
   "source": [
    "A = {_ for _ in range(1,5)}\n",
    "B = {_ for _ in range(2,6) if _ != 3}\n",
    "print(\"A:\", A, \"\\nB\", B)\n",
    "print(\"set.difference(A, B):\", set.difference(A, B))\n",
    "print(\"A - B:\", A - B)"
   ]
  },
  {
   "cell_type": "code",
   "execution_count": 127,
   "id": "b7720a84-7fd1-4980-9e3f-79127bc1ebcf",
   "metadata": {},
   "outputs": [
    {
     "name": "stdout",
     "output_type": "stream",
     "text": [
      "A: {1, 2, 3, 4} \n",
      "B {2, 4, 5}\n",
      "set.symmetric_difference(A, B): {1, 3, 5}\n",
      "A ^ B: {1, 3, 5}\n"
     ]
    }
   ],
   "source": [
    "A = {_ for _ in range(1,5)}\n",
    "B = {_ for _ in range(2,6) if _ != 3}\n",
    "print(\"A:\", A, \"\\nB\", B)\n",
    "print(\"set.symmetric_difference(A, B):\", set.symmetric_difference(A, B))\n",
    "print(\"A ^ B:\", A ^ B)"
   ]
  },
  {
   "cell_type": "code",
   "execution_count": 128,
   "id": "ceafaaca-ce73-42c4-9e5e-cf570689f568",
   "metadata": {},
   "outputs": [
    {
     "name": "stdout",
     "output_type": "stream",
     "text": [
      "A: {1, 2, 3, 4} \n",
      "B {2, 4, 5}\n",
      "A.update(B): {1, 2, 3, 4, 5}\n"
     ]
    }
   ],
   "source": [
    "A = {_ for _ in range(1,5)}\n",
    "B = {_ for _ in range(2,6) if _ != 3}\n",
    "print(\"A:\", A, \"\\nB\", B)\n",
    "A.update(B) # A /= B 와 같습니다.\n",
    "print(\"A.update(B):\", A)"
   ]
  },
  {
   "cell_type": "code",
   "execution_count": 12,
   "id": "e05654b9-de17-40d7-bca2-545583ef3f8c",
   "metadata": {},
   "outputs": [
    {
     "name": "stdout",
     "output_type": "stream",
     "text": [
      "A: {1, 2, 3, 4} \n",
      "B {2, 4, 5}\n",
      "A.update(B): {2, 4}\n"
     ]
    }
   ],
   "source": [
    "A = {_ for _ in range(1,5)}\n",
    "B = {_ for _ in range(2,6) if _ != 3}\n",
    "print(\"A:\", A, \"\\nB\", B)\n",
    "A.intersection_update(B) # A &= B 와 같습니다.\n",
    "print(\"A.update(B):\", A)"
   ]
  },
  {
   "cell_type": "code",
   "execution_count": 14,
   "id": "8cba08bf-7d10-46ff-b803-a2e97b13b112",
   "metadata": {},
   "outputs": [
    {
     "name": "stdout",
     "output_type": "stream",
     "text": [
      "A: {1, 2, 3, 4} \n",
      "B {2, 4, 5}\n",
      "A.update(B): {1, 3}\n"
     ]
    }
   ],
   "source": [
    "A = {_ for _ in range(1,5)}\n",
    "B = {_ for _ in range(2,6) if _ != 3}\n",
    "print(\"A:\", A, \"\\nB\", B)\n",
    "A.difference_update(B) # A -= B 와 같습니다.\n",
    "print(\"A.update(B):\", A)"
   ]
  },
  {
   "cell_type": "code",
   "execution_count": 16,
   "id": "3b830e98-2400-4d24-a0dc-60a817ed2d51",
   "metadata": {},
   "outputs": [
    {
     "name": "stdout",
     "output_type": "stream",
     "text": [
      "A: {1, 2, 3, 4} \n",
      "B {2, 4, 5}\n",
      "A.update(B): {1, 3, 5}\n"
     ]
    }
   ],
   "source": [
    "A = {_ for _ in range(1,5)}\n",
    "B = {_ for _ in range(2,6) if _ != 3}\n",
    "print(\"A:\", A, \"\\nB\", B)\n",
    "A.symmetric_difference_update(B) # A ^= B 와 같습니다.\n",
    "print(\"A.update(B):\", A)"
   ]
  },
  {
   "cell_type": "code",
   "execution_count": 17,
   "id": "f965d743-3118-4257-922f-380d81c884dd",
   "metadata": {},
   "outputs": [
    {
     "name": "stdout",
     "output_type": "stream",
     "text": [
      "A: {0, 1, 2} \n",
      "B: {0, 1, 2}\n",
      "B.issubset(A): True\n"
     ]
    }
   ],
   "source": [
    "A = {_ for _ in range(0,3)}\n",
    "B = {_ for _ in range(0,3)}\n",
    "print(\"A:\", A, \"\\nB:\", B)\n",
    "print(\"B.issubset(A):\", A.issubset(B))"
   ]
  },
  {
   "cell_type": "code",
   "execution_count": 19,
   "id": "b4e52cc5-6522-42c4-8194-5d1061c8f466",
   "metadata": {},
   "outputs": [
    {
     "name": "stdout",
     "output_type": "stream",
     "text": [
      "A: {0, 1, 2} \n",
      "B: {0, 1}\n",
      "B.issubset(A): True\n"
     ]
    }
   ],
   "source": [
    "A = {_ for _ in range(0,3)}\n",
    "B = {_ for _ in range(0,2)}\n",
    "print(\"A:\", A, \"\\nB:\", B)\n",
    "print(\"B.issubset(A):\", B.issubset(A))"
   ]
  },
  {
   "cell_type": "code",
   "execution_count": 22,
   "id": "a473bef4-0599-4734-8b2a-01af3e79c7c0",
   "metadata": {},
   "outputs": [
    {
     "name": "stdout",
     "output_type": "stream",
     "text": [
      "A: {0, 1, 2} \n",
      "B: {0, 1, 2}\n",
      "B.issupersubset(A): True\n"
     ]
    }
   ],
   "source": [
    "A = {_ for _ in range(0,3)}\n",
    "B = {_ for _ in range(0,3)}\n",
    "print(\"A:\", A, \"\\nB:\", B)\n",
    "print(\"B.issupersubset(A):\", A.issuperset(B))"
   ]
  },
  {
   "cell_type": "code",
   "execution_count": 23,
   "id": "9cba1432-dbb0-47cf-9758-ed0fccaf2563",
   "metadata": {},
   "outputs": [
    {
     "name": "stdout",
     "output_type": "stream",
     "text": [
      "A: {0, 1, 2} \n",
      "B: {0, 1}\n",
      "B.issupersubset(A): True\n"
     ]
    }
   ],
   "source": [
    "A = {_ for _ in range(0,3)}\n",
    "B = {_ for _ in range(0,2)}\n",
    "print(\"A:\", A, \"\\nB:\", B)\n",
    "print(\"B.issupersubset(A):\", A.issuperset(B))"
   ]
  },
  {
   "cell_type": "code",
   "execution_count": 137,
   "id": "67bd672d-9624-4f6d-8a9d-f5f404791240",
   "metadata": {},
   "outputs": [
    {
     "name": "stdout",
     "output_type": "stream",
     "text": [
      "A: {0, 1, 2} \n",
      "B: {0, 1, 2}\n",
      "A > B False\n",
      "A < B False\n"
     ]
    }
   ],
   "source": [
    "A = {_ for _ in range(0,3)}\n",
    "B = {_ for _ in range(0,3)}\n",
    "print(\"A:\", A, \"\\nB:\", B)\n",
    "print(\"A > B\", A > B)\n",
    "print(\"A < B\", A < B)"
   ]
  },
  {
   "cell_type": "code",
   "execution_count": 138,
   "id": "f45b4fb7-7256-42ef-aa2f-c2c42c1aa6f4",
   "metadata": {},
   "outputs": [
    {
     "name": "stdout",
     "output_type": "stream",
     "text": [
      "A: {0, 1, 2} \n",
      "B: {0, 1}\n",
      "A > B True\n",
      "A < B False\n"
     ]
    }
   ],
   "source": [
    "A = {_ for _ in range(0,3)}\n",
    "B = {_ for _ in range(0,2)}\n",
    "print(\"A:\", A, \"\\nB:\", B)\n",
    "print(\"A > B\", A > B)\n",
    "print(\"A < B\", A < B)"
   ]
  },
  {
   "cell_type": "code",
   "execution_count": 24,
   "id": "baf7ec32-696f-4f01-83a9-ee89cfafd303",
   "metadata": {},
   "outputs": [
    {
     "name": "stdout",
     "output_type": "stream",
     "text": [
      "A: {0, 1, 2} \n",
      "B: {0, 1, 2}\n",
      "A == B : True\n"
     ]
    }
   ],
   "source": [
    "A = {_ for _ in range(0,3)}\n",
    "B = {_ for _ in range(0,3)}\n",
    "print(\"A:\", A, \"\\nB:\", B)\n",
    "print(\"A == B :\", A == B)"
   ]
  },
  {
   "cell_type": "code",
   "execution_count": 143,
   "id": "043b37f4-ec9f-468a-98d8-13b5603fc69b",
   "metadata": {},
   "outputs": [
    {
     "name": "stdout",
     "output_type": "stream",
     "text": [
      "A: {0, 1, 2} \n",
      "B: {3, 4, 5}\n",
      "A.isdisjoint(B): True\n"
     ]
    }
   ],
   "source": [
    "A = {_ for _ in range(0,3)}\n",
    "B = {_ for _ in range(3,6)}\n",
    "print(\"A:\", A, \"\\nB:\", B)\n",
    "print(\"A.isdisjoint(B):\", A.isdisjoint(B))"
   ]
  },
  {
   "cell_type": "markdown",
   "id": "5ecd0a29-f0ef-409a-b658-9adcbcc78bf5",
   "metadata": {
    "jp-MarkdownHeadingCollapsed": true,
    "tags": []
   },
   "source": [
    "#### set응용 연습문제"
   ]
  },
  {
   "cell_type": "code",
   "execution_count": 187,
   "id": "4ba9d08e-b9b7-471e-aa73-6c06f45fe0b7",
   "metadata": {},
   "outputs": [
    {
     "name": "stdin",
     "output_type": "stream",
     "text": [
      "로또 번호 몇 개 드릴까요? 7\n"
     ]
    },
    {
     "name": "stdout",
     "output_type": "stream",
     "text": [
      "[7, 16, 19, 24, 26, 35]\n",
      "[3, 11, 18, 22, 24, 45]\n",
      "[14, 20, 35, 36, 37, 39]\n",
      "[6, 14, 25, 32, 33, 42]\n",
      "[2, 8, 18, 23, 33, 42]\n",
      "[2, 5, 7, 12, 13, 23]\n",
      "[17, 18, 26, 34, 37, 40]\n"
     ]
    }
   ],
   "source": [
    "import random\n",
    "count = int(input(\"로또 번호 몇 개 드릴까요?\"))\n",
    "lotto = set()\n",
    "for i  in range(count):\n",
    "    lotto = {random.randint(1,45) for k in range(6)}\n",
    "    while len(lotto) != 6:\n",
    "        lotto = {random.randint(1,45) for k in range(6)}\n",
    "    result = list(lotto)\n",
    "    result.sort()\n",
    "    print(result)"
   ]
  },
  {
   "cell_type": "code",
   "execution_count": 197,
   "id": "78a2b237-2e6b-4844-b496-dc5cb574fb03",
   "metadata": {},
   "outputs": [
    {
     "name": "stdout",
     "output_type": "stream",
     "text": [
      "{1, 2, 3, 4}\n"
     ]
    }
   ],
   "source": [
    "list_sample = [1,2,2,3,3,3,4,4,4,4]\n",
    "list_sample = set([1,2,2,3,3,3,4,4,4,4])\n",
    "print(list_sample)"
   ]
  },
  {
   "cell_type": "code",
   "execution_count": 211,
   "id": "982ad1e0-67de-43fe-81f9-b19910c0a1e3",
   "metadata": {},
   "outputs": [
    {
     "name": "stdout",
     "output_type": "stream",
     "text": [
      "{75, 45, 15, 90, 60, 30}\n"
     ]
    }
   ],
   "source": [
    "set_5 = {_ for _ in range(1,101) if _ % 3 == 0}\n",
    "set_3 = {_ for _ in range(1,101) if _ % 5 == 0}\n",
    "result_set = set.intersection(set_3, set_5)\n",
    "\n",
    "print(result_set)"
   ]
  },
  {
   "cell_type": "code",
   "execution_count": 285,
   "id": "68902123-c979-480e-b861-f7d8746a666c",
   "metadata": {},
   "outputs": [
    {
     "name": "stdout",
     "output_type": "stream",
     "text": [
      "개인정보 조회, 구매관리, 근태관리, 시스템 관리, 인사관리, 회계 관리"
     ]
    }
   ],
   "source": [
    "role_admin = (\"회계 관리\", \"인사관리\", \"구매관리\", \"시스템 관리\")\n",
    "role_hr = (\"인사관리\", \"개인정보 조회\", \"회계 관리\", \"근태관리\")\n",
    "role_user = (\"개인정보 조회\", \"근태관리\")\n",
    "\n",
    "menus = list(set(role_user+role_hr+role_admin))\n",
    "menus.sort()\n",
    "end_char = \", \"\n",
    "for menu in menus:\n",
    "    if menus[-1] == menu:\n",
    "        end_char = \"\"\n",
    "    print(menu, end=end_char)"
   ]
  },
  {
   "cell_type": "markdown",
   "id": "eb431341-1ab2-460a-b696-bf8045ff2074",
   "metadata": {
    "jp-MarkdownHeadingCollapsed": true,
    "tags": []
   },
   "source": [
    "### 복습 문제"
   ]
  },
  {
   "cell_type": "code",
   "execution_count": 338,
   "id": "efa000ca-a15d-4719-a699-0d20cb64c26f",
   "metadata": {},
   "outputs": [
    {
     "name": "stdin",
     "output_type": "stream",
     "text": [
      "찾는 범위:  100\n"
     ]
    },
    {
     "name": "stdout",
     "output_type": "stream",
     "text": [
      "2 3 5 7 11 13 17 \n",
      "19 23 29 31 37 41 43 \n",
      "47 53 59 61 67 71 73 \n",
      "79 83 89 97 "
     ]
    }
   ],
   "source": [
    "def isPrime(num):\n",
    "    primes = [False, False] + [True]*(num-1)\n",
    "    for i in range(2, num+1):\n",
    "        if primes[i]:\n",
    "            for _ in range(i * 2, num+1, i):\n",
    "                primes[_] = False\n",
    "    return primes[num]\n",
    "get = int(input(\"찾는 범위: \"))\n",
    "lst = [_ for _ in range(2, get) if isPrime(_)]\n",
    "count = 0\n",
    "for _ in lst:\n",
    "    count+=1\n",
    "    print(_,end=\" \")\n",
    "    if count%7 == 0:\n",
    "        print()"
   ]
  },
  {
   "cell_type": "code",
   "execution_count": 339,
   "id": "572eea1b-858a-4ed2-8dd0-1241a853597a",
   "metadata": {},
   "outputs": [
    {
     "name": "stdout",
     "output_type": "stream",
     "text": [
      "2부터 입력하신 수까지의 모든 소수를 찾는 프로그램입니다.\n"
     ]
    },
    {
     "name": "stdin",
     "output_type": "stream",
     "text": [
      "찾는 범위를 입력하세요 : 100\n"
     ]
    },
    {
     "name": "stdout",
     "output_type": "stream",
     "text": [
      "2 3 5 7 11 13 17 \n",
      "19 23 29 31 37 41 43 \n",
      "47 53 59 61 67 71 73 \n",
      "79 83 89 97 "
     ]
    }
   ],
   "source": [
    "num = print(\"2부터 입력하신 수까지의 모든 소수를 찾는 프로그램입니다.\")\n",
    "inData = int(input(\"찾는 범위를 입력하세요 :\"))\n",
    "i = 2\n",
    "line = 0\n",
    "while i <= inData:\n",
    "    j = 2\n",
    "    while j <= i:\n",
    "        if i % j == 0:\n",
    "            break\n",
    "        j += 1\n",
    "    if i == j:\n",
    "        print(i, end=\" \")\n",
    "        line += 1\n",
    "        if line == 7:\n",
    "            line = 0\n",
    "            print()\n",
    "    i += 1"
   ]
  },
  {
   "cell_type": "markdown",
   "id": "eb311e7c-e525-40a1-bb8a-810e3fef9d1f",
   "metadata": {
    "jp-MarkdownHeadingCollapsed": true,
    "tags": []
   },
   "source": [
    "### str.join(list)\n",
    "- str 요소들로 이뤄진 list를 합쳐 하나의 문자열로 나타냅니다.\n",
    "### 응용문제"
   ]
  },
  {
   "cell_type": "code",
   "execution_count": 103,
   "id": "4ca8e9d8-66e1-4b2e-bf7d-0e58e11a2366",
   "metadata": {},
   "outputs": [
    {
     "name": "stdout",
     "output_type": "stream",
     "text": [
      "list_stars = ['a', 'b', 'c', 'd', 'e', 'f', 'g', 'h', 'i', 'j', 'k', 'l', 'm', 'n', 'o', 'p', 'q', 'r', 's', 't', 'u', 'v', 'w', 'x', 'y', 'z']\n",
      "\n",
      "whole_str = a*b*c*d*e*f*g*h*i*j*k*l*m*n*o*p*q*r*s*t*u*v*w*x*y*z\n"
     ]
    }
   ],
   "source": [
    "list_strs = [_ for _ in \"abcdefghijklmnopqrstuvwxyz\"]\n",
    "print(f'list_stars = {list_strs}')\n",
    "whole_str = \"*\".join(list_strs)\n",
    "print(f'\\nwhole_str = {whole_str}')"
   ]
  },
  {
   "cell_type": "code",
   "execution_count": 68,
   "id": "443b7a16-8c71-40f9-9267-c71abb6c2519",
   "metadata": {},
   "outputs": [
    {
     "name": "stdin",
     "output_type": "stream",
     "text": [
      "입력한 숫자는 다음과 같습니다. 40\n"
     ]
    },
    {
     "name": "stdout",
     "output_type": "stream",
     "text": [
      "그보다 큽니다.\n"
     ]
    },
    {
     "name": "stdin",
     "output_type": "stream",
     "text": [
      "입력한 숫자는 다음과 같습니다. 50\n"
     ]
    },
    {
     "name": "stdout",
     "output_type": "stream",
     "text": [
      "그보다 큽니다.\n"
     ]
    },
    {
     "name": "stdin",
     "output_type": "stream",
     "text": [
      "입력한 숫자는 다음과 같습니다. 70\n"
     ]
    },
    {
     "name": "stdout",
     "output_type": "stream",
     "text": [
      "그보다 큽니다.\n"
     ]
    },
    {
     "name": "stdin",
     "output_type": "stream",
     "text": [
      "입력한 숫자는 다음과 같습니다. 90\n"
     ]
    },
    {
     "name": "stdout",
     "output_type": "stream",
     "text": [
      "그보다 작습니다.\n"
     ]
    },
    {
     "name": "stdin",
     "output_type": "stream",
     "text": [
      "입력한 숫자는 다음과 같습니다. 80\n"
     ]
    },
    {
     "name": "stdout",
     "output_type": "stream",
     "text": [
      "그보다 큽니다.\n"
     ]
    },
    {
     "name": "stdin",
     "output_type": "stream",
     "text": [
      "입력한 숫자는 다음과 같습니다. 88\n"
     ]
    },
    {
     "name": "stdout",
     "output_type": "stream",
     "text": [
      "그보다 작습니다.\n"
     ]
    },
    {
     "name": "stdin",
     "output_type": "stream",
     "text": [
      "입력한 숫자는 다음과 같습니다. 87\n"
     ]
    },
    {
     "name": "stdout",
     "output_type": "stream",
     "text": [
      "그보다 작습니다.\n"
     ]
    },
    {
     "name": "stdin",
     "output_type": "stream",
     "text": [
      "입력한 숫자는 다음과 같습니다. 86\n"
     ]
    },
    {
     "name": "stdout",
     "output_type": "stream",
     "text": [
      "그보다 작습니다.\n"
     ]
    },
    {
     "name": "stdin",
     "output_type": "stream",
     "text": [
      "입력한 숫자는 다음과 같습니다. 85\n"
     ]
    },
    {
     "name": "stdout",
     "output_type": "stream",
     "text": [
      "그보다 작습니다.\n"
     ]
    },
    {
     "name": "stdin",
     "output_type": "stream",
     "text": [
      "입력한 숫자는 다음과 같습니다. 82\n"
     ]
    },
    {
     "name": "stdout",
     "output_type": "stream",
     "text": [
      "그보다 작습니다.\n"
     ]
    },
    {
     "name": "stdin",
     "output_type": "stream",
     "text": [
      "입력한 숫자는 다음과 같습니다. 81\n"
     ]
    },
    {
     "name": "stdout",
     "output_type": "stream",
     "text": [
      "맞췄습니다!\n",
      "\n",
      "11번만에 맞추셨습니다.\n",
      "입력한 숫자는 다음과 같습니다. 40,50,70,90,80,88,87,86,85,82,81\n"
     ]
    }
   ],
   "source": [
    "import random\n",
    "count = 0\n",
    "use_num = []\n",
    "ran_num = [random.randint(1,100)]\n",
    "\n",
    "while True:\n",
    "    user_num = int(input(\"입력한 숫자는 다음과 같습니다.\"))\n",
    "    use_num.append(str(user_num))\n",
    "    count += 1\n",
    "    if user_num > 100 or user_num < 1:\n",
    "        print('1~100 사이의 숫자를 입력하세요.')\n",
    "    elif ran_num[0] < user_num:\n",
    "        print('그보다 작습니다.')\n",
    "    elif ran_num[0] > user_num:\n",
    "        print('그보다 큽니다.')\n",
    "    else:\n",
    "        print('맞췄습니다!')\n",
    "        break\n",
    "    \n",
    "        \n",
    "num_list = \",\".join(use_num)\n",
    "print(f'\\n{count}번만에 맞추셨습니다.')\n",
    "print(f'입력한 숫자는 다음과 같습니다. {num_list}')"
   ]
  },
  {
   "cell_type": "code",
   "execution_count": 124,
   "id": "139c23d3-2697-4e3e-b88b-1c456e0a1354",
   "metadata": {},
   "outputs": [
    {
     "name": "stdin",
     "output_type": "stream",
     "text": [
      "숫자를 입력해주세요 5\n"
     ]
    },
    {
     "name": "stdout",
     "output_type": "stream",
     "text": [
      "그보다 큽니다.\n"
     ]
    },
    {
     "name": "stdin",
     "output_type": "stream",
     "text": [
      "숫자를 입력해주세요 8\n"
     ]
    },
    {
     "name": "stdout",
     "output_type": "stream",
     "text": [
      "그보다 큽니다.\n"
     ]
    },
    {
     "name": "stdin",
     "output_type": "stream",
     "text": [
      "숫자를 입력해주세요 50\n"
     ]
    },
    {
     "name": "stdout",
     "output_type": "stream",
     "text": [
      "그보다 큽니다.\n"
     ]
    },
    {
     "name": "stdin",
     "output_type": "stream",
     "text": [
      "숫자를 입력해주세요 90\n"
     ]
    },
    {
     "name": "stdout",
     "output_type": "stream",
     "text": [
      "그보다 작습니다.\n"
     ]
    },
    {
     "name": "stdin",
     "output_type": "stream",
     "text": [
      "숫자를 입력해주세요 80\n"
     ]
    },
    {
     "name": "stdout",
     "output_type": "stream",
     "text": [
      "그보다 작습니다.\n"
     ]
    },
    {
     "name": "stdin",
     "output_type": "stream",
     "text": [
      "숫자를 입력해주세요 77\n"
     ]
    },
    {
     "name": "stdout",
     "output_type": "stream",
     "text": [
      "그보다 작습니다.\n"
     ]
    },
    {
     "name": "stdin",
     "output_type": "stream",
     "text": [
      "숫자를 입력해주세요 60\n"
     ]
    },
    {
     "name": "stdout",
     "output_type": "stream",
     "text": [
      "그보다 작습니다.\n"
     ]
    },
    {
     "name": "stdin",
     "output_type": "stream",
     "text": [
      "숫자를 입력해주세요 58\n"
     ]
    },
    {
     "name": "stdout",
     "output_type": "stream",
     "text": [
      "그보다 작습니다.\n"
     ]
    },
    {
     "name": "stdin",
     "output_type": "stream",
     "text": [
      "숫자를 입력해주세요 54\n"
     ]
    },
    {
     "name": "stdout",
     "output_type": "stream",
     "text": [
      "그보다 큽니다.\n"
     ]
    },
    {
     "name": "stdin",
     "output_type": "stream",
     "text": [
      "숫자를 입력해주세요 56\n"
     ]
    },
    {
     "name": "stdout",
     "output_type": "stream",
     "text": [
      "그보다 작습니다.\n"
     ]
    },
    {
     "name": "stdin",
     "output_type": "stream",
     "text": [
      "숫자를 입력해주세요 55\n"
     ]
    },
    {
     "name": "stdout",
     "output_type": "stream",
     "text": [
      "맞췄습니다!\n",
      "\n",
      "11번 만에 맞추셨습니다\n",
      "입력한 숫자는 다음과 같습니다. 5, 8, 50, 90, 80, 77, 60, 58, 54, 56, 55\n"
     ]
    }
   ],
   "source": [
    "import random\n",
    "correct_num = random.randint(1, 101)\n",
    "count = 0\n",
    "num_list = []\n",
    "\n",
    "while True:\n",
    "    num = str(input(\"숫자를 입력해주세요\"))\n",
    "    count += 1\n",
    "    num_list.append(num)\n",
    "    if int(num) < 1 or int(num) > 100:\n",
    "        print('1~100 사이의 숫자를 입력하세요.')\n",
    "    else:\n",
    "        if int(num) > correct_num:\n",
    "            print('그보다 작습니다.')\n",
    "        elif int(num) < correct_num:\n",
    "            print('그보다 큽니다.')\n",
    "        elif int(num) == correct_num:\n",
    "            print('맞췄습니다!')\n",
    "            break\n",
    "            \n",
    "whole_num = ', '.join(num_list)\n",
    "print(f'\\n{count}번 만에 맞추셨습니다')\n",
    "print(f'입력한 숫자는 다음과 같습니다. {whole_num}')"
   ]
  },
  {
   "cell_type": "markdown",
   "id": "ba9477eb-4451-43e0-906c-8dc5285032d6",
   "metadata": {
    "jp-MarkdownHeadingCollapsed": true,
    "tags": []
   },
   "source": [
    "## def"
   ]
  },
  {
   "cell_type": "markdown",
   "id": "e2987a73-bb5e-4352-b3fb-346971d17cbe",
   "metadata": {
    "jp-MarkdownHeadingCollapsed": true,
    "tags": []
   },
   "source": [
    "#### 기본"
   ]
  },
  {
   "cell_type": "code",
   "execution_count": 631,
   "id": "35bc41c3-2db3-46b1-b2c1-22b39c755597",
   "metadata": {},
   "outputs": [],
   "source": [
    "def function_name(message):\n",
    "    x = input(message)\n",
    "    print(x)\n",
    "    print(x)"
   ]
  },
  {
   "cell_type": "code",
   "execution_count": 131,
   "id": "20d6e3cd-494b-48ac-9254-2aefc0ac3ecb",
   "metadata": {},
   "outputs": [
    {
     "name": "stdin",
     "output_type": "stream",
     "text": [
      "값을 입력해주세요 1\n"
     ]
    },
    {
     "name": "stdout",
     "output_type": "stream",
     "text": [
      "1\n",
      "1\n"
     ]
    }
   ],
   "source": [
    "function_name(\"값을 입력해주세요\")"
   ]
  },
  {
   "cell_type": "code",
   "execution_count": 132,
   "id": "55ea550e-bacf-42bd-8818-a4371d6a6b20",
   "metadata": {},
   "outputs": [],
   "source": [
    "# 함수 정의절\n",
    "def function_name(positional, positional2, *args, keyword = 1, **kargs):\n",
    "    pass # body"
   ]
  },
  {
   "cell_type": "code",
   "execution_count": 133,
   "id": "5f15a324-4fef-425c-9dd6-f8a86b835e2b",
   "metadata": {},
   "outputs": [],
   "source": [
    "def isPrime(num):\n",
    "    pass    "
   ]
  },
  {
   "cell_type": "code",
   "execution_count": 354,
   "id": "a81213c3-19d0-4ca1-a582-0fd36d7ce182",
   "metadata": {},
   "outputs": [],
   "source": [
    "def get_grade(score):\n",
    "    \"\"\"\n",
    "    숫자로된 점수를 넣으시면 학점의 결과를 반환합니다.\n",
    "    \"\"\"\n",
    "    if 85 <= score <= 100:\n",
    "        return \"A\"\n",
    "    elif 70 <= score <= 84:\n",
    "        return \"B\"\n",
    "    elif 55 <= score <= 69:\n",
    "        return \"C\"\n",
    "    elif 40 <= score <= 54:\n",
    "        return \"D\"\n",
    "    elif 0 <= score <= 39:\n",
    "        return \"F\""
   ]
  },
  {
   "cell_type": "code",
   "execution_count": 351,
   "id": "487235a4-27a1-4f12-bdf0-807107cb62c7",
   "metadata": {},
   "outputs": [
    {
     "data": {
      "text/plain": [
       "'A'"
      ]
     },
     "execution_count": 351,
     "metadata": {},
     "output_type": "execute_result"
    }
   ],
   "source": [
    "get_grade()"
   ]
  },
  {
   "cell_type": "code",
   "execution_count": 344,
   "id": "42fbb5d9-2d87-4697-8127-37fa1556d61f",
   "metadata": {},
   "outputs": [
    {
     "name": "stdout",
     "output_type": "stream",
     "text": [
      "\n",
      "    숫자로된 점수를 넣으시면 학점의 결과를 반환합니다.\n",
      "    \n"
     ]
    }
   ],
   "source": [
    "print(get_grade.__doc__)"
   ]
  },
  {
   "cell_type": "code",
   "execution_count": 335,
   "id": "3d385784-1b1f-4e69-90b0-f7635eb35b84",
   "metadata": {},
   "outputs": [
    {
     "name": "stdout",
     "output_type": "stream",
     "text": [
      "A\n"
     ]
    }
   ],
   "source": [
    "result = get_grade(100) # \"A\"\n",
    "print(result)"
   ]
  },
  {
   "cell_type": "code",
   "execution_count": 341,
   "id": "26d05ca4-456d-41bd-b1df-2a5d541bab33",
   "metadata": {},
   "outputs": [
    {
     "name": "stdout",
     "output_type": "stream",
     "text": [
      "[70, 81, 85, 14, 11, 73, 80, 50, 19, 28, 53, 25, 6, 57, 2, 90, 21, 28, 75, 96]\n"
     ]
    }
   ],
   "source": [
    "import random\n",
    "# 20명의 점수를 입력했다.\n",
    "scores = [random.randint(1,100) for _ in range(20)]\n",
    "print(scores)"
   ]
  },
  {
   "cell_type": "code",
   "execution_count": 342,
   "id": "f8452030-a1ff-4dd1-8df5-6b917e621e7f",
   "metadata": {},
   "outputs": [
    {
     "name": "stdout",
     "output_type": "stream",
     "text": [
      "['B', 'B', 'A', 'F', 'F', 'B', 'B', 'D', 'F', 'F', 'D', 'F', 'F', 'C', 'F', 'A', 'F', 'F', 'B', 'A']\n"
     ]
    }
   ],
   "source": [
    "grades = list(map(get_grade, scores))\n",
    "print(grades)"
   ]
  },
  {
   "cell_type": "code",
   "execution_count": 391,
   "id": "163ab395-aa49-49fd-974b-281aedd919c8",
   "metadata": {},
   "outputs": [],
   "source": [
    "# 함수 정의절\n",
    "# 인자(=매개변수, parameter)\n",
    "def get_grade(score, student_number, name=\"홍길동\"):\n",
    "    \"\"\"\n",
    "    숫자로된 점수를 넣으시면 학점의 결과를 반환합니다.\n",
    "    \"\"\"\n",
    "    print(f'{student_number}, {name}의 성적을 확인합니다.')\n",
    "    if 85 <= score <= 100:\n",
    "        return \"A\"\n",
    "    elif 70 <= score <= 84:\n",
    "        return \"B\"\n",
    "    elif 55 <= score <= 69:\n",
    "        return \"C\"\n",
    "    elif 40 <= score <= 54:\n",
    "        return \"D\"\n",
    "    elif 0 <= score <= 39:\n",
    "        return \"F\""
   ]
  },
  {
   "cell_type": "code",
   "execution_count": 394,
   "id": "87ca7c99-2a3e-4ffa-a44f-2782f2eddf29",
   "metadata": {},
   "outputs": [
    {
     "name": "stdout",
     "output_type": "stream",
     "text": [
      "981228_1XXXXXX, 윤규헌의 성적을 확인합니다.\n"
     ]
    },
    {
     "data": {
      "text/plain": [
       "'A'"
      ]
     },
     "execution_count": 394,
     "metadata": {},
     "output_type": "execute_result"
    }
   ],
   "source": [
    "# 함수 호출\n",
    "# 인수(argument)\n",
    "get_grade(score = 100, name=\"윤규헌\", student_number=\"981228_1XXXXXX\")\n",
    "          # positional_argument / keyword_argument"
   ]
  },
  {
   "cell_type": "markdown",
   "id": "4b93692f-d326-4a33-ae76-a7302cb15160",
   "metadata": {
    "jp-MarkdownHeadingCollapsed": true,
    "tags": []
   },
   "source": [
    "- positional-only : /문자를 기준으로 왼편에 온다."
   ]
  },
  {
   "cell_type": "code",
   "execution_count": null,
   "id": "436519cd-0b42-4217-bb8b-9bcd37431fec",
   "metadata": {},
   "outputs": [],
   "source": [
    "# 함수 정의절\n",
    "# 인자(=매개변수, parameter) - non-default, default 종류\n",
    "\n",
    "def add_number(number2, number1 = 3, /):\n",
    "    \"\"\"\n",
    "    숫자 number1과 숫자 number2를 전달 받아 더한 결과를 반환합니다.\n",
    "    \"\"\"\n",
    "    return number1 + number2"
   ]
  },
  {
   "cell_type": "code",
   "execution_count": null,
   "id": "44b335e0-e291-45c9-a608-65d59a71016f",
   "metadata": {},
   "outputs": [
    {
     "name": "stdout",
     "output_type": "stream",
     "text": [
      "\n",
      "    숫자 number1과 숫자 number2를 전달 받아 더한 결과를 반환합니다.\n",
      "    \n"
     ]
    }
   ],
   "source": [
    "print(add_number.__doc__)"
   ]
  },
  {
   "cell_type": "code",
   "execution_count": null,
   "id": "730f393c-a0a1-4cb4-b7b7-9dcaa72c079a",
   "metadata": {},
   "outputs": [],
   "source": [
    "# 함수 호출\n",
    "# 인수(argument) - positional argument, key word argument\n",
    "result = add_number(2) #소괄호--> call"
   ]
  },
  {
   "cell_type": "code",
   "execution_count": null,
   "id": "ec25c457-2c01-4d62-bdce-462434835ea0",
   "metadata": {},
   "outputs": [
    {
     "name": "stdout",
     "output_type": "stream",
     "text": [
      "5\n"
     ]
    }
   ],
   "source": [
    "print(result)"
   ]
  },
  {
   "cell_type": "markdown",
   "id": "e9a24d93-d3fb-4565-a726-24da164be65a",
   "metadata": {},
   "source": [
    "- keyword-only : *문자를 기준으로 오른편에 온다."
   ]
  },
  {
   "cell_type": "code",
   "execution_count": null,
   "id": "6ed6c0d5-29c9-4a89-8965-b7cc46d1d4e1",
   "metadata": {},
   "outputs": [],
   "source": [
    "# 함수 정의절\n",
    "# 인자(=매개변수, parameter) - non-default, default 종류\n",
    "\n",
    "def minus_number(*, number1, number2=3):\n",
    "    \"\"\"\n",
    "    숫자 number1과 숫자 number2를 전달 받아 뺀한 결과를 반환합니다.\n",
    "    \"\"\"\n",
    "    return number1 - number2"
   ]
  },
  {
   "cell_type": "code",
   "execution_count": null,
   "id": "8aa4f73f-2f90-4d0e-a08a-f836669047a3",
   "metadata": {},
   "outputs": [
    {
     "data": {
      "text/plain": [
       "15"
      ]
     },
     "execution_count": 120,
     "metadata": {},
     "output_type": "execute_result"
    }
   ],
   "source": [
    "# 인수(argument)  \n",
    "# positional argument, key word argument\n",
    "minus_number(number1 = 20, number2 = 5)"
   ]
  },
  {
   "cell_type": "code",
   "execution_count": null,
   "id": "ac9c5349-3556-46ac-b805-23795768a686",
   "metadata": {},
   "outputs": [],
   "source": [
    "# 함수 정의절\n",
    "# 인자(=매개변수, parameter) - non-default, default 종류\n",
    "# positional-only : /문자를 기준으로 왼편에 온다.\n",
    "# keyword-only : *문자를 기준으로 오른편에 온다.\n",
    "def multi_number(number1, /, *, number2=3):\n",
    "    \"\"\"\n",
    "    숫자 number1과 숫자 number2를 전달 받아 곱한 결과를 반환합니다.\n",
    "    \"\"\"\n",
    "    return number1 * number2"
   ]
  },
  {
   "cell_type": "code",
   "execution_count": null,
   "id": "7d7c00e1-a962-4a10-99d4-c0fb950e2d10",
   "metadata": {},
   "outputs": [
    {
     "data": {
      "text/plain": [
       "30"
      ]
     },
     "execution_count": 454,
     "metadata": {},
     "output_type": "execute_result"
    }
   ],
   "source": [
    "multi_number(3, number2 = 10)"
   ]
  },
  {
   "cell_type": "code",
   "execution_count": null,
   "id": "cdd66da5-b42f-4874-9728-b51c830d3bf8",
   "metadata": {},
   "outputs": [],
   "source": [
    "def string_line(str_value, /, str_len=70, *, sep=\"#\"):\n",
    "    \"\"\"\n",
    "    str_value는 가운데 오는 텍스트입니다.\n",
    "    str_len은 텍스트의 설정할 길이입니다.\n",
    "    sep는 구분선을 그을때 쓰는 문자입니다.\n",
    "    \"\"\"\n",
    "    print(str_value.center(str_len,sep))"
   ]
  },
  {
   "cell_type": "code",
   "execution_count": null,
   "id": "5fb71366-d414-452c-9fd6-8d986ecd02bc",
   "metadata": {},
   "outputs": [
    {
     "name": "stdout",
     "output_type": "stream",
     "text": [
      "************************구분************************\n"
     ]
    }
   ],
   "source": [
    "string_line(\"구분\", 50, sep=\"*\")"
   ]
  },
  {
   "cell_type": "code",
   "execution_count": null,
   "id": "5f6e0b09-b8a3-4a80-a20e-1264c1bc8628",
   "metadata": {},
   "outputs": [
    {
     "data": {
      "text/plain": [
       "50"
      ]
     },
     "execution_count": 460,
     "metadata": {},
     "output_type": "execute_result"
    }
   ],
   "source": [
    "len('************************구분************************')"
   ]
  },
  {
   "cell_type": "code",
   "execution_count": null,
   "id": "b4ace245-8fce-4e2b-a84d-a584ceb8ba6b",
   "metadata": {},
   "outputs": [
    {
     "name": "stdout",
     "output_type": "stream",
     "text": [
      "------------------------------------------------절취선-------------------------------------------------\n"
     ]
    }
   ],
   "source": [
    "string_line(\"절취선\", str_len=100, sep=\"-\")"
   ]
  },
  {
   "cell_type": "code",
   "execution_count": null,
   "id": "43f4ffc3-fe88-4364-a22e-5eff173ac2e0",
   "metadata": {},
   "outputs": [
    {
     "data": {
      "text/plain": [
       "100"
      ]
     },
     "execution_count": 463,
     "metadata": {},
     "output_type": "execute_result"
    }
   ],
   "source": [
    "len('------------------------------------------------절취선-------------------------------------------------')"
   ]
  },
  {
   "cell_type": "code",
   "execution_count": null,
   "id": "76c97341-0061-43ba-b68f-b45ab292b507",
   "metadata": {},
   "outputs": [
    {
     "name": "stdout",
     "output_type": "stream",
     "text": [
      "1 1 1 1 1 1 1 1 1 1 1 1 1 1\n"
     ]
    }
   ],
   "source": [
    "print(\"1\", \"1\", \"1\", \"1\", \"1\", \"1\", \"1\", \"1\", \"1\", \"1\", \"1\", \"1\", \"1\", \"1\", )"
   ]
  },
  {
   "cell_type": "markdown",
   "id": "711ec1be-5b70-4012-9a2d-7bc7e3518cd0",
   "metadata": {
    "jp-MarkdownHeadingCollapsed": true,
    "tags": []
   },
   "source": [
    "#### *args: var positional 가변위치"
   ]
  },
  {
   "cell_type": "code",
   "execution_count": null,
   "id": "6d5a16b9-a29f-485a-80f3-b9eab3f633e0",
   "metadata": {},
   "outputs": [],
   "source": [
    "def test_func(a,b,c, *args):\n",
    "    print(f'a: {a} b: {b} c: {c}')\n",
    "    print(type(args))\n",
    "    print(args)"
   ]
  },
  {
   "cell_type": "code",
   "execution_count": null,
   "id": "2a6881bc-1ecb-4a59-b70e-e893662cc210",
   "metadata": {},
   "outputs": [
    {
     "name": "stdout",
     "output_type": "stream",
     "text": [
      "a: a 위치입니다 b: b 위치입니다 c: c 위치입니다\n",
      "<class 'tuple'>\n",
      "('여기는', '어디일까요', '몇개', '더')\n"
     ]
    }
   ],
   "source": [
    "test_func(\"a 위치입니다\", \"b 위치입니다\", \"c 위치입니다\", \"여기는\", \"어디일까요\", \"몇개\", \"더\")"
   ]
  },
  {
   "cell_type": "markdown",
   "id": "ab75792b-81e0-4eae-ab53-2c47253f48d4",
   "metadata": {
    "jp-MarkdownHeadingCollapsed": true,
    "tags": []
   },
   "source": [
    "#### **kargs: var keyword 가변 키워드"
   ]
  },
  {
   "cell_type": "code",
   "execution_count": null,
   "id": "bdb715ed-8b5b-4e83-b7b6-6b3ac6ab8204",
   "metadata": {},
   "outputs": [],
   "source": [
    "def test_func2(a=\"a\",b=\"b\", **kargs):\n",
    "    print(a,b)\n",
    "    print(type(kargs))\n",
    "    print(kargs)"
   ]
  },
  {
   "cell_type": "code",
   "execution_count": null,
   "id": "4f592fd9-c780-4b5d-b0d2-618cbf7f6f90",
   "metadata": {},
   "outputs": [
    {
     "name": "stdout",
     "output_type": "stream",
     "text": [
      "ab bc\n",
      "<class 'dict'>\n",
      "{'key': 'value', 'key2': 'value2'}\n"
     ]
    }
   ],
   "source": [
    "test_func2(a=\"ab\", b=\"bc\", key=\"value\", key2=\"value2\")"
   ]
  },
  {
   "cell_type": "markdown",
   "id": "e527832f-0c90-43eb-928b-7411442bb575",
   "metadata": {
    "jp-MarkdownHeadingCollapsed": true,
    "tags": []
   },
   "source": [
    "### 함수 정의"
   ]
  },
  {
   "cell_type": "markdown",
   "id": "debb0e73-0647-47c0-98e0-cca6cb67f2ec",
   "metadata": {
    "jp-MarkdownHeadingCollapsed": true,
    "tags": []
   },
   "source": [
    "#### 기본"
   ]
  },
  {
   "cell_type": "code",
   "execution_count": null,
   "id": "39ef92a7-e868-43ec-9c7b-3ce484729cab",
   "metadata": {},
   "outputs": [],
   "source": [
    "def greeting(name, age):\n",
    "    print(f\"{name} 씨 안녕하세요. 약 {age * 365.25} 일 되었습니다.\")"
   ]
  },
  {
   "cell_type": "code",
   "execution_count": null,
   "id": "b0dce67d-0aa5-4bec-a3c5-4d1f55cd0247",
   "metadata": {},
   "outputs": [
    {
     "name": "stdout",
     "output_type": "stream",
     "text": [
      "파이썬 씨 안녕하세요. 약 11688.0 일 되었습니다.\n"
     ]
    }
   ],
   "source": [
    "greeting(\"파이썬\", 32)"
   ]
  },
  {
   "cell_type": "code",
   "execution_count": null,
   "id": "f59289d3-b559-4969-8816-6d9fcaf816e5",
   "metadata": {},
   "outputs": [
    {
     "name": "stdout",
     "output_type": "stream",
     "text": [
      "파이썬 씨 안녕하세요. 약 11688.0 일 되었습니다.\n"
     ]
    }
   ],
   "source": [
    "greeting(age = 32, name=\"파이썬\")"
   ]
  },
  {
   "cell_type": "code",
   "execution_count": null,
   "id": "156498f0-4a2b-4330-b538-be48945221fa",
   "metadata": {},
   "outputs": [],
   "source": [
    "def greeting(name, age=32):\n",
    "    print(f\"{name} 씨 안녕하세요. 약 {age * 365.25} 일 되었습니다.\")"
   ]
  },
  {
   "cell_type": "code",
   "execution_count": null,
   "id": "ab9ad43b-ee73-45f9-ae29-68daf580d15f",
   "metadata": {},
   "outputs": [],
   "source": [
    "def posonly(posonly, /):\n",
    "    print(posonly)"
   ]
  },
  {
   "cell_type": "code",
   "execution_count": null,
   "id": "af93388f-1383-4f62-911c-ff7ec923e3e4",
   "metadata": {},
   "outputs": [
    {
     "ename": "TypeError",
     "evalue": "posonly() got some positional-only arguments passed as keyword arguments: 'posonly'",
     "output_type": "error",
     "traceback": [
      "\u001b[1;31m---------------------------------------------------------------------------\u001b[0m",
      "\u001b[1;31mTypeError\u001b[0m                                 Traceback (most recent call last)",
      "\u001b[1;32m~\\AppData\\Local\\Temp\\ipykernel_12272\\2837618757.py\u001b[0m in \u001b[0;36m<module>\u001b[1;34m\u001b[0m\n\u001b[1;32m----> 1\u001b[1;33m \u001b[0mposonly\u001b[0m\u001b[1;33m(\u001b[0m\u001b[0mposonly\u001b[0m\u001b[1;33m=\u001b[0m\u001b[1;34m\"키워드인수로 전달하면 오류 발생!\"\u001b[0m\u001b[1;33m)\u001b[0m\u001b[1;33m\u001b[0m\u001b[1;33m\u001b[0m\u001b[0m\n\u001b[0m",
      "\u001b[1;31mTypeError\u001b[0m: posonly() got some positional-only arguments passed as keyword arguments: 'posonly'"
     ]
    }
   ],
   "source": [
    "posonly(posonly=\"키워드인수로 전달하면 오류 발생!\")"
   ]
  },
  {
   "cell_type": "code",
   "execution_count": null,
   "id": "a3309154-91c8-4c47-8a86-daa83e64a49d",
   "metadata": {},
   "outputs": [],
   "source": [
    "def keyonly(*, keyonly=\"default\"):\n",
    "    print(keyonly)"
   ]
  },
  {
   "cell_type": "code",
   "execution_count": null,
   "id": "fb724fcc-a0b1-417a-a692-d6853c587345",
   "metadata": {},
   "outputs": [
    {
     "name": "stdout",
     "output_type": "stream",
     "text": [
      "키워드로만 입력해야 합니다.\n"
     ]
    }
   ],
   "source": [
    "keyonly(keyonly=\"키워드로만 입력해야 합니다.\")"
   ]
  },
  {
   "cell_type": "code",
   "execution_count": null,
   "id": "392943df-5779-446c-9bc3-7252c19a3668",
   "metadata": {},
   "outputs": [
    {
     "ename": "TypeError",
     "evalue": "keyonly() takes 0 positional arguments but 1 was given",
     "output_type": "error",
     "traceback": [
      "\u001b[1;31m---------------------------------------------------------------------------\u001b[0m",
      "\u001b[1;31mTypeError\u001b[0m                                 Traceback (most recent call last)",
      "\u001b[1;32m~\\AppData\\Local\\Temp\\ipykernel_12272\\2852538585.py\u001b[0m in \u001b[0;36m<module>\u001b[1;34m\u001b[0m\n\u001b[1;32m----> 1\u001b[1;33m \u001b[0mkeyonly\u001b[0m\u001b[1;33m(\u001b[0m\u001b[1;34m\"키워드로만 입력해야 합니다.\"\u001b[0m\u001b[1;33m)\u001b[0m\u001b[1;33m\u001b[0m\u001b[1;33m\u001b[0m\u001b[0m\n\u001b[0m",
      "\u001b[1;31mTypeError\u001b[0m: keyonly() takes 0 positional arguments but 1 was given"
     ]
    }
   ],
   "source": [
    "keyonly(\"키워드로만 입력해야 합니다.\")"
   ]
  },
  {
   "cell_type": "code",
   "execution_count": null,
   "id": "47235103-dc27-43f4-9a03-960bf56a7ade",
   "metadata": {},
   "outputs": [],
   "source": [
    "def var_positional(*args):\n",
    "    print(type(args))\n",
    "    return sum([_ for _ in args])"
   ]
  },
  {
   "cell_type": "code",
   "execution_count": null,
   "id": "37f55c53-78ad-4910-9c11-080085dbc695",
   "metadata": {},
   "outputs": [
    {
     "name": "stdout",
     "output_type": "stream",
     "text": [
      "<class 'tuple'>\n",
      "0\n"
     ]
    }
   ],
   "source": [
    "print(var_positional())"
   ]
  },
  {
   "cell_type": "code",
   "execution_count": null,
   "id": "a6b187f5-8648-4f33-a598-bf85264c4030",
   "metadata": {},
   "outputs": [],
   "source": [
    "def var_keyword(**kargs):\n",
    "    print(type(kargs))\n",
    "    return kargs"
   ]
  },
  {
   "cell_type": "code",
   "execution_count": null,
   "id": "84df5123-ebbc-431f-b999-95fbd4988d0a",
   "metadata": {},
   "outputs": [
    {
     "name": "stdout",
     "output_type": "stream",
     "text": [
      "<class 'dict'>\n",
      "{}\n"
     ]
    }
   ],
   "source": [
    "print(var_keyword())"
   ]
  },
  {
   "cell_type": "code",
   "execution_count": null,
   "id": "e0728d9e-cfda-4b0b-8b77-7bf19252029a",
   "metadata": {},
   "outputs": [],
   "source": [
    "def plus_ten(num):\n",
    "    return (num+10)"
   ]
  },
  {
   "cell_type": "code",
   "execution_count": null,
   "id": "42885ecb-501d-4682-bfad-3495af064ce0",
   "metadata": {},
   "outputs": [
    {
     "data": {
      "text/plain": [
       "80"
      ]
     },
     "execution_count": 530,
     "metadata": {},
     "output_type": "execute_result"
    }
   ],
   "source": [
    "plus_ten(70)"
   ]
  },
  {
   "cell_type": "markdown",
   "id": "469e546d-b5e0-4f87-84f7-df37105b2dec",
   "metadata": {
    "jp-MarkdownHeadingCollapsed": true,
    "tags": []
   },
   "source": [
    "##### 함수 정의절 --> 만듦\n",
    "- 인자(매개변수, parameter)\n",
    "- non-default parameter -> \"값\", \"값2\", \"값3\"\n",
    "- default parameter -> key = \"value\", key2 = \"value2\", ... "
   ]
  },
  {
   "cell_type": "code",
   "execution_count": null,
   "id": "e405ffbf-07c4-4971-8fd4-65d7881fb109",
   "metadata": {},
   "outputs": [],
   "source": [
    " def function_name(param1, param2, /, poskey, poskey2, *, keyonly1, keyonly2):\n",
    "    \"\"\"Docs\"\"\"\n",
    "    pass"
   ]
  },
  {
   "cell_type": "markdown",
   "id": "0c684dc3-c32a-468f-9dae-6c6a00ab3443",
   "metadata": {
    "jp-MarkdownHeadingCollapsed": true,
    "tags": []
   },
   "source": [
    "##### 함수 호출 --> 사용\n",
    "인수(argument)  \n",
    "positional -only -> \"값\", \"값2\", \"값3\"  \n",
    "keyword-only -> key = \"value\", key2 = \"value2\", ...  "
   ]
  },
  {
   "cell_type": "code",
   "execution_count": null,
   "id": "565a6a10-101e-4220-8465-58a22f9d33c3",
   "metadata": {},
   "outputs": [],
   "source": [
    "function_name(\"posonly\", \"po\", \"value\", \n",
    "              poskey2 = \"value\",keyonly1 = \"value\",\n",
    "              keyonly2 = \"value\")"
   ]
  },
  {
   "cell_type": "markdown",
   "id": "1e3c0768-98aa-4ec4-9250-baec1572723f",
   "metadata": {
    "jp-MarkdownHeadingCollapsed": true,
    "tags": []
   },
   "source": [
    "#### ARGmentS"
   ]
  },
  {
   "cell_type": "code",
   "execution_count": null,
   "id": "84ee7270-fb94-4064-a8a8-5c81e2c4905b",
   "metadata": {},
   "outputs": [],
   "source": [
    "def function_name2(param1, param2, *args):\n",
    "    print(param1)\n",
    "    print(param2)\n",
    "    for arg in args:\n",
    "        print(arg)\n",
    "    print(type(args))"
   ]
  },
  {
   "cell_type": "code",
   "execution_count": null,
   "id": "9069062d-fed9-4b88-a79b-d59eb15da4fd",
   "metadata": {},
   "outputs": [
    {
     "name": "stdout",
     "output_type": "stream",
     "text": [
      "args\n",
      "는\n",
      "가변 위치\n",
      "인수입니다.\n",
      "<class 'tuple'>\n"
     ]
    }
   ],
   "source": [
    "function_name2(\"args\", \"는\", \"가변 위치\", \"인수입니다.\")"
   ]
  },
  {
   "cell_type": "markdown",
   "id": "42d8090c-2ac1-4c71-aabe-5efd240a42d9",
   "metadata": {
    "jp-MarkdownHeadingCollapsed": true,
    "tags": []
   },
   "source": [
    "#### unpacking\n",
    "- 시퀀스 자료형의 개수만큼 좌측에 변수 맞춰줘서 한번 할당"
   ]
  },
  {
   "cell_type": "code",
   "execution_count": null,
   "id": "c0b8348c-7308-4fe0-ab76-f81103a2afcf",
   "metadata": {},
   "outputs": [
    {
     "name": "stdout",
     "output_type": "stream",
     "text": [
      "0 1 2 3\n"
     ]
    }
   ],
   "source": [
    "a, b, c, d = [_ for _ in range(4)]\n",
    "print(a, b, c, d)"
   ]
  },
  {
   "cell_type": "markdown",
   "id": "722ca5a4-f368-4ddb-b7a2-8dfff90a765b",
   "metadata": {
    "jp-MarkdownHeadingCollapsed": true,
    "tags": []
   },
   "source": [
    "#### 가변 키워드 인자 Keyword ARGmentS"
   ]
  },
  {
   "cell_type": "code",
   "execution_count": null,
   "id": "2c3139b4-509e-434c-a6fd-a60110f66ed8",
   "metadata": {},
   "outputs": [],
   "source": [
    "def function_name3(key, key2, **kargs):\n",
    "    print(key)\n",
    "    print(key2)\n",
    "    print(type(kargs))\n",
    "    print(kargs)\n",
    "    print(kargs[\"key3\"])"
   ]
  },
  {
   "cell_type": "code",
   "execution_count": null,
   "id": "a8a10361-dfcf-4e26-adbf-5979fed20226",
   "metadata": {},
   "outputs": [
    {
     "name": "stdout",
     "output_type": "stream",
     "text": [
      "value\n",
      "value2\n",
      "<class 'dict'>\n",
      "{'key3': 'value3'}\n",
      "value3\n"
     ]
    }
   ],
   "source": [
    "#함수 호출\n",
    "function_name3(key=\"value\", key2=\"value2\", key3=\"value3\")"
   ]
  },
  {
   "cell_type": "code",
   "execution_count": null,
   "id": "183c64df-34b7-4f71-ac3c-8e4f51c9eb84",
   "metadata": {},
   "outputs": [],
   "source": [
    "def function_name4(param1, param2, param3=\"default\"):\n",
    "    pass"
   ]
  },
  {
   "cell_type": "markdown",
   "id": "090043c6-85ef-4b9c-b5ef-4b66934ad6e4",
   "metadata": {
    "jp-MarkdownHeadingCollapsed": true,
    "tags": []
   },
   "source": [
    "### 연습문제"
   ]
  },
  {
   "cell_type": "code",
   "execution_count": null,
   "id": "4e5b3d4d-ec81-446c-8d77-77a9afcb4b8a",
   "metadata": {},
   "outputs": [],
   "source": [
    "def to_celsius(fahrenhit):\n",
    "    return (fahrenhit-32) * 5/9"
   ]
  },
  {
   "cell_type": "code",
   "execution_count": null,
   "id": "e7ca18f9-f774-4f09-8b26-15c1c20d7893",
   "metadata": {},
   "outputs": [
    {
     "name": "stdout",
     "output_type": "stream",
     "text": [
      "21.11111111111111\n"
     ]
    }
   ],
   "source": [
    "print(to_celsius(70))"
   ]
  },
  {
   "cell_type": "code",
   "execution_count": null,
   "id": "78941754-246f-4b11-9e79-8d701d0053e1",
   "metadata": {},
   "outputs": [],
   "source": [
    "def odd_even(number):\n",
    "    \"\"\"number가 짝수면 \"짝수\", 홀수면 \"홀수\" 반환\"\"\"\n",
    "    if type(number) is int and number > 0:\n",
    "        return \"짝수\" * (number % 2 == 0) or \"홀수\"\n",
    "    else:\n",
    "        return"
   ]
  },
  {
   "cell_type": "code",
   "execution_count": null,
   "id": "663ce56d-c47d-4114-bbd0-b490266a79f3",
   "metadata": {},
   "outputs": [],
   "source": [
    "def odd_even(_):\n",
    "    \"\"\"number가 짝수면 \"짝수\", 홀수면 \"홀수\" 반환\"\"\"\n",
    "    if int != type(_) or _ < 1:\n",
    "        return\n",
    "    else:\n",
    "        if _ % 2 == 0:\n",
    "            return \"짝수\"\n",
    "        else:\n",
    "            return \"홀수\""
   ]
  },
  {
   "cell_type": "code",
   "execution_count": null,
   "id": "558d569b-62fa-4f91-9a94-c4a8cfc440ff",
   "metadata": {},
   "outputs": [
    {
     "name": "stdout",
     "output_type": "stream",
     "text": [
      "number가 짝수면 \"짝수\", 홀수면 \"홀수\" 반환\n",
      "짝수\n",
      "홀수\n",
      "None\n",
      "None\n"
     ]
    }
   ],
   "source": [
    "print(odd_even.__doc__)\n",
    "print(odd_even(10))\n",
    "print(odd_even(9))\n",
    "print(odd_even(-1))\n",
    "print(odd_even(\"가\"))"
   ]
  },
  {
   "cell_type": "code",
   "execution_count": null,
   "id": "0b73246b-94a9-4254-a010-277620a974e8",
   "metadata": {},
   "outputs": [],
   "source": [
    "def check_leap_year(year):\n",
    "    if year % 4 == 0:\n",
    "        return \"평년\" *(year % 100 == 0 and year % 400 != 0) or \"윤년\"\n",
    "    else:\n",
    "        return \"평년\""
   ]
  },
  {
   "cell_type": "code",
   "execution_count": null,
   "id": "83151822-ec31-4412-b584-1def6b749e4b",
   "metadata": {},
   "outputs": [
    {
     "data": {
      "text/plain": [
       "'평년'"
      ]
     },
     "execution_count": 608,
     "metadata": {},
     "output_type": "execute_result"
    }
   ],
   "source": [
    "check_leap_year(3)"
   ]
  },
  {
   "cell_type": "code",
   "execution_count": null,
   "id": "891be694-05c2-49a4-b35f-a0d46133f75c",
   "metadata": {},
   "outputs": [
    {
     "name": "stdout",
     "output_type": "stream",
     "text": [
      "평년\n",
      "평년\n",
      "윤년\n",
      "윤년\n",
      "윤년\n"
     ]
    }
   ],
   "source": [
    "print(check_leap_year(3))\n",
    "print(check_leap_year(1900))\n",
    "print(check_leap_year(4))\n",
    "print(check_leap_year(2000))\n",
    "print(check_leap_year(2004))"
   ]
  },
  {
   "cell_type": "code",
   "execution_count": null,
   "id": "73261b4c-672c-4961-939e-9716379ec345",
   "metadata": {},
   "outputs": [],
   "source": [
    "def days(month):\n",
    "    if month == 2:\n",
    "        return 28\n",
    "    else:\n",
    "        return 30*(month == 4 or month == 6 or month == 9or month == 11) or 31     "
   ]
  },
  {
   "cell_type": "code",
   "execution_count": null,
   "id": "44dbb83c-2959-41f0-9c5f-1e54a6357f50",
   "metadata": {},
   "outputs": [
    {
     "data": {
      "text/plain": [
       "31"
      ]
     },
     "execution_count": 566,
     "metadata": {},
     "output_type": "execute_result"
    }
   ],
   "source": [
    "days(10)"
   ]
  },
  {
   "cell_type": "code",
   "execution_count": null,
   "id": "06852fe2-dfff-46bf-bdcd-df1260daaac5",
   "metadata": {},
   "outputs": [],
   "source": [
    "def dayss(month):\n",
    "    if month in (1,3,5,7,8,10,12):\n",
    "        return 31\n",
    "    elif month in (4,6,9,11):\n",
    "        return 30\n",
    "    else:\n",
    "        return 28"
   ]
  },
  {
   "cell_type": "code",
   "execution_count": null,
   "id": "cdfcd1d1-fad7-4857-a410-2bcfda128862",
   "metadata": {},
   "outputs": [
    {
     "data": {
      "text/plain": [
       "28"
      ]
     },
     "execution_count": 555,
     "metadata": {},
     "output_type": "execute_result"
    }
   ],
   "source": [
    "dayss(2)"
   ]
  },
  {
   "cell_type": "code",
   "execution_count": null,
   "id": "7f2a23aa-9f7b-44b3-9b85-eb4a32f0352c",
   "metadata": {},
   "outputs": [],
   "source": [
    "def Days(year, month):\n",
    "    if month in (1,3,5,7,8,10,12):\n",
    "        return 31\n",
    "    elif month in (4,6,9,11):\n",
    "        return 30\n",
    "    else:\n",
    "        if year % 4 == 0:\n",
    "            return 28 *(year % 100 == 0 and year % 400 != 0) or 29\n",
    "        else:\n",
    "            return 28"
   ]
  },
  {
   "cell_type": "code",
   "execution_count": null,
   "id": "c8d1d9bc-5307-4502-918f-f1a1704622d3",
   "metadata": {},
   "outputs": [
    {
     "name": "stdout",
     "output_type": "stream",
     "text": [
      "30\n",
      "31\n",
      "28\n",
      "29\n"
     ]
    }
   ],
   "source": [
    "print(Days(1900,11))\n",
    "print(Days(2004,10))\n",
    "print(Days(1900,2))\n",
    "print(Days(2000,2))"
   ]
  },
  {
   "cell_type": "code",
   "execution_count": null,
   "id": "f090058e-8012-41d4-98fe-4329dac4b184",
   "metadata": {},
   "outputs": [
    {
     "name": "stdout",
     "output_type": "stream",
     "text": [
      "몫: 3, 나머지: 1\n"
     ]
    }
   ],
   "source": [
    "x = 10\n",
    "y = 3\n",
    "def get_quotient_remainder(x,y):\n",
    "    return x//y, x%y\n",
    "quitient, remainder = get_quotient_remainder(x,y)\n",
    "print(f'몫: {quitient}, 나머지: {remainder}')"
   ]
  },
  {
   "cell_type": "markdown",
   "id": "8765e529-8f9e-4c35-9b85-e4ad71fd2004",
   "metadata": {
    "jp-MarkdownHeadingCollapsed": true,
    "tags": []
   },
   "source": [
    "## 변수의 범위"
   ]
  },
  {
   "cell_type": "markdown",
   "id": "a735b411-aa8b-4ae3-b982-9662e437c6e6",
   "metadata": {
    "jp-MarkdownHeadingCollapsed": true,
    "tags": []
   },
   "source": [
    "#### 전역 변수"
   ]
  },
  {
   "cell_type": "code",
   "execution_count": null,
   "id": "7515d086-8108-421e-9c1d-955fd2f65f0a",
   "metadata": {},
   "outputs": [
    {
     "name": "stdout",
     "output_type": "stream",
     "text": [
      "global_variable in global scope=> This is global world.\n",
      "0x2763200a1c0\n",
      "global_variable in global scope=> This is global world.\n",
      "0x2763200a1c0\n"
     ]
    }
   ],
   "source": [
    "global_variable = \"This is global world.\"\n",
    "\n",
    "print(f'global_variable in global scope=> {global_variable}')\n",
    "print(hex(id(global_variable)))\n",
    "\n",
    "def local_world():\n",
    "    print(f'global_variable in global scope=> {global_variable}')\n",
    "    print(hex(id(global_variable)))\n",
    "    \n",
    "local_world()"
   ]
  },
  {
   "cell_type": "markdown",
   "id": "333f8594-3379-47d8-85f9-471ce6834e53",
   "metadata": {
    "jp-MarkdownHeadingCollapsed": true,
    "tags": []
   },
   "source": [
    "#### 지역변수"
   ]
  },
  {
   "cell_type": "code",
   "execution_count": null,
   "id": "bf29c3be-9548-4e7a-9bf9-a7000a301dc1",
   "metadata": {},
   "outputs": [
    {
     "ename": "NameError",
     "evalue": "name 'my_variable' is not defined",
     "output_type": "error",
     "traceback": [
      "\u001b[1;31m---------------------------------------------------------------------------\u001b[0m",
      "\u001b[1;31mNameError\u001b[0m                                 Traceback (most recent call last)",
      "\u001b[1;32m~\\AppData\\Local\\Temp\\ipykernel_12552\\3526018838.py\u001b[0m in \u001b[0;36m<module>\u001b[1;34m\u001b[0m\n\u001b[0;32m      2\u001b[0m     \u001b[0mmy_variable\u001b[0m \u001b[1;33m=\u001b[0m \u001b[1;34m\"This is my little world.\"\u001b[0m\u001b[1;33m\u001b[0m\u001b[1;33m\u001b[0m\u001b[0m\n\u001b[0;32m      3\u001b[0m \u001b[1;33m\u001b[0m\u001b[0m\n\u001b[1;32m----> 4\u001b[1;33m \u001b[0mprint\u001b[0m\u001b[1;33m(\u001b[0m\u001b[0mmy_variable\u001b[0m\u001b[1;33m)\u001b[0m\u001b[1;33m\u001b[0m\u001b[1;33m\u001b[0m\u001b[0m\n\u001b[0m",
      "\u001b[1;31mNameError\u001b[0m: name 'my_variable' is not defined"
     ]
    }
   ],
   "source": [
    "def my_little_world():\n",
    "    my_variable = \"This is my little world.\"\n",
    "\n",
    "print(my_variable)"
   ]
  },
  {
   "cell_type": "markdown",
   "id": "8118e627-a3d3-49d9-8370-8f7bb4eeceaa",
   "metadata": {
    "jp-MarkdownHeadingCollapsed": true,
    "tags": []
   },
   "source": [
    "#### 지역 범위에서 전역 변수 할당하기"
   ]
  },
  {
   "cell_type": "code",
   "execution_count": null,
   "id": "2082c382-2228-4cf3-b917-68f59ab88f9a",
   "metadata": {},
   "outputs": [
    {
     "name": "stdout",
     "output_type": "stream",
     "text": [
      "중요한 것은 꺾이지 않는 마음\n"
     ]
    }
   ],
   "source": [
    "important_is_an_unbroken_herat = \"중요한 것은 꺾이지 않는 마음\"\n",
    "\n",
    "def trials_and_tribulations():\n",
    "    important_is_an_unbroken_herat = \"흔들흔들\"\n",
    "    \n",
    "trials_and_tribulations()\n",
    "print(important_is_an_unbroken_herat)"
   ]
  },
  {
   "cell_type": "code",
   "execution_count": null,
   "id": "218337ce-a235-4edc-b819-eb4ecdf5d146",
   "metadata": {},
   "outputs": [
    {
     "name": "stdout",
     "output_type": "stream",
     "text": [
      "global 키워드 활용해서 변경 완료\n"
     ]
    }
   ],
   "source": [
    "global_variable = \"변경이 됩니까?\"\n",
    "\n",
    "def hertbreaker():\n",
    "    global global_variable\n",
    "    global_variable = \"global 키워드 활용해서 변경 완료\"\n",
    "\n",
    "hertbreaker()\n",
    "print(global_variable)"
   ]
  },
  {
   "cell_type": "markdown",
   "id": "7995a36c-9cbc-4ea0-9d4a-4d0d449d58a2",
   "metadata": {
    "jp-MarkdownHeadingCollapsed": true,
    "tags": []
   },
   "source": [
    "#### 함수 바디에 함수를 중첩해서 만들기"
   ]
  },
  {
   "cell_type": "code",
   "execution_count": null,
   "id": "924a9279-d869-40ac-8098-a9dc668fccf3",
   "metadata": {},
   "outputs": [],
   "source": [
    "def level1():\n",
    "    message = \"This is level 1.\"\n",
    "    def level2():\n",
    "        print(message)\n",
    "    level2()"
   ]
  },
  {
   "cell_type": "code",
   "execution_count": null,
   "id": "7fe9b55e-0caa-45cb-9fe8-f31f69c219a3",
   "metadata": {},
   "outputs": [
    {
     "name": "stdout",
     "output_type": "stream",
     "text": [
      "This is level 1.\n"
     ]
    }
   ],
   "source": [
    "level1()"
   ]
  },
  {
   "cell_type": "markdown",
   "id": "d0f384da-4172-4eae-8cc9-5bb7dcd57062",
   "metadata": {
    "jp-MarkdownHeadingCollapsed": true,
    "tags": []
   },
   "source": [
    "#### 안쪽 함수에서 바깥쪽 함수의 변수 변경해 보기"
   ]
  },
  {
   "cell_type": "code",
   "execution_count": null,
   "id": "bcf58a55-4c66-4a00-bd34-0330cac21603",
   "metadata": {},
   "outputs": [],
   "source": [
    "def level1():\n",
    "    message = \"This is level 1.\"\n",
    "    def level2():\n",
    "        message = \"level2 is better than level1.\"\n",
    "    level2()\n",
    "    print(message)"
   ]
  },
  {
   "cell_type": "code",
   "execution_count": null,
   "id": "e92572e9-bd9f-4e3a-aacd-533a0e586802",
   "metadata": {},
   "outputs": [
    {
     "name": "stdout",
     "output_type": "stream",
     "text": [
      "This is level 1.\n"
     ]
    }
   ],
   "source": [
    "level1()"
   ]
  },
  {
   "cell_type": "code",
   "execution_count": null,
   "id": "e0a4e9a9-d31e-4967-bc94-b5c2ea6e9480",
   "metadata": {},
   "outputs": [],
   "source": [
    "def level1():\n",
    "    message = \"This is level 1.\"\n",
    "    def level2():\n",
    "        nonlocal message\n",
    "        message = \"level2 is better than level1.\"\n",
    "    level2()\n",
    "    print(message)"
   ]
  },
  {
   "cell_type": "code",
   "execution_count": null,
   "id": "6df9a176-6cb5-483f-a16e-8ac30cfbf26d",
   "metadata": {},
   "outputs": [
    {
     "name": "stdout",
     "output_type": "stream",
     "text": [
      "level2 is better than level1.\n"
     ]
    }
   ],
   "source": [
    "level1()"
   ]
  },
  {
   "cell_type": "markdown",
   "id": "02bb9932-2928-499e-9ac5-206286daccad",
   "metadata": {
    "jp-MarkdownHeadingCollapsed": true,
    "tags": []
   },
   "source": [
    "#### global, nonlocal 특징과 권고사항  \n",
    "- global 키워드는 함수의 중첩된 정도와 상관없이 전역 범위의 변수를 매칭합니다.  \n",
    "- 중첩된 함수마다  같은 이름의 변수가 있다면 nonlocal 키워드는 제일 가까운 바깥 변수를 매칭합니다.  \n",
    "- 가급적이면 함수마다 이름이 같은 변수를 사용하기보단 다른 변수명을 사용하는게 좋습니다."
   ]
  },
  {
   "cell_type": "markdown",
   "id": "33bced06-fcb7-4490-9b85-5046b1d0c88e",
   "metadata": {
    "tags": []
   },
   "source": [
    "#### 변수 범위 정리\n",
    "- 함수 안에서 선언한 변수는 함수를 호출해 실행되는 동안만 사용할 수 있습니다.  \n",
    "- 범위마다 간은 이름의 변수를 사용해도 각각 독립적으로 동작합니다.  \n",
    "- 지역 변수(local variable)를 저장하는 이름 공간을 지역 영역(local scope)라고 합니다.  \n",
    "- 전역 변수(global variable)를 저장하는 이름 공간을 전역 영역(global scope)라고 합니다.  \n",
    "- 파이썬 자체에서 정의한 이름 공간을 내장 영역(built-in scope)이라고 합니다.  \n",
    "- 함수에서 변수를 호출하면 지역 영역 → 전역 영역 → 내장 영역 순으로 해당하는 변수를 확인 합니다."
   ]
  },
  {
   "cell_type": "markdown",
   "id": "935e60dd-db7c-40bf-9011-39cfc121be47",
   "metadata": {
    "jp-MarkdownHeadingCollapsed": true,
    "tags": []
   },
   "source": [
    "#### 정리"
   ]
  },
  {
   "cell_type": "code",
   "execution_count": 646,
   "id": "220ac4c7-3bad-4f1e-91eb-5f49a6089086",
   "metadata": {},
   "outputs": [
    {
     "name": "stdout",
     "output_type": "stream",
     "text": [
      "전역 변수입니다.\n"
     ]
    }
   ],
   "source": [
    "# 지역 범위(local scope) 전역 변수(global variable)에 접근 출력(변경 않음)\n",
    "\n",
    "global_v = \"전역 변수입니다.\"\n",
    "\n",
    "def local_scope():\n",
    "    print(global_v)\n",
    "    \n",
    "local_scope()"
   ]
  },
  {
   "cell_type": "code",
   "execution_count": 647,
   "id": "9aeac811-3534-4f14-a717-c42c4fe1cdbb",
   "metadata": {},
   "outputs": [
    {
     "name": "stdout",
     "output_type": "stream",
     "text": [
      "전역 변수입니다.\n"
     ]
    }
   ],
   "source": [
    "# 지역 범위(local scope) 전역 변수(global variable)에 접근 후 재할당\n",
    "global_v2 = \"전역 변수입니다.\"\n",
    "\n",
    "\n",
    "def local_scope2():\n",
    "    global_v2 = \"지역 범위 입니다.\"\n",
    "\n",
    "local_scope2()\n",
    "print(global_v2)\n",
    "#사실은 전역 범위에서 global_v2를 만들어 할당한 것과\n",
    "# 로컬 범위에서 global_v2를 만들어 할당한 것\n",
    "# 두 가지 일을 각각 독립적으로 실행한 결과를 확인했디."
   ]
  },
  {
   "cell_type": "code",
   "execution_count": 648,
   "id": "0358b4ab-7b2b-49be-895e-efa1cd0fd830",
   "metadata": {},
   "outputs": [
    {
     "name": "stdout",
     "output_type": "stream",
     "text": [
      "지역 범위에서 변경입니다.\n"
     ]
    }
   ],
   "source": [
    "# 지역 범위(local scope) 전역 변수(global variable)에 접근 후 재할당\n",
    "global_v3 = \"전역 변수입니다.\"\n",
    "\n",
    "\n",
    "def local_scope3(): \n",
    "    global global_v3 # 전역 범위에 있는 전역 변수인 global_v3를 사용하겠다.\n",
    "    global_v3 = \"지역 범위에서 변경입니다.\"\n",
    "\n",
    "local_scope3()\n",
    "print(global_v3)\n",
    "\n",
    "# global 키워드를 활용하면 지역 범위에 있어도\n",
    "# 전역 변수에 대한 변경이 가능하도록 할 수 있다."
   ]
  },
  {
   "cell_type": "code",
   "execution_count": 649,
   "id": "508995cc-3e1d-48a6-9884-20ab0afd809e",
   "metadata": {},
   "outputs": [
    {
     "ename": "NameError",
     "evalue": "name 'global_v4' is not defined",
     "output_type": "error",
     "traceback": [
      "\u001b[1;31m---------------------------------------------------------------------------\u001b[0m",
      "\u001b[1;31mNameError\u001b[0m                                 Traceback (most recent call last)",
      "\u001b[1;32m~\\AppData\\Local\\Temp\\ipykernel_12552\\3810053574.py\u001b[0m in \u001b[0;36m<module>\u001b[1;34m\u001b[0m\n\u001b[0;32m      7\u001b[0m     \u001b[0mlocal_scope5\u001b[0m\u001b[1;33m(\u001b[0m\u001b[1;33m)\u001b[0m\u001b[1;33m\u001b[0m\u001b[1;33m\u001b[0m\u001b[0m\n\u001b[0;32m      8\u001b[0m \u001b[1;33m\u001b[0m\u001b[0m\n\u001b[1;32m----> 9\u001b[1;33m \u001b[0mprint\u001b[0m\u001b[1;33m(\u001b[0m\u001b[0mglobal_v4\u001b[0m\u001b[1;33m)\u001b[0m\u001b[1;33m\u001b[0m\u001b[1;33m\u001b[0m\u001b[0m\n\u001b[0m\u001b[0;32m     10\u001b[0m \u001b[1;31m# 지역 범위 안에 있는 지역 변수는 그 함수 실행과 반환 사이동안 만 살아있었다.\u001b[0m\u001b[1;33m\u001b[0m\u001b[1;33m\u001b[0m\u001b[0m\n\u001b[0;32m     11\u001b[0m \u001b[1;33m\u001b[0m\u001b[0m\n",
      "\u001b[1;31mNameError\u001b[0m: name 'global_v4' is not defined"
     ]
    }
   ],
   "source": [
    "# 지역 범위(local scope) 안에 지역 범위가 중첩되어 있을 경우\n",
    "# 비교적 바깥에 있는 지역 범위의 지역 변수에 접근하여 출력\n",
    "def local_scope4(): \n",
    "    global_v4 = \"바깥 지역 범위입니다.\"\n",
    "    def local_scope5():\n",
    "        print(global_v4)\n",
    "    local_scope5()\n",
    "    \n",
    "print(global_v4)\n",
    "# 지역 범위 안에 있는 지역 변수는 그 함수 실행과 반환 사이동안 만 살아있었다.    \n",
    "\n",
    "local_scope4()"
   ]
  },
  {
   "cell_type": "code",
   "execution_count": 650,
   "id": "53726a3e-0959-4eb2-bca0-0bc3e52405c9",
   "metadata": {},
   "outputs": [
    {
     "name": "stdout",
     "output_type": "stream",
     "text": [
      "바깥 지역 범위입니다.\n"
     ]
    }
   ],
   "source": [
    "# 지역 범위(local scope) 안에 지역 범위가 중첩되어 있을 경우\n",
    "# 비교적 바깥에 있는 지역 범위의 지역 변수에 접근하여 출력\n",
    "def local_scope6(): \n",
    "    global_v5 = \"바깥 지역 범위입니다.\" # 더 넒은 범위의 로컬 변수로 선언\n",
    "    def local_scope7():\n",
    "        global_v5 = \"안쪽 지역 범위입니다.\" # 더 좁은 범위의 로컬 변수로 선언\n",
    "    local_scope7()\n",
    "    print(global_v5)\n",
    "    \n",
    "\n",
    "local_scope6()\n",
    "\n",
    "# 그래서 local_scope6 범위의 global_v5는\n",
    "# local_scope7 번위의 global_v5와 각각 독립적으로 생성이 된 것을 봤다."
   ]
  },
  {
   "cell_type": "code",
   "execution_count": 645,
   "id": "ada88e2c-2d24-43c1-a22a-b9004b43e46e",
   "metadata": {},
   "outputs": [
    {
     "name": "stdout",
     "output_type": "stream",
     "text": [
      "안쪽 지역 범위입니다.\n"
     ]
    }
   ],
   "source": [
    "# 지역 범위(local scope) 안에 지역 범위가 중첩되어 있을 경우\n",
    "# 비교적 바깥에 있는 지역 범위의 지역 변수에 접근하여 출력\n",
    "def local_scope8(): \n",
    "    global_v6 = \"바깥 지역 범위입니다.\"\n",
    "    def local_scope9():\n",
    "        # 현 영역(지금의 로컬 영역 바깥의 변수 global_v6를 찾아서 그 변수를 사용하겠다.)\n",
    "        nonlocal global_v6 \n",
    "        global_v6 = \"안쪽 지역 범위입니다.\"\n",
    "    local_scope9()\n",
    "    print(global_v6)\n",
    "    \n",
    "\n",
    "local_scope8()"
   ]
  },
  {
   "cell_type": "markdown",
   "id": "d2295b7b-93fc-40cf-9c76-8934fd99854d",
   "metadata": {
    "jp-MarkdownHeadingCollapsed": true,
    "tags": []
   },
   "source": [
    "## 람다(Lambda)\n",
    "```python\n",
    "lambda [parameters]:expresion\n",
    "```"
   ]
  },
  {
   "cell_type": "markdown",
   "id": "a753ed00-a2d5-4d76-90d0-68b5584c03a3",
   "metadata": {
    "tags": []
   },
   "source": [
    "#### 기본"
   ]
  },
  {
   "cell_type": "code",
   "execution_count": 655,
   "id": "45da22a8-df5e-4064-9d3f-2e30c9e92e1e",
   "metadata": {},
   "outputs": [
    {
     "data": {
      "text/plain": [
       "20"
      ]
     },
     "execution_count": 655,
     "metadata": {},
     "output_type": "execute_result"
    }
   ],
   "source": [
    "(lambda x:x + 10)(10)"
   ]
  },
  {
   "cell_type": "code",
   "execution_count": 656,
   "id": "dcee32e8-4027-4d6b-9f86-0a1f6d7c2c8c",
   "metadata": {},
   "outputs": [
    {
     "name": "stdout",
     "output_type": "stream",
     "text": [
      "20\n"
     ]
    }
   ],
   "source": [
    "twice = lambda x: x*2\n",
    "print(twice(10))"
   ]
  },
  {
   "cell_type": "code",
   "execution_count": 658,
   "id": "5062c496-7cd9-4d22-b28a-fa077c32d524",
   "metadata": {},
   "outputs": [
    {
     "ename": "SyntaxError",
     "evalue": "invalid syntax (3127090284.py, line 1)",
     "output_type": "error",
     "traceback": [
      "\u001b[1;36m  File \u001b[1;32m\"C:\\Users\\Playdata\\AppData\\Local\\Temp\\ipykernel_12552\\3127090284.py\"\u001b[1;36m, line \u001b[1;32m1\u001b[0m\n\u001b[1;33m    (lambda x: y=10; x + y)(1) #명령어 하나만 사용하여야 한다.\u001b[0m\n\u001b[1;37m                ^\u001b[0m\n\u001b[1;31mSyntaxError\u001b[0m\u001b[1;31m:\u001b[0m invalid syntax\n"
     ]
    }
   ],
   "source": [
    "(lambda x: y=10; x + y)(1) #명령어 하나만 사용하여야 한다."
   ]
  },
  {
   "cell_type": "markdown",
   "id": "c0547aa9-d6dd-4826-8809-c71c8ef07b4f",
   "metadata": {
    "tags": []
   },
   "source": [
    "#### 조건표현식(conditional Expression), inline if else\n",
    "- True일때 값  if 조건식 else  False일때 값"
   ]
  },
  {
   "cell_type": "code",
   "execution_count": 659,
   "id": "1e837036-adfe-465b-a053-08daaff8e043",
   "metadata": {},
   "outputs": [
    {
     "data": {
      "text/plain": [
       "'B'"
      ]
     },
     "execution_count": 659,
     "metadata": {},
     "output_type": "execute_result"
    }
   ],
   "source": [
    "score = 90\n",
    "'A' if 90<score<=100 else 'B' if 80<score else 'C'\n"
   ]
  },
  {
   "cell_type": "markdown",
   "id": "fc5daabb-fe16-466b-a373-6f60be0143ea",
   "metadata": {
    "jp-MarkdownHeadingCollapsed": true,
    "tags": []
   },
   "source": [
    "#### 람다(Lambda) feat. map()\n",
    "- map(lambda parameter1, parameter2,...: expression,, iterable1, iterable2,...)"
   ]
  },
  {
   "cell_type": "code",
   "execution_count": 669,
   "id": "693cbe5b-164d-4f70-8460-6b5976407d33",
   "metadata": {},
   "outputs": [
    {
     "name": "stdout",
     "output_type": "stream",
     "text": [
      "[2, 8, 18, 32, 50]\n"
     ]
    }
   ],
   "source": [
    "a = [_ for _ in range(1,6)]\n",
    "b = [_ for _ in range(2, 11, 2)]\n",
    "print(list(map(lambda x, y: x * y, a, b)))"
   ]
  },
  {
   "cell_type": "code",
   "execution_count": 670,
   "id": "6c7a7d05-36b1-4050-ace3-8d477a800bba",
   "metadata": {},
   "outputs": [
    {
     "name": "stdout",
     "output_type": "stream",
     "text": [
      "[0, 4, 12, 24, 40]\n"
     ]
    },
    {
     "data": {
      "text/plain": [
       "100"
      ]
     },
     "execution_count": 670,
     "metadata": {},
     "output_type": "execute_result"
    }
   ],
   "source": [
    "a = [_ for _ in range(5)]\n",
    "b = [_ for _ in range(2, 11, 2)]\n",
    "\n",
    "c = (list(map(lambda x, y: x * y, a, b)))\n",
    "\n",
    "print(c)\n",
    "\n",
    "((lambda x : x ** 2)(10))"
   ]
  },
  {
   "cell_type": "markdown",
   "id": "b14670ce-8663-429b-ad86-dd78ce743480",
   "metadata": {
    "jp-MarkdownHeadingCollapsed": true,
    "tags": []
   },
   "source": [
    "#### 람다(Lambda) feat. filter()\n",
    "- map(lambda parameter: expression, iterable)"
   ]
  },
  {
   "cell_type": "code",
   "execution_count": 671,
   "id": "ff4657da-5b9f-4cb1-ac35-291cb4f29afe",
   "metadata": {},
   "outputs": [
    {
     "data": {
      "text/plain": [
       "[3, 9, 9]"
      ]
     },
     "execution_count": 671,
     "metadata": {},
     "output_type": "execute_result"
    }
   ],
   "source": [
    "a = [3, 2, 8, 22, 10, 7, 0, 11, 9, 9]\n",
    "list(filter(lambda x: x % 3 == 0 and 0 < x < 10, a))"
   ]
  },
  {
   "cell_type": "code",
   "execution_count": null,
   "id": "d05b8aca-f908-452c-909e-a566a7e994df",
   "metadata": {},
   "outputs": [],
   "source": []
  }
 ],
 "metadata": {
  "kernelspec": {
   "display_name": "Python 3 (ipykernel)",
   "language": "python",
   "name": "python3"
  },
  "language_info": {
   "codemirror_mode": {
    "name": "ipython",
    "version": 3
   },
   "file_extension": ".py",
   "mimetype": "text/x-python",
   "name": "python",
   "nbconvert_exporter": "python",
   "pygments_lexer": "ipython3",
   "version": "3.9.13"
  }
 },
 "nbformat": 4,
 "nbformat_minor": 5
}
