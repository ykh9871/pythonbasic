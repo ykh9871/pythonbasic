{
 "cells": [
  {
   "cell_type": "code",
   "execution_count": 81,
   "id": "50c6eb0f-14b0-4133-a766-3ea80273bab4",
   "metadata": {},
   "outputs": [
    {
     "name": "stdin",
     "output_type": "stream",
     "text": [
      "실기점수를 입력하세요 : 70 85 50 98 82\n"
     ]
    },
    {
     "name": "stdout",
     "output_type": "stream",
     "text": [
      "이 학생의 평균 점수는 79.0 입니다.\n"
     ]
    }
   ],
   "source": [
    "scores = list(map(int,input(\"실기점수를 입력하세요 :\").split()))\n",
    "\n",
    "Max = 0\n",
    "Min = 100\n",
    "total = 0\n",
    "\n",
    "for _ in range(len(scores)):\n",
    "    total += scores[_]\n",
    "    if scores[_] > Max:\n",
    "        Max = scores[_]\n",
    "    if scores[_] < Min:\n",
    "        Min = scores[_]\n",
    "\n",
    "avg = (total-Min-Max)/(len(scores)-2)\n",
    "\n",
    "print(f'이 학생의 평균 점수는 {avg} 입니다.')"
   ]
  },
  {
   "cell_type": "code",
   "execution_count": 78,
   "id": "2209b13d-7af5-41a1-b39c-73da9ea315e4",
   "metadata": {},
   "outputs": [
    {
     "name": "stdin",
     "output_type": "stream",
     "text": [
      "실기점수를 입력하세요 : 70 50 85 98 82\n"
     ]
    },
    {
     "name": "stdout",
     "output_type": "stream",
     "text": [
      "\n",
      "이 학생의 평균 점수는 79.0 입니다.\n"
     ]
    }
   ],
   "source": [
    "Scores = list(map(int,input(\"실기점수를 입력하세요 :\").split()))\n",
    "\n",
    "Max = 0\n",
    "Min = 100\n",
    "total = 0\n",
    "\n",
    "for _ in Scores:\n",
    "    total += _\n",
    "    if _ > Max:\n",
    "        Max = _\n",
    "    if _ < Min:\n",
    "        Min = _\n",
    "\n",
    "total = total - Max - Min\n",
    "avg = total / (len(Scores)-2)\n",
    "\n",
    "print(f'\\n이 학생의 평균 점수는 {avg} 입니다.')"
   ]
  },
  {
   "cell_type": "code",
   "execution_count": 80,
   "id": "66dbe6f3-f40c-4824-b8a1-b108c83f9a66",
   "metadata": {},
   "outputs": [
    {
     "name": "stdin",
     "output_type": "stream",
     "text": [
      "실기점수를 입력하세요 : 70 50 85 98 82\n"
     ]
    },
    {
     "name": "stdout",
     "output_type": "stream",
     "text": [
      "이 학생의 평균 점수는 79.0 입니다.\n"
     ]
    }
   ],
   "source": [
    "Scores = list(map(int,input(\"실기점수를 입력하세요 :\").split()))\n",
    "\n",
    "#총점 구하기\n",
    "total = 0 #총점 초기화\n",
    "for i in Scores:\n",
    "    total += i\n",
    "\n",
    "#최고 점수구하기\n",
    "largest = 0 #최대값 초기화\n",
    "for i in Scores:\n",
    "    if i > largest:\n",
    "        largest = i\n",
    "\n",
    "#최저 점수구하기\n",
    "smallest = 100 # 최소값 초기화\n",
    "for i in Scores:\n",
    "    if i < smallest:\n",
    "        smallest = i\n",
    "\n",
    "#평균 점수구하고 출력하기\n",
    "avr = (total - largest - smallest) / (len(Scores)-2)\n",
    "print(f'이 학생의 평균 점수는 {avr} 입니다.')"
   ]
  },
  {
   "cell_type": "code",
   "execution_count": 89,
   "id": "877a6250-c8f1-4bef-84ad-5eb359c80c6b",
   "metadata": {},
   "outputs": [
    {
     "name": "stdout",
     "output_type": "stream",
     "text": [
      "[2, 1, 1, 1, 0]\n"
     ]
    }
   ],
   "source": [
    "scores = [86,72,98,60,45]\n",
    "grade_counter = [0,0,0,0,0]\n",
    "for score in scores:\n",
    "    if 85 <= score <= 100:\n",
    "        grade_counter[0] += 1\n",
    "    elif 70 <= score <= 84:\n",
    "        grade_counter[1] += 1\n",
    "    elif 55 <= score <= 69:\n",
    "        grade_counter[2] += 1\n",
    "    elif 40 <= score <= 54:\n",
    "        grade_counter[3] += 1\n",
    "    else:\n",
    "        grade_counter[4] += 1\n",
    "print(grade_counter)"
   ]
  },
  {
   "cell_type": "code",
   "execution_count": 90,
   "id": "65bdfd51-08c3-44c5-8308-1e4a98948776",
   "metadata": {},
   "outputs": [
    {
     "name": "stdin",
     "output_type": "stream",
     "text": [
      "점수를 입력해주세요 : 86 72 98 60 45\n"
     ]
    },
    {
     "name": "stdout",
     "output_type": "stream",
     "text": [
      "[2, 1, 1, 1, 0]\n"
     ]
    }
   ],
   "source": [
    "Scores = list(map(int,input(\"점수를 입력해주세요 :\").split()))\n",
    "grade_counter = [0,0,0,0,0]\n",
    "for score in Scores:\n",
    "    if 85 <= score <= 100:\n",
    "        grade_counter[0] += 1\n",
    "    elif 70 <= score <= 84:\n",
    "        grade_counter[1] += 1\n",
    "    elif 55 <= score <= 69:\n",
    "        grade_counter[2] += 1\n",
    "    elif 40 <= score <= 54:\n",
    "        grade_counter[3] += 1\n",
    "    else:\n",
    "        grade_counter[4] += 1\n",
    "print(grade_counter)"
   ]
  },
  {
   "cell_type": "code",
   "execution_count": 94,
   "id": "35c62c70-4bc3-4aed-8589-af7131ad7d26",
   "metadata": {},
   "outputs": [
    {
     "name": "stdout",
     "output_type": "stream",
     "text": [
      "1\t2\tFizz\t4\tBuzz\tFizz\t7\t8\tFizz\tBuzz\t11\tFizz\t13\t14\tFizzBUzz\t16\t17\tFizz\t19\tBuzz\tFizz\t22\t23\tFizz\tBuzz\t26\tFizz\t28\t29\tFizzBUzz\t31\t32\tFizz\t34\tBuzz\tFizz\t37\t38\tFizz\tBuzz\t41\tFizz\t43\t44\tFizzBUzz\t46\t47\tFizz\t49\tBuzz\tFizz\t52\t53\tFizz\tBuzz\t56\tFizz\t58\t59\tFizzBUzz\t61\t62\tFizz\t64\tBuzz\tFizz\t67\t68\tFizz\tBuzz\t71\tFizz\t73\t74\tFizzBUzz\t76\t77\tFizz\t79\tBuzz\tFizz\t82\t83\tFizz\tBuzz\t86\tFizz\t88\t89\tFizzBUzz\t91\t92\tFizz\t94\tBuzz\tFizz\t97\t98\tFizz\tBuzz\t"
     ]
    }
   ],
   "source": [
    "for _ in range(1,101):\n",
    "    if _ % 15 == 0:\n",
    "        print(\"FizzBUzz\",end='\\t')\n",
    "    elif _ % 3 == 0:\n",
    "        print(\"Fizz\",end='\\t')\n",
    "    elif _ % 5 == 0:\n",
    "        print(\"Buzz\",end='\\t')\n",
    "    else:\n",
    "        print(_,end='\\t')"
   ]
  },
  {
   "cell_type": "code",
   "execution_count": 97,
   "id": "02ac010e-d62f-4272-9ad1-b8689fbd6dd5",
   "metadata": {},
   "outputs": [
    {
     "name": "stdout",
     "output_type": "stream",
     "text": [
      "1\t2\tFizz\t4\tBuzz\tFizz\t7\t8\tFizz\tBuzz\t11\tFizz\t13\t14\tFizzBuzz\t16\t17\tFizz\t19\tBuzz\tFizz\t22\t23\tFizz\tBuzz\t26\tFizz\t28\t29\tFizzBuzz\t31\t32\tFizz\t34\tBuzz\tFizz\t37\t38\tFizz\tBuzz\t41\tFizz\t43\t44\tFizzBuzz\t46\t47\tFizz\t49\tBuzz\tFizz\t52\t53\tFizz\tBuzz\t56\tFizz\t58\t59\tFizzBuzz\t61\t62\tFizz\t64\tBuzz\tFizz\t67\t68\tFizz\tBuzz\t71\tFizz\t73\t74\tFizzBuzz\t76\t77\tFizz\t79\tBuzz\tFizz\t82\t83\tFizz\tBuzz\t86\tFizz\t88\t89\tFizzBuzz\t91\t92\tFizz\t94\tBuzz\tFizz\t97\t98\tFizz\tBuzz\t"
     ]
    }
   ],
   "source": [
    "for i in range(1,101):\n",
    "    print(\"Fizz\" * (i % 3 == 0) + \"Buzz\" * (i % 5 == 0) or i, end=\"\\t\") "
   ]
  },
  {
   "cell_type": "code",
   "execution_count": 142,
   "id": "aadcb7ee-7e15-41cd-b4a5-c5591122c918",
   "metadata": {},
   "outputs": [
    {
     "name": "stdout",
     "output_type": "stream",
     "text": [
      "m 또는 h 가 이름에 포함된 사람은 3 명 입니다.\n"
     ]
    }
   ],
   "source": [
    "name_list = ['matthew', 'mark', 'luke', 'john', 'paul','peter']\n",
    "count = 0\n",
    "\n",
    "for name in name_list:\n",
    "    if \"m\" in name or \"h\" in name:\n",
    "        count +=1\n",
    "        \n",
    "print(f'm 또는 h 가 이름에 포함된 사람은 {count} 명 입니다.')"
   ]
  },
  {
   "cell_type": "code",
   "execution_count": 140,
   "id": "7ce712d6-b0c6-414a-a86f-a64a59b63aaf",
   "metadata": {},
   "outputs": [
    {
     "name": "stdout",
     "output_type": "stream",
     "text": [
      "m 또는 h 가 이름에 포함된 사람은 3 명 입니다.\n"
     ]
    }
   ],
   "source": [
    "name_list = ['matthew', 'mark', 'luke', 'john', 'paul','peter']\n",
    "count = 0\n",
    "\n",
    "for name in name_list:\n",
    "    for i in name:\n",
    "        if i == \"m\" or i == \"h\":\n",
    "            count +=1\n",
    "            break #continue VS break !!!\n",
    "            \n",
    "print(f'm 또는 h 가 이름에 포함된 사람은 {count} 명 입니다.')"
   ]
  },
  {
   "cell_type": "code",
   "execution_count": 139,
   "id": "393a97b2-387b-4984-b131-ad9bd7fd491e",
   "metadata": {},
   "outputs": [
    {
     "name": "stdout",
     "output_type": "stream",
     "text": [
      "1번 학생 축하합니다. 합격입니다.\n",
      "3번 학생 축하합니다. 합격입니다.\n",
      "5번 학생 축하합니다. 합격입니다.\n"
     ]
    }
   ],
   "source": [
    "marks = [90,25,67,45,80]\n",
    "\n",
    "for _ in range(len(list(marks))):\n",
    "    if marks[_] > 60:\n",
    "        print(f'{_+1}번 학생 축하합니다. 합격입니다.')"
   ]
  },
  {
   "cell_type": "code",
   "execution_count": 138,
   "id": "c89c2f07-cfcf-411d-8f33-8ef7e55b5de8",
   "metadata": {},
   "outputs": [
    {
     "name": "stdout",
     "output_type": "stream",
     "text": [
      "1번 학생 축하합니다. 합격입니다.\n",
      "3번 학생 축하합니다. 합격입니다.\n",
      "5번 학생 축하합니다. 합격입니다.\n"
     ]
    }
   ],
   "source": [
    "marks = [90,25,67,45,80]\n",
    "\n",
    "for _ in range(len(list(marks))):\n",
    "    if marks[_] <= 60:\n",
    "        continue\n",
    "    print(f'{_+1}번 학생 축하합니다. 합격입니다.')"
   ]
  },
  {
   "cell_type": "code",
   "execution_count": 145,
   "id": "1f1b8352-973e-4c39-9930-d4aae47618b2",
   "metadata": {},
   "outputs": [
    {
     "name": "stdout",
     "output_type": "stream",
     "text": [
      "1번 학생 축하합니다. 합격입니다.\n",
      "3번 학생 축하합니다. 합격입니다.\n",
      "5번 학생 축하합니다. 합격입니다.\n"
     ]
    }
   ],
   "source": [
    "marks = [90,25,67,45,80]\n",
    "\n",
    "i = 0\n",
    "\n",
    "while i < len(marks):\n",
    "    if marks[i] > 60:\n",
    "        print(f'{i+1}번 학생 축하합니다. 합격입니다.')\n",
    "    i+=1"
   ]
  },
  {
   "cell_type": "code",
   "execution_count": 147,
   "id": "dfb58340-7942-479f-817c-df749666dad1",
   "metadata": {},
   "outputs": [
    {
     "name": "stdout",
     "output_type": "stream",
     "text": [
      "1번 학생 축하합니다. 합격입니다.\n",
      "3번 학생 축하합니다. 합격입니다.\n",
      "5번 학생 축하합니다. 합격입니다.\n"
     ]
    }
   ],
   "source": [
    "marks = [90,25,67,45,80]\n",
    "number = 0\n",
    "for mark in marks:\n",
    "    number += 1\n",
    "    if mark < 60:\n",
    "        continue\n",
    "    print(f'{number}번 학생 축하합니다. 합격입니다.')"
   ]
  },
  {
   "cell_type": "code",
   "execution_count": 150,
   "id": "6584f78e-67ef-40ca-b8ad-855c46094e09",
   "metadata": {},
   "outputs": [
    {
     "name": "stdout",
     "output_type": "stream",
     "text": [
      "1번 학생 축하합니다. 합격입니다.\n",
      "3번 학생 축하합니다. 합격입니다.\n",
      "5번 학생 축하합니다. 합격입니다.\n"
     ]
    }
   ],
   "source": [
    "marks = [90,25,67,45,80]\n",
    "i = 0\n",
    "\n",
    "while i < len(marks):\n",
    "    i+=1\n",
    "    if marks[i-1] < 60:\n",
    "        continue\n",
    "    print(f'{i}번 학생 축하합니다. 합격입니다.')"
   ]
  },
  {
   "cell_type": "code",
   "execution_count": 153,
   "id": "8427678a-ac6e-4a45-9c9f-08083279e6fa",
   "metadata": {},
   "outputs": [
    {
     "name": "stdout",
     "output_type": "stream",
     "text": [
      "변환된 arr은 [3, 2, 4, 1] 입니다.\n"
     ]
    }
   ],
   "source": [
    "arr = [1,4,2,3]\n",
    "left, right = 0, len(arr) - 1\n",
    "while left < right:\n",
    "    arr[left], arr[right] = arr[right], arr[left]\n",
    "    left += 1\n",
    "    right -= 1\n",
    "print(f'변환된 arr은 {arr} 입니다.')"
   ]
  },
  {
   "cell_type": "code",
   "execution_count": 161,
   "id": "9f41f597-735e-4edf-89ee-37c32b746449",
   "metadata": {},
   "outputs": [
    {
     "name": "stdout",
     "output_type": "stream",
     "text": [
      "변환된 arr은 [3, 4, 2, 1] 입니다.\n"
     ]
    }
   ],
   "source": [
    "arr = [1,4,2,3]\n",
    "left, right = 0, len(arr) - 1\n",
    "while left <= (len(arr) // 2):\n",
    "    arr[left], arr[right] = arr[right], arr[left]\n",
    "    left += 1\n",
    "    right -= 1\n",
    "print(f'변환된 arr은 {arr} 입니다.')"
   ]
  },
  {
   "cell_type": "code",
   "execution_count": 199,
   "id": "0acf1ba8-361a-436e-93cf-0149036b3590",
   "metadata": {},
   "outputs": [
    {
     "name": "stdout",
     "output_type": "stream",
     "text": [
      "2x1=2\t3x1=3\t4x1=4\t5x1=5\t6x1=6\t7x1=7\t8x1=8\t9x1=9\t\n",
      "2x2=4\t3x2=6\t4x2=8\t5x2=10\t6x2=12\t7x2=14\t8x2=16\t9x2=18\t\n",
      "2x3=6\t3x3=9\t4x3=12\t5x3=15\t6x3=18\t7x3=21\t8x3=24\t9x3=27\t\n",
      "2x4=8\t3x4=12\t4x4=16\t5x4=20\t6x4=24\t7x4=28\t8x4=32\t9x4=36\t\n",
      "2x5=10\t3x5=15\t4x5=20\t5x5=25\t6x5=30\t7x5=35\t8x5=40\t9x5=45\t\n",
      "2x6=12\t3x6=18\t4x6=24\t5x6=30\t6x6=36\t7x6=42\t8x6=48\t9x6=54\t\n",
      "2x7=14\t3x7=21\t4x7=28\t5x7=35\t6x7=42\t7x7=49\t8x7=56\t9x7=63\t\n",
      "2x8=16\t3x8=24\t4x8=32\t5x8=40\t6x8=48\t7x8=56\t8x8=64\t9x8=72\t\n",
      "2x9=18\t3x9=27\t4x9=36\t5x9=45\t6x9=54\t7x9=63\t8x9=72\t9x9=81\t\n"
     ]
    }
   ],
   "source": [
    "for i in range(1,10):\n",
    "    for _ in range(2,10):\n",
    "        print(f'{_}x{i}={_*i}',end=\"\\t\")\n",
    "    print()"
   ]
  },
  {
   "cell_type": "code",
   "execution_count": 200,
   "id": "5bb43654-523f-48a1-b6c8-b7243a914669",
   "metadata": {},
   "outputs": [
    {
     "name": "stdout",
     "output_type": "stream",
     "text": [
      "2x1=2\t3x1=3\t4x1=4\t5x1=5\t6x1=6\t7x1=7\t8x1=8\t9x1=9\t\n",
      "2x2=4\t3x2=6\t4x2=8\t5x2=10\t6x2=12\t7x2=14\t8x2=16\t9x2=18\t\n",
      "2x3=6\t3x3=9\t4x3=12\t5x3=15\t6x3=18\t7x3=21\t8x3=24\t9x3=27\t\n",
      "2x4=8\t3x4=12\t4x4=16\t5x4=20\t6x4=24\t7x4=28\t8x4=32\t9x4=36\t\n",
      "2x5=10\t3x5=15\t4x5=20\t5x5=25\t6x5=30\t7x5=35\t8x5=40\t9x5=45\t\n",
      "2x6=12\t3x6=18\t4x6=24\t5x6=30\t6x6=36\t7x6=42\t8x6=48\t9x6=54\t\n",
      "2x7=14\t3x7=21\t4x7=28\t5x7=35\t6x7=42\t7x7=49\t8x7=56\t9x7=63\t\n",
      "2x8=16\t3x8=24\t4x8=32\t5x8=40\t6x8=48\t7x8=56\t8x8=64\t9x8=72\t\n",
      "2x9=18\t3x9=27\t4x9=36\t5x9=45\t6x9=54\t7x9=63\t8x9=72\t9x9=81\t\n"
     ]
    }
   ],
   "source": [
    "a = 1\n",
    "b = 2\n",
    "while a < 10:\n",
    "    while b < 10:\n",
    "        print(f'{b}x{a}={b*a}',end=\"\\t\")\n",
    "        b+=1\n",
    "    a+=1\n",
    "    b=2\n",
    "    print()"
   ]
  },
  {
   "cell_type": "markdown",
   "id": "63fc9a11-d6f2-40b9-8bec-a98de879276a",
   "metadata": {},
   "source": [
    "### 딕셔너리 자료형  \n",
    "- 비 시퀸스 자료형 따라서 인덱스를 갖지 않는다.  \n",
    "- 대신 이 자료형은 고유한 키 값을 갖습니다.  \n",
    "- 이 키는 1대1로 매칭되는 값을 갖습니다.  \n",
    "- 이를 key-value pair라고 하며 딕셔너리 자료형의 특징입니다.  \n",
    "### key: value -> key-value pair"
   ]
  },
  {
   "cell_type": "code",
   "execution_count": 203,
   "id": "e278105a-9fc5-4d1d-a733-b05ab8bd7cf9",
   "metadata": {},
   "outputs": [
    {
     "name": "stdout",
     "output_type": "stream",
     "text": [
      "<class 'dict'>\n",
      "{'key': 'value'}\n"
     ]
    }
   ],
   "source": [
    "dic_var = {\"key\": \"value\"}\n",
    "print(type(dic_var))\n",
    "print(dic_var)"
   ]
  },
  {
   "cell_type": "code",
   "execution_count": 205,
   "id": "29db2adb-d8ef-487d-825e-83232c49cbaa",
   "metadata": {},
   "outputs": [
    {
     "name": "stdout",
     "output_type": "stream",
     "text": [
      "{'key': 'last value'}\n"
     ]
    }
   ],
   "source": [
    "dic_var = {\"key\": \"value\", \"key\": \"last value\"}\n",
    "print(dic_var)"
   ]
  },
  {
   "cell_type": "code",
   "execution_count": 206,
   "id": "3f9e83d1-8513-49ff-ba02-867f05dc9300",
   "metadata": {},
   "outputs": [
    {
     "name": "stdout",
     "output_type": "stream",
     "text": [
      "[<class 'str'>, <class 'int'>, <class 'float'>, <class 'tuple'>]\n"
     ]
    }
   ],
   "source": [
    "dic_var = {\"key\": \"value\",\n",
    "          1: \"value2\",\n",
    "          1.1:\"value3\",\n",
    "          True: \"value3\",\n",
    "          (\"key\",1,1.1, True): \"value2\"}\n",
    "print(list(map(type, dic_var.keys())))"
   ]
  },
  {
   "cell_type": "code",
   "execution_count": 2,
   "id": "468d3451-1aa1-414e-b93d-5891ed3b6434",
   "metadata": {},
   "outputs": [
    {
     "name": "stdout",
     "output_type": "stream",
     "text": [
      "[<class 'str'>, <class 'bool'>, <class 'float'>, <class 'tuple'>, <class 'list'>, <class 'dict'>, <class 'set'>]\n"
     ]
    }
   ],
   "source": [
    "dic_var = {\"key\": \"value\",\n",
    "          1: 1,\n",
    "          1.1: 1.1,\n",
    "          True: False,\n",
    "          (\"key\",1,1.1, True): (\"key\",1,1.1, True),\n",
    "          \"list\": [1,'가', 1.1, True, (1, '나')],\n",
    "          \"dict\": {\"key\": \"value\", \"key\": \"value\"},\n",
    "          \"set\": {\"key\", \"value\"}\n",
    "          }\n",
    "print(list(map(type, dic_var.values())))"
   ]
  },
  {
   "cell_type": "code",
   "execution_count": 208,
   "id": "88344108-ffa9-44f2-9c08-f8cf7f55b4d8",
   "metadata": {},
   "outputs": [
    {
     "name": "stdout",
     "output_type": "stream",
     "text": [
      "{}\n",
      "<class 'dict'>\n"
     ]
    }
   ],
   "source": [
    "empty_dict = {}\n",
    "print(empty_dict)\n",
    "print(type(empty_dict))"
   ]
  },
  {
   "cell_type": "code",
   "execution_count": 209,
   "id": "7717b39d-285a-4788-b4e6-d52048d9c9f4",
   "metadata": {},
   "outputs": [
    {
     "name": "stdout",
     "output_type": "stream",
     "text": [
      "{}\n",
      "<class 'dict'>\n"
     ]
    }
   ],
   "source": [
    "empty_dict = dict()\n",
    "print(empty_dict)\n",
    "print(type(empty_dict))"
   ]
  },
  {
   "cell_type": "code",
   "execution_count": 210,
   "id": "b6448e63-4e64-4cc8-91cb-c16d1e6e53ba",
   "metadata": {},
   "outputs": [
    {
     "name": "stdout",
     "output_type": "stream",
     "text": [
      "{'key': 'value', 'key2': 'value2', 'key3': 'value3'}\n"
     ]
    }
   ],
   "source": [
    "dict_a = dict(key=\"value\", key2=\"value2\", key3=\"value3\")\n",
    "print(dict_a)"
   ]
  },
  {
   "cell_type": "code",
   "execution_count": 211,
   "id": "2f959181-885e-4d62-8494-8bd9f4969701",
   "metadata": {},
   "outputs": [
    {
     "data": {
      "text/plain": [
       "{'key': 'value', 'key2': 'value2'}"
      ]
     },
     "execution_count": 211,
     "metadata": {},
     "output_type": "execute_result"
    }
   ],
   "source": [
    "dict([(\"key\", \"value\"), (\"key2\", \"value2\")])"
   ]
  },
  {
   "cell_type": "code",
   "execution_count": 212,
   "id": "1cd0d7c3-4a3a-4472-9545-37618b7402c7",
   "metadata": {},
   "outputs": [
    {
     "name": "stdout",
     "output_type": "stream",
     "text": [
      "{'key': 'value', 'key2': 'value2', 'key3': 'value3'}\n"
     ]
    }
   ],
   "source": [
    "dict_b = dict(zip([\"key\", \"key2\", \"key3\"], [\"value\", \"value2\", \"value3\"]))\n",
    "print(dict_b)"
   ]
  },
  {
   "cell_type": "code",
   "execution_count": 213,
   "id": "ca6fdde9-d9b7-4f94-a1b2-f07948ad7281",
   "metadata": {},
   "outputs": [
    {
     "name": "stdout",
     "output_type": "stream",
     "text": [
      "<zip object at 0x0000012B46A2DB40>\n"
     ]
    }
   ],
   "source": [
    "print(zip([\"key\", \"key2\", \"key3\"], [\"value\", \"value2\", \"value3\"]))"
   ]
  },
  {
   "cell_type": "code",
   "execution_count": 218,
   "id": "55039537-33f4-41e7-bc3f-70e947fbd89b",
   "metadata": {},
   "outputs": [
    {
     "data": {
      "text/plain": [
       "[('key', 'value'), ('key2', 'value2'), ('key3', 'value3')]"
      ]
     },
     "execution_count": 218,
     "metadata": {},
     "output_type": "execute_result"
    }
   ],
   "source": [
    "[_ for _ in zip([\"key\", \"key2\", \"key3\"], [\"value\", \"value2\", \"value3\"])]"
   ]
  },
  {
   "cell_type": "code",
   "execution_count": 219,
   "id": "9f3f8378-b1e5-4e3f-a01a-cae3550b19cc",
   "metadata": {},
   "outputs": [
    {
     "name": "stdout",
     "output_type": "stream",
     "text": [
      "{'key': 'value', 'key2': 'value2', 'key3': 'value3'}\n",
      "value\n"
     ]
    }
   ],
   "source": [
    "print(dict_b)\n",
    "print(dict_b[\"key\"])"
   ]
  },
  {
   "cell_type": "code",
   "execution_count": 220,
   "id": "cfef1141-3e9c-499b-9d02-e7c6f41017a3",
   "metadata": {},
   "outputs": [
    {
     "name": "stdout",
     "output_type": "stream",
     "text": [
      "{'key': 'value', 'key2': 'value2', 'key3': 'value3'}\n",
      "{'key': 'super value', 'key2': 'value2', 'key3': 'value3'}\n"
     ]
    }
   ],
   "source": [
    "print(dict_b)\n",
    "dict_b['key'] = \"super value\"\n",
    "print(dict_b)"
   ]
  },
  {
   "cell_type": "code",
   "execution_count": 221,
   "id": "2d0a2ded-5387-4215-89eb-8cf65a077869",
   "metadata": {},
   "outputs": [
    {
     "name": "stdout",
     "output_type": "stream",
     "text": [
      "{'key': 'super value', 'key2': 'value2', 'key3': 'value3'}\n",
      "{'key': 'super value', 'key2': 'value2', 'key3': 'value3', 'new one': 'new value'}\n"
     ]
    }
   ],
   "source": [
    "print(dict_b)\n",
    "dict_b['new one'] = \"new value\"\n",
    "print(dict_b)"
   ]
  },
  {
   "cell_type": "code",
   "execution_count": 222,
   "id": "6a3dab2a-f3f8-4a16-ace5-134f01fe4867",
   "metadata": {},
   "outputs": [
    {
     "name": "stdout",
     "output_type": "stream",
     "text": [
      "{'key': 'super value', 'key2': 'value2', 'key3': 'value3', 'new one': 'new value'}\n"
     ]
    },
    {
     "ename": "KeyError",
     "evalue": "'없는 키'",
     "output_type": "error",
     "traceback": [
      "\u001b[1;31m---------------------------------------------------------------------------\u001b[0m",
      "\u001b[1;31mKeyError\u001b[0m                                  Traceback (most recent call last)",
      "\u001b[1;32m~\\AppData\\Local\\Temp\\ipykernel_5332\\3708490652.py\u001b[0m in \u001b[0;36m<module>\u001b[1;34m\u001b[0m\n\u001b[0;32m      1\u001b[0m \u001b[0mprint\u001b[0m\u001b[1;33m(\u001b[0m\u001b[0mdict_b\u001b[0m\u001b[1;33m)\u001b[0m\u001b[1;33m\u001b[0m\u001b[1;33m\u001b[0m\u001b[0m\n\u001b[1;32m----> 2\u001b[1;33m \u001b[0mprint\u001b[0m\u001b[1;33m(\u001b[0m\u001b[0mdict_b\u001b[0m\u001b[1;33m[\u001b[0m\u001b[1;34m'없는 키'\u001b[0m\u001b[1;33m]\u001b[0m\u001b[1;33m)\u001b[0m\u001b[1;33m\u001b[0m\u001b[1;33m\u001b[0m\u001b[0m\n\u001b[0m",
      "\u001b[1;31mKeyError\u001b[0m: '없는 키'"
     ]
    }
   ],
   "source": [
    "print(dict_b)\n",
    "print(dict_b['없는 키'])"
   ]
  },
  {
   "cell_type": "code",
   "execution_count": 223,
   "id": "ded84993-a164-49b4-9604-4f8d63797f01",
   "metadata": {},
   "outputs": [
    {
     "name": "stdout",
     "output_type": "stream",
     "text": [
      "{'key': 'super value', 'key2': 'value2', 'key3': 'value3', 'new one': 'new value'}\n",
      "True\n"
     ]
    }
   ],
   "source": [
    "print(dict_b)\n",
    "print('key' in dict_b)"
   ]
  },
  {
   "cell_type": "code",
   "execution_count": 224,
   "id": "b40d2c92-bb6d-4cf2-90dc-09c664e34cf1",
   "metadata": {},
   "outputs": [
    {
     "name": "stdout",
     "output_type": "stream",
     "text": [
      "{'key': 'super value', 'key2': 'value2', 'key3': 'value3', 'new one': 'new value'}\n",
      "{'key': 'super value', 'key2': 'value2', 'key3': 'value3'}\n"
     ]
    }
   ],
   "source": [
    "print(dict_b)\n",
    "del dict_b['new one']\n",
    "print(dict_b)"
   ]
  },
  {
   "cell_type": "code",
   "execution_count": 225,
   "id": "7a61f4f3-49e9-417d-9969-dc5923efcef2",
   "metadata": {},
   "outputs": [
    {
     "name": "stdout",
     "output_type": "stream",
     "text": [
      "{'key': 'super value', 'key2': 'value2', 'key3': 'value3'}\n"
     ]
    },
    {
     "data": {
      "text/plain": [
       "3"
      ]
     },
     "execution_count": 225,
     "metadata": {},
     "output_type": "execute_result"
    }
   ],
   "source": [
    "print(dict_b)\n",
    "len(dict_b)"
   ]
  },
  {
   "cell_type": "code",
   "execution_count": 243,
   "id": "64d5b0fb-32f0-4143-80fd-e20c5659ebbb",
   "metadata": {},
   "outputs": [
    {
     "name": "stdin",
     "output_type": "stream",
     "text": [
      "과일 이름을 입력하세요. 사과\n"
     ]
    },
    {
     "name": "stdout",
     "output_type": "stream",
     "text": [
      "사과의 가격은 1000원입니다.\n"
     ]
    }
   ],
   "source": [
    "dict_fruit = {'사과': 1000, '바나나': 700, \n",
    "              '오렌지': 1500, '파인애플': 2000}\n",
    "input_fruit = input(\"과일 이름을 입력하세요.\")\n",
    "print(f'{fruit}의 가격은 {dict_fruit[input_fruit]}원입니다.')"
   ]
  },
  {
   "cell_type": "code",
   "execution_count": 244,
   "id": "9bb5c01a-1fac-4f0e-bc41-b28cbd1a6bd7",
   "metadata": {},
   "outputs": [
    {
     "name": "stdin",
     "output_type": "stream",
     "text": [
      "과일 이름을 입력하세요. 사과\n"
     ]
    },
    {
     "name": "stdout",
     "output_type": "stream",
     "text": [
      "사과의 가격은 1000원입니다.\n"
     ]
    }
   ],
   "source": [
    "dict_fruit = dict(zip([\"사과\", \"바나나\", \"오렌지\", \"파인애플\"], \n",
    "                      [1000, 700, 1500, 2000]))\n",
    "input_fruit = input(\"과일 이름을 입력하세요.\")\n",
    "print(f'{fruit}의 가격은 {dict_fruit[input_fruit]}원입니다.')"
   ]
  },
  {
   "cell_type": "code",
   "execution_count": 296,
   "id": "9b95ed70-9c86-4959-86b4-f82120764458",
   "metadata": {},
   "outputs": [
    {
     "name": "stdin",
     "output_type": "stream",
     "text": [
      "이름을 기입해주세요. 뽀로로 루피 크롱 스누피\n",
      "몸무게를 입력해주세요. 20.4 16.2 22.3 5.2\n"
     ]
    },
    {
     "name": "stdout",
     "output_type": "stream",
     "text": [
      "{'뽀로로': 20.4, '루피': 16.2, '크롱': 22.3, '스누피': 5.2}\n"
     ]
    }
   ],
   "source": [
    "dict_cha = dict(zip(input(\"이름을 기입해주세요.\").split(\" \"),map(float,input(\"몸무게를 입력해주세요.\").split(\" \"))))\n",
    "print(dict_cha)"
   ]
  },
  {
   "cell_type": "code",
   "execution_count": 293,
   "id": "9e8b4829-5958-43a4-9095-977bfa1dbe5b",
   "metadata": {},
   "outputs": [
    {
     "name": "stdin",
     "output_type": "stream",
     "text": [
      "이름을 기입해주세요. 뽀로로 루피 크롱 스누피\n",
      "몸무게를 입력해주세요. 20.4 16.2 22.3 5.2\n"
     ]
    },
    {
     "name": "stdout",
     "output_type": "stream",
     "text": [
      "{'뽀로로': 20.4, '루피': 16.2, '크롱': 22.3, '스누피': 5.2}\n"
     ]
    }
   ],
   "source": [
    "names = input(\"이름을 기입해주세요.\").split(\" \")\n",
    "weights = map(float,input(\"몸무게를 입력해주세요.\").split(\" \"))\n",
    "dict_info = dict(zip(names, weights))\n",
    "print(dict_info)"
   ]
  },
  {
   "cell_type": "code",
   "execution_count": 298,
   "id": "a04649f7-a8b3-489d-b94c-e99fa1403550",
   "metadata": {},
   "outputs": [
    {
     "name": "stdin",
     "output_type": "stream",
     "text": [
      "이름을 기입해주세요. 뽀로로 루피 크롱 스누피\n",
      "몸무게를 입력해주세요. 20.1 16.2 25.2 5.3\n"
     ]
    },
    {
     "name": "stdout",
     "output_type": "stream",
     "text": [
      "{'뽀로로': 20.1, '루피': 16.2, '크롱': 25.2, '스누피': 5.3}\n"
     ]
    }
   ],
   "source": [
    "#['뽀로로', '루피', '크롱', '스누피']\n",
    "names = input(\"이름을 기입해주세요.\").split(\" \")\n",
    "# map --> 20.1 16.2 25.2 5.3\n",
    "weights = list(map(float,input(\"몸무게를 입력해주세요.\").split(\" \")))\n",
    "\n",
    "dict_mm = {}\n",
    "# dict_mm = dict()\n",
    "# Len(names) --> 4\n",
    "# range(4) --> 0, 1, 2, 3\n",
    "# i --> i = 0 반복, i = 1 반복, i = 2 반복, i = 3 반복\n",
    "for i in range(len(names)):\n",
    "    dict_mm[names[i]] = weights[i]\n",
    "\n",
    "print(dict_mm)"
   ]
  },
  {
   "cell_type": "code",
   "execution_count": 13,
   "id": "da9a0749-ee22-4236-ab62-6dcdf8be550f",
   "metadata": {},
   "outputs": [
    {
     "name": "stdout",
     "output_type": "stream",
     "text": [
      "김태형 후보가 총  4표를 받아 당선되었습니다.\n"
     ]
    }
   ],
   "source": [
    "votes = [2,5,3,4,1,5,1,5,5,3]\n",
    "candidates = [\"\", \"전정국\", \"김남준\", \"박지민\", \"정호석\", \"김태형\"]\n",
    "counts = [0] * len(candidates)\n",
    "\n",
    "for vote in votes:\n",
    "    counts[vote] += 1\n",
    "    \n",
    "i = 1\n",
    "max_count = 0\n",
    "elected_person = 0 #index용\n",
    "# 1, 2, 3, 4, 5\n",
    "while i < len(counts): # Len(counts) => 6\n",
    "    if max_count < counts[i]:\n",
    "        max_count = counts[i]\n",
    "        elected_person = i\n",
    "    i += 1\n",
    "print(f'{candidates[elected_person]} 후보가 총  {max_count}표를 받아 당선되었습니다.')"
   ]
  },
  {
   "cell_type": "code",
   "execution_count": 14,
   "id": "7941e8b9-a37a-448b-aad4-71891bfb0f50",
   "metadata": {},
   "outputs": [
    {
     "name": "stdout",
     "output_type": "stream",
     "text": [
      "김태형 후보가 총  4표를 받아 당선되었습니다.\n"
     ]
    }
   ],
   "source": [
    "votes = [2,5,3,4,1,5,1,5,5,3]\n",
    "candidates = [\"\", \"전정국\", \"김남준\", \"박지민\", \"정호석\", \"김태형\"]\n",
    "counts = [0] * len(candidates)\n",
    "\n",
    "for vote in votes:\n",
    "    counts[vote] += 1\n",
    "    \n",
    "i = 1\n",
    "max_count = 0\n",
    "elected_person = 0 #index용\n",
    "# 1, 2, 3, 4, 5\n",
    "max_count = max(counts)\n",
    "elected_person = counts.index(max_count)\n",
    "\n",
    "print(f'{candidates[elected_person]} 후보가 총  {max_count}표를 받아 당선되었습니다.')"
   ]
  },
  {
   "cell_type": "markdown",
   "id": "6f1fecbd-96a7-47eb-b798-7b86c02704de",
   "metadata": {},
   "source": [
    "### List"
   ]
  },
  {
   "cell_type": "code",
   "execution_count": 299,
   "id": "712192d7-5eaf-4a8a-b189-d45b3e4e994d",
   "metadata": {},
   "outputs": [
    {
     "name": "stdout",
     "output_type": "stream",
     "text": [
      "<class 'list'>\n",
      "[48, 48, 33, 95]\n"
     ]
    }
   ],
   "source": [
    "list_a = [48, 48, 33, 95]\n",
    "print(type(list_a))\n",
    "print(list_a)"
   ]
  },
  {
   "cell_type": "code",
   "execution_count": 7,
   "id": "3e893966-3328-4603-b50f-00b1974af214",
   "metadata": {},
   "outputs": [
    {
     "name": "stdout",
     "output_type": "stream",
     "text": [
      "<class 'list'>\n",
      "[]\n",
      "[1, 2, 3, 4, 5]\n",
      "<class 'list'>\n"
     ]
    }
   ],
   "source": [
    "empty_list = []\n",
    "print(type(empty_list))\n",
    "print(empty_list)\n",
    "empty_list = [1,2,3,4,5]\n",
    "print(empty_list)\n",
    "print(type(empty_list))"
   ]
  },
  {
   "cell_type": "code",
   "execution_count": 302,
   "id": "265d8a88-c2ff-49dc-8ce1-d809c661047e",
   "metadata": {},
   "outputs": [
    {
     "name": "stdin",
     "output_type": "stream",
     "text": [
      "숫자를 띄어쓰기로 구분하여 여럿 입력해보세요. 1 2 2 2 2 2 2 1\n"
     ]
    },
    {
     "name": "stdout",
     "output_type": "stream",
     "text": [
      "<class 'list'>\n",
      "[1, 2, 2, 2, 2, 2, 2, 1]\n"
     ]
    }
   ],
   "source": [
    "list_b = list(map(int,input(\"숫자를 띄어쓰기로 구분하여 여럿 입력해보세요.\").split()))\n",
    "print(type(list_b))\n",
    "print(list_b)"
   ]
  },
  {
   "cell_type": "markdown",
   "id": "6d7a9b8c-d902-4c00-8ab2-e7ddec96fd74",
   "metadata": {},
   "source": [
    "### 리스트 컴프리헨션  \n",
    "1. 반복가능한 객체로부터 값을 하나 꺼내와서 변수에 담습니다.\n",
    "2. 요소를 담은 변수를 활용해서 표현식을 실행합니다.\n",
    "3. 표현식 결과 값을 리스트 요소에 넣습닏\n",
    "4. 반복가능한 객체로부터 값이 없을 때까지 1~3 과정을 반복합니다.\n",
    "```python  \n",
    "list_variable = [expression for 변수 in iterable]\n",
    "```"
   ]
  },
  {
   "cell_type": "code",
   "execution_count": 304,
   "id": "07674c84-a13c-4469-b564-4beefd65c5db",
   "metadata": {},
   "outputs": [
    {
     "name": "stdout",
     "output_type": "stream",
     "text": [
      "[1, 4, 9, 16, 25, 36, 49, 64, 81]\n"
     ]
    }
   ],
   "source": [
    "# range --> 0, 1, 2, .. 9\n",
    "# _ --> _ = 0, ... _ = 9\n",
    "list_a = [_**2 for _ in range(1,10)]\n",
    "print(list_a)"
   ]
  },
  {
   "cell_type": "code",
   "execution_count": 310,
   "id": "0e892101-826e-403d-ab48-50bcdc3ddff6",
   "metadata": {},
   "outputs": [
    {
     "name": "stdout",
     "output_type": "stream",
     "text": [
      "Hello world\n",
      "Hello world\n",
      "Hello world\n",
      "Hello world\n",
      "Hello world\n",
      "Hello world\n",
      "Hello world\n",
      "Hello world\n",
      "Hello world\n",
      "Hello world\n"
     ]
    },
    {
     "data": {
      "text/plain": [
       "[None, None, None, None, None, None, None, None, None, None]"
      ]
     },
     "execution_count": 310,
     "metadata": {},
     "output_type": "execute_result"
    }
   ],
   "source": [
    "[print(\"Hello world\") for _ in range(10)]"
   ]
  },
  {
   "cell_type": "code",
   "execution_count": 311,
   "id": "0c204f04-c438-4661-a45f-236dce7882a2",
   "metadata": {},
   "outputs": [
    {
     "name": "stdout",
     "output_type": "stream",
     "text": [
      "[1, 4, 9, 16, 25, 36, 49, 64, 81]\n"
     ]
    }
   ],
   "source": [
    "list_c = []\n",
    "for _ in range(1,10):\n",
    "    list_c.append(_**2)\n",
    "print(list_c)"
   ]
  },
  {
   "cell_type": "code",
   "execution_count": 314,
   "id": "4fe89eac-ea0d-479e-a109-ca885e8abfd2",
   "metadata": {},
   "outputs": [
    {
     "name": "stdout",
     "output_type": "stream",
     "text": [
      "[1, 4, 9, 16, 25, 36, 49, 64, 81]\n"
     ]
    }
   ],
   "source": [
    "# list comprehention\n",
    "list_d = [_**2 for _ in range(1,10)]\n",
    "print(list_d)"
   ]
  },
  {
   "cell_type": "code",
   "execution_count": 319,
   "id": "3ca59287-830d-4018-975a-1692a03d4d46",
   "metadata": {},
   "outputs": [
    {
     "name": "stdout",
     "output_type": "stream",
     "text": [
      "<class 'list'>\n",
      "[1, 4, 9, 16, 25, 36, 49, 64, 81]\n"
     ]
    }
   ],
   "source": [
    "prac_result = [_**2 for _ in range(1,10)]\n",
    "print(type(prac_result))\n",
    "print(prac_result)"
   ]
  },
  {
   "cell_type": "code",
   "execution_count": 18,
   "id": "6baa4b14-e866-4b25-8ef1-0d54d46ec8bd",
   "metadata": {},
   "outputs": [
    {
     "name": "stdout",
     "output_type": "stream",
     "text": [
      "<class 'list'>\n",
      "[1, 4, 9, 16, 25, 36, 49, 64, 81]\n"
     ]
    }
   ],
   "source": [
    "prac_result = [_*_ for _ in range(1,10)]\n",
    "print(type(prac_result))\n",
    "print(prac_result)"
   ]
  },
  {
   "cell_type": "code",
   "execution_count": 37,
   "id": "36876628-1fed-4469-80d4-a4a8033bf2d2",
   "metadata": {},
   "outputs": [
    {
     "name": "stdout",
     "output_type": "stream",
     "text": [
      "[1, 3, 5, 7, 9]\n"
     ]
    }
   ],
   "source": [
    "prac_result2 = [i for i in range(1,10,2)]\n",
    "print(prac_result2)"
   ]
  },
  {
   "cell_type": "code",
   "execution_count": 64,
   "id": "a03b1798-6a56-4d91-b0f1-ce76bf36926a",
   "metadata": {},
   "outputs": [
    {
     "name": "stdout",
     "output_type": "stream",
     "text": [
      "['a', 'b', 'c', 'd', 'e', 'f', 'g', 'h', 'i', 'j', 'k', 'l', 'm', 'n', 'o', 'p', 'q', 'r', 's', 't', 'u', 'v', 'w', 'x', 'y', 'z']\n"
     ]
    }
   ],
   "source": [
    "prac_result3 = [ _ for _ in 'abcdefghijklmnopqrstuvwxyz']\n",
    "print(prac_result3)"
   ]
  },
  {
   "cell_type": "code",
   "execution_count": 87,
   "id": "578a8859-2a5d-430c-ab1e-b1ba587a49c4",
   "metadata": {},
   "outputs": [
    {
     "name": "stdout",
     "output_type": "stream",
     "text": [
      "['2', '3', '4', '5', '6', '7', '8', '9', '10', 'J', 'Q', 'K', 'A']\n"
     ]
    }
   ],
   "source": [
    "prac_result4 = [str(i) for i in range(2,11)]+ [i for i in 'JQKA']\n",
    "print(prac_result4)"
   ]
  },
  {
   "cell_type": "code",
   "execution_count": 86,
   "id": "aa835c92-6e0a-47f1-8429-d1f091cc56e2",
   "metadata": {},
   "outputs": [
    {
     "name": "stdout",
     "output_type": "stream",
     "text": [
      "['2', '3', '4', '5', '6', '7', '8', '9', '10', 'J', 'Q', 'K', 'A']\n"
     ]
    }
   ],
   "source": [
    "prac_result4 = [str(i) for i in range(2,11)]\n",
    "prac_result4.extend([i for i in 'JQKA'])\n",
    "print(prac_result4)"
   ]
  },
  {
   "cell_type": "code",
   "execution_count": 90,
   "id": "d7c0ca51-45f4-4305-89ec-9a67b6dea853",
   "metadata": {},
   "outputs": [
    {
     "name": "stdout",
     "output_type": "stream",
     "text": [
      "[['2', '3', '4', '5', '6', '7', '8', '9', '10', 'J', 'Q', 'K', 'A'], ['2', '3', '4', '5', '6', '7', '8', '9', '10', 'J', 'Q', 'K', 'A'], ['2', '3', '4', '5', '6', '7', '8', '9', '10', 'J', 'Q', 'K', 'A'], ['2', '3', '4', '5', '6', '7', '8', '9', '10', 'J', 'Q', 'K', 'A']]\n"
     ]
    }
   ],
   "source": [
    "prac_result5 = [prac_result4 for _ in range(4)]\n",
    "print(prac_result5)"
   ]
  },
  {
   "cell_type": "code",
   "execution_count": 91,
   "id": "3145498b-c67f-4bb2-b17e-e6c0e31a7654",
   "metadata": {},
   "outputs": [
    {
     "name": "stdout",
     "output_type": "stream",
     "text": [
      "['two', '3', '4', '5', '6', '7', '8', '9', '10', 'J', 'Q', 'K', 'A']\n"
     ]
    }
   ],
   "source": [
    "prac_result4[0] = 'two'\n",
    "print(prac_result4)"
   ]
  },
  {
   "cell_type": "code",
   "execution_count": 96,
   "id": "8d266749-37fc-4c44-92e5-bf4ebec9c4d3",
   "metadata": {},
   "outputs": [
    {
     "name": "stdout",
     "output_type": "stream",
     "text": [
      "[['two', '3', '4', '5', '6', '7', '8', '9', '10', 'J', 'Q', 'K', 'A'], ['two', '3', '4', '5', '6', '7', '8', '9', '10', 'J', 'Q', 'K', 'A'], ['two', '3', '4', '5', '6', '7', '8', '9', '10', 'J', 'Q', 'K', 'A'], ['two', '3', '4', '5', '6', '7', '8', '9', '10', 'J', 'Q', 'K', 'A']]\n"
     ]
    }
   ],
   "source": [
    "print(prac_result5)"
   ]
  },
  {
   "cell_type": "code",
   "execution_count": 107,
   "id": "92958be2-ae12-4a17-a58d-418d89232e3a",
   "metadata": {},
   "outputs": [
    {
     "name": "stdout",
     "output_type": "stream",
     "text": [
      "prac_result4의 id: 2514298442304\n",
      "prac_result5[0] : 2514298442304\n",
      "prac_result5[1] : 2514298442304\n",
      "prac_result5[2] : 2514298442304\n",
      "prac_result5[3] : 2514298442304\n"
     ]
    }
   ],
   "source": [
    "print(\"prac_result4의 id:\",id(prac_result4))\n",
    "\n",
    "for i, v in enumerate(prac_result5):\n",
    "    print(\"prac_result5[\",i,\"] : \", id(v), sep=\"\")"
   ]
  },
  {
   "cell_type": "code",
   "execution_count": 108,
   "id": "2ee3141b-9029-40ca-b78c-03d1717d7712",
   "metadata": {},
   "outputs": [
    {
     "name": "stdout",
     "output_type": "stream",
     "text": [
      "prac_result4의 id: 2514298442304\n",
      "prac_result6[0] : 2514298471680\n",
      "prac_result6[1] : 2514298445504\n",
      "prac_result6[2] : 2514298443648\n",
      "prac_result6[3] : 2514298470720\n"
     ]
    }
   ],
   "source": [
    "prac_result6 = [prac_result4[:] for _ in range(4)]\n",
    "print(\"prac_result4의 id:\",id(prac_result4))\n",
    "for i, v in enumerate(prac_result6):\n",
    "    print(\"prac_result6[\",i,\"] : \", id(v), sep=\"\")"
   ]
  },
  {
   "cell_type": "code",
   "execution_count": 123,
   "id": "c12ccddc-8536-4c68-9e76-28c227412a7a",
   "metadata": {},
   "outputs": [
    {
     "name": "stdout",
     "output_type": "stream",
     "text": [
      "2514330844224\n",
      "2514298521792\n",
      "False\n",
      "True\n"
     ]
    }
   ],
   "source": [
    "old_list = list(range(10))\n",
    "new_list = old_list[:]\n",
    "print(id(old_list))\n",
    "print(id(new_list))\n",
    "print(old_list is new_list) # 같은 것인지\n",
    "print(old_list == new_list) # 값이 같은지"
   ]
  },
  {
   "cell_type": "code",
   "execution_count": 119,
   "id": "5cf8e669-2bd7-4256-80c0-80aa230a8d06",
   "metadata": {},
   "outputs": [
    {
     "name": "stdout",
     "output_type": "stream",
     "text": [
      "2514298444992\n"
     ]
    }
   ],
   "source": [
    "list_sample = [_ for _ in range(1,46)]\n",
    "print(id(list_sample))"
   ]
  },
  {
   "cell_type": "code",
   "execution_count": 120,
   "id": "0f2ffd17-a709-476c-bc47-55fe0dda8b79",
   "metadata": {},
   "outputs": [
    {
     "name": "stdout",
     "output_type": "stream",
     "text": [
      "2514298472832\n"
     ]
    }
   ],
   "source": [
    "print(id(list_sample[:]))"
   ]
  },
  {
   "cell_type": "code",
   "execution_count": 122,
   "id": "f812f8fa-f6c3-4229-8647-9749d885af17",
   "metadata": {},
   "outputs": [
    {
     "name": "stdout",
     "output_type": "stream",
     "text": [
      "2514298520112\n",
      "2514298520112\n"
     ]
    }
   ],
   "source": [
    "str_sample = \"This is str\"\n",
    "str2 = str_sample[:]\n",
    "print(id(str_sample))\n",
    "print(id(str2))"
   ]
  },
  {
   "cell_type": "code",
   "execution_count": 124,
   "id": "18e6ee6d-1486-4b62-b535-dfab6e5f694f",
   "metadata": {},
   "outputs": [
    {
     "name": "stdout",
     "output_type": "stream",
     "text": [
      "2514342563520\n",
      "2514342563520\n",
      "True\n",
      "True\n"
     ]
    }
   ],
   "source": [
    "old_tuple = tuple(range(10))\n",
    "new_tuple = old_tuple[:]\n",
    "print(id(old_tuple))\n",
    "print(id(new_tuple))\n",
    "print(old_tuple is new_tuple) # 같은 것인지\n",
    "print(old_tuple == new_tuple) # 값이 같은지"
   ]
  },
  {
   "cell_type": "code",
   "execution_count": 127,
   "id": "cb6c0d96-3491-4da1-92f1-3ac81f6608f7",
   "metadata": {},
   "outputs": [
    {
     "name": "stdout",
     "output_type": "stream",
     "text": [
      "True\n",
      "True\n"
     ]
    }
   ],
   "source": [
    "str_a = \"hello\"\n",
    "str_b = \"hello\"\n",
    "print(str_a is str_b)\n",
    "print(str_a == str_b)"
   ]
  },
  {
   "cell_type": "code",
   "execution_count": 128,
   "id": "f84ec3b3-86b5-4bea-87bb-4ce65c194fc7",
   "metadata": {},
   "outputs": [
    {
     "name": "stdout",
     "output_type": "stream",
     "text": [
      "[0, 1, 8, 27, 64, 125, 216, 343, 512, 729]\n"
     ]
    }
   ],
   "source": [
    "list_d = list(i**3 for i in range(10))\n",
    "print(list_d)"
   ]
  },
  {
   "cell_type": "code",
   "execution_count": 133,
   "id": "0154f1f0-f92a-4539-ae13-e31537375d3c",
   "metadata": {},
   "outputs": [
    {
     "name": "stdout",
     "output_type": "stream",
     "text": [
      "0.2117595672607422\n"
     ]
    }
   ],
   "source": [
    "# 대괄호가 더 빠르다\n",
    "import time\n",
    "\n",
    "curr = time.time()\n",
    "\n",
    "for _ in range(10000):\n",
    "    [i for i in range(1000)]\n",
    "last = time.time()\n",
    "print(last - curr)"
   ]
  },
  {
   "cell_type": "code",
   "execution_count": 132,
   "id": "f6f75591-3c4b-4c56-ab63-7b477ce7bd3b",
   "metadata": {},
   "outputs": [
    {
     "name": "stdout",
     "output_type": "stream",
     "text": [
      "0.3361189365386963\n"
     ]
    }
   ],
   "source": [
    "import time\n",
    "\n",
    "curr = time.time()\n",
    "\n",
    "for _ in range(10000):\n",
    "    list(i for i in range(1000))\n",
    "last = time.time()\n",
    "print(last - curr)"
   ]
  },
  {
   "cell_type": "code",
   "execution_count": 136,
   "id": "b81ee379-c69c-424a-a74d-f8d73bf4d67e",
   "metadata": {},
   "outputs": [
    {
     "name": "stdout",
     "output_type": "stream",
     "text": [
      "[0, 1, 2, 3, 4, 5, 6, 7, 8, 9]\n"
     ]
    }
   ],
   "source": [
    "list_e = [ i for i in range(10)]\n",
    "print(list_e)"
   ]
  },
  {
   "cell_type": "code",
   "execution_count": 137,
   "id": "75029a49-a86e-4050-bf52-47e4fe0342ce",
   "metadata": {},
   "outputs": [],
   "source": [
    "list_f = list_e"
   ]
  },
  {
   "cell_type": "code",
   "execution_count": 138,
   "id": "0945316e-42b2-4653-9bb5-c800744d5270",
   "metadata": {},
   "outputs": [
    {
     "name": "stdout",
     "output_type": "stream",
     "text": [
      "[0, 1, 2, 3, 4, 5, 6, 7, 8, 9]\n"
     ]
    }
   ],
   "source": [
    "print(list_f)"
   ]
  },
  {
   "cell_type": "code",
   "execution_count": 140,
   "id": "597fd908-4f36-4e62-b976-0c9d69f5fd94",
   "metadata": {},
   "outputs": [
    {
     "name": "stdout",
     "output_type": "stream",
     "text": [
      "2514331250432\n",
      "2514331250432\n"
     ]
    }
   ],
   "source": [
    "print(id(list_e))\n",
    "print(id(list_f))"
   ]
  },
  {
   "cell_type": "code",
   "execution_count": 142,
   "id": "c9285158-21f4-49f4-8636-2fbcd5fa4e0b",
   "metadata": {},
   "outputs": [
    {
     "name": "stdout",
     "output_type": "stream",
     "text": [
      "True\n",
      "True\n"
     ]
    }
   ],
   "source": [
    "print(list_e is list_f)\n",
    "print(list_e == list_f)"
   ]
  },
  {
   "cell_type": "code",
   "execution_count": 146,
   "id": "a3b1c918-a015-4eb0-aca0-14b487e2baae",
   "metadata": {},
   "outputs": [
    {
     "name": "stdout",
     "output_type": "stream",
     "text": [
      "[999, 1, 2, 3, 4, 5, 6, 7, 8, 9]\n",
      "[999, 1, 2, 3, 4, 5, 6, 7, 8, 9]\n"
     ]
    }
   ],
   "source": [
    "list_e[0] = 999 \n",
    "print(list_e)\n",
    "print(list_f)"
   ]
  },
  {
   "cell_type": "code",
   "execution_count": 217,
   "id": "ae54261d-0271-4849-983e-7875f8c4d108",
   "metadata": {},
   "outputs": [
    {
     "name": "stdin",
     "output_type": "stream",
     "text": [
      "순환할 숫자를 입력하세요: 10\n"
     ]
    },
    {
     "name": "stdout",
     "output_type": "stream",
     "text": [
      "1 2 3 4 5 6 7 8 9 10 \n",
      "2 3 4 5 6 7 8 9 10 1 \n",
      "3 4 5 6 7 8 9 10 1 2 \n",
      "4 5 6 7 8 9 10 1 2 3 \n",
      "5 6 7 8 9 10 1 2 3 4 \n",
      "6 7 8 9 10 1 2 3 4 5 \n",
      "7 8 9 10 1 2 3 4 5 6 \n",
      "8 9 10 1 2 3 4 5 6 7 \n",
      "9 10 1 2 3 4 5 6 7 8 \n",
      "10 1 2 3 4 5 6 7 8 9 \n"
     ]
    }
   ],
   "source": [
    "_ = 0\n",
    "num = 0\n",
    "num = int(input(\"순환할 숫자를 입력하세요:\"))\n",
    "\n",
    "while _ < num:\n",
    "    __ = 0\n",
    "    while __ < num:\n",
    "        print((_+__)%num +1 ,end=\" \")\n",
    "        __+=1\n",
    "    print()\n",
    "    _+=1"
   ]
  },
  {
   "cell_type": "code",
   "execution_count": 219,
   "id": "a45519b3-8db9-41aa-b257-afa93d455a93",
   "metadata": {},
   "outputs": [
    {
     "name": "stdin",
     "output_type": "stream",
     "text": [
      "순환할 숫자를 입력하세요: 10\n"
     ]
    },
    {
     "name": "stdout",
     "output_type": "stream",
     "text": [
      "1 2 3 4 5 6 7 8 9 10 \n",
      "2 3 4 5 6 7 8 9 10 1 \n",
      "3 4 5 6 7 8 9 10 1 2 \n",
      "4 5 6 7 8 9 10 1 2 3 \n",
      "5 6 7 8 9 10 1 2 3 4 \n",
      "6 7 8 9 10 1 2 3 4 5 \n",
      "7 8 9 10 1 2 3 4 5 6 \n",
      "8 9 10 1 2 3 4 5 6 7 \n",
      "9 10 1 2 3 4 5 6 7 8 \n",
      "10 1 2 3 4 5 6 7 8 9 \n"
     ]
    }
   ],
   "source": [
    "num = int(input(\"순환할 숫자를 입력하세요:\"))\n",
    "for _ in range(num):\n",
    "    for __ in range(num):\n",
    "        print((_+__)%num +1 ,end =\" \")\n",
    "    print()"
   ]
  },
  {
   "cell_type": "code",
   "execution_count": 220,
   "id": "44f6d4dc-55dd-43bb-958c-3f966b0230c1",
   "metadata": {},
   "outputs": [
    {
     "name": "stdin",
     "output_type": "stream",
     "text": [
      "순활할 숫자를 입력하세요: 10\n"
     ]
    },
    {
     "name": "stdout",
     "output_type": "stream",
     "text": [
      "1 2 3 4 5 6 7 8 9 10 \n",
      "2 3 4 5 6 7 8 9 10 1 \n",
      "3 4 5 6 7 8 9 10 1 2 \n",
      "4 5 6 7 8 9 10 1 2 3 \n",
      "5 6 7 8 9 10 1 2 3 4 \n",
      "6 7 8 9 10 1 2 3 4 5 \n",
      "7 8 9 10 1 2 3 4 5 6 \n",
      "8 9 10 1 2 3 4 5 6 7 \n",
      "9 10 1 2 3 4 5 6 7 8 \n",
      "10 1 2 3 4 5 6 7 8 9 \n"
     ]
    }
   ],
   "source": [
    "num = int(input(\"순활할 숫자를 입력하세요:\"))\n",
    "for i in range(num):\n",
    "    for j in range(1, num + 1):\n",
    "        if j + i >= 1:\n",
    "            result = j + i\n",
    "            if result > num:\n",
    "                result = result - num\n",
    "            print(result, end = \" \")\n",
    "    print()"
   ]
  },
  {
   "cell_type": "code",
   "execution_count": 221,
   "id": "3913b060-7065-45b4-a707-7320ae62bcc0",
   "metadata": {},
   "outputs": [
    {
     "name": "stdin",
     "output_type": "stream",
     "text": [
      "순환할 숫자를 입력하세요: 10\n"
     ]
    },
    {
     "name": "stdout",
     "output_type": "stream",
     "text": [
      "1 2 3 4 5 6 7 8 9 10 \n",
      "2 3 4 5 6 7 8 9 10 1 \n",
      "3 4 5 6 7 8 9 10 1 2 \n",
      "4 5 6 7 8 9 10 1 2 3 \n",
      "5 6 7 8 9 10 1 2 3 4 \n",
      "6 7 8 9 10 1 2 3 4 5 \n",
      "7 8 9 10 1 2 3 4 5 6 \n",
      "8 9 10 1 2 3 4 5 6 7 \n",
      "9 10 1 2 3 4 5 6 7 8 \n",
      "10 1 2 3 4 5 6 7 8 9 \n"
     ]
    }
   ],
   "source": [
    "num = int(input(\"순환할 숫자를 입력하세요:\"))\n",
    "# i => 1 ~ 입력한 숫자까지\n",
    "for i in range(1, num + 1):\n",
    "    for j in range(i, num + i):\n",
    "        if j % num == 0:\n",
    "            print(num, end=\" \")\n",
    "        else:\n",
    "            print(j % num, end=\" \")\n",
    "    print()"
   ]
  },
  {
   "cell_type": "code",
   "execution_count": 210,
   "id": "35c895b7-0f5a-4178-b98a-c6e6e575261a",
   "metadata": {},
   "outputs": [
    {
     "name": "stdin",
     "output_type": "stream",
     "text": [
      "순환할 숫자를 입력하세요: 10\n"
     ]
    },
    {
     "name": "stdout",
     "output_type": "stream",
     "text": [
      "1 2 3 4 5 6 7 8 9 10 \n",
      "2 3 4 5 6 7 8 9 10 1 \n",
      "3 4 5 6 7 8 9 10 1 2 \n",
      "4 5 6 7 8 9 10 1 2 3 \n",
      "5 6 7 8 9 10 1 2 3 4 \n",
      "6 7 8 9 10 1 2 3 4 5 \n",
      "7 8 9 10 1 2 3 4 5 6 \n",
      "8 9 10 1 2 3 4 5 6 7 \n",
      "9 10 1 2 3 4 5 6 7 8 \n",
      "10 1 2 3 4 5 6 7 8 9 \n"
     ]
    }
   ],
   "source": [
    "num = int(input(\"순환할 숫자를 입력하세요:\"))\n",
    "a = [i for i in range(1, num+1)]\n",
    "for j in range(len(a)):\n",
    "    j = 0\n",
    "    for i in a:\n",
    "        print(i, end=\" \")\n",
    "    print()\n",
    "    a.append(a[j])\n",
    "    a.remove(a[j])"
   ]
  },
  {
   "cell_type": "code",
   "execution_count": 297,
   "id": "c3d42d79-4dca-4497-8fb5-ec7e3c43e6b6",
   "metadata": {},
   "outputs": [
    {
     "name": "stdin",
     "output_type": "stream",
     "text": [
      " 10\n"
     ]
    },
    {
     "name": "stdout",
     "output_type": "stream",
     "text": [
      "1 2 3 4 5 6 7 8 9 10 \n",
      "2 3 4 5 6 7 8 9 10 1 \n",
      "3 4 5 6 7 8 9 10 1 2 \n",
      "4 5 6 7 8 9 10 1 2 3 \n",
      "5 6 7 8 9 10 1 2 3 4 \n",
      "6 7 8 9 10 1 2 3 4 5 \n",
      "7 8 9 10 1 2 3 4 5 6 \n",
      "8 9 10 1 2 3 4 5 6 7 \n",
      "9 10 1 2 3 4 5 6 7 8 \n",
      "10 1 2 3 4 5 6 7 8 9 \n"
     ]
    }
   ],
   "source": [
    "cir_num = int(input())\n",
    "cir_list = [i for i in range(1, cir_num+1)]\n",
    "for i in range(cir_num):\n",
    "    for j in range(cir_num):\n",
    "        print(cir_list[j], end=\" \")\n",
    "    print()\n",
    "    cir_list.append(cir_list[0])\n",
    "    cir_list.remove(cir_list[0])"
   ]
  },
  {
   "cell_type": "code",
   "execution_count": 242,
   "id": "d9d3ab8a-2e9c-45e8-8648-34ab4a6e6b52",
   "metadata": {},
   "outputs": [
    {
     "name": "stdout",
     "output_type": "stream",
     "text": [
      "2514345083456\n",
      "2514342817664\n",
      "False\n",
      "[999, 1, 2, 3, 4, 5, 6, 7, 8, 9]\n",
      "[0, 1, 2, 3, 4, 5, 6, 7, 8, 9]\n"
     ]
    }
   ],
   "source": [
    "list_g = list(range(10))\n",
    "list_h = list_g.copy()\n",
    "print(id(list_g))\n",
    "print(id(list_h))\n",
    "print(list_g is list_h)\n",
    "list_g[0] = 999\n",
    "print(list_g)\n",
    "print(list_h)"
   ]
  },
  {
   "cell_type": "code",
   "execution_count": 241,
   "id": "7d8e94e8-045f-4fa3-96f5-1711e276961e",
   "metadata": {},
   "outputs": [
    {
     "name": "stdout",
     "output_type": "stream",
     "text": [
      "[[0], [0], [0]]\n",
      "[[999], [999], [999]]\n",
      "True\n",
      "True\n",
      "True\n"
     ]
    }
   ],
   "source": [
    "list_i = [[0]] * 3\n",
    "print(list_i)\n",
    "list_i[0][0] = 999\n",
    "print(list_i)\n",
    "print(list_i[0][0] is list_i[1][0])\n",
    "print(list_i[0][0] is list_i[2][0])\n",
    "print(list_i[1][0] is list_i[2][0])"
   ]
  },
  {
   "cell_type": "code",
   "execution_count": 240,
   "id": "21ffd4a2-c773-4883-9163-c7ccb04e9f28",
   "metadata": {},
   "outputs": [
    {
     "name": "stdout",
     "output_type": "stream",
     "text": [
      "True\n",
      "False\n",
      "[[1, 4], [3, 4]]\n",
      "[[1, 4], [3, 4]]\n",
      "True\n"
     ]
    }
   ],
   "source": [
    "list_j = [[1,2],[3,4]]\n",
    "list_k = list_j[:]\n",
    "print(list_k[0] is list_j[0])\n",
    "print(list_j is list_k)\n",
    "list_j[0][1] = 2 ** 2\n",
    "print(list_k)\n",
    "print(list_j)\n",
    "print(list_k[1] is list_j[1])"
   ]
  },
  {
   "cell_type": "code",
   "execution_count": 245,
   "id": "5b24672e-e64a-498e-9e79-31acd2bb6c48",
   "metadata": {},
   "outputs": [
    {
     "name": "stdout",
     "output_type": "stream",
     "text": [
      "True\n",
      "False\n",
      "[[5, 999], [7, 8]]\n",
      "[[5, 999], [7, 8]]\n"
     ]
    }
   ],
   "source": [
    "list_l = [[5,6],[7,8]]\n",
    "list_m = list_l.copy()\n",
    "print(list_l[0] is list_m[0])\n",
    "print(list_l is list_m)\n",
    "list_l[0][1] = 999\n",
    "print(list_l)\n",
    "print(list_m)"
   ]
  },
  {
   "cell_type": "code",
   "execution_count": 251,
   "id": "adfd6cb3-7d32-46be-bfef-e83b66f87a2b",
   "metadata": {},
   "outputs": [
    {
     "name": "stdout",
     "output_type": "stream",
     "text": [
      "False\n",
      "False\n"
     ]
    }
   ],
   "source": [
    "import copy\n",
    "list_n = [[9,10],[11,12]]\n",
    "# deepccopy는 반환값으로 완전히 새로운 객체를 반환해요.\n",
    "list_o = copy.deepcopy(list_n)\n",
    "print(list_n is list_o)\n",
    "print(list_n[0] is list_o[0])"
   ]
  },
  {
   "cell_type": "code",
   "execution_count": 254,
   "id": "b50097e0-7f93-44af-9368-a31beb884abd",
   "metadata": {},
   "outputs": [
    {
     "name": "stdout",
     "output_type": "stream",
     "text": [
      "[[9, 10], [11, 12]]\n",
      "[[9, 10], [11, 12]]\n"
     ]
    }
   ],
   "source": [
    "print(list_o)\n",
    "print(list_n)"
   ]
  },
  {
   "cell_type": "code",
   "execution_count": 258,
   "id": "12c2a0cd-2328-4960-980d-12300fb2cbda",
   "metadata": {},
   "outputs": [
    {
     "name": "stdout",
     "output_type": "stream",
     "text": [
      "[[9, 10], [22, 12]]\n",
      "[[9, 10], [11, 12]]\n"
     ]
    }
   ],
   "source": [
    "list_n[1][0] = 22\n",
    "print(list_n)\n",
    "print(list_o)"
   ]
  },
  {
   "cell_type": "markdown",
   "id": "0f423749-1b48-4a3b-b5cf-4d2691694627",
   "metadata": {},
   "source": [
    "```python  \n",
    "list_variable = [expression for 변수 in iterable if 조건식]\n",
    "```"
   ]
  },
  {
   "cell_type": "code",
   "execution_count": 260,
   "id": "9fe2bd68-bf22-4c1c-b420-7ff9fe8469b5",
   "metadata": {},
   "outputs": [
    {
     "name": "stdout",
     "output_type": "stream",
     "text": [
      "[0, 3, 6, 9]\n"
     ]
    }
   ],
   "source": [
    "list_p = [i for i in range(10) if i % 3 ==0]\n",
    "print(list_p)"
   ]
  },
  {
   "cell_type": "markdown",
   "id": "c7fdaea4-0e82-4cd1-85a0-76be983af375",
   "metadata": {},
   "source": [
    "```python  \n",
    "[expression for 변수 in iterable if 조건식\n",
    "            for 변수 in iterable if 조건식\n",
    "            for 변수 in iterable if 조건식\n",
    "            for 변수 in iterable if 조건식]\n",
    "```"
   ]
  },
  {
   "cell_type": "code",
   "execution_count": 268,
   "id": "8dfb473b-3b1e-47c0-9d5e-f510598031cc",
   "metadata": {},
   "outputs": [
    {
     "name": "stdout",
     "output_type": "stream",
     "text": [
      "1\n",
      "2\n",
      "3\n",
      "4\n",
      "5\n",
      "3\n",
      "4\n"
     ]
    }
   ],
   "source": [
    "easy_list = [[1,2,3,4,5,],[3,4]]\n",
    "for item in easy_list:\n",
    "    for i in item:\n",
    "        print(i)"
   ]
  },
  {
   "cell_type": "code",
   "execution_count": 269,
   "id": "5e6b47af-d088-4f4b-8a82-4034a56a1ed7",
   "metadata": {},
   "outputs": [
    {
     "name": "stdout",
     "output_type": "stream",
     "text": [
      "1\n",
      "2\n",
      "3\n",
      "4\n",
      "5\n",
      "3\n",
      "4\n"
     ]
    }
   ],
   "source": [
    "easy_list = [[1,2,3,4,5,],[3,4]]\n",
    "i = 0 # easy_list 인덱스용\n",
    "\n",
    "while i < len(easy_list):\n",
    "    j = 0  # easy_list[0], easy_list[1] 인덱스용\n",
    "    while j < len(easy_list[i]):\n",
    "        print(easy_list[i][j])\n",
    "        j += 1\n",
    "    i +=1"
   ]
  },
  {
   "cell_type": "code",
   "execution_count": 296,
   "id": "2a87b079-dd4c-4feb-986f-310836dbeb97",
   "metadata": {},
   "outputs": [
    {
     "name": "stdout",
     "output_type": "stream",
     "text": [
      "[1, 2, 3, 4, 5, 3, 5, 6]\n",
      "[1, 2, 3, 4, 5, 3, 5, 6, 1]\n",
      "[2, 3, 4, 5, 3, 5, 6, 1]\n",
      "[1, 2, 3, 3, 4, 5, 5, 6]\n",
      "[6, 5, 5, 4, 3, 3, 2, 1]\n"
     ]
    }
   ],
   "source": [
    "e = [1,2,3,4,5,3,5,6]\n",
    "print(e)\n",
    "e.append(e[0])\n",
    "print(e)\n",
    "e.remove(e[0])\n",
    "print(e)\n",
    "e.sort()\n",
    "print(e)\n",
    "e.reverse()\n",
    "print(e)"
   ]
  },
  {
   "cell_type": "code",
   "execution_count": null,
   "id": "e74362d7-e5e4-4b11-9f78-3c8e528f5816",
   "metadata": {},
   "outputs": [],
   "source": []
  }
 ],
 "metadata": {
  "kernelspec": {
   "display_name": "Python 3 (ipykernel)",
   "language": "python",
   "name": "python3"
  },
  "language_info": {
   "codemirror_mode": {
    "name": "ipython",
    "version": 3
   },
   "file_extension": ".py",
   "mimetype": "text/x-python",
   "name": "python",
   "nbconvert_exporter": "python",
   "pygments_lexer": "ipython3",
   "version": "3.9.13"
  }
 },
 "nbformat": 4,
 "nbformat_minor": 5
}
