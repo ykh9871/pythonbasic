{
 "cells": [
  {
   "cell_type": "markdown",
   "id": "c3a2172f-e04d-4b27-be6d-65b2c5b93fdb",
   "metadata": {},
   "source": [
    "## 튜플"
   ]
  },
  {
   "cell_type": "markdown",
   "id": "257bc823-53ae-41db-8499-e6ae3b30956c",
   "metadata": {},
   "source": [
    "### 튜플은 리스트와 거의 같지만, 수정이 불가능하다. 튜플은 불변의 특징을 갖기 때문"
   ]
  },
  {
   "cell_type": "code",
   "execution_count": 11,
   "id": "9493b418-e710-42ff-873b-5d6fc87e69f2",
   "metadata": {},
   "outputs": [],
   "source": [
    "tuple_variable = (1,2,3,4,5,\"hello\")"
   ]
  },
  {
   "cell_type": "code",
   "execution_count": 3,
   "id": "3a452217-62a8-4006-995d-5473a3ff4047",
   "metadata": {},
   "outputs": [
    {
     "ename": "TypeError",
     "evalue": "'tuple' object does not support item assignment",
     "output_type": "error",
     "traceback": [
      "\u001b[1;31m---------------------------------------------------------------------------\u001b[0m",
      "\u001b[1;31mTypeError\u001b[0m                                 Traceback (most recent call last)",
      "\u001b[1;32m~\\AppData\\Local\\Temp\\ipykernel_7476\\1916826345.py\u001b[0m in \u001b[0;36m<module>\u001b[1;34m\u001b[0m\n\u001b[1;32m----> 1\u001b[1;33m \u001b[0mtuple_variable\u001b[0m\u001b[1;33m[\u001b[0m\u001b[1;36m0\u001b[0m\u001b[1;33m]\u001b[0m \u001b[1;33m=\u001b[0m \u001b[1;36m0\u001b[0m\u001b[1;33m\u001b[0m\u001b[1;33m\u001b[0m\u001b[0m\n\u001b[0m",
      "\u001b[1;31mTypeError\u001b[0m: 'tuple' object does not support item assignment"
     ]
    }
   ],
   "source": [
    "tuple_variable[0] = 0"
   ]
  },
  {
   "cell_type": "code",
   "execution_count": 4,
   "id": "23b95b43-7872-438a-8a26-ba375d139f04",
   "metadata": {},
   "outputs": [
    {
     "ename": "TypeError",
     "evalue": "'tuple' object does not support item assignment",
     "output_type": "error",
     "traceback": [
      "\u001b[1;31m---------------------------------------------------------------------------\u001b[0m",
      "\u001b[1;31mTypeError\u001b[0m                                 Traceback (most recent call last)",
      "\u001b[1;32m~\\AppData\\Local\\Temp\\ipykernel_7476\\1250836128.py\u001b[0m in \u001b[0;36m<module>\u001b[1;34m\u001b[0m\n\u001b[1;32m----> 1\u001b[1;33m \u001b[0mtuple_variable\u001b[0m\u001b[1;33m[\u001b[0m\u001b[1;36m1\u001b[0m\u001b[1;33m:\u001b[0m\u001b[1;36m3\u001b[0m\u001b[1;33m]\u001b[0m \u001b[1;33m=\u001b[0m \u001b[1;33m(\u001b[0m\u001b[1;34m\"dd\"\u001b[0m\u001b[1;33m,\u001b[0m\u001b[1;34m\"ee\"\u001b[0m\u001b[1;33m)\u001b[0m\u001b[1;33m\u001b[0m\u001b[1;33m\u001b[0m\u001b[0m\n\u001b[0m",
      "\u001b[1;31mTypeError\u001b[0m: 'tuple' object does not support item assignment"
     ]
    }
   ],
   "source": [
    "tuple_variable[1:3] = (\"dd\",\"ee\")"
   ]
  },
  {
   "cell_type": "markdown",
   "id": "72f15b4f-9a77-4d09-9fd6-48ced1e6b4e3",
   "metadata": {},
   "source": [
    "### 튜플에서는 요소에 대한 삭제도 불가하다."
   ]
  },
  {
   "cell_type": "code",
   "execution_count": 5,
   "id": "048a04c9-6f42-4a6d-8f53-eef037e4f617",
   "metadata": {},
   "outputs": [
    {
     "ename": "TypeError",
     "evalue": "'tuple' object doesn't support item deletion",
     "output_type": "error",
     "traceback": [
      "\u001b[1;31m---------------------------------------------------------------------------\u001b[0m",
      "\u001b[1;31mTypeError\u001b[0m                                 Traceback (most recent call last)",
      "\u001b[1;32m~\\AppData\\Local\\Temp\\ipykernel_7476\\3932902972.py\u001b[0m in \u001b[0;36m<module>\u001b[1;34m\u001b[0m\n\u001b[1;32m----> 1\u001b[1;33m \u001b[1;32mdel\u001b[0m \u001b[0mtuple_variable\u001b[0m\u001b[1;33m[\u001b[0m\u001b[1;36m0\u001b[0m\u001b[1;33m]\u001b[0m\u001b[1;33m\u001b[0m\u001b[1;33m\u001b[0m\u001b[0m\n\u001b[0m",
      "\u001b[1;31mTypeError\u001b[0m: 'tuple' object doesn't support item deletion"
     ]
    }
   ],
   "source": [
    "del tuple_variable[0]"
   ]
  },
  {
   "cell_type": "markdown",
   "id": "57b1e304-c9d9-4de6-9213-4074b3728c36",
   "metadata": {},
   "source": [
    "### 튜플은 소괄호 생략이 가능하다. 하지만 명시해서 명확하게 표현하는게 더 좋다."
   ]
  },
  {
   "cell_type": "code",
   "execution_count": 6,
   "id": "45e6cb7a-f9d0-4644-8aa5-b22fb03bb0e6",
   "metadata": {},
   "outputs": [],
   "source": [
    "t_v = \"음\", \"오\", \"아\", \"예\""
   ]
  },
  {
   "cell_type": "code",
   "execution_count": 7,
   "id": "b6feabaa-e00a-4628-84b2-c37e15eda68c",
   "metadata": {},
   "outputs": [
    {
     "name": "stdout",
     "output_type": "stream",
     "text": [
      "<class 'tuple'>\n"
     ]
    }
   ],
   "source": [
    "print(type(t_v))"
   ]
  },
  {
   "cell_type": "code",
   "execution_count": 8,
   "id": "f9fcae1d-baf9-43d0-b1bf-d5f1e170997c",
   "metadata": {},
   "outputs": [
    {
     "name": "stdout",
     "output_type": "stream",
     "text": [
      "('음', '오', '아', '예')\n"
     ]
    }
   ],
   "source": [
    "print(t_v)"
   ]
  },
  {
   "cell_type": "markdown",
   "id": "d21dd918-270d-496e-bde4-cdf88d49aae0",
   "metadata": {},
   "source": [
    "### 튜플과 리스트의 소요시간 비교"
   ]
  },
  {
   "cell_type": "code",
   "execution_count": 9,
   "id": "56640ae4-9ef7-4ac3-8db2-0d44d1b03a30",
   "metadata": {},
   "outputs": [
    {
     "name": "stdout",
     "output_type": "stream",
     "text": [
      "0.16025424003601074\n"
     ]
    }
   ],
   "source": [
    "import time\n",
    "\n",
    "curr = time.time()\n",
    "total = []\n",
    "\n",
    "for i in range(1000):\n",
    "    for j in range(1000):\n",
    "        total.append((i,j))\n",
    "        \n",
    "last = time.time()\n",
    "print(last - curr)"
   ]
  },
  {
   "cell_type": "code",
   "execution_count": 10,
   "id": "7afefa7f-2ff9-4b74-ba4d-d6623f4318bf",
   "metadata": {},
   "outputs": [
    {
     "name": "stdout",
     "output_type": "stream",
     "text": [
      "0.4871184825897217\n"
     ]
    }
   ],
   "source": [
    "import time\n",
    "\n",
    "curr = time.time()\n",
    "total = []\n",
    "\n",
    "for i in range(1000):\n",
    "    for j in range(1000):\n",
    "        total.append([i,j])\n",
    "        \n",
    "last = time.time()\n",
    "print(last - curr)"
   ]
  },
  {
   "cell_type": "markdown",
   "id": "272f96b7-5272-4b52-a3bd-9b529cc5124e",
   "metadata": {},
   "source": [
    "### 변수 여럿에 동시 할당하기 (Unpaking)"
   ]
  },
  {
   "cell_type": "code",
   "execution_count": 13,
   "id": "9b8b2a85-079a-47e1-8131-1fd7b51de895",
   "metadata": {},
   "outputs": [
    {
     "name": "stdout",
     "output_type": "stream",
     "text": [
      "text1\n",
      "text2\n"
     ]
    }
   ],
   "source": [
    "s1, s2 = \"text1\", \"text2\"\n",
    "print(s1)\n",
    "print(s2)"
   ]
  },
  {
   "cell_type": "code",
   "execution_count": 15,
   "id": "aab1b95c-cc7f-4448-b672-c44619e120e5",
   "metadata": {},
   "outputs": [
    {
     "name": "stdout",
     "output_type": "stream",
     "text": [
      "이렇게 리스트도 가능합니다.\n"
     ]
    }
   ],
   "source": [
    "s3, s4, s5 = [\"이렇게\", \"리스트도\", \"가능합니다.\"]\n",
    "print(s3, s4, s5)"
   ]
  },
  {
   "cell_type": "code",
   "execution_count": 16,
   "id": "92a89e48-24a8-43f2-83d6-8840602613d1",
   "metadata": {},
   "outputs": [
    {
     "name": "stdout",
     "output_type": "stream",
     "text": [
      "문 자 열 도\n"
     ]
    }
   ],
   "source": [
    "s6, s7, s8, s9 = \"문자열도\"\n",
    "print(s6, s7, s8 ,s9)"
   ]
  },
  {
   "cell_type": "markdown",
   "id": "91e6eaf4-1014-4236-a27e-d97aa195da7a",
   "metadata": {},
   "source": [
    "### 파이썬 입력 사용해보기"
   ]
  },
  {
   "cell_type": "code",
   "execution_count": 4,
   "id": "a5909d6d-ff50-4072-b7d0-cddac913c5e7",
   "metadata": {},
   "outputs": [
    {
     "name": "stdin",
     "output_type": "stream",
     "text": [
      "Message 1111\n"
     ]
    }
   ],
   "source": [
    "input_value = input(\"Message\")"
   ]
  },
  {
   "cell_type": "code",
   "execution_count": 5,
   "id": "80cf7913-31fa-4416-8340-c4cee1137372",
   "metadata": {},
   "outputs": [
    {
     "name": "stdout",
     "output_type": "stream",
     "text": [
      "input_value: 1111 \n",
      "type: <class 'str'>\n"
     ]
    }
   ],
   "source": [
    "print(\"input_value:\", input_value, \"\\ntype:\", type(input_value))"
   ]
  },
  {
   "cell_type": "code",
   "execution_count": 6,
   "id": "54277525-8671-493d-96bd-5d32a4f6a0be",
   "metadata": {},
   "outputs": [
    {
     "name": "stdout",
     "output_type": "stream",
     "text": [
      "input_value: 1111 \n",
      "type: <class 'int'>\n"
     ]
    }
   ],
   "source": [
    "input_value = int(input_value)\n",
    "print(\"input_value:\", input_value, \"\\ntype:\", type(input_value))"
   ]
  },
  {
   "cell_type": "code",
   "execution_count": 13,
   "id": "b4de218c-4ba1-4f17-ba22-296c96c2cc5a",
   "metadata": {},
   "outputs": [
    {
     "name": "stdin",
     "output_type": "stream",
     "text": [
      "정수 외에 다른 값을 입력해보세요 1.1\n"
     ]
    }
   ],
   "source": [
    "input_value2 = input(\"정수 외에 다른 값을 입력해보세요\")"
   ]
  },
  {
   "cell_type": "code",
   "execution_count": 14,
   "id": "fea48de3-e509-4496-85dd-e6a31171aa5f",
   "metadata": {},
   "outputs": [
    {
     "ename": "ValueError",
     "evalue": "invalid literal for int() with base 10: '1.1'",
     "output_type": "error",
     "traceback": [
      "\u001b[1;31m---------------------------------------------------------------------------\u001b[0m",
      "\u001b[1;31mValueError\u001b[0m                                Traceback (most recent call last)",
      "\u001b[1;32m~\\AppData\\Local\\Temp\\ipykernel_9060\\1061107786.py\u001b[0m in \u001b[0;36m<module>\u001b[1;34m\u001b[0m\n\u001b[1;32m----> 1\u001b[1;33m \u001b[0minput_value2\u001b[0m \u001b[1;33m=\u001b[0m \u001b[0mint\u001b[0m\u001b[1;33m(\u001b[0m\u001b[0minput_value2\u001b[0m\u001b[1;33m)\u001b[0m\u001b[1;33m\u001b[0m\u001b[1;33m\u001b[0m\u001b[0m\n\u001b[0m",
      "\u001b[1;31mValueError\u001b[0m: invalid literal for int() with base 10: '1.1'"
     ]
    }
   ],
   "source": [
    "input_value2 = int(input_value2)"
   ]
  },
  {
   "cell_type": "code",
   "execution_count": 15,
   "id": "4da21edc-0b0e-4221-a55f-a02b85e2bc04",
   "metadata": {},
   "outputs": [
    {
     "name": "stdout",
     "output_type": "stream",
     "text": [
      "1.1\n"
     ]
    }
   ],
   "source": [
    "input_value2 = float(input_value2)\n",
    "print(input_value2)"
   ]
  },
  {
   "cell_type": "code",
   "execution_count": 16,
   "id": "8863ce09-1342-4f51-b586-b7d3601ea914",
   "metadata": {},
   "outputs": [
    {
     "name": "stdout",
     "output_type": "stream",
     "text": [
      "1\n"
     ]
    }
   ],
   "source": [
    "input_value2 = int(input_value2)\n",
    "print(input_value2)"
   ]
  },
  {
   "cell_type": "code",
   "execution_count": 17,
   "id": "5f3a99f7-32ec-47dc-803f-0f208a4f48a0",
   "metadata": {},
   "outputs": [
    {
     "name": "stdin",
     "output_type": "stream",
     "text": [
      "정수 외에 다른 값을 입력해보세요 1.1\n"
     ]
    }
   ],
   "source": [
    "input_value3 = input(\"정수 외에 다른 값을 입력해보세요\")"
   ]
  },
  {
   "cell_type": "code",
   "execution_count": 18,
   "id": "e20151f1-b744-462f-8a1b-88de003738ff",
   "metadata": {},
   "outputs": [
    {
     "ename": "ValueError",
     "evalue": "invalid literal for int() with base 10: '1.1'",
     "output_type": "error",
     "traceback": [
      "\u001b[1;31m---------------------------------------------------------------------------\u001b[0m",
      "\u001b[1;31mValueError\u001b[0m                                Traceback (most recent call last)",
      "\u001b[1;32m~\\AppData\\Local\\Temp\\ipykernel_9060\\4277962513.py\u001b[0m in \u001b[0;36m<module>\u001b[1;34m\u001b[0m\n\u001b[1;32m----> 1\u001b[1;33m \u001b[0mint\u001b[0m\u001b[1;33m(\u001b[0m\u001b[0minput_value3\u001b[0m\u001b[1;33m)\u001b[0m\u001b[1;33m\u001b[0m\u001b[1;33m\u001b[0m\u001b[0m\n\u001b[0m",
      "\u001b[1;31mValueError\u001b[0m: invalid literal for int() with base 10: '1.1'"
     ]
    }
   ],
   "source": [
    "int(input_value3)"
   ]
  },
  {
   "cell_type": "code",
   "execution_count": 20,
   "id": "7658cfaa-ca3d-44c6-80a3-f9d43ff26ed2",
   "metadata": {},
   "outputs": [
    {
     "name": "stdin",
     "output_type": "stream",
     "text": [
      "정수를 입력해주세요: 2\n"
     ]
    },
    {
     "name": "stdout",
     "output_type": "stream",
     "text": [
      "2\n"
     ]
    }
   ],
   "source": [
    "input_value4 = int(input(\"정수를 입력해주세요:\"))\n",
    "print(input_value4)"
   ]
  },
  {
   "cell_type": "code",
   "execution_count": 21,
   "id": "19741c71-1415-4ecc-b549-f909e3b3844e",
   "metadata": {},
   "outputs": [
    {
     "name": "stdin",
     "output_type": "stream",
     "text": [
      "이름을 입력하시오: 엔코아\n"
     ]
    },
    {
     "name": "stdout",
     "output_type": "stream",
     "text": [
      "엔코아 씨, 안녕하세요?\n",
      "파이썬에 오신 것을 환영합니다.\n"
     ]
    },
    {
     "name": "stdin",
     "output_type": "stream",
     "text": [
      "첫 번째 정수를 입력하세요: 300\n",
      "두 번째 정수를 입력하세요: 400\n"
     ]
    },
    {
     "name": "stdout",
     "output_type": "stream",
     "text": [
      "300 과 400 의 합은 700 입니다.\n"
     ]
    }
   ],
   "source": [
    "input_value5 = input(\"이름을 입력하시오:\")\n",
    "print(input_value5, \"씨, 안녕하세요?\")\n",
    "print(\"파이썬에 오신 것을 환영합니다.\")\n",
    "input_value6 = int(input(\"첫 번째 정수를 입력하세요:\"))\n",
    "input_value7 = int(input(\"두 번째 정수를 입력하세요:\"))\n",
    "print(input_value6, \"과\", input_value7, \"의 합은\", int(input_value6 + input_value7), \"입니다.\")"
   ]
  },
  {
   "cell_type": "code",
   "execution_count": 23,
   "id": "461ae067-4503-40f8-ae97-c5305d7a960f",
   "metadata": {},
   "outputs": [
    {
     "name": "stdin",
     "output_type": "stream",
     "text": [
      "경기장은 어디입니까? 고척\n",
      "이긴 팀은 어디입니까? KT\n",
      "진팀은 어디입니까? LG\n",
      "우수 선수는 누구입니까? 강백호\n",
      "스코어는 몇대몇입니까? 10:9\n"
     ]
    },
    {
     "name": "stdout",
     "output_type": "stream",
     "text": [
      "[속보] KT 가 10:9 로 승리...\n",
      "오늘 고척 경기장에서 야구 경기가 있었습니다.\n",
      "KT 와 LG 는 치열한 공방전을 펼쳤습니다.\n",
      "이 경기에서 강백호 가 맹활약을 했습니다\n",
      "그 끝내 KT 가 LG 를 10:9 로 승리하였습니다.\n",
      "기사 끝.\n"
     ]
    }
   ],
   "source": [
    "point = input(\"경기장은 어디입니까?\")\n",
    "winner = input(\"이긴 팀은 어디입니까?\")\n",
    "loser = input(\"진팀은 어디입니까?\")\n",
    "best_player = input(\"우수 선수는 누구입니까?\")\n",
    "score = input(\"스코어는 몇대몇입니까?\")\n",
    "print(\"[속보]\", winner, \"가\", score, \"로 승리...\")\n",
    "print(\"오늘\", point, \"경기장에서 야구 경기가 있었습니다.\")\n",
    "print(winner, \"와\", loser, \"는 치열한 공방전을 펼쳤습니다.\")\n",
    "print(\"이 경기에서\", best_player, \"가 맹활약을 했습니다\")\n",
    "print(\"그 끝내\", winner, \"가\", loser, \"를\", score, \"로 승리하였습니다.\")\n",
    "print(\"기사 끝.\")"
   ]
  },
  {
   "cell_type": "markdown",
   "id": "9a3e8f0a-a3ac-4a8c-8cee-e37b365a1c2b",
   "metadata": {},
   "source": [
    "### 입력 값을 여러 개의 변수에 저장하기"
   ]
  },
  {
   "cell_type": "code",
   "execution_count": 22,
   "id": "03100abb-976e-46fb-8c01-76aa0f4b8e5a",
   "metadata": {},
   "outputs": [
    {
     "name": "stdout",
     "output_type": "stream",
     "text": [
      "<class 'list'>\n",
      "['1', '2', '3']\n"
     ]
    }
   ],
   "source": [
    "result = '1,2,3'.split(',')\n",
    "print(type(result))\n",
    "print(result)"
   ]
  },
  {
   "cell_type": "code",
   "execution_count": 24,
   "id": "abbea918-f013-47a2-a76c-ecdc4021d72d",
   "metadata": {},
   "outputs": [
    {
     "name": "stdin",
     "output_type": "stream",
     "text": [
      "hh:mm:ss 의 형태로 시간을 입력해주세요 12:33:23\n"
     ]
    },
    {
     "name": "stdout",
     "output_type": "stream",
     "text": [
      "\n",
      "실행결과:\n",
      "시 : 12\n",
      "분 : 33\n",
      "초 : 23\n"
     ]
    }
   ],
   "source": [
    "# 리스트 인덱싱\n",
    "time = input(\"hh:mm:ss 의 형태로 시간을 입력해주세요\")\n",
    "asd = time.split(':')\n",
    "print(\"\\n실행결과:\")\n",
    "print(\"시 :\", asd[0])\n",
    "print(\"분 :\", asd[1])\n",
    "print(\"초 :\", asd[2])"
   ]
  },
  {
   "cell_type": "code",
   "execution_count": 25,
   "id": "ca4a262c-89bc-4df0-8b54-8b9b15b9e5d7",
   "metadata": {},
   "outputs": [
    {
     "name": "stdin",
     "output_type": "stream",
     "text": [
      "hh:mm:ss 의 형태로 시간을 입력해주세요 12:33:23\n"
     ]
    },
    {
     "name": "stdout",
     "output_type": "stream",
     "text": [
      "시 : 12\n",
      "분 : 33\n",
      "초 : 23\n"
     ]
    }
   ],
   "source": [
    "# unpaking\n",
    "h, m, s = input(\"hh:mm:ss 의 형태로 시간을 입력해주세요\").split(\":\")\n",
    "print(\"시 :\", h)\n",
    "print(\"분 :\", m)\n",
    "print(\"초 :\", s)"
   ]
  },
  {
   "cell_type": "markdown",
   "id": "58f60cf3-53cb-46ca-9ac7-9640a1d5c44f",
   "metadata": {},
   "source": [
    "### * map() 내장 함수 이용하기"
   ]
  },
  {
   "cell_type": "code",
   "execution_count": 26,
   "id": "27c89f76-1b86-45f3-a613-0f17751328be",
   "metadata": {},
   "outputs": [
    {
     "name": "stdout",
     "output_type": "stream",
     "text": [
      "[1, 2, 3, 4]\n"
     ]
    }
   ],
   "source": [
    "a = [1.2, 2.5, 3.7, 4.6]\n",
    "a = list(map(int, a))\n",
    "print(a)"
   ]
  },
  {
   "cell_type": "code",
   "execution_count": 27,
   "id": "278e8447-f42c-4d10-816b-fe72d2dbc38a",
   "metadata": {},
   "outputs": [
    {
     "name": "stdin",
     "output_type": "stream",
     "text": [
      "국어, 영어, 수학, 과학, 점수를 입력해주세요 98,100,96,100\n"
     ]
    },
    {
     "name": "stdout",
     "output_type": "stream",
     "text": [
      "평균 점수는 98.5 점 입니다.\n"
     ]
    }
   ],
   "source": [
    "kor, eng, mat, sci = map(int, input(\"국어, 영어, 수학, 과학, 점수를 입력해주세요\").split(\",\"))\n",
    "avg = (kor + eng + mat + sci) / 4\n",
    "print(\"평균 점수는\", avg, \"점 입니다.\")"
   ]
  },
  {
   "cell_type": "markdown",
   "id": "635cc37d-fd0b-4e23-8a15-4eea3eba0386",
   "metadata": {
    "tags": []
   },
   "source": [
    "### * sep 과 end"
   ]
  },
  {
   "cell_type": "code",
   "execution_count": 28,
   "id": "8bfed263-409f-44bb-847a-c4ca7091ec7d",
   "metadata": {},
   "outputs": [
    {
     "name": "stdout",
     "output_type": "stream",
     "text": [
      "value 1 1.1 [1, 2, 'text']\n"
     ]
    }
   ],
   "source": [
    "print(\"value\", 1, 1.1, [1, 2, 'text'])"
   ]
  },
  {
   "cell_type": "code",
   "execution_count": 29,
   "id": "094fc5e1-4111-4755-ba89-be1f642e073b",
   "metadata": {},
   "outputs": [
    {
     "name": "stdout",
     "output_type": "stream",
     "text": [
      "value, 1, 1.1, [1, 2, 'text']\n"
     ]
    }
   ],
   "source": [
    "print(\"value\", 1, 1.1, [1, 2, 'text'],sep=\", \")"
   ]
  },
  {
   "cell_type": "code",
   "execution_count": 30,
   "id": "c1bb6b2b-e2d3-498e-b451-258eefe2afa1",
   "metadata": {},
   "outputs": [
    {
     "name": "stdout",
     "output_type": "stream",
     "text": [
      "value, 1, 1.1, [1, 2, 'text']\n"
     ]
    }
   ],
   "source": [
    "print(\"value\", 1, 1.1, [1, 2, 'text'],sep=\", \")"
   ]
  },
  {
   "cell_type": "code",
   "execution_count": 31,
   "id": "30917a8f-ea67-444b-917a-2addcdef3e49",
   "metadata": {},
   "outputs": [
    {
     "name": "stdout",
     "output_type": "stream",
     "text": [
      "줄이 바뀌지 않습니다.그 이유는 end=\"\\n\"과 같이 기본 설정된 값을 빈스트링으로 변경했기때문입니다.\n",
      "sep, end는 맨 뒤에 써야하며 둘 간 순서는 상관없습니다.어떻게 사용하는지\n",
      "이해가 되시나요?"
     ]
    }
   ],
   "source": [
    "print(\"줄이 바뀌지 않습니다.\", end=\"\")\n",
    "print(\"그 이유는 end=\\\"\\\\n\\\"과 같이 기본 설정된 값을 빈스트링으로 변경했기때문입니다.\")\n",
    "print(\"sep\",\"end는 맨 뒤에 써야하며 둘 간 순서는 상관없습니다.\", sep=\", \",end=\"\")\n",
    "print(\"어떻게 사용하는지\", \"이해가 되시나요\", sep=\"\\n\", end=\"?\")"
   ]
  },
  {
   "cell_type": "code",
   "execution_count": 32,
   "id": "951e4dfd-cea6-47b1-bb51-7bb28898c105",
   "metadata": {},
   "outputs": [
    {
     "name": "stdout",
     "output_type": "stream",
     "text": [
      "2021/02/03 18:33:23\n"
     ]
    }
   ],
   "source": [
    "year = '2021'\n",
    "month = '02'\n",
    "day = '03'\n",
    "hour = '18'\n",
    "minute = '33'\n",
    "second = '23'\n",
    "\n",
    "print(year, month, day, sep=\"/\", end=\" \")\n",
    "print(hour, minute, second, sep=\":\")"
   ]
  },
  {
   "cell_type": "code",
   "execution_count": 33,
   "id": "28d6c87f-122a-4a9e-aa74-dea859c59f61",
   "metadata": {},
   "outputs": [
    {
     "name": "stdin",
     "output_type": "stream",
     "text": [
      "사과와 귤을 몇개 드릴까요? 10,20\n"
     ]
    },
    {
     "name": "stdout",
     "output_type": "stream",
     "text": [
      "\n",
      "실행 결과:\n",
      "총 가격은 14000원입니다.\n"
     ]
    }
   ],
   "source": [
    "apple, orange = map(int, input(\"사과와 귤을 몇개 드릴까요?\").split(\",\"))\n",
    "m = (apple*1000 + orange*200)\n",
    "print(\"\\n실행 결과:\")\n",
    "print(\"총 가격은 \", m, \"원입니다.\", sep=\"\")"
   ]
  },
  {
   "cell_type": "markdown",
   "id": "fae5bb9c-e8fd-4bdd-b8a4-8e0c2959673b",
   "metadata": {},
   "source": [
    "### 흐름제어 : if문과 elif문, else문"
   ]
  },
  {
   "cell_type": "code",
   "execution_count": 34,
   "id": "3b2c98fc-25d6-4c37-8760-cbbce9997b0b",
   "metadata": {},
   "outputs": [
    {
     "name": "stdout",
     "output_type": "stream",
     "text": [
      "input_value4는 정수입니다.\n"
     ]
    }
   ],
   "source": [
    "type(input_value4) is int\n",
    "if type(input_value4) is int:\n",
    "    print(\"input_value4는 정수입니다.\")"
   ]
  },
  {
   "cell_type": "code",
   "execution_count": 35,
   "id": "c8ecd1ae-b40f-491c-9ad8-27068986206e",
   "metadata": {},
   "outputs": [
    {
     "name": "stdout",
     "output_type": "stream",
     "text": [
      "<class 'int'>\n"
     ]
    }
   ],
   "source": [
    "print(type(input_value4))"
   ]
  },
  {
   "cell_type": "code",
   "execution_count": 36,
   "id": "4ad2aff3-358c-412d-b375-7335401fbb9d",
   "metadata": {},
   "outputs": [
    {
     "name": "stdout",
     "output_type": "stream",
     "text": [
      "30대 입니다.\n",
      "감사합니다.\n"
     ]
    }
   ],
   "source": [
    "age = 39\n",
    "if 20 <= age < 30:\n",
    "    print(\"20대 입니다.\")\n",
    "elif 30<= age < 40:\n",
    "    print(\"30대 입니다.\")\n",
    "print(\"감사합니다.\")"
   ]
  },
  {
   "cell_type": "code",
   "execution_count": 37,
   "id": "43c30cfe-20d8-434c-8318-26d8fc13ccc9",
   "metadata": {},
   "outputs": [
    {
     "name": "stdout",
     "output_type": "stream",
     "text": [
      "20대 입니다.\n",
      "감사합니다.\n"
     ]
    }
   ],
   "source": [
    "age = 26\n",
    "if 20 <= age < 30:\n",
    "    print(\"20대 입니다.\")\n",
    "elif 30<= age < 40:\n",
    "    print(\"30대 입니다.\")\n",
    "print(\"감사합니다.\")"
   ]
  },
  {
   "cell_type": "code",
   "execution_count": 38,
   "id": "42e4d32b-f23a-4917-81c2-738a2ab0522e",
   "metadata": {},
   "outputs": [
    {
     "name": "stdout",
     "output_type": "stream",
     "text": [
      "오우...불혹을 넘기셨군요\n",
      "감사합니다.\n"
     ]
    }
   ],
   "source": [
    "age = 40\n",
    "if 20 <= age < 30:\n",
    "    print(\"20대 입니다.\")\n",
    "elif 30<= age < 40:\n",
    "    print(\"30대 입니다.\")\n",
    "else:\n",
    "    print(\"오우...불혹을 넘기셨군요\")\n",
    "print(\"감사합니다.\")"
   ]
  },
  {
   "cell_type": "code",
   "execution_count": 39,
   "id": "b71c7c0d-ccb0-466e-b629-fcf32a9a3339",
   "metadata": {},
   "outputs": [
    {
     "name": "stdin",
     "output_type": "stream",
     "text": [
      "아이디를 입력하세요 : biana\n",
      "회원 등급을 입력해주세요 : 3\n"
     ]
    },
    {
     "name": "stdout",
     "output_type": "stream",
     "text": [
      "\n",
      "제한적인 권한을 갖습니다.\n"
     ]
    }
   ],
   "source": [
    "ID = input(\"아이디를 입력하세요 :\")\n",
    "if ID == \"admin\":\n",
    "    print(\"\\n최고 관리자, 모든 권한을 갖습니다.\")\n",
    "else:\n",
    "    grade = int(input(\"회원 등급을 입력해주세요 :\"))\n",
    "    if 1<= grade <=3:\n",
    "        print(\"\\n제한적인 권한을 갖습니다.\")\n",
    "    else:\n",
    "        print(\"\\n권한이 없습니다.\")"
   ]
  }
 ],
 "metadata": {
  "kernelspec": {
   "display_name": "Python 3 (ipykernel)",
   "language": "python",
   "name": "python3"
  },
  "language_info": {
   "codemirror_mode": {
    "name": "ipython",
    "version": 3
   },
   "file_extension": ".py",
   "mimetype": "text/x-python",
   "name": "python",
   "nbconvert_exporter": "python",
   "pygments_lexer": "ipython3",
   "version": "3.9.13"
  }
 },
 "nbformat": 4,
 "nbformat_minor": 5
}
