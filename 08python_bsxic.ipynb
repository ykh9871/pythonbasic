{
 "cells": [
  {
   "cell_type": "markdown",
   "id": "fe6f7c74-6b33-4d4e-a146-30934e8b6bb3",
   "metadata": {
    "tags": []
   },
   "source": [
    "## 객체지향(Object Oriented) 프로그래밍"
   ]
  },
  {
   "cell_type": "markdown",
   "id": "a27331b9-1fbe-45f1-9b0e-bcb85951e2a5",
   "metadata": {
    "tags": []
   },
   "source": [
    "- 객체지향 프로그래밍은 복잡한 문제를 잘게 나누어 객체로 만들고,   \n",
    "객체를 조합해서 문제를 해결합니다.  \n",
    "  \n",
    "  \n",
    "- 현실 세계의 복잡한 문제를 처리하는데 유용하며 기능을 개선하고  \n",
    "발전시킬 때도 해당 클래스만 수정하면 되므로 큰 프로젝트의  \n",
    "유지보수에도 매우 효율적입니다.  \n",
    "  \n",
    "  \n",
    "- 객체가 가진 데이터를 클래스의 속성(Attribute)이라 부르고   \n",
    "객체가 갖는 기능을 메서드(Method)라고 부릅니다."
   ]
  },
  {
   "cell_type": "markdown",
   "id": "b92998b3-385e-417d-aeb9-59ed79f78170",
   "metadata": {},
   "source": [
    "### 클래스(Class)\n",
    "- 클래스명으로 주로 PascalCase(UpperCamelCase)를 사용합니다.  \n",
    "#### instance_variable = ClassName()\n",
    "\n",
    "```python  \n",
    "class ClassName:\n",
    "    def method_name(self):\n",
    "        method_body\n",
    "    class__body\n",
    "...\n",
    "```"
   ]
  },
  {
   "cell_type": "code",
   "execution_count": null,
   "id": "c6f3cc7c-f903-47d8-873b-1d22dca00d24",
   "metadata": {},
   "outputs": [],
   "source": []
  }
 ],
 "metadata": {
  "kernelspec": {
   "display_name": "Python 3 (ipykernel)",
   "language": "python",
   "name": "python3"
  },
  "language_info": {
   "codemirror_mode": {
    "name": "ipython",
    "version": 3
   },
   "file_extension": ".py",
   "mimetype": "text/x-python",
   "name": "python",
   "nbconvert_exporter": "python",
   "pygments_lexer": "ipython3",
   "version": "3.9.13"
  }
 },
 "nbformat": 4,
 "nbformat_minor": 5
}
