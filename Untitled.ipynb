{
 "cells": [
  {
   "cell_type": "code",
   "execution_count": 18,
   "id": "a33545fc-2c6d-4cac-8ebd-c68b4807d501",
   "metadata": {},
   "outputs": [
    {
     "name": "stdin",
     "output_type": "stream",
     "text": [
      "시작하는 정수 입력 : 2\n",
      "끝나는 정수 입력 : 7\n"
     ]
    },
    {
     "name": "stdout",
     "output_type": "stream",
     "text": [
      "2부터 7사이의 짝수 제곱의 합은 56입니다.\n"
     ]
    }
   ],
   "source": [
    "n = int(input(\"시작하는 정수 입력 :\"))\n",
    "m = int(input(\"끝나는 정수 입력 :\"))\n",
    "\n",
    "total = 0\n",
    "\n",
    "for _ in range(n,m+1):\n",
    "    if _ % 2 == 0:\n",
    "        total += _**2\n",
    "        _+=1\n",
    "    else:\n",
    "        _+=1\n",
    "        \n",
    "print(f'{n}부터 {m}사이의 짝수 제곱의 합은 {total}입니다.')"
   ]
  },
  {
   "cell_type": "code",
   "execution_count": 9,
   "id": "cf0b4a5a-d9e5-49be-a7c4-4729674a1769",
   "metadata": {},
   "outputs": [
    {
     "data": {
      "text/plain": [
       "56"
      ]
     },
     "execution_count": 9,
     "metadata": {},
     "output_type": "execute_result"
    }
   ],
   "source": [
    "4+16+36"
   ]
  },
  {
   "cell_type": "code",
   "execution_count": 15,
   "id": "f33535dd-784a-41e5-b965-cb100f63c3eb",
   "metadata": {},
   "outputs": [
    {
     "data": {
      "text/plain": [
       "0"
      ]
     },
     "execution_count": 15,
     "metadata": {},
     "output_type": "execute_result"
    }
   ],
   "source": []
  },
  {
   "cell_type": "code",
   "execution_count": null,
   "id": "7283726d-18fa-4964-bca3-5fac75ba178e",
   "metadata": {},
   "outputs": [],
   "source": []
  }
 ],
 "metadata": {
  "kernelspec": {
   "display_name": "Python 3 (ipykernel)",
   "language": "python",
   "name": "python3"
  },
  "language_info": {
   "codemirror_mode": {
    "name": "ipython",
    "version": 3
   },
   "file_extension": ".py",
   "mimetype": "text/x-python",
   "name": "python",
   "nbconvert_exporter": "python",
   "pygments_lexer": "ipython3",
   "version": "3.9.13"
  }
 },
 "nbformat": 4,
 "nbformat_minor": 5
}
