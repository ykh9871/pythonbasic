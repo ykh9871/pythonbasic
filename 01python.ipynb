{
 "cells": [
  {
   "cell_type": "markdown",
   "id": "ee8492e6-a709-4fe9-9bf9-a10cd2341ce8",
   "metadata": {},
   "source": [
    "# * 파이썬 버전확인"
   ]
  },
  {
   "cell_type": "code",
   "execution_count": 2,
   "id": "b2336272-b33f-4c64-b8e7-5590d7e1f985",
   "metadata": {},
   "outputs": [
    {
     "name": "stdout",
     "output_type": "stream",
     "text": [
      "3.9.13 (main, Aug 25 2022, 23:51:50) [MSC v.1916 64 bit (AMD64)]\n"
     ]
    }
   ],
   "source": [
    "import sys\n",
    "print(sys.version)"
   ]
  },
  {
   "cell_type": "code",
   "execution_count": 3,
   "id": "9fa16abc-c19e-45ce-be28-bd48d8bcb478",
   "metadata": {},
   "outputs": [
    {
     "name": "stdout",
     "output_type": "stream",
     "text": [
      " C 드라이브의 볼륨에는 이름이 없습니다.\n",
      " 볼륨 일련 번호: DE8F-43A9\n",
      "\n",
      " C:\\python 디렉터리\n",
      "\n",
      "2023-01-04  오전 10:13    <DIR>          .\n",
      "2023-01-04  오전 10:13    <DIR>          ..\n",
      "2023-01-04  오전 10:13    <DIR>          .ipynb_checkpoints\n",
      "2023-01-04  오전 10:13               667 01python.ipynb\n",
      "               1개 파일                 667 바이트\n",
      "               3개 디렉터리  194,658,717,696 바이트 남음\n"
     ]
    }
   ],
   "source": [
    "!dir"
   ]
  },
  {
   "cell_type": "markdown",
   "id": "832b06d5-5f89-4190-97bc-a394d7d3196e",
   "metadata": {},
   "source": [
    "### Hello world 출력해보기"
   ]
  },
  {
   "cell_type": "code",
   "execution_count": 2,
   "id": "303e8fa3-2ecd-4c27-a4d8-29dcb8055ba6",
   "metadata": {},
   "outputs": [
    {
     "name": "stdout",
     "output_type": "stream",
     "text": [
      "Hello world\n"
     ]
    }
   ],
   "source": [
    "print(\"Hello world\")"
   ]
  }
 ],
 "metadata": {
  "kernelspec": {
   "display_name": "Python 3 (ipykernel)",
   "language": "python",
   "name": "python3"
  },
  "language_info": {
   "codemirror_mode": {
    "name": "ipython",
    "version": 3
   },
   "file_extension": ".py",
   "mimetype": "text/x-python",
   "name": "python",
   "nbconvert_exporter": "python",
   "pygments_lexer": "ipython3",
   "version": "3.9.13"
  }
 },
 "nbformat": 4,
 "nbformat_minor": 5
}
