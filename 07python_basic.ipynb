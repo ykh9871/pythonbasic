{
 "cells": [
  {
   "cell_type": "markdown",
   "id": "4266d24f-5a6f-4dbf-83d0-ab32552002ea",
   "metadata": {},
   "source": [
    "### random 라이브러리\n",
    "- random.randint(시작 정수, 끝정수)"
   ]
  },
  {
   "cell_type": "code",
   "execution_count": 5,
   "id": "174a60b8-3602-44db-b989-d2bdeb95ec7f",
   "metadata": {},
   "outputs": [
    {
     "name": "stdout",
     "output_type": "stream",
     "text": [
      "[1, 1, 2, 2, 1, 1, 1, 2, 1, 2]\n"
     ]
    }
   ],
   "source": [
    "import random\n",
    "random_list = [random.randint(1,2) for _ in range(10)]\n",
    "print(random_list)"
   ]
  },
  {
   "cell_type": "code",
   "execution_count": 59,
   "id": "530683df-8b36-465f-a4fe-3ccc96f1e7aa",
   "metadata": {},
   "outputs": [
    {
     "name": "stdin",
     "output_type": "stream",
     "text": [
      "로또 번호 몇 개 드릴까요? 7\n"
     ]
    },
    {
     "name": "stdout",
     "output_type": "stream",
     "text": [
      "[5, 16, 18, 27, 32, 34]\n",
      "[3, 15, 31, 33, 37, 40]\n",
      "[14, 21, 22, 29, 30, 45]\n",
      "[3, 11, 32, 35, 36, 39]\n",
      "[7, 15, 17, 34, 36, 40]\n",
      "[12, 33, 37, 38, 42, 45]\n",
      "[5, 17, 21, 31, 33, 34]\n"
     ]
    }
   ],
   "source": [
    "import random\n",
    "\n",
    "count = int(input(\"로또 번호 몇 개 드릴까요?\"))\n",
    "\n",
    "for i  in range(count):\n",
    "    lotto_numbers = []\n",
    "    while len(lotto_numbers) < 6:\n",
    "        lotto_number = random.randint(1,45)\n",
    "        if lotto_number not in lotto_numbers:\n",
    "            lotto_numbers.append(lotto_number)\n",
    "    lotto_numbers.sort()\n",
    "    print(lotto_numbers)"
   ]
  },
  {
   "cell_type": "code",
   "execution_count": 68,
   "id": "f34a11f2-a5f1-44a1-94f1-0e4c4a98a928",
   "metadata": {},
   "outputs": [
    {
     "name": "stdin",
     "output_type": "stream",
     "text": [
      "로또 번호 몇 개 드릴까요? 7\n"
     ]
    },
    {
     "name": "stdout",
     "output_type": "stream",
     "text": [
      "[3, 13, 15, 30, 32, 42]\n",
      "[5, 7, 14, 30, 38, 41]\n",
      "[2, 5, 20, 28, 35, 37]\n",
      "[4, 7, 9, 12, 18, 29]\n",
      "[13, 14, 16, 23, 36, 41]\n",
      "[8, 27, 30, 31, 34, 38]\n",
      "[6, 9, 17, 18, 29, 44]\n"
     ]
    }
   ],
   "source": [
    "import random\n",
    "\n",
    "count = int(input(\"로또 번호 몇 개 드릴까요?\"))\n",
    "\n",
    "for i  in range(count):\n",
    "    lotto = [j for j in range(1,45)]\n",
    "    lotto_numbers = []\n",
    "    for _ in range(6):\n",
    "        lotto_number = lotto[random.randint(1, len(lotto) - 1)]\n",
    "        lotto_numbers.append(lotto_number)\n",
    "        lotto.remove(lotto_number)\n",
    "        lotto_numbers.sort()\n",
    "    print(lotto_numbers)"
   ]
  },
  {
   "cell_type": "code",
   "execution_count": 87,
   "id": "5b315d46-0982-4540-ae33-1ff38c18871f",
   "metadata": {},
   "outputs": [
    {
     "name": "stdin",
     "output_type": "stream",
     "text": [
      "로또 번호 몇 개 드릴까요? 5\n"
     ]
    },
    {
     "name": "stdout",
     "output_type": "stream",
     "text": [
      "[8, 9, 17, 21, 31, 36]\n",
      "[11, 15, 19, 36, 37, 41]\n",
      "[5, 6, 14, 18, 36, 45]\n",
      "[6, 13, 15, 29, 33, 41]\n",
      "[3, 11, 15, 24, 26, 39]\n"
     ]
    }
   ],
   "source": [
    "import random\n",
    "\n",
    "times = int(input(\"로또 번호 몇 개 드릴까요?\"))\n",
    "\n",
    "for i in range(times): # i 개수만큼 반복\n",
    "    lotto_list = [random.randint(1,45) for k in range(6)] # k = 로또 번호가 6개니까 반복 변수로\n",
    "    for j in range(len(lotto_list)): #로또번호 리스트안의 개수만큼 반복\n",
    "        if lotto_list.count(lotto_list[j]) > 1: #중복되는 값이 1초과라면\n",
    "            for i in range(lotto_list.count(lotto_list[j])-1): #중복되는 값만큼 반복 중복되는 값이 1개는 남아야 하니까 -1\n",
    "                lotto_list.remove(lotto_list[j]) #중복되는 값을 제거\n",
    "                lotto_list.append(random.randint(1,45)) #새로운 랜덤값을 추가\n",
    "                break\n",
    "        else:\n",
    "            lotto_list.sort()\n",
    "    \n",
    "    print(lotto_list)"
   ]
  },
  {
   "cell_type": "markdown",
   "id": "e6f27150-5b08-4d34-a022-1bdb189da3c2",
   "metadata": {},
   "source": [
    "### Set 자료형  \n",
    "- 딕셔너리처럼 중괄호를 사용해서 생성합니다.\n",
    "- 중복값을 갖지 않습니다\n",
    "```python\n",
    "set_variable = {키1,키2,키3,... }  \n",
    "```  \n",
    "### set comrehention  \n",
    "```python\n",
    "set_variable = {expression for 변수 in iterable if 조건식}\n",
    "\n",
    "```"
   ]
  },
  {
   "cell_type": "code",
   "execution_count": 2,
   "id": "06158a5e-184a-4495-b3f7-d6f6d3099083",
   "metadata": {},
   "outputs": [
    {
     "name": "stdout",
     "output_type": "stream",
     "text": [
      "<class 'dict'>\n",
      "<class 'set'>\n"
     ]
    }
   ],
   "source": [
    "print(type({}))\n",
    "print(type({1}))"
   ]
  },
  {
   "cell_type": "code",
   "execution_count": 3,
   "id": "9c6a36ec-5611-4a69-a487-da2d93b3433b",
   "metadata": {},
   "outputs": [
    {
     "name": "stdout",
     "output_type": "stream",
     "text": [
      "set() <class 'set'>\n",
      "{1}\n"
     ]
    }
   ],
   "source": [
    "set_variable = set()\n",
    "print(set_variable, type(set_variable))\n",
    "# 정수 1 값을 set_variable에 5차례 넣습니다.\n",
    "[set_variable.add(1) for _ in range(5)]\n",
    "\n",
    "# 출력하면 중복된 값 없이 출력된다.\n",
    "print(set_variable)"
   ]
  },
  {
   "cell_type": "code",
   "execution_count": 4,
   "id": "820c2f0d-1c36-4b8f-89b6-8902e49ef34f",
   "metadata": {},
   "outputs": [
    {
     "name": "stdout",
     "output_type": "stream",
     "text": [
      "{1, 2, 3, 4, 5, 6, 7, 8, 9}\n",
      "{1, 2, 3, 4, 5, 6, 7, 8}\n"
     ]
    },
    {
     "ename": "KeyError",
     "evalue": "'없는 값'",
     "output_type": "error",
     "traceback": [
      "\u001b[1;31m---------------------------------------------------------------------------\u001b[0m",
      "\u001b[1;31mKeyError\u001b[0m                                  Traceback (most recent call last)",
      "\u001b[1;32m~\\AppData\\Local\\Temp\\ipykernel_12552\\3550970912.py\u001b[0m in \u001b[0;36m<module>\u001b[1;34m\u001b[0m\n\u001b[0;32m      3\u001b[0m \u001b[0mset_variable\u001b[0m\u001b[1;33m.\u001b[0m\u001b[0mremove\u001b[0m\u001b[1;33m(\u001b[0m\u001b[1;36m9\u001b[0m\u001b[1;33m)\u001b[0m\u001b[1;33m\u001b[0m\u001b[1;33m\u001b[0m\u001b[0m\n\u001b[0;32m      4\u001b[0m \u001b[0mprint\u001b[0m\u001b[1;33m(\u001b[0m\u001b[0mset_variable\u001b[0m\u001b[1;33m)\u001b[0m\u001b[1;33m\u001b[0m\u001b[1;33m\u001b[0m\u001b[0m\n\u001b[1;32m----> 5\u001b[1;33m \u001b[0mset_variable\u001b[0m\u001b[1;33m.\u001b[0m\u001b[0mremove\u001b[0m\u001b[1;33m(\u001b[0m\u001b[1;34m'없는 값'\u001b[0m\u001b[1;33m)\u001b[0m\u001b[1;33m\u001b[0m\u001b[1;33m\u001b[0m\u001b[0m\n\u001b[0m",
      "\u001b[1;31mKeyError\u001b[0m: '없는 값'"
     ]
    }
   ],
   "source": [
    "set_variable = {1,2,3,4,5,6,7,8,9}\n",
    "print(set_variable)\n",
    "set_variable.remove(9)\n",
    "print(set_variable)\n",
    "set_variable.remove('없는 값')"
   ]
  },
  {
   "cell_type": "code",
   "execution_count": 5,
   "id": "60777e05-aaa1-4121-9759-382c2301781c",
   "metadata": {},
   "outputs": [
    {
     "name": "stdout",
     "output_type": "stream",
     "text": [
      "{1, 2, 3, 4, 5, 6, 7, 8}\n",
      "{1, 2, 3, 4, 5, 6, 7}\n"
     ]
    }
   ],
   "source": [
    "print(set_variable)\n",
    "set_variable.discard(8)\n",
    "print(set_variable)\n",
    "set_variable.discard('없는 값')"
   ]
  },
  {
   "cell_type": "code",
   "execution_count": 8,
   "id": "ef50558c-3596-475e-bf11-1048e8bb5d0c",
   "metadata": {},
   "outputs": [
    {
     "name": "stdout",
     "output_type": "stream",
     "text": [
      "{0, 3, 6, 9, 12, 15, 18}\n"
     ]
    },
    {
     "data": {
      "text/plain": [
       "[0, 3, 6, 9, 12, 15, 18]"
      ]
     },
     "execution_count": 8,
     "metadata": {},
     "output_type": "execute_result"
    }
   ],
   "source": [
    "set_variable = {_ for _ in range(20) if _ % 3 == 0}\n",
    "print(set_variable)\n",
    "[set_variable.pop() for _ in range(len(set_variable))]"
   ]
  },
  {
   "cell_type": "code",
   "execution_count": 9,
   "id": "ac01eba1-431d-4a6a-be38-66687453de13",
   "metadata": {},
   "outputs": [
    {
     "name": "stdout",
     "output_type": "stream",
     "text": [
      "set() 0\n"
     ]
    },
    {
     "ename": "KeyError",
     "evalue": "'pop from an empty set'",
     "output_type": "error",
     "traceback": [
      "\u001b[1;31m---------------------------------------------------------------------------\u001b[0m",
      "\u001b[1;31mKeyError\u001b[0m                                  Traceback (most recent call last)",
      "\u001b[1;32m~\\AppData\\Local\\Temp\\ipykernel_12552\\3251311548.py\u001b[0m in \u001b[0;36m<module>\u001b[1;34m\u001b[0m\n\u001b[0;32m      1\u001b[0m \u001b[0mprint\u001b[0m\u001b[1;33m(\u001b[0m\u001b[0mset_variable\u001b[0m\u001b[1;33m,\u001b[0m \u001b[0mlen\u001b[0m\u001b[1;33m(\u001b[0m\u001b[0mset_variable\u001b[0m\u001b[1;33m)\u001b[0m\u001b[1;33m)\u001b[0m\u001b[1;33m\u001b[0m\u001b[1;33m\u001b[0m\u001b[0m\n\u001b[1;32m----> 2\u001b[1;33m \u001b[0mset_variable\u001b[0m\u001b[1;33m.\u001b[0m\u001b[0mpop\u001b[0m\u001b[1;33m(\u001b[0m\u001b[1;33m)\u001b[0m\u001b[1;33m\u001b[0m\u001b[1;33m\u001b[0m\u001b[0m\n\u001b[0m",
      "\u001b[1;31mKeyError\u001b[0m: 'pop from an empty set'"
     ]
    }
   ],
   "source": [
    "print(set_variable, len(set_variable))\n",
    "set_variable.pop()"
   ]
  },
  {
   "cell_type": "code",
   "execution_count": 10,
   "id": "bf00fd2b-cde5-43e8-86b2-210011e765c9",
   "metadata": {},
   "outputs": [
    {
     "name": "stdout",
     "output_type": "stream",
     "text": [
      "{0, 3, 6, 9, 12, 15, 18}\n",
      "set()\n"
     ]
    }
   ],
   "source": [
    "set_variable = {_ for _ in range(20) if _ % 3 == 0}\n",
    "print(set_variable)\n",
    "set_variable.clear()\n",
    "print(set_variable)"
   ]
  },
  {
   "cell_type": "code",
   "execution_count": 119,
   "id": "c3f952c8-035f-41fc-aee7-aa28902a1a27",
   "metadata": {},
   "outputs": [
    {
     "name": "stdout",
     "output_type": "stream",
     "text": [
      "{0, 3, 6, 9, 12, 15, 18} 개수는 7 입니다.\n"
     ]
    }
   ],
   "source": [
    "set_variable = {_ for _ in range(20) if _ % 3 == 0}\n",
    "print(set_variable, \"개수는\", len(set_variable), \"입니다.\")"
   ]
  },
  {
   "cell_type": "code",
   "execution_count": 212,
   "id": "dc065a08-981b-4a9b-83f0-fac4eea07f53",
   "metadata": {},
   "outputs": [
    {
     "name": "stdout",
     "output_type": "stream",
     "text": [
      "A: {1, 2, 3, 4} \n",
      "B {2, 4, 5}\n",
      "set.union(A, B): {1, 2, 3, 4, 5}\n",
      "A | B: {1, 2, 3, 4, 5}\n"
     ]
    }
   ],
   "source": [
    "A = {_ for _ in range(1,5)}\n",
    "B = {_ for _ in range(2,6) if _ != 3}\n",
    "print(\"A:\", A, \"\\nB\", B)\n",
    "print(\"set.union(A, B):\", set.union(A, B))\n",
    "print(\"A | B:\", A | B)"
   ]
  },
  {
   "cell_type": "code",
   "execution_count": 11,
   "id": "be3a4f4e-bd1f-4669-9327-b02829091338",
   "metadata": {},
   "outputs": [
    {
     "name": "stdout",
     "output_type": "stream",
     "text": [
      "A: {1, 2, 3, 4} \n",
      "B {2, 4, 5}\n",
      "set.intersection(A, B): {2, 4}\n",
      "A - B: {2, 4}\n"
     ]
    }
   ],
   "source": [
    "A = {_ for _ in range(1,5)}\n",
    "B = {_ for _ in range(2,6) if _ != 3}\n",
    "print(\"A:\", A, \"\\nB\", B)\n",
    "print(\"set.intersection(A, B):\", set.intersection(A, B))\n",
    "print(\"A - B:\", A & B)"
   ]
  },
  {
   "cell_type": "code",
   "execution_count": 123,
   "id": "a1d44a84-7aef-4407-95d0-82a0207ac0cb",
   "metadata": {},
   "outputs": [
    {
     "name": "stdout",
     "output_type": "stream",
     "text": [
      "A: {1, 2, 3, 4} \n",
      "B {2, 4, 5}\n",
      "set.difference(A, B): {1, 3}\n",
      "A - B: {1, 3}\n"
     ]
    }
   ],
   "source": [
    "A = {_ for _ in range(1,5)}\n",
    "B = {_ for _ in range(2,6) if _ != 3}\n",
    "print(\"A:\", A, \"\\nB\", B)\n",
    "print(\"set.difference(A, B):\", set.difference(A, B))\n",
    "print(\"A - B:\", A - B)"
   ]
  },
  {
   "cell_type": "code",
   "execution_count": 127,
   "id": "b7720a84-7fd1-4980-9e3f-79127bc1ebcf",
   "metadata": {},
   "outputs": [
    {
     "name": "stdout",
     "output_type": "stream",
     "text": [
      "A: {1, 2, 3, 4} \n",
      "B {2, 4, 5}\n",
      "set.symmetric_difference(A, B): {1, 3, 5}\n",
      "A ^ B: {1, 3, 5}\n"
     ]
    }
   ],
   "source": [
    "A = {_ for _ in range(1,5)}\n",
    "B = {_ for _ in range(2,6) if _ != 3}\n",
    "print(\"A:\", A, \"\\nB\", B)\n",
    "print(\"set.symmetric_difference(A, B):\", set.symmetric_difference(A, B))\n",
    "print(\"A ^ B:\", A ^ B)"
   ]
  },
  {
   "cell_type": "code",
   "execution_count": 128,
   "id": "ceafaaca-ce73-42c4-9e5e-cf570689f568",
   "metadata": {},
   "outputs": [
    {
     "name": "stdout",
     "output_type": "stream",
     "text": [
      "A: {1, 2, 3, 4} \n",
      "B {2, 4, 5}\n",
      "A.update(B): {1, 2, 3, 4, 5}\n"
     ]
    }
   ],
   "source": [
    "A = {_ for _ in range(1,5)}\n",
    "B = {_ for _ in range(2,6) if _ != 3}\n",
    "print(\"A:\", A, \"\\nB\", B)\n",
    "A.update(B) # A /= B 와 같습니다.\n",
    "print(\"A.update(B):\", A)"
   ]
  },
  {
   "cell_type": "code",
   "execution_count": 12,
   "id": "e05654b9-de17-40d7-bca2-545583ef3f8c",
   "metadata": {},
   "outputs": [
    {
     "name": "stdout",
     "output_type": "stream",
     "text": [
      "A: {1, 2, 3, 4} \n",
      "B {2, 4, 5}\n",
      "A.update(B): {2, 4}\n"
     ]
    }
   ],
   "source": [
    "A = {_ for _ in range(1,5)}\n",
    "B = {_ for _ in range(2,6) if _ != 3}\n",
    "print(\"A:\", A, \"\\nB\", B)\n",
    "A.intersection_update(B) # A &= B 와 같습니다.\n",
    "print(\"A.update(B):\", A)"
   ]
  },
  {
   "cell_type": "code",
   "execution_count": 14,
   "id": "8cba08bf-7d10-46ff-b803-a2e97b13b112",
   "metadata": {},
   "outputs": [
    {
     "name": "stdout",
     "output_type": "stream",
     "text": [
      "A: {1, 2, 3, 4} \n",
      "B {2, 4, 5}\n",
      "A.update(B): {1, 3}\n"
     ]
    }
   ],
   "source": [
    "A = {_ for _ in range(1,5)}\n",
    "B = {_ for _ in range(2,6) if _ != 3}\n",
    "print(\"A:\", A, \"\\nB\", B)\n",
    "A.difference_update(B) # A -= B 와 같습니다.\n",
    "print(\"A.update(B):\", A)"
   ]
  },
  {
   "cell_type": "code",
   "execution_count": 16,
   "id": "3b830e98-2400-4d24-a0dc-60a817ed2d51",
   "metadata": {},
   "outputs": [
    {
     "name": "stdout",
     "output_type": "stream",
     "text": [
      "A: {1, 2, 3, 4} \n",
      "B {2, 4, 5}\n",
      "A.update(B): {1, 3, 5}\n"
     ]
    }
   ],
   "source": [
    "A = {_ for _ in range(1,5)}\n",
    "B = {_ for _ in range(2,6) if _ != 3}\n",
    "print(\"A:\", A, \"\\nB\", B)\n",
    "A.symmetric_difference_update(B) # A ^= B 와 같습니다.\n",
    "print(\"A.update(B):\", A)"
   ]
  },
  {
   "cell_type": "code",
   "execution_count": 17,
   "id": "f965d743-3118-4257-922f-380d81c884dd",
   "metadata": {},
   "outputs": [
    {
     "name": "stdout",
     "output_type": "stream",
     "text": [
      "A: {0, 1, 2} \n",
      "B: {0, 1, 2}\n",
      "B.issubset(A): True\n"
     ]
    }
   ],
   "source": [
    "A = {_ for _ in range(0,3)}\n",
    "B = {_ for _ in range(0,3)}\n",
    "print(\"A:\", A, \"\\nB:\", B)\n",
    "print(\"B.issubset(A):\", A.issubset(B))"
   ]
  },
  {
   "cell_type": "code",
   "execution_count": 19,
   "id": "b4e52cc5-6522-42c4-8194-5d1061c8f466",
   "metadata": {},
   "outputs": [
    {
     "name": "stdout",
     "output_type": "stream",
     "text": [
      "A: {0, 1, 2} \n",
      "B: {0, 1}\n",
      "B.issubset(A): True\n"
     ]
    }
   ],
   "source": [
    "A = {_ for _ in range(0,3)}\n",
    "B = {_ for _ in range(0,2)}\n",
    "print(\"A:\", A, \"\\nB:\", B)\n",
    "print(\"B.issubset(A):\", B.issubset(A))"
   ]
  },
  {
   "cell_type": "code",
   "execution_count": 22,
   "id": "a473bef4-0599-4734-8b2a-01af3e79c7c0",
   "metadata": {},
   "outputs": [
    {
     "name": "stdout",
     "output_type": "stream",
     "text": [
      "A: {0, 1, 2} \n",
      "B: {0, 1, 2}\n",
      "B.issupersubset(A): True\n"
     ]
    }
   ],
   "source": [
    "A = {_ for _ in range(0,3)}\n",
    "B = {_ for _ in range(0,3)}\n",
    "print(\"A:\", A, \"\\nB:\", B)\n",
    "print(\"B.issupersubset(A):\", A.issuperset(B))"
   ]
  },
  {
   "cell_type": "code",
   "execution_count": 23,
   "id": "9cba1432-dbb0-47cf-9758-ed0fccaf2563",
   "metadata": {},
   "outputs": [
    {
     "name": "stdout",
     "output_type": "stream",
     "text": [
      "A: {0, 1, 2} \n",
      "B: {0, 1}\n",
      "B.issupersubset(A): True\n"
     ]
    }
   ],
   "source": [
    "A = {_ for _ in range(0,3)}\n",
    "B = {_ for _ in range(0,2)}\n",
    "print(\"A:\", A, \"\\nB:\", B)\n",
    "print(\"B.issupersubset(A):\", A.issuperset(B))"
   ]
  },
  {
   "cell_type": "code",
   "execution_count": 137,
   "id": "67bd672d-9624-4f6d-8a9d-f5f404791240",
   "metadata": {},
   "outputs": [
    {
     "name": "stdout",
     "output_type": "stream",
     "text": [
      "A: {0, 1, 2} \n",
      "B: {0, 1, 2}\n",
      "A > B False\n",
      "A < B False\n"
     ]
    }
   ],
   "source": [
    "A = {_ for _ in range(0,3)}\n",
    "B = {_ for _ in range(0,3)}\n",
    "print(\"A:\", A, \"\\nB:\", B)\n",
    "print(\"A > B\", A > B)\n",
    "print(\"A < B\", A < B)"
   ]
  },
  {
   "cell_type": "code",
   "execution_count": 138,
   "id": "f45b4fb7-7256-42ef-aa2f-c2c42c1aa6f4",
   "metadata": {},
   "outputs": [
    {
     "name": "stdout",
     "output_type": "stream",
     "text": [
      "A: {0, 1, 2} \n",
      "B: {0, 1}\n",
      "A > B True\n",
      "A < B False\n"
     ]
    }
   ],
   "source": [
    "A = {_ for _ in range(0,3)}\n",
    "B = {_ for _ in range(0,2)}\n",
    "print(\"A:\", A, \"\\nB:\", B)\n",
    "print(\"A > B\", A > B)\n",
    "print(\"A < B\", A < B)"
   ]
  },
  {
   "cell_type": "code",
   "execution_count": 24,
   "id": "baf7ec32-696f-4f01-83a9-ee89cfafd303",
   "metadata": {},
   "outputs": [
    {
     "name": "stdout",
     "output_type": "stream",
     "text": [
      "A: {0, 1, 2} \n",
      "B: {0, 1, 2}\n",
      "A == B : True\n"
     ]
    }
   ],
   "source": [
    "A = {_ for _ in range(0,3)}\n",
    "B = {_ for _ in range(0,3)}\n",
    "print(\"A:\", A, \"\\nB:\", B)\n",
    "print(\"A == B :\", A == B)"
   ]
  },
  {
   "cell_type": "code",
   "execution_count": 143,
   "id": "043b37f4-ec9f-468a-98d8-13b5603fc69b",
   "metadata": {},
   "outputs": [
    {
     "name": "stdout",
     "output_type": "stream",
     "text": [
      "A: {0, 1, 2} \n",
      "B: {3, 4, 5}\n",
      "A.isdisjoint(B): True\n"
     ]
    }
   ],
   "source": [
    "A = {_ for _ in range(0,3)}\n",
    "B = {_ for _ in range(3,6)}\n",
    "print(\"A:\", A, \"\\nB:\", B)\n",
    "print(\"A.isdisjoint(B):\", A.isdisjoint(B))"
   ]
  },
  {
   "cell_type": "code",
   "execution_count": 187,
   "id": "4ba9d08e-b9b7-471e-aa73-6c06f45fe0b7",
   "metadata": {},
   "outputs": [
    {
     "name": "stdin",
     "output_type": "stream",
     "text": [
      "로또 번호 몇 개 드릴까요? 7\n"
     ]
    },
    {
     "name": "stdout",
     "output_type": "stream",
     "text": [
      "[7, 16, 19, 24, 26, 35]\n",
      "[3, 11, 18, 22, 24, 45]\n",
      "[14, 20, 35, 36, 37, 39]\n",
      "[6, 14, 25, 32, 33, 42]\n",
      "[2, 8, 18, 23, 33, 42]\n",
      "[2, 5, 7, 12, 13, 23]\n",
      "[17, 18, 26, 34, 37, 40]\n"
     ]
    }
   ],
   "source": [
    "import random\n",
    "count = int(input(\"로또 번호 몇 개 드릴까요?\"))\n",
    "lotto = set()\n",
    "for i  in range(count):\n",
    "    lotto = {random.randint(1,45) for k in range(6)}\n",
    "    while len(lotto) != 6:\n",
    "        lotto = {random.randint(1,45) for k in range(6)}\n",
    "    result = list(lotto)\n",
    "    result.sort()\n",
    "    print(result)"
   ]
  },
  {
   "cell_type": "code",
   "execution_count": 197,
   "id": "78a2b237-2e6b-4844-b496-dc5cb574fb03",
   "metadata": {},
   "outputs": [
    {
     "name": "stdout",
     "output_type": "stream",
     "text": [
      "{1, 2, 3, 4}\n"
     ]
    }
   ],
   "source": [
    "list_sample = [1,2,2,3,3,3,4,4,4,4]\n",
    "list_sample = set([1,2,2,3,3,3,4,4,4,4])\n",
    "print(list_sample)"
   ]
  },
  {
   "cell_type": "code",
   "execution_count": 211,
   "id": "982ad1e0-67de-43fe-81f9-b19910c0a1e3",
   "metadata": {},
   "outputs": [
    {
     "name": "stdout",
     "output_type": "stream",
     "text": [
      "{75, 45, 15, 90, 60, 30}\n"
     ]
    }
   ],
   "source": [
    "set_5 = {_ for _ in range(1,101) if _ % 3 == 0}\n",
    "set_3 = {_ for _ in range(1,101) if _ % 5 == 0}\n",
    "result_set = set.intersection(set_3, set_5)\n",
    "\n",
    "print(result_set)"
   ]
  },
  {
   "cell_type": "code",
   "execution_count": 285,
   "id": "68902123-c979-480e-b861-f7d8746a666c",
   "metadata": {},
   "outputs": [
    {
     "name": "stdout",
     "output_type": "stream",
     "text": [
      "개인정보 조회, 구매관리, 근태관리, 시스템 관리, 인사관리, 회계 관리"
     ]
    }
   ],
   "source": [
    "role_admin = (\"회계 관리\", \"인사관리\", \"구매관리\", \"시스템 관리\")\n",
    "role_hr = (\"인사관리\", \"개인정보 조회\", \"회계 관리\", \"근태관리\")\n",
    "role_user = (\"개인정보 조회\", \"근태관리\")\n",
    "\n",
    "menus = list(set(role_user+role_hr+role_admin))\n",
    "menus.sort()\n",
    "end_char = \", \"\n",
    "for menu in menus:\n",
    "    if menus[-1] == menu:\n",
    "        end_char = \"\"\n",
    "    print(menu, end=end_char)"
   ]
  },
  {
   "cell_type": "code",
   "execution_count": 338,
   "id": "efa000ca-a15d-4719-a699-0d20cb64c26f",
   "metadata": {},
   "outputs": [
    {
     "name": "stdin",
     "output_type": "stream",
     "text": [
      "찾는 범위:  100\n"
     ]
    },
    {
     "name": "stdout",
     "output_type": "stream",
     "text": [
      "2 3 5 7 11 13 17 \n",
      "19 23 29 31 37 41 43 \n",
      "47 53 59 61 67 71 73 \n",
      "79 83 89 97 "
     ]
    }
   ],
   "source": [
    "def isPrime(num):\n",
    "    primes = [False, False] + [True]*(num-1)\n",
    "    for i in range(2, num+1):\n",
    "        if primes[i]:\n",
    "            for _ in range(i * 2, num+1, i):\n",
    "                primes[_] = False\n",
    "    return primes[num]\n",
    "get = int(input(\"찾는 범위: \"))\n",
    "lst = [_ for _ in range(2, get) if isPrime(_)]\n",
    "count = 0\n",
    "for _ in lst:\n",
    "    count+=1\n",
    "    print(_,end=\" \")\n",
    "    if count%7 == 0:\n",
    "        print()"
   ]
  },
  {
   "cell_type": "code",
   "execution_count": 339,
   "id": "572eea1b-858a-4ed2-8dd0-1241a853597a",
   "metadata": {},
   "outputs": [
    {
     "name": "stdout",
     "output_type": "stream",
     "text": [
      "2부터 입력하신 수까지의 모든 소수를 찾는 프로그램입니다.\n"
     ]
    },
    {
     "name": "stdin",
     "output_type": "stream",
     "text": [
      "찾는 범위를 입력하세요 : 100\n"
     ]
    },
    {
     "name": "stdout",
     "output_type": "stream",
     "text": [
      "2 3 5 7 11 13 17 \n",
      "19 23 29 31 37 41 43 \n",
      "47 53 59 61 67 71 73 \n",
      "79 83 89 97 "
     ]
    }
   ],
   "source": [
    "num = print(\"2부터 입력하신 수까지의 모든 소수를 찾는 프로그램입니다.\")\n",
    "inData = int(input(\"찾는 범위를 입력하세요 :\"))\n",
    "i = 2\n",
    "line = 0\n",
    "while i <= inData:\n",
    "    j = 2\n",
    "    while j <= i:\n",
    "        if i % j == 0:\n",
    "            break\n",
    "        j += 1\n",
    "    if i == j:\n",
    "        print(i, end=\" \")\n",
    "        line += 1\n",
    "        if line == 7:\n",
    "            line = 0\n",
    "            print()\n",
    "    i += 1"
   ]
  },
  {
   "cell_type": "code",
   "execution_count": 325,
   "id": "35bc41c3-2db3-46b1-b2c1-22b39c755597",
   "metadata": {},
   "outputs": [],
   "source": [
    "def function_name(message):\n",
    "    x = input(message)\n",
    "    print(x)\n",
    "    print(x)"
   ]
  },
  {
   "cell_type": "code",
   "execution_count": 324,
   "id": "20d6e3cd-494b-48ac-9254-2aefc0ac3ecb",
   "metadata": {},
   "outputs": [
    {
     "name": "stdin",
     "output_type": "stream",
     "text": [
      "값을 입력해주세요 1\n"
     ]
    },
    {
     "name": "stdout",
     "output_type": "stream",
     "text": [
      "1\n"
     ]
    }
   ],
   "source": [
    "function_name(\"값을 입력해주세요\")\n"
   ]
  },
  {
   "cell_type": "code",
   "execution_count": 326,
   "id": "55ea550e-bacf-42bd-8818-a4371d6a6b20",
   "metadata": {},
   "outputs": [],
   "source": [
    "# 함수 정의절\n",
    "def function_name(positional, positional2, *args, keyword = 1, **kargs):\n",
    "    pass # body"
   ]
  },
  {
   "cell_type": "code",
   "execution_count": 329,
   "id": "5f15a324-4fef-425c-9dd6-f8a86b835e2b",
   "metadata": {},
   "outputs": [],
   "source": [
    "def isPrime(num):\n",
    "    pass    "
   ]
  },
  {
   "cell_type": "code",
   "execution_count": 354,
   "id": "a81213c3-19d0-4ca1-a582-0fd36d7ce182",
   "metadata": {},
   "outputs": [],
   "source": [
    "def get_grade(score):\n",
    "    \"\"\"\n",
    "    숫자로된 점수를 넣으시면 학점의 결과를 반환합니다.\n",
    "    \"\"\"\n",
    "    if 85 <= score <= 100:\n",
    "        return \"A\"\n",
    "    elif 70 <= score <= 84:\n",
    "        return \"B\"\n",
    "    elif 55 <= score <= 69:\n",
    "        return \"C\"\n",
    "    elif 40 <= score <= 54:\n",
    "        return \"D\"\n",
    "    elif 0 <= score <= 39:\n",
    "        return \"F\""
   ]
  },
  {
   "cell_type": "code",
   "execution_count": 351,
   "id": "487235a4-27a1-4f12-bdf0-807107cb62c7",
   "metadata": {},
   "outputs": [
    {
     "data": {
      "text/plain": [
       "'A'"
      ]
     },
     "execution_count": 351,
     "metadata": {},
     "output_type": "execute_result"
    }
   ],
   "source": [
    "get_grade()"
   ]
  },
  {
   "cell_type": "code",
   "execution_count": 344,
   "id": "42fbb5d9-2d87-4697-8127-37fa1556d61f",
   "metadata": {},
   "outputs": [
    {
     "name": "stdout",
     "output_type": "stream",
     "text": [
      "\n",
      "    숫자로된 점수를 넣으시면 학점의 결과를 반환합니다.\n",
      "    \n"
     ]
    }
   ],
   "source": [
    "print(get_grade.__doc__)"
   ]
  },
  {
   "cell_type": "code",
   "execution_count": 335,
   "id": "3d385784-1b1f-4e69-90b0-f7635eb35b84",
   "metadata": {},
   "outputs": [
    {
     "name": "stdout",
     "output_type": "stream",
     "text": [
      "A\n"
     ]
    }
   ],
   "source": [
    "result = get_grade(100) # \"A\"\n",
    "print(result)"
   ]
  },
  {
   "cell_type": "code",
   "execution_count": 341,
   "id": "26d05ca4-456d-41bd-b1df-2a5d541bab33",
   "metadata": {},
   "outputs": [
    {
     "name": "stdout",
     "output_type": "stream",
     "text": [
      "[70, 81, 85, 14, 11, 73, 80, 50, 19, 28, 53, 25, 6, 57, 2, 90, 21, 28, 75, 96]\n"
     ]
    }
   ],
   "source": [
    "import random\n",
    "# 20명의 점수를 입력했다.\n",
    "scores = [random.randint(1,100) for _ in range(20)]\n",
    "print(scores)"
   ]
  },
  {
   "cell_type": "code",
   "execution_count": 342,
   "id": "f8452030-a1ff-4dd1-8df5-6b917e621e7f",
   "metadata": {},
   "outputs": [
    {
     "name": "stdout",
     "output_type": "stream",
     "text": [
      "['B', 'B', 'A', 'F', 'F', 'B', 'B', 'D', 'F', 'F', 'D', 'F', 'F', 'C', 'F', 'A', 'F', 'F', 'B', 'A']\n"
     ]
    }
   ],
   "source": [
    "grades = list(map(get_grade, scores))\n",
    "print(grades)"
   ]
  },
  {
   "cell_type": "code",
   "execution_count": 391,
   "id": "163ab395-aa49-49fd-974b-281aedd919c8",
   "metadata": {},
   "outputs": [],
   "source": [
    "# 함수 정의절\n",
    "# 인자(=매개변수, parameter)\n",
    "def get_grade(score, student_number, name=\"홍길동\"):\n",
    "    \"\"\"\n",
    "    숫자로된 점수를 넣으시면 학점의 결과를 반환합니다.\n",
    "    \"\"\"\n",
    "    print(f'{student_number}, {name}의 성적을 확인합니다.')\n",
    "    if 85 <= score <= 100:\n",
    "        return \"A\"\n",
    "    elif 70 <= score <= 84:\n",
    "        return \"B\"\n",
    "    elif 55 <= score <= 69:\n",
    "        return \"C\"\n",
    "    elif 40 <= score <= 54:\n",
    "        return \"D\"\n",
    "    elif 0 <= score <= 39:\n",
    "        return \"F\""
   ]
  },
  {
   "cell_type": "code",
   "execution_count": 394,
   "id": "87ca7c99-2a3e-4ffa-a44f-2782f2eddf29",
   "metadata": {},
   "outputs": [
    {
     "name": "stdout",
     "output_type": "stream",
     "text": [
      "981228_1XXXXXX, 윤규헌의 성적을 확인합니다.\n"
     ]
    },
    {
     "data": {
      "text/plain": [
       "'A'"
      ]
     },
     "execution_count": 394,
     "metadata": {},
     "output_type": "execute_result"
    }
   ],
   "source": [
    "# 함수 호출\n",
    "# 인수(argument)\n",
    "get_grade(score = 100, name=\"윤규헌\", student_number=\"981228_1XXXXXX\")\n",
    "          # positional_argument / keyword_argument"
   ]
  },
  {
   "cell_type": "code",
   "execution_count": 436,
   "id": "436519cd-0b42-4217-bb8b-9bcd37431fec",
   "metadata": {},
   "outputs": [],
   "source": [
    "# 함수 정의절\n",
    "# 인자(=매개변수, parameter) - non-default, default 종류\n",
    "# positional-only : /문자를 기준으로 왼편에 온다.\n",
    "def add_number(number2, number1 = 3, /):\n",
    "    \"\"\"\n",
    "    숫자 number1과 숫자 number2를 전달 받아 더한 결과를 반환합니다.\n",
    "    \"\"\"\n",
    "    return number1 + number2"
   ]
  },
  {
   "cell_type": "code",
   "execution_count": 437,
   "id": "44b335e0-e291-45c9-a608-65d59a71016f",
   "metadata": {},
   "outputs": [
    {
     "name": "stdout",
     "output_type": "stream",
     "text": [
      "\n",
      "    숫자 number1과 숫자 number2를 전달 받아 더한 결과를 반환합니다.\n",
      "    \n"
     ]
    }
   ],
   "source": [
    "print(add_number.__doc__)"
   ]
  },
  {
   "cell_type": "code",
   "execution_count": 443,
   "id": "730f393c-a0a1-4cb4-b7b7-9dcaa72c079a",
   "metadata": {},
   "outputs": [],
   "source": [
    "# 함수 호출\n",
    "# 인수(argument) - positional argument, key word argument\n",
    "result = add_number(2) #소괄호--> call"
   ]
  },
  {
   "cell_type": "code",
   "execution_count": 439,
   "id": "ec25c457-2c01-4d62-bdce-462434835ea0",
   "metadata": {},
   "outputs": [
    {
     "name": "stdout",
     "output_type": "stream",
     "text": [
      "5\n"
     ]
    }
   ],
   "source": [
    "print(result)"
   ]
  },
  {
   "cell_type": "code",
   "execution_count": 447,
   "id": "6ed6c0d5-29c9-4a89-8965-b7cc46d1d4e1",
   "metadata": {},
   "outputs": [],
   "source": [
    "# 함수 정의절\n",
    "# 인자(=매개변수, parameter) - non-default, default 종류\n",
    "# keyword-only : *문자를 기준으로 오른편에 온다.\n",
    "def minus_number(*, number1, number2=3):\n",
    "    \"\"\"\n",
    "    숫자 number1과 숫자 number2를 전달 받아 뺀한 결과를 반환합니다.\n",
    "    \"\"\"\n",
    "    return number1 - number2"
   ]
  },
  {
   "cell_type": "code",
   "execution_count": 448,
   "id": "8aa4f73f-2f90-4d0e-a08a-f836669047a3",
   "metadata": {},
   "outputs": [
    {
     "data": {
      "text/plain": [
       "15"
      ]
     },
     "execution_count": 448,
     "metadata": {},
     "output_type": "execute_result"
    }
   ],
   "source": [
    "# 인수(argument) - positional argument, key word argument\n",
    "minus_number(number1 = 20, number2 = 5)"
   ]
  },
  {
   "cell_type": "code",
   "execution_count": 453,
   "id": "ac9c5349-3556-46ac-b805-23795768a686",
   "metadata": {},
   "outputs": [],
   "source": [
    "# 함수 정의절\n",
    "# 인자(=매개변수, parameter) - non-default, default 종류\n",
    "# positional-only : /문자를 기준으로 왼편에 온다.\n",
    "# keyword-only : *문자를 기준으로 오른편에 온다.\n",
    "def multi_number(number1, /, *, number2=3):\n",
    "    \"\"\"\n",
    "    숫자 number1과 숫자 number2를 전달 받아 곱한 결과를 반환합니다.\n",
    "    \"\"\"\n",
    "    return number1 * number2"
   ]
  },
  {
   "cell_type": "code",
   "execution_count": 454,
   "id": "7d7c00e1-a962-4a10-99d4-c0fb950e2d10",
   "metadata": {},
   "outputs": [
    {
     "data": {
      "text/plain": [
       "30"
      ]
     },
     "execution_count": 454,
     "metadata": {},
     "output_type": "execute_result"
    }
   ],
   "source": [
    "multi_number(3, number2 = 10)"
   ]
  },
  {
   "cell_type": "code",
   "execution_count": 456,
   "id": "cdd66da5-b42f-4874-9728-b51c830d3bf8",
   "metadata": {},
   "outputs": [],
   "source": [
    "def string_line(str_value, /, str_len=70, *, sep=\"#\"):\n",
    "    \"\"\"\n",
    "    str_value는 가운데 오는 텍스트입니다.\n",
    "    str_len은 텍스트의 설정할 길이입니다.\n",
    "    sep는 구분선을 그을때 쓰는 문자입니다.\n",
    "    \"\"\"\n",
    "    print(str_value.center(str_len,sep))"
   ]
  },
  {
   "cell_type": "code",
   "execution_count": 457,
   "id": "5fb71366-d414-452c-9fd6-8d986ecd02bc",
   "metadata": {},
   "outputs": [
    {
     "name": "stdout",
     "output_type": "stream",
     "text": [
      "************************구분************************\n"
     ]
    }
   ],
   "source": [
    "string_line(\"구분\", 50, sep=\"*\")"
   ]
  },
  {
   "cell_type": "code",
   "execution_count": 460,
   "id": "5f6e0b09-b8a3-4a80-a20e-1264c1bc8628",
   "metadata": {},
   "outputs": [
    {
     "data": {
      "text/plain": [
       "50"
      ]
     },
     "execution_count": 460,
     "metadata": {},
     "output_type": "execute_result"
    }
   ],
   "source": [
    "len('************************구분************************')"
   ]
  },
  {
   "cell_type": "code",
   "execution_count": 462,
   "id": "b4ace245-8fce-4e2b-a84d-a584ceb8ba6b",
   "metadata": {},
   "outputs": [
    {
     "name": "stdout",
     "output_type": "stream",
     "text": [
      "------------------------------------------------절취선-------------------------------------------------\n"
     ]
    }
   ],
   "source": [
    "string_line(\"절취선\", str_len=100, sep=\"-\")"
   ]
  },
  {
   "cell_type": "code",
   "execution_count": 463,
   "id": "43f4ffc3-fe88-4364-a22e-5eff173ac2e0",
   "metadata": {},
   "outputs": [
    {
     "data": {
      "text/plain": [
       "100"
      ]
     },
     "execution_count": 463,
     "metadata": {},
     "output_type": "execute_result"
    }
   ],
   "source": [
    "len('------------------------------------------------절취선-------------------------------------------------')"
   ]
  },
  {
   "cell_type": "code",
   "execution_count": 464,
   "id": "76c97341-0061-43ba-b68f-b45ab292b507",
   "metadata": {},
   "outputs": [
    {
     "name": "stdout",
     "output_type": "stream",
     "text": [
      "1 1 1 1 1 1 1 1 1 1 1 1 1 1\n"
     ]
    }
   ],
   "source": [
    "print(\"1\", \"1\", \"1\", \"1\", \"1\", \"1\", \"1\", \"1\", \"1\", \"1\", \"1\", \"1\", \"1\", \"1\", )"
   ]
  },
  {
   "cell_type": "code",
   "execution_count": 474,
   "id": "6d5a16b9-a29f-485a-80f3-b9eab3f633e0",
   "metadata": {},
   "outputs": [],
   "source": [
    "# *args: var positional 가변위치\n",
    "def test_func(a,b,c, *args):\n",
    "    print(f'a: {a} b: {b} c: {c}')\n",
    "    print(type(args))\n",
    "    print(args)"
   ]
  },
  {
   "cell_type": "code",
   "execution_count": 475,
   "id": "2a6881bc-1ecb-4a59-b70e-e893662cc210",
   "metadata": {},
   "outputs": [
    {
     "name": "stdout",
     "output_type": "stream",
     "text": [
      "a: a 위치입니다 b: b 위치입니다 c: c 위치입니다\n",
      "<class 'tuple'>\n",
      "('여기는', '어디일까요', '몇개', '더')\n"
     ]
    }
   ],
   "source": [
    "test_func(\"a 위치입니다\", \"b 위치입니다\", \"c 위치입니다\", \"여기는\", \"어디일까요\", \"몇개\", \"더\")"
   ]
  },
  {
   "cell_type": "code",
   "execution_count": 477,
   "id": "bdb715ed-8b5b-4e83-b7b6-6b3ac6ab8204",
   "metadata": {},
   "outputs": [],
   "source": [
    "# **kargs: var keyword 가변 키워드\n",
    "def test_func2(a=\"a\",b=\"b\", **kargs):\n",
    "    print(a,b)\n",
    "    print(type(kargs))\n",
    "    print(kargs)"
   ]
  },
  {
   "cell_type": "code",
   "execution_count": 478,
   "id": "4f592fd9-c780-4b5d-b0d2-618cbf7f6f90",
   "metadata": {},
   "outputs": [
    {
     "name": "stdout",
     "output_type": "stream",
     "text": [
      "ab bc\n",
      "<class 'dict'>\n",
      "{'key': 'value', 'key2': 'value2'}\n"
     ]
    }
   ],
   "source": [
    "test_func2(a=\"ab\", b=\"bc\", key=\"value\", key2=\"value2\")"
   ]
  },
  {
   "cell_type": "markdown",
   "id": "e527832f-0c90-43eb-928b-7411442bb575",
   "metadata": {},
   "source": [
    "### 함수 정의"
   ]
  },
  {
   "cell_type": "code",
   "execution_count": 490,
   "id": "39ef92a7-e868-43ec-9c7b-3ce484729cab",
   "metadata": {},
   "outputs": [],
   "source": [
    "def greeting(name, age):\n",
    "    print(f\"{name} 씨 안녕하세요. 약 {age * 365.25} 일 되었습니다.\")"
   ]
  },
  {
   "cell_type": "code",
   "execution_count": 491,
   "id": "b0dce67d-0aa5-4bec-a3c5-4d1f55cd0247",
   "metadata": {},
   "outputs": [
    {
     "name": "stdout",
     "output_type": "stream",
     "text": [
      "파이썬 씨 안녕하세요. 약 11688.0 일 되었습니다.\n"
     ]
    }
   ],
   "source": [
    "greeting(\"파이썬\", 32)"
   ]
  },
  {
   "cell_type": "code",
   "execution_count": 492,
   "id": "f59289d3-b559-4969-8816-6d9fcaf816e5",
   "metadata": {},
   "outputs": [
    {
     "name": "stdout",
     "output_type": "stream",
     "text": [
      "파이썬 씨 안녕하세요. 약 11688.0 일 되었습니다.\n"
     ]
    }
   ],
   "source": [
    "greeting(age = 32, name=\"파이썬\")"
   ]
  },
  {
   "cell_type": "code",
   "execution_count": 495,
   "id": "156498f0-4a2b-4330-b538-be48945221fa",
   "metadata": {},
   "outputs": [],
   "source": [
    "def greeting(name, age=32):\n",
    "    print(f\"{name} 씨 안녕하세요. 약 {age * 365.25} 일 되었습니다.\")"
   ]
  },
  {
   "cell_type": "code",
   "execution_count": 496,
   "id": "ab9ad43b-ee73-45f9-ae29-68daf580d15f",
   "metadata": {},
   "outputs": [],
   "source": [
    "def posonly(posonly, /):\n",
    "    print(posonly)"
   ]
  },
  {
   "cell_type": "code",
   "execution_count": 498,
   "id": "af93388f-1383-4f62-911c-ff7ec923e3e4",
   "metadata": {},
   "outputs": [
    {
     "ename": "TypeError",
     "evalue": "posonly() got some positional-only arguments passed as keyword arguments: 'posonly'",
     "output_type": "error",
     "traceback": [
      "\u001b[1;31m---------------------------------------------------------------------------\u001b[0m",
      "\u001b[1;31mTypeError\u001b[0m                                 Traceback (most recent call last)",
      "\u001b[1;32m~\\AppData\\Local\\Temp\\ipykernel_12272\\2837618757.py\u001b[0m in \u001b[0;36m<module>\u001b[1;34m\u001b[0m\n\u001b[1;32m----> 1\u001b[1;33m \u001b[0mposonly\u001b[0m\u001b[1;33m(\u001b[0m\u001b[0mposonly\u001b[0m\u001b[1;33m=\u001b[0m\u001b[1;34m\"키워드인수로 전달하면 오류 발생!\"\u001b[0m\u001b[1;33m)\u001b[0m\u001b[1;33m\u001b[0m\u001b[1;33m\u001b[0m\u001b[0m\n\u001b[0m",
      "\u001b[1;31mTypeError\u001b[0m: posonly() got some positional-only arguments passed as keyword arguments: 'posonly'"
     ]
    }
   ],
   "source": [
    "posonly(posonly=\"키워드인수로 전달하면 오류 발생!\")"
   ]
  },
  {
   "cell_type": "code",
   "execution_count": 499,
   "id": "a3309154-91c8-4c47-8a86-daa83e64a49d",
   "metadata": {},
   "outputs": [],
   "source": [
    "def keyonly(*, keyonly=\"default\"):\n",
    "    print(keyonly)"
   ]
  },
  {
   "cell_type": "code",
   "execution_count": 500,
   "id": "fb724fcc-a0b1-417a-a692-d6853c587345",
   "metadata": {},
   "outputs": [
    {
     "name": "stdout",
     "output_type": "stream",
     "text": [
      "키워드로만 입력해야 합니다.\n"
     ]
    }
   ],
   "source": [
    "keyonly(keyonly=\"키워드로만 입력해야 합니다.\")"
   ]
  },
  {
   "cell_type": "code",
   "execution_count": 501,
   "id": "392943df-5779-446c-9bc3-7252c19a3668",
   "metadata": {},
   "outputs": [
    {
     "ename": "TypeError",
     "evalue": "keyonly() takes 0 positional arguments but 1 was given",
     "output_type": "error",
     "traceback": [
      "\u001b[1;31m---------------------------------------------------------------------------\u001b[0m",
      "\u001b[1;31mTypeError\u001b[0m                                 Traceback (most recent call last)",
      "\u001b[1;32m~\\AppData\\Local\\Temp\\ipykernel_12272\\2852538585.py\u001b[0m in \u001b[0;36m<module>\u001b[1;34m\u001b[0m\n\u001b[1;32m----> 1\u001b[1;33m \u001b[0mkeyonly\u001b[0m\u001b[1;33m(\u001b[0m\u001b[1;34m\"키워드로만 입력해야 합니다.\"\u001b[0m\u001b[1;33m)\u001b[0m\u001b[1;33m\u001b[0m\u001b[1;33m\u001b[0m\u001b[0m\n\u001b[0m",
      "\u001b[1;31mTypeError\u001b[0m: keyonly() takes 0 positional arguments but 1 was given"
     ]
    }
   ],
   "source": [
    "keyonly(\"키워드로만 입력해야 합니다.\")"
   ]
  },
  {
   "cell_type": "code",
   "execution_count": 502,
   "id": "47235103-dc27-43f4-9a03-960bf56a7ade",
   "metadata": {},
   "outputs": [],
   "source": [
    "def var_positional(*args):\n",
    "    print(type(args))\n",
    "    return sum([_ for _ in args])"
   ]
  },
  {
   "cell_type": "code",
   "execution_count": 505,
   "id": "37f55c53-78ad-4910-9c11-080085dbc695",
   "metadata": {},
   "outputs": [
    {
     "name": "stdout",
     "output_type": "stream",
     "text": [
      "<class 'tuple'>\n",
      "0\n"
     ]
    }
   ],
   "source": [
    "print(var_positional())"
   ]
  },
  {
   "cell_type": "code",
   "execution_count": 527,
   "id": "a6b187f5-8648-4f33-a598-bf85264c4030",
   "metadata": {},
   "outputs": [],
   "source": [
    "def var_keyword(**kargs):\n",
    "    print(type(kargs))\n",
    "    return kargs"
   ]
  },
  {
   "cell_type": "code",
   "execution_count": 528,
   "id": "84df5123-ebbc-431f-b999-95fbd4988d0a",
   "metadata": {},
   "outputs": [
    {
     "name": "stdout",
     "output_type": "stream",
     "text": [
      "<class 'dict'>\n",
      "{}\n"
     ]
    }
   ],
   "source": [
    "print(var_keyword())"
   ]
  },
  {
   "cell_type": "code",
   "execution_count": 529,
   "id": "e0728d9e-cfda-4b0b-8b77-7bf19252029a",
   "metadata": {},
   "outputs": [],
   "source": [
    "def plus_ten(num):\n",
    "    return (num+10)"
   ]
  },
  {
   "cell_type": "code",
   "execution_count": 530,
   "id": "42885ecb-501d-4682-bfad-3495af064ce0",
   "metadata": {},
   "outputs": [
    {
     "data": {
      "text/plain": [
       "80"
      ]
     },
     "execution_count": 530,
     "metadata": {},
     "output_type": "execute_result"
    }
   ],
   "source": [
    "plus_ten(70)"
   ]
  },
  {
   "cell_type": "code",
   "execution_count": null,
   "id": "4ca8e9d8-66e1-4b2e-bf7d-0e58e11a2366",
   "metadata": {},
   "outputs": [],
   "source": []
  }
 ],
 "metadata": {
  "kernelspec": {
   "display_name": "Python 3 (ipykernel)",
   "language": "python",
   "name": "python3"
  },
  "language_info": {
   "codemirror_mode": {
    "name": "ipython",
    "version": 3
   },
   "file_extension": ".py",
   "mimetype": "text/x-python",
   "name": "python",
   "nbconvert_exporter": "python",
   "pygments_lexer": "ipython3",
   "version": "3.9.13"
  }
 },
 "nbformat": 4,
 "nbformat_minor": 5
}
