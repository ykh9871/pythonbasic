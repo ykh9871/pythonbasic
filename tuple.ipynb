{
 "cells": [
  {
   "cell_type": "markdown",
   "id": "c3a2172f-e04d-4b27-be6d-65b2c5b93fdb",
   "metadata": {},
   "source": [
    "## 튜플"
   ]
  },
  {
   "cell_type": "markdown",
   "id": "257bc823-53ae-41db-8499-e6ae3b30956c",
   "metadata": {},
   "source": [
    "### 튜플은 리스트와 거의 같지만, 수정이 불가능하다. 튜플은 불변의 특징을 갖기 때문"
   ]
  },
  {
   "cell_type": "code",
   "execution_count": 11,
   "id": "9493b418-e710-42ff-873b-5d6fc87e69f2",
   "metadata": {},
   "outputs": [],
   "source": [
    "tuple_variable = (1,2,3,4,5,\"hello\")"
   ]
  },
  {
   "cell_type": "code",
   "execution_count": 3,
   "id": "3a452217-62a8-4006-995d-5473a3ff4047",
   "metadata": {},
   "outputs": [
    {
     "ename": "TypeError",
     "evalue": "'tuple' object does not support item assignment",
     "output_type": "error",
     "traceback": [
      "\u001b[1;31m---------------------------------------------------------------------------\u001b[0m",
      "\u001b[1;31mTypeError\u001b[0m                                 Traceback (most recent call last)",
      "\u001b[1;32m~\\AppData\\Local\\Temp\\ipykernel_7476\\1916826345.py\u001b[0m in \u001b[0;36m<module>\u001b[1;34m\u001b[0m\n\u001b[1;32m----> 1\u001b[1;33m \u001b[0mtuple_variable\u001b[0m\u001b[1;33m[\u001b[0m\u001b[1;36m0\u001b[0m\u001b[1;33m]\u001b[0m \u001b[1;33m=\u001b[0m \u001b[1;36m0\u001b[0m\u001b[1;33m\u001b[0m\u001b[1;33m\u001b[0m\u001b[0m\n\u001b[0m",
      "\u001b[1;31mTypeError\u001b[0m: 'tuple' object does not support item assignment"
     ]
    }
   ],
   "source": [
    "tuple_variable[0] = 0"
   ]
  },
  {
   "cell_type": "code",
   "execution_count": 4,
   "id": "23b95b43-7872-438a-8a26-ba375d139f04",
   "metadata": {},
   "outputs": [
    {
     "ename": "TypeError",
     "evalue": "'tuple' object does not support item assignment",
     "output_type": "error",
     "traceback": [
      "\u001b[1;31m---------------------------------------------------------------------------\u001b[0m",
      "\u001b[1;31mTypeError\u001b[0m                                 Traceback (most recent call last)",
      "\u001b[1;32m~\\AppData\\Local\\Temp\\ipykernel_7476\\1250836128.py\u001b[0m in \u001b[0;36m<module>\u001b[1;34m\u001b[0m\n\u001b[1;32m----> 1\u001b[1;33m \u001b[0mtuple_variable\u001b[0m\u001b[1;33m[\u001b[0m\u001b[1;36m1\u001b[0m\u001b[1;33m:\u001b[0m\u001b[1;36m3\u001b[0m\u001b[1;33m]\u001b[0m \u001b[1;33m=\u001b[0m \u001b[1;33m(\u001b[0m\u001b[1;34m\"dd\"\u001b[0m\u001b[1;33m,\u001b[0m\u001b[1;34m\"ee\"\u001b[0m\u001b[1;33m)\u001b[0m\u001b[1;33m\u001b[0m\u001b[1;33m\u001b[0m\u001b[0m\n\u001b[0m",
      "\u001b[1;31mTypeError\u001b[0m: 'tuple' object does not support item assignment"
     ]
    }
   ],
   "source": [
    "tuple_variable[1:3] = (\"dd\",\"ee\")"
   ]
  },
  {
   "cell_type": "markdown",
   "id": "72f15b4f-9a77-4d09-9fd6-48ced1e6b4e3",
   "metadata": {},
   "source": [
    "### 튜플에서는 요소에 대한 삭제도 불가하다."
   ]
  },
  {
   "cell_type": "code",
   "execution_count": 5,
   "id": "048a04c9-6f42-4a6d-8f53-eef037e4f617",
   "metadata": {},
   "outputs": [
    {
     "ename": "TypeError",
     "evalue": "'tuple' object doesn't support item deletion",
     "output_type": "error",
     "traceback": [
      "\u001b[1;31m---------------------------------------------------------------------------\u001b[0m",
      "\u001b[1;31mTypeError\u001b[0m                                 Traceback (most recent call last)",
      "\u001b[1;32m~\\AppData\\Local\\Temp\\ipykernel_7476\\3932902972.py\u001b[0m in \u001b[0;36m<module>\u001b[1;34m\u001b[0m\n\u001b[1;32m----> 1\u001b[1;33m \u001b[1;32mdel\u001b[0m \u001b[0mtuple_variable\u001b[0m\u001b[1;33m[\u001b[0m\u001b[1;36m0\u001b[0m\u001b[1;33m]\u001b[0m\u001b[1;33m\u001b[0m\u001b[1;33m\u001b[0m\u001b[0m\n\u001b[0m",
      "\u001b[1;31mTypeError\u001b[0m: 'tuple' object doesn't support item deletion"
     ]
    }
   ],
   "source": [
    "del tuple_variable[0]"
   ]
  },
  {
   "cell_type": "markdown",
   "id": "57b1e304-c9d9-4de6-9213-4074b3728c36",
   "metadata": {},
   "source": [
    "### 튜플은 소괄호 생략이 가능하다. 하지만 명시해서 명확하게 표현하는게 더 좋다."
   ]
  },
  {
   "cell_type": "code",
   "execution_count": 6,
   "id": "45e6cb7a-f9d0-4644-8aa5-b22fb03bb0e6",
   "metadata": {},
   "outputs": [],
   "source": [
    "t_v = \"음\", \"오\", \"아\", \"예\""
   ]
  },
  {
   "cell_type": "code",
   "execution_count": 7,
   "id": "b6feabaa-e00a-4628-84b2-c37e15eda68c",
   "metadata": {},
   "outputs": [
    {
     "name": "stdout",
     "output_type": "stream",
     "text": [
      "<class 'tuple'>\n"
     ]
    }
   ],
   "source": [
    "print(type(t_v))"
   ]
  },
  {
   "cell_type": "code",
   "execution_count": 8,
   "id": "f9fcae1d-baf9-43d0-b1bf-d5f1e170997c",
   "metadata": {},
   "outputs": [
    {
     "name": "stdout",
     "output_type": "stream",
     "text": [
      "('음', '오', '아', '예')\n"
     ]
    }
   ],
   "source": [
    "print(t_v)"
   ]
  },
  {
   "cell_type": "markdown",
   "id": "d21dd918-270d-496e-bde4-cdf88d49aae0",
   "metadata": {},
   "source": [
    "### 튜플과 리스트의 소요시간 비교"
   ]
  },
  {
   "cell_type": "code",
   "execution_count": 9,
   "id": "56640ae4-9ef7-4ac3-8db2-0d44d1b03a30",
   "metadata": {},
   "outputs": [
    {
     "name": "stdout",
     "output_type": "stream",
     "text": [
      "0.16025424003601074\n"
     ]
    }
   ],
   "source": [
    "import time\n",
    "\n",
    "curr = time.time()\n",
    "total = []\n",
    "\n",
    "for i in range(1000):\n",
    "    for j in range(1000):\n",
    "        total.append((i,j))\n",
    "        \n",
    "last = time.time()\n",
    "print(last - curr)"
   ]
  },
  {
   "cell_type": "code",
   "execution_count": 10,
   "id": "7afefa7f-2ff9-4b74-ba4d-d6623f4318bf",
   "metadata": {},
   "outputs": [
    {
     "name": "stdout",
     "output_type": "stream",
     "text": [
      "0.4871184825897217\n"
     ]
    }
   ],
   "source": [
    "import time\n",
    "\n",
    "curr = time.time()\n",
    "total = []\n",
    "\n",
    "for i in range(1000):\n",
    "    for j in range(1000):\n",
    "        total.append([i,j])\n",
    "        \n",
    "last = time.time()\n",
    "print(last - curr)"
   ]
  },
  {
   "cell_type": "markdown",
   "id": "272f96b7-5272-4b52-a3bd-9b529cc5124e",
   "metadata": {},
   "source": [
    "### 변수 여럿에 동시 할당하기 (Unpaking)"
   ]
  },
  {
   "cell_type": "code",
   "execution_count": 13,
   "id": "9b8b2a85-079a-47e1-8131-1fd7b51de895",
   "metadata": {},
   "outputs": [
    {
     "name": "stdout",
     "output_type": "stream",
     "text": [
      "text1\n",
      "text2\n"
     ]
    }
   ],
   "source": [
    "s1, s2 = \"text1\", \"text2\"\n",
    "print(s1)\n",
    "print(s2)"
   ]
  },
  {
   "cell_type": "code",
   "execution_count": 15,
   "id": "aab1b95c-cc7f-4448-b672-c44619e120e5",
   "metadata": {},
   "outputs": [
    {
     "name": "stdout",
     "output_type": "stream",
     "text": [
      "이렇게 리스트도 가능합니다.\n"
     ]
    }
   ],
   "source": [
    "s3, s4, s5 = [\"이렇게\", \"리스트도\", \"가능합니다.\"]\n",
    "print(s3, s4, s5)"
   ]
  },
  {
   "cell_type": "code",
   "execution_count": 16,
   "id": "92a89e48-24a8-43f2-83d6-8840602613d1",
   "metadata": {},
   "outputs": [
    {
     "name": "stdout",
     "output_type": "stream",
     "text": [
      "문 자 열 도\n"
     ]
    }
   ],
   "source": [
    "s6, s7, s8, s9 = \"문자열도\"\n",
    "print(s6, s7, s8 ,s9)"
   ]
  },
  {
   "cell_type": "markdown",
   "id": "91e6eaf4-1014-4236-a27e-d97aa195da7a",
   "metadata": {},
   "source": [
    "### 파이썬 입력 사용해보기"
   ]
  },
  {
   "cell_type": "code",
   "execution_count": 4,
   "id": "a5909d6d-ff50-4072-b7d0-cddac913c5e7",
   "metadata": {},
   "outputs": [
    {
     "name": "stdin",
     "output_type": "stream",
     "text": [
      "Message 1111\n"
     ]
    }
   ],
   "source": [
    "input_value = input(\"Message\")"
   ]
  },
  {
   "cell_type": "code",
   "execution_count": 5,
   "id": "80cf7913-31fa-4416-8340-c4cee1137372",
   "metadata": {},
   "outputs": [
    {
     "name": "stdout",
     "output_type": "stream",
     "text": [
      "input_value: 1111 \n",
      "type: <class 'str'>\n"
     ]
    }
   ],
   "source": [
    "print(\"input_value:\", input_value, \"\\ntype:\", type(input_value))"
   ]
  },
  {
   "cell_type": "code",
   "execution_count": 6,
   "id": "54277525-8671-493d-96bd-5d32a4f6a0be",
   "metadata": {},
   "outputs": [
    {
     "name": "stdout",
     "output_type": "stream",
     "text": [
      "input_value: 1111 \n",
      "type: <class 'int'>\n"
     ]
    }
   ],
   "source": [
    "input_value = int(input_value)\n",
    "print(\"input_value:\", input_value, \"\\ntype:\", type(input_value))"
   ]
  },
  {
   "cell_type": "code",
   "execution_count": 13,
   "id": "b4de218c-4ba1-4f17-ba22-296c96c2cc5a",
   "metadata": {},
   "outputs": [
    {
     "name": "stdin",
     "output_type": "stream",
     "text": [
      "정수 외에 다른 값을 입력해보세요 1.1\n"
     ]
    }
   ],
   "source": [
    "input_value2 = input(\"정수 외에 다른 값을 입력해보세요\")"
   ]
  },
  {
   "cell_type": "code",
   "execution_count": 14,
   "id": "fea48de3-e509-4496-85dd-e6a31171aa5f",
   "metadata": {},
   "outputs": [
    {
     "ename": "ValueError",
     "evalue": "invalid literal for int() with base 10: '1.1'",
     "output_type": "error",
     "traceback": [
      "\u001b[1;31m---------------------------------------------------------------------------\u001b[0m",
      "\u001b[1;31mValueError\u001b[0m                                Traceback (most recent call last)",
      "\u001b[1;32m~\\AppData\\Local\\Temp\\ipykernel_9060\\1061107786.py\u001b[0m in \u001b[0;36m<module>\u001b[1;34m\u001b[0m\n\u001b[1;32m----> 1\u001b[1;33m \u001b[0minput_value2\u001b[0m \u001b[1;33m=\u001b[0m \u001b[0mint\u001b[0m\u001b[1;33m(\u001b[0m\u001b[0minput_value2\u001b[0m\u001b[1;33m)\u001b[0m\u001b[1;33m\u001b[0m\u001b[1;33m\u001b[0m\u001b[0m\n\u001b[0m",
      "\u001b[1;31mValueError\u001b[0m: invalid literal for int() with base 10: '1.1'"
     ]
    }
   ],
   "source": [
    "input_value2 = int(input_value2)"
   ]
  },
  {
   "cell_type": "code",
   "execution_count": 15,
   "id": "4da21edc-0b0e-4221-a55f-a02b85e2bc04",
   "metadata": {},
   "outputs": [
    {
     "name": "stdout",
     "output_type": "stream",
     "text": [
      "1.1\n"
     ]
    }
   ],
   "source": [
    "input_value2 = float(input_value2)\n",
    "print(input_value2)"
   ]
  },
  {
   "cell_type": "code",
   "execution_count": 16,
   "id": "8863ce09-1342-4f51-b586-b7d3601ea914",
   "metadata": {},
   "outputs": [
    {
     "name": "stdout",
     "output_type": "stream",
     "text": [
      "1\n"
     ]
    }
   ],
   "source": [
    "input_value2 = int(input_value2)\n",
    "print(input_value2)"
   ]
  },
  {
   "cell_type": "code",
   "execution_count": 17,
   "id": "5f3a99f7-32ec-47dc-803f-0f208a4f48a0",
   "metadata": {},
   "outputs": [
    {
     "name": "stdin",
     "output_type": "stream",
     "text": [
      "정수 외에 다른 값을 입력해보세요 1.1\n"
     ]
    }
   ],
   "source": [
    "input_value3 = input(\"정수 외에 다른 값을 입력해보세요\")"
   ]
  },
  {
   "cell_type": "code",
   "execution_count": 18,
   "id": "e20151f1-b744-462f-8a1b-88de003738ff",
   "metadata": {},
   "outputs": [
    {
     "ename": "ValueError",
     "evalue": "invalid literal for int() with base 10: '1.1'",
     "output_type": "error",
     "traceback": [
      "\u001b[1;31m---------------------------------------------------------------------------\u001b[0m",
      "\u001b[1;31mValueError\u001b[0m                                Traceback (most recent call last)",
      "\u001b[1;32m~\\AppData\\Local\\Temp\\ipykernel_9060\\4277962513.py\u001b[0m in \u001b[0;36m<module>\u001b[1;34m\u001b[0m\n\u001b[1;32m----> 1\u001b[1;33m \u001b[0mint\u001b[0m\u001b[1;33m(\u001b[0m\u001b[0minput_value3\u001b[0m\u001b[1;33m)\u001b[0m\u001b[1;33m\u001b[0m\u001b[1;33m\u001b[0m\u001b[0m\n\u001b[0m",
      "\u001b[1;31mValueError\u001b[0m: invalid literal for int() with base 10: '1.1'"
     ]
    }
   ],
   "source": [
    "int(input_value3)"
   ]
  },
  {
   "cell_type": "code",
   "execution_count": 20,
   "id": "7658cfaa-ca3d-44c6-80a3-f9d43ff26ed2",
   "metadata": {},
   "outputs": [
    {
     "name": "stdin",
     "output_type": "stream",
     "text": [
      "정수를 입력해주세요: 2\n"
     ]
    },
    {
     "name": "stdout",
     "output_type": "stream",
     "text": [
      "2\n"
     ]
    }
   ],
   "source": [
    "input_value4 = int(input(\"정수를 입력해주세요:\"))\n",
    "print(input_value4)"
   ]
  },
  {
   "cell_type": "code",
   "execution_count": 21,
   "id": "19741c71-1415-4ecc-b549-f909e3b3844e",
   "metadata": {},
   "outputs": [
    {
     "name": "stdin",
     "output_type": "stream",
     "text": [
      "이름을 입력하시오: 엔코아\n"
     ]
    },
    {
     "name": "stdout",
     "output_type": "stream",
     "text": [
      "엔코아 씨, 안녕하세요?\n",
      "파이썬에 오신 것을 환영합니다.\n"
     ]
    },
    {
     "name": "stdin",
     "output_type": "stream",
     "text": [
      "첫 번째 정수를 입력하세요: 300\n",
      "두 번째 정수를 입력하세요: 400\n"
     ]
    },
    {
     "name": "stdout",
     "output_type": "stream",
     "text": [
      "300 과 400 의 합은 700 입니다.\n"
     ]
    }
   ],
   "source": [
    "input_value5 = input(\"이름을 입력하시오:\")\n",
    "print(input_value5, \"씨, 안녕하세요?\")\n",
    "print(\"파이썬에 오신 것을 환영합니다.\")\n",
    "input_value6 = int(input(\"첫 번째 정수를 입력하세요:\"))\n",
    "input_value7 = int(input(\"두 번째 정수를 입력하세요:\"))\n",
    "print(input_value6, \"과\", input_value7, \"의 합은\", int(input_value6 + input_value7), \"입니다.\")"
   ]
  },
  {
   "cell_type": "code",
   "execution_count": 23,
   "id": "461ae067-4503-40f8-ae97-c5305d7a960f",
   "metadata": {},
   "outputs": [
    {
     "name": "stdin",
     "output_type": "stream",
     "text": [
      "경기장은 어디입니까? 고척\n",
      "이긴 팀은 어디입니까? KT\n",
      "진팀은 어디입니까? LG\n",
      "우수 선수는 누구입니까? 강백호\n",
      "스코어는 몇대몇입니까? 10:9\n"
     ]
    },
    {
     "name": "stdout",
     "output_type": "stream",
     "text": [
      "[속보] KT 가 10:9 로 승리...\n",
      "오늘 고척 경기장에서 야구 경기가 있었습니다.\n",
      "KT 와 LG 는 치열한 공방전을 펼쳤습니다.\n",
      "이 경기에서 강백호 가 맹활약을 했습니다\n",
      "그 끝내 KT 가 LG 를 10:9 로 승리하였습니다.\n",
      "기사 끝.\n"
     ]
    }
   ],
   "source": [
    "point = input(\"경기장은 어디입니까?\")\n",
    "winner = input(\"이긴 팀은 어디입니까?\")\n",
    "loser = input(\"진팀은 어디입니까?\")\n",
    "best_player = input(\"우수 선수는 누구입니까?\")\n",
    "score = input(\"스코어는 몇대몇입니까?\")\n",
    "print(\"[속보]\", winner, \"가\", score, \"로 승리...\")\n",
    "print(\"오늘\", point, \"경기장에서 야구 경기가 있었습니다.\")\n",
    "print(winner, \"와\", loser, \"는 치열한 공방전을 펼쳤습니다.\")\n",
    "print(\"이 경기에서\", best_player, \"가 맹활약을 했습니다\")\n",
    "print(\"그 끝내\", winner, \"가\", loser, \"를\", score, \"로 승리하였습니다.\")\n",
    "print(\"기사 끝.\")"
   ]
  },
  {
   "cell_type": "markdown",
   "id": "9a3e8f0a-a3ac-4a8c-8cee-e37b365a1c2b",
   "metadata": {},
   "source": [
    "### 입력 값을 여러 개의 변수에 저장하기"
   ]
  },
  {
   "cell_type": "code",
   "execution_count": 22,
   "id": "03100abb-976e-46fb-8c01-76aa0f4b8e5a",
   "metadata": {},
   "outputs": [
    {
     "name": "stdout",
     "output_type": "stream",
     "text": [
      "<class 'list'>\n",
      "['1', '2', '3']\n"
     ]
    }
   ],
   "source": [
    "result = '1,2,3'.split(',')\n",
    "print(type(result))\n",
    "print(result)"
   ]
  },
  {
   "cell_type": "code",
   "execution_count": 24,
   "id": "abbea918-f013-47a2-a76c-ecdc4021d72d",
   "metadata": {},
   "outputs": [
    {
     "name": "stdin",
     "output_type": "stream",
     "text": [
      "hh:mm:ss 의 형태로 시간을 입력해주세요 12:33:23\n"
     ]
    },
    {
     "name": "stdout",
     "output_type": "stream",
     "text": [
      "\n",
      "실행결과:\n",
      "시 : 12\n",
      "분 : 33\n",
      "초 : 23\n"
     ]
    }
   ],
   "source": [
    "# 리스트 인덱싱\n",
    "time = input(\"hh:mm:ss 의 형태로 시간을 입력해주세요\")\n",
    "asd = time.split(':')\n",
    "print(\"\\n실행결과:\")\n",
    "print(\"시 :\", asd[0])\n",
    "print(\"분 :\", asd[1])\n",
    "print(\"초 :\", asd[2])"
   ]
  },
  {
   "cell_type": "code",
   "execution_count": 25,
   "id": "ca4a262c-89bc-4df0-8b54-8b9b15b9e5d7",
   "metadata": {},
   "outputs": [
    {
     "name": "stdin",
     "output_type": "stream",
     "text": [
      "hh:mm:ss 의 형태로 시간을 입력해주세요 12:33:23\n"
     ]
    },
    {
     "name": "stdout",
     "output_type": "stream",
     "text": [
      "시 : 12\n",
      "분 : 33\n",
      "초 : 23\n"
     ]
    }
   ],
   "source": [
    "# unpaking\n",
    "h, m, s = input(\"hh:mm:ss 의 형태로 시간을 입력해주세요\").split(\":\")\n",
    "print(\"시 :\", h)\n",
    "print(\"분 :\", m)\n",
    "print(\"초 :\", s)"
   ]
  },
  {
   "cell_type": "markdown",
   "id": "58f60cf3-53cb-46ca-9ac7-9640a1d5c44f",
   "metadata": {},
   "source": [
    "### * map() 내장 함수 이용하기"
   ]
  },
  {
   "cell_type": "code",
   "execution_count": 26,
   "id": "27c89f76-1b86-45f3-a613-0f17751328be",
   "metadata": {},
   "outputs": [
    {
     "name": "stdout",
     "output_type": "stream",
     "text": [
      "[1, 2, 3, 4]\n"
     ]
    }
   ],
   "source": [
    "a = [1.2, 2.5, 3.7, 4.6]\n",
    "a = list(map(int, a))\n",
    "print(a)"
   ]
  },
  {
   "cell_type": "code",
   "execution_count": 27,
   "id": "278e8447-f42c-4d10-816b-fe72d2dbc38a",
   "metadata": {},
   "outputs": [
    {
     "name": "stdin",
     "output_type": "stream",
     "text": [
      "국어, 영어, 수학, 과학, 점수를 입력해주세요 98,100,96,100\n"
     ]
    },
    {
     "name": "stdout",
     "output_type": "stream",
     "text": [
      "평균 점수는 98.5 점 입니다.\n"
     ]
    }
   ],
   "source": [
    "kor, eng, mat, sci = map(int, input(\"국어, 영어, 수학, 과학, 점수를 입력해주세요\").split(\",\"))\n",
    "avg = (kor + eng + mat + sci) / 4\n",
    "print(\"평균 점수는\", avg, \"점 입니다.\")"
   ]
  },
  {
   "cell_type": "markdown",
   "id": "635cc37d-fd0b-4e23-8a15-4eea3eba0386",
   "metadata": {
    "tags": []
   },
   "source": [
    "### * sep 과 end"
   ]
  },
  {
   "cell_type": "code",
   "execution_count": 28,
   "id": "8bfed263-409f-44bb-847a-c4ca7091ec7d",
   "metadata": {},
   "outputs": [
    {
     "name": "stdout",
     "output_type": "stream",
     "text": [
      "value 1 1.1 [1, 2, 'text']\n"
     ]
    }
   ],
   "source": [
    "print(\"value\", 1, 1.1, [1, 2, 'text'])"
   ]
  },
  {
   "cell_type": "code",
   "execution_count": 29,
   "id": "094fc5e1-4111-4755-ba89-be1f642e073b",
   "metadata": {},
   "outputs": [
    {
     "name": "stdout",
     "output_type": "stream",
     "text": [
      "value, 1, 1.1, [1, 2, 'text']\n"
     ]
    }
   ],
   "source": [
    "print(\"value\", 1, 1.1, [1, 2, 'text'],sep=\", \")"
   ]
  },
  {
   "cell_type": "code",
   "execution_count": 30,
   "id": "c1bb6b2b-e2d3-498e-b451-258eefe2afa1",
   "metadata": {},
   "outputs": [
    {
     "name": "stdout",
     "output_type": "stream",
     "text": [
      "value, 1, 1.1, [1, 2, 'text']\n"
     ]
    }
   ],
   "source": [
    "print(\"value\", 1, 1.1, [1, 2, 'text'],sep=\", \")"
   ]
  },
  {
   "cell_type": "code",
   "execution_count": 31,
   "id": "30917a8f-ea67-444b-917a-2addcdef3e49",
   "metadata": {},
   "outputs": [
    {
     "name": "stdout",
     "output_type": "stream",
     "text": [
      "줄이 바뀌지 않습니다.그 이유는 end=\"\\n\"과 같이 기본 설정된 값을 빈스트링으로 변경했기때문입니다.\n",
      "sep, end는 맨 뒤에 써야하며 둘 간 순서는 상관없습니다.어떻게 사용하는지\n",
      "이해가 되시나요?"
     ]
    }
   ],
   "source": [
    "print(\"줄이 바뀌지 않습니다.\", end=\"\")\n",
    "print(\"그 이유는 end=\\\"\\\\n\\\"과 같이 기본 설정된 값을 빈스트링으로 변경했기때문입니다.\")\n",
    "print(\"sep\",\"end는 맨 뒤에 써야하며 둘 간 순서는 상관없습니다.\", sep=\", \",end=\"\")\n",
    "print(\"어떻게 사용하는지\", \"이해가 되시나요\", sep=\"\\n\", end=\"?\")"
   ]
  },
  {
   "cell_type": "code",
   "execution_count": 32,
   "id": "951e4dfd-cea6-47b1-bb51-7bb28898c105",
   "metadata": {},
   "outputs": [
    {
     "name": "stdout",
     "output_type": "stream",
     "text": [
      "2021/02/03 18:33:23\n"
     ]
    }
   ],
   "source": [
    "year = '2021'\n",
    "month = '02'\n",
    "day = '03'\n",
    "hour = '18'\n",
    "minute = '33'\n",
    "second = '23'\n",
    "\n",
    "print(year, month, day, sep=\"/\", end=\" \")\n",
    "print(hour, minute, second, sep=\":\")"
   ]
  },
  {
   "cell_type": "code",
   "execution_count": 33,
   "id": "28d6c87f-122a-4a9e-aa74-dea859c59f61",
   "metadata": {},
   "outputs": [
    {
     "name": "stdin",
     "output_type": "stream",
     "text": [
      "사과와 귤을 몇개 드릴까요? 10,20\n"
     ]
    },
    {
     "name": "stdout",
     "output_type": "stream",
     "text": [
      "\n",
      "실행 결과:\n",
      "총 가격은 14000원입니다.\n"
     ]
    }
   ],
   "source": [
    "apple, orange = map(int, input(\"사과와 귤을 몇개 드릴까요?\").split(\",\"))\n",
    "m = (apple*1000 + orange*200)\n",
    "print(\"\\n실행 결과:\")\n",
    "print(\"총 가격은 \", m, \"원입니다.\", sep=\"\")"
   ]
  },
  {
   "cell_type": "markdown",
   "id": "fae5bb9c-e8fd-4bdd-b8a4-8e0c2959673b",
   "metadata": {},
   "source": [
    "### 흐름제어 : if문과 elif문, else문"
   ]
  },
  {
   "cell_type": "code",
   "execution_count": 34,
   "id": "3b2c98fc-25d6-4c37-8760-cbbce9997b0b",
   "metadata": {},
   "outputs": [
    {
     "name": "stdout",
     "output_type": "stream",
     "text": [
      "input_value4는 정수입니다.\n"
     ]
    }
   ],
   "source": [
    "type(input_value4) is int\n",
    "if type(input_value4) is int:\n",
    "    print(\"input_value4는 정수입니다.\")"
   ]
  },
  {
   "cell_type": "code",
   "execution_count": 35,
   "id": "c8ecd1ae-b40f-491c-9ad8-27068986206e",
   "metadata": {},
   "outputs": [
    {
     "name": "stdout",
     "output_type": "stream",
     "text": [
      "<class 'int'>\n"
     ]
    }
   ],
   "source": [
    "print(type(input_value4))"
   ]
  },
  {
   "cell_type": "code",
   "execution_count": 36,
   "id": "4ad2aff3-358c-412d-b375-7335401fbb9d",
   "metadata": {},
   "outputs": [
    {
     "name": "stdout",
     "output_type": "stream",
     "text": [
      "30대 입니다.\n",
      "감사합니다.\n"
     ]
    }
   ],
   "source": [
    "age = 39\n",
    "if 20 <= age < 30:\n",
    "    print(\"20대 입니다.\")\n",
    "elif 30<= age < 40:\n",
    "    print(\"30대 입니다.\")\n",
    "print(\"감사합니다.\")"
   ]
  },
  {
   "cell_type": "code",
   "execution_count": 37,
   "id": "43c30cfe-20d8-434c-8318-26d8fc13ccc9",
   "metadata": {},
   "outputs": [
    {
     "name": "stdout",
     "output_type": "stream",
     "text": [
      "20대 입니다.\n",
      "감사합니다.\n"
     ]
    }
   ],
   "source": [
    "age = 26\n",
    "if 20 <= age < 30:\n",
    "    print(\"20대 입니다.\")\n",
    "elif 30<= age < 40:\n",
    "    print(\"30대 입니다.\")\n",
    "print(\"감사합니다.\")"
   ]
  },
  {
   "cell_type": "code",
   "execution_count": 38,
   "id": "42e4d32b-f23a-4917-81c2-738a2ab0522e",
   "metadata": {},
   "outputs": [
    {
     "name": "stdout",
     "output_type": "stream",
     "text": [
      "오우...불혹을 넘기셨군요\n",
      "감사합니다.\n"
     ]
    }
   ],
   "source": [
    "age = 40\n",
    "if 20 <= age < 30:\n",
    "    print(\"20대 입니다.\")\n",
    "elif 30<= age < 40:\n",
    "    print(\"30대 입니다.\")\n",
    "else:\n",
    "    print(\"오우...불혹을 넘기셨군요\")\n",
    "print(\"감사합니다.\")"
   ]
  },
  {
   "cell_type": "code",
   "execution_count": 39,
   "id": "b71c7c0d-ccb0-466e-b629-fcf32a9a3339",
   "metadata": {},
   "outputs": [
    {
     "name": "stdin",
     "output_type": "stream",
     "text": [
      "아이디를 입력하세요 : biana\n",
      "회원 등급을 입력해주세요 : 3\n"
     ]
    },
    {
     "name": "stdout",
     "output_type": "stream",
     "text": [
      "\n",
      "제한적인 권한을 갖습니다.\n"
     ]
    }
   ],
   "source": [
    "ID = input(\"아이디를 입력하세요 :\")\n",
    "if ID == \"admin\":\n",
    "    print(\"\\n최고 관리자, 모든 권한을 갖습니다.\")\n",
    "else:\n",
    "    grade = int(input(\"회원 등급을 입력해주세요 :\"))\n",
    "    if 1<= grade <=3:\n",
    "        print(\"\\n제한적인 권한을 갖습니다.\")\n",
    "    else:\n",
    "        print(\"\\n권한이 없습니다.\")"
   ]
  },
  {
   "cell_type": "code",
   "execution_count": 7,
   "id": "6a1a2230-c425-4c4c-a328-25c3a9110951",
   "metadata": {},
   "outputs": [
    {
     "name": "stdin",
     "output_type": "stream",
     "text": [
      "자연수 하나 입력해주세요: 70\n"
     ]
    },
    {
     "name": "stdout",
     "output_type": "stream",
     "text": [
      "20\n"
     ]
    }
   ],
   "source": [
    "a = int(input(\"자연수 하나 입력해주세요:\"))\n",
    "if a-int(50) >=0:\n",
    "    print(a-int(50))\n",
    "else:\n",
    "    print(0)"
   ]
  },
  {
   "cell_type": "code",
   "execution_count": 9,
   "id": "104860f7-f99f-46f4-a715-cc307b9ab809",
   "metadata": {},
   "outputs": [
    {
     "name": "stdin",
     "output_type": "stream",
     "text": [
      "자연수 하나 입력해주세요: 21\n"
     ]
    },
    {
     "name": "stdout",
     "output_type": "stream",
     "text": [
      "0\n"
     ]
    }
   ],
   "source": [
    "a = int(input(\"자연수 하나 입력해주세요:\"))\n",
    "a = a - 50\n",
    "if a>=0:\n",
    "    print(a)\n",
    "else:\n",
    "    print(0)"
   ]
  },
  {
   "cell_type": "code",
   "execution_count": 42,
   "id": "08b75103-52d1-42e3-8549-9b75e397474c",
   "metadata": {},
   "outputs": [
    {
     "name": "stdin",
     "output_type": "stream",
     "text": [
      "자연수 하나 입력해주세요: 70\n"
     ]
    },
    {
     "name": "stdout",
     "output_type": "stream",
     "text": [
      "20\n"
     ]
    }
   ],
   "source": [
    "int_value = int(input(\"자연수 하나 입력해주세요:\"))\n",
    "\n",
    "result = int_value - 50\n",
    "\n",
    "if result <0:\n",
    "    result = 0\n",
    "print(result)"
   ]
  },
  {
   "cell_type": "code",
   "execution_count": 11,
   "id": "014ae0c0-36bf-427c-b536-5ad42c32813b",
   "metadata": {},
   "outputs": [
    {
     "ename": "IndentationError",
     "evalue": "expected an indented block (3598588081.py, line 2)",
     "output_type": "error",
     "traceback": [
      "\u001b[1;36m  File \u001b[1;32m\"C:\\Users\\Playdata\\AppData\\Local\\Temp\\ipykernel_10692\\3598588081.py\"\u001b[1;36m, line \u001b[1;32m2\u001b[0m\n\u001b[1;33m    print(\"Hello\")\u001b[0m\n\u001b[1;37m    ^\u001b[0m\n\u001b[1;31mIndentationError\u001b[0m\u001b[1;31m:\u001b[0m expected an indented block\n"
     ]
    }
   ],
   "source": [
    "if True:\n",
    "print(\"Hello\")"
   ]
  },
  {
   "cell_type": "markdown",
   "id": "a1b313f2-b8fb-4702-921a-d4cbaf55b60a",
   "metadata": {},
   "source": [
    "## 참고로 if문의 바디를 나중에 작성할 예정이라면 pass 키워드를 사용하면 된다."
   ]
  },
  {
   "cell_type": "markdown",
   "id": "368f4b92-cccc-4bda-9679-449f17492cd6",
   "metadata": {},
   "source": [
    "``` python\n",
    "if 조건식:  \n",
    "    pass # Tobe\n",
    "```"
   ]
  },
  {
   "cell_type": "markdown",
   "id": "1e52e7ef-6ce8-4c81-bf99-d940bb4aa810",
   "metadata": {},
   "source": [
    "### if문에서 조건식 뒤에 콜론은 생략할 수 없습니다."
   ]
  },
  {
   "cell_type": "code",
   "execution_count": 38,
   "id": "6d2d7147-15c6-4f6f-9e8c-5a0ce16092c8",
   "metadata": {},
   "outputs": [
    {
     "name": "stdout",
     "output_type": "stream",
     "text": [
      "if문의 조건식이True일 때만 실행됩니다.\n",
      "들여쓰기가 없는 곳은 늘 실행됩니다\n"
     ]
    }
   ],
   "source": [
    "if True:\n",
    "    print(\"if문의 조건식이\", end=\"\")\n",
    "    print(\"True일 때만 실행됩니다.\")\n",
    "print(\"들여쓰기가 없는 곳은 늘 실행됩니다\")"
   ]
  },
  {
   "cell_type": "code",
   "execution_count": 34,
   "id": "a4f4a3b6-5452-4022-a0a9-c354b97bc7d8",
   "metadata": {},
   "outputs": [
    {
     "name": "stdin",
     "output_type": "stream",
     "text": [
      "나이를 입력해주세요. 20\n"
     ]
    },
    {
     "name": "stdout",
     "output_type": "stream",
     "text": [
      "10살 이상입니다.\n",
      "20살 이상입니다.\n",
      "age >= 20 구간입니다.\n",
      "age >= 10 구간입니다.\n",
      "늘 출력\n"
     ]
    }
   ],
   "source": [
    "age = int(input(\"나이를 입력해주세요.\"))\n",
    "\n",
    "if age >=10:\n",
    "    print(\"10살 이상입니다.\")\n",
    "    if age >= 20:\n",
    "        print(\"20살 이상입니다.\")\n",
    "        if age >= 30:\n",
    "            print(\"30살 이상입니다.\")\n",
    "            if age >= 40:\n",
    "                print(\"40살 이상입니다.\")\n",
    "            print(\"age >= 30 구간입니다.\")\n",
    "        print(\"age >= 20 구간입니다.\")\n",
    "    print(\"age >= 10 구간입니다.\")\n",
    "print(\"늘 출력\")"
   ]
  },
  {
   "cell_type": "code",
   "execution_count": 24,
   "id": "9ea12ccc-2394-4220-b248-f1f795ff66d1",
   "metadata": {},
   "outputs": [
    {
     "name": "stdout",
     "output_type": "stream",
     "text": [
      "합격을 축하합니다.\n",
      "안내를 종료합니다.\n"
     ]
    }
   ],
   "source": [
    "score = 70\n",
    "\n",
    "# 60점 이상이면 합격\n",
    "if score >= 60:\n",
    "    print(\"합격을 축하합니다.\")\n",
    "else:\n",
    "    print(\"아쉽게도 불합격입니다.\")\n",
    "print(\"안내를 종료합니다.\")"
   ]
  },
  {
   "cell_type": "markdown",
   "id": "6e6940d4-1041-4f39-a1f4-4903f1b71ae3",
   "metadata": {},
   "source": [
    "### 연습문제"
   ]
  },
  {
   "cell_type": "code",
   "execution_count": 39,
   "id": "0de8743a-d825-4dad-b9ac-e964f4a9e065",
   "metadata": {},
   "outputs": [
    {
     "name": "stdin",
     "output_type": "stream",
     "text": [
      "자연수하나 입력해주세요: 3\n"
     ]
    },
    {
     "name": "stdout",
     "output_type": "stream",
     "text": [
      "홀수입니다.\n"
     ]
    }
   ],
   "source": [
    "a = int(input(\"자연수하나 입력해주세요:\"))\n",
    "\n",
    "if a % 2 == 0:\n",
    "    print(\"짝수입니다.\")\n",
    "else:\n",
    "    print(\"홀수입니다.\")"
   ]
  },
  {
   "cell_type": "code",
   "execution_count": 78,
   "id": "71bbac7a-4b35-408d-8495-3f2cdb7d3c77",
   "metadata": {},
   "outputs": [
    {
     "name": "stdin",
     "output_type": "stream",
     "text": [
      "소프트웨어 설계 점수를 입력하세요. -7\n",
      "소프트웨어 개발 점수를 입력하세요. 50\n",
      "데이터베이스 구축 점수를 입력하세요. 40\n",
      "프로그래밍 언어 활용 점수를 입력하세요. 30\n",
      "정보시스템 구축관리 점수를 입력하세요. 70\n"
     ]
    },
    {
     "name": "stdout",
     "output_type": "stream",
     "text": [
      "잘못된 점수입니다.\n"
     ]
    }
   ],
   "source": [
    "sftw1 = int(input(\"소프트웨어 설계 점수를 입력하세요.\"))\n",
    "sftw2 = int(input(\"소프트웨어 개발 점수를 입력하세요.\"))\n",
    "DB = int(input(\"데이터베이스 구축 점수를 입력하세요.\"))\n",
    "pro = int(input(\"프로그래밍 언어 활용 점수를 입력하세요.\"))\n",
    "dsys = int(input(\"정보시스템 구축관리 점수를 입력하세요.\"))\n",
    "if sftw1 < 0 or sftw2 < 0 or DB < 0 or pro < 0 or dsys < 0 or sftw1 > 100 or sftw2 > 100 or DB > 100 or pro > 100 or dsys > 100:\n",
    "    print(\"잘못된 점수입니다.\")\n",
    "else:\n",
    "    avg = (sftw1 + sftw2 + DB + pro + dsys) / 5\n",
    "    if avg >= 60:\n",
    "        print(\"합격\")\n",
    "    else:\n",
    "        print(\"불합격\")"
   ]
  },
  {
   "cell_type": "code",
   "execution_count": 79,
   "id": "4d22dbd7-3dd1-449b-a07e-3436a750f392",
   "metadata": {},
   "outputs": [
    {
     "name": "stdin",
     "output_type": "stream",
     "text": [
      "소프트웨어 설계 점수를 입력하세요. 100\n",
      "소프트웨어 개발 점수를 입력하세요. 7\n",
      "데이터베이스 구축 점수를 입력하세요. 01\n",
      "프로그래밍 언어 활용 점수를 입력하세요. 10\n",
      "정보시스템 구축관리 점수를 입력하세요. 10\n"
     ]
    },
    {
     "name": "stdout",
     "output_type": "stream",
     "text": [
      "불합격\n"
     ]
    }
   ],
   "source": [
    "a = int(input(\"소프트웨어 설계 점수를 입력하세요.\"))\n",
    "b = int(input(\"소프트웨어 개발 점수를 입력하세요.\"))\n",
    "c = int(input(\"데이터베이스 구축 점수를 입력하세요.\"))\n",
    "d = int(input(\"프로그래밍 언어 활용 점수를 입력하세요.\"))\n",
    "e = int(input(\"정보시스템 구축관리 점수를 입력하세요.\"))\n",
    "ave = (a + b + c + d + e)/5\n",
    "if 0 <= a <= 100 and 0 <= b <= 100 and 0 <= c <= 100 and 0 <= d <= 100 and 0 <= e <= 100:\n",
    "    if ave >= 60:\n",
    "        print(\"합격\")\n",
    "    else:\n",
    "        print(\"불합격\")\n",
    "else:\n",
    "    print(\"잘못된 점수입니다\")"
   ]
  },
  {
   "cell_type": "code",
   "execution_count": 84,
   "id": "111ed95e-0316-49df-836f-854064249e29",
   "metadata": {},
   "outputs": [
    {
     "name": "stdin",
     "output_type": "stream",
     "text": [
      "점수를 입력해주새요 :  60\n"
     ]
    },
    {
     "name": "stdout",
     "output_type": "stream",
     "text": [
      "성적을 알려드립니다.\n",
      "D입니다.\n",
      "안내를 종료합니다.\n"
     ]
    }
   ],
   "source": [
    "score = int(input(\"점수를 입력해주새요 : \"))\n",
    "\n",
    "print(\"성적을 알려드립니다.\")\n",
    "\n",
    "if score >= 90:\n",
    "    print(\"A입니다.\")\n",
    "elif score >= 80:\n",
    "    print(\"B입니다.\")\n",
    "elif score >= 70:\n",
    "    print(\"C입니다.\")\n",
    "elif score >= 60:\n",
    "    print(\"D입니다.\")\n",
    "else:\n",
    "    print(\"F입니다.\")\n",
    "    \n",
    "print(\"안내를 종료합니다.\")"
   ]
  },
  {
   "cell_type": "code",
   "execution_count": 92,
   "id": "4d9121b0-e281-4ccd-bcbc-daadbafa7f83",
   "metadata": {},
   "outputs": [
    {
     "name": "stdin",
     "output_type": "stream",
     "text": [
      "현재 물의 온도를 입력해주세요 -7\n"
     ]
    },
    {
     "name": "stdout",
     "output_type": "stream",
     "text": [
      "고체로 예상됩니다.\n"
     ]
    }
   ],
   "source": [
    "degree = float(input(\"현재 물의 온도를 입력해주세요\"))\n",
    "if degree >= 100:\n",
    "    print(\"기체로 예상됩니다.\")\n",
    "elif 100 > degree >= 0:\n",
    "    print(\"액체로 예상됩니다.\")\n",
    "else:\n",
    "    print(\"고체로 예상됩니다.\")"
   ]
  },
  {
   "cell_type": "code",
   "execution_count": 95,
   "id": "2cdedede-1339-43aa-912e-65a162b60fe1",
   "metadata": {},
   "outputs": [
    {
     "name": "stdin",
     "output_type": "stream",
     "text": [
      "현재 물의 온도를 입력해주세요 -0.12\n"
     ]
    },
    {
     "name": "stdout",
     "output_type": "stream",
     "text": [
      "고체로 예상됩니다.\n"
     ]
    }
   ],
   "source": [
    "degree = float(input(\"현재 물의 온도를 입력해주세요\"))\n",
    "if degree >= 100:\n",
    "    print(\"기체로 예상됩니다.\")\n",
    "elif degree >= 0: # 100 > 이 없어도 실행 됨\n",
    "    print(\"액체로 예상됩니다.\")\n",
    "else:\n",
    "    print(\"고체로 예상됩니다.\")"
   ]
  },
  {
   "cell_type": "markdown",
   "id": "33b810d0-e1ec-47f1-a6f8-e8ebfb2e3731",
   "metadata": {},
   "source": [
    "## 연습문제\n",
    "### 일반 시내 버스 요금을 받는 프로그램을 만들려고 합니다.  \n",
    "### 성인(19세 이상)이면 1500원 청소년 이면(12 ~ 18세)이면 1100원 어린이(6 ~ 11세)면 800원을 받고 미취학 아동은 무료입니다. \n",
    "### 사용자로부터 나이를 입력받고 나이에 따른 일반 시내 버스 요금을 출력하세요."
   ]
  },
  {
   "cell_type": "code",
   "execution_count": 102,
   "id": "18eb31a0-0228-46dc-80f1-3fb8b9132a2b",
   "metadata": {},
   "outputs": [
    {
     "name": "stdin",
     "output_type": "stream",
     "text": [
      "자신의 나이를 입력하세요: 11\n"
     ]
    },
    {
     "name": "stdout",
     "output_type": "stream",
     "text": [
      "800원\n"
     ]
    }
   ],
   "source": [
    "age = int(input(\"자신의 나이를 입력하세요:\"))\n",
    "if age >= 19:\n",
    "    print(\"1500원\")\n",
    "elif age >= 12:\n",
    "    print(\"1100원\")\n",
    "elif age >= 6:\n",
    "    print(\"800원\")\n",
    "else:\n",
    "    print(\"무임승차입니다.\")"
   ]
  },
  {
   "cell_type": "markdown",
   "id": "2761d011-c9c1-4b67-a92f-bf7e02ca0dca",
   "metadata": {},
   "source": [
    "### A사는 B사에서 C상품($10/개)을 납품합니다. 발주수량에 따라 수량할인을 고려하여 납품가가 달라집니다. \n",
    "### 1000개 미만은 수량할인이 적용되지 않습니다. 1000개부터 1500개 까지 5%, 1500개 초과 2000개까지 10%를 할인합니다.  \n",
    "### 2000개 초과 부터는 20%를 할인합니다. 발주 수량을 사용자로부터 입력 받고 총 발주금액을 출력하는 프로그램을 작성해보세요.  \n",
    "### (소수점은 할인의 일환으로 버립니다.)"
   ]
  },
  {
   "cell_type": "code",
   "execution_count": 126,
   "id": "2e72d55d-de66-48cf-b0a2-97209bc20f9a",
   "metadata": {},
   "outputs": [
    {
     "name": "stdin",
     "output_type": "stream",
     "text": [
      "발주 수량울 입력하세요: 2001\n"
     ]
    },
    {
     "name": "stdout",
     "output_type": "stream",
     "text": [
      "총 발주 금액은 $16008입니다\n"
     ]
    }
   ],
   "source": [
    "cProduct = 10\n",
    "quantity = int(input(\"발주 수량울 입력하세요:\"))\n",
    "if quantity > 2000:\n",
    "    discount = 0.2\n",
    "    price = cProduct * quantity * (1-discount)\n",
    "    print(\"총 발주 금액은 $\",int(price),\"입니다\", sep=\"\")\n",
    "elif quantity >1500:\n",
    "    discount = 0.1\n",
    "    price = cProduct * quantity * (1-discount)\n",
    "    print(\"총 발주 금액은 $\",int(price),\"입니다\", sep=\"\")\n",
    "elif quantity >=1000:\n",
    "    discount = 0.05\n",
    "    price = cProduct * quantity * (1-discount)\n",
    "    print(\"총 발주 금액은 $\",int(price),\"입니다\", sep=\"\")\n",
    "else:\n",
    "    price = cProduct * quantity * (1-discount)\n",
    "    print(\"총 발주 금액은 $\",int(price),\"입니다\", sep=\"\")"
   ]
  },
  {
   "cell_type": "markdown",
   "id": "e53b763f-3f15-4615-8c23-32ad98396577",
   "metadata": {},
   "source": [
    "### 주민등록번호 뒷자리 7자리 중 맨 앞 번호가 1, 3인 경우는 남자이고 2, 4인 경우는 여자를 의미합니다.  \n",
    "### 주민등록번호 뒷자리를 입력 받아 성별을 확인하는 프로그램을 작성하세요.  \n",
    "### - 자리수가 7자리가 아니면 '자리수를 잘못 입력했습니다.'를 출력합니다.\n",
    "### - 맨 앞 번호가 1,2,3,4가 아니면 '잘못된 입력입니다.'를 출력합니다."
   ]
  },
  {
   "cell_type": "code",
   "execution_count": 157,
   "id": "31b718b9-27c6-4ee3-adb9-8c5282b89061",
   "metadata": {},
   "outputs": [
    {
     "name": "stdin",
     "output_type": "stream",
     "text": [
      "주민등록번호 뒷자리를 입력해주세요: 12345678\n"
     ]
    },
    {
     "name": "stdout",
     "output_type": "stream",
     "text": [
      "자리수를 잘못 입력했습니다.\n"
     ]
    }
   ],
   "source": [
    "id_num = input(\"주민등록번호 뒷자리를 입력해주세요:\")\n",
    "if 7 == len(id_num):\n",
    "    if 1 <= int(id_num[0]) <=4:\n",
    "        if int(id_num[0]) == 1 or int(id_num[0]) ==  3:\n",
    "            print(\"남자\")\n",
    "        else:\n",
    "            print(\"여자\")\n",
    "    elif int(id_num[0]) != 1 or 2 or 3 or 4:\n",
    "        print(\"잘못된 입력입니다.\")\n",
    "else:\n",
    "    print(\"자리수를 잘못 입력했습니다.\")"
   ]
  },
  {
   "cell_type": "markdown",
   "id": "e5843658-b05f-4ca7-b796-1643a1788f62",
   "metadata": {},
   "source": [
    "### 사용자로부터 연도 값을 입력받고 윤년인지 아닌지 결과를 출력하는 프로그램을 작성해보세요.\n",
    "### - 연도가 4로 나누어 떨어지는 경우 : 윤년, 그 밖의 해 : 평년  \n",
    "### 예외규칙  \n",
    "### - 100으로 나누어 떨어지되 400으로 나누어 떨어지지 않는 해 : 평년"
   ]
  },
  {
   "cell_type": "code",
   "execution_count": 194,
   "id": "c67bf116-64ba-4e8a-a6fd-4d82a8d3b1d9",
   "metadata": {},
   "outputs": [
    {
     "name": "stdin",
     "output_type": "stream",
     "text": [
      "확인할 연도를 입력하세요 1900\n"
     ]
    },
    {
     "name": "stdout",
     "output_type": "stream",
     "text": [
      "평년입니다.\n"
     ]
    }
   ],
   "source": [
    "확인할연도 = int(input(\"확인할 연도를 입력하세요\"))\n",
    "if 확인할연도 % 4 == 0:\n",
    "    if 확인할연도 % 100 == 0 and 확인할연도 % 400 != 0:\n",
    "        print(\"평년입니다.\")\n",
    "    else:\n",
    "        print(\"윤년입니다.\")\n",
    "else:\n",
    "    print(\"평년입니다.\")"
   ]
  },
  {
   "cell_type": "code",
   "execution_count": 189,
   "id": "1b3f121b-f12f-4c10-b0c3-fa0153542c3b",
   "metadata": {},
   "outputs": [
    {
     "name": "stdin",
     "output_type": "stream",
     "text": [
      "확인할 연도를 입력하세요 1900\n"
     ]
    },
    {
     "name": "stdout",
     "output_type": "stream",
     "text": [
      "평년입니다.\n"
     ]
    }
   ],
   "source": [
    "확인할연도 = int(input(\"확인할 연도를 입력하세요\"))\n",
    "if 확인할연도 % 4 !=0 or 확인할연도 % 400 != 0 and 확인할연도 % 100 == 0: \n",
    "    print(\"평년입니다.\")\n",
    "else:\n",
    "    print(\"윤년입니다.\")"
   ]
  },
  {
   "cell_type": "markdown",
   "id": "87692db7-13ca-4db3-8767-50f346a57069",
   "metadata": {},
   "source": [
    "### 반복문\n",
    "### - For문"
   ]
  },
  {
   "cell_type": "markdown",
   "id": "78123908-8a49-45b5-b4a7-435fb258b8b7",
   "metadata": {},
   "source": [
    "```python  \n",
    "for 요소를 담을 변수 in 반복 가능한 객체:  \n",
    "    반복할 코드(띄어쓰기 4칸)  \n",
    "for 변수 in range(횟수):  \n",
    "    반복할 코드(띄어쓰기 4칸)  \n",
    "```"
   ]
  },
  {
   "cell_type": "code",
   "execution_count": 201,
   "id": "053e754f-2c9c-499f-bf68-2e1d3812bac2",
   "metadata": {},
   "outputs": [
    {
     "name": "stdout",
     "output_type": "stream",
     "text": [
      "Hello world 0\n",
      "Hello world 1\n",
      "Hello world 2\n",
      "Hello world 3\n",
      "Hello world 4\n",
      "Hello world 5\n",
      "Hello world 6\n",
      "Hello world 7\n",
      "Hello world 8\n",
      "Hello world 9\n"
     ]
    }
   ],
   "source": [
    "for n in range(10):\n",
    "    print(\"Hello world\", n)"
   ]
  },
  {
   "cell_type": "markdown",
   "id": "c484baa9-980e-4499-9c4c-9645d83212d1",
   "metadata": {},
   "source": [
    "### range() 함수로 list 생성하기\n",
    "### 연속되는 정수를 생성할때 range() 내장 함수를 사용하면 편리합니다."
   ]
  },
  {
   "cell_type": "code",
   "execution_count": 203,
   "id": "c88165f3-7a55-4a5d-b9ce-b42e984b8d3f",
   "metadata": {},
   "outputs": [
    {
     "name": "stdout",
     "output_type": "stream",
     "text": [
      "[2, 4, 6, 8, 10, 12, 14, 16, 18, 20, 22, 24, 26, 28, 30, 32, 34, 36, 38, 40, 42, 44, 46, 48, 50, 52, 54, 56, 58, 60, 62, 64, 66, 68, 70, 72, 74, 76, 78, 80, 82, 84, 86, 88, 90, 92, 94, 96, 98]\n"
     ]
    }
   ],
   "source": [
    "even_numbers = list(range(2,100,2))\n",
    "print(even_numbers)"
   ]
  },
  {
   "cell_type": "code",
   "execution_count": 205,
   "id": "e5161d27-637d-442f-aefa-aa73e059d5c6",
   "metadata": {
    "scrolled": true,
    "tags": []
   },
   "outputs": [
    {
     "name": "stdout",
     "output_type": "stream",
     "text": [
      "Hello world 1\n",
      "Hello world 2\n",
      "Hello world 3\n",
      "Hello world 4\n",
      "Hello world 5\n",
      "Hello world 6\n",
      "Hello world 7\n",
      "Hello world 8\n",
      "Hello world 9\n",
      "Hello world 10\n",
      "Hello world 11\n",
      "Hello world 12\n",
      "Hello world 13\n",
      "Hello world 14\n",
      "Hello world 15\n",
      "Hello world 16\n",
      "Hello world 17\n",
      "Hello world 18\n",
      "Hello world 19\n",
      "Hello world 20\n",
      "Hello world 21\n",
      "Hello world 22\n",
      "Hello world 23\n",
      "Hello world 24\n",
      "Hello world 25\n",
      "Hello world 26\n",
      "Hello world 27\n",
      "Hello world 28\n",
      "Hello world 29\n",
      "Hello world 30\n",
      "Hello world 31\n",
      "Hello world 32\n",
      "Hello world 33\n",
      "Hello world 34\n",
      "Hello world 35\n",
      "Hello world 36\n",
      "Hello world 37\n",
      "Hello world 38\n",
      "Hello world 39\n",
      "Hello world 40\n",
      "Hello world 41\n",
      "Hello world 42\n",
      "Hello world 43\n",
      "Hello world 44\n",
      "Hello world 45\n",
      "Hello world 46\n",
      "Hello world 47\n",
      "Hello world 48\n",
      "Hello world 49\n",
      "Hello world 50\n",
      "Hello world 51\n",
      "Hello world 52\n",
      "Hello world 53\n",
      "Hello world 54\n",
      "Hello world 55\n",
      "Hello world 56\n",
      "Hello world 57\n",
      "Hello world 58\n",
      "Hello world 59\n",
      "Hello world 60\n",
      "Hello world 61\n",
      "Hello world 62\n",
      "Hello world 63\n",
      "Hello world 64\n",
      "Hello world 65\n",
      "Hello world 66\n",
      "Hello world 67\n",
      "Hello world 68\n",
      "Hello world 69\n",
      "Hello world 70\n",
      "Hello world 71\n",
      "Hello world 72\n",
      "Hello world 73\n",
      "Hello world 74\n",
      "Hello world 75\n",
      "Hello world 76\n",
      "Hello world 77\n",
      "Hello world 78\n",
      "Hello world 79\n",
      "Hello world 80\n",
      "Hello world 81\n",
      "Hello world 82\n",
      "Hello world 83\n",
      "Hello world 84\n",
      "Hello world 85\n",
      "Hello world 86\n",
      "Hello world 87\n",
      "Hello world 88\n",
      "Hello world 89\n",
      "Hello world 90\n",
      "Hello world 91\n",
      "Hello world 92\n",
      "Hello world 93\n",
      "Hello world 94\n",
      "Hello world 95\n",
      "Hello world 96\n",
      "Hello world 97\n",
      "Hello world 98\n",
      "Hello world 99\n",
      "Hello world 100\n"
     ]
    }
   ],
   "source": [
    "for n in range(1,101):\n",
    "    print(\"Hello world\", n)"
   ]
  },
  {
   "cell_type": "code",
   "execution_count": 217,
   "id": "c63d4ec5-b3e7-49cc-9afa-f2604cfe58cf",
   "metadata": {
    "scrolled": true,
    "tags": []
   },
   "outputs": [
    {
     "name": "stdin",
     "output_type": "stream",
     "text": [
      "인사 몇 번 해드릴까요? 3\n"
     ]
    },
    {
     "name": "stdout",
     "output_type": "stream",
     "text": [
      "Hello world 1\n",
      "Hello world 2\n",
      "Hello world 3\n"
     ]
    }
   ],
   "source": [
    "x = int(input(\"인사 몇 번 해드릴까요?\"))\n",
    "for n in range(1,x+1):\n",
    "    print(\"Hello world\", n)"
   ]
  },
  {
   "cell_type": "code",
   "execution_count": 235,
   "id": "f5cb008a-aab6-44da-bee9-ab700434e1eb",
   "metadata": {},
   "outputs": [
    {
     "name": "stdout",
     "output_type": "stream",
     "text": [
      "[5, 6, 7, 8, 9]\n"
     ]
    }
   ],
   "source": [
    "print(list(range(5,10)))"
   ]
  },
  {
   "cell_type": "code",
   "execution_count": 236,
   "id": "bc4b0f22-5600-4707-830c-a712a513f53e",
   "metadata": {},
   "outputs": [
    {
     "name": "stdout",
     "output_type": "stream",
     "text": [
      "[0, 3, 6, 9]\n"
     ]
    }
   ],
   "source": [
    "print(list(range(0,10,3)))"
   ]
  },
  {
   "cell_type": "code",
   "execution_count": 237,
   "id": "506a08d0-ac98-443b-b3e1-2c2310e6d397",
   "metadata": {},
   "outputs": [
    {
     "name": "stdout",
     "output_type": "stream",
     "text": [
      "[-10, -40, -70]\n"
     ]
    }
   ],
   "source": [
    "print(list(range(-10,-71,-30)))"
   ]
  },
  {
   "cell_type": "code",
   "execution_count": 296,
   "id": "5ba0f1ba-e5c5-426e-9de1-ec4b048b6001",
   "metadata": {},
   "outputs": [
    {
     "name": "stdin",
     "output_type": "stream",
     "text": [
      "자연수 하나 입력해주세요: 6\n"
     ]
    },
    {
     "name": "stdout",
     "output_type": "stream",
     "text": [
      "6 \t6 \t6 \t6 \t6 \t6 \t\n",
      "5 \t5 \t5 \t5 \t5 \t\n",
      "4 \t4 \t4 \t4 \t\n",
      "3 \t3 \t3 \t\n",
      "2 \t2 \t\n",
      "1 \t\n"
     ]
    }
   ],
   "source": [
    "num = int(input(\"자연수 하나 입력해주세요:\"))\n",
    "for n in range(num,0,-1):\n",
    "    for m in range(n):\n",
    "        print(n,\"\\t\", end = \"\")\n",
    "    print()"
   ]
  },
  {
   "cell_type": "code",
   "execution_count": 314,
   "id": "500b4039-9161-44bb-bf2b-46e08f78ffef",
   "metadata": {},
   "outputs": [
    {
     "name": "stdin",
     "output_type": "stream",
     "text": [
      "자연수 하나 입력해주세요: 6\n"
     ]
    },
    {
     "name": "stdout",
     "output_type": "stream",
     "text": [
      "6\t6\t6\t6\t6\t6\t\n",
      "5\t5\t5\t5\t5\t\n",
      "4\t4\t4\t4\t\n",
      "3\t3\t3\t\n",
      "2\t2\t\n",
      "1\t\n"
     ]
    }
   ],
   "source": [
    "num = int(input(\"자연수 하나 입력해주세요:\"))\n",
    "for i in range(num,0,-1):\n",
    "    for j in range(i):\n",
    "        print(i,end=\"\\t\")\n",
    "    print()"
   ]
  },
  {
   "cell_type": "code",
   "execution_count": 326,
   "id": "cb7ed13e-bd8f-42fb-9f31-3c3007cca110",
   "metadata": {},
   "outputs": [
    {
     "name": "stdout",
     "output_type": "stream",
     "text": [
      "* * * * * * * * * * \n",
      "*                 *\n",
      "*                 *\n",
      "*                 *\n",
      "*                 *\n",
      "*                 *\n",
      "*                 *\n",
      "*                 *\n",
      "*                 *\n",
      "* * * * * * * * * * \n"
     ]
    }
   ],
   "source": [
    "for i in range(10):\n",
    "    if i == 0 or i == 9:\n",
    "        print('* ' * 10)\n",
    "    else:\n",
    "        print('*                 *')"
   ]
  },
  {
   "cell_type": "markdown",
   "id": "f2bc0bce-1603-4f72-85f1-2749978e7e10",
   "metadata": {},
   "source": [
    "### 1부터 사용자로부터 입력 받은 자연수까지의 홀수의 합을 구합니다.  \n",
    "### 1부터 입력받은 수까지 홀수 전체를 각각 더하는 산식을 표현하고  \n",
    "### 그 계산식의 결과를 아래 실행결과와 같이 출력되도록 구해보세요\n",
    "실행결과 :  \n",
    "1부터 입력한 자연수까지의 모든 홀수의 합을 구합니다 100  \n",
    "1 + 3 + 5 + 7 + 9 + ...99 = 2500"
   ]
  },
  {
   "cell_type": "code",
   "execution_count": 470,
   "id": "3ce45184-55bc-4625-913f-6fb8030b9d03",
   "metadata": {},
   "outputs": [
    {
     "name": "stdin",
     "output_type": "stream",
     "text": [
      "1부터 입력한 자연수까지의 모든 홀수의 합을 구합니다 99\n"
     ]
    },
    {
     "name": "stdout",
     "output_type": "stream",
     "text": [
      "1 + 3 + 5 + 7 + 9 + 11 + 13 + 15 + 17 + 19 + 21 + 23 + 25 + 27 + 29 + 31 + 33 + 35 + 37 + 39 + 41 + 43 + 45 + 47 + 49 + 51 + 53 + 55 + 57 + 59 + 61 + 63 + 65 + 67 + 69 + 71 + 73 + 75 + 77 + 79 + 81 + 83 + 85 + 87 + 89 + 91 + 93 + 95 + 97 + 99 = 2500\n"
     ]
    }
   ],
   "source": [
    "v = int(input(\"1부터 입력한 자연수까지의 모든 홀수의 합을 구합니다\"))\n",
    "sum = 0\n",
    "for o in range(1,v+1,2):\n",
    "    if o != v:\n",
    "        sum = sum + o\n",
    "        print(o,\"+ \", end= \"\")\n",
    "    else:\n",
    "        sum = sum + o\n",
    "        print(o,\"= \", end= \"\")\n",
    "x = sum\n",
    "print(x)"
   ]
  },
  {
   "cell_type": "code",
   "execution_count": 456,
   "id": "168edc4b-c891-4113-8bc2-6891155be4da",
   "metadata": {},
   "outputs": [
    {
     "name": "stdin",
     "output_type": "stream",
     "text": [
      "1부터 입력한 자연수까지의 모든 홀수의 합을 구합니다 99\n"
     ]
    },
    {
     "name": "stdout",
     "output_type": "stream",
     "text": [
      "1 + 3 + 5 + 7 + 9 + 11 + 13 + 15 + 17 + 19 + 21 + 23 + 25 + 27 + 29 + 31 + 33 + 35 + 37 + 39 + 41 + 43 + 45 + 47 + 49 + 51 + 53 + 55 + 57 + 59 + 61 + 63 + 65 + 67 + 69 + 71 + 73 + 75 + 77 + 79 + 81 + 83 + 85 + 87 + 89 + 91 + 93 + 95 + 97 + 99 = 2500\n"
     ]
    }
   ],
   "source": [
    "num = int(input(\"1부터 입력한 자연수까지의 모든 홀수의 합을 구합니다\"))\n",
    "sum = 0\n",
    "print(1, end = \"\")\n",
    "for i in range(3, num + 1, 2):\n",
    "    sum = sum + i\n",
    "    print(\" +\", i, end = \"\")\n",
    "print(\" =\", sum + 1)"
   ]
  },
  {
   "cell_type": "code",
   "execution_count": 457,
   "id": "6382f0cb-7f0e-4bca-a435-c7ff87ed8ac9",
   "metadata": {},
   "outputs": [
    {
     "name": "stdin",
     "output_type": "stream",
     "text": [
      "1부터 입력한 자연수까지의 모든 홀수의 합을 구합니다  99\n"
     ]
    },
    {
     "name": "stdout",
     "output_type": "stream",
     "text": [
      "1 + 3 + 5 + 7 + 9 + 11 + 13 + 15 + 17 + 19 + 21 + 23 + 25 + 27 + 29 + 31 + 33 + 35 + 37 + 39 + 41 + 43 + 45 + 47 + 49 + 51 + 53 + 55 + 57 + 59 + 61 + 63 + 65 + 67 + 69 + 71 + 73 + 75 + 77 + 79 + 81 + 83 + 85 + 87 + 89 + 91 + 93 + 95 + 97 + 99 = 2500\n"
     ]
    }
   ],
   "source": [
    "input_value = int(input(\"1부터 입력한 자연수까지의 모든 홀수의 합을 구합니다 \"))\n",
    "result = 0\n",
    "for i in range(1, input_value + 1):\n",
    "    if i % 2 == 1:\n",
    "        if (input_value - 1) == i or input_value == i:\n",
    "            print(i, end=' = ')\n",
    "        else:\n",
    "            print(i, end=' + ')\n",
    "        result += i\n",
    "print(result)"
   ]
  },
  {
   "cell_type": "code",
   "execution_count": 422,
   "id": "4ee2250a-fda7-488c-b82f-f86cfcacf5a2",
   "metadata": {},
   "outputs": [
    {
     "name": "stdin",
     "output_type": "stream",
     "text": [
      "계승을 구할 숫자를 입력하세요. 7\n"
     ]
    },
    {
     "name": "stdout",
     "output_type": "stream",
     "text": [
      "5040\n"
     ]
    }
   ],
   "source": [
    "n = int(input(\"계승을 구할 숫자를 입력하세요.\"))\n",
    "result = 1\n",
    "for _ in range(1, n + 1):\n",
    "    result = result * _\n",
    "\n",
    "print(result)"
   ]
  },
  {
   "cell_type": "code",
   "execution_count": 427,
   "id": "fd4c5668-15ff-40d5-a3d3-8915388a59f0",
   "metadata": {},
   "outputs": [
    {
     "name": "stdout",
     "output_type": "stream",
     "text": [
      "파 도 솔 레 라 미 시 "
     ]
    }
   ],
   "source": [
    "for _ in (\"파\"\"도\"\"솔\"\"레\"\"라\"\"미\"\"시\"):\n",
    "    print(_ , end=\" \")"
   ]
  },
  {
   "cell_type": "code",
   "execution_count": 428,
   "id": "37d3e5fc-673e-4db5-afca-ef84205d9936",
   "metadata": {},
   "outputs": [
    {
     "name": "stdout",
     "output_type": "stream",
     "text": [
      "십 구 팔 칠 육 오 사 삼 이 일 "
     ]
    }
   ],
   "source": [
    "for _ in (\"일이삼사오육칠팔구십\"):\n",
    "    print(_, end=\" \")"
   ]
  },
  {
   "cell_type": "code",
   "execution_count": 426,
   "id": "e281319e-721e-4f6e-8628-56fd71fb9346",
   "metadata": {},
   "outputs": [
    {
     "name": "stdout",
     "output_type": "stream",
     "text": [
      "십 구 팔 칠 육 오 사 삼 이 일 "
     ]
    }
   ],
   "source": [
    "for _ in reversed(\"일이삼사오육칠팔구십\"):\n",
    "    print(_, end=\" \")"
   ]
  },
  {
   "cell_type": "markdown",
   "id": "032c3ecf-079d-43cc-b61e-4ca340979480",
   "metadata": {},
   "source": [
    "### 연습문제  \n",
    "제시된 리스트의 값을 for문을 활용하여 10배씩 증가시킨 후 아래의 실행 결과와 같이 출력해보세요  \n",
    "x = [10, -42, 25, 103, 21, 77, 24]\n",
    "실행결과:  \n",
    "100 -420 250 1030 210 770 240"
   ]
  },
  {
   "cell_type": "code",
   "execution_count": 469,
   "id": "2530c815-9710-430c-88c7-d91adb5b4140",
   "metadata": {},
   "outputs": [
    {
     "name": "stdout",
     "output_type": "stream",
     "text": [
      "100 -420 250 1030 210 770 240 "
     ]
    }
   ],
   "source": [
    "x = [10, -42, 25, 103, 21, 77, 24]\n",
    "for _ in x:\n",
    "    print(_ * 10, end = \" \")"
   ]
  },
  {
   "cell_type": "code",
   "execution_count": 454,
   "id": "7591f4ce-25de-4c72-88ea-d46b217f2973",
   "metadata": {},
   "outputs": [
    {
     "name": "stdin",
     "output_type": "stream",
     "text": [
      "구구단을 알려드립니다. 숫자를 입력하세요 9\n"
     ]
    },
    {
     "name": "stdout",
     "output_type": "stream",
     "text": [
      "9 * 1 = 9\n",
      "9 * 2 = 18\n",
      "9 * 3 = 27\n",
      "9 * 4 = 36\n",
      "9 * 5 = 45\n",
      "9 * 6 = 54\n",
      "9 * 7 = 63\n",
      "9 * 8 = 72\n",
      "9 * 9 = 81\n"
     ]
    }
   ],
   "source": [
    "a = int(input(\"구구단을 알려드립니다. 숫자를 입력하세요\"))\n",
    "result = 1\n",
    "for i in range(1, 10):\n",
    "    result = a * i\n",
    "    print(a, \"*\", i , \"=\", result)"
   ]
  },
  {
   "cell_type": "markdown",
   "id": "3d994683-5d70-4976-8680-58decc8a6b33",
   "metadata": {},
   "source": [
    "### 사용자로부터 자연수를 입력받아옵니다. 1부터 입력된 자연수까지의 합을 구하는 프로그램을 구현해보세요."
   ]
  },
  {
   "cell_type": "code",
   "execution_count": 453,
   "id": "13588d68-6ada-4522-8d94-818ccbb66613",
   "metadata": {},
   "outputs": [
    {
     "name": "stdin",
     "output_type": "stream",
     "text": [
      "자연수를 입력해 주세요:  100\n"
     ]
    },
    {
     "name": "stdout",
     "output_type": "stream",
     "text": [
      "5050"
     ]
    }
   ],
   "source": [
    "자연수 = int(input(\"자연수를 입력해 주세요: \"))\n",
    "result = 0\n",
    "for _ in range(1,자연수+1):\n",
    "    result += _\n",
    "print(result, end=\"\")"
   ]
  }
 ],
 "metadata": {
  "kernelspec": {
   "display_name": "Python 3 (ipykernel)",
   "language": "python",
   "name": "python3"
  },
  "language_info": {
   "codemirror_mode": {
    "name": "ipython",
    "version": 3
   },
   "file_extension": ".py",
   "mimetype": "text/x-python",
   "name": "python",
   "nbconvert_exporter": "python",
   "pygments_lexer": "ipython3",
   "version": "3.9.13"
  }
 },
 "nbformat": 4,
 "nbformat_minor": 5
}
