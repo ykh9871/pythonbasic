{
 "cells": [
  {
   "cell_type": "markdown",
   "id": "18f7723e-a543-4c32-9d05-0a766d3de3ea",
   "metadata": {
    "tags": []
   },
   "source": [
    "# 리스트 메소드"
   ]
  },
  {
   "cell_type": "markdown",
   "id": "b3057990-5abe-43c9-ab0c-a8c4e86c2679",
   "metadata": {},
   "source": [
    "### * append는 리스트 뒤에 요소를 추가한다"
   ]
  },
  {
   "cell_type": "code",
   "execution_count": 1,
   "id": "fde2069f-4cb2-4939-a695-fff421c68025",
   "metadata": {},
   "outputs": [],
   "source": [
    "numbers = [1,2,3,4,5,6,7]"
   ]
  },
  {
   "cell_type": "code",
   "execution_count": 2,
   "id": "cafe693c-a667-4759-bf08-74d9adc2f795",
   "metadata": {},
   "outputs": [],
   "source": [
    "numbers.append(8)"
   ]
  },
  {
   "cell_type": "code",
   "execution_count": 3,
   "id": "70813db2-9951-439c-968c-4a807617e66a",
   "metadata": {},
   "outputs": [
    {
     "name": "stdout",
     "output_type": "stream",
     "text": [
      "[1, 2, 3, 4, 5, 6, 7, 8]\n"
     ]
    }
   ],
   "source": [
    "print(numbers)"
   ]
  },
  {
   "cell_type": "markdown",
   "id": "ec7097a5-fef6-4c36-847b-a3f185818801",
   "metadata": {},
   "source": [
    "### * insert는 요소를 원하는 인덱스 위치에 넣을 수 있다.\n",
    "insert(인덱스, 요소)"
   ]
  },
  {
   "cell_type": "code",
   "execution_count": 4,
   "id": "25af6ef2-2268-4c11-9425-ec2281931d96",
   "metadata": {},
   "outputs": [],
   "source": [
    "numbers.insert(0,0)\n",
    "numbers.insert(4,0)\n",
    "numbers.insert(6,0)\n",
    "numbers.insert(len(numbers),0)"
   ]
  },
  {
   "cell_type": "code",
   "execution_count": 5,
   "id": "dfc26449-6fd5-408e-a724-70416ac7bc08",
   "metadata": {},
   "outputs": [
    {
     "name": "stdout",
     "output_type": "stream",
     "text": [
      "[0, 1, 2, 3, 0, 4, 0, 5, 6, 7, 8, 0]\n"
     ]
    }
   ],
   "source": [
    "print(numbers)"
   ]
  },
  {
   "cell_type": "markdown",
   "id": "470cf49c-b0eb-4c9c-b655-af96d07a7af6",
   "metadata": {},
   "source": [
    "### * extend는 리스트에 리스트를 뒤로 붙인다\n",
    "리스트1.extend(리스트2)"
   ]
  },
  {
   "cell_type": "code",
   "execution_count": 6,
   "id": "9803c931-a934-49eb-890a-905e16441c41",
   "metadata": {},
   "outputs": [
    {
     "name": "stdout",
     "output_type": "stream",
     "text": [
      "[0, 1, 2, 3, 0, 4, 0, 5, 6, 7, 8, 0, 9, 10, 11]\n"
     ]
    }
   ],
   "source": [
    "numbers.extend([9,10,11])\n",
    "print(numbers)"
   ]
  },
  {
   "cell_type": "markdown",
   "id": "9a74291c-8324-4616-9f0b-35d2059c3219",
   "metadata": {},
   "source": [
    "### * remove(요소) 리스트에서 요소와 같은 걸 삭제한다"
   ]
  },
  {
   "cell_type": "code",
   "execution_count": 7,
   "id": "aa2b2f5b-c2f7-49fb-9b5f-722485791aaf",
   "metadata": {},
   "outputs": [
    {
     "name": "stdout",
     "output_type": "stream",
     "text": [
      "[0, 1, 2, 3, 0, 4, 0, 5, 6, 7, 8, 0, 9, 10, 11]\n",
      "[1, 2, 3, 0, 4, 0, 5, 6, 7, 8, 0, 9, 10, 11]\n"
     ]
    }
   ],
   "source": [
    "print(numbers)\n",
    "numbers.remove(0)\n",
    "print(numbers)"
   ]
  },
  {
   "cell_type": "markdown",
   "id": "ea48c89b-96e2-4bd8-9c1f-b5286356395b",
   "metadata": {},
   "source": [
    "#### 다른것"
   ]
  },
  {
   "cell_type": "code",
   "execution_count": 8,
   "id": "45d31f75-76dd-4fac-8c84-ae4b1899bc3f",
   "metadata": {},
   "outputs": [],
   "source": [
    "del numbers[0]"
   ]
  },
  {
   "cell_type": "code",
   "execution_count": 9,
   "id": "0ca4b60f-a1df-4506-998b-61750ce6dd4d",
   "metadata": {},
   "outputs": [
    {
     "name": "stdout",
     "output_type": "stream",
     "text": [
      "[2, 3, 0, 4, 0, 5, 6, 7, 8, 0, 9, 10, 11]\n"
     ]
    }
   ],
   "source": [
    "print(numbers)"
   ]
  },
  {
   "cell_type": "markdown",
   "id": "795906f6-6ea0-408d-beb2-d878ee3e533d",
   "metadata": {},
   "source": [
    "### * pop()--> 제일 뒤에 오는 요소를 반환한다. 그리고 리스트에서 삭제한다."
   ]
  },
  {
   "cell_type": "code",
   "execution_count": 10,
   "id": "87d23dcf-aadc-4b9d-919d-860ff41677d7",
   "metadata": {},
   "outputs": [
    {
     "name": "stdout",
     "output_type": "stream",
     "text": [
      "11\n"
     ]
    }
   ],
   "source": [
    "print(numbers.pop())"
   ]
  },
  {
   "cell_type": "code",
   "execution_count": 11,
   "id": "9fe2a79d-21c4-4eec-87a3-c1d0d38f3262",
   "metadata": {},
   "outputs": [
    {
     "name": "stdout",
     "output_type": "stream",
     "text": [
      "[2, 3, 0, 4, 0, 5, 6, 7, 8, 0, 9, 10]\n"
     ]
    }
   ],
   "source": [
    "print(numbers)"
   ]
  },
  {
   "cell_type": "markdown",
   "id": "463fe251-8812-4716-8aff-8c91542bef6f",
   "metadata": {},
   "source": [
    "### * index(인자) 리스트 안에 인자와 같은 요소를 앞에서 부터 찾습니다.  \n",
    "\n",
    "###  제일 처음 발견된 요소의 인덱스 위치를 반환합니다."
   ]
  },
  {
   "cell_type": "code",
   "execution_count": 13,
   "id": "57362430-ca89-4190-93d1-7dd263781bbf",
   "metadata": {},
   "outputs": [
    {
     "name": "stdout",
     "output_type": "stream",
     "text": [
      "3\n"
     ]
    }
   ],
   "source": [
    "print(numbers.index(4))"
   ]
  },
  {
   "cell_type": "markdown",
   "id": "bb37550d-534f-4350-b5a7-7f96e5035088",
   "metadata": {},
   "source": [
    "### * count(인자) 리스트 안에 인자와 같은 요소가 몇개가 있는지 반환한다."
   ]
  },
  {
   "cell_type": "code",
   "execution_count": 15,
   "id": "5cf3cbf4-64fd-4c9f-ae98-94be26c388cc",
   "metadata": {},
   "outputs": [
    {
     "name": "stdout",
     "output_type": "stream",
     "text": [
      "[2, 3, 0, 4, 0, 5, 6, 7, 8, 0, 9, 10]\n",
      "3\n"
     ]
    }
   ],
   "source": [
    "print(numbers)\n",
    "print(numbers.count(0))"
   ]
  },
  {
   "cell_type": "markdown",
   "id": "a8bf1254-a975-4ede-b1b6-dbfcdaf65c31",
   "metadata": {},
   "source": [
    "### * 리스트 정렬하기\n",
    "- sort() 는 오름차순 (순방향 정렬)\n",
    "- reverse() 는 순서를 뒤집는다 (역방향 정렬)  \n",
    " 반환 값은 둘 다 None"
   ]
  },
  {
   "cell_type": "code",
   "execution_count": 16,
   "id": "afeecd26-5ca5-489c-9baf-47419faeff22",
   "metadata": {},
   "outputs": [
    {
     "name": "stdout",
     "output_type": "stream",
     "text": [
      "[0, 0, 0, 2, 3, 4, 5, 6, 7, 8, 9, 10]\n"
     ]
    }
   ],
   "source": [
    "numbers.sort()\n",
    "print(numbers)"
   ]
  },
  {
   "cell_type": "code",
   "execution_count": 17,
   "id": "8dc7d8c1-712e-4dbb-9715-767127e6d2d7",
   "metadata": {},
   "outputs": [
    {
     "name": "stdout",
     "output_type": "stream",
     "text": [
      "[10, 9, 8, 7, 6, 5, 4, 3, 2, 0, 0, 0]\n"
     ]
    }
   ],
   "source": [
    "numbers.reverse()\n",
    "print(numbers)"
   ]
  },
  {
   "cell_type": "markdown",
   "id": "a1b0115b-d406-4246-862b-80e6173e8319",
   "metadata": {},
   "source": [
    "### * 리스트를 스택처럼 활용하기"
   ]
  },
  {
   "cell_type": "code",
   "execution_count": 19,
   "id": "782655c9-dd44-466d-a455-733a85cff045",
   "metadata": {},
   "outputs": [
    {
     "name": "stdout",
     "output_type": "stream",
     "text": [
      "[3, 4, 5, 6, 7]\n",
      "7\n",
      "[3, 4, 5, 6]\n",
      "6\n",
      "5\n",
      "[3, 4]\n"
     ]
    }
   ],
   "source": [
    "stack = [3,4,5]\n",
    "stack.append(6)\n",
    "stack.append(7)\n",
    "print(stack)\n",
    "\n",
    "print(stack.pop())\n",
    "\n",
    "print(stack)\n",
    "\n",
    "print(stack.pop())\n",
    "\n",
    "print(stack.pop())\n",
    "\n",
    "print(stack)"
   ]
  }
 ],
 "metadata": {
  "kernelspec": {
   "display_name": "Python 3 (ipykernel)",
   "language": "python",
   "name": "python3"
  },
  "language_info": {
   "codemirror_mode": {
    "name": "ipython",
    "version": 3
   },
   "file_extension": ".py",
   "mimetype": "text/x-python",
   "name": "python",
   "nbconvert_exporter": "python",
   "pygments_lexer": "ipython3",
   "version": "3.9.13"
  }
 },
 "nbformat": 4,
 "nbformat_minor": 5
}
