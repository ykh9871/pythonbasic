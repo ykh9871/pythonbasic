{
 "cells": [
  {
   "cell_type": "markdown",
   "id": "f7e5e1b6-bc56-48c6-b574-e3493eadc875",
   "metadata": {},
   "source": [
    "# 글씨 크기 조절"
   ]
  },
  {
   "cell_type": "markdown",
   "id": "8df1d230-9ebf-47cb-9935-425e57cfa133",
   "metadata": {},
   "source": [
    "# H1\n",
    "## H2\n",
    "### H3\n",
    "#### H4\n",
    "##### H5\n",
    "###### H6"
   ]
  },
  {
   "cell_type": "markdown",
   "id": "05aa4916-7c84-44a2-b593-487d45fc70ae",
   "metadata": {
    "tags": []
   },
   "source": [
    "# 1.마크다운 학습\n",
    "# 1.1. "
   ]
  },
  {
   "cell_type": "markdown",
   "id": "d69b6f2d-41ce-4533-b61c-4423b19cb686",
   "metadata": {},
   "source": [
    "일반 텍스트는 그냥 입력하시면 됩니다.  \n",
    "**굵은 글씨**는 이렇게 사용합니다.  \n",
    "*기울인 글씨*는 이렇게 씁니다.  \n",
    "~~취소선~~은 이렇게 씁니다.  \n",
    "줄 변경을 위해서는 공백 2칸이 필요합니다."
   ]
  },
  {
   "cell_type": "markdown",
   "id": "bae43074-422a-49b7-bbb1-7eb1400b92dc",
   "metadata": {},
   "source": [
    "> 구획이  \n",
    "> 잡힌  \n",
    "> 글씨입니다."
   ]
  },
  {
   "cell_type": "markdown",
   "id": "57dc05a4-35db-4706-87bf-9982e7884b81",
   "metadata": {},
   "source": [
    "- 목록1\n",
    "- 목록2\n",
    "- 목록3"
   ]
  },
  {
   "cell_type": "markdown",
   "id": "be5ef742-0c13-435b-83d0-452b720a346b",
   "metadata": {},
   "source": [
    "* 목록1\n",
    "* 목록2\n",
    "* 목록3"
   ]
  },
  {
   "cell_type": "markdown",
   "id": "6e9f250a-a107-48a7-b224-73b4f62ad6fc",
   "metadata": {},
   "source": [
    "1. 순서가 있는 목록1\n",
    "2. 순서가 있는 목록2\n",
    "3. 순서가 있는 목록3"
   ]
  },
  {
   "cell_type": "markdown",
   "id": "4c8fe87f-976d-4742-94a6-14eff780c5d7",
   "metadata": {},
   "source": [
    "[Google](https://www.google.com)"
   ]
  },
  {
   "cell_type": "markdown",
   "id": "ac027556-3fb5-4415-97bd-07871f90dcc9",
   "metadata": {},
   "source": [
    "![이미지에 대한 설명](https://dimg.donga.com/wps/NEWS/IMAGE/2020/08/22/102591473.3.jpg)"
   ]
  },
  {
   "cell_type": "markdown",
   "id": "5da9cef1-18bb-4ae1-8527-63ae693019f9",
   "metadata": {},
   "source": [
    "|제목 셀|제목 셀|제목 셀|\n",
    "|:--|--:|:--:|\n",
    "|값1|값2|값3|"
   ]
  },
  {
   "cell_type": "markdown",
   "id": "86c6a2c6-5d38-4db3-bbfe-459a536ae387",
   "metadata": {},
   "source": [
    "```python\n",
    "\n",
    "x = int(input(\"인사를 몇 번 할까요?\"))\n",
    "for _ in range(x)\n",
    "    print(\"Hello world\")\n",
    "\n",
    "```"
   ]
  },
  {
   "cell_type": "markdown",
   "id": "31191eaa-5661-40ea-8764-aab9a9eaa0ea",
   "metadata": {},
   "source": []
  }
 ],
 "metadata": {
  "kernelspec": {
   "display_name": "Python 3 (ipykernel)",
   "language": "python",
   "name": "python3"
  },
  "language_info": {
   "codemirror_mode": {
    "name": "ipython",
    "version": 3
   },
   "file_extension": ".py",
   "mimetype": "text/x-python",
   "name": "python",
   "nbconvert_exporter": "python",
   "pygments_lexer": "ipython3",
   "version": "3.9.13"
  }
 },
 "nbformat": 4,
 "nbformat_minor": 5
}
