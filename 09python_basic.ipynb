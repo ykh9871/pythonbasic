{
 "cells": [
  {
   "cell_type": "markdown",
   "id": "fe6f7c74-6b33-4d4e-a146-30934e8b6bb3",
   "metadata": {
    "tags": []
   },
   "source": [
    "## 객체지향(Object Oriented) 프로그래밍"
   ]
  },
  {
   "cell_type": "markdown",
   "id": "a27331b9-1fbe-45f1-9b0e-bcb85951e2a5",
   "metadata": {
    "tags": []
   },
   "source": [
    "- 객체지향 프로그래밍은 복잡한 문제를 잘게 나누어 객체로 만들고,   \n",
    "객체를 조합해서 문제를 해결합니다.  \n",
    "  \n",
    "  \n",
    "- 현실 세계의 복잡한 문제를 처리하는데 유용하며 기능을 개선하고  \n",
    "발전시킬 때도 해당 클래스만 수정하면 되므로 큰 프로젝트의  \n",
    "유지보수에도 매우 효율적입니다.  \n",
    "  \n",
    "  \n",
    "- 객체가 가진 데이터를 클래스의 속성(Attribute)이라 부르고   \n",
    "객체가 갖는 기능을 메서드(Method)라고 부릅니다."
   ]
  },
  {
   "cell_type": "markdown",
   "id": "b92998b3-385e-417d-aeb9-59ed79f78170",
   "metadata": {
    "jp-MarkdownHeadingCollapsed": true,
    "tags": []
   },
   "source": [
    "### 클래스(Class)\n",
    "- 클래스명으로 주로 PascalCase(UpperCamelCase)를 사용합니다.  \n",
    "#### instance_variable = ClassName()\n",
    "\n",
    "```python  \n",
    "class ClassName:\n",
    "    def method_name(self):\n",
    "        method_body\n",
    "    class__body\n",
    "...\n",
    "```"
   ]
  },
  {
   "cell_type": "markdown",
   "id": "9e02874d-030b-46f4-b503-05a08177ad58",
   "metadata": {
    "tags": []
   },
   "source": [
    "#### 메서드(Method)  \n",
    "\n",
    "```python  \n",
    "class ClassName:\n",
    "    def method_name(self):\n",
    "        method_body\n",
    "    class__body\n",
    "...\n",
    "```"
   ]
  },
  {
   "cell_type": "code",
   "execution_count": 13,
   "id": "ce945a2f-c332-49a5-9050-111a6920921a",
   "metadata": {},
   "outputs": [
    {
     "name": "stdout",
     "output_type": "stream",
     "text": [
      "<class 'int'>\n",
      "<class 'list'>\n",
      "<class 'dict'>\n"
     ]
    }
   ],
   "source": [
    "number = int(10)\n",
    "print(type(number))\n",
    "\n",
    "num_list = list(range(10))\n",
    "print(type(num_list))\n",
    "\n",
    "num_dict = dict(key=\"value\", key2=\"value2\")\n",
    "print(type(num_dict))"
   ]
  },
  {
   "cell_type": "code",
   "execution_count": 197,
   "id": "45df631a-8dc4-4c2f-a50c-49c111e4fc33",
   "metadata": {},
   "outputs": [],
   "source": [
    "class Student:\n",
    "    def __init__(self):\n",
    "        pass"
   ]
  },
  {
   "cell_type": "code",
   "execution_count": 51,
   "id": "6f6e4e70-fa77-4e7a-b66b-55ee97e61b2e",
   "metadata": {},
   "outputs": [],
   "source": [
    "gh = Student() # 독립적인 값을 보장하는 인스턴스로 생성됩니다."
   ]
  },
  {
   "cell_type": "markdown",
   "id": "cd66f429-2410-4716-8971-dc4688730376",
   "metadata": {
    "jp-MarkdownHeadingCollapsed": true,
    "tags": []
   },
   "source": [
    "#### 클래스 속성(Attribute)"
   ]
  },
  {
   "cell_type": "code",
   "execution_count": 57,
   "id": "d7bd153c-ded8-4d9e-b9d2-654e13052c4e",
   "metadata": {},
   "outputs": [],
   "source": [
    "class Person:\n",
    "    def __init__(self):\n",
    "        self.hello = \"안녕하세요.\""
   ]
  },
  {
   "cell_type": "code",
   "execution_count": 58,
   "id": "5ac2a05d-f448-44d3-bf58-c40eb6159c5d",
   "metadata": {},
   "outputs": [
    {
     "name": "stdout",
     "output_type": "stream",
     "text": [
      "안녕하세요.\n",
      "안녕하세요.\n"
     ]
    }
   ],
   "source": [
    "james = Person()\n",
    "print(james.hello)\n",
    "\n",
    "bebe = Person()\n",
    "print(bebe.hello)"
   ]
  },
  {
   "cell_type": "code",
   "execution_count": 59,
   "id": "64bb6e0e-21b3-4642-86d6-e17d26a04ae4",
   "metadata": {},
   "outputs": [
    {
     "name": "stdout",
     "output_type": "stream",
     "text": [
      "안녕하세요.\n"
     ]
    }
   ],
   "source": [
    "class Person:\n",
    "    def __init__(self):\n",
    "        self.hello = \"안녕하세요.\"\n",
    "        \n",
    "    def greeting(self):\n",
    "        print(self.hello)\n",
    "        \n",
    "james = Person()\n",
    "james.greeting()"
   ]
  },
  {
   "cell_type": "code",
   "execution_count": 60,
   "id": "1da54714-a5f0-4417-8b20-1a4091f62c88",
   "metadata": {},
   "outputs": [],
   "source": [
    "class Student:\n",
    "    def __init__(self):\n",
    "        self.hello = \"안녕하세요.\"\n",
    "        \n",
    "    def greeting(self):\n",
    "        print(self.hello)"
   ]
  },
  {
   "cell_type": "code",
   "execution_count": 61,
   "id": "07891628-fae3-44da-9910-536172fe9d17",
   "metadata": {},
   "outputs": [],
   "source": [
    "# stu_a와 stu_b는 독립적으로 존재\n",
    "stu_a = Student() # 클래스로부터 인스턴스 초기화\n",
    "stu_b = Student() # 클래스로부터 인스턴스 초기화"
   ]
  },
  {
   "cell_type": "code",
   "execution_count": 62,
   "id": "f1435d3c-5549-418f-bd67-1c54705318a9",
   "metadata": {},
   "outputs": [],
   "source": [
    "stu_a.hello = \"안녕하세요.\""
   ]
  },
  {
   "cell_type": "code",
   "execution_count": 63,
   "id": "c235c6b2-6887-49f2-80fd-7f77629a97d4",
   "metadata": {},
   "outputs": [
    {
     "name": "stdout",
     "output_type": "stream",
     "text": [
      "안녕하세요.\n"
     ]
    }
   ],
   "source": [
    "stu_a.greeting()"
   ]
  },
  {
   "cell_type": "code",
   "execution_count": 64,
   "id": "8a621b12-3971-4d5a-bf82-8712718764b5",
   "metadata": {},
   "outputs": [
    {
     "name": "stdout",
     "output_type": "stream",
     "text": [
      "안녕하세요.\n"
     ]
    }
   ],
   "source": [
    "stu_b.greeting()"
   ]
  },
  {
   "cell_type": "code",
   "execution_count": 65,
   "id": "14fa9767-29d4-48de-91a4-a07c74fb46da",
   "metadata": {},
   "outputs": [],
   "source": [
    "stu_a.name = \"학생A\""
   ]
  },
  {
   "cell_type": "code",
   "execution_count": 66,
   "id": "5d1cf80d-b525-4c31-920c-335885565603",
   "metadata": {},
   "outputs": [
    {
     "name": "stdout",
     "output_type": "stream",
     "text": [
      "학생A\n"
     ]
    }
   ],
   "source": [
    "print(stu_a.name)"
   ]
  },
  {
   "cell_type": "code",
   "execution_count": 67,
   "id": "b7c608e4-a3b7-46bb-8f11-b1d4c769e96a",
   "metadata": {},
   "outputs": [],
   "source": [
    "class Person:\n",
    "    def __init__(self, name, age):\n",
    "        self.name = name\n",
    "        self.age = age"
   ]
  },
  {
   "cell_type": "code",
   "execution_count": 68,
   "id": "9017d6a7-49bb-4c71-8aa7-8e86bfe3a1dc",
   "metadata": {},
   "outputs": [],
   "source": [
    "p1 = Person(\"name1\",40)\n",
    "p2 = Person(\"name2\",32)"
   ]
  },
  {
   "cell_type": "code",
   "execution_count": 69,
   "id": "338f0a09-7330-46d5-a812-58c924d73e55",
   "metadata": {},
   "outputs": [
    {
     "data": {
      "text/plain": [
       "{'name': 'name1', 'age': 40}"
      ]
     },
     "execution_count": 69,
     "metadata": {},
     "output_type": "execute_result"
    }
   ],
   "source": [
    "p1.__dict__ "
   ]
  },
  {
   "cell_type": "code",
   "execution_count": 70,
   "id": "91d1b3a4-e6bf-450e-8d80-1d233dd84bf8",
   "metadata": {},
   "outputs": [
    {
     "data": {
      "text/plain": [
       "{'name': 'name2', 'age': 32}"
      ]
     },
     "execution_count": 70,
     "metadata": {},
     "output_type": "execute_result"
    }
   ],
   "source": [
    "p2.__dict__"
   ]
  },
  {
   "cell_type": "code",
   "execution_count": 71,
   "id": "4171622a-3f3d-4d32-8708-b0ae013e2529",
   "metadata": {},
   "outputs": [],
   "source": [
    "class Person:\n",
    "    def __init__(self, param1, param2):\n",
    "        self.attr1 = param1\n",
    "        self.attr2 = param2"
   ]
  },
  {
   "cell_type": "code",
   "execution_count": 78,
   "id": "0e180c9a-aaca-41b9-8043-ea41bb55e5eb",
   "metadata": {},
   "outputs": [
    {
     "name": "stdout",
     "output_type": "stream",
     "text": [
      "안녕하세요. 제 이름은 마리아입니다.\n",
      "이름: 마리아\n",
      "이름: 20\n",
      "이름: 서울시 서초구 반포동\n"
     ]
    }
   ],
   "source": [
    "class Person:\n",
    "    def __init__(self, name, age, address):\n",
    "        self.hello = \"안녕하세요.\"\n",
    "        self.name = name\n",
    "        self.age = age\n",
    "        self.address = address\n",
    "        \n",
    "    def greeting(self):\n",
    "        print(f'{self.hello} 제 이름은 {self.name}입니다.')\n",
    "        \n",
    "        \n",
    "maria = Person(\"마리아\", 20, \"서울시 서초구 반포동\")\n",
    "maria.greeting()\n",
    "\n",
    "\n",
    "print(\"이름:\", maria.name)\n",
    "print(\"이름:\", maria.age)\n",
    "print(\"이름:\", maria.address)"
   ]
  },
  {
   "cell_type": "code",
   "execution_count": 87,
   "id": "d0578f89-06c4-4cae-944c-7cf14b5cde8c",
   "metadata": {},
   "outputs": [
    {
     "name": "stdout",
     "output_type": "stream",
     "text": [
      "이름: 마리아\n",
      "나이: 20\n",
      "주소: 서울시 서초구 반포동\n"
     ]
    }
   ],
   "source": [
    "class Person2:\n",
    "    def __init__(self, name, age, address):\n",
    "        self.hello = \"안녕하세요.\"\n",
    "        self.name = name\n",
    "        self.age = age\n",
    "        self.address = address\n",
    "        \n",
    "    def greeting(self):\n",
    "        print(f'{self.hello} 제 이름은 {self.name}입니다.')\n",
    "\n",
    "print(\"이름:\", maria.name)\n",
    "print(\"나이:\", maria.age)\n",
    "print(\"주소:\", maria.address)"
   ]
  },
  {
   "cell_type": "code",
   "execution_count": 85,
   "id": "02c56123-b3c6-4dbd-9234-ae5e04982574",
   "metadata": {},
   "outputs": [
    {
     "name": "stdout",
     "output_type": "stream",
     "text": [
      "안녕하세요. 제 이름은 마리아입니다.\n"
     ]
    }
   ],
   "source": [
    "maria = Person2(\"마리아\", 20, \"서울시 서초구 반포동\")\n",
    "maria.greeting()"
   ]
  },
  {
   "cell_type": "code",
   "execution_count": 86,
   "id": "5f4c415c-8006-402c-a5f6-dd9c028ee711",
   "metadata": {},
   "outputs": [
    {
     "data": {
      "text/plain": [
       "{'hello': '안녕하세요.', 'name': '마리아', 'age': 20, 'address': '서울시 서초구 반포동'}"
      ]
     },
     "execution_count": 86,
     "metadata": {},
     "output_type": "execute_result"
    }
   ],
   "source": [
    "maria.__dict__"
   ]
  },
  {
   "cell_type": "markdown",
   "id": "7e370e3f-2109-43be-9d9e-177730ce8998",
   "metadata": {
    "jp-MarkdownHeadingCollapsed": true,
    "tags": []
   },
   "source": [
    "#### 비공개 속성"
   ]
  },
  {
   "cell_type": "code",
   "execution_count": 170,
   "id": "6fdb86c3-78ab-4858-9b89-8af4cfb5ce9f",
   "metadata": {},
   "outputs": [],
   "source": [
    "class Person3:\n",
    "    def __init__(self, name, age, address, wallet):\n",
    "        self.hello = \"안녕하세요.\"\n",
    "        self.name = name\n",
    "        self.age = age\n",
    "        self.address = address\n",
    "        self.__wallet = wallet # 변수 앞에 __를 붙여 비공개 속성으로 만듦\n",
    "        \n",
    "    def greeting(self):\n",
    "        print(f\"{self.hello} 제 이름은 {self.name}입니다.\")\n",
    "        \n",
    "    def amount(self):\n",
    "        print(self.__wallet)\n",
    "        \n",
    "    def pay(self, amount):\n",
    "        if self.__wallet < amount:\n",
    "            print(\"돈이 모자랍니다.\")\n",
    "            return\n",
    "        self.__wallet -= amount"
   ]
  },
  {
   "cell_type": "code",
   "execution_count": 171,
   "id": "98bb58c9-adca-4dc7-9c74-f4b04deb9444",
   "metadata": {},
   "outputs": [],
   "source": [
    "ygh = Person3(\"윤규헌\", 26, \"경기도 광명\", 20000)"
   ]
  },
  {
   "cell_type": "code",
   "execution_count": 172,
   "id": "ccb9a886-da2d-490c-b410-66696dab8feb",
   "metadata": {},
   "outputs": [],
   "source": [
    "ygh.pay(10000)"
   ]
  },
  {
   "cell_type": "code",
   "execution_count": 173,
   "id": "5efc44c8-4e3d-4f11-9779-805b87c5196e",
   "metadata": {},
   "outputs": [
    {
     "name": "stdout",
     "output_type": "stream",
     "text": [
      "돈이 모자랍니다.\n"
     ]
    }
   ],
   "source": [
    "ygh.pay(15000)"
   ]
  },
  {
   "cell_type": "code",
   "execution_count": 174,
   "id": "6741b140-3f40-4125-bc97-f1aa96d523f7",
   "metadata": {},
   "outputs": [
    {
     "name": "stdout",
     "output_type": "stream",
     "text": [
      "10000\n"
     ]
    }
   ],
   "source": [
    "ygh.amount()"
   ]
  },
  {
   "cell_type": "code",
   "execution_count": 162,
   "id": "2ff012de-103e-4d58-9e6c-3d40202ab976",
   "metadata": {},
   "outputs": [
    {
     "name": "stdout",
     "output_type": "stream",
     "text": [
      "윤규헌\n"
     ]
    }
   ],
   "source": [
    "print(ygh.name)"
   ]
  },
  {
   "cell_type": "code",
   "execution_count": 163,
   "id": "4aa759cf-b2b5-416f-a2ba-f7ae96eb128f",
   "metadata": {},
   "outputs": [
    {
     "name": "stdout",
     "output_type": "stream",
     "text": [
      "26\n"
     ]
    }
   ],
   "source": [
    "print(ygh.age)"
   ]
  },
  {
   "cell_type": "code",
   "execution_count": 164,
   "id": "a08e30cd-f00f-4585-87b1-4fb63ab2e980",
   "metadata": {},
   "outputs": [
    {
     "name": "stdout",
     "output_type": "stream",
     "text": [
      "경기도 광명\n"
     ]
    }
   ],
   "source": [
    "print(ygh.address)"
   ]
  },
  {
   "cell_type": "code",
   "execution_count": 133,
   "id": "4fc781ed-f083-489c-a0c3-b73c4c0f06e3",
   "metadata": {},
   "outputs": [
    {
     "ename": "AttributeError",
     "evalue": "'Person3' object has no attribute 'wallet'",
     "output_type": "error",
     "traceback": [
      "\u001b[1;31m---------------------------------------------------------------------------\u001b[0m",
      "\u001b[1;31mAttributeError\u001b[0m                            Traceback (most recent call last)",
      "\u001b[1;32m~\\AppData\\Local\\Temp\\ipykernel_9208\\2328945870.py\u001b[0m in \u001b[0;36m<module>\u001b[1;34m\u001b[0m\n\u001b[1;32m----> 1\u001b[1;33m \u001b[0mprint\u001b[0m\u001b[1;33m(\u001b[0m\u001b[0mygh\u001b[0m\u001b[1;33m.\u001b[0m\u001b[0mwallet\u001b[0m\u001b[1;33m)\u001b[0m\u001b[1;33m\u001b[0m\u001b[1;33m\u001b[0m\u001b[0m\n\u001b[0m",
      "\u001b[1;31mAttributeError\u001b[0m: 'Person3' object has no attribute 'wallet'"
     ]
    }
   ],
   "source": [
    "print(ygh.wallet)"
   ]
  },
  {
   "cell_type": "code",
   "execution_count": 176,
   "id": "f735e763-139d-4cb4-a17f-261baa263eed",
   "metadata": {},
   "outputs": [
    {
     "ename": "NameError",
     "evalue": "name 'maria_wallet' is not defined",
     "output_type": "error",
     "traceback": [
      "\u001b[1;31m---------------------------------------------------------------------------\u001b[0m",
      "\u001b[1;31mNameError\u001b[0m                                 Traceback (most recent call last)",
      "\u001b[1;32m~\\AppData\\Local\\Temp\\ipykernel_9208\\1423943299.py\u001b[0m in \u001b[0;36m<module>\u001b[1;34m\u001b[0m\n\u001b[0;32m      7\u001b[0m \u001b[1;33m\u001b[0m\u001b[0m\n\u001b[0;32m      8\u001b[0m \u001b[0mmaria\u001b[0m \u001b[1;33m=\u001b[0m \u001b[0mPerson4\u001b[0m\u001b[1;33m(\u001b[0m\u001b[1;34m\"마리아\"\u001b[0m\u001b[1;33m,\u001b[0m \u001b[1;36m20\u001b[0m\u001b[1;33m,\u001b[0m \u001b[1;34m\"서울시 서초구 반포동\"\u001b[0m\u001b[1;33m,\u001b[0m \u001b[1;36m10000\u001b[0m\u001b[1;33m)\u001b[0m\u001b[1;33m\u001b[0m\u001b[1;33m\u001b[0m\u001b[0m\n\u001b[1;32m----> 9\u001b[1;33m \u001b[0mmaria_wallet\u001b[0m \u001b[1;33m-=\u001b[0m \u001b[1;36m10000\u001b[0m \u001b[1;31m# 클래스 바깥에서 비공개 속성에 접근하면 에러 발생\u001b[0m\u001b[1;33m\u001b[0m\u001b[1;33m\u001b[0m\u001b[0m\n\u001b[0m",
      "\u001b[1;31mNameError\u001b[0m: name 'maria_wallet' is not defined"
     ]
    }
   ],
   "source": [
    "class Person4:\n",
    "    def __init__(self, name, age, address, wallet):\n",
    "        self.name = name\n",
    "        self.age = age\n",
    "        self.address = address\n",
    "        self.__wallet = wallet # 변수 앞에 __를 붙여서 비공개 속성으로 만듦\n",
    "\n",
    "maria = Person4(\"마리아\", 20, \"서울시 서초구 반포동\", 10000)\n",
    "maria_wallet -= 10000 # 클래스 바깥에서 비공개 속성에 접근하면 에러 발생"
   ]
  },
  {
   "cell_type": "code",
   "execution_count": 151,
   "id": "bb548fb2-e4e9-4156-94f3-ede6d57c785a",
   "metadata": {},
   "outputs": [],
   "source": [
    "class Person3:\n",
    "    def __init__(self, name, age, address, wallet):\n",
    "        self.hello = \"안녕하세요.\"\n",
    "        self.name = name\n",
    "        self.age = age\n",
    "        self.address = address\n",
    "        self.__wallet = wallet # 변수 앞에 __를 붙여 비공개 속성으로 만듦\n",
    "        \n",
    "    def greeting(self):\n",
    "        print(f\"{self.hello} 제 이름은 {self.name}입니다.\")\n",
    "        \n",
    "    def amount(self):\n",
    "        print(self.__wallet)\n",
    "        \n",
    "    def pay(self, amount):\n",
    "        if self.__wallet < amount:\n",
    "            print(\"돈이 모자랍니다.\")\n",
    "            return\n",
    "        self.__wallet -= amount"
   ]
  },
  {
   "cell_type": "markdown",
   "id": "fce75e6c-706d-480e-8cee-8303ef64f0ae",
   "metadata": {
    "jp-MarkdownHeadingCollapsed": true,
    "tags": []
   },
   "source": [
    "#### 연습문제"
   ]
  },
  {
   "cell_type": "code",
   "execution_count": 115,
   "id": "0f9d1217-5e98-44a6-b831-368af567abdb",
   "metadata": {},
   "outputs": [
    {
     "name": "stdin",
     "output_type": "stream",
     "text": [
      "이름은 무엇인가요?: 마리아\n",
      "나이는 무엇인가요?: 20\n",
      "주소는 무엇인가요?: 서울시 강남구\n",
      "이름은 무엇인가요?: 제임스\n",
      "나이는 무엇인가요?: 21\n",
      "주소는 무엇인가요?: 서울시 구로구\n"
     ]
    },
    {
     "name": "stdout",
     "output_type": "stream",
     "text": [
      "첫번째 이름: 마리아\n",
      "첫번째 나이: 20\n",
      "첫번째 주소: 서울시 강남구\n",
      "두번째 이름: 제임스\n",
      "두번째 나이: 21\n",
      "두번째 주소: 서울시 구로구\n"
     ]
    }
   ],
   "source": [
    "class Person3:\n",
    "    def __init__(self, name, age, address):\n",
    "        self.hello = \"안녕하세요.\"\n",
    "        self.name = name\n",
    "        self.age = age\n",
    "        self.address = address\n",
    "        \n",
    "\n",
    "maria = Person3(input(\"이름은 무엇인가요?:\"),input(\"나이는 무엇인가요?:\"),input(\"주소는 무엇인가요?:\"))\n",
    "james = Person3(input(\"이름은 무엇인가요?:\"),input(\"나이는 무엇인가요?:\"),input(\"주소는 무엇인가요?:\"))\n",
    "\n",
    "print(\"첫번째 이름:\", maria.name)\n",
    "print(\"첫번째 나이:\", maria.age)\n",
    "print(\"첫번째 주소:\", maria.address)\n",
    "print(\"두번째 이름:\", james.name)\n",
    "print(\"두번째 나이:\", james.age)\n",
    "print(\"두번째 주소:\", james.address)"
   ]
  },
  {
   "cell_type": "code",
   "execution_count": 196,
   "id": "ac02d11c-f0a7-4e58-901a-2963dd267a70",
   "metadata": {},
   "outputs": [
    {
     "name": "stdin",
     "output_type": "stream",
     "text": [
      "체력,마나,AP를 입력하세요. 511.68 334.0 298\n"
     ]
    },
    {
     "name": "stdout",
     "output_type": "stream",
     "text": [
      "티버: 피해량 593.7\n"
     ]
    }
   ],
   "source": [
    "class Annie:\n",
    "    def __init__(self, HP, MP, AP):\n",
    "        self.HP = HP\n",
    "        self.MP = MP\n",
    "        self.AP = AP\n",
    "    \n",
    "    def tibbers(self):\n",
    "        damage = self.AP * 0.65 + 400\n",
    "        print(f'티버: 피해량 {damage}')\n",
    "        \n",
    "HP,MP,AP = map(float,input(\"체력,마나,AP를 입력하세요.\").split(\" \"))\n",
    "annie = Annie(HP,MP,AP)\n",
    "annie.tibbers()"
   ]
  },
  {
   "cell_type": "code",
   "execution_count": null,
   "id": "572fcdd8-6c09-4666-ad36-f807a7aebd8c",
   "metadata": {},
   "outputs": [],
   "source": []
  }
 ],
 "metadata": {
  "kernelspec": {
   "display_name": "Python 3 (ipykernel)",
   "language": "python",
   "name": "python3"
  },
  "language_info": {
   "codemirror_mode": {
    "name": "ipython",
    "version": 3
   },
   "file_extension": ".py",
   "mimetype": "text/x-python",
   "name": "python",
   "nbconvert_exporter": "python",
   "pygments_lexer": "ipython3",
   "version": "3.9.13"
  }
 },
 "nbformat": 4,
 "nbformat_minor": 5
}
