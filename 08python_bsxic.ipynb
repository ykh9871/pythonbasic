{
 "cells": [
  {
   "cell_type": "markdown",
   "id": "e07b5ac6-a8c8-4edd-8a1a-56170436b352",
   "metadata": {
    "jp-MarkdownHeadingCollapsed": true,
    "tags": []
   },
   "source": [
    "## def"
   ]
  },
  {
   "cell_type": "markdown",
   "id": "07f1577e-d833-442b-ae01-0a5501822612",
   "metadata": {
    "jp-MarkdownHeadingCollapsed": true,
    "tags": []
   },
   "source": [
    "#### 기본"
   ]
  },
  {
   "cell_type": "code",
   "execution_count": 631,
   "id": "c31d522b-b5fc-463a-b05d-2e9ab9232bb1",
   "metadata": {},
   "outputs": [],
   "source": [
    "def function_name(message):\n",
    "    x = input(message)\n",
    "    print(x)\n",
    "    print(x)"
   ]
  },
  {
   "cell_type": "code",
   "execution_count": 131,
   "id": "444d7917-2b66-4ae1-9ce7-67d458c7f631",
   "metadata": {},
   "outputs": [
    {
     "name": "stdin",
     "output_type": "stream",
     "text": [
      "값을 입력해주세요 1\n"
     ]
    },
    {
     "name": "stdout",
     "output_type": "stream",
     "text": [
      "1\n",
      "1\n"
     ]
    }
   ],
   "source": [
    "function_name(\"값을 입력해주세요\")"
   ]
  },
  {
   "cell_type": "code",
   "execution_count": 132,
   "id": "6e56c04e-2f53-49fe-9592-d18b3baa99a3",
   "metadata": {},
   "outputs": [],
   "source": [
    "# 함수 정의절\n",
    "def function_name(positional, positional2, *args, keyword = 1, **kargs):\n",
    "    pass # body"
   ]
  },
  {
   "cell_type": "code",
   "execution_count": 133,
   "id": "ed35cdfc-7b6b-4a25-9521-094f2072bf85",
   "metadata": {},
   "outputs": [],
   "source": [
    "def isPrime(num):\n",
    "    pass    "
   ]
  },
  {
   "cell_type": "code",
   "execution_count": 354,
   "id": "16c1bfa4-1060-4daf-a0a0-c5cbf5792b1b",
   "metadata": {},
   "outputs": [],
   "source": [
    "def get_grade(score):\n",
    "    \"\"\"\n",
    "    숫자로된 점수를 넣으시면 학점의 결과를 반환합니다.\n",
    "    \"\"\"\n",
    "    if 85 <= score <= 100:\n",
    "        return \"A\"\n",
    "    elif 70 <= score <= 84:\n",
    "        return \"B\"\n",
    "    elif 55 <= score <= 69:\n",
    "        return \"C\"\n",
    "    elif 40 <= score <= 54:\n",
    "        return \"D\"\n",
    "    elif 0 <= score <= 39:\n",
    "        return \"F\""
   ]
  },
  {
   "cell_type": "code",
   "execution_count": 351,
   "id": "b05930c8-26c2-41fe-8a7d-32001e4ea1ba",
   "metadata": {},
   "outputs": [
    {
     "data": {
      "text/plain": [
       "'A'"
      ]
     },
     "execution_count": 351,
     "metadata": {},
     "output_type": "execute_result"
    }
   ],
   "source": [
    "get_grade()"
   ]
  },
  {
   "cell_type": "code",
   "execution_count": 344,
   "id": "384e9b08-5b91-4f61-817c-a28210942e2f",
   "metadata": {},
   "outputs": [
    {
     "name": "stdout",
     "output_type": "stream",
     "text": [
      "\n",
      "    숫자로된 점수를 넣으시면 학점의 결과를 반환합니다.\n",
      "    \n"
     ]
    }
   ],
   "source": [
    "print(get_grade.__doc__)"
   ]
  },
  {
   "cell_type": "code",
   "execution_count": 335,
   "id": "fa18e391-24d6-41ba-90cd-93051b8a13a5",
   "metadata": {},
   "outputs": [
    {
     "name": "stdout",
     "output_type": "stream",
     "text": [
      "A\n"
     ]
    }
   ],
   "source": [
    "result = get_grade(100) # \"A\"\n",
    "print(result)"
   ]
  },
  {
   "cell_type": "code",
   "execution_count": 341,
   "id": "f29d90ad-cc50-4179-958a-71505c4187fe",
   "metadata": {},
   "outputs": [
    {
     "name": "stdout",
     "output_type": "stream",
     "text": [
      "[70, 81, 85, 14, 11, 73, 80, 50, 19, 28, 53, 25, 6, 57, 2, 90, 21, 28, 75, 96]\n"
     ]
    }
   ],
   "source": [
    "import random\n",
    "# 20명의 점수를 입력했다.\n",
    "scores = [random.randint(1,100) for _ in range(20)]\n",
    "print(scores)"
   ]
  },
  {
   "cell_type": "code",
   "execution_count": 342,
   "id": "7163a105-f572-4632-a92c-82d414b8e43e",
   "metadata": {},
   "outputs": [
    {
     "name": "stdout",
     "output_type": "stream",
     "text": [
      "['B', 'B', 'A', 'F', 'F', 'B', 'B', 'D', 'F', 'F', 'D', 'F', 'F', 'C', 'F', 'A', 'F', 'F', 'B', 'A']\n"
     ]
    }
   ],
   "source": [
    "grades = list(map(get_grade, scores))\n",
    "print(grades)"
   ]
  },
  {
   "cell_type": "code",
   "execution_count": 391,
   "id": "d0c7c381-a741-4b4a-a48f-af14a8646f86",
   "metadata": {},
   "outputs": [],
   "source": [
    "# 함수 정의절\n",
    "# 인자(=매개변수, parameter)\n",
    "def get_grade(score, student_number, name=\"홍길동\"):\n",
    "    \"\"\"\n",
    "    숫자로된 점수를 넣으시면 학점의 결과를 반환합니다.\n",
    "    \"\"\"\n",
    "    print(f'{student_number}, {name}의 성적을 확인합니다.')\n",
    "    if 85 <= score <= 100:\n",
    "        return \"A\"\n",
    "    elif 70 <= score <= 84:\n",
    "        return \"B\"\n",
    "    elif 55 <= score <= 69:\n",
    "        return \"C\"\n",
    "    elif 40 <= score <= 54:\n",
    "        return \"D\"\n",
    "    elif 0 <= score <= 39:\n",
    "        return \"F\""
   ]
  },
  {
   "cell_type": "code",
   "execution_count": 394,
   "id": "b530f708-7b9a-405b-b57b-71040e7d3de2",
   "metadata": {},
   "outputs": [
    {
     "name": "stdout",
     "output_type": "stream",
     "text": [
      "981228_1XXXXXX, 윤규헌의 성적을 확인합니다.\n"
     ]
    },
    {
     "data": {
      "text/plain": [
       "'A'"
      ]
     },
     "execution_count": 394,
     "metadata": {},
     "output_type": "execute_result"
    }
   ],
   "source": [
    "# 함수 호출\n",
    "# 인수(argument)\n",
    "get_grade(score = 100, name=\"윤규헌\", student_number=\"981228_1XXXXXX\")\n",
    "          # positional_argument / keyword_argument"
   ]
  },
  {
   "cell_type": "markdown",
   "id": "9eae1d3c-676d-4c68-ab4f-2e960e0a9235",
   "metadata": {
    "jp-MarkdownHeadingCollapsed": true,
    "tags": []
   },
   "source": [
    "- positional-only : /문자를 기준으로 왼편에 온다."
   ]
  },
  {
   "cell_type": "code",
   "execution_count": null,
   "id": "e7759e4d-de75-447d-982b-e88e9cdeafb7",
   "metadata": {},
   "outputs": [],
   "source": [
    "# 함수 정의절\n",
    "# 인자(=매개변수, parameter) - non-default, default 종류\n",
    "\n",
    "def add_number(number2, number1 = 3, /):\n",
    "    \"\"\"\n",
    "    숫자 number1과 숫자 number2를 전달 받아 더한 결과를 반환합니다.\n",
    "    \"\"\"\n",
    "    return number1 + number2"
   ]
  },
  {
   "cell_type": "code",
   "execution_count": null,
   "id": "55aa4eca-6a7f-4efc-971b-e4695d3cd4a0",
   "metadata": {},
   "outputs": [
    {
     "name": "stdout",
     "output_type": "stream",
     "text": [
      "\n",
      "    숫자 number1과 숫자 number2를 전달 받아 더한 결과를 반환합니다.\n",
      "    \n"
     ]
    }
   ],
   "source": [
    "print(add_number.__doc__)"
   ]
  },
  {
   "cell_type": "code",
   "execution_count": null,
   "id": "973066d1-61f5-4e36-81e8-118dc0e05d49",
   "metadata": {},
   "outputs": [],
   "source": [
    "# 함수 호출\n",
    "# 인수(argument) - positional argument, key word argument\n",
    "result = add_number(2) #소괄호--> call"
   ]
  },
  {
   "cell_type": "code",
   "execution_count": null,
   "id": "42c93965-1322-4875-b525-eb2df6436e8e",
   "metadata": {},
   "outputs": [
    {
     "name": "stdout",
     "output_type": "stream",
     "text": [
      "5\n"
     ]
    }
   ],
   "source": [
    "print(result)"
   ]
  },
  {
   "cell_type": "markdown",
   "id": "ab761929-085a-4970-9f73-e8c7dcb7cb22",
   "metadata": {},
   "source": [
    "- keyword-only : *문자를 기준으로 오른편에 온다."
   ]
  },
  {
   "cell_type": "code",
   "execution_count": null,
   "id": "daa09cac-8683-43be-8c61-d127ffb24ee5",
   "metadata": {},
   "outputs": [],
   "source": [
    "# 함수 정의절\n",
    "# 인자(=매개변수, parameter) - non-default, default 종류\n",
    "\n",
    "def minus_number(*, number1, number2=3):\n",
    "    \"\"\"\n",
    "    숫자 number1과 숫자 number2를 전달 받아 뺀한 결과를 반환합니다.\n",
    "    \"\"\"\n",
    "    return number1 - number2"
   ]
  },
  {
   "cell_type": "code",
   "execution_count": null,
   "id": "70fa87a8-7e21-4864-88dd-aa9a779a863e",
   "metadata": {},
   "outputs": [
    {
     "data": {
      "text/plain": [
       "15"
      ]
     },
     "execution_count": 120,
     "metadata": {},
     "output_type": "execute_result"
    }
   ],
   "source": [
    "# 인수(argument)  \n",
    "# positional argument, key word argument\n",
    "minus_number(number1 = 20, number2 = 5)"
   ]
  },
  {
   "cell_type": "code",
   "execution_count": null,
   "id": "1efb1bb3-1ed7-4cdc-9268-9120dcdcbb17",
   "metadata": {},
   "outputs": [],
   "source": [
    "# 함수 정의절\n",
    "# 인자(=매개변수, parameter) - non-default, default 종류\n",
    "# positional-only : /문자를 기준으로 왼편에 온다.\n",
    "# keyword-only : *문자를 기준으로 오른편에 온다.\n",
    "def multi_number(number1, /, *, number2=3):\n",
    "    \"\"\"\n",
    "    숫자 number1과 숫자 number2를 전달 받아 곱한 결과를 반환합니다.\n",
    "    \"\"\"\n",
    "    return number1 * number2"
   ]
  },
  {
   "cell_type": "code",
   "execution_count": null,
   "id": "ca4e8fd4-02b2-49ec-b499-d43a4141d1f5",
   "metadata": {},
   "outputs": [
    {
     "data": {
      "text/plain": [
       "30"
      ]
     },
     "execution_count": 454,
     "metadata": {},
     "output_type": "execute_result"
    }
   ],
   "source": [
    "multi_number(3, number2 = 10)"
   ]
  },
  {
   "cell_type": "code",
   "execution_count": null,
   "id": "cc9dd82e-051b-4105-bace-356b889f7af3",
   "metadata": {},
   "outputs": [],
   "source": [
    "def string_line(str_value, /, str_len=70, *, sep=\"#\"):\n",
    "    \"\"\"\n",
    "    str_value는 가운데 오는 텍스트입니다.\n",
    "    str_len은 텍스트의 설정할 길이입니다.\n",
    "    sep는 구분선을 그을때 쓰는 문자입니다.\n",
    "    \"\"\"\n",
    "    print(str_value.center(str_len,sep))"
   ]
  },
  {
   "cell_type": "code",
   "execution_count": null,
   "id": "0b29a1ba-e086-4f02-a5ad-58746f6febc7",
   "metadata": {},
   "outputs": [
    {
     "name": "stdout",
     "output_type": "stream",
     "text": [
      "************************구분************************\n"
     ]
    }
   ],
   "source": [
    "string_line(\"구분\", 50, sep=\"*\")"
   ]
  },
  {
   "cell_type": "code",
   "execution_count": null,
   "id": "2721cc00-ddaa-4eaa-a6ef-dc068134e23b",
   "metadata": {},
   "outputs": [
    {
     "data": {
      "text/plain": [
       "50"
      ]
     },
     "execution_count": 460,
     "metadata": {},
     "output_type": "execute_result"
    }
   ],
   "source": [
    "len('************************구분************************')"
   ]
  },
  {
   "cell_type": "code",
   "execution_count": null,
   "id": "6a3db7f2-0aa9-4297-9431-8e086c4b4a0c",
   "metadata": {},
   "outputs": [
    {
     "name": "stdout",
     "output_type": "stream",
     "text": [
      "------------------------------------------------절취선-------------------------------------------------\n"
     ]
    }
   ],
   "source": [
    "string_line(\"절취선\", str_len=100, sep=\"-\")"
   ]
  },
  {
   "cell_type": "code",
   "execution_count": null,
   "id": "575a1f46-7e27-4e9d-931c-5aebb1bd0a5a",
   "metadata": {},
   "outputs": [
    {
     "data": {
      "text/plain": [
       "100"
      ]
     },
     "execution_count": 463,
     "metadata": {},
     "output_type": "execute_result"
    }
   ],
   "source": [
    "len('------------------------------------------------절취선-------------------------------------------------')"
   ]
  },
  {
   "cell_type": "code",
   "execution_count": null,
   "id": "908e21c8-6575-4260-a509-09c5e2308871",
   "metadata": {},
   "outputs": [
    {
     "name": "stdout",
     "output_type": "stream",
     "text": [
      "1 1 1 1 1 1 1 1 1 1 1 1 1 1\n"
     ]
    }
   ],
   "source": [
    "print(\"1\", \"1\", \"1\", \"1\", \"1\", \"1\", \"1\", \"1\", \"1\", \"1\", \"1\", \"1\", \"1\", \"1\", )"
   ]
  },
  {
   "cell_type": "markdown",
   "id": "a23f03e7-feb3-4047-baf8-e69292e44066",
   "metadata": {
    "jp-MarkdownHeadingCollapsed": true,
    "tags": []
   },
   "source": [
    "#### *args: var positional 가변위치"
   ]
  },
  {
   "cell_type": "code",
   "execution_count": null,
   "id": "e796eabe-0903-47f5-a6f5-2eb31ccb152a",
   "metadata": {},
   "outputs": [],
   "source": [
    "def test_func(a,b,c, *args):\n",
    "    print(f'a: {a} b: {b} c: {c}')\n",
    "    print(type(args))\n",
    "    print(args)"
   ]
  },
  {
   "cell_type": "code",
   "execution_count": null,
   "id": "5f010283-fa38-4749-9b05-ea95af575a19",
   "metadata": {},
   "outputs": [
    {
     "name": "stdout",
     "output_type": "stream",
     "text": [
      "a: a 위치입니다 b: b 위치입니다 c: c 위치입니다\n",
      "<class 'tuple'>\n",
      "('여기는', '어디일까요', '몇개', '더')\n"
     ]
    }
   ],
   "source": [
    "test_func(\"a 위치입니다\", \"b 위치입니다\", \"c 위치입니다\", \"여기는\", \"어디일까요\", \"몇개\", \"더\")"
   ]
  },
  {
   "cell_type": "markdown",
   "id": "306e4941-c119-43e0-80b6-3c89fd64a929",
   "metadata": {
    "tags": []
   },
   "source": [
    "#### **kargs: var keyword 가변 키워드"
   ]
  },
  {
   "cell_type": "code",
   "execution_count": null,
   "id": "cb299514-fdf9-4baa-8071-e096086cb64a",
   "metadata": {},
   "outputs": [],
   "source": [
    "def test_func2(a=\"a\",b=\"b\", **kargs):\n",
    "    print(a,b)\n",
    "    print(type(kargs))\n",
    "    print(kargs)"
   ]
  },
  {
   "cell_type": "code",
   "execution_count": null,
   "id": "d1cf16b0-edfc-4950-97c4-ad9da7e22d14",
   "metadata": {},
   "outputs": [
    {
     "name": "stdout",
     "output_type": "stream",
     "text": [
      "ab bc\n",
      "<class 'dict'>\n",
      "{'key': 'value', 'key2': 'value2'}\n"
     ]
    }
   ],
   "source": [
    "test_func2(a=\"ab\", b=\"bc\", key=\"value\", key2=\"value2\")"
   ]
  },
  {
   "cell_type": "markdown",
   "id": "ca2018ba-fbd4-4974-aaae-6aee7bd730b0",
   "metadata": {
    "tags": []
   },
   "source": [
    "### 함수 정의"
   ]
  },
  {
   "cell_type": "markdown",
   "id": "85f5a06d-83d1-4293-9c32-31a3bc2259a0",
   "metadata": {
    "tags": []
   },
   "source": [
    "#### 기본"
   ]
  },
  {
   "cell_type": "code",
   "execution_count": null,
   "id": "37d52d07-a3c3-4005-aa28-326dbf0ccf1a",
   "metadata": {},
   "outputs": [],
   "source": [
    "def greeting(name, age):\n",
    "    print(f\"{name} 씨 안녕하세요. 약 {age * 365.25} 일 되었습니다.\")"
   ]
  },
  {
   "cell_type": "code",
   "execution_count": null,
   "id": "0da6b530-904f-4694-be72-df5d5e0f9bb8",
   "metadata": {},
   "outputs": [
    {
     "name": "stdout",
     "output_type": "stream",
     "text": [
      "파이썬 씨 안녕하세요. 약 11688.0 일 되었습니다.\n"
     ]
    }
   ],
   "source": [
    "greeting(\"파이썬\", 32)"
   ]
  },
  {
   "cell_type": "code",
   "execution_count": null,
   "id": "37b9d31e-c7f9-41df-8546-e9f59611594f",
   "metadata": {},
   "outputs": [
    {
     "name": "stdout",
     "output_type": "stream",
     "text": [
      "파이썬 씨 안녕하세요. 약 11688.0 일 되었습니다.\n"
     ]
    }
   ],
   "source": [
    "greeting(age = 32, name=\"파이썬\")"
   ]
  },
  {
   "cell_type": "code",
   "execution_count": null,
   "id": "dae61d6e-5bb6-40cd-a5fd-7843d9c586fa",
   "metadata": {},
   "outputs": [],
   "source": [
    "def greeting(name, age=32):\n",
    "    print(f\"{name} 씨 안녕하세요. 약 {age * 365.25} 일 되었습니다.\")"
   ]
  },
  {
   "cell_type": "code",
   "execution_count": null,
   "id": "6a0df53d-38ac-45d4-9f6b-07b1dc39a1ee",
   "metadata": {},
   "outputs": [],
   "source": [
    "def posonly(posonly, /):\n",
    "    print(posonly)"
   ]
  },
  {
   "cell_type": "code",
   "execution_count": null,
   "id": "c748aaa5-7aee-4b6c-9bd9-c9e060c99698",
   "metadata": {},
   "outputs": [
    {
     "ename": "TypeError",
     "evalue": "posonly() got some positional-only arguments passed as keyword arguments: 'posonly'",
     "output_type": "error",
     "traceback": [
      "\u001b[1;31m---------------------------------------------------------------------------\u001b[0m",
      "\u001b[1;31mTypeError\u001b[0m                                 Traceback (most recent call last)",
      "\u001b[1;32m~\\AppData\\Local\\Temp\\ipykernel_12272\\2837618757.py\u001b[0m in \u001b[0;36m<module>\u001b[1;34m\u001b[0m\n\u001b[1;32m----> 1\u001b[1;33m \u001b[0mposonly\u001b[0m\u001b[1;33m(\u001b[0m\u001b[0mposonly\u001b[0m\u001b[1;33m=\u001b[0m\u001b[1;34m\"키워드인수로 전달하면 오류 발생!\"\u001b[0m\u001b[1;33m)\u001b[0m\u001b[1;33m\u001b[0m\u001b[1;33m\u001b[0m\u001b[0m\n\u001b[0m",
      "\u001b[1;31mTypeError\u001b[0m: posonly() got some positional-only arguments passed as keyword arguments: 'posonly'"
     ]
    }
   ],
   "source": [
    "posonly(posonly=\"키워드인수로 전달하면 오류 발생!\")"
   ]
  },
  {
   "cell_type": "code",
   "execution_count": null,
   "id": "6a6e683c-2d23-4659-a09e-6fb333508cc7",
   "metadata": {},
   "outputs": [],
   "source": [
    "def keyonly(*, keyonly=\"default\"):\n",
    "    print(keyonly)"
   ]
  },
  {
   "cell_type": "code",
   "execution_count": null,
   "id": "156307e2-0666-435e-82a8-7a996df11ed2",
   "metadata": {},
   "outputs": [
    {
     "name": "stdout",
     "output_type": "stream",
     "text": [
      "키워드로만 입력해야 합니다.\n"
     ]
    }
   ],
   "source": [
    "keyonly(keyonly=\"키워드로만 입력해야 합니다.\")"
   ]
  },
  {
   "cell_type": "code",
   "execution_count": null,
   "id": "95ceea3b-0c07-4248-9a69-18a5c14199b7",
   "metadata": {},
   "outputs": [
    {
     "ename": "TypeError",
     "evalue": "keyonly() takes 0 positional arguments but 1 was given",
     "output_type": "error",
     "traceback": [
      "\u001b[1;31m---------------------------------------------------------------------------\u001b[0m",
      "\u001b[1;31mTypeError\u001b[0m                                 Traceback (most recent call last)",
      "\u001b[1;32m~\\AppData\\Local\\Temp\\ipykernel_12272\\2852538585.py\u001b[0m in \u001b[0;36m<module>\u001b[1;34m\u001b[0m\n\u001b[1;32m----> 1\u001b[1;33m \u001b[0mkeyonly\u001b[0m\u001b[1;33m(\u001b[0m\u001b[1;34m\"키워드로만 입력해야 합니다.\"\u001b[0m\u001b[1;33m)\u001b[0m\u001b[1;33m\u001b[0m\u001b[1;33m\u001b[0m\u001b[0m\n\u001b[0m",
      "\u001b[1;31mTypeError\u001b[0m: keyonly() takes 0 positional arguments but 1 was given"
     ]
    }
   ],
   "source": [
    "keyonly(\"키워드로만 입력해야 합니다.\")"
   ]
  },
  {
   "cell_type": "code",
   "execution_count": null,
   "id": "909e8206-abdc-4216-a230-4c64801fa3e9",
   "metadata": {},
   "outputs": [],
   "source": [
    "def var_positional(*args):\n",
    "    print(type(args))\n",
    "    return sum([_ for _ in args])"
   ]
  },
  {
   "cell_type": "code",
   "execution_count": null,
   "id": "97267cdc-f3af-4ca9-b634-b9265b281104",
   "metadata": {},
   "outputs": [
    {
     "name": "stdout",
     "output_type": "stream",
     "text": [
      "<class 'tuple'>\n",
      "0\n"
     ]
    }
   ],
   "source": [
    "print(var_positional())"
   ]
  },
  {
   "cell_type": "code",
   "execution_count": null,
   "id": "acaa0767-edcb-41f9-8433-33b3f79c9f8f",
   "metadata": {},
   "outputs": [],
   "source": [
    "def var_keyword(**kargs):\n",
    "    print(type(kargs))\n",
    "    return kargs"
   ]
  },
  {
   "cell_type": "code",
   "execution_count": null,
   "id": "f7d209ec-d911-4d6c-adfe-64ce3d421a29",
   "metadata": {},
   "outputs": [
    {
     "name": "stdout",
     "output_type": "stream",
     "text": [
      "<class 'dict'>\n",
      "{}\n"
     ]
    }
   ],
   "source": [
    "print(var_keyword())"
   ]
  },
  {
   "cell_type": "code",
   "execution_count": null,
   "id": "098892eb-8982-4a3b-9a37-5a76fef06d1a",
   "metadata": {},
   "outputs": [],
   "source": [
    "def plus_ten(num):\n",
    "    return (num+10)"
   ]
  },
  {
   "cell_type": "code",
   "execution_count": null,
   "id": "2c16b255-3a4f-4c35-992a-77d91e5b6c16",
   "metadata": {},
   "outputs": [
    {
     "data": {
      "text/plain": [
       "80"
      ]
     },
     "execution_count": 530,
     "metadata": {},
     "output_type": "execute_result"
    }
   ],
   "source": [
    "plus_ten(70)"
   ]
  },
  {
   "cell_type": "markdown",
   "id": "f61e262d-9316-4370-aece-d866d4b6a99b",
   "metadata": {
    "tags": []
   },
   "source": [
    "##### 함수 정의절 --> 만듦\n",
    "- 인자(매개변수, parameter)\n",
    "- non-default parameter -> \"값\", \"값2\", \"값3\"\n",
    "- default parameter -> key = \"value\", key2 = \"value2\", ... "
   ]
  },
  {
   "cell_type": "code",
   "execution_count": null,
   "id": "13625468-1dbc-4f28-95ae-a5f8d888fa1d",
   "metadata": {},
   "outputs": [],
   "source": [
    " def function_name(param1, param2, /, poskey, poskey2, *, keyonly1, keyonly2):\n",
    "    \"\"\"Docs\"\"\"\n",
    "    pass"
   ]
  },
  {
   "cell_type": "markdown",
   "id": "c35dcfb1-4023-4477-ad62-d6ff0ebf9cfe",
   "metadata": {
    "tags": []
   },
   "source": [
    "##### 함수 호출 --> 사용\n",
    "인수(argument)  \n",
    "positional -only -> \"값\", \"값2\", \"값3\"  \n",
    "keyword-only -> key = \"value\", key2 = \"value2\", ...  "
   ]
  },
  {
   "cell_type": "code",
   "execution_count": null,
   "id": "52f88b52-df1e-43aa-898f-c945f72ceecb",
   "metadata": {},
   "outputs": [],
   "source": [
    "function_name(\"posonly\", \"po\", \"value\", \n",
    "              poskey2 = \"value\",keyonly1 = \"value\",\n",
    "              keyonly2 = \"value\")"
   ]
  },
  {
   "cell_type": "markdown",
   "id": "77b87354-ad9a-4409-82f3-ab99fe6f8fb3",
   "metadata": {
    "tags": []
   },
   "source": [
    "#### ARGmentS"
   ]
  },
  {
   "cell_type": "code",
   "execution_count": null,
   "id": "cdd3be84-43e2-4f7d-a736-94890aab582b",
   "metadata": {},
   "outputs": [],
   "source": [
    "def function_name2(param1, param2, *args):\n",
    "    print(param1)\n",
    "    print(param2)\n",
    "    for arg in args:\n",
    "        print(arg)\n",
    "    print(type(args))"
   ]
  },
  {
   "cell_type": "code",
   "execution_count": null,
   "id": "6453eb88-40af-45b2-9d10-d1ed3a248dfc",
   "metadata": {},
   "outputs": [
    {
     "name": "stdout",
     "output_type": "stream",
     "text": [
      "args\n",
      "는\n",
      "가변 위치\n",
      "인수입니다.\n",
      "<class 'tuple'>\n"
     ]
    }
   ],
   "source": [
    "function_name2(\"args\", \"는\", \"가변 위치\", \"인수입니다.\")"
   ]
  },
  {
   "cell_type": "markdown",
   "id": "831bad25-b2ab-481c-883f-5f3f186b02bd",
   "metadata": {
    "tags": []
   },
   "source": [
    "#### unpacking\n",
    "- 시퀀스 자료형의 개수만큼 좌측에 변수 맞춰줘서 한번 할당"
   ]
  },
  {
   "cell_type": "code",
   "execution_count": null,
   "id": "69309f65-9983-4317-b09b-c2aa739eee0b",
   "metadata": {},
   "outputs": [
    {
     "name": "stdout",
     "output_type": "stream",
     "text": [
      "0 1 2 3\n"
     ]
    }
   ],
   "source": [
    "a, b, c, d = [_ for _ in range(4)]\n",
    "print(a, b, c, d)"
   ]
  },
  {
   "cell_type": "markdown",
   "id": "a0121938-09c8-4411-9c78-94a53f58d9ad",
   "metadata": {
    "tags": []
   },
   "source": [
    "#### 가변 키워드 인자 Keyword ARGmentS"
   ]
  },
  {
   "cell_type": "code",
   "execution_count": null,
   "id": "1053b762-9270-417b-abff-8286c9323cff",
   "metadata": {},
   "outputs": [],
   "source": [
    "def function_name3(key, key2, **kargs):\n",
    "    print(key)\n",
    "    print(key2)\n",
    "    print(type(kargs))\n",
    "    print(kargs)\n",
    "    print(kargs[\"key3\"])"
   ]
  },
  {
   "cell_type": "code",
   "execution_count": null,
   "id": "08f2cb68-c6c7-408a-bd54-c615b390846e",
   "metadata": {},
   "outputs": [
    {
     "name": "stdout",
     "output_type": "stream",
     "text": [
      "value\n",
      "value2\n",
      "<class 'dict'>\n",
      "{'key3': 'value3'}\n",
      "value3\n"
     ]
    }
   ],
   "source": [
    "#함수 호출\n",
    "function_name3(key=\"value\", key2=\"value2\", key3=\"value3\")"
   ]
  },
  {
   "cell_type": "code",
   "execution_count": null,
   "id": "796db32e-28a1-4c12-9b33-1700d694cf4f",
   "metadata": {},
   "outputs": [],
   "source": [
    "def function_name4(param1, param2, param3=\"default\"):\n",
    "    pass"
   ]
  },
  {
   "cell_type": "markdown",
   "id": "fb4f66d5-133f-4b56-b8a0-ebaeb8121ddb",
   "metadata": {
    "tags": []
   },
   "source": [
    "### 연습문제"
   ]
  },
  {
   "cell_type": "code",
   "execution_count": null,
   "id": "abdb8552-4744-4640-9a45-329a9b77bc36",
   "metadata": {},
   "outputs": [],
   "source": [
    "def to_celsius(fahrenhit):\n",
    "    return (fahrenhit-32) * 5/9"
   ]
  },
  {
   "cell_type": "code",
   "execution_count": null,
   "id": "469bcae4-e596-46bc-8580-3e752eb76ebb",
   "metadata": {},
   "outputs": [
    {
     "name": "stdout",
     "output_type": "stream",
     "text": [
      "21.11111111111111\n"
     ]
    }
   ],
   "source": [
    "print(to_celsius(70))"
   ]
  },
  {
   "cell_type": "code",
   "execution_count": null,
   "id": "a7b91e0c-fa2d-4fcd-afe9-e71c2b1358cb",
   "metadata": {},
   "outputs": [],
   "source": [
    "def odd_even(number):\n",
    "    \"\"\"number가 짝수면 \"짝수\", 홀수면 \"홀수\" 반환\"\"\"\n",
    "    if type(number) is int and number > 0:\n",
    "        return \"짝수\" * (number % 2 == 0) or \"홀수\"\n",
    "    else:\n",
    "        return"
   ]
  },
  {
   "cell_type": "code",
   "execution_count": null,
   "id": "333a67c6-d70c-43ac-bd3d-3818b7739788",
   "metadata": {},
   "outputs": [],
   "source": [
    "def odd_even(_):\n",
    "    \"\"\"number가 짝수면 \"짝수\", 홀수면 \"홀수\" 반환\"\"\"\n",
    "    if int != type(_) or _ < 1:\n",
    "        return\n",
    "    else:\n",
    "        if _ % 2 == 0:\n",
    "            return \"짝수\"\n",
    "        else:\n",
    "            return \"홀수\""
   ]
  },
  {
   "cell_type": "code",
   "execution_count": null,
   "id": "23c67b99-9675-4a8b-95bd-7394eda6d165",
   "metadata": {},
   "outputs": [
    {
     "name": "stdout",
     "output_type": "stream",
     "text": [
      "number가 짝수면 \"짝수\", 홀수면 \"홀수\" 반환\n",
      "짝수\n",
      "홀수\n",
      "None\n",
      "None\n"
     ]
    }
   ],
   "source": [
    "print(odd_even.__doc__)\n",
    "print(odd_even(10))\n",
    "print(odd_even(9))\n",
    "print(odd_even(-1))\n",
    "print(odd_even(\"가\"))"
   ]
  },
  {
   "cell_type": "code",
   "execution_count": null,
   "id": "4bdece43-dab4-45de-8afd-879750a090fb",
   "metadata": {},
   "outputs": [],
   "source": [
    "def check_leap_year(year):\n",
    "    if year % 4 == 0:\n",
    "        return \"평년\" *(year % 100 == 0 and year % 400 != 0) or \"윤년\"\n",
    "    else:\n",
    "        return \"평년\""
   ]
  },
  {
   "cell_type": "code",
   "execution_count": null,
   "id": "d9d58511-ad1d-492a-8995-824ee9bfcf0f",
   "metadata": {},
   "outputs": [
    {
     "data": {
      "text/plain": [
       "'평년'"
      ]
     },
     "execution_count": 608,
     "metadata": {},
     "output_type": "execute_result"
    }
   ],
   "source": [
    "check_leap_year(3)"
   ]
  },
  {
   "cell_type": "code",
   "execution_count": null,
   "id": "d02ec016-3b80-44d2-8327-e34878f2b670",
   "metadata": {},
   "outputs": [
    {
     "name": "stdout",
     "output_type": "stream",
     "text": [
      "평년\n",
      "평년\n",
      "윤년\n",
      "윤년\n",
      "윤년\n"
     ]
    }
   ],
   "source": [
    "print(check_leap_year(3))\n",
    "print(check_leap_year(1900))\n",
    "print(check_leap_year(4))\n",
    "print(check_leap_year(2000))\n",
    "print(check_leap_year(2004))"
   ]
  },
  {
   "cell_type": "code",
   "execution_count": null,
   "id": "1a8345db-1065-4dd1-bdf6-73d71d9bffff",
   "metadata": {},
   "outputs": [],
   "source": [
    "def days(month):\n",
    "    if month == 2:\n",
    "        return 28\n",
    "    else:\n",
    "        return 30*(month == 4 or month == 6 or month == 9or month == 11) or 31     "
   ]
  },
  {
   "cell_type": "code",
   "execution_count": null,
   "id": "fe88b2e7-da79-41e5-9d43-63d321001382",
   "metadata": {},
   "outputs": [
    {
     "data": {
      "text/plain": [
       "31"
      ]
     },
     "execution_count": 566,
     "metadata": {},
     "output_type": "execute_result"
    }
   ],
   "source": [
    "days(10)"
   ]
  },
  {
   "cell_type": "code",
   "execution_count": null,
   "id": "addde1ca-9349-4355-9e60-9c1abc99e746",
   "metadata": {},
   "outputs": [],
   "source": [
    "def dayss(month):\n",
    "    if month in (1,3,5,7,8,10,12):\n",
    "        return 31\n",
    "    elif month in (4,6,9,11):\n",
    "        return 30\n",
    "    else:\n",
    "        return 28"
   ]
  },
  {
   "cell_type": "code",
   "execution_count": null,
   "id": "cf1d4db8-2f8c-48e9-ac41-68b9c54ed7e0",
   "metadata": {},
   "outputs": [
    {
     "data": {
      "text/plain": [
       "28"
      ]
     },
     "execution_count": 555,
     "metadata": {},
     "output_type": "execute_result"
    }
   ],
   "source": [
    "dayss(2)"
   ]
  },
  {
   "cell_type": "code",
   "execution_count": null,
   "id": "2ce809b6-ce3f-47c5-86f2-1c48e8dd027a",
   "metadata": {},
   "outputs": [],
   "source": [
    "def Days(year, month):\n",
    "    if month in (1,3,5,7,8,10,12):\n",
    "        return 31\n",
    "    elif month in (4,6,9,11):\n",
    "        return 30\n",
    "    else:\n",
    "        if year % 4 == 0:\n",
    "            return 28 *(year % 100 == 0 and year % 400 != 0) or 29\n",
    "        else:\n",
    "            return 28"
   ]
  },
  {
   "cell_type": "code",
   "execution_count": null,
   "id": "4abef37e-8e72-486c-accf-c30104a5dbca",
   "metadata": {},
   "outputs": [
    {
     "name": "stdout",
     "output_type": "stream",
     "text": [
      "30\n",
      "31\n",
      "28\n",
      "29\n"
     ]
    }
   ],
   "source": [
    "print(Days(1900,11))\n",
    "print(Days(2004,10))\n",
    "print(Days(1900,2))\n",
    "print(Days(2000,2))"
   ]
  },
  {
   "cell_type": "code",
   "execution_count": null,
   "id": "15311306-4928-40dd-80f9-c0567725a25f",
   "metadata": {},
   "outputs": [
    {
     "name": "stdout",
     "output_type": "stream",
     "text": [
      "몫: 3, 나머지: 1\n"
     ]
    }
   ],
   "source": [
    "x = 10\n",
    "y = 3\n",
    "def get_quotient_remainder(x,y):\n",
    "    return x//y, x%y\n",
    "quitient, remainder = get_quotient_remainder(x,y)\n",
    "print(f'몫: {quitient}, 나머지: {remainder}')"
   ]
  },
  {
   "cell_type": "markdown",
   "id": "a182384c-a9a7-4cf5-9aa6-f41d97661469",
   "metadata": {
    "jp-MarkdownHeadingCollapsed": true,
    "tags": []
   },
   "source": [
    "## 변수의 범위"
   ]
  },
  {
   "cell_type": "markdown",
   "id": "1632b2a7-8218-4a26-b28b-133bf945d9aa",
   "metadata": {
    "tags": []
   },
   "source": [
    "#### 전역 변수"
   ]
  },
  {
   "cell_type": "code",
   "execution_count": null,
   "id": "a9357f40-200d-4554-a517-10b1a6d1330c",
   "metadata": {},
   "outputs": [
    {
     "name": "stdout",
     "output_type": "stream",
     "text": [
      "global_variable in global scope=> This is global world.\n",
      "0x2763200a1c0\n",
      "global_variable in global scope=> This is global world.\n",
      "0x2763200a1c0\n"
     ]
    }
   ],
   "source": [
    "global_variable = \"This is global world.\"\n",
    "\n",
    "print(f'global_variable in global scope=> {global_variable}')\n",
    "print(hex(id(global_variable)))\n",
    "\n",
    "def local_world():\n",
    "    print(f'global_variable in global scope=> {global_variable}')\n",
    "    print(hex(id(global_variable)))\n",
    "    \n",
    "local_world()"
   ]
  },
  {
   "cell_type": "markdown",
   "id": "cc66efd1-6496-4710-9b9a-6dc38d66f1df",
   "metadata": {
    "tags": []
   },
   "source": [
    "#### 지역변수"
   ]
  },
  {
   "cell_type": "code",
   "execution_count": null,
   "id": "9f151561-cc8d-4a45-8272-b484e53ae3f1",
   "metadata": {},
   "outputs": [
    {
     "ename": "NameError",
     "evalue": "name 'my_variable' is not defined",
     "output_type": "error",
     "traceback": [
      "\u001b[1;31m---------------------------------------------------------------------------\u001b[0m",
      "\u001b[1;31mNameError\u001b[0m                                 Traceback (most recent call last)",
      "\u001b[1;32m~\\AppData\\Local\\Temp\\ipykernel_12552\\3526018838.py\u001b[0m in \u001b[0;36m<module>\u001b[1;34m\u001b[0m\n\u001b[0;32m      2\u001b[0m     \u001b[0mmy_variable\u001b[0m \u001b[1;33m=\u001b[0m \u001b[1;34m\"This is my little world.\"\u001b[0m\u001b[1;33m\u001b[0m\u001b[1;33m\u001b[0m\u001b[0m\n\u001b[0;32m      3\u001b[0m \u001b[1;33m\u001b[0m\u001b[0m\n\u001b[1;32m----> 4\u001b[1;33m \u001b[0mprint\u001b[0m\u001b[1;33m(\u001b[0m\u001b[0mmy_variable\u001b[0m\u001b[1;33m)\u001b[0m\u001b[1;33m\u001b[0m\u001b[1;33m\u001b[0m\u001b[0m\n\u001b[0m",
      "\u001b[1;31mNameError\u001b[0m: name 'my_variable' is not defined"
     ]
    }
   ],
   "source": [
    "def my_little_world():\n",
    "    my_variable = \"This is my little world.\"\n",
    "\n",
    "print(my_variable)"
   ]
  },
  {
   "cell_type": "markdown",
   "id": "dae1da8d-1237-4f84-8cec-14a900d374b2",
   "metadata": {
    "tags": []
   },
   "source": [
    "#### 지역 범위에서 전역 변수 할당하기"
   ]
  },
  {
   "cell_type": "code",
   "execution_count": null,
   "id": "aa107423-2caf-4225-b3b2-561daf41f8d7",
   "metadata": {},
   "outputs": [
    {
     "name": "stdout",
     "output_type": "stream",
     "text": [
      "중요한 것은 꺾이지 않는 마음\n"
     ]
    }
   ],
   "source": [
    "important_is_an_unbroken_herat = \"중요한 것은 꺾이지 않는 마음\"\n",
    "\n",
    "def trials_and_tribulations():\n",
    "    important_is_an_unbroken_herat = \"흔들흔들\"\n",
    "    \n",
    "trials_and_tribulations()\n",
    "print(important_is_an_unbroken_herat)"
   ]
  },
  {
   "cell_type": "code",
   "execution_count": null,
   "id": "6ba9d2d8-4dd8-4641-bef6-e6e73a60f727",
   "metadata": {},
   "outputs": [
    {
     "name": "stdout",
     "output_type": "stream",
     "text": [
      "global 키워드 활용해서 변경 완료\n"
     ]
    }
   ],
   "source": [
    "global_variable = \"변경이 됩니까?\"\n",
    "\n",
    "def hertbreaker():\n",
    "    global global_variable\n",
    "    global_variable = \"global 키워드 활용해서 변경 완료\"\n",
    "\n",
    "hertbreaker()\n",
    "print(global_variable)"
   ]
  },
  {
   "cell_type": "markdown",
   "id": "fb93b66e-6dd4-4133-aacf-7e70f2e3f824",
   "metadata": {
    "tags": []
   },
   "source": [
    "#### 함수 바디에 함수를 중첩해서 만들기"
   ]
  },
  {
   "cell_type": "code",
   "execution_count": null,
   "id": "1f9b2796-2b1f-4879-be7d-8ba829fa269f",
   "metadata": {},
   "outputs": [],
   "source": [
    "def level1():\n",
    "    message = \"This is level 1.\"\n",
    "    def level2():\n",
    "        print(message)\n",
    "    level2()"
   ]
  },
  {
   "cell_type": "code",
   "execution_count": null,
   "id": "013574cf-5ca8-4217-9ec8-e809fa5e6101",
   "metadata": {},
   "outputs": [
    {
     "name": "stdout",
     "output_type": "stream",
     "text": [
      "This is level 1.\n"
     ]
    }
   ],
   "source": [
    "level1()"
   ]
  },
  {
   "cell_type": "markdown",
   "id": "c06cd328-169e-4fba-92f1-8292ceac966d",
   "metadata": {
    "tags": []
   },
   "source": [
    "#### 안쪽 함수에서 바깥쪽 함수의 변수 변경해 보기"
   ]
  },
  {
   "cell_type": "code",
   "execution_count": null,
   "id": "270bd85a-3e72-452b-abb3-10b5bec180ad",
   "metadata": {},
   "outputs": [],
   "source": [
    "def level1():\n",
    "    message = \"This is level 1.\"\n",
    "    def level2():\n",
    "        message = \"level2 is better than level1.\"\n",
    "    level2()\n",
    "    print(message)"
   ]
  },
  {
   "cell_type": "code",
   "execution_count": null,
   "id": "6087609b-dc15-49b8-a37d-33bdccb3b16b",
   "metadata": {},
   "outputs": [
    {
     "name": "stdout",
     "output_type": "stream",
     "text": [
      "This is level 1.\n"
     ]
    }
   ],
   "source": [
    "level1()"
   ]
  },
  {
   "cell_type": "code",
   "execution_count": null,
   "id": "83b1ec0e-4907-4a85-97b4-fa89acb991a8",
   "metadata": {},
   "outputs": [],
   "source": [
    "def level1():\n",
    "    message = \"This is level 1.\"\n",
    "    def level2():\n",
    "        nonlocal message\n",
    "        message = \"level2 is better than level1.\"\n",
    "    level2()\n",
    "    print(message)"
   ]
  },
  {
   "cell_type": "code",
   "execution_count": null,
   "id": "419f6ce5-a295-43c2-98d2-282f7afbd764",
   "metadata": {},
   "outputs": [
    {
     "name": "stdout",
     "output_type": "stream",
     "text": [
      "level2 is better than level1.\n"
     ]
    }
   ],
   "source": [
    "level1()"
   ]
  },
  {
   "cell_type": "markdown",
   "id": "ec489e6b-5a1f-4a81-a626-c7e8a31da35e",
   "metadata": {
    "jp-MarkdownHeadingCollapsed": true,
    "tags": []
   },
   "source": [
    "#### global, nonlocal 특징과 권고사항  \n",
    "- global 키워드는 함수의 중첩된 정도와 상관없이 전역 범위의 변수를 매칭합니다.  \n",
    "- 중첩된 함수마다  같은 이름의 변수가 있다면 nonlocal 키워드는 제일 가까운 바깥 변수를 매칭합니다.  \n",
    "- 가급적이면 함수마다 이름이 같은 변수를 사용하기보단 다른 변수명을 사용하는게 좋습니다."
   ]
  },
  {
   "cell_type": "markdown",
   "id": "9194fc65-4f5a-492c-bab4-9d76c36ea916",
   "metadata": {
    "tags": []
   },
   "source": [
    "#### 변수 범위 정리\n",
    "- 함수 안에서 선언한 변수는 함수를 호출해 실행되는 동안만 사용할 수 있습니다.  \n",
    "- 범위마다 간은 이름의 변수를 사용해도 각각 독립적으로 동작합니다.  \n",
    "- 지역 변수(local variable)를 저장하는 이름 공간을 지역 영역(local scope)라고 합니다.  \n",
    "- 전역 변수(global variable)를 저장하는 이름 공간을 전역 영역(global scope)라고 합니다.  \n",
    "- 파이썬 자체에서 정의한 이름 공간을 내장 영역(built-in scope)이라고 합니다.  \n",
    "- 함수에서 변수를 호출하면 지역 영역 → 전역 영역 → 내장 영역 순으로 해당하는 변수를 확인 합니다."
   ]
  },
  {
   "cell_type": "markdown",
   "id": "cbd9b2f8-a33e-4d5c-966c-2ff014bae15f",
   "metadata": {
    "tags": []
   },
   "source": [
    "#### 정리"
   ]
  },
  {
   "cell_type": "code",
   "execution_count": 646,
   "id": "d0f21412-5984-4378-b408-bae804518332",
   "metadata": {},
   "outputs": [
    {
     "name": "stdout",
     "output_type": "stream",
     "text": [
      "전역 변수입니다.\n"
     ]
    }
   ],
   "source": [
    "# 지역 범위(local scope) 전역 변수(global variable)에 접근 출력(변경 않음)\n",
    "\n",
    "global_v = \"전역 변수입니다.\"\n",
    "\n",
    "def local_scope():\n",
    "    print(global_v)\n",
    "    \n",
    "local_scope()"
   ]
  },
  {
   "cell_type": "code",
   "execution_count": 647,
   "id": "555f8de2-c2fd-4f61-b5f0-23fa64cef48c",
   "metadata": {},
   "outputs": [
    {
     "name": "stdout",
     "output_type": "stream",
     "text": [
      "전역 변수입니다.\n"
     ]
    }
   ],
   "source": [
    "# 지역 범위(local scope) 전역 변수(global variable)에 접근 후 재할당\n",
    "global_v2 = \"전역 변수입니다.\"\n",
    "\n",
    "\n",
    "def local_scope2():\n",
    "    global_v2 = \"지역 범위 입니다.\"\n",
    "\n",
    "local_scope2()\n",
    "print(global_v2)\n",
    "#사실은 전역 범위에서 global_v2를 만들어 할당한 것과\n",
    "# 로컬 범위에서 global_v2를 만들어 할당한 것\n",
    "# 두 가지 일을 각각 독립적으로 실행한 결과를 확인했디."
   ]
  },
  {
   "cell_type": "code",
   "execution_count": 648,
   "id": "f6b10f43-e455-49a0-b67b-aa193c75f142",
   "metadata": {},
   "outputs": [
    {
     "name": "stdout",
     "output_type": "stream",
     "text": [
      "지역 범위에서 변경입니다.\n"
     ]
    }
   ],
   "source": [
    "# 지역 범위(local scope) 전역 변수(global variable)에 접근 후 재할당\n",
    "global_v3 = \"전역 변수입니다.\"\n",
    "\n",
    "\n",
    "def local_scope3(): \n",
    "    global global_v3 # 전역 범위에 있는 전역 변수인 global_v3를 사용하겠다.\n",
    "    global_v3 = \"지역 범위에서 변경입니다.\"\n",
    "\n",
    "local_scope3()\n",
    "print(global_v3)\n",
    "\n",
    "# global 키워드를 활용하면 지역 범위에 있어도\n",
    "# 전역 변수에 대한 변경이 가능하도록 할 수 있다."
   ]
  },
  {
   "cell_type": "code",
   "execution_count": 649,
   "id": "601f6766-af25-480b-a9ff-8aa50511f33c",
   "metadata": {},
   "outputs": [
    {
     "ename": "NameError",
     "evalue": "name 'global_v4' is not defined",
     "output_type": "error",
     "traceback": [
      "\u001b[1;31m---------------------------------------------------------------------------\u001b[0m",
      "\u001b[1;31mNameError\u001b[0m                                 Traceback (most recent call last)",
      "\u001b[1;32m~\\AppData\\Local\\Temp\\ipykernel_12552\\3810053574.py\u001b[0m in \u001b[0;36m<module>\u001b[1;34m\u001b[0m\n\u001b[0;32m      7\u001b[0m     \u001b[0mlocal_scope5\u001b[0m\u001b[1;33m(\u001b[0m\u001b[1;33m)\u001b[0m\u001b[1;33m\u001b[0m\u001b[1;33m\u001b[0m\u001b[0m\n\u001b[0;32m      8\u001b[0m \u001b[1;33m\u001b[0m\u001b[0m\n\u001b[1;32m----> 9\u001b[1;33m \u001b[0mprint\u001b[0m\u001b[1;33m(\u001b[0m\u001b[0mglobal_v4\u001b[0m\u001b[1;33m)\u001b[0m\u001b[1;33m\u001b[0m\u001b[1;33m\u001b[0m\u001b[0m\n\u001b[0m\u001b[0;32m     10\u001b[0m \u001b[1;31m# 지역 범위 안에 있는 지역 변수는 그 함수 실행과 반환 사이동안 만 살아있었다.\u001b[0m\u001b[1;33m\u001b[0m\u001b[1;33m\u001b[0m\u001b[0m\n\u001b[0;32m     11\u001b[0m \u001b[1;33m\u001b[0m\u001b[0m\n",
      "\u001b[1;31mNameError\u001b[0m: name 'global_v4' is not defined"
     ]
    }
   ],
   "source": [
    "# 지역 범위(local scope) 안에 지역 범위가 중첩되어 있을 경우\n",
    "# 비교적 바깥에 있는 지역 범위의 지역 변수에 접근하여 출력\n",
    "def local_scope4(): \n",
    "    global_v4 = \"바깥 지역 범위입니다.\"\n",
    "    def local_scope5():\n",
    "        print(global_v4)\n",
    "    local_scope5()\n",
    "    \n",
    "print(global_v4)\n",
    "# 지역 범위 안에 있는 지역 변수는 그 함수 실행과 반환 사이동안 만 살아있었다.    \n",
    "\n",
    "local_scope4()"
   ]
  },
  {
   "cell_type": "code",
   "execution_count": 650,
   "id": "f7e665af-678a-4428-8292-6de8f4f7973f",
   "metadata": {},
   "outputs": [
    {
     "name": "stdout",
     "output_type": "stream",
     "text": [
      "바깥 지역 범위입니다.\n"
     ]
    }
   ],
   "source": [
    "# 지역 범위(local scope) 안에 지역 범위가 중첩되어 있을 경우\n",
    "# 비교적 바깥에 있는 지역 범위의 지역 변수에 접근하여 출력\n",
    "def local_scope6(): \n",
    "    global_v5 = \"바깥 지역 범위입니다.\" # 더 넒은 범위의 로컬 변수로 선언\n",
    "    def local_scope7():\n",
    "        global_v5 = \"안쪽 지역 범위입니다.\" # 더 좁은 범위의 로컬 변수로 선언\n",
    "    local_scope7()\n",
    "    print(global_v5)\n",
    "    \n",
    "\n",
    "local_scope6()\n",
    "\n",
    "# 그래서 local_scope6 범위의 global_v5는\n",
    "# local_scope7 번위의 global_v5와 각각 독립적으로 생성이 된 것을 봤다."
   ]
  },
  {
   "cell_type": "code",
   "execution_count": 645,
   "id": "8e71ef75-267a-4636-bafe-d114feb70a03",
   "metadata": {},
   "outputs": [
    {
     "name": "stdout",
     "output_type": "stream",
     "text": [
      "안쪽 지역 범위입니다.\n"
     ]
    }
   ],
   "source": [
    "# 지역 범위(local scope) 안에 지역 범위가 중첩되어 있을 경우\n",
    "# 비교적 바깥에 있는 지역 범위의 지역 변수에 접근하여 출력\n",
    "def local_scope8(): \n",
    "    global_v6 = \"바깥 지역 범위입니다.\"\n",
    "    def local_scope9():\n",
    "        # 현 영역(지금의 로컬 영역 바깥의 변수 global_v6를 찾아서 그 변수를 사용하겠다.)\n",
    "        nonlocal global_v6 \n",
    "        global_v6 = \"안쪽 지역 범위입니다.\"\n",
    "    local_scope9()\n",
    "    print(global_v6)\n",
    "    \n",
    "\n",
    "local_scope8()"
   ]
  },
  {
   "cell_type": "markdown",
   "id": "09c4499a-02f7-4e36-9cae-131bb87114f1",
   "metadata": {
    "tags": []
   },
   "source": [
    "## 람다(Lambda)\n",
    "```python\n",
    "lambda [parameters]:expresion\n",
    "```"
   ]
  },
  {
   "cell_type": "markdown",
   "id": "4069d4c4-06c1-4be9-8eb7-adddb9ac335a",
   "metadata": {
    "tags": []
   },
   "source": [
    "#### 기본"
   ]
  },
  {
   "cell_type": "code",
   "execution_count": 655,
   "id": "3a2acf62-0c7e-4f43-b354-ddeadda04de8",
   "metadata": {},
   "outputs": [
    {
     "data": {
      "text/plain": [
       "20"
      ]
     },
     "execution_count": 655,
     "metadata": {},
     "output_type": "execute_result"
    }
   ],
   "source": [
    "(lambda x:x + 10)(10)"
   ]
  },
  {
   "cell_type": "code",
   "execution_count": 656,
   "id": "830b4420-eaf0-4f4c-8520-a7ef80df3d10",
   "metadata": {},
   "outputs": [
    {
     "name": "stdout",
     "output_type": "stream",
     "text": [
      "20\n"
     ]
    }
   ],
   "source": [
    "twice = lambda x: x*2\n",
    "print(twice(10))"
   ]
  },
  {
   "cell_type": "code",
   "execution_count": 658,
   "id": "40b347e6-6d22-483e-9161-0aa9b4671e68",
   "metadata": {},
   "outputs": [
    {
     "ename": "SyntaxError",
     "evalue": "invalid syntax (3127090284.py, line 1)",
     "output_type": "error",
     "traceback": [
      "\u001b[1;36m  File \u001b[1;32m\"C:\\Users\\Playdata\\AppData\\Local\\Temp\\ipykernel_12552\\3127090284.py\"\u001b[1;36m, line \u001b[1;32m1\u001b[0m\n\u001b[1;33m    (lambda x: y=10; x + y)(1) #명령어 하나만 사용하여야 한다.\u001b[0m\n\u001b[1;37m                ^\u001b[0m\n\u001b[1;31mSyntaxError\u001b[0m\u001b[1;31m:\u001b[0m invalid syntax\n"
     ]
    }
   ],
   "source": [
    "(lambda x: y=10; x + y)(1) #명령어 하나만 사용하여야 한다."
   ]
  },
  {
   "cell_type": "markdown",
   "id": "33e038e6-143f-4169-9dc2-7908b7176d31",
   "metadata": {
    "tags": []
   },
   "source": [
    "#### 조건표현식(conditional Expression), inline if else\n",
    "- True일때 값  if 조건식 else  False일때 값"
   ]
  },
  {
   "cell_type": "code",
   "execution_count": 659,
   "id": "6a4e2dc4-d0ec-4a9c-b323-906a4414c6e0",
   "metadata": {},
   "outputs": [
    {
     "data": {
      "text/plain": [
       "'B'"
      ]
     },
     "execution_count": 659,
     "metadata": {},
     "output_type": "execute_result"
    }
   ],
   "source": [
    "score = 90\n",
    "'A' if 90<score<=100 else 'B' if 80<score else 'C'\n"
   ]
  },
  {
   "cell_type": "markdown",
   "id": "5f999190-4d81-4d76-937e-599aa502bc62",
   "metadata": {
    "tags": []
   },
   "source": [
    "#### 람다(Lambda) feat. map()\n",
    "- map(lambda parameter1, parameter2,...: expression,, iterable1, iterable2,...)"
   ]
  },
  {
   "cell_type": "code",
   "execution_count": 669,
   "id": "11668136-772b-4d10-8b18-ac26f061ea44",
   "metadata": {},
   "outputs": [
    {
     "name": "stdout",
     "output_type": "stream",
     "text": [
      "[2, 8, 18, 32, 50]\n"
     ]
    }
   ],
   "source": [
    "a = [_ for _ in range(1,6)]\n",
    "b = [_ for _ in range(2, 11, 2)]\n",
    "print(list(map(lambda x, y: x * y, a, b)))"
   ]
  },
  {
   "cell_type": "code",
   "execution_count": 670,
   "id": "6171e04e-c6f7-495f-83d9-059bf4650b5b",
   "metadata": {},
   "outputs": [
    {
     "name": "stdout",
     "output_type": "stream",
     "text": [
      "[0, 4, 12, 24, 40]\n"
     ]
    },
    {
     "data": {
      "text/plain": [
       "100"
      ]
     },
     "execution_count": 670,
     "metadata": {},
     "output_type": "execute_result"
    }
   ],
   "source": [
    "a = [_ for _ in range(5)]\n",
    "b = [_ for _ in range(2, 11, 2)]\n",
    "\n",
    "c = (list(map(lambda x, y: x * y, a, b)))\n",
    "\n",
    "print(c)\n",
    "\n",
    "((lambda x : x ** 2)(10))"
   ]
  },
  {
   "cell_type": "markdown",
   "id": "08c3bfda-702a-493f-b873-6596c4673bdc",
   "metadata": {
    "tags": []
   },
   "source": [
    "#### 람다(Lambda) feat. filter()\n",
    "- map(lambda parameter: expression, iterable)"
   ]
  },
  {
   "cell_type": "code",
   "execution_count": 1,
   "id": "d610d89c-1f39-47bc-9ac4-71868d7442cf",
   "metadata": {},
   "outputs": [
    {
     "data": {
      "text/plain": [
       "[3, 9, 9]"
      ]
     },
     "execution_count": 1,
     "metadata": {},
     "output_type": "execute_result"
    }
   ],
   "source": [
    "a = [3, 2, 8, 22, 10, 7, 0, 11, 9, 9]\n",
    "list(filter(lambda x: x % 3 == 0 and 0 < x < 10, a))"
   ]
  }
 ],
 "metadata": {
  "kernelspec": {
   "display_name": "Python 3 (ipykernel)",
   "language": "python",
   "name": "python3"
  },
  "language_info": {
   "codemirror_mode": {
    "name": "ipython",
    "version": 3
   },
   "file_extension": ".py",
   "mimetype": "text/x-python",
   "name": "python",
   "nbconvert_exporter": "python",
   "pygments_lexer": "ipython3",
   "version": "3.9.13"
  }
 },
 "nbformat": 4,
 "nbformat_minor": 5
}
