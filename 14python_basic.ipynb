{
 "cells": [
  {
   "cell_type": "markdown",
   "id": "c7ee6ea1-424c-4070-bc48-b915f4cc3bc5",
   "metadata": {
    "tags": []
   },
   "source": [
    "#### 설정"
   ]
  },
  {
   "cell_type": "code",
   "execution_count": 2,
   "id": "27fe22f7-975b-46c6-8d72-49dbbfffdab9",
   "metadata": {},
   "outputs": [],
   "source": [
    "import pandas as pd\n",
    "import numpy as np\n",
    "import seaborn as sns\n",
    "import matplotlib as mpl\n",
    "import matplotlib.pyplot as plt\n",
    "import matplotlib.font_manager as font_manager\n",
    "from pathlib import Path"
   ]
  },
  {
   "cell_type": "code",
   "execution_count": 3,
   "id": "6d1af301-a35e-44b2-a017-358c016fe225",
   "metadata": {},
   "outputs": [
    {
     "name": "stdout",
     "output_type": "stream",
     "text": [
      "NanumGothic\n",
      "Nanum Pen\n",
      "['Nanum Pen']\n"
     ]
    }
   ],
   "source": [
    "# Add every font at the specified location\n",
    "font_dir = ['C:/python/fonts']\n",
    "for font in font_manager.findSystemFonts(fontpaths=font_dir):\n",
    "    print(mpl.font_manager.FontProperties(fname=font).get_name())\n",
    "    font_manager.fontManager.addfont(font)\n",
    "# Set font family globally\n",
    "mpl.rcParams['font.family'] = 'Nanum Pen'\n",
    "print(mpl.rcParams['font.family'])\n",
    "# 유니코드에서 음수 부호설정\n",
    "mpl.rc('axes', unicode_minus=False)"
   ]
  },
  {
   "cell_type": "code",
   "execution_count": 4,
   "id": "cf7d4560-20dc-4de9-bb1e-7671c3d23405",
   "metadata": {},
   "outputs": [],
   "source": [
    "# 그래프 출력이 안될 시\n",
    "%matplotlib inline"
   ]
  },
  {
   "cell_type": "markdown",
   "id": "35bc3421-51a1-4f41-946f-1100d1596376",
   "metadata": {
    "tags": []
   },
   "source": [
    "## Stack Overflow Annual Developer Survey"
   ]
  },
  {
   "cell_type": "code",
   "execution_count": 5,
   "id": "9ca4fb74-9bdb-4d0d-b449-46aaf4d4366d",
   "metadata": {},
   "outputs": [
    {
     "data": {
      "text/html": [
       "<div>\n",
       "<style scoped>\n",
       "    .dataframe tbody tr th:only-of-type {\n",
       "        vertical-align: middle;\n",
       "    }\n",
       "\n",
       "    .dataframe tbody tr th {\n",
       "        vertical-align: top;\n",
       "    }\n",
       "\n",
       "    .dataframe thead th {\n",
       "        text-align: right;\n",
       "    }\n",
       "</style>\n",
       "<table border=\"1\" class=\"dataframe\">\n",
       "  <thead>\n",
       "    <tr style=\"text-align: right;\">\n",
       "      <th></th>\n",
       "      <th>MainBranch</th>\n",
       "      <th>Employment</th>\n",
       "      <th>RemoteWork</th>\n",
       "      <th>CodingActivities</th>\n",
       "      <th>EdLevel</th>\n",
       "      <th>LearnCode</th>\n",
       "      <th>LearnCodeOnline</th>\n",
       "      <th>LearnCodeCoursesCert</th>\n",
       "      <th>YearsCode</th>\n",
       "      <th>YearsCodePro</th>\n",
       "      <th>...</th>\n",
       "      <th>TimeSearching</th>\n",
       "      <th>TimeAnswering</th>\n",
       "      <th>Onboarding</th>\n",
       "      <th>ProfessionalTech</th>\n",
       "      <th>TrueFalse_1</th>\n",
       "      <th>TrueFalse_2</th>\n",
       "      <th>TrueFalse_3</th>\n",
       "      <th>SurveyLength</th>\n",
       "      <th>SurveyEase</th>\n",
       "      <th>ConvertedCompYearly</th>\n",
       "    </tr>\n",
       "    <tr>\n",
       "      <th>ResponseId</th>\n",
       "      <th></th>\n",
       "      <th></th>\n",
       "      <th></th>\n",
       "      <th></th>\n",
       "      <th></th>\n",
       "      <th></th>\n",
       "      <th></th>\n",
       "      <th></th>\n",
       "      <th></th>\n",
       "      <th></th>\n",
       "      <th></th>\n",
       "      <th></th>\n",
       "      <th></th>\n",
       "      <th></th>\n",
       "      <th></th>\n",
       "      <th></th>\n",
       "      <th></th>\n",
       "      <th></th>\n",
       "      <th></th>\n",
       "      <th></th>\n",
       "      <th></th>\n",
       "    </tr>\n",
       "  </thead>\n",
       "  <tbody>\n",
       "    <tr>\n",
       "      <th>1</th>\n",
       "      <td>None of these</td>\n",
       "      <td>NaN</td>\n",
       "      <td>NaN</td>\n",
       "      <td>NaN</td>\n",
       "      <td>NaN</td>\n",
       "      <td>NaN</td>\n",
       "      <td>NaN</td>\n",
       "      <td>NaN</td>\n",
       "      <td>NaN</td>\n",
       "      <td>NaN</td>\n",
       "      <td>...</td>\n",
       "      <td>NaN</td>\n",
       "      <td>NaN</td>\n",
       "      <td>NaN</td>\n",
       "      <td>NaN</td>\n",
       "      <td>NaN</td>\n",
       "      <td>NaN</td>\n",
       "      <td>NaN</td>\n",
       "      <td>NaN</td>\n",
       "      <td>NaN</td>\n",
       "      <td>NaN</td>\n",
       "    </tr>\n",
       "    <tr>\n",
       "      <th>2</th>\n",
       "      <td>I am a developer by profession</td>\n",
       "      <td>Employed, full-time</td>\n",
       "      <td>Fully remote</td>\n",
       "      <td>Hobby;Contribute to open-source projects</td>\n",
       "      <td>NaN</td>\n",
       "      <td>NaN</td>\n",
       "      <td>NaN</td>\n",
       "      <td>NaN</td>\n",
       "      <td>NaN</td>\n",
       "      <td>NaN</td>\n",
       "      <td>...</td>\n",
       "      <td>NaN</td>\n",
       "      <td>NaN</td>\n",
       "      <td>NaN</td>\n",
       "      <td>NaN</td>\n",
       "      <td>NaN</td>\n",
       "      <td>NaN</td>\n",
       "      <td>NaN</td>\n",
       "      <td>Too long</td>\n",
       "      <td>Difficult</td>\n",
       "      <td>NaN</td>\n",
       "    </tr>\n",
       "  </tbody>\n",
       "</table>\n",
       "<p>2 rows × 78 columns</p>\n",
       "</div>"
      ],
      "text/plain": [
       "                                MainBranch           Employment    RemoteWork  \\\n",
       "ResponseId                                                                      \n",
       "1                            None of these                  NaN           NaN   \n",
       "2           I am a developer by profession  Employed, full-time  Fully remote   \n",
       "\n",
       "                                    CodingActivities EdLevel LearnCode  \\\n",
       "ResponseId                                                               \n",
       "1                                                NaN     NaN       NaN   \n",
       "2           Hobby;Contribute to open-source projects     NaN       NaN   \n",
       "\n",
       "           LearnCodeOnline LearnCodeCoursesCert YearsCode YearsCodePro  ...  \\\n",
       "ResponseId                                                              ...   \n",
       "1                      NaN                  NaN       NaN          NaN  ...   \n",
       "2                      NaN                  NaN       NaN          NaN  ...   \n",
       "\n",
       "           TimeSearching TimeAnswering Onboarding ProfessionalTech  \\\n",
       "ResponseId                                                           \n",
       "1                    NaN           NaN        NaN              NaN   \n",
       "2                    NaN           NaN        NaN              NaN   \n",
       "\n",
       "           TrueFalse_1 TrueFalse_2  TrueFalse_3 SurveyLength SurveyEase  \\\n",
       "ResponseId                                                                \n",
       "1                  NaN         NaN          NaN          NaN        NaN   \n",
       "2                  NaN         NaN          NaN     Too long  Difficult   \n",
       "\n",
       "           ConvertedCompYearly  \n",
       "ResponseId                      \n",
       "1                          NaN  \n",
       "2                          NaN  \n",
       "\n",
       "[2 rows x 78 columns]"
      ]
     },
     "execution_count": 5,
     "metadata": {},
     "output_type": "execute_result"
    }
   ],
   "source": [
    "survey_raw_df = pd.read_csv(\"data/survey_results_public.csv\", index_col=\"ResponseId\")\n",
    "survey_raw_df.head(2)"
   ]
  },
  {
   "cell_type": "code",
   "execution_count": 6,
   "id": "f37e50eb-6dfe-4243-bede-61c55b2b2f5b",
   "metadata": {},
   "outputs": [
    {
     "data": {
      "text/plain": [
       "qname\n",
       "S0             <div><span style=\"font-size:19px;\"><strong>Hel...\n",
       "MetaInfo                                       Browser Meta Info\n",
       "S1             <span style=\"font-size:22px; font-family: aria...\n",
       "MainBranch     Which of the following options best describes ...\n",
       "Employment     Which of the following best describes your cur...\n",
       "                                     ...                        \n",
       "Frequency_2    Interacting with people outside of your immedi...\n",
       "Frequency_3    Encountering knowledge silos (where one indivi...\n",
       "TrueFalse_1    Are you involved in supporting new hires durin...\n",
       "TrueFalse_2    Do you use learning resources provided by your...\n",
       "TrueFalse_3    Does your employer give you time to learn new ...\n",
       "Name: question, Length: 79, dtype: object"
      ]
     },
     "execution_count": 6,
     "metadata": {},
     "output_type": "execute_result"
    }
   ],
   "source": [
    "schema_raw = pd.read_csv(\"data/survey_results_schema.csv\", index_col=\"qname\")[\"question\"]\n",
    "schema_raw"
   ]
  },
  {
   "cell_type": "code",
   "execution_count": 7,
   "id": "59860d20-b5b1-486c-9ba8-c54c264b66f7",
   "metadata": {},
   "outputs": [
    {
     "data": {
      "text/plain": [
       "Index(['MainBranch', 'Employment', 'RemoteWork', 'CodingActivities', 'EdLevel',\n",
       "       'LearnCode', 'LearnCodeOnline', 'LearnCodeCoursesCert', 'YearsCode',\n",
       "       'YearsCodePro', 'DevType', 'OrgSize', 'PurchaseInfluence', 'BuyNewTool',\n",
       "       'Country', 'Currency', 'CompTotal', 'CompFreq',\n",
       "       'LanguageHaveWorkedWith', 'LanguageWantToWorkWith',\n",
       "       'DatabaseHaveWorkedWith', 'DatabaseWantToWorkWith',\n",
       "       'PlatformHaveWorkedWith', 'PlatformWantToWorkWith',\n",
       "       'WebframeHaveWorkedWith', 'WebframeWantToWorkWith',\n",
       "       'MiscTechHaveWorkedWith', 'MiscTechWantToWorkWith',\n",
       "       'ToolsTechHaveWorkedWith', 'ToolsTechWantToWorkWith',\n",
       "       'NEWCollabToolsHaveWorkedWith', 'NEWCollabToolsWantToWorkWith',\n",
       "       'OpSysProfessional use', 'OpSysPersonal use', 'VersionControlSystem',\n",
       "       'VCInteraction', 'VCHostingPersonal use', 'VCHostingProfessional use',\n",
       "       'OfficeStackAsyncHaveWorkedWith', 'OfficeStackAsyncWantToWorkWith',\n",
       "       'OfficeStackSyncHaveWorkedWith', 'OfficeStackSyncWantToWorkWith',\n",
       "       'Blockchain', 'NEWSOSites', 'SOVisitFreq', 'SOAccount', 'SOPartFreq',\n",
       "       'SOComm', 'Age', 'Gender', 'Trans', 'Sexuality', 'Ethnicity',\n",
       "       'Accessibility', 'MentalHealth', 'TBranch', 'ICorPM', 'WorkExp',\n",
       "       'Knowledge_1', 'Knowledge_2', 'Knowledge_3', 'Knowledge_4',\n",
       "       'Knowledge_5', 'Knowledge_6', 'Knowledge_7', 'Frequency_1',\n",
       "       'Frequency_2', 'Frequency_3', 'TimeSearching', 'TimeAnswering',\n",
       "       'Onboarding', 'ProfessionalTech', 'TrueFalse_1', 'TrueFalse_2',\n",
       "       'TrueFalse_3', 'SurveyLength', 'SurveyEase', 'ConvertedCompYearly'],\n",
       "      dtype='object')"
      ]
     },
     "execution_count": 7,
     "metadata": {},
     "output_type": "execute_result"
    }
   ],
   "source": [
    "survey_raw_df.columns"
   ]
  },
  {
   "cell_type": "code",
   "execution_count": 8,
   "id": "3f4d721a-b8d9-4a63-9998-8617e1c844fc",
   "metadata": {},
   "outputs": [
    {
     "data": {
      "text/plain": [
       "Index(['S0', 'MetaInfo', 'S1', 'MainBranch', 'Employment', 'RemoteWork',\n",
       "       'CodingActivities', 'S2', 'EdLevel', 'LearnCode', 'LearnCodeOnline',\n",
       "       'LearnCodeCoursesCert', 'YearsCode', 'YearsCodePro', 'DevType',\n",
       "       'OrgSize', 'PurchaseInfluence', 'BuyNewTool', 'Country', 'Currency',\n",
       "       'CompTotal', 'CompFreq', 'S3', 'Language', 'Database', 'Platform',\n",
       "       'Webframe', 'MiscTech', 'ToolsTech', 'NEWCollabTools', 'OpSys',\n",
       "       'VersionControlSystem', 'VCInteraction', 'VCHosting',\n",
       "       'OfficeStackAsync', 'OfficeStackSync', 'Blockchain', 'S4', 'NEWSOSites',\n",
       "       'SOVisitFreq', 'SOAccount', 'SOPartFreq', 'SOComm', 'S5', 'Age',\n",
       "       'Gender', 'Trans', 'Sexuality', 'Ethnicity', 'Accessibility',\n",
       "       'MentalHealth', 'S6', 'TBranch', 'ICorPM', 'WorkExp', 'Knowledge',\n",
       "       'Frequency', 'TimeSearching', 'TimeAnswering', 'Onboarding',\n",
       "       'ProfessionalTech', 'SOTeamsUsage', 'TrueFalse', 'S7', 'SurveyLength',\n",
       "       'SurveyEase', 'Knowledge_1', 'Knowledge_2', 'Knowledge_3',\n",
       "       'Knowledge_4', 'Knowledge_5', 'Knowledge_6', 'Knowledge_7',\n",
       "       'Frequency_1', 'Frequency_2', 'Frequency_3', 'TrueFalse_1',\n",
       "       'TrueFalse_2', 'TrueFalse_3'],\n",
       "      dtype='object', name='qname')"
      ]
     },
     "execution_count": 8,
     "metadata": {},
     "output_type": "execute_result"
    }
   ],
   "source": [
    "schema_raw.index"
   ]
  },
  {
   "cell_type": "code",
   "execution_count": 9,
   "id": "d1e9e9f9-be80-4476-b2e0-a510b544e3d7",
   "metadata": {},
   "outputs": [
    {
     "data": {
      "text/plain": [
       "'What is your current total compensation (salary, bonuses, and perks, before taxes and deductions)? Please enter a whole number in the box below, without any punctuation.  If you are paid hourly, please estimate an equivalent weekly, monthly, or yearly salary. If you prefer not to answer, please leave the box empty.'"
      ]
     },
     "execution_count": 9,
     "metadata": {},
     "output_type": "execute_result"
    }
   ],
   "source": [
    "schema_raw[\"CompTotal\"]"
   ]
  },
  {
   "cell_type": "code",
   "execution_count": 10,
   "id": "36453cd0-8b45-4443-af5c-92de65ad4447",
   "metadata": {},
   "outputs": [
    {
     "data": {
      "text/plain": [
       "'Is that compensation weekly, monthly, or yearly?'"
      ]
     },
     "execution_count": 10,
     "metadata": {},
     "output_type": "execute_result"
    }
   ],
   "source": [
    "schema_raw[\"CompFreq\"]"
   ]
  },
  {
   "cell_type": "code",
   "execution_count": 11,
   "id": "57c51ee0-16af-4555-acd1-38f1ac189021",
   "metadata": {
    "scrolled": true,
    "tags": []
   },
   "outputs": [
    {
     "name": "stdout",
     "output_type": "stream",
     "text": [
      "<class 'pandas.core.frame.DataFrame'>\n",
      "Int64Index: 73268 entries, 1 to 73268\n",
      "Data columns (total 78 columns):\n",
      " #   Column                          Non-Null Count  Dtype  \n",
      "---  ------                          --------------  -----  \n",
      " 0   MainBranch                      73268 non-null  object \n",
      " 1   Employment                      71709 non-null  object \n",
      " 2   RemoteWork                      58958 non-null  object \n",
      " 3   CodingActivities                58899 non-null  object \n",
      " 4   EdLevel                         71571 non-null  object \n",
      " 5   LearnCode                       71580 non-null  object \n",
      " 6   LearnCodeOnline                 50685 non-null  object \n",
      " 7   LearnCodeCoursesCert            29389 non-null  object \n",
      " 8   YearsCode                       71331 non-null  object \n",
      " 9   YearsCodePro                    51833 non-null  object \n",
      " 10  DevType                         61302 non-null  object \n",
      " 11  OrgSize                         51039 non-null  object \n",
      " 12  PurchaseInfluence               50969 non-null  object \n",
      " 13  BuyNewTool                      67963 non-null  object \n",
      " 14  Country                         71771 non-null  object \n",
      " 15  Currency                        51264 non-null  object \n",
      " 16  CompTotal                       38422 non-null  float64\n",
      " 17  CompFreq                        44425 non-null  object \n",
      " 18  LanguageHaveWorkedWith          70975 non-null  object \n",
      " 19  LanguageWantToWorkWith          67027 non-null  object \n",
      " 20  DatabaseHaveWorkedWith          60121 non-null  object \n",
      " 21  DatabaseWantToWorkWith          51014 non-null  object \n",
      " 22  PlatformHaveWorkedWith          49924 non-null  object \n",
      " 23  PlatformWantToWorkWith          40415 non-null  object \n",
      " 24  WebframeHaveWorkedWith          53544 non-null  object \n",
      " 25  WebframeWantToWorkWith          46122 non-null  object \n",
      " 26  MiscTechHaveWorkedWith          44992 non-null  object \n",
      " 27  MiscTechWantToWorkWith          36810 non-null  object \n",
      " 28  ToolsTechHaveWorkedWith         54171 non-null  object \n",
      " 29  ToolsTechWantToWorkWith         46566 non-null  object \n",
      " 30  NEWCollabToolsHaveWorkedWith    70347 non-null  object \n",
      " 31  NEWCollabToolsWantToWorkWith    64108 non-null  object \n",
      " 32  OpSysProfessional use           65503 non-null  object \n",
      " 33  OpSysPersonal use               70963 non-null  object \n",
      " 34  VersionControlSystem            71379 non-null  object \n",
      " 35  VCInteraction                   68156 non-null  object \n",
      " 36  VCHostingPersonal use           0 non-null      float64\n",
      " 37  VCHostingProfessional use       0 non-null      float64\n",
      " 38  OfficeStackAsyncHaveWorkedWith  46223 non-null  object \n",
      " 39  OfficeStackAsyncWantToWorkWith  32072 non-null  object \n",
      " 40  OfficeStackSyncHaveWorkedWith   62128 non-null  object \n",
      " 41  OfficeStackSyncWantToWorkWith   47688 non-null  object \n",
      " 42  Blockchain                      71071 non-null  object \n",
      " 43  NEWSOSites                      71365 non-null  object \n",
      " 44  SOVisitFreq                     70961 non-null  object \n",
      " 45  SOAccount                       71572 non-null  object \n",
      " 46  SOPartFreq                      58229 non-null  object \n",
      " 47  SOComm                          71408 non-null  object \n",
      " 48  Age                             70946 non-null  object \n",
      " 49  Gender                          70853 non-null  object \n",
      " 50  Trans                           70315 non-null  object \n",
      " 51  Sexuality                       66565 non-null  object \n",
      " 52  Ethnicity                       69474 non-null  object \n",
      " 53  Accessibility                   67244 non-null  object \n",
      " 54  MentalHealth                    66447 non-null  object \n",
      " 55  TBranch                         52670 non-null  object \n",
      " 56  ICorPM                          36283 non-null  object \n",
      " 57  WorkExp                         36769 non-null  float64\n",
      " 58  Knowledge_1                     35804 non-null  object \n",
      " 59  Knowledge_2                     34973 non-null  object \n",
      " 60  Knowledge_3                     35133 non-null  object \n",
      " 61  Knowledge_4                     35097 non-null  object \n",
      " 62  Knowledge_5                     35014 non-null  object \n",
      " 63  Knowledge_6                     34991 non-null  object \n",
      " 64  Knowledge_7                     34977 non-null  object \n",
      " 65  Frequency_1                     35371 non-null  object \n",
      " 66  Frequency_2                     35344 non-null  object \n",
      " 67  Frequency_3                     34515 non-null  object \n",
      " 68  TimeSearching                   36198 non-null  object \n",
      " 69  TimeAnswering                   36022 non-null  object \n",
      " 70  Onboarding                      35679 non-null  object \n",
      " 71  ProfessionalTech                34906 non-null  object \n",
      " 72  TrueFalse_1                     35819 non-null  object \n",
      " 73  TrueFalse_2                     35715 non-null  object \n",
      " 74  TrueFalse_3                     35749 non-null  object \n",
      " 75  SurveyLength                    70444 non-null  object \n",
      " 76  SurveyEase                      70508 non-null  object \n",
      " 77  ConvertedCompYearly             38071 non-null  float64\n",
      "dtypes: float64(5), object(73)\n",
      "memory usage: 44.2+ MB\n"
     ]
    }
   ],
   "source": [
    "survey_raw_df.info()"
   ]
  },
  {
   "cell_type": "code",
   "execution_count": 12,
   "id": "b9bffb36-1021-44d5-9416-ff74449437f8",
   "metadata": {},
   "outputs": [],
   "source": [
    "pd.set_option('display.max_columns', 78)\n",
    "pd.set_option('display.max_rows', 78)"
   ]
  },
  {
   "cell_type": "code",
   "execution_count": 13,
   "id": "95c87479-cc4f-4b2e-b5df-b0d8b5b04c31",
   "metadata": {},
   "outputs": [],
   "source": [
    "selected_columns = [\n",
    "# 인구 통계\n",
    "'Country',\n",
    "'Age',\n",
    "'Gender',\n",
    "'EdLevel',\n",
    "# 프로그래밍 경험\n",
    "'YearsCode',\n",
    "'YearsCodePro',\n",
    "'LanguageHaveWorkedWith',\n",
    "'LanguageWantToWorkWith',\n",
    "'LearnCodeCoursesCert',\n",
    "'ProfessionalTech',\n",
    "'SOAccount',\n",
    "# 고용 관련 정보\n",
    "'Employment',\n",
    "'DevType',\n",
    "'WorkExp',\n",
    "]"
   ]
  },
  {
   "cell_type": "code",
   "execution_count": 14,
   "id": "de82ca95-2775-4184-baa8-b8b070aa3429",
   "metadata": {},
   "outputs": [
    {
     "data": {
      "text/html": [
       "<div>\n",
       "<style scoped>\n",
       "    .dataframe tbody tr th:only-of-type {\n",
       "        vertical-align: middle;\n",
       "    }\n",
       "\n",
       "    .dataframe tbody tr th {\n",
       "        vertical-align: top;\n",
       "    }\n",
       "\n",
       "    .dataframe thead th {\n",
       "        text-align: right;\n",
       "    }\n",
       "</style>\n",
       "<table border=\"1\" class=\"dataframe\">\n",
       "  <thead>\n",
       "    <tr style=\"text-align: right;\">\n",
       "      <th></th>\n",
       "      <th>Country</th>\n",
       "      <th>Age</th>\n",
       "      <th>Gender</th>\n",
       "      <th>EdLevel</th>\n",
       "      <th>YearsCode</th>\n",
       "      <th>YearsCodePro</th>\n",
       "      <th>LanguageHaveWorkedWith</th>\n",
       "      <th>LanguageWantToWorkWith</th>\n",
       "      <th>LearnCodeCoursesCert</th>\n",
       "      <th>ProfessionalTech</th>\n",
       "      <th>SOAccount</th>\n",
       "      <th>Employment</th>\n",
       "      <th>DevType</th>\n",
       "      <th>WorkExp</th>\n",
       "    </tr>\n",
       "    <tr>\n",
       "      <th>ResponseId</th>\n",
       "      <th></th>\n",
       "      <th></th>\n",
       "      <th></th>\n",
       "      <th></th>\n",
       "      <th></th>\n",
       "      <th></th>\n",
       "      <th></th>\n",
       "      <th></th>\n",
       "      <th></th>\n",
       "      <th></th>\n",
       "      <th></th>\n",
       "      <th></th>\n",
       "      <th></th>\n",
       "      <th></th>\n",
       "    </tr>\n",
       "  </thead>\n",
       "  <tbody>\n",
       "    <tr>\n",
       "      <th>1</th>\n",
       "      <td>NaN</td>\n",
       "      <td>NaN</td>\n",
       "      <td>NaN</td>\n",
       "      <td>NaN</td>\n",
       "      <td>NaN</td>\n",
       "      <td>NaN</td>\n",
       "      <td>NaN</td>\n",
       "      <td>NaN</td>\n",
       "      <td>NaN</td>\n",
       "      <td>NaN</td>\n",
       "      <td>NaN</td>\n",
       "      <td>NaN</td>\n",
       "      <td>NaN</td>\n",
       "      <td>NaN</td>\n",
       "    </tr>\n",
       "    <tr>\n",
       "      <th>2</th>\n",
       "      <td>Canada</td>\n",
       "      <td>NaN</td>\n",
       "      <td>NaN</td>\n",
       "      <td>NaN</td>\n",
       "      <td>NaN</td>\n",
       "      <td>NaN</td>\n",
       "      <td>JavaScript;TypeScript</td>\n",
       "      <td>Rust;TypeScript</td>\n",
       "      <td>NaN</td>\n",
       "      <td>NaN</td>\n",
       "      <td>Yes</td>\n",
       "      <td>Employed, full-time</td>\n",
       "      <td>NaN</td>\n",
       "      <td>NaN</td>\n",
       "    </tr>\n",
       "    <tr>\n",
       "      <th>3</th>\n",
       "      <td>United Kingdom of Great Britain and Northern I...</td>\n",
       "      <td>25-34 years old</td>\n",
       "      <td>Man</td>\n",
       "      <td>Master’s degree (M.A., M.S., M.Eng., MBA, etc.)</td>\n",
       "      <td>14</td>\n",
       "      <td>5</td>\n",
       "      <td>C#;C++;HTML/CSS;JavaScript;Python</td>\n",
       "      <td>C#;C++;HTML/CSS;JavaScript;TypeScript</td>\n",
       "      <td>NaN</td>\n",
       "      <td>NaN</td>\n",
       "      <td>Yes</td>\n",
       "      <td>Employed, full-time</td>\n",
       "      <td>Data scientist or machine learning specialist;...</td>\n",
       "      <td>NaN</td>\n",
       "    </tr>\n",
       "    <tr>\n",
       "      <th>4</th>\n",
       "      <td>Israel</td>\n",
       "      <td>35-44 years old</td>\n",
       "      <td>Man</td>\n",
       "      <td>Bachelor’s degree (B.A., B.S., B.Eng., etc.)</td>\n",
       "      <td>20</td>\n",
       "      <td>17</td>\n",
       "      <td>C#;JavaScript;SQL;TypeScript</td>\n",
       "      <td>C#;SQL;TypeScript</td>\n",
       "      <td>NaN</td>\n",
       "      <td>NaN</td>\n",
       "      <td>Yes</td>\n",
       "      <td>Employed, full-time</td>\n",
       "      <td>Developer, full-stack</td>\n",
       "      <td>NaN</td>\n",
       "    </tr>\n",
       "    <tr>\n",
       "      <th>5</th>\n",
       "      <td>United States of America</td>\n",
       "      <td>25-34 years old</td>\n",
       "      <td>NaN</td>\n",
       "      <td>Bachelor’s degree (B.A., B.S., B.Eng., etc.)</td>\n",
       "      <td>8</td>\n",
       "      <td>3</td>\n",
       "      <td>C#;HTML/CSS;JavaScript;SQL;Swift;TypeScript</td>\n",
       "      <td>C#;Elixir;F#;Go;JavaScript;Rust;TypeScript</td>\n",
       "      <td>NaN</td>\n",
       "      <td>NaN</td>\n",
       "      <td>Yes</td>\n",
       "      <td>Employed, full-time</td>\n",
       "      <td>Developer, front-end;Developer, full-stack;Dev...</td>\n",
       "      <td>NaN</td>\n",
       "    </tr>\n",
       "    <tr>\n",
       "      <th>...</th>\n",
       "      <td>...</td>\n",
       "      <td>...</td>\n",
       "      <td>...</td>\n",
       "      <td>...</td>\n",
       "      <td>...</td>\n",
       "      <td>...</td>\n",
       "      <td>...</td>\n",
       "      <td>...</td>\n",
       "      <td>...</td>\n",
       "      <td>...</td>\n",
       "      <td>...</td>\n",
       "      <td>...</td>\n",
       "      <td>...</td>\n",
       "      <td>...</td>\n",
       "    </tr>\n",
       "    <tr>\n",
       "      <th>73264</th>\n",
       "      <td>Nigeria</td>\n",
       "      <td>25-34 years old</td>\n",
       "      <td>Man</td>\n",
       "      <td>Bachelor’s degree (B.A., B.S., B.Eng., etc.)</td>\n",
       "      <td>8</td>\n",
       "      <td>5</td>\n",
       "      <td>Bash/Shell;Dart;JavaScript;PHP;Python;SQL;Type...</td>\n",
       "      <td>Bash/Shell;Go;JavaScript;Python;SQL;TypeScript</td>\n",
       "      <td>Udemy</td>\n",
       "      <td>DevOps function;Microservices;Developer portal...</td>\n",
       "      <td>Yes</td>\n",
       "      <td>Employed, full-time</td>\n",
       "      <td>Developer, back-end</td>\n",
       "      <td>5.0</td>\n",
       "    </tr>\n",
       "    <tr>\n",
       "      <th>73265</th>\n",
       "      <td>United States of America</td>\n",
       "      <td>25-34 years old</td>\n",
       "      <td>Man</td>\n",
       "      <td>Master’s degree (M.A., M.S., M.Eng., MBA, etc.)</td>\n",
       "      <td>6</td>\n",
       "      <td>5</td>\n",
       "      <td>Bash/Shell;HTML/CSS;JavaScript;Python;SQL</td>\n",
       "      <td>HTML/CSS;JavaScript;Python</td>\n",
       "      <td>Coursera;Udemy;Udacity</td>\n",
       "      <td>None of these</td>\n",
       "      <td>Not sure/can't remember</td>\n",
       "      <td>Employed, full-time</td>\n",
       "      <td>Data scientist or machine learning specialist</td>\n",
       "      <td>6.0</td>\n",
       "    </tr>\n",
       "    <tr>\n",
       "      <th>73266</th>\n",
       "      <td>United States of America</td>\n",
       "      <td>55-64 years old</td>\n",
       "      <td>Man</td>\n",
       "      <td>Bachelor’s degree (B.A., B.S., B.Eng., etc.)</td>\n",
       "      <td>42</td>\n",
       "      <td>33</td>\n",
       "      <td>HTML/CSS;JavaScript;PHP;Python;SQL</td>\n",
       "      <td>C#;HTML/CSS;JavaScript;PHP;Python;SQL</td>\n",
       "      <td>Udemy;Codecademy;Pluralsight;edX</td>\n",
       "      <td>None of these</td>\n",
       "      <td>Yes</td>\n",
       "      <td>Employed, full-time</td>\n",
       "      <td>Developer, full-stack;Developer, desktop or en...</td>\n",
       "      <td>42.0</td>\n",
       "    </tr>\n",
       "    <tr>\n",
       "      <th>73267</th>\n",
       "      <td>United Kingdom of Great Britain and Northern I...</td>\n",
       "      <td>55-64 years old</td>\n",
       "      <td>Man</td>\n",
       "      <td>Bachelor’s degree (B.A., B.S., B.Eng., etc.)</td>\n",
       "      <td>50</td>\n",
       "      <td>31</td>\n",
       "      <td>C#;Delphi;VBA</td>\n",
       "      <td>Delphi</td>\n",
       "      <td>NaN</td>\n",
       "      <td>NaN</td>\n",
       "      <td>Yes</td>\n",
       "      <td>Employed, full-time</td>\n",
       "      <td>Developer, front-end;Developer, desktop or ent...</td>\n",
       "      <td>NaN</td>\n",
       "    </tr>\n",
       "    <tr>\n",
       "      <th>73268</th>\n",
       "      <td>Canada</td>\n",
       "      <td>25-34 years old</td>\n",
       "      <td>Man</td>\n",
       "      <td>Bachelor’s degree (B.A., B.S., B.Eng., etc.)</td>\n",
       "      <td>16</td>\n",
       "      <td>5</td>\n",
       "      <td>C#;JavaScript;Lua;PowerShell;SQL;TypeScript</td>\n",
       "      <td>PowerShell;Rust;TypeScript</td>\n",
       "      <td>Udemy;Pluralsight</td>\n",
       "      <td>NaN</td>\n",
       "      <td>Yes</td>\n",
       "      <td>Independent contractor, freelancer, or self-em...</td>\n",
       "      <td>Developer, front-end;Engineer, data;Engineer, ...</td>\n",
       "      <td>NaN</td>\n",
       "    </tr>\n",
       "  </tbody>\n",
       "</table>\n",
       "<p>73268 rows × 14 columns</p>\n",
       "</div>"
      ],
      "text/plain": [
       "                                                      Country  \\\n",
       "ResponseId                                                      \n",
       "1                                                         NaN   \n",
       "2                                                      Canada   \n",
       "3           United Kingdom of Great Britain and Northern I...   \n",
       "4                                                      Israel   \n",
       "5                                    United States of America   \n",
       "...                                                       ...   \n",
       "73264                                                 Nigeria   \n",
       "73265                                United States of America   \n",
       "73266                                United States of America   \n",
       "73267       United Kingdom of Great Britain and Northern I...   \n",
       "73268                                                  Canada   \n",
       "\n",
       "                        Age Gender  \\\n",
       "ResponseId                           \n",
       "1                       NaN    NaN   \n",
       "2                       NaN    NaN   \n",
       "3           25-34 years old    Man   \n",
       "4           35-44 years old    Man   \n",
       "5           25-34 years old    NaN   \n",
       "...                     ...    ...   \n",
       "73264       25-34 years old    Man   \n",
       "73265       25-34 years old    Man   \n",
       "73266       55-64 years old    Man   \n",
       "73267       55-64 years old    Man   \n",
       "73268       25-34 years old    Man   \n",
       "\n",
       "                                                    EdLevel YearsCode  \\\n",
       "ResponseId                                                              \n",
       "1                                                       NaN       NaN   \n",
       "2                                                       NaN       NaN   \n",
       "3           Master’s degree (M.A., M.S., M.Eng., MBA, etc.)        14   \n",
       "4              Bachelor’s degree (B.A., B.S., B.Eng., etc.)        20   \n",
       "5              Bachelor’s degree (B.A., B.S., B.Eng., etc.)         8   \n",
       "...                                                     ...       ...   \n",
       "73264          Bachelor’s degree (B.A., B.S., B.Eng., etc.)         8   \n",
       "73265       Master’s degree (M.A., M.S., M.Eng., MBA, etc.)         6   \n",
       "73266          Bachelor’s degree (B.A., B.S., B.Eng., etc.)        42   \n",
       "73267          Bachelor’s degree (B.A., B.S., B.Eng., etc.)        50   \n",
       "73268          Bachelor’s degree (B.A., B.S., B.Eng., etc.)        16   \n",
       "\n",
       "           YearsCodePro                             LanguageHaveWorkedWith  \\\n",
       "ResponseId                                                                   \n",
       "1                   NaN                                                NaN   \n",
       "2                   NaN                              JavaScript;TypeScript   \n",
       "3                     5                  C#;C++;HTML/CSS;JavaScript;Python   \n",
       "4                    17                       C#;JavaScript;SQL;TypeScript   \n",
       "5                     3        C#;HTML/CSS;JavaScript;SQL;Swift;TypeScript   \n",
       "...                 ...                                                ...   \n",
       "73264                 5  Bash/Shell;Dart;JavaScript;PHP;Python;SQL;Type...   \n",
       "73265                 5          Bash/Shell;HTML/CSS;JavaScript;Python;SQL   \n",
       "73266                33                 HTML/CSS;JavaScript;PHP;Python;SQL   \n",
       "73267                31                                      C#;Delphi;VBA   \n",
       "73268                 5        C#;JavaScript;Lua;PowerShell;SQL;TypeScript   \n",
       "\n",
       "                                    LanguageWantToWorkWith  \\\n",
       "ResponseId                                                   \n",
       "1                                                      NaN   \n",
       "2                                          Rust;TypeScript   \n",
       "3                    C#;C++;HTML/CSS;JavaScript;TypeScript   \n",
       "4                                        C#;SQL;TypeScript   \n",
       "5               C#;Elixir;F#;Go;JavaScript;Rust;TypeScript   \n",
       "...                                                    ...   \n",
       "73264       Bash/Shell;Go;JavaScript;Python;SQL;TypeScript   \n",
       "73265                           HTML/CSS;JavaScript;Python   \n",
       "73266                C#;HTML/CSS;JavaScript;PHP;Python;SQL   \n",
       "73267                                               Delphi   \n",
       "73268                           PowerShell;Rust;TypeScript   \n",
       "\n",
       "                        LearnCodeCoursesCert  \\\n",
       "ResponseId                                     \n",
       "1                                        NaN   \n",
       "2                                        NaN   \n",
       "3                                        NaN   \n",
       "4                                        NaN   \n",
       "5                                        NaN   \n",
       "...                                      ...   \n",
       "73264                                  Udemy   \n",
       "73265                 Coursera;Udemy;Udacity   \n",
       "73266       Udemy;Codecademy;Pluralsight;edX   \n",
       "73267                                    NaN   \n",
       "73268                      Udemy;Pluralsight   \n",
       "\n",
       "                                             ProfessionalTech  \\\n",
       "ResponseId                                                      \n",
       "1                                                         NaN   \n",
       "2                                                         NaN   \n",
       "3                                                         NaN   \n",
       "4                                                         NaN   \n",
       "5                                                         NaN   \n",
       "...                                                       ...   \n",
       "73264       DevOps function;Microservices;Developer portal...   \n",
       "73265                                           None of these   \n",
       "73266                                           None of these   \n",
       "73267                                                     NaN   \n",
       "73268                                                     NaN   \n",
       "\n",
       "                          SOAccount  \\\n",
       "ResponseId                            \n",
       "1                               NaN   \n",
       "2                               Yes   \n",
       "3                               Yes   \n",
       "4                               Yes   \n",
       "5                               Yes   \n",
       "...                             ...   \n",
       "73264                           Yes   \n",
       "73265       Not sure/can't remember   \n",
       "73266                           Yes   \n",
       "73267                           Yes   \n",
       "73268                           Yes   \n",
       "\n",
       "                                                   Employment  \\\n",
       "ResponseId                                                      \n",
       "1                                                         NaN   \n",
       "2                                         Employed, full-time   \n",
       "3                                         Employed, full-time   \n",
       "4                                         Employed, full-time   \n",
       "5                                         Employed, full-time   \n",
       "...                                                       ...   \n",
       "73264                                     Employed, full-time   \n",
       "73265                                     Employed, full-time   \n",
       "73266                                     Employed, full-time   \n",
       "73267                                     Employed, full-time   \n",
       "73268       Independent contractor, freelancer, or self-em...   \n",
       "\n",
       "                                                      DevType  WorkExp  \n",
       "ResponseId                                                              \n",
       "1                                                         NaN      NaN  \n",
       "2                                                         NaN      NaN  \n",
       "3           Data scientist or machine learning specialist;...      NaN  \n",
       "4                                       Developer, full-stack      NaN  \n",
       "5           Developer, front-end;Developer, full-stack;Dev...      NaN  \n",
       "...                                                       ...      ...  \n",
       "73264                                     Developer, back-end      5.0  \n",
       "73265           Data scientist or machine learning specialist      6.0  \n",
       "73266       Developer, full-stack;Developer, desktop or en...     42.0  \n",
       "73267       Developer, front-end;Developer, desktop or ent...      NaN  \n",
       "73268       Developer, front-end;Engineer, data;Engineer, ...      NaN  \n",
       "\n",
       "[73268 rows x 14 columns]"
      ]
     },
     "execution_count": 14,
     "metadata": {},
     "output_type": "execute_result"
    }
   ],
   "source": [
    "survey_df = survey_raw_df[selected_columns].copy()\n",
    "survey_df"
   ]
  },
  {
   "cell_type": "code",
   "execution_count": 15,
   "id": "b74cb928-3ebb-4a20-b8e1-287dd08679d8",
   "metadata": {},
   "outputs": [
    {
     "name": "stdout",
     "output_type": "stream",
     "text": [
      "Including any education, how many years have you been coding in total?\n"
     ]
    }
   ],
   "source": [
    "print(schema_raw[\"YearsCode\"])"
   ]
  },
  {
   "cell_type": "code",
   "execution_count": 21,
   "id": "e8913cbe-9ac5-4cf6-b678-e6ff07a63e62",
   "metadata": {},
   "outputs": [
    {
     "data": {
      "text/plain": [
       "10.0    5217\n",
       "5.0     5193\n",
       "6.0     4651\n",
       "4.0     4480\n",
       "7.0     4237\n",
       "8.0     4227\n",
       "3.0     4122\n",
       "2.0     3351\n",
       "12.0    2995\n",
       "15.0    2962\n",
       "20.0    2659\n",
       "9.0     2581\n",
       "11.0    1819\n",
       "14.0    1811\n",
       "13.0    1624\n",
       "25.0    1582\n",
       "1.0     1566\n",
       "0.0     1413\n",
       "16.0    1406\n",
       "30.0    1330\n",
       "22.0    1176\n",
       "18.0    1150\n",
       "17.0    1080\n",
       "40.0     777\n",
       "24.0     752\n",
       "35.0     742\n",
       "23.0     644\n",
       "19.0     563\n",
       "26.0     489\n",
       "27.0     485\n",
       "21.0     483\n",
       "28.0     425\n",
       "32.0     371\n",
       "38.0     288\n",
       "37.0     277\n",
       "34.0     241\n",
       "36.0     236\n",
       "33.0     229\n",
       "42.0     216\n",
       "29.0     208\n",
       "51.0     172\n",
       "31.0     170\n",
       "45.0     167\n",
       "39.0     159\n",
       "41.0     143\n",
       "43.0     115\n",
       "44.0     104\n",
       "50.0      68\n",
       "46.0      57\n",
       "47.0      42\n",
       "48.0      41\n",
       "49.0      35\n",
       "Name: YearsCode, dtype: int64"
      ]
     },
     "execution_count": 21,
     "metadata": {},
     "output_type": "execute_result"
    }
   ],
   "source": [
    "survey_df[\"YearsCode\"].value_counts()"
   ]
  },
  {
   "cell_type": "code",
   "execution_count": 22,
   "id": "e048866b-4b8d-4cf4-9254-19449e5c4a59",
   "metadata": {},
   "outputs": [
    {
     "name": "stdout",
     "output_type": "stream",
     "text": [
      "qname\n",
      "S0             <div><span style=\"font-size:19px;\"><strong>Hel...\n",
      "MetaInfo                                       Browser Meta Info\n",
      "S1             <span style=\"font-size:22px; font-family: aria...\n",
      "MainBranch     Which of the following options best describes ...\n",
      "Employment     Which of the following best describes your cur...\n",
      "                                     ...                        \n",
      "Frequency_2    Interacting with people outside of your immedi...\n",
      "Frequency_3    Encountering knowledge silos (where one indivi...\n",
      "TrueFalse_1    Are you involved in supporting new hires durin...\n",
      "TrueFalse_2    Do you use learning resources provided by your...\n",
      "TrueFalse_3    Does your employer give you time to learn new ...\n",
      "Name: question, Length: 79, dtype: object ['YearsCode']\n"
     ]
    }
   ],
   "source": [
    "print(schema_raw,[\"YearsCode\"])"
   ]
  },
  {
   "cell_type": "code",
   "execution_count": 23,
   "id": "d8e229c4-ec57-4b81-9e99-0da77797ab4f",
   "metadata": {},
   "outputs": [
    {
     "data": {
      "text/plain": [
       "1937"
      ]
     },
     "execution_count": 23,
     "metadata": {},
     "output_type": "execute_result"
    }
   ],
   "source": [
    "count_nan(survey_df[\"YearsCode\"])"
   ]
  },
  {
   "cell_type": "code",
   "execution_count": 24,
   "id": "b4cdcad0-ef64-4245-88c8-e89804298c99",
   "metadata": {},
   "outputs": [
    {
     "data": {
      "text/plain": [
       "10.0    5217\n",
       "5.0     5193\n",
       "6.0     4651\n",
       "4.0     4480\n",
       "7.0     4237\n",
       "8.0     4227\n",
       "3.0     4122\n",
       "2.0     3351\n",
       "12.0    2995\n",
       "15.0    2962\n",
       "20.0    2659\n",
       "9.0     2581\n",
       "11.0    1819\n",
       "14.0    1811\n",
       "13.0    1624\n",
       "25.0    1582\n",
       "1.0     1566\n",
       "0.0     1413\n",
       "16.0    1406\n",
       "30.0    1330\n",
       "22.0    1176\n",
       "18.0    1150\n",
       "17.0    1080\n",
       "40.0     777\n",
       "24.0     752\n",
       "35.0     742\n",
       "23.0     644\n",
       "19.0     563\n",
       "26.0     489\n",
       "27.0     485\n",
       "21.0     483\n",
       "28.0     425\n",
       "32.0     371\n",
       "38.0     288\n",
       "37.0     277\n",
       "34.0     241\n",
       "36.0     236\n",
       "33.0     229\n",
       "42.0     216\n",
       "29.0     208\n",
       "51.0     172\n",
       "31.0     170\n",
       "45.0     167\n",
       "39.0     159\n",
       "41.0     143\n",
       "43.0     115\n",
       "44.0     104\n",
       "50.0      68\n",
       "46.0      57\n",
       "47.0      42\n",
       "48.0      41\n",
       "49.0      35\n",
       "Name: YearsCode, dtype: int64"
      ]
     },
     "execution_count": 24,
     "metadata": {},
     "output_type": "execute_result"
    }
   ],
   "source": [
    "survey_df[\"YearsCode\"].value_counts()"
   ]
  },
  {
   "cell_type": "code",
   "execution_count": 25,
   "id": "3ce81472-2148-477c-8095-afd4387261e4",
   "metadata": {},
   "outputs": [
    {
     "data": {
      "text/html": [
       "<div>\n",
       "<style scoped>\n",
       "    .dataframe tbody tr th:only-of-type {\n",
       "        vertical-align: middle;\n",
       "    }\n",
       "\n",
       "    .dataframe tbody tr th {\n",
       "        vertical-align: top;\n",
       "    }\n",
       "\n",
       "    .dataframe thead th {\n",
       "        text-align: right;\n",
       "    }\n",
       "</style>\n",
       "<table border=\"1\" class=\"dataframe\">\n",
       "  <thead>\n",
       "    <tr style=\"text-align: right;\">\n",
       "      <th></th>\n",
       "      <th>YearsCode</th>\n",
       "      <th>YearsCodePro</th>\n",
       "      <th>WorkExp</th>\n",
       "    </tr>\n",
       "  </thead>\n",
       "  <tbody>\n",
       "    <tr>\n",
       "      <th>count</th>\n",
       "      <td>71331.000000</td>\n",
       "      <td>51833.000000</td>\n",
       "      <td>36769.000000</td>\n",
       "    </tr>\n",
       "    <tr>\n",
       "      <th>mean</th>\n",
       "      <td>12.251307</td>\n",
       "      <td>9.910270</td>\n",
       "      <td>10.242378</td>\n",
       "    </tr>\n",
       "    <tr>\n",
       "      <th>std</th>\n",
       "      <td>9.952419</td>\n",
       "      <td>8.712048</td>\n",
       "      <td>8.706850</td>\n",
       "    </tr>\n",
       "    <tr>\n",
       "      <th>min</th>\n",
       "      <td>0.000000</td>\n",
       "      <td>0.000000</td>\n",
       "      <td>0.000000</td>\n",
       "    </tr>\n",
       "    <tr>\n",
       "      <th>25%</th>\n",
       "      <td>5.000000</td>\n",
       "      <td>4.000000</td>\n",
       "      <td>4.000000</td>\n",
       "    </tr>\n",
       "    <tr>\n",
       "      <th>50%</th>\n",
       "      <td>9.000000</td>\n",
       "      <td>7.000000</td>\n",
       "      <td>8.000000</td>\n",
       "    </tr>\n",
       "    <tr>\n",
       "      <th>75%</th>\n",
       "      <td>16.000000</td>\n",
       "      <td>14.000000</td>\n",
       "      <td>15.000000</td>\n",
       "    </tr>\n",
       "    <tr>\n",
       "      <th>max</th>\n",
       "      <td>51.000000</td>\n",
       "      <td>51.000000</td>\n",
       "      <td>50.000000</td>\n",
       "    </tr>\n",
       "  </tbody>\n",
       "</table>\n",
       "</div>"
      ],
      "text/plain": [
       "          YearsCode  YearsCodePro       WorkExp\n",
       "count  71331.000000  51833.000000  36769.000000\n",
       "mean      12.251307      9.910270     10.242378\n",
       "std        9.952419      8.712048      8.706850\n",
       "min        0.000000      0.000000      0.000000\n",
       "25%        5.000000      4.000000      4.000000\n",
       "50%        9.000000      7.000000      8.000000\n",
       "75%       16.000000     14.000000     15.000000\n",
       "max       51.000000     51.000000     50.000000"
      ]
     },
     "execution_count": 25,
     "metadata": {},
     "output_type": "execute_result"
    }
   ],
   "source": [
    "survey_df.describe()"
   ]
  },
  {
   "cell_type": "code",
   "execution_count": 26,
   "id": "956d9fd2-353d-497e-8ee4-89800c462d77",
   "metadata": {},
   "outputs": [],
   "source": [
    "survey_df['YearsCode'] = pd.to_numeric(survey_df.YearsCode, errors='coerce')\n",
    "survey_df['YearsCodePro'] = pd.to_numeric(survey_df.YearsCodePro, errors='coerce')"
   ]
  },
  {
   "cell_type": "code",
   "execution_count": 27,
   "id": "ccd468c8-5d93-4703-8141-bb50158293ad",
   "metadata": {},
   "outputs": [
    {
     "data": {
      "text/plain": [
       "Man                                                                                   64607\n",
       "Woman                                                                                  3399\n",
       "Prefer not to say                                                                      1172\n",
       "Non-binary, genderqueer, or gender non-conforming                                       704\n",
       "Or, in your own words:                                                                  279\n",
       "Man;Non-binary, genderqueer, or gender non-conforming                                   235\n",
       "Man;Or, in your own words:                                                              171\n",
       "Woman;Non-binary, genderqueer, or gender non-conforming                                 160\n",
       "Man;Woman;Non-binary, genderqueer, or gender non-conforming                              31\n",
       "Man;Woman                                                                                24\n",
       "Man;Or, in your own words:;Woman;Non-binary, genderqueer, or gender non-conforming       18\n",
       "Or, in your own words:;Woman;Non-binary, genderqueer, or gender non-conforming           15\n",
       "Or, in your own words:;Non-binary, genderqueer, or gender non-conforming                 14\n",
       "Or, in your own words:;Woman                                                             13\n",
       "Man;Or, in your own words:;Non-binary, genderqueer, or gender non-conforming              9\n",
       "Man;Or, in your own words:;Woman                                                          2\n",
       "Name: Gender, dtype: int64"
      ]
     },
     "execution_count": 27,
     "metadata": {},
     "output_type": "execute_result"
    }
   ],
   "source": [
    "schema_raw[\"Gender\"]\n",
    "survey_df[\"Gender\"].value_counts()"
   ]
  },
  {
   "cell_type": "code",
   "execution_count": 28,
   "id": "df65623c-b6b9-4352-9115-0badc53c1399",
   "metadata": {},
   "outputs": [],
   "source": [
    "survey_df.where(~(survey_df[\"Gender\"].str.contains(';', na=False)), np.nan, inplace=True)"
   ]
  },
  {
   "cell_type": "code",
   "execution_count": 29,
   "id": "ad663a06-4335-4f08-9cec-35e22ec24fa2",
   "metadata": {},
   "outputs": [
    {
     "data": {
      "text/plain": [
       "Man                                                  64607\n",
       "Woman                                                 3399\n",
       "Prefer not to say                                     1172\n",
       "Non-binary, genderqueer, or gender non-conforming      704\n",
       "Or, in your own words:                                 279\n",
       "Name: Gender, dtype: int64"
      ]
     },
     "execution_count": 29,
     "metadata": {},
     "output_type": "execute_result"
    }
   ],
   "source": [
    "survey_df[\"Gender\"].value_counts()"
   ]
  },
  {
   "cell_type": "code",
   "execution_count": 30,
   "id": "5dd44e74-9ee1-48df-9e80-73ff3cd079d9",
   "metadata": {},
   "outputs": [],
   "source": [
    "%matplotlib inline\n",
    "\n",
    "sns.set_style('darkgrid')\n",
    "mpl.rcParams['font.size'] = 14\n",
    "mpl.rcParams['figure.figsize'] = (9, 5)\n",
    "mpl.rcParams['figure.facecolor'] = '#00000000'"
   ]
  },
  {
   "cell_type": "code",
   "execution_count": 31,
   "id": "9757f572-47dc-420c-a49f-9fbe8a2805e7",
   "metadata": {},
   "outputs": [],
   "source": [
    "mpl.rcParams[\"font.family\"] = \"NanumGothic\"\n",
    "mpl.rcParams[\"axes.unicode_minus\"] = False"
   ]
  },
  {
   "cell_type": "code",
   "execution_count": 32,
   "id": "ed4f2ea4-de3e-4e19-87a3-5f5fe5910418",
   "metadata": {},
   "outputs": [
    {
     "data": {
      "text/plain": [
       "'Where do you live? <span style=\"font-weight: bolder;\">*</span>'"
      ]
     },
     "execution_count": 32,
     "metadata": {},
     "output_type": "execute_result"
    }
   ],
   "source": [
    "schema_raw['Country']"
   ]
  },
  {
   "cell_type": "code",
   "execution_count": 33,
   "id": "06a70bab-fb1b-4ab0-8c2e-a2afd064f000",
   "metadata": {},
   "outputs": [
    {
     "data": {
      "text/plain": [
       "array([nan, 'Canada',\n",
       "       'United Kingdom of Great Britain and Northern Ireland', 'Israel',\n",
       "       'United States of America', 'Germany', 'India', 'Netherlands',\n",
       "       'Croatia', 'Australia', 'Russian Federation', 'Czech Republic',\n",
       "       'Austria', 'Serbia', 'Italy', 'Ireland', 'Poland', 'Slovenia',\n",
       "       'Iraq', 'Sweden', 'Madagascar', 'Norway', 'Taiwan',\n",
       "       'Hong Kong (S.A.R.)', 'Mexico', 'France', 'Brazil', 'Lithuania',\n",
       "       'Uruguay', 'Denmark', 'Spain', 'Egypt', 'Turkey', 'South Africa',\n",
       "       'Ukraine', 'Finland', 'Romania', 'Portugal', 'Singapore', 'Oman',\n",
       "       'Belgium', 'Chile', 'Bulgaria', 'Latvia', 'Philippines', 'Greece',\n",
       "       'Belarus', 'Saudi Arabia', 'Kenya', 'Switzerland', 'Iceland',\n",
       "       'Viet Nam', 'Thailand', 'China', 'Montenegro', 'Slovakia', 'Japan',\n",
       "       'Luxembourg', 'Turkmenistan', 'Argentina', 'Hungary', 'Tunisia',\n",
       "       'Bangladesh', 'Maldives', 'Dominican Republic', 'Jordan',\n",
       "       'Pakistan', 'Nepal', 'Iran, Islamic Republic of...', 'Indonesia',\n",
       "       'Ecuador', 'Bosnia and Herzegovina', 'Armenia', 'Colombia',\n",
       "       'Kazakhstan', 'South Korea', 'Costa Rica', 'Honduras', 'Mauritius',\n",
       "       'Estonia', 'Algeria', 'Trinidad and Tobago', 'Mali', 'Morocco',\n",
       "       'Swaziland', 'New Zealand',\n",
       "       'The former Yugoslav Republic of Macedonia', 'Afghanistan',\n",
       "       'Cyprus', 'United Arab Emirates', 'Peru', 'Uzbekistan', 'Ethiopia',\n",
       "       'Bahrain', 'Malta', 'Nicaragua', 'Andorra', 'Republic of Korea',\n",
       "       'Lebanon', 'Belize', 'Zambia', 'Bolivia', 'Malaysia', 'Sri Lanka',\n",
       "       \"Lao People's Democratic Republic\", 'Guatemala', 'Azerbaijan',\n",
       "       'Suriname', 'El Salvador', 'Syrian Arab Republic', 'Qatar',\n",
       "       'Nigeria', 'Kyrgyzstan', 'Zimbabwe', 'Rwanda', 'Georgia',\n",
       "       'Cambodia', 'Malawi', 'Yemen', 'Fiji', 'Nomadic', 'Uganda',\n",
       "       'Albania', 'Timor-Leste', 'Mongolia', 'Republic of Moldova',\n",
       "       'Tajikistan', 'Ghana', 'United Republic of Tanzania', 'Myanmar',\n",
       "       'Kuwait', 'Cameroon', 'Kosovo', 'Jamaica', 'Benin', 'Botswana',\n",
       "       'Niger', 'Palestine', 'Cape Verde', 'Libyan Arab Jamahiriya',\n",
       "       'Venezuela, Bolivarian Republic of...', 'Senegal', 'Cuba', 'Togo',\n",
       "       'Angola', 'Isle of Man', 'Panama', 'Bahamas', 'Paraguay', 'Sudan',\n",
       "       'Liberia', 'Bhutan', 'Democratic Republic of the Congo',\n",
       "       \"Côte d'Ivoire\", 'Barbados', 'Congo, Republic of the...',\n",
       "       'Namibia', 'Sierra Leone', 'Mozambique', 'Lesotho', 'Chad',\n",
       "       'North Korea', 'Antigua and Barbuda', 'Papua New Guinea', 'Palau',\n",
       "       'Somalia', 'Guinea', 'Haiti', 'Gabon', 'Mauritania', 'San Marino',\n",
       "       'Guyana', 'Saint Lucia', 'Burkina Faso', 'Brunei Darussalam',\n",
       "       'Gambia', 'Monaco', 'Djibouti', 'Seychelles', 'Solomon Islands',\n",
       "       'Saint Kitts and Nevis'], dtype=object)"
      ]
     },
     "execution_count": 33,
     "metadata": {},
     "output_type": "execute_result"
    }
   ],
   "source": [
    "survey_df['Country'].unique()"
   ]
  },
  {
   "cell_type": "code",
   "execution_count": 34,
   "id": "08bccd94-4e88-4335-9ff3-ada0ff590afd",
   "metadata": {},
   "outputs": [
    {
     "data": {
      "text/plain": [
       "180"
      ]
     },
     "execution_count": 34,
     "metadata": {},
     "output_type": "execute_result"
    }
   ],
   "source": [
    "survey_df['Country'].nunique()"
   ]
  },
  {
   "cell_type": "code",
   "execution_count": 35,
   "id": "c8d1a268-5309-4977-942f-f50032dbd393",
   "metadata": {},
   "outputs": [
    {
     "data": {
      "text/plain": [
       "'What is your age?'"
      ]
     },
     "execution_count": 35,
     "metadata": {},
     "output_type": "execute_result"
    }
   ],
   "source": [
    "schema_raw[\"Age\"]"
   ]
  },
  {
   "cell_type": "code",
   "execution_count": 36,
   "id": "dd1db605-0837-44f8-9d3e-2fd5cef8040b",
   "metadata": {},
   "outputs": [
    {
     "data": {
      "text/plain": [
       "25-34 years old       27878\n",
       "18-24 years old       16455\n",
       "35-44 years old       13866\n",
       "45-54 years old        5250\n",
       "Under 18 years old     3775\n",
       "55-64 years old        1974\n",
       "65 years or older       547\n",
       "Prefer not to say       512\n",
       "Name: Age, dtype: int64"
      ]
     },
     "execution_count": 36,
     "metadata": {},
     "output_type": "execute_result"
    }
   ],
   "source": [
    "age_counts = survey_df[\"Age\"].value_counts()\n",
    "age_counts"
   ]
  },
  {
   "cell_type": "code",
   "execution_count": 37,
   "id": "237ba6c9-14f6-4f70-b7a7-6f61de074b41",
   "metadata": {},
   "outputs": [
    {
     "data": {
      "text/plain": [
       "array([nan, '25-34 years old', '35-44 years old', 'Under 18 years old',\n",
       "       '18-24 years old', '45-54 years old', '55-64 years old',\n",
       "       '65 years or older', 'Prefer not to say'], dtype=object)"
      ]
     },
     "execution_count": 37,
     "metadata": {},
     "output_type": "execute_result"
    }
   ],
   "source": [
    "survey_df[\"Age\"].unique()"
   ]
  },
  {
   "cell_type": "code",
   "execution_count": 38,
   "id": "05e2e98b-ac93-43d8-afe8-07e41e6726c4",
   "metadata": {},
   "outputs": [
    {
     "data": {
      "text/plain": [
       "8"
      ]
     },
     "execution_count": 38,
     "metadata": {},
     "output_type": "execute_result"
    }
   ],
   "source": [
    "survey_df[\"Age\"].nunique()"
   ]
  },
  {
   "cell_type": "code",
   "execution_count": 39,
   "id": "77ac3cf2-17ea-4ca1-a99a-2a1ac043a91a",
   "metadata": {},
   "outputs": [
    {
     "data": {
      "text/plain": [
       "'Which of the following best describes the highest level of formal education that you’ve completed? *'"
      ]
     },
     "execution_count": 39,
     "metadata": {},
     "output_type": "execute_result"
    }
   ],
   "source": [
    "schema_raw[\"EdLevel\"]"
   ]
  },
  {
   "cell_type": "code",
   "execution_count": 40,
   "id": "82fec783-459d-43a2-822d-7d12947865ec",
   "metadata": {},
   "outputs": [
    {
     "data": {
      "text/plain": [
       "Bachelor’s degree (B.A., B.S., B.Eng., etc.)                                          30050\n",
       "Master’s degree (M.A., M.S., M.Eng., MBA, etc.)                                       15394\n",
       "Some college/university study without earning a degree                                 9194\n",
       "Secondary school (e.g. American high school, German Realschule or Gymnasium, etc.)     7769\n",
       "Associate degree (A.A., A.S., etc.)                                                    2221\n",
       "Other doctoral degree (Ph.D., Ed.D., etc.)                                             2152\n",
       "Primary/elementary school                                                              1767\n",
       "Something else                                                                         1222\n",
       "Professional degree (JD, MD, etc.)                                                     1110\n",
       "Name: EdLevel, dtype: int64"
      ]
     },
     "execution_count": 40,
     "metadata": {},
     "output_type": "execute_result"
    }
   ],
   "source": [
    "survey_df[\"EdLevel\"].value_counts()"
   ]
  },
  {
   "cell_type": "code",
   "execution_count": 41,
   "id": "b7909056-3865-4493-b2a9-3fc1b0d8b642",
   "metadata": {},
   "outputs": [
    {
     "data": {
      "text/plain": [
       "'Which of the following best describes your current employment status?'"
      ]
     },
     "execution_count": 41,
     "metadata": {},
     "output_type": "execute_result"
    }
   ],
   "source": [
    "schema_raw[\"Employment\"]"
   ]
  },
  {
   "cell_type": "code",
   "execution_count": 42,
   "id": "36306d16-3eb8-41ee-bc42-5d7e6ed5be7b",
   "metadata": {},
   "outputs": [
    {
     "data": {
      "text/plain": [
       "Employed, full-time                                                         42644\n",
       "Student, full-time                                                           6663\n",
       "Independent contractor, freelancer, or self-employed                         4941\n",
       "Employed, full-time;Independent contractor, freelancer, or self-employed     3456\n",
       "Not employed, but looking for work                                           1810\n",
       "Student, full-time;Employed, part-time                                       1148\n",
       "Employed, part-time                                                          1116\n",
       "Student, part-time                                                           1036\n",
       "Employed, full-time;Student, full-time                                        961\n",
       "Employed, full-time;Student, part-time                                        932\n",
       "Student, part-time;Employed, part-time                                        717\n",
       "Student, full-time;Not employed, but looking for work                         715\n",
       "Not employed, and not looking for work                                        705\n",
       "I prefer not to say                                                           599\n",
       "Student, full-time;Independent contractor, freelancer, or self-employed       430\n",
       "Name: Employment, dtype: int64"
      ]
     },
     "execution_count": 42,
     "metadata": {},
     "output_type": "execute_result"
    }
   ],
   "source": [
    "survey_df[\"Employment\"].value_counts().head(15)"
   ]
  },
  {
   "cell_type": "markdown",
   "id": "fa8b5a86-87ee-4ec1-a5aa-070c5ed0de55",
   "metadata": {
    "tags": []
   },
   "source": [
    "## 연습문제"
   ]
  },
  {
   "cell_type": "markdown",
   "id": "15cccb2a-4771-4840-81bf-eb1a7a54617e",
   "metadata": {
    "jp-MarkdownHeadingCollapsed": true,
    "tags": []
   },
   "source": [
    "### 작업에 들어가기 이전에 해당 column(Series)이 NaN 값을 얼마나 갖는지 확인하기 위한 함수를 만들어 봅시다.\n",
    "- series를 인자로 갖는 count_nan 함수를 만듭니다.\n",
    "- 이 함수는 인자로 전달된 series의 NaN 개수를 반환해줍니다."
   ]
  },
  {
   "cell_type": "code",
   "execution_count": 16,
   "id": "618e5e34-df76-40cc-aad7-5397f2ab3dd1",
   "metadata": {},
   "outputs": [],
   "source": [
    "def count_nan(x):\n",
    "    return x.isna().sum()"
   ]
  },
  {
   "cell_type": "code",
   "execution_count": 17,
   "id": "49bab257-9b0d-4beb-b6b5-359038a6b497",
   "metadata": {},
   "outputs": [
    {
     "data": {
      "text/plain": [
       "1937"
      ]
     },
     "execution_count": 17,
     "metadata": {},
     "output_type": "execute_result"
    }
   ],
   "source": [
    "count_nan(survey_df[\"YearsCode\"])"
   ]
  },
  {
   "cell_type": "markdown",
   "id": "644522b6-d1de-4ef5-879a-8f87eb4cbfd5",
   "metadata": {
    "jp-MarkdownHeadingCollapsed": true,
    "tags": []
   },
   "source": [
    "### YearsCode의 'Less than 1 year'의 값은 0으로 변경하고 \n",
    "'More than 50 years'의 값은 51로 일괄적으로 변경하려 합니다.  \n",
    "또 dtype을 float로 변경하고 이를 survey_df[\"YearsCode\"]에 적용해보세요.\n",
    "- 아래의 Series의 메서드를 활용해보세요.\n",
    "- 힌트: replace(변경 전 값, 변경 후 값, inplace=True)"
   ]
  },
  {
   "cell_type": "code",
   "execution_count": 18,
   "id": "a427b1c1-1bb1-48c0-b345-cd32228af38b",
   "metadata": {},
   "outputs": [],
   "source": [
    "# 1년 이하는 0으로 변경\n",
    "survey_df[\"YearsCode\"].replace(\"Less than 1 year\", 0, inplace=True)\n",
    "# 50년 초과는 51으로 변경\n",
    "survey_df[\"YearsCode\"].replace(\"More than 50 years\", 51, inplace=True)\n",
    "# Dtype을 float로 변경\n",
    "survey_df[\"YearsCode\"] = survey_df[\"YearsCode\"].astype(float)"
   ]
  },
  {
   "cell_type": "code",
   "execution_count": 19,
   "id": "c930efaf-8473-414b-9aa7-6f34d5315419",
   "metadata": {},
   "outputs": [
    {
     "data": {
      "text/plain": [
       "ResponseId\n",
       "1         NaN\n",
       "2         NaN\n",
       "3        14.0\n",
       "4        20.0\n",
       "5         8.0\n",
       "         ... \n",
       "73264     8.0\n",
       "73265     6.0\n",
       "73266    42.0\n",
       "73267    50.0\n",
       "73268    16.0\n",
       "Name: YearsCode, Length: 73268, dtype: float64"
      ]
     },
     "execution_count": 19,
     "metadata": {},
     "output_type": "execute_result"
    }
   ],
   "source": [
    "survey_df[\"YearsCode\"]"
   ]
  },
  {
   "cell_type": "markdown",
   "id": "32dc3920-76db-4932-b379-9c71616a738f",
   "metadata": {
    "jp-MarkdownHeadingCollapsed": true,
    "tags": []
   },
   "source": [
    "### YearsCodePro의 column도 YearsCode와 동일하게 일괄적으로 변경하려 합니다.  \n",
    "또 dtype을 float로 변경하고 이를 survey_df[\"YearsCodePro\"]에 적용해보세요."
   ]
  },
  {
   "cell_type": "code",
   "execution_count": 20,
   "id": "47084471-e7d6-48a4-989d-21c89ff75c35",
   "metadata": {},
   "outputs": [],
   "source": [
    "# 1년 이하는 0으로 변경\n",
    "survey_df[\"YearsCodePro\"].replace(\"Less than 1 year\", 0, inplace=True)\n",
    "# 50년 초과는 51으로 변경\n",
    "survey_df[\"YearsCodePro\"].replace(\"More than 50 years\", 51, inplace=True)\n",
    "# Dtype을 float로 변경\n",
    "survey_df[\"YearsCodePro\"] = survey_df[\"YearsCodePro\"].astype(float)"
   ]
  },
  {
   "cell_type": "code",
   "execution_count": null,
   "id": "fbad5460-b3cc-456a-8f73-87f01d43e0f2",
   "metadata": {},
   "outputs": [],
   "source": [
    "survey_df[\"YearsCodePro\"]"
   ]
  },
  {
   "cell_type": "markdown",
   "id": "466cfc52-adbe-4f36-bfba-ec4d6fddbaad",
   "metadata": {
    "jp-MarkdownHeadingCollapsed": true,
    "tags": []
   },
   "source": [
    "### 설문 응답자가 속한 국가중 응답자 수 상위 15개 국가를 아래와 같이 구해보세요."
   ]
  },
  {
   "cell_type": "code",
   "execution_count": null,
   "id": "f35cbdce-3f09-41e4-b649-5ed0fe5413f7",
   "metadata": {},
   "outputs": [],
   "source": [
    "top_contries = survey_df['Country'].value_counts().head(15)\n",
    "top_contries"
   ]
  },
  {
   "cell_type": "code",
   "execution_count": null,
   "id": "2884b5b3-2239-40ed-9d9d-e79e7ef58c42",
   "metadata": {},
   "outputs": [],
   "source": [
    "survey_df['Country'].value_counts()[:15]"
   ]
  },
  {
   "cell_type": "markdown",
   "id": "4aa2b38a-d1da-4cd2-a6c3-997f9a057230",
   "metadata": {
    "jp-MarkdownHeadingCollapsed": true,
    "tags": []
   },
   "source": [
    "### 앞의 연습 문제에서 구한 값을 가지고 다음의 차트를 작성해보세요.\n",
    "- xticks의 글자를 회전시키려면 rotation키워드 인수에 각도를 의미하는 정수 값을 입력하면 됩니다."
   ]
  },
  {
   "cell_type": "code",
   "execution_count": null,
   "id": "7ec8047d-2171-411f-b176-88bfa06f6dcc",
   "metadata": {},
   "outputs": [],
   "source": [
    "# figure 사이즈를 12 x 6 으로 설정합니다.\n",
    "plt.figure(figsize=(12,6))\n",
    "plt.title(\"응답자의 지역\")\n",
    "# rotation=90은 글자를 반시계 방향으로 90도 회전시킵니다.\n",
    "plt.xticks(rotation=90)\n",
    "sns.barplot(x=top_contries.index ,y=top_contries)\n",
    "plt.ylabel(\"응답자의 수\")\n",
    "plt.show()"
   ]
  },
  {
   "cell_type": "markdown",
   "id": "bd8d8fd6-67e2-48a8-969d-3f7da196fb9d",
   "metadata": {
    "jp-MarkdownHeadingCollapsed": true,
    "tags": []
   },
   "source": [
    "### 연령의 분포가 한눈에 들어오도록 아래와 같이 그래프를 출력해보세요.\n",
    "x축의 출력하는 데이터의 순서도 고려하여 작성해야 합니다."
   ]
  },
  {
   "cell_type": "code",
   "execution_count": null,
   "id": "381c0443-3bf4-46da-a69d-b1abc5829f3e",
   "metadata": {},
   "outputs": [],
   "source": [
    "age_order = [\n",
    "    'Under 18 years old', '25-34 years old', '35-44 years old', \n",
    "       '18-24 years old', '45-54 years old', '55-64 years old',\n",
    "       '65 years or older', 'Prefer not to say']\n",
    "    "
   ]
  },
  {
   "cell_type": "code",
   "execution_count": null,
   "id": "a2c2cc50-2296-4a1d-99b4-329689b1faba",
   "metadata": {},
   "outputs": [],
   "source": [
    "plt.figure(figsize=(12,6))\n",
    "plt.title(schema_raw[\"Age\"])\n",
    "plt.xticks(rotation=90)\n",
    "sns.barplot(x=age_counts.index, y=age_counts.values, order=age_order)\n",
    "plt.xlabel(\"나이\")\n",
    "plt.ylabel(\"응답자의 수\")\n",
    "plt.show()"
   ]
  },
  {
   "cell_type": "code",
   "execution_count": null,
   "id": "84ea419d-f575-4f4a-9646-c37af6df88ab",
   "metadata": {},
   "outputs": [],
   "source": [
    "plt.figure(figsize=(12,6))\n",
    "plt.title(schema_raw[\"Age\"])\n",
    "plt.xticks(rotation=90)\n",
    "sns.countplot(data=survey_df, x=\"Age\", order=age_order)\n",
    "plt.xlabel(\"나이\")\n",
    "plt.ylabel(\"응답자의 수\")\n",
    "plt.show()"
   ]
  },
  {
   "cell_type": "markdown",
   "id": "7eb955cf-a9c8-47ca-952c-a2939debe74c",
   "metadata": {
    "jp-MarkdownHeadingCollapsed": true,
    "tags": []
   },
   "source": [
    "### 앞의 데이터를 활용하여 아래와 같이 파이 플롯을 작성해보세요."
   ]
  },
  {
   "cell_type": "code",
   "execution_count": null,
   "id": "66d24f48-a208-478a-8073-dcea60af82fc",
   "metadata": {},
   "outputs": [],
   "source": [
    "plt.style.use(\"default\")\n",
    "mpl.rcParams[\"axes.facecolor\"] = \"white\"\n",
    "gender_counts = survey_df[\"Gender\"].value_counts(True)"
   ]
  },
  {
   "cell_type": "code",
   "execution_count": null,
   "id": "83a1a938-7950-4bb9-b80c-aa029e6bc873",
   "metadata": {},
   "outputs": [],
   "source": [
    "plt.title(schema_raw[\"Gender\"])\n",
    "plt.pie(gender_counts, labels=gender_counts.index, autopct='%1.1f%%',startangle=180)\n",
    "plt.axis('equal')\n",
    "plt.show()"
   ]
  },
  {
   "cell_type": "markdown",
   "id": "6c3f4bbd-bb5a-4275-8c8a-08563d153f02",
   "metadata": {
    "jp-MarkdownHeadingCollapsed": true,
    "tags": []
   },
   "source": [
    "### 아래 보이는 그래프를 출력하는 코드를 구현해보세요."
   ]
  },
  {
   "cell_type": "code",
   "execution_count": 50,
   "id": "4a19fca7-c56c-49e1-bfae-24446987b527",
   "metadata": {},
   "outputs": [
    {
     "data": {
      "image/png": "[encoded data removed]",
      "text/plain": [
       "<Figure size 1200x600 with 1 Axes>"
      ]
     },
     "metadata": {
      "needs_background": "light"
     },
     "output_type": "display_data"
    }
   ],
   "source": [
    "plt.figure(figsize=(12,6))\n",
    "plt.title(schema_raw[\"EdLevel\"])\n",
    "sns.countplot(y=survey_df[\"EdLevel\"])\n",
    "plt.show()"
   ]
  },
  {
   "cell_type": "markdown",
   "id": "d6e0063d-5297-430b-b18a-9e01a8cc5bd8",
   "metadata": {
    "jp-MarkdownHeadingCollapsed": true,
    "tags": []
   },
   "source": [
    "### 아래 보이는 그래프를 출력하는 코드를 구연해보세요.\n",
    "- y축 순서 고려하세요.\n",
    "- y축의 단위가 퍼센트로 변경됐습니다."
   ]
  },
  {
   "cell_type": "code",
   "execution_count": 45,
   "id": "419d46a3-7e42-4a46-b9b7-ebec6d64e125",
   "metadata": {},
   "outputs": [
    {
     "data": {
      "text/plain": [
       "Bachelor’s degree (B.A., B.S., B.Eng., etc.)                                          42.396196\n",
       "Master’s degree (M.A., M.S., M.Eng., MBA, etc.)                                       21.718704\n",
       "Some college/university study without earning a degree                                12.971402\n",
       "Secondary school (e.g. American high school, German Realschule or Gymnasium, etc.)    10.960933\n",
       "Associate degree (A.A., A.S., etc.)                                                    3.133509\n",
       "Other doctoral degree (Ph.D., Ed.D., etc.)                                             3.036160\n",
       "Primary/elementary school                                                              2.492981\n",
       "Something else                                                                         1.724065\n",
       "Professional degree (JD, MD, etc.)                                                     1.566049\n",
       "Name: EdLevel, dtype: float64"
      ]
     },
     "execution_count": 45,
     "metadata": {},
     "output_type": "execute_result"
    }
   ],
   "source": [
    "EdLevel_pct = survey_df.EdLevel.value_counts(True)*100\n",
    "EdLevel_pct"
   ]
  },
  {
   "cell_type": "code",
   "execution_count": 46,
   "id": "be4b9b3b-e958-49ac-8264-f08da152930d",
   "metadata": {},
   "outputs": [
    {
     "data": {
      "image/png": "[encoded data removed]",
      "text/plain": [
       "<Figure size 900x500 with 1 Axes>"
      ]
     },
     "metadata": {
      "needs_background": "light"
     },
     "output_type": "display_data"
    }
   ],
   "source": [
    "sns.barplot(x=EdLevel_pct, y=EdLevel_pct.index)\n",
    "plt.title(schema_raw[\"EdLevel\"])\n",
    "plt.ylabel(None);\n",
    "plt.xlabel('Percentage');\n",
    "plt.show()"
   ]
  },
  {
   "cell_type": "markdown",
   "id": "2809a5f8-73a6-403c-ae0e-afd0f9d0b378",
   "metadata": {
    "jp-MarkdownHeadingCollapsed": true,
    "tags": []
   },
   "source": [
    "### 고용 형태(Employment)에 대한 상위 15개 항목에 대한 그래프를 아래와 같이 구현해보세요."
   ]
  },
  {
   "cell_type": "code",
   "execution_count": 43,
   "id": "e1c3a3bc-38a4-413c-97d4-5cfed7c00411",
   "metadata": {},
   "outputs": [
    {
     "data": {
      "text/plain": [
       "Employed, full-time                                                         60.045058\n",
       "Student, full-time                                                           9.381864\n",
       "Independent contractor, freelancer, or self-employed                         6.957195\n",
       "Employed, full-time;Independent contractor, freelancer, or self-employed     4.866235\n",
       "Not employed, but looking for work                                           2.548578\n",
       "Student, full-time;Employed, part-time                                       1.616446\n",
       "Employed, part-time                                                          1.571388\n",
       "Student, part-time                                                           1.458744\n",
       "Employed, full-time;Student, full-time                                       1.353140\n",
       "Employed, full-time;Student, part-time                                       1.312306\n",
       "Student, part-time;Employed, part-time                                       1.009575\n",
       "Student, full-time;Not employed, but looking for work                        1.006759\n",
       "Not employed, and not looking for work                                       0.992678\n",
       "I prefer not to say                                                          0.843424\n",
       "Student, full-time;Independent contractor, freelancer, or self-employed      0.605463\n",
       "Name: Employment, dtype: float64"
      ]
     },
     "execution_count": 43,
     "metadata": {},
     "output_type": "execute_result"
    }
   ],
   "source": [
    "Employment_pct = survey_df.Employment.value_counts(True).head(15)*100\n",
    "Employment_pct"
   ]
  },
  {
   "cell_type": "code",
   "execution_count": 44,
   "id": "3df54731-a1f9-46eb-97df-45e77f225346",
   "metadata": {},
   "outputs": [
    {
     "data": {
      "image/png": "[encoded data removed]",
      "text/plain": [
       "<Figure size 900x500 with 1 Axes>"
      ]
     },
     "metadata": {
      "needs_background": "light"
     },
     "output_type": "display_data"
    }
   ],
   "source": [
    "sns.barplot(x = Employment_pct, y = Employment_pct.index)\n",
    "plt.title(schema_raw['Employment'])\n",
    "plt.xlabel('Percentage')\n",
    "plt.show()"
   ]
  }
 ],
 "metadata": {
  "kernelspec": {
   "display_name": "Python 3 (ipykernel)",
   "language": "python",
   "name": "python3"
  },
  "language_info": {
   "codemirror_mode": {
    "name": "ipython",
    "version": 3
   },
   "file_extension": ".py",
   "mimetype": "text/x-python",
   "name": "python",
   "nbconvert_exporter": "python",
   "pygments_lexer": "ipython3",
   "version": "3.9.13"
  }
 },
 "nbformat": 4,
 "nbformat_minor": 5
}
