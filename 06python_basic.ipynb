{
 "cells": [
  {
   "cell_type": "markdown",
   "id": "f25e1ec8-b29a-4644-ad30-0535b53d23af",
   "metadata": {},
   "source": [
    "### 제너레이터 컴프리헨션  \n",
    "```python  \n",
    "generator_variable = (expression for 변수 in iterable)  \n",
    "tuple_variable = tuple(expression for 변수 in iterable)  \n",
    "```"
   ]
  },
  {
   "cell_type": "markdown",
   "id": "57c2dcc4-4e4c-4b63-82e0-c1e6099d806d",
   "metadata": {},
   "source": [
    "#### iterable  \n",
    "#### tuple(인수), list(인수)"
   ]
  },
  {
   "cell_type": "code",
   "execution_count": 38,
   "id": "ab4e755c-68c7-4ab3-9b01-b8c97735f908",
   "metadata": {},
   "outputs": [
    {
     "name": "stdout",
     "output_type": "stream",
     "text": [
      "['alpha', 'bravo', 'delta', 'hotel', 'india']\n"
     ]
    }
   ],
   "source": [
    "a = ['alpha','bravo','charlie','delta',\n",
    "     'echo','foxtrot','golf','hotel','india']\n",
    "b = [_ for _ in a if len(_) == 5]\n",
    "\n",
    "print(b)"
   ]
  },
  {
   "cell_type": "code",
   "execution_count": 2,
   "id": "3d30c9e0-2e8c-489b-be16-dc5eacb91013",
   "metadata": {},
   "outputs": [
    {
     "name": "stdin",
     "output_type": "stream",
     "text": [
      "정수 두 개 입력하세요:  1 10\n"
     ]
    },
    {
     "name": "stdout",
     "output_type": "stream",
     "text": [
      "[2, 8, 16, 32, 64, 128, 256, 1024]\n"
     ]
    }
   ],
   "source": [
    "while True:\n",
    "    nums = list(map(int,input(\"정수 두 개 입력하세요: \").split(\" \")))\n",
    "    \n",
    "    if nums[0] > 20 or nums[0] < 1:\n",
    "        print(\"첫번째 값의 범위는 1 ~ 20입니다.\")\n",
    "    elif nums[1] > 30 or nums[1] < 10:\n",
    "        print(\"두번째 값의 범위는 10 ~ 30입니다.\")\n",
    "    elif nums[0] > nums[1]:\n",
    "        print(\"첫 번째 입력 값은 두 번째 입력 값보다 작게 입력하세요\")\n",
    "    else:\n",
    "        final_list = [2**_ for _ in [i for i in range(int(nums[0]),int(nums[1])+1)]]\n",
    "        break\n",
    "\n",
    "final_list.remove(final_list[1])\n",
    "final_list.remove(final_list[-2])\n",
    "print(final_list)"
   ]
  },
  {
   "cell_type": "code",
   "execution_count": 1,
   "id": "f30f6758-2be9-4f7a-a841-1421a8cb35b1",
   "metadata": {},
   "outputs": [
    {
     "name": "stdin",
     "output_type": "stream",
     "text": [
      "정수 두 개 입력하세요: 1 10\n"
     ]
    },
    {
     "name": "stdout",
     "output_type": "stream",
     "text": [
      "[2, 8, 16, 32, 64, 128, 256, 1024]\n"
     ]
    }
   ],
   "source": [
    "while True:\n",
    "    num1, num2 = map(int,input(\"정수 두 개 입력하세요:\").split())\n",
    "\n",
    "    if num1 < 1 or num1 > 20:\n",
    "        print(\"첫 번째 값의 범위는 1 ~ 20 입니다.\")\n",
    "    elif num2 < 10 or num2 > 30:\n",
    "        print(\"두 번째 값의 범위는 10 ~ 30 입니다.\")\n",
    "    elif num1 > num2:\n",
    "        print(\"첫 번째 값은 두 번째 입력 값보다 작게 입력하세요.\")\n",
    "    else:\n",
    "        break\n",
    "\n",
    "list_num = [2 ** _ for _ in range(num1, num2 + 1) if (_ != num1 + 1) and (_ != num2 - 1)]\n",
    "print(list_num)"
   ]
  },
  {
   "cell_type": "code",
   "execution_count": 146,
   "id": "5b14a56f-bd56-41e1-a5d7-21941204b68e",
   "metadata": {},
   "outputs": [
    {
     "name": "stdout",
     "output_type": "stream",
     "text": [
      "- 1 + 4 - 9 + 16 - 25 + 36 - 49 + 64 - 81 + 100 \n",
      "- 121 + 144 - 169 + 196 - 225 + 256 - 289 + 324 - 361 + 400 \n",
      "- 441 + 484 - 529 + 576 - 625 + 676 - 729 + 784 - 841 + 900 \n",
      "- 961 + 1024 - 1089 + 1156 - 1225 + 1296 - 1369 + 1444 - 1521 + 1600 \n",
      "- 1681 + 1764 - 1849 + 1936 - 2025 + 2116 - 2209 + 2304 - 2401 + 2500 \n",
      "- 2601 + 2704 - 2809 + 2916 - 3025 + 3136 - 3249 + 3364 - 3481 + 3600 \n",
      "- 3721 + 3844 - 3969 + 4096 - 4225 + 4356 - 4489 + 4624 - 4761 + 4900 \n",
      "- 5041 + 5184 - 5329 + 5476 - 5625 + 5776 - 5929 + 6084 - 6241 + 6400 \n",
      "- 6561 + 6724 - 6889 + 7056 - 7225 + 7396 - 7569 + 7744 - 7921 + 8100 \n",
      "- 8281 + 8464 - 8649 + 8836 - 9025 + 9216 - 9409 + 9604 - 9801 + 10000 \n",
      "= 5050\n"
     ]
    }
   ],
   "source": [
    "i=1\n",
    "Sum = 0\n",
    "while i <= 100:\n",
    "    if i % 2 == 1:\n",
    "        print('-',i**2,end=\" \")\n",
    "        Sum -= i**2\n",
    "    else:\n",
    "        print('+',i**2,end=\" \")\n",
    "        Sum += i**2\n",
    "    i+=1\n",
    "    if i % 10 == 1:\n",
    "        print()\n",
    "print('= ',Sum,sep=\"\")"
   ]
  }
 ],
 "metadata": {
  "kernelspec": {
   "display_name": "Python 3 (ipykernel)",
   "language": "python",
   "name": "python3"
  },
  "language_info": {
   "codemirror_mode": {
    "name": "ipython",
    "version": 3
   },
   "file_extension": ".py",
   "mimetype": "text/x-python",
   "name": "python",
   "nbconvert_exporter": "python",
   "pygments_lexer": "ipython3",
   "version": "3.9.13"
  }
 },
 "nbformat": 4,
 "nbformat_minor": 5
}
