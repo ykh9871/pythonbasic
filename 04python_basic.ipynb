{
 "cells": [
  {
   "cell_type": "code",
   "execution_count": 2,
   "id": "7a8e1cba-0c80-40b3-8516-3bd5224c4459",
   "metadata": {},
   "outputs": [
    {
     "name": "stdin",
     "output_type": "stream",
     "text": [
      "현재시간을 입력하세요. 12:00\n"
     ]
    },
    {
     "name": "stdout",
     "output_type": "stream",
     "text": [
      "정각입니다.\n"
     ]
    }
   ],
   "source": [
    "hour, minute = input(\"현재시간을 입력하세요.\").split(\":\")\n",
    "if minute == \"00\":\n",
    "    print(\"정각입니다.\")\n",
    "else:\n",
    "    print(\"정각이 아닙니다.\")"
   ]
  },
  {
   "cell_type": "code",
   "execution_count": 3,
   "id": "f3f93034-59f9-46b3-8e72-87996876294a",
   "metadata": {},
   "outputs": [
    {
     "name": "stdin",
     "output_type": "stream",
     "text": [
      "현재시간을 입력하세요 12:00\n"
     ]
    },
    {
     "name": "stdout",
     "output_type": "stream",
     "text": [
      "정각입니다.\n"
     ]
    }
   ],
   "source": [
    "h, m = map(int,input(\"현재시간을 입력하세요\").split(\":\"))\n",
    "if m == 0:\n",
    "    print(\"정각입니다.\")\n",
    "else:\n",
    "    print(\"정각이 아닙니다.\")"
   ]
  },
  {
   "cell_type": "code",
   "execution_count": 4,
   "id": "b591dbc9-eece-4555-924f-bee5293b6c65",
   "metadata": {},
   "outputs": [
    {
     "name": "stdout",
     "output_type": "stream",
     "text": [
      "Pt\n"
     ]
    }
   ],
   "source": [
    "language = 'Python'\n",
    "print(language[0], language[2], sep=\"\")"
   ]
  },
  {
   "cell_type": "code",
   "execution_count": 5,
   "id": "92c72596-a465-4185-8ec9-4fe5103ddc36",
   "metadata": {},
   "outputs": [
    {
     "name": "stdout",
     "output_type": "stream",
     "text": [
      "[1, 2, '짝', 4, 5, '짝', 7, 8, '짝', 10]\n"
     ]
    }
   ],
   "source": [
    "list_a = list(range(1,11))\n",
    "list_a[2::3] = ['짝'] * len(list_a[2::3])\n",
    "print(list_a)"
   ]
  },
  {
   "cell_type": "code",
   "execution_count": 6,
   "id": "4557fd9b-2116-4799-8919-8f01032f6f75",
   "metadata": {},
   "outputs": [
    {
     "name": "stdout",
     "output_type": "stream",
     "text": [
      "[1, 2, 3, 4, 5, 6, 7, 8, 9, 10]\n",
      "[3, 6, 9]\n",
      "3\n",
      "[1, 2, '짝', 4, 5, '짝', 7, 8, '짝', 10]\n"
     ]
    }
   ],
   "source": [
    "list_a = list(range(1, 11)) # [1, 2, ... , 10]\n",
    "print(list_a)\n",
    "print(list_a[2::3])\n",
    "print(len(list_a[2::3]))\n",
    "list_a[2::3] = [\"짝\"] * len(list_a[2::3])\n",
    "print(list_a)"
   ]
  },
  {
   "cell_type": "code",
   "execution_count": 7,
   "id": "fabcebdb-0d68-4f0d-b608-ef3ebc35ba33",
   "metadata": {},
   "outputs": [
    {
     "name": "stdout",
     "output_type": "stream",
     "text": [
      "1부터 10까지 홀수의 합은 25입니다.\n"
     ]
    }
   ],
   "source": [
    "sum = 0\n",
    "for i in range(1, 11, 2):\n",
    "    sum = sum + i\n",
    "print(\"1부터 10까지 홀수의 합은 \", sum,\"입니다.\",sep=\"\")"
   ]
  },
  {
   "cell_type": "code",
   "execution_count": 8,
   "id": "3aed47b0-d376-43f0-87bb-86ed06f28490",
   "metadata": {},
   "outputs": [
    {
     "name": "stdout",
     "output_type": "stream",
     "text": [
      "1부터 10까지 홀수의 합은 25입니다.\n"
     ]
    }
   ],
   "source": [
    "result = 0\n",
    "for i in range(1, 11):\n",
    "    if i % 2 == 1:\n",
    "        result += i\n",
    "print(\"1부터 10까지 홀수의 합은 \", 25, \"입니다.\", sep=\"\")"
   ]
  },
  {
   "cell_type": "code",
   "execution_count": 9,
   "id": "2f82328b-7f4f-41ba-9fc4-43ddc4b1081f",
   "metadata": {},
   "outputs": [
    {
     "name": "stdout",
     "output_type": "stream",
     "text": [
      "1~10까지 홀수의 합은 25입니다.\n"
     ]
    }
   ],
   "source": [
    "sum = 0\n",
    "for i in range(1, 11):\n",
    "    if i % 2 != 0:\n",
    "        sum = sum + i\n",
    "print(\"1~10까지 홀수의 합은 \", sum,\"입니다.\",sep=\"\")"
   ]
  },
  {
   "cell_type": "code",
   "execution_count": 10,
   "id": "d369c9dd-2433-447e-8fdc-39517b917ba1",
   "metadata": {},
   "outputs": [
    {
     "name": "stdout",
     "output_type": "stream",
     "text": [
      "이\n"
     ]
    }
   ],
   "source": [
    "a = (\"일이삼사오육칠팔구십\")\n",
    "print(a[1:2:1])"
   ]
  },
  {
   "cell_type": "code",
   "execution_count": 11,
   "id": "e044e698-2860-4c37-b2a0-ee03cb85b50a",
   "metadata": {},
   "outputs": [
    {
     "name": "stdout",
     "output_type": "stream",
     "text": [
      "*****\n",
      "*****\n",
      "*****\n",
      "*****\n",
      "*****\n"
     ]
    }
   ],
   "source": [
    "for i in range(5):\n",
    "    print('*' * 5)"
   ]
  },
  {
   "cell_type": "code",
   "execution_count": 12,
   "id": "4f7ce3af-39a0-4ea2-891a-d3e2724a41f4",
   "metadata": {},
   "outputs": [
    {
     "name": "stdout",
     "output_type": "stream",
     "text": [
      "*****\n",
      "*****\n",
      "*****\n",
      "*****\n",
      "*****\n"
     ]
    }
   ],
   "source": [
    "for i in range(5):\n",
    "    for j in range(5):\n",
    "        print(\"*\", end = \"\")\n",
    "    print()"
   ]
  },
  {
   "cell_type": "markdown",
   "id": "bc3e6cb0-df95-4eb1-908b-a963f8c4b911",
   "metadata": {},
   "source": [
    "### While문 \n",
    "- 1.조건식을 판별합니다.\n",
    "- 2.조건식이 True인 동안 내내 While문의 바디를 실행합니다.\n",
    "- 3.조건식이 False인 경우 끝냅니다."
   ]
  },
  {
   "cell_type": "code",
   "execution_count": 13,
   "id": "325544f2-6c34-4dd6-9c4b-4ceb3c414fdf",
   "metadata": {
    "scrolled": true,
    "tags": []
   },
   "outputs": [
    {
     "name": "stdout",
     "output_type": "stream",
     "text": [
      "Hello world!\n",
      "Hello world!\n",
      "Hello world!\n",
      "Hello world!\n",
      "Hello world!\n",
      "Hello world!\n",
      "Hello world!\n",
      "Hello world!\n",
      "Hello world!\n",
      "Hello world!\n"
     ]
    }
   ],
   "source": [
    "i = 0\n",
    "while i < 10: #조건식\n",
    "    print(\"Hello world!\") #바디\n",
    "    i += 1 #변화식"
   ]
  },
  {
   "cell_type": "code",
   "execution_count": 15,
   "id": "1076454d-2f9b-443a-a7a1-d744d11da8ff",
   "metadata": {},
   "outputs": [
    {
     "name": "stdin",
     "output_type": "stream",
     "text": [
      "반복할 횟수를입력하세요:  3\n"
     ]
    },
    {
     "name": "stdout",
     "output_type": "stream",
     "text": [
      "Hello world 3\n",
      "Hello world 2\n",
      "Hello world 1\n"
     ]
    }
   ],
   "source": [
    "count = int(input(\"반복할 횟수를입력하세요: \"))\n",
    "\n",
    "while count > 0:\n",
    "    print(\"Hello world\", count)\n",
    "    count -= 1"
   ]
  },
  {
   "cell_type": "code",
   "execution_count": 16,
   "id": "7b4ea83f-a810-47da-9e34-33461d837e7d",
   "metadata": {},
   "outputs": [
    {
     "name": "stdout",
     "output_type": "stream",
     "text": [
      "2\t4\t6\t8\t10\t12\t14\t16\t18\t20\t22\t24\t26\t28\t30\t32\t34\t36\t38\t40\t42\t44\t46\t48\t50\t52\t54\t56\t58\t60\t62\t64\t66\t68\t70\t72\t74\t76\t78\t80\t82\t84\t86\t88\t90\t92\t94\t96\t98\t100\t"
     ]
    }
   ],
   "source": [
    "a = 1\n",
    "while 1<= a <=100:\n",
    "    if a % 2 == 0:\n",
    "        print(a, end=\"\\t\")\n",
    "        a += 1\n",
    "    else:\n",
    "        a += 1"
   ]
  },
  {
   "cell_type": "code",
   "execution_count": 17,
   "id": "d149fd60-9df7-46d6-8d90-77a0200066d4",
   "metadata": {},
   "outputs": [
    {
     "name": "stdout",
     "output_type": "stream",
     "text": [
      "2\t4\t6\t8\t10\t12\t14\t16\t18\t20\t22\t24\t26\t28\t30\t32\t34\t36\t38\t40\t42\t44\t46\t48\t50\t52\t54\t56\t58\t60\t62\t64\t66\t68\t70\t72\t74\t76\t78\t80\t82\t84\t86\t88\t90\t92\t94\t96\t98\t100\t"
     ]
    }
   ],
   "source": [
    "a = 2\n",
    "while a <= 100:\n",
    "    print(a , end=\"\\t\")\n",
    "    a+=2"
   ]
  },
  {
   "cell_type": "code",
   "execution_count": 18,
   "id": "fa15fbba-7981-426e-90d3-b32fcbb40936",
   "metadata": {},
   "outputs": [
    {
     "name": "stdout",
     "output_type": "stream",
     "text": [
      "2\t4\t6\t8\t10\t12\t14\t16\t18\t20\t22\t24\t26\t28\t30\t32\t34\t36\t38\t40\t42\t44\t46\t48\t50\t52\t54\t56\t58\t60\t62\t64\t66\t68\t70\t72\t74\t76\t78\t80\t82\t84\t86\t88\t90\t92\t94\t96\t98\t100\t"
     ]
    }
   ],
   "source": [
    "a = 1\n",
    "while a <= 50:\n",
    "    print(a * 2, end=\"\\t\")\n",
    "    a+=1"
   ]
  },
  {
   "cell_type": "code",
   "execution_count": 19,
   "id": "2b83382d-1554-492a-b4f9-d1e7d6e4828b",
   "metadata": {},
   "outputs": [
    {
     "name": "stdout",
     "output_type": "stream",
     "text": [
      "9 * 1 = 9\n",
      "9 * 2 = 18\n",
      "9 * 3 = 27\n",
      "9 * 4 = 36\n",
      "9 * 5 = 45\n",
      "9 * 6 = 54\n",
      "9 * 7 = 63\n",
      "9 * 8 = 72\n",
      "9 * 9 = 81\n"
     ]
    }
   ],
   "source": [
    "d = 1\n",
    "while d < 10:\n",
    "    print(9,\"*\",d,\"=\",9*d)\n",
    "    d+=1"
   ]
  },
  {
   "cell_type": "code",
   "execution_count": 20,
   "id": "dfe336d6-ad66-4b99-9d5b-6191fe24580e",
   "metadata": {},
   "outputs": [
    {
     "name": "stdin",
     "output_type": "stream",
     "text": [
      "구구단을 알려드립니다.숫자를 입력하세요 9\n"
     ]
    },
    {
     "name": "stdout",
     "output_type": "stream",
     "text": [
      "9 * 1 = 9\n",
      "9 * 2 = 18\n",
      "9 * 3 = 27\n",
      "9 * 4 = 36\n",
      "9 * 5 = 45\n",
      "9 * 6 = 54\n",
      "9 * 7 = 63\n",
      "9 * 8 = 72\n",
      "9 * 9 = 81\n"
     ]
    }
   ],
   "source": [
    "c = int(input(\"구구단을 알려드립니다.숫자를 입력하세요\"))\n",
    "d = 1\n",
    "while d < 10:\n",
    "    print(c,\"*\",d,\"=\",c*d)\n",
    "    d+=1"
   ]
  },
  {
   "cell_type": "code",
   "execution_count": 21,
   "id": "cbfb3da2-5f24-4399-929c-b37a8af9e4f5",
   "metadata": {},
   "outputs": [
    {
     "name": "stdin",
     "output_type": "stream",
     "text": [
      "학생의 수 : 3\n",
      "1번 학생의 점수: 77\n",
      "2번 학생의 점수: 88\n",
      "3번 학생의 점수: 99\n"
     ]
    },
    {
     "name": "stdout",
     "output_type": "stream",
     "text": [
      "평균 :88.0점\n"
     ]
    }
   ],
   "source": [
    "stu = int(input(\"학생의 수 :\"))\n",
    "score=0\n",
    "asd = 1\n",
    "while asd <= stu:\n",
    "    score += int(input(str(asd)+\"번 학생의 점수:\"))\n",
    "    asd+=1\n",
    "print(\"평균 :\",score/stu,\"점\",sep=\"\")"
   ]
  },
  {
   "cell_type": "code",
   "execution_count": 22,
   "id": "7344caaf-f2c7-4d6d-b3fc-a375b290417c",
   "metadata": {},
   "outputs": [
    {
     "name": "stdin",
     "output_type": "stream",
     "text": [
      "학생의 수 : 2\n",
      "1번 학생의 점수: 10\n",
      "2번 학생의 점수: 10\n"
     ]
    },
    {
     "name": "stdout",
     "output_type": "stream",
     "text": [
      "평균 :10.0점\n"
     ]
    }
   ],
   "source": [
    "stu = int(input(\"학생의 수 :\"))\n",
    "score=0\n",
    "asd = 1\n",
    "result=0\n",
    "while asd <= stu:\n",
    "    score = int(input(str(asd)+\"번 학생의 점수:\"))\n",
    "    asd+=1\n",
    "    result += score\n",
    "print(\"평균 :\",result/stu,\"점\",sep=\"\")"
   ]
  },
  {
   "cell_type": "code",
   "execution_count": 23,
   "id": "a6e984f8-336d-4f73-b599-e5cbce4bc3ec",
   "metadata": {},
   "outputs": [
    {
     "name": "stdin",
     "output_type": "stream",
     "text": [
      "학생의 수 : 3\n",
      "1번 학생의 점수 : 20\n",
      "2번 학생의 점수 : 20\n",
      "3번 학생의 점수 : 20\n"
     ]
    },
    {
     "name": "stdout",
     "output_type": "stream",
     "text": [
      "평균 :20.0점\n"
     ]
    }
   ],
   "source": [
    "student_count = int(input(\"학생의 수 :\"))\n",
    "i = 1\n",
    "sum = 0\n",
    "average = 0\n",
    "while i <= student_count:\n",
    "    a = int(input(str(i) + \"번 학생의 점수 :\"))\n",
    "    sum += a\n",
    "    i += 1\n",
    "average = sum / student_count\n",
    "print(\"평균 :\", average, \"점\", sep = \"\")"
   ]
  },
  {
   "cell_type": "code",
   "execution_count": 24,
   "id": "e8d42b55-c517-443e-b021-860f2da32562",
   "metadata": {},
   "outputs": [
    {
     "name": "stdout",
     "output_type": "stream",
     "text": [
      "97\n",
      "100\n",
      "77\n"
     ]
    }
   ],
   "source": [
    "scores = (97, 100, 77)\n",
    "for _ in range(len(scores)):\n",
    "    print(scores[_])"
   ]
  },
  {
   "cell_type": "code",
   "execution_count": 25,
   "id": "8ad1e8b5-c43b-4de3-b56c-fdfa5a289d8a",
   "metadata": {},
   "outputs": [
    {
     "name": "stdout",
     "output_type": "stream",
     "text": [
      "97\n",
      "100\n",
      "77\n"
     ]
    }
   ],
   "source": [
    "scores = (97, 100, 77)\n",
    "i = 0\n",
    "while i < len(scores):\n",
    "    print(scores[i])\n",
    "    i+=1    "
   ]
  },
  {
   "cell_type": "code",
   "execution_count": 26,
   "id": "fecaefc5-5ae3-486f-9496-5f7c0765dc34",
   "metadata": {},
   "outputs": [
    {
     "name": "stdout",
     "output_type": "stream",
     "text": [
      "79.0\n"
     ]
    }
   ],
   "source": [
    "class__a = (70,60,55,75,95,90,80,80,85,100)\n",
    "score = 0\n",
    "i = 0\n",
    "while i <len(class__a):\n",
    "    score+= class__a[i]\n",
    "    i+=1\n",
    "    \n",
    "print(score/i)"
   ]
  },
  {
   "cell_type": "code",
   "execution_count": 27,
   "id": "bf73e09d-2886-442b-84af-6c34ae17c5e3",
   "metadata": {},
   "outputs": [
    {
     "name": "stdout",
     "output_type": "stream",
     "text": [
      "50.0\n"
     ]
    }
   ],
   "source": [
    "class__b = (40,30,80)\n",
    "score = 0\n",
    "i = 0\n",
    "while i <len(class__b):\n",
    "    score+= class__b[i]\n",
    "    i+=1\n",
    "\n",
    "avg = score/len(class__b)\n",
    "\n",
    "print(avg)"
   ]
  },
  {
   "cell_type": "markdown",
   "id": "ff770864-6c95-437b-924f-d98c3afe522e",
   "metadata": {},
   "source": [
    "### break문 for, while문에서  \n",
    "### break는 해당 반복문을 완전히 빠져나갑니다."
   ]
  },
  {
   "cell_type": "code",
   "execution_count": 28,
   "id": "c21bf687-56cd-4e9e-b298-76071d8576f4",
   "metadata": {
    "scrolled": true,
    "tags": []
   },
   "outputs": [
    {
     "name": "stdout",
     "output_type": "stream",
     "text": [
      "0\n",
      "1\n",
      "2\n",
      "3\n",
      "4\n",
      "5\n",
      "6\n",
      "7\n",
      "8\n",
      "9\n",
      "10\n",
      "11\n",
      "12\n",
      "13\n",
      "14\n",
      "15\n",
      "16\n",
      "17\n",
      "18\n",
      "19\n",
      "20\n",
      "21\n",
      "22\n",
      "23\n",
      "24\n",
      "25\n",
      "26\n",
      "27\n",
      "28\n",
      "29\n",
      "30\n",
      "31\n",
      "32\n",
      "33\n",
      "34\n",
      "35\n",
      "36\n",
      "37\n",
      "38\n",
      "39\n",
      "40\n",
      "41\n",
      "42\n",
      "43\n",
      "44\n",
      "45\n",
      "46\n",
      "47\n",
      "48\n",
      "49\n",
      "50\n",
      "51\n",
      "52\n",
      "53\n",
      "54\n",
      "55\n",
      "56\n",
      "57\n",
      "58\n",
      "59\n",
      "60\n",
      "61\n",
      "62\n",
      "63\n",
      "64\n",
      "65\n",
      "66\n",
      "67\n",
      "68\n",
      "69\n",
      "70\n",
      "71\n",
      "72\n",
      "73\n",
      "74\n",
      "75\n",
      "76\n",
      "77\n",
      "78\n",
      "79\n",
      "80\n",
      "81\n",
      "82\n",
      "83\n",
      "84\n",
      "85\n",
      "86\n",
      "87\n",
      "88\n",
      "89\n",
      "90\n",
      "91\n",
      "92\n",
      "93\n",
      "94\n",
      "95\n",
      "96\n",
      "97\n",
      "98\n",
      "99\n",
      "100\n"
     ]
    }
   ],
   "source": [
    "for _ in range(10000):\n",
    "    print(_)\n",
    "    if _ == 100:\n",
    "        break"
   ]
  },
  {
   "cell_type": "code",
   "execution_count": 29,
   "id": "de368c0d-f49d-4e80-9833-8347c35c10f8",
   "metadata": {},
   "outputs": [
    {
     "name": "stdout",
     "output_type": "stream",
     "text": [
      "Hello world 0\n",
      "Hello world 1\n",
      "Hello world 2\n",
      "Hello world 3\n",
      "Hello world 4\n",
      "Hello world 5\n",
      "Hello world 6\n",
      "Hello world 7\n",
      "Hello world 8\n",
      "Hello world 9\n"
     ]
    }
   ],
   "source": [
    "i= 0\n",
    "while True:\n",
    "    print(\"Hello world\", i)\n",
    "    i+=1\n",
    "    if i ==10:\n",
    "        break"
   ]
  },
  {
   "cell_type": "code",
   "execution_count": 30,
   "id": "8176b9f0-fb9c-41c3-ac4d-865721f26eff",
   "metadata": {},
   "outputs": [
    {
     "name": "stdout",
     "output_type": "stream",
     "text": [
      "5050\n"
     ]
    }
   ],
   "source": [
    "i = 0\n",
    "total =0\n",
    "while True:\n",
    "    total+=i\n",
    "    i+= 1\n",
    "    if i > 100:\n",
    "        break\n",
    "print(total)"
   ]
  },
  {
   "cell_type": "code",
   "execution_count": 31,
   "id": "c9bb8aca-dbf2-4de9-b368-ae872c31a5e9",
   "metadata": {},
   "outputs": [
    {
     "name": "stdout",
     "output_type": "stream",
     "text": [
      "0\n"
     ]
    }
   ],
   "source": [
    "i = 100\n",
    "total = 5050\n",
    "while True:\n",
    "    total-= i\n",
    "    i-= 1\n",
    "    if i == 0:\n",
    "        break\n",
    "print(total)"
   ]
  },
  {
   "cell_type": "code",
   "execution_count": 32,
   "id": "bfbe2327-414e-484a-9eb1-0215dbb733e8",
   "metadata": {},
   "outputs": [
    {
     "name": "stdin",
     "output_type": "stream",
     "text": [
      "q를 입력하면 종료됩니다.. q\n"
     ]
    },
    {
     "name": "stdout",
     "output_type": "stream",
     "text": [
      "프로그램을 종료합니다.\n"
     ]
    }
   ],
   "source": [
    "while True:\n",
    "    input_value = input(\"q를 입력하면 종료됩니다..\")\n",
    "    if input_value == \"q\": break\n",
    "print(\"프로그램을 종료합니다.\")"
   ]
  },
  {
   "cell_type": "code",
   "execution_count": 33,
   "id": "ec8302be-8ea8-4bb1-8f19-5b59f6544e68",
   "metadata": {},
   "outputs": [
    {
     "name": "stdout",
     "output_type": "stream",
     "text": [
      "1\t3\t5\t7\t9\t11\t13\t15\t17\t19\t21\t23\t25\t27\t29\t31\t33\t35\t37\t39\t41\t43\t45\t47\t49\t51\t53\t55\t57\t59\t61\t63\t65\t67\t69\t71\t73\t75\t77\t79\t81\t83\t85\t87\t89\t91\t93\t95\t97\t99\t"
     ]
    }
   ],
   "source": [
    "for _ in range(100):\n",
    "    if _ % 2 == 0:\n",
    "        continue\n",
    "    print(_, end=\"\\t\")"
   ]
  },
  {
   "cell_type": "code",
   "execution_count": 34,
   "id": "0e970ca5-b485-41e0-a145-056bff532659",
   "metadata": {},
   "outputs": [
    {
     "name": "stdout",
     "output_type": "stream",
     "text": [
      "1\t3\t5\t7\t9\t11\t13\t15\t17\t19\t21\t23\t25\t27\t29\t31\t33\t35\t37\t39\t41\t43\t45\t47\t49\t51\t53\t55\t57\t59\t61\t63\t65\t67\t69\t71\t73\t75\t77\t79\t81\t83\t85\t87\t89\t91\t93\t95\t97\t99\t"
     ]
    }
   ],
   "source": [
    "i = 0\n",
    "while i < 100:\n",
    "    i+=1\n",
    "    if i % 2 == 0:\n",
    "        continue\n",
    "    print(i, end=\"\\t\")"
   ]
  },
  {
   "cell_type": "code",
   "execution_count": 35,
   "id": "1987a356-0a5f-4c25-bae2-766c71b9b338",
   "metadata": {},
   "outputs": [
    {
     "name": "stdout",
     "output_type": "stream",
     "text": [
      "3 13 23 33 43 53 63 73 83 93 "
     ]
    }
   ],
   "source": [
    "i = 0\n",
    "while True:\n",
    "    if i % 10 !=3:\n",
    "        i += 1\n",
    "        continue\n",
    "    if i > 100:\n",
    "        break\n",
    "    print(i, end=\" \")\n",
    "    i += 1"
   ]
  },
  {
   "cell_type": "code",
   "execution_count": 36,
   "id": "f1396b0e-2d46-4ef4-a92f-3181d77578ab",
   "metadata": {},
   "outputs": [
    {
     "name": "stdout",
     "output_type": "stream",
     "text": [
      "1 2 3 4 5 6 7 8 9 10 "
     ]
    }
   ],
   "source": [
    "i = 1\n",
    "while i <= 10:\n",
    "    print(i, end=\" \")\n",
    "    i+=1"
   ]
  },
  {
   "cell_type": "code",
   "execution_count": 37,
   "id": "8851fd66-b0a1-48a8-9edf-56503062da05",
   "metadata": {},
   "outputs": [
    {
     "name": "stdout",
     "output_type": "stream",
     "text": [
      "1 2 3 4 5 6 7 8 9 10 "
     ]
    }
   ],
   "source": [
    "i = 1\n",
    "for _ in range(1,11):\n",
    "    print(_,end=\" \")"
   ]
  },
  {
   "cell_type": "code",
   "execution_count": 38,
   "id": "f3d4bc26-aa69-4339-876c-42e7d4515588",
   "metadata": {},
   "outputs": [
    {
     "name": "stdout",
     "output_type": "stream",
     "text": [
      "1 2 3 4 5 6 7 8 9 10 "
     ]
    }
   ],
   "source": [
    "i = 1\n",
    "while True:\n",
    "    if i <= 10:\n",
    "        print(i, end=\" \")\n",
    "        i+=1\n",
    "    else:\n",
    "        break"
   ]
  },
  {
   "cell_type": "code",
   "execution_count": 62,
   "id": "a6d0c998-8f82-4eba-bc6e-fc9ecdad2e1e",
   "metadata": {},
   "outputs": [
    {
     "name": "stdin",
     "output_type": "stream",
     "text": [
      "시작하는 정수 입력 : 1\n",
      "끝나는 정수 입력 : 10\n"
     ]
    },
    {
     "name": "stdout",
     "output_type": "stream",
     "text": [
      "1부터 10까지의 합은 55 입니다.\n"
     ]
    }
   ],
   "source": [
    "n = int(input(\"시작하는 정수 입력 :\"))\n",
    "m = int(input(\"끝나는 정수 입력 :\"))\n",
    "\n",
    "total = 0\n",
    "\n",
    "while n <= m:\n",
    "    total += n\n",
    "    n+=1\n",
    "print(f'{n-m}부터 {m}까지의 합은 {total} 입니다.')"
   ]
  },
  {
   "cell_type": "code",
   "execution_count": 60,
   "id": "a8e9927d-83f0-4012-ba71-e2877d1e23c0",
   "metadata": {},
   "outputs": [
    {
     "name": "stdin",
     "output_type": "stream",
     "text": [
      "시작하는 정수 입력 : 1\n",
      "끝나는 정수 입력 : 10\n"
     ]
    },
    {
     "name": "stdout",
     "output_type": "stream",
     "text": [
      "1부터 10까지의 합은 55입니다.\n"
     ]
    }
   ],
   "source": [
    "n = int(input(\"시작하는 정수 입력 :\"))\n",
    "m = int(input(\"끝나는 정수 입력 :\"))\n",
    "\n",
    "i = n\n",
    "total = 0\n",
    "\n",
    "while i <= m:\n",
    "    total += i\n",
    "    i += 1\n",
    "print(f'{n}부터 {m}까지의 합은 {total}입니다.')"
   ]
  },
  {
   "cell_type": "code",
   "execution_count": 61,
   "id": "259dfc4e-a3cf-48f0-931f-aa1b410842f6",
   "metadata": {},
   "outputs": [
    {
     "name": "stdin",
     "output_type": "stream",
     "text": [
      "시작하는정수 입력 : 1\n",
      "끝나는정수 입력 : 10\n"
     ]
    },
    {
     "name": "stdout",
     "output_type": "stream",
     "text": [
      "1부터 10까지의 합은 55입니다.\n"
     ]
    }
   ],
   "source": [
    "n = int(input(\"시작하는정수 입력 :\"))\n",
    "m = int(input(\"끝나는정수 입력 :\"))\n",
    "\n",
    "total = 0\n",
    "\n",
    "for _ in range(n,m+1):\n",
    "    total += _\n",
    "print(f'{n}부터 {m}까지의 합은 {total}입니다.')"
   ]
  },
  {
   "cell_type": "code",
   "execution_count": 81,
   "id": "302a5281-39d8-404f-95cd-7906215951e1",
   "metadata": {},
   "outputs": [
    {
     "name": "stdin",
     "output_type": "stream",
     "text": [
      "시작하는 정수 입력 : 2\n",
      "끝나는 정수 입력 : 7\n"
     ]
    },
    {
     "name": "stdout",
     "output_type": "stream",
     "text": [
      "2부터 7사이의 짝수 제곱의 합은 56입니다.\n"
     ]
    }
   ],
   "source": [
    "n = int(input(\"시작하는 정수 입력 :\"))\n",
    "m = int(input(\"끝나는 정수 입력 :\"))\n",
    "\n",
    "total = 0\n",
    "\n",
    "for _ in range(n,m+1):\n",
    "    if _ % 2 == 0:\n",
    "        total += _**2\n",
    "        \n",
    "print(f'{n}부터 {m}사이의 짝수 제곱의 합은 {total}입니다.')"
   ]
  },
  {
   "cell_type": "code",
   "execution_count": 93,
   "id": "813bbf95-19cd-455a-853f-cb6a2818c2ad",
   "metadata": {},
   "outputs": [
    {
     "name": "stdin",
     "output_type": "stream",
     "text": [
      "시작하는 정수 입력 : 2\n",
      "끝나는 정수 입력 : 7\n"
     ]
    },
    {
     "name": "stdout",
     "output_type": "stream",
     "text": [
      "2부터 7사이의 짝수 제곱의 합은 56입니다.\n"
     ]
    }
   ],
   "source": [
    "n = int(input(\"시작하는 정수 입력 :\"))\n",
    "m = int(input(\"끝나는 정수 입력 :\"))\n",
    "\n",
    "i = n\n",
    "total = 0\n",
    "\n",
    "while i <= m:\n",
    "    if i % 2 ==0:\n",
    "        total += i**2\n",
    "    i += 1\n",
    "\n",
    "print(f'{n}부터 {m}사이의 짝수 제곱의 합은 {total}입니다.')"
   ]
  },
  {
   "cell_type": "code",
   "execution_count": 116,
   "id": "4488d254-b756-4927-8b1e-0bcce751a6c8",
   "metadata": {},
   "outputs": [
    {
     "name": "stdout",
     "output_type": "stream",
     "text": [
      "79.0\n"
     ]
    }
   ],
   "source": [
    "A = [70,60,55,75,95,90,80,80,85,100]\n",
    "\n",
    "total = 0\n",
    "\n",
    "for score in A:\n",
    "    total += score\n",
    "    \n",
    "avg = total/len(A)\n",
    "print(avg)"
   ]
  },
  {
   "cell_type": "code",
   "execution_count": 117,
   "id": "6ba955bb-d64b-48e2-ad4a-96f5ce9800c5",
   "metadata": {},
   "outputs": [
    {
     "name": "stdout",
     "output_type": "stream",
     "text": [
      "79.0\n"
     ]
    }
   ],
   "source": [
    "A = [70,60,55,75,95,90,80,80,85,100]\n",
    "\n",
    "total = 0\n",
    "\n",
    "for _ in range(len(A)):\n",
    "    total += A[_]\n",
    "    \n",
    "avg = total/len(A)\n",
    "print(avg)"
   ]
  },
  {
   "cell_type": "code",
   "execution_count": 119,
   "id": "79f81d3a-8eae-4604-925d-c85c9bed7203",
   "metadata": {},
   "outputs": [
    {
     "name": "stdout",
     "output_type": "stream",
     "text": [
      "79.0\n"
     ]
    }
   ],
   "source": [
    "A = [70,60,55,75,95,90,80,80,85,100]\n",
    "\n",
    "total = 0\n",
    "i = 0\n",
    "\n",
    "while i < len(A):\n",
    "    total += A[i]\n",
    "    i+=1\n",
    "\n",
    "avg = total/len(A)\n",
    "print(avg)"
   ]
  },
  {
   "cell_type": "code",
   "execution_count": 129,
   "id": "4938ac43-d571-469b-a750-0acf227910e8",
   "metadata": {},
   "outputs": [
    {
     "name": "stdout",
     "output_type": "stream",
     "text": [
      "233168\n"
     ]
    }
   ],
   "source": [
    "total = 0\n",
    "\n",
    "for _ in range(1,1000):\n",
    "    if _ % 3 == 0:\n",
    "        total += _\n",
    "    elif _ % 5 == 0:\n",
    "        total += _\n",
    "print(total)"
   ]
  },
  {
   "cell_type": "code",
   "execution_count": 127,
   "id": "34599525-c7ec-4c52-8c2a-83c8508c33b8",
   "metadata": {},
   "outputs": [
    {
     "name": "stdout",
     "output_type": "stream",
     "text": [
      "233168\n"
     ]
    }
   ],
   "source": [
    "total = 0\n",
    "i = 0\n",
    "while i < 1000:\n",
    "    if i % 3 == 0:\n",
    "        total += i\n",
    "        i += 1\n",
    "    elif i % 5 == 0:\n",
    "        total += i\n",
    "        i += 1\n",
    "    else:\n",
    "        i += 1\n",
    "print(total)"
   ]
  },
  {
   "cell_type": "code",
   "execution_count": null,
   "id": "a4254755-faec-48fd-97e0-b8e2ad6f4620",
   "metadata": {},
   "outputs": [],
   "source": []
  }
 ],
 "metadata": {
  "kernelspec": {
   "display_name": "Python 3 (ipykernel)",
   "language": "python",
   "name": "python3"
  },
  "language_info": {
   "codemirror_mode": {
    "name": "ipython",
    "version": 3
   },
   "file_extension": ".py",
   "mimetype": "text/x-python",
   "name": "python",
   "nbconvert_exporter": "python",
   "pygments_lexer": "ipython3",
   "version": "3.9.13"
  }
 },
 "nbformat": 4,
 "nbformat_minor": 5
}
