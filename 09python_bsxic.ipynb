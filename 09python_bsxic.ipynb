{
 "cells": [
  {
   "cell_type": "markdown",
   "id": "fe6f7c74-6b33-4d4e-a146-30934e8b6bb3",
   "metadata": {
    "tags": []
   },
   "source": [
    "## 객체지향(Object Oriented) 프로그래밍"
   ]
  },
  {
   "cell_type": "markdown",
   "id": "a27331b9-1fbe-45f1-9b0e-bcb85951e2a5",
   "metadata": {
    "tags": []
   },
   "source": [
    "- 객체지향 프로그래밍은 복잡한 문제를 잘게 나누어 객체로 만들고,   \n",
    "객체를 조합해서 문제를 해결합니다.  \n",
    "  \n",
    "  \n",
    "- 현실 세계의 복잡한 문제를 처리하는데 유용하며 기능을 개선하고  \n",
    "발전시킬 때도 해당 클래스만 수정하면 되므로 큰 프로젝트의  \n",
    "유지보수에도 매우 효율적입니다.  \n",
    "  \n",
    "  \n",
    "- 객체가 가진 데이터를 클래스의 속성(Attribute)이라 부르고   \n",
    "객체가 갖는 기능을 메서드(Method)라고 부릅니다."
   ]
  },
  {
   "cell_type": "markdown",
   "id": "b92998b3-385e-417d-aeb9-59ed79f78170",
   "metadata": {
    "tags": []
   },
   "source": [
    "### 클래스(Class)\n",
    "- 클래스명으로 주로 PascalCase(UpperCamelCase)를 사용합니다.  \n",
    "#### instance_variable = ClassName()\n",
    "\n",
    "```python  \n",
    "class ClassName:\n",
    "    def method_name(self):\n",
    "        method_body\n",
    "    class__body\n",
    "...\n",
    "```"
   ]
  },
  {
   "cell_type": "markdown",
   "id": "9e02874d-030b-46f4-b503-05a08177ad58",
   "metadata": {
    "tags": []
   },
   "source": [
    "#### 메서드(Method)  \n",
    "\n",
    "```python  \n",
    "class ClassName:\n",
    "    def method_name(self):\n",
    "        method_body\n",
    "    class__body\n",
    "...\n",
    "```"
   ]
  },
  {
   "cell_type": "code",
   "execution_count": 50,
   "id": "45df631a-8dc4-4c2f-a50c-49c111e4fc33",
   "metadata": {},
   "outputs": [],
   "source": [
    "class Student:\n",
    "    def __init__(self):\n",
    "        pass"
   ]
  },
  {
   "cell_type": "code",
   "execution_count": 51,
   "id": "6f6e4e70-fa77-4e7a-b66b-55ee97e61b2e",
   "metadata": {},
   "outputs": [],
   "source": [
    "gh = Student() # 독립적인 값을 보장하는 인스턴스로 생성됩니다."
   ]
  },
  {
   "cell_type": "markdown",
   "id": "cd66f429-2410-4716-8971-dc4688730376",
   "metadata": {
    "tags": []
   },
   "source": [
    "#### 클래스 속성(Attribute)"
   ]
  },
  {
   "cell_type": "code",
   "execution_count": 52,
   "id": "d7bd153c-ded8-4d9e-b9d2-654e13052c4e",
   "metadata": {},
   "outputs": [],
   "source": [
    "class Person:\n",
    "    def __init__(self):\n",
    "        self.hello = \"안녕하세요.\""
   ]
  },
  {
   "cell_type": "code",
   "execution_count": 53,
   "id": "5ac2a05d-f448-44d3-bf58-c40eb6159c5d",
   "metadata": {},
   "outputs": [],
   "source": [
    "james = Person()"
   ]
  },
  {
   "cell_type": "code",
   "execution_count": 54,
   "id": "62ed29aa-732e-4dcf-b16b-55eb821b6701",
   "metadata": {},
   "outputs": [
    {
     "name": "stdout",
     "output_type": "stream",
     "text": [
      "안녕하세요.\n"
     ]
    }
   ],
   "source": [
    "print(james.hello)"
   ]
  },
  {
   "cell_type": "code",
   "execution_count": 55,
   "id": "50a1e2a2-a295-497b-925e-7a56e6585fa0",
   "metadata": {},
   "outputs": [
    {
     "name": "stdout",
     "output_type": "stream",
     "text": [
      "안녕하세요.\n"
     ]
    }
   ],
   "source": [
    "bebe = Person()\n",
    "print(bebe.hello)"
   ]
  },
  {
   "cell_type": "code",
   "execution_count": 56,
   "id": "64bb6e0e-21b3-4642-86d6-e17d26a04ae4",
   "metadata": {},
   "outputs": [
    {
     "name": "stdout",
     "output_type": "stream",
     "text": [
      "안녕하세요.\n"
     ]
    }
   ],
   "source": [
    "class Person:\n",
    "    def __init__(self):\n",
    "        self.hello = \"안녕하세요.\"\n",
    "        \n",
    "    def greeting(self):\n",
    "        print(self.hello)\n",
    "        \n",
    "james = Person()\n",
    "james.greeting()"
   ]
  },
  {
   "cell_type": "code",
   "execution_count": null,
   "id": "255ff896-f1ed-495e-9c8f-af1eb525d141",
   "metadata": {},
   "outputs": [],
   "source": []
  }
 ],
 "metadata": {
  "kernelspec": {
   "display_name": "Python 3 (ipykernel)",
   "language": "python",
   "name": "python3"
  },
  "language_info": {
   "codemirror_mode": {
    "name": "ipython",
    "version": 3
   },
   "file_extension": ".py",
   "mimetype": "text/x-python",
   "name": "python",
   "nbconvert_exporter": "python",
   "pygments_lexer": "ipython3",
   "version": "3.9.13"
  }
 },
 "nbformat": 4,
 "nbformat_minor": 5
}
