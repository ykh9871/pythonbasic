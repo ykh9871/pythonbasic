{
 "cells": [
  {
   "cell_type": "markdown",
   "id": "4266d24f-5a6f-4dbf-83d0-ab32552002ea",
   "metadata": {},
   "source": [
    "### random 라이브러리\n",
    "- random.randint(시작 정수, 끝정수)"
   ]
  },
  {
   "cell_type": "code",
   "execution_count": 5,
   "id": "174a60b8-3602-44db-b989-d2bdeb95ec7f",
   "metadata": {},
   "outputs": [
    {
     "name": "stdout",
     "output_type": "stream",
     "text": [
      "[1, 1, 2, 2, 1, 1, 1, 2, 1, 2]\n"
     ]
    }
   ],
   "source": [
    "import random\n",
    "random_list = [random.randint(1,2) for _ in range(10)]\n",
    "print(random_list)"
   ]
  },
  {
   "cell_type": "code",
   "execution_count": 59,
   "id": "530683df-8b36-465f-a4fe-3ccc96f1e7aa",
   "metadata": {},
   "outputs": [
    {
     "name": "stdin",
     "output_type": "stream",
     "text": [
      "로또 번호 몇 개 드릴까요? 7\n"
     ]
    },
    {
     "name": "stdout",
     "output_type": "stream",
     "text": [
      "[5, 16, 18, 27, 32, 34]\n",
      "[3, 15, 31, 33, 37, 40]\n",
      "[14, 21, 22, 29, 30, 45]\n",
      "[3, 11, 32, 35, 36, 39]\n",
      "[7, 15, 17, 34, 36, 40]\n",
      "[12, 33, 37, 38, 42, 45]\n",
      "[5, 17, 21, 31, 33, 34]\n"
     ]
    }
   ],
   "source": [
    "import random\n",
    "\n",
    "count = int(input(\"로또 번호 몇 개 드릴까요?\"))\n",
    "\n",
    "for i  in range(count):\n",
    "    lotto_numbers = []\n",
    "    while len(lotto_numbers) < 6:\n",
    "        lotto_number = random.randint(1,45)\n",
    "        if lotto_number not in lotto_numbers:\n",
    "            lotto_numbers.append(lotto_number)\n",
    "    lotto_numbers.sort()\n",
    "    print(lotto_numbers)"
   ]
  },
  {
   "cell_type": "code",
   "execution_count": 68,
   "id": "f34a11f2-a5f1-44a1-94f1-0e4c4a98a928",
   "metadata": {},
   "outputs": [
    {
     "name": "stdin",
     "output_type": "stream",
     "text": [
      "로또 번호 몇 개 드릴까요? 7\n"
     ]
    },
    {
     "name": "stdout",
     "output_type": "stream",
     "text": [
      "[3, 13, 15, 30, 32, 42]\n",
      "[5, 7, 14, 30, 38, 41]\n",
      "[2, 5, 20, 28, 35, 37]\n",
      "[4, 7, 9, 12, 18, 29]\n",
      "[13, 14, 16, 23, 36, 41]\n",
      "[8, 27, 30, 31, 34, 38]\n",
      "[6, 9, 17, 18, 29, 44]\n"
     ]
    }
   ],
   "source": [
    "import random\n",
    "\n",
    "count = int(input(\"로또 번호 몇 개 드릴까요?\"))\n",
    "\n",
    "for i  in range(count):\n",
    "    lotto = [j for j in range(1,45)]\n",
    "    lotto_numbers = []\n",
    "    for _ in range(6):\n",
    "        lotto_number = lotto[random.randint(1, len(lotto) - 1)]\n",
    "        lotto_numbers.append(lotto_number)\n",
    "        lotto.remove(lotto_number)\n",
    "        lotto_numbers.sort()\n",
    "    print(lotto_numbers)"
   ]
  },
  {
   "cell_type": "code",
   "execution_count": 87,
   "id": "5b315d46-0982-4540-ae33-1ff38c18871f",
   "metadata": {},
   "outputs": [
    {
     "name": "stdin",
     "output_type": "stream",
     "text": [
      "로또 번호 몇 개 드릴까요? 5\n"
     ]
    },
    {
     "name": "stdout",
     "output_type": "stream",
     "text": [
      "[8, 9, 17, 21, 31, 36]\n",
      "[11, 15, 19, 36, 37, 41]\n",
      "[5, 6, 14, 18, 36, 45]\n",
      "[6, 13, 15, 29, 33, 41]\n",
      "[3, 11, 15, 24, 26, 39]\n"
     ]
    }
   ],
   "source": [
    "import random\n",
    "\n",
    "times = int(input(\"로또 번호 몇 개 드릴까요?\"))\n",
    "\n",
    "for i in range(times): # i 개수만큼 반복\n",
    "    lotto_list = [random.randint(1,45) for k in range(6)] # k = 로또 번호가 6개니까 반복 변수로\n",
    "    for j in range(len(lotto_list)): #로또번호 리스트안의 개수만큼 반복\n",
    "        if lotto_list.count(lotto_list[j]) > 1: #중복되는 값이 1초과라면\n",
    "            for i in range(lotto_list.count(lotto_list[j])-1): #중복되는 값만큼 반복 중복되는 값이 1개는 남아야 하니까 -1\n",
    "                lotto_list.remove(lotto_list[j]) #중복되는 값을 제거\n",
    "                lotto_list.append(random.randint(1,45)) #새로운 랜덤값을 추가\n",
    "                break\n",
    "        else:\n",
    "            lotto_list.sort()\n",
    "    \n",
    "    print(lotto_list)"
   ]
  },
  {
   "cell_type": "markdown",
   "id": "e6f27150-5b08-4d34-a022-1bdb189da3c2",
   "metadata": {},
   "source": [
    "### Set 자료형  \n",
    "- 딕셔너리처럼 중괄호를 사용해서 생성합니다.\n",
    "- 중복값을 갖지 않습니다\n",
    "```python\n",
    "set_variable = {키1,키2,키3,... }  \n",
    "```  \n",
    "### set comrehention  \n",
    "```python\n",
    "set_variable = {expression for 변수 in iterable if 조건식}\n",
    "\n",
    "```"
   ]
  },
  {
   "cell_type": "code",
   "execution_count": 90,
   "id": "06158a5e-184a-4495-b3f7-d6f6d3099083",
   "metadata": {},
   "outputs": [
    {
     "name": "stdout",
     "output_type": "stream",
     "text": [
      "<class 'dict'>\n",
      "<class 'set'>\n"
     ]
    }
   ],
   "source": [
    "print(type({}))\n",
    "print(type({1}))"
   ]
  },
  {
   "cell_type": "code",
   "execution_count": 114,
   "id": "9c6a36ec-5611-4a69-a487-da2d93b3433b",
   "metadata": {},
   "outputs": [
    {
     "name": "stdout",
     "output_type": "stream",
     "text": [
      "set() <class 'set'>\n",
      "{1}\n"
     ]
    }
   ],
   "source": [
    "set_variable = set()\n",
    "print(set_variable, type(set_variable))\n",
    "# 정수 1 값을 set_variable에 5차례 넣습니다.\n",
    "[set_variable.add(1) for _ in range(5)]\n",
    "\n",
    "# 출력하면 중복된 값 없이 출력된다.\n",
    "print(set_variable)"
   ]
  },
  {
   "cell_type": "code",
   "execution_count": 115,
   "id": "820c2f0d-1c36-4b8f-89b6-8902e49ef34f",
   "metadata": {},
   "outputs": [
    {
     "name": "stdout",
     "output_type": "stream",
     "text": [
      "{1, 2, 3, 4, 5, 6, 7, 8, 9}\n",
      "{1, 2, 3, 4, 5, 6, 7, 8}\n"
     ]
    },
    {
     "ename": "KeyError",
     "evalue": "'없는 값'",
     "output_type": "error",
     "traceback": [
      "\u001b[1;31m---------------------------------------------------------------------------\u001b[0m",
      "\u001b[1;31mKeyError\u001b[0m                                  Traceback (most recent call last)",
      "\u001b[1;32m~\\AppData\\Local\\Temp\\ipykernel_12272\\3550970912.py\u001b[0m in \u001b[0;36m<module>\u001b[1;34m\u001b[0m\n\u001b[0;32m      3\u001b[0m \u001b[0mset_variable\u001b[0m\u001b[1;33m.\u001b[0m\u001b[0mremove\u001b[0m\u001b[1;33m(\u001b[0m\u001b[1;36m9\u001b[0m\u001b[1;33m)\u001b[0m\u001b[1;33m\u001b[0m\u001b[1;33m\u001b[0m\u001b[0m\n\u001b[0;32m      4\u001b[0m \u001b[0mprint\u001b[0m\u001b[1;33m(\u001b[0m\u001b[0mset_variable\u001b[0m\u001b[1;33m)\u001b[0m\u001b[1;33m\u001b[0m\u001b[1;33m\u001b[0m\u001b[0m\n\u001b[1;32m----> 5\u001b[1;33m \u001b[0mset_variable\u001b[0m\u001b[1;33m.\u001b[0m\u001b[0mremove\u001b[0m\u001b[1;33m(\u001b[0m\u001b[1;34m'없는 값'\u001b[0m\u001b[1;33m)\u001b[0m\u001b[1;33m\u001b[0m\u001b[1;33m\u001b[0m\u001b[0m\n\u001b[0m",
      "\u001b[1;31mKeyError\u001b[0m: '없는 값'"
     ]
    }
   ],
   "source": [
    "set_variable = {1,2,3,4,5,6,7,8,9}\n",
    "print(set_variable)\n",
    "set_variable.remove(9)\n",
    "print(set_variable)\n",
    "set_variable.remove('없는 값')"
   ]
  },
  {
   "cell_type": "code",
   "execution_count": 116,
   "id": "60777e05-aaa1-4121-9759-382c2301781c",
   "metadata": {},
   "outputs": [
    {
     "name": "stdout",
     "output_type": "stream",
     "text": [
      "{1, 2, 3, 4, 5, 6, 7, 8}\n",
      "{1, 2, 3, 4, 5, 6, 7}\n",
      "{1, 2, 3, 4, 5, 6, 7}\n"
     ]
    }
   ],
   "source": [
    "print(set_variable)\n",
    "set_variable.discard(8)\n",
    "print(set_variable)\n",
    "set_variable.discard('없는 값')\n",
    "print(set_variable)"
   ]
  },
  {
   "cell_type": "code",
   "execution_count": 117,
   "id": "ef50558c-3596-475e-bf11-1048e8bb5d0c",
   "metadata": {},
   "outputs": [
    {
     "name": "stdout",
     "output_type": "stream",
     "text": [
      "{0, 3, 6, 9, 12, 15, 18}\n",
      "{3, 6, 9, 12, 15, 18}\n"
     ]
    }
   ],
   "source": [
    "set_variable = {_ for _ in range(20) if _ % 3 == 0}\n",
    "print(set_variable)\n",
    "[set_variable.pop() for _ in range(20) if _ % 3 == 0]\n",
    "print(set_variable)"
   ]
  },
  {
   "cell_type": "code",
   "execution_count": 118,
   "id": "bf00fd2b-cde5-43e8-86b2-210011e765c9",
   "metadata": {},
   "outputs": [
    {
     "name": "stdout",
     "output_type": "stream",
     "text": [
      "{0, 3, 6, 9, 12, 15, 18}\n",
      "set()\n"
     ]
    }
   ],
   "source": [
    "set_variable = {_ for _ in range(20) if _ % 3 == 0}\n",
    "print(set_variable)\n",
    "set_variable.clear()\n",
    "print(set_variable)"
   ]
  },
  {
   "cell_type": "code",
   "execution_count": 119,
   "id": "c3f952c8-035f-41fc-aee7-aa28902a1a27",
   "metadata": {},
   "outputs": [
    {
     "name": "stdout",
     "output_type": "stream",
     "text": [
      "{0, 3, 6, 9, 12, 15, 18} 개수는 7 입니다.\n"
     ]
    }
   ],
   "source": [
    "set_variable = {_ for _ in range(20) if _ % 3 == 0}\n",
    "print(set_variable, \"개수는\", len(set_variable), \"입니다.\")"
   ]
  },
  {
   "cell_type": "code",
   "execution_count": 212,
   "id": "dc065a08-981b-4a9b-83f0-fac4eea07f53",
   "metadata": {},
   "outputs": [
    {
     "name": "stdout",
     "output_type": "stream",
     "text": [
      "A: {1, 2, 3, 4} \n",
      "B {2, 4, 5}\n",
      "set.union(A, B): {1, 2, 3, 4, 5}\n",
      "A | B: {1, 2, 3, 4, 5}\n"
     ]
    }
   ],
   "source": [
    "A = {_ for _ in range(1,5)}\n",
    "B = {_ for _ in range(2,6) if _ != 3}\n",
    "print(\"A:\", A, \"\\nB\", B)\n",
    "print(\"set.union(A, B):\", set.union(A, B))\n",
    "print(\"A | B:\", A | B)"
   ]
  },
  {
   "cell_type": "code",
   "execution_count": 194,
   "id": "be3a4f4e-bd1f-4669-9327-b02829091338",
   "metadata": {},
   "outputs": [
    {
     "name": "stdout",
     "output_type": "stream",
     "text": [
      "A: {1, 2, 3, 4} \n",
      "B {2, 4, 5}\n",
      "set.intersection(A, B): {2, 4}\n",
      "A - B: {1, 3}\n"
     ]
    }
   ],
   "source": [
    "A = {_ for _ in range(1,5)}\n",
    "B = {_ for _ in range(2,6) if _ != 3}\n",
    "print(\"A:\", A, \"\\nB\", B)\n",
    "print(\"set.intersection(A, B):\", set.intersection(A, B))\n",
    "print(\"A - B:\", A - B)"
   ]
  },
  {
   "cell_type": "code",
   "execution_count": 123,
   "id": "a1d44a84-7aef-4407-95d0-82a0207ac0cb",
   "metadata": {},
   "outputs": [
    {
     "name": "stdout",
     "output_type": "stream",
     "text": [
      "A: {1, 2, 3, 4} \n",
      "B {2, 4, 5}\n",
      "set.difference(A, B): {1, 3}\n",
      "A - B: {1, 3}\n"
     ]
    }
   ],
   "source": [
    "A = {_ for _ in range(1,5)}\n",
    "B = {_ for _ in range(2,6) if _ != 3}\n",
    "print(\"A:\", A, \"\\nB\", B)\n",
    "print(\"set.difference(A, B):\", set.difference(A, B))\n",
    "print(\"A - B:\", A - B)"
   ]
  },
  {
   "cell_type": "code",
   "execution_count": 127,
   "id": "b7720a84-7fd1-4980-9e3f-79127bc1ebcf",
   "metadata": {},
   "outputs": [
    {
     "name": "stdout",
     "output_type": "stream",
     "text": [
      "A: {1, 2, 3, 4} \n",
      "B {2, 4, 5}\n",
      "set.symmetric_difference(A, B): {1, 3, 5}\n",
      "A ^ B: {1, 3, 5}\n"
     ]
    }
   ],
   "source": [
    "A = {_ for _ in range(1,5)}\n",
    "B = {_ for _ in range(2,6) if _ != 3}\n",
    "print(\"A:\", A, \"\\nB\", B)\n",
    "print(\"set.symmetric_difference(A, B):\", set.symmetric_difference(A, B))\n",
    "print(\"A ^ B:\", A ^ B)"
   ]
  },
  {
   "cell_type": "code",
   "execution_count": 128,
   "id": "ceafaaca-ce73-42c4-9e5e-cf570689f568",
   "metadata": {},
   "outputs": [
    {
     "name": "stdout",
     "output_type": "stream",
     "text": [
      "A: {1, 2, 3, 4} \n",
      "B {2, 4, 5}\n",
      "A.update(B): {1, 2, 3, 4, 5}\n"
     ]
    }
   ],
   "source": [
    "A = {_ for _ in range(1,5)}\n",
    "B = {_ for _ in range(2,6) if _ != 3}\n",
    "print(\"A:\", A, \"\\nB\", B)\n",
    "A.update(B) # A /= B 와 같습니다.\n",
    "print(\"A.update(B):\", A)"
   ]
  },
  {
   "cell_type": "code",
   "execution_count": 129,
   "id": "e05654b9-de17-40d7-bca2-545583ef3f8c",
   "metadata": {},
   "outputs": [
    {
     "name": "stdout",
     "output_type": "stream",
     "text": [
      "A: {1, 2, 3, 4} \n",
      "B {2, 4, 5}\n",
      "A.intersection_update(B): {2, 4}\n"
     ]
    }
   ],
   "source": [
    "A = {_ for _ in range(1,5)}\n",
    "B = {_ for _ in range(2,6) if _ != 3}\n",
    "print(\"A:\", A, \"\\nB\", B)\n",
    "A.intersection_update(B) # A &= B 와 같습니다.\n",
    "print(\"A.intersection_update(B):\", A)"
   ]
  },
  {
   "cell_type": "code",
   "execution_count": 291,
   "id": "8cba08bf-7d10-46ff-b803-a2e97b13b112",
   "metadata": {},
   "outputs": [
    {
     "name": "stdout",
     "output_type": "stream",
     "text": [
      "A: {1, 2, 3, 4} \n",
      "B {2, 4, 5}\n",
      "A.difference_update(B): {1, 3}\n"
     ]
    }
   ],
   "source": [
    "A = {_ for _ in range(1,5)}\n",
    "B = {_ for _ in range(2,6) if _ != 3}\n",
    "print(\"A:\", A, \"\\nB\", B)\n",
    "A.difference_update(B) # A /= B 와 같습니다.\n",
    "print(\"A.difference_update(B):\", A)"
   ]
  },
  {
   "cell_type": "code",
   "execution_count": 288,
   "id": "3b830e98-2400-4d24-a0dc-60a817ed2d51",
   "metadata": {},
   "outputs": [
    {
     "name": "stdout",
     "output_type": "stream",
     "text": [
      "A: {1, 2, 3, 4} \n",
      "B {2, 4, 5}\n",
      "A.symmetric_difference_update(B): {1, 3, 5}\n"
     ]
    }
   ],
   "source": [
    "A = {_ for _ in range(1,5)}\n",
    "B = {_ for _ in range(2,6) if _ != 3}\n",
    "print(\"A:\", A, \"\\nB\", B)\n",
    "A.symmetric_difference_update(B) # A /= B 와 같습니다.\n",
    "print(\"A.symmetric_difference_update(B):\", A)"
   ]
  },
  {
   "cell_type": "code",
   "execution_count": 295,
   "id": "f965d743-3118-4257-922f-380d81c884dd",
   "metadata": {},
   "outputs": [
    {
     "name": "stdout",
     "output_type": "stream",
     "text": [
      "A: {0, 1, 2} \n",
      "B: {0, 1}\n",
      "B.issubset(A): False\n"
     ]
    }
   ],
   "source": [
    "A = {_ for _ in range(0,3)}\n",
    "B = {_ for _ in range(0,2)}\n",
    "print(\"A:\", A, \"\\nB:\", B)\n",
    "print(\"B.issubset(A):\", A.issubset(B))"
   ]
  },
  {
   "cell_type": "code",
   "execution_count": 293,
   "id": "b4e52cc5-6522-42c4-8194-5d1061c8f466",
   "metadata": {},
   "outputs": [
    {
     "name": "stdout",
     "output_type": "stream",
     "text": [
      "A: {0, 1, 2} \n",
      "B: {0, 1, 2}\n",
      "B.issubset(A): True\n"
     ]
    }
   ],
   "source": [
    "A = {_ for _ in range(0,3)}\n",
    "B = {_ for _ in range(0,3)}\n",
    "print(\"A:\", A, \"\\nB:\", B)\n",
    "print(\"B.issubset(A):\", A.issubset(B))"
   ]
  },
  {
   "cell_type": "code",
   "execution_count": 216,
   "id": "a473bef4-0599-4734-8b2a-01af3e79c7c0",
   "metadata": {},
   "outputs": [
    {
     "name": "stdout",
     "output_type": "stream",
     "text": [
      "A: {0, 1, 2} \n",
      "B: {0, 1}\n"
     ]
    },
    {
     "ename": "AttributeError",
     "evalue": "'set' object has no attribute 'issupersubset'",
     "output_type": "error",
     "traceback": [
      "\u001b[1;31m---------------------------------------------------------------------------\u001b[0m",
      "\u001b[1;31mAttributeError\u001b[0m                            Traceback (most recent call last)",
      "\u001b[1;32m~\\AppData\\Local\\Temp\\ipykernel_12272\\2509097811.py\u001b[0m in \u001b[0;36m<module>\u001b[1;34m\u001b[0m\n\u001b[0;32m      2\u001b[0m \u001b[0mB\u001b[0m \u001b[1;33m=\u001b[0m \u001b[1;33m{\u001b[0m\u001b[0m_\u001b[0m \u001b[1;32mfor\u001b[0m \u001b[0m_\u001b[0m \u001b[1;32min\u001b[0m \u001b[0mrange\u001b[0m\u001b[1;33m(\u001b[0m\u001b[1;36m0\u001b[0m\u001b[1;33m,\u001b[0m\u001b[1;36m2\u001b[0m\u001b[1;33m)\u001b[0m\u001b[1;33m}\u001b[0m\u001b[1;33m\u001b[0m\u001b[1;33m\u001b[0m\u001b[0m\n\u001b[0;32m      3\u001b[0m \u001b[0mprint\u001b[0m\u001b[1;33m(\u001b[0m\u001b[1;34m\"A:\"\u001b[0m\u001b[1;33m,\u001b[0m \u001b[0mA\u001b[0m\u001b[1;33m,\u001b[0m \u001b[1;34m\"\\nB:\"\u001b[0m\u001b[1;33m,\u001b[0m \u001b[0mB\u001b[0m\u001b[1;33m)\u001b[0m\u001b[1;33m\u001b[0m\u001b[1;33m\u001b[0m\u001b[0m\n\u001b[1;32m----> 4\u001b[1;33m \u001b[0mprint\u001b[0m\u001b[1;33m(\u001b[0m\u001b[1;34m\"B.issupersubset(A):\"\u001b[0m\u001b[1;33m,\u001b[0m \u001b[0mB\u001b[0m\u001b[1;33m.\u001b[0m\u001b[0missupersubset\u001b[0m\u001b[1;33m(\u001b[0m\u001b[0mA\u001b[0m\u001b[1;33m)\u001b[0m\u001b[1;33m)\u001b[0m\u001b[1;33m\u001b[0m\u001b[1;33m\u001b[0m\u001b[0m\n\u001b[0m",
      "\u001b[1;31mAttributeError\u001b[0m: 'set' object has no attribute 'issupersubset'"
     ]
    }
   ],
   "source": [
    "A = {_ for _ in range(0,3)}\n",
    "B = {_ for _ in range(0,2)}\n",
    "print(\"A:\", A, \"\\nB:\", B)\n",
    "print(\"B.issupersubset(A):\", B.issupersubset(A))"
   ]
  },
  {
   "cell_type": "code",
   "execution_count": 137,
   "id": "67bd672d-9624-4f6d-8a9d-f5f404791240",
   "metadata": {},
   "outputs": [
    {
     "name": "stdout",
     "output_type": "stream",
     "text": [
      "A: {0, 1, 2} \n",
      "B: {0, 1, 2}\n",
      "A > B False\n",
      "A < B False\n"
     ]
    }
   ],
   "source": [
    "A = {_ for _ in range(0,3)}\n",
    "B = {_ for _ in range(0,3)}\n",
    "print(\"A:\", A, \"\\nB:\", B)\n",
    "print(\"A > B\", A > B)\n",
    "print(\"A < B\", A < B)"
   ]
  },
  {
   "cell_type": "code",
   "execution_count": 138,
   "id": "f45b4fb7-7256-42ef-aa2f-c2c42c1aa6f4",
   "metadata": {},
   "outputs": [
    {
     "name": "stdout",
     "output_type": "stream",
     "text": [
      "A: {0, 1, 2} \n",
      "B: {0, 1}\n",
      "A > B True\n",
      "A < B False\n"
     ]
    }
   ],
   "source": [
    "A = {_ for _ in range(0,3)}\n",
    "B = {_ for _ in range(0,2)}\n",
    "print(\"A:\", A, \"\\nB:\", B)\n",
    "print(\"A > B\", A > B)\n",
    "print(\"A < B\", A < B)"
   ]
  },
  {
   "cell_type": "code",
   "execution_count": 139,
   "id": "baf7ec32-696f-4f01-83a9-ee89cfafd303",
   "metadata": {},
   "outputs": [
    {
     "name": "stdout",
     "output_type": "stream",
     "text": [
      "A: {0, 1, 2} \n",
      "B: {0, 1, 2}\n",
      "A == B True\n"
     ]
    }
   ],
   "source": [
    "A = {_ for _ in range(0,3)}\n",
    "B = {_ for _ in range(0,3)}\n",
    "print(\"A:\", A, \"\\nB:\", B)\n",
    "print(\"A == B\", A == B)"
   ]
  },
  {
   "cell_type": "code",
   "execution_count": 143,
   "id": "043b37f4-ec9f-468a-98d8-13b5603fc69b",
   "metadata": {},
   "outputs": [
    {
     "name": "stdout",
     "output_type": "stream",
     "text": [
      "A: {0, 1, 2} \n",
      "B: {3, 4, 5}\n",
      "A.isdisjoint(B): True\n"
     ]
    }
   ],
   "source": [
    "A = {_ for _ in range(0,3)}\n",
    "B = {_ for _ in range(3,6)}\n",
    "print(\"A:\", A, \"\\nB:\", B)\n",
    "print(\"A.isdisjoint(B):\", A.isdisjoint(B))"
   ]
  },
  {
   "cell_type": "code",
   "execution_count": 187,
   "id": "4ba9d08e-b9b7-471e-aa73-6c06f45fe0b7",
   "metadata": {},
   "outputs": [
    {
     "name": "stdin",
     "output_type": "stream",
     "text": [
      "로또 번호 몇 개 드릴까요? 7\n"
     ]
    },
    {
     "name": "stdout",
     "output_type": "stream",
     "text": [
      "[7, 16, 19, 24, 26, 35]\n",
      "[3, 11, 18, 22, 24, 45]\n",
      "[14, 20, 35, 36, 37, 39]\n",
      "[6, 14, 25, 32, 33, 42]\n",
      "[2, 8, 18, 23, 33, 42]\n",
      "[2, 5, 7, 12, 13, 23]\n",
      "[17, 18, 26, 34, 37, 40]\n"
     ]
    }
   ],
   "source": [
    "import random\n",
    "count = int(input(\"로또 번호 몇 개 드릴까요?\"))\n",
    "lotto = set()\n",
    "for i  in range(count):\n",
    "    lotto = {random.randint(1,45) for k in range(6)}\n",
    "    while len(lotto) != 6:\n",
    "        lotto = {random.randint(1,45) for k in range(6)}\n",
    "    result = list(lotto)\n",
    "    result.sort()\n",
    "    print(result)"
   ]
  },
  {
   "cell_type": "code",
   "execution_count": 197,
   "id": "78a2b237-2e6b-4844-b496-dc5cb574fb03",
   "metadata": {},
   "outputs": [
    {
     "name": "stdout",
     "output_type": "stream",
     "text": [
      "{1, 2, 3, 4}\n"
     ]
    }
   ],
   "source": [
    "list_sample = [1,2,2,3,3,3,4,4,4,4]\n",
    "list_sample = set([1,2,2,3,3,3,4,4,4,4])\n",
    "print(list_sample)"
   ]
  },
  {
   "cell_type": "code",
   "execution_count": 211,
   "id": "982ad1e0-67de-43fe-81f9-b19910c0a1e3",
   "metadata": {},
   "outputs": [
    {
     "name": "stdout",
     "output_type": "stream",
     "text": [
      "{75, 45, 15, 90, 60, 30}\n"
     ]
    }
   ],
   "source": [
    "set_5 = {_ for _ in range(1,101) if _ % 3 == 0}\n",
    "set_3 = {_ for _ in range(1,101) if _ % 5 == 0}\n",
    "result_set = set.intersection(set_3, set_5)\n",
    "\n",
    "print(result_set)"
   ]
  },
  {
   "cell_type": "code",
   "execution_count": 285,
   "id": "68902123-c979-480e-b861-f7d8746a666c",
   "metadata": {},
   "outputs": [
    {
     "name": "stdout",
     "output_type": "stream",
     "text": [
      "개인정보 조회, 구매관리, 근태관리, 시스템 관리, 인사관리, 회계 관리"
     ]
    }
   ],
   "source": [
    "role_admin = (\"회계 관리\", \"인사관리\", \"구매관리\", \"시스템 관리\")\n",
    "role_hr = (\"인사관리\", \"개인정보 조회\", \"회계 관리\", \"근태관리\")\n",
    "role_user = (\"개인정보 조회\", \"근태관리\")\n",
    "\n",
    "menus = list(set(role_user+role_hr+role_admin))\n",
    "menus.sort()\n",
    "end_char = \", \"\n",
    "for menu in menus:\n",
    "    if menus[-1] == menu:\n",
    "        end_char = \"\"\n",
    "    print(menu, end=end_char)"
   ]
  },
  {
   "cell_type": "code",
   "execution_count": null,
   "id": "572eea1b-858a-4ed2-8dd0-1241a853597a",
   "metadata": {},
   "outputs": [],
   "source": []
  }
 ],
 "metadata": {
  "kernelspec": {
   "display_name": "Python 3 (ipykernel)",
   "language": "python",
   "name": "python3"
  },
  "language_info": {
   "codemirror_mode": {
    "name": "ipython",
    "version": 3
   },
   "file_extension": ".py",
   "mimetype": "text/x-python",
   "name": "python",
   "nbconvert_exporter": "python",
   "pygments_lexer": "ipython3",
   "version": "3.9.13"
  }
 },
 "nbformat": 4,
 "nbformat_minor": 5
}
