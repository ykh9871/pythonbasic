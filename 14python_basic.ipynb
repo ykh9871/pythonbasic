{
 "cells": [
  {
   "cell_type": "markdown",
   "id": "c7ee6ea1-424c-4070-bc48-b915f4cc3bc5",
   "metadata": {
    "jp-MarkdownHeadingCollapsed": true,
    "tags": []
   },
   "source": [
    "#### 설정"
   ]
  },
  {
   "cell_type": "code",
   "execution_count": 1,
   "id": "27fe22f7-975b-46c6-8d72-49dbbfffdab9",
   "metadata": {},
   "outputs": [],
   "source": [
    "import pandas as pd\n",
    "import numpy as np\n",
    "import seaborn as sns\n",
    "import matplotlib as mpl\n",
    "import matplotlib.pyplot as plt\n",
    "import matplotlib.font_manager as font_manager\n",
    "from pathlib import Path"
   ]
  },
  {
   "cell_type": "code",
   "execution_count": 2,
   "id": "6d1af301-a35e-44b2-a017-358c016fe225",
   "metadata": {},
   "outputs": [
    {
     "name": "stdout",
     "output_type": "stream",
     "text": [
      "NanumGothic\n",
      "Nanum Pen\n",
      "['Nanum Pen']\n"
     ]
    }
   ],
   "source": [
    "# Add every font at the specified location\n",
    "font_dir = ['C:/python/fonts']\n",
    "for font in font_manager.findSystemFonts(fontpaths=font_dir):\n",
    "    print(mpl.font_manager.FontProperties(fname=font).get_name())\n",
    "    font_manager.fontManager.addfont(font)\n",
    "# Set font family globally\n",
    "mpl.rcParams['font.family'] = 'Nanum Pen'\n",
    "print(mpl.rcParams['font.family'])\n",
    "# 유니코드에서 음수 부호설정\n",
    "mpl.rc('axes', unicode_minus=False)"
   ]
  },
  {
   "cell_type": "code",
   "execution_count": 3,
   "id": "cf7d4560-20dc-4de9-bb1e-7671c3d23405",
   "metadata": {},
   "outputs": [],
   "source": [
    "# 그래프 출력이 안될 시\n",
    "%matplotlib inline"
   ]
  },
  {
   "cell_type": "markdown",
   "id": "35bc3421-51a1-4f41-946f-1100d1596376",
   "metadata": {
    "jp-MarkdownHeadingCollapsed": true,
    "tags": []
   },
   "source": [
    "## Stack Overflow Annual Developer Survey"
   ]
  },
  {
   "cell_type": "markdown",
   "id": "1067688c-eb27-4dfd-b5ae-a62d56750d00",
   "metadata": {
    "jp-MarkdownHeadingCollapsed": true,
    "tags": []
   },
   "source": [
    "### ResponseId"
   ]
  },
  {
   "cell_type": "code",
   "execution_count": 373,
   "id": "9ca4fb74-9bdb-4d0d-b449-46aaf4d4366d",
   "metadata": {},
   "outputs": [
    {
     "data": {
      "text/html": [
       "<div>\n",
       "<style scoped>\n",
       "    .dataframe tbody tr th:only-of-type {\n",
       "        vertical-align: middle;\n",
       "    }\n",
       "\n",
       "    .dataframe tbody tr th {\n",
       "        vertical-align: top;\n",
       "    }\n",
       "\n",
       "    .dataframe thead th {\n",
       "        text-align: right;\n",
       "    }\n",
       "</style>\n",
       "<table border=\"1\" class=\"dataframe\">\n",
       "  <thead>\n",
       "    <tr style=\"text-align: right;\">\n",
       "      <th></th>\n",
       "      <th>MainBranch</th>\n",
       "      <th>Employment</th>\n",
       "      <th>RemoteWork</th>\n",
       "      <th>CodingActivities</th>\n",
       "      <th>EdLevel</th>\n",
       "      <th>LearnCode</th>\n",
       "      <th>LearnCodeOnline</th>\n",
       "      <th>LearnCodeCoursesCert</th>\n",
       "      <th>YearsCode</th>\n",
       "      <th>YearsCodePro</th>\n",
       "      <th>DevType</th>\n",
       "      <th>OrgSize</th>\n",
       "      <th>PurchaseInfluence</th>\n",
       "      <th>BuyNewTool</th>\n",
       "      <th>Country</th>\n",
       "      <th>Currency</th>\n",
       "      <th>CompTotal</th>\n",
       "      <th>CompFreq</th>\n",
       "      <th>LanguageHaveWorkedWith</th>\n",
       "      <th>LanguageWantToWorkWith</th>\n",
       "      <th>DatabaseHaveWorkedWith</th>\n",
       "      <th>DatabaseWantToWorkWith</th>\n",
       "      <th>PlatformHaveWorkedWith</th>\n",
       "      <th>PlatformWantToWorkWith</th>\n",
       "      <th>WebframeHaveWorkedWith</th>\n",
       "      <th>WebframeWantToWorkWith</th>\n",
       "      <th>MiscTechHaveWorkedWith</th>\n",
       "      <th>MiscTechWantToWorkWith</th>\n",
       "      <th>ToolsTechHaveWorkedWith</th>\n",
       "      <th>ToolsTechWantToWorkWith</th>\n",
       "      <th>NEWCollabToolsHaveWorkedWith</th>\n",
       "      <th>NEWCollabToolsWantToWorkWith</th>\n",
       "      <th>OpSysProfessional use</th>\n",
       "      <th>OpSysPersonal use</th>\n",
       "      <th>VersionControlSystem</th>\n",
       "      <th>VCInteraction</th>\n",
       "      <th>VCHostingPersonal use</th>\n",
       "      <th>VCHostingProfessional use</th>\n",
       "      <th>OfficeStackAsyncHaveWorkedWith</th>\n",
       "      <th>OfficeStackAsyncWantToWorkWith</th>\n",
       "      <th>OfficeStackSyncHaveWorkedWith</th>\n",
       "      <th>OfficeStackSyncWantToWorkWith</th>\n",
       "      <th>Blockchain</th>\n",
       "      <th>NEWSOSites</th>\n",
       "      <th>SOVisitFreq</th>\n",
       "      <th>SOAccount</th>\n",
       "      <th>SOPartFreq</th>\n",
       "      <th>SOComm</th>\n",
       "      <th>Age</th>\n",
       "      <th>Gender</th>\n",
       "      <th>Trans</th>\n",
       "      <th>Sexuality</th>\n",
       "      <th>Ethnicity</th>\n",
       "      <th>Accessibility</th>\n",
       "      <th>MentalHealth</th>\n",
       "      <th>TBranch</th>\n",
       "      <th>ICorPM</th>\n",
       "      <th>WorkExp</th>\n",
       "      <th>Knowledge_1</th>\n",
       "      <th>Knowledge_2</th>\n",
       "      <th>Knowledge_3</th>\n",
       "      <th>Knowledge_4</th>\n",
       "      <th>Knowledge_5</th>\n",
       "      <th>Knowledge_6</th>\n",
       "      <th>Knowledge_7</th>\n",
       "      <th>Frequency_1</th>\n",
       "      <th>Frequency_2</th>\n",
       "      <th>Frequency_3</th>\n",
       "      <th>TimeSearching</th>\n",
       "      <th>TimeAnswering</th>\n",
       "      <th>Onboarding</th>\n",
       "      <th>ProfessionalTech</th>\n",
       "      <th>TrueFalse_1</th>\n",
       "      <th>TrueFalse_2</th>\n",
       "      <th>TrueFalse_3</th>\n",
       "      <th>SurveyLength</th>\n",
       "      <th>SurveyEase</th>\n",
       "      <th>ConvertedCompYearly</th>\n",
       "    </tr>\n",
       "    <tr>\n",
       "      <th>ResponseId</th>\n",
       "      <th></th>\n",
       "      <th></th>\n",
       "      <th></th>\n",
       "      <th></th>\n",
       "      <th></th>\n",
       "      <th></th>\n",
       "      <th></th>\n",
       "      <th></th>\n",
       "      <th></th>\n",
       "      <th></th>\n",
       "      <th></th>\n",
       "      <th></th>\n",
       "      <th></th>\n",
       "      <th></th>\n",
       "      <th></th>\n",
       "      <th></th>\n",
       "      <th></th>\n",
       "      <th></th>\n",
       "      <th></th>\n",
       "      <th></th>\n",
       "      <th></th>\n",
       "      <th></th>\n",
       "      <th></th>\n",
       "      <th></th>\n",
       "      <th></th>\n",
       "      <th></th>\n",
       "      <th></th>\n",
       "      <th></th>\n",
       "      <th></th>\n",
       "      <th></th>\n",
       "      <th></th>\n",
       "      <th></th>\n",
       "      <th></th>\n",
       "      <th></th>\n",
       "      <th></th>\n",
       "      <th></th>\n",
       "      <th></th>\n",
       "      <th></th>\n",
       "      <th></th>\n",
       "      <th></th>\n",
       "      <th></th>\n",
       "      <th></th>\n",
       "      <th></th>\n",
       "      <th></th>\n",
       "      <th></th>\n",
       "      <th></th>\n",
       "      <th></th>\n",
       "      <th></th>\n",
       "      <th></th>\n",
       "      <th></th>\n",
       "      <th></th>\n",
       "      <th></th>\n",
       "      <th></th>\n",
       "      <th></th>\n",
       "      <th></th>\n",
       "      <th></th>\n",
       "      <th></th>\n",
       "      <th></th>\n",
       "      <th></th>\n",
       "      <th></th>\n",
       "      <th></th>\n",
       "      <th></th>\n",
       "      <th></th>\n",
       "      <th></th>\n",
       "      <th></th>\n",
       "      <th></th>\n",
       "      <th></th>\n",
       "      <th></th>\n",
       "      <th></th>\n",
       "      <th></th>\n",
       "      <th></th>\n",
       "      <th></th>\n",
       "      <th></th>\n",
       "      <th></th>\n",
       "      <th></th>\n",
       "      <th></th>\n",
       "      <th></th>\n",
       "      <th></th>\n",
       "    </tr>\n",
       "  </thead>\n",
       "  <tbody>\n",
       "    <tr>\n",
       "      <th>1</th>\n",
       "      <td>None of these</td>\n",
       "      <td>NaN</td>\n",
       "      <td>NaN</td>\n",
       "      <td>NaN</td>\n",
       "      <td>NaN</td>\n",
       "      <td>NaN</td>\n",
       "      <td>NaN</td>\n",
       "      <td>NaN</td>\n",
       "      <td>NaN</td>\n",
       "      <td>NaN</td>\n",
       "      <td>NaN</td>\n",
       "      <td>NaN</td>\n",
       "      <td>NaN</td>\n",
       "      <td>NaN</td>\n",
       "      <td>NaN</td>\n",
       "      <td>NaN</td>\n",
       "      <td>NaN</td>\n",
       "      <td>NaN</td>\n",
       "      <td>NaN</td>\n",
       "      <td>NaN</td>\n",
       "      <td>NaN</td>\n",
       "      <td>NaN</td>\n",
       "      <td>NaN</td>\n",
       "      <td>NaN</td>\n",
       "      <td>NaN</td>\n",
       "      <td>NaN</td>\n",
       "      <td>NaN</td>\n",
       "      <td>NaN</td>\n",
       "      <td>NaN</td>\n",
       "      <td>NaN</td>\n",
       "      <td>NaN</td>\n",
       "      <td>NaN</td>\n",
       "      <td>NaN</td>\n",
       "      <td>NaN</td>\n",
       "      <td>NaN</td>\n",
       "      <td>NaN</td>\n",
       "      <td>NaN</td>\n",
       "      <td>NaN</td>\n",
       "      <td>NaN</td>\n",
       "      <td>NaN</td>\n",
       "      <td>NaN</td>\n",
       "      <td>NaN</td>\n",
       "      <td>NaN</td>\n",
       "      <td>NaN</td>\n",
       "      <td>NaN</td>\n",
       "      <td>NaN</td>\n",
       "      <td>NaN</td>\n",
       "      <td>NaN</td>\n",
       "      <td>NaN</td>\n",
       "      <td>NaN</td>\n",
       "      <td>NaN</td>\n",
       "      <td>NaN</td>\n",
       "      <td>NaN</td>\n",
       "      <td>NaN</td>\n",
       "      <td>NaN</td>\n",
       "      <td>NaN</td>\n",
       "      <td>NaN</td>\n",
       "      <td>NaN</td>\n",
       "      <td>NaN</td>\n",
       "      <td>NaN</td>\n",
       "      <td>NaN</td>\n",
       "      <td>NaN</td>\n",
       "      <td>NaN</td>\n",
       "      <td>NaN</td>\n",
       "      <td>NaN</td>\n",
       "      <td>NaN</td>\n",
       "      <td>NaN</td>\n",
       "      <td>NaN</td>\n",
       "      <td>NaN</td>\n",
       "      <td>NaN</td>\n",
       "      <td>NaN</td>\n",
       "      <td>NaN</td>\n",
       "      <td>NaN</td>\n",
       "      <td>NaN</td>\n",
       "      <td>NaN</td>\n",
       "      <td>NaN</td>\n",
       "      <td>NaN</td>\n",
       "      <td>NaN</td>\n",
       "    </tr>\n",
       "    <tr>\n",
       "      <th>2</th>\n",
       "      <td>I am a developer by profession</td>\n",
       "      <td>Employed, full-time</td>\n",
       "      <td>Fully remote</td>\n",
       "      <td>Hobby;Contribute to open-source projects</td>\n",
       "      <td>NaN</td>\n",
       "      <td>NaN</td>\n",
       "      <td>NaN</td>\n",
       "      <td>NaN</td>\n",
       "      <td>NaN</td>\n",
       "      <td>NaN</td>\n",
       "      <td>NaN</td>\n",
       "      <td>NaN</td>\n",
       "      <td>NaN</td>\n",
       "      <td>NaN</td>\n",
       "      <td>Canada</td>\n",
       "      <td>CAD\\tCanadian dollar</td>\n",
       "      <td>NaN</td>\n",
       "      <td>NaN</td>\n",
       "      <td>JavaScript;TypeScript</td>\n",
       "      <td>Rust;TypeScript</td>\n",
       "      <td>NaN</td>\n",
       "      <td>NaN</td>\n",
       "      <td>NaN</td>\n",
       "      <td>NaN</td>\n",
       "      <td>NaN</td>\n",
       "      <td>NaN</td>\n",
       "      <td>NaN</td>\n",
       "      <td>NaN</td>\n",
       "      <td>NaN</td>\n",
       "      <td>NaN</td>\n",
       "      <td>NaN</td>\n",
       "      <td>NaN</td>\n",
       "      <td>macOS</td>\n",
       "      <td>Windows Subsystem for Linux (WSL)</td>\n",
       "      <td>Git</td>\n",
       "      <td>NaN</td>\n",
       "      <td>NaN</td>\n",
       "      <td>NaN</td>\n",
       "      <td>NaN</td>\n",
       "      <td>NaN</td>\n",
       "      <td>NaN</td>\n",
       "      <td>NaN</td>\n",
       "      <td>Very unfavorable</td>\n",
       "      <td>Collectives on Stack Overflow;Stack Overflow f...</td>\n",
       "      <td>Daily or almost daily</td>\n",
       "      <td>Yes</td>\n",
       "      <td>Daily or almost daily</td>\n",
       "      <td>Not sure</td>\n",
       "      <td>NaN</td>\n",
       "      <td>NaN</td>\n",
       "      <td>NaN</td>\n",
       "      <td>NaN</td>\n",
       "      <td>NaN</td>\n",
       "      <td>NaN</td>\n",
       "      <td>NaN</td>\n",
       "      <td>No</td>\n",
       "      <td>NaN</td>\n",
       "      <td>NaN</td>\n",
       "      <td>NaN</td>\n",
       "      <td>NaN</td>\n",
       "      <td>NaN</td>\n",
       "      <td>NaN</td>\n",
       "      <td>NaN</td>\n",
       "      <td>NaN</td>\n",
       "      <td>NaN</td>\n",
       "      <td>NaN</td>\n",
       "      <td>NaN</td>\n",
       "      <td>NaN</td>\n",
       "      <td>NaN</td>\n",
       "      <td>NaN</td>\n",
       "      <td>NaN</td>\n",
       "      <td>NaN</td>\n",
       "      <td>NaN</td>\n",
       "      <td>NaN</td>\n",
       "      <td>NaN</td>\n",
       "      <td>Too long</td>\n",
       "      <td>Difficult</td>\n",
       "      <td>NaN</td>\n",
       "    </tr>\n",
       "  </tbody>\n",
       "</table>\n",
       "</div>"
      ],
      "text/plain": [
       "                                MainBranch           Employment    RemoteWork  \\\n",
       "ResponseId                                                                      \n",
       "1                            None of these                  NaN           NaN   \n",
       "2           I am a developer by profession  Employed, full-time  Fully remote   \n",
       "\n",
       "                                    CodingActivities EdLevel LearnCode  \\\n",
       "ResponseId                                                               \n",
       "1                                                NaN     NaN       NaN   \n",
       "2           Hobby;Contribute to open-source projects     NaN       NaN   \n",
       "\n",
       "           LearnCodeOnline LearnCodeCoursesCert YearsCode YearsCodePro  \\\n",
       "ResponseId                                                               \n",
       "1                      NaN                  NaN       NaN          NaN   \n",
       "2                      NaN                  NaN       NaN          NaN   \n",
       "\n",
       "           DevType OrgSize PurchaseInfluence BuyNewTool Country  \\\n",
       "ResponseId                                                        \n",
       "1              NaN     NaN               NaN        NaN     NaN   \n",
       "2              NaN     NaN               NaN        NaN  Canada   \n",
       "\n",
       "                        Currency  CompTotal CompFreq LanguageHaveWorkedWith  \\\n",
       "ResponseId                                                                    \n",
       "1                            NaN        NaN      NaN                    NaN   \n",
       "2           CAD\\tCanadian dollar        NaN      NaN  JavaScript;TypeScript   \n",
       "\n",
       "           LanguageWantToWorkWith DatabaseHaveWorkedWith  \\\n",
       "ResponseId                                                 \n",
       "1                             NaN                    NaN   \n",
       "2                 Rust;TypeScript                    NaN   \n",
       "\n",
       "           DatabaseWantToWorkWith PlatformHaveWorkedWith  \\\n",
       "ResponseId                                                 \n",
       "1                             NaN                    NaN   \n",
       "2                             NaN                    NaN   \n",
       "\n",
       "           PlatformWantToWorkWith WebframeHaveWorkedWith  \\\n",
       "ResponseId                                                 \n",
       "1                             NaN                    NaN   \n",
       "2                             NaN                    NaN   \n",
       "\n",
       "           WebframeWantToWorkWith MiscTechHaveWorkedWith  \\\n",
       "ResponseId                                                 \n",
       "1                             NaN                    NaN   \n",
       "2                             NaN                    NaN   \n",
       "\n",
       "           MiscTechWantToWorkWith ToolsTechHaveWorkedWith  \\\n",
       "ResponseId                                                  \n",
       "1                             NaN                     NaN   \n",
       "2                             NaN                     NaN   \n",
       "\n",
       "           ToolsTechWantToWorkWith NEWCollabToolsHaveWorkedWith  \\\n",
       "ResponseId                                                        \n",
       "1                              NaN                          NaN   \n",
       "2                              NaN                          NaN   \n",
       "\n",
       "           NEWCollabToolsWantToWorkWith OpSysProfessional use  \\\n",
       "ResponseId                                                      \n",
       "1                                   NaN                   NaN   \n",
       "2                                   NaN                 macOS   \n",
       "\n",
       "                            OpSysPersonal use VersionControlSystem  \\\n",
       "ResponseId                                                           \n",
       "1                                         NaN                  NaN   \n",
       "2           Windows Subsystem for Linux (WSL)                  Git   \n",
       "\n",
       "           VCInteraction  VCHostingPersonal use  VCHostingProfessional use  \\\n",
       "ResponseId                                                                   \n",
       "1                    NaN                    NaN                        NaN   \n",
       "2                    NaN                    NaN                        NaN   \n",
       "\n",
       "           OfficeStackAsyncHaveWorkedWith OfficeStackAsyncWantToWorkWith  \\\n",
       "ResponseId                                                                 \n",
       "1                                     NaN                            NaN   \n",
       "2                                     NaN                            NaN   \n",
       "\n",
       "           OfficeStackSyncHaveWorkedWith OfficeStackSyncWantToWorkWith  \\\n",
       "ResponseId                                                               \n",
       "1                                    NaN                           NaN   \n",
       "2                                    NaN                           NaN   \n",
       "\n",
       "                  Blockchain  \\\n",
       "ResponseId                     \n",
       "1                        NaN   \n",
       "2           Very unfavorable   \n",
       "\n",
       "                                                   NEWSOSites  \\\n",
       "ResponseId                                                      \n",
       "1                                                         NaN   \n",
       "2           Collectives on Stack Overflow;Stack Overflow f...   \n",
       "\n",
       "                      SOVisitFreq SOAccount             SOPartFreq    SOComm  \\\n",
       "ResponseId                                                                     \n",
       "1                             NaN       NaN                    NaN       NaN   \n",
       "2           Daily or almost daily       Yes  Daily or almost daily  Not sure   \n",
       "\n",
       "            Age Gender Trans Sexuality Ethnicity Accessibility MentalHealth  \\\n",
       "ResponseId                                                                    \n",
       "1           NaN    NaN   NaN       NaN       NaN           NaN          NaN   \n",
       "2           NaN    NaN   NaN       NaN       NaN           NaN          NaN   \n",
       "\n",
       "           TBranch ICorPM  WorkExp Knowledge_1 Knowledge_2 Knowledge_3  \\\n",
       "ResponseId                                                               \n",
       "1              NaN    NaN      NaN         NaN         NaN         NaN   \n",
       "2               No    NaN      NaN         NaN         NaN         NaN   \n",
       "\n",
       "           Knowledge_4 Knowledge_5 Knowledge_6 Knowledge_7 Frequency_1  \\\n",
       "ResponseId                                                               \n",
       "1                  NaN         NaN         NaN         NaN         NaN   \n",
       "2                  NaN         NaN         NaN         NaN         NaN   \n",
       "\n",
       "           Frequency_2 Frequency_3 TimeSearching TimeAnswering Onboarding  \\\n",
       "ResponseId                                                                  \n",
       "1                  NaN         NaN           NaN           NaN        NaN   \n",
       "2                  NaN         NaN           NaN           NaN        NaN   \n",
       "\n",
       "           ProfessionalTech TrueFalse_1 TrueFalse_2 TrueFalse_3 SurveyLength  \\\n",
       "ResponseId                                                                     \n",
       "1                       NaN         NaN         NaN         NaN          NaN   \n",
       "2                       NaN         NaN         NaN         NaN     Too long   \n",
       "\n",
       "           SurveyEase  ConvertedCompYearly  \n",
       "ResponseId                                  \n",
       "1                 NaN                  NaN  \n",
       "2           Difficult                  NaN  "
      ]
     },
     "execution_count": 373,
     "metadata": {},
     "output_type": "execute_result"
    }
   ],
   "source": [
    "survey_raw_df = pd.read_csv(\"data/survey_results_public.csv\", index_col=\"ResponseId\")\n",
    "survey_raw_df.head(2)"
   ]
  },
  {
   "cell_type": "code",
   "execution_count": 374,
   "id": "f37e50eb-6dfe-4243-bede-61c55b2b2f5b",
   "metadata": {},
   "outputs": [
    {
     "data": {
      "text/plain": [
       "qname\n",
       "S0             <div><span style=\"font-size:19px;\"><strong>Hel...\n",
       "MetaInfo                                       Browser Meta Info\n",
       "S1             <span style=\"font-size:22px; font-family: aria...\n",
       "MainBranch     Which of the following options best describes ...\n",
       "Employment     Which of the following best describes your cur...\n",
       "                                     ...                        \n",
       "Frequency_2    Interacting with people outside of your immedi...\n",
       "Frequency_3    Encountering knowledge silos (where one indivi...\n",
       "TrueFalse_1    Are you involved in supporting new hires durin...\n",
       "TrueFalse_2    Do you use learning resources provided by your...\n",
       "TrueFalse_3    Does your employer give you time to learn new ...\n",
       "Name: question, Length: 79, dtype: object"
      ]
     },
     "execution_count": 374,
     "metadata": {},
     "output_type": "execute_result"
    }
   ],
   "source": [
    "schema_raw = pd.read_csv(\"data/survey_results_schema.csv\", index_col=\"qname\")[\"question\"]\n",
    "schema_raw"
   ]
  },
  {
   "cell_type": "code",
   "execution_count": 375,
   "id": "59860d20-b5b1-486c-9ba8-c54c264b66f7",
   "metadata": {},
   "outputs": [
    {
     "data": {
      "text/plain": [
       "Index(['MainBranch', 'Employment', 'RemoteWork', 'CodingActivities', 'EdLevel',\n",
       "       'LearnCode', 'LearnCodeOnline', 'LearnCodeCoursesCert', 'YearsCode',\n",
       "       'YearsCodePro', 'DevType', 'OrgSize', 'PurchaseInfluence', 'BuyNewTool',\n",
       "       'Country', 'Currency', 'CompTotal', 'CompFreq',\n",
       "       'LanguageHaveWorkedWith', 'LanguageWantToWorkWith',\n",
       "       'DatabaseHaveWorkedWith', 'DatabaseWantToWorkWith',\n",
       "       'PlatformHaveWorkedWith', 'PlatformWantToWorkWith',\n",
       "       'WebframeHaveWorkedWith', 'WebframeWantToWorkWith',\n",
       "       'MiscTechHaveWorkedWith', 'MiscTechWantToWorkWith',\n",
       "       'ToolsTechHaveWorkedWith', 'ToolsTechWantToWorkWith',\n",
       "       'NEWCollabToolsHaveWorkedWith', 'NEWCollabToolsWantToWorkWith',\n",
       "       'OpSysProfessional use', 'OpSysPersonal use', 'VersionControlSystem',\n",
       "       'VCInteraction', 'VCHostingPersonal use', 'VCHostingProfessional use',\n",
       "       'OfficeStackAsyncHaveWorkedWith', 'OfficeStackAsyncWantToWorkWith',\n",
       "       'OfficeStackSyncHaveWorkedWith', 'OfficeStackSyncWantToWorkWith',\n",
       "       'Blockchain', 'NEWSOSites', 'SOVisitFreq', 'SOAccount', 'SOPartFreq',\n",
       "       'SOComm', 'Age', 'Gender', 'Trans', 'Sexuality', 'Ethnicity',\n",
       "       'Accessibility', 'MentalHealth', 'TBranch', 'ICorPM', 'WorkExp',\n",
       "       'Knowledge_1', 'Knowledge_2', 'Knowledge_3', 'Knowledge_4',\n",
       "       'Knowledge_5', 'Knowledge_6', 'Knowledge_7', 'Frequency_1',\n",
       "       'Frequency_2', 'Frequency_3', 'TimeSearching', 'TimeAnswering',\n",
       "       'Onboarding', 'ProfessionalTech', 'TrueFalse_1', 'TrueFalse_2',\n",
       "       'TrueFalse_3', 'SurveyLength', 'SurveyEase', 'ConvertedCompYearly'],\n",
       "      dtype='object')"
      ]
     },
     "execution_count": 375,
     "metadata": {},
     "output_type": "execute_result"
    }
   ],
   "source": [
    "survey_raw_df.columns"
   ]
  },
  {
   "cell_type": "code",
   "execution_count": 376,
   "id": "3f4d721a-b8d9-4a63-9998-8617e1c844fc",
   "metadata": {},
   "outputs": [
    {
     "data": {
      "text/plain": [
       "Index(['S0', 'MetaInfo', 'S1', 'MainBranch', 'Employment', 'RemoteWork',\n",
       "       'CodingActivities', 'S2', 'EdLevel', 'LearnCode', 'LearnCodeOnline',\n",
       "       'LearnCodeCoursesCert', 'YearsCode', 'YearsCodePro', 'DevType',\n",
       "       'OrgSize', 'PurchaseInfluence', 'BuyNewTool', 'Country', 'Currency',\n",
       "       'CompTotal', 'CompFreq', 'S3', 'Language', 'Database', 'Platform',\n",
       "       'Webframe', 'MiscTech', 'ToolsTech', 'NEWCollabTools', 'OpSys',\n",
       "       'VersionControlSystem', 'VCInteraction', 'VCHosting',\n",
       "       'OfficeStackAsync', 'OfficeStackSync', 'Blockchain', 'S4', 'NEWSOSites',\n",
       "       'SOVisitFreq', 'SOAccount', 'SOPartFreq', 'SOComm', 'S5', 'Age',\n",
       "       'Gender', 'Trans', 'Sexuality', 'Ethnicity', 'Accessibility',\n",
       "       'MentalHealth', 'S6', 'TBranch', 'ICorPM', 'WorkExp', 'Knowledge',\n",
       "       'Frequency', 'TimeSearching', 'TimeAnswering', 'Onboarding',\n",
       "       'ProfessionalTech', 'SOTeamsUsage', 'TrueFalse', 'S7', 'SurveyLength',\n",
       "       'SurveyEase', 'Knowledge_1', 'Knowledge_2', 'Knowledge_3',\n",
       "       'Knowledge_4', 'Knowledge_5', 'Knowledge_6', 'Knowledge_7',\n",
       "       'Frequency_1', 'Frequency_2', 'Frequency_3', 'TrueFalse_1',\n",
       "       'TrueFalse_2', 'TrueFalse_3'],\n",
       "      dtype='object', name='qname')"
      ]
     },
     "execution_count": 376,
     "metadata": {},
     "output_type": "execute_result"
    }
   ],
   "source": [
    "schema_raw.index"
   ]
  },
  {
   "cell_type": "code",
   "execution_count": 377,
   "id": "d1e9e9f9-be80-4476-b2e0-a510b544e3d7",
   "metadata": {},
   "outputs": [
    {
     "data": {
      "text/plain": [
       "'What is your current total compensation (salary, bonuses, and perks, before taxes and deductions)? Please enter a whole number in the box below, without any punctuation.  If you are paid hourly, please estimate an equivalent weekly, monthly, or yearly salary. If you prefer not to answer, please leave the box empty.'"
      ]
     },
     "execution_count": 377,
     "metadata": {},
     "output_type": "execute_result"
    }
   ],
   "source": [
    "schema_raw[\"CompTotal\"]"
   ]
  },
  {
   "cell_type": "code",
   "execution_count": 378,
   "id": "36453cd0-8b45-4443-af5c-92de65ad4447",
   "metadata": {},
   "outputs": [
    {
     "data": {
      "text/plain": [
       "'Is that compensation weekly, monthly, or yearly?'"
      ]
     },
     "execution_count": 378,
     "metadata": {},
     "output_type": "execute_result"
    }
   ],
   "source": [
    "schema_raw[\"CompFreq\"]"
   ]
  },
  {
   "cell_type": "code",
   "execution_count": 379,
   "id": "57c51ee0-16af-4555-acd1-38f1ac189021",
   "metadata": {
    "scrolled": true,
    "tags": []
   },
   "outputs": [
    {
     "name": "stdout",
     "output_type": "stream",
     "text": [
      "<class 'pandas.core.frame.DataFrame'>\n",
      "Int64Index: 73268 entries, 1 to 73268\n",
      "Data columns (total 78 columns):\n",
      " #   Column                          Non-Null Count  Dtype  \n",
      "---  ------                          --------------  -----  \n",
      " 0   MainBranch                      73268 non-null  object \n",
      " 1   Employment                      71709 non-null  object \n",
      " 2   RemoteWork                      58958 non-null  object \n",
      " 3   CodingActivities                58899 non-null  object \n",
      " 4   EdLevel                         71571 non-null  object \n",
      " 5   LearnCode                       71580 non-null  object \n",
      " 6   LearnCodeOnline                 50685 non-null  object \n",
      " 7   LearnCodeCoursesCert            29389 non-null  object \n",
      " 8   YearsCode                       71331 non-null  object \n",
      " 9   YearsCodePro                    51833 non-null  object \n",
      " 10  DevType                         61302 non-null  object \n",
      " 11  OrgSize                         51039 non-null  object \n",
      " 12  PurchaseInfluence               50969 non-null  object \n",
      " 13  BuyNewTool                      67963 non-null  object \n",
      " 14  Country                         71771 non-null  object \n",
      " 15  Currency                        51264 non-null  object \n",
      " 16  CompTotal                       38422 non-null  float64\n",
      " 17  CompFreq                        44425 non-null  object \n",
      " 18  LanguageHaveWorkedWith          70975 non-null  object \n",
      " 19  LanguageWantToWorkWith          67027 non-null  object \n",
      " 20  DatabaseHaveWorkedWith          60121 non-null  object \n",
      " 21  DatabaseWantToWorkWith          51014 non-null  object \n",
      " 22  PlatformHaveWorkedWith          49924 non-null  object \n",
      " 23  PlatformWantToWorkWith          40415 non-null  object \n",
      " 24  WebframeHaveWorkedWith          53544 non-null  object \n",
      " 25  WebframeWantToWorkWith          46122 non-null  object \n",
      " 26  MiscTechHaveWorkedWith          44992 non-null  object \n",
      " 27  MiscTechWantToWorkWith          36810 non-null  object \n",
      " 28  ToolsTechHaveWorkedWith         54171 non-null  object \n",
      " 29  ToolsTechWantToWorkWith         46566 non-null  object \n",
      " 30  NEWCollabToolsHaveWorkedWith    70347 non-null  object \n",
      " 31  NEWCollabToolsWantToWorkWith    64108 non-null  object \n",
      " 32  OpSysProfessional use           65503 non-null  object \n",
      " 33  OpSysPersonal use               70963 non-null  object \n",
      " 34  VersionControlSystem            71379 non-null  object \n",
      " 35  VCInteraction                   68156 non-null  object \n",
      " 36  VCHostingPersonal use           0 non-null      float64\n",
      " 37  VCHostingProfessional use       0 non-null      float64\n",
      " 38  OfficeStackAsyncHaveWorkedWith  46223 non-null  object \n",
      " 39  OfficeStackAsyncWantToWorkWith  32072 non-null  object \n",
      " 40  OfficeStackSyncHaveWorkedWith   62128 non-null  object \n",
      " 41  OfficeStackSyncWantToWorkWith   47688 non-null  object \n",
      " 42  Blockchain                      71071 non-null  object \n",
      " 43  NEWSOSites                      71365 non-null  object \n",
      " 44  SOVisitFreq                     70961 non-null  object \n",
      " 45  SOAccount                       71572 non-null  object \n",
      " 46  SOPartFreq                      58229 non-null  object \n",
      " 47  SOComm                          71408 non-null  object \n",
      " 48  Age                             70946 non-null  object \n",
      " 49  Gender                          70853 non-null  object \n",
      " 50  Trans                           70315 non-null  object \n",
      " 51  Sexuality                       66565 non-null  object \n",
      " 52  Ethnicity                       69474 non-null  object \n",
      " 53  Accessibility                   67244 non-null  object \n",
      " 54  MentalHealth                    66447 non-null  object \n",
      " 55  TBranch                         52670 non-null  object \n",
      " 56  ICorPM                          36283 non-null  object \n",
      " 57  WorkExp                         36769 non-null  float64\n",
      " 58  Knowledge_1                     35804 non-null  object \n",
      " 59  Knowledge_2                     34973 non-null  object \n",
      " 60  Knowledge_3                     35133 non-null  object \n",
      " 61  Knowledge_4                     35097 non-null  object \n",
      " 62  Knowledge_5                     35014 non-null  object \n",
      " 63  Knowledge_6                     34991 non-null  object \n",
      " 64  Knowledge_7                     34977 non-null  object \n",
      " 65  Frequency_1                     35371 non-null  object \n",
      " 66  Frequency_2                     35344 non-null  object \n",
      " 67  Frequency_3                     34515 non-null  object \n",
      " 68  TimeSearching                   36198 non-null  object \n",
      " 69  TimeAnswering                   36022 non-null  object \n",
      " 70  Onboarding                      35679 non-null  object \n",
      " 71  ProfessionalTech                34906 non-null  object \n",
      " 72  TrueFalse_1                     35819 non-null  object \n",
      " 73  TrueFalse_2                     35715 non-null  object \n",
      " 74  TrueFalse_3                     35749 non-null  object \n",
      " 75  SurveyLength                    70444 non-null  object \n",
      " 76  SurveyEase                      70508 non-null  object \n",
      " 77  ConvertedCompYearly             38071 non-null  float64\n",
      "dtypes: float64(5), object(73)\n",
      "memory usage: 44.2+ MB\n"
     ]
    }
   ],
   "source": [
    "survey_raw_df.info()"
   ]
  },
  {
   "cell_type": "code",
   "execution_count": 380,
   "id": "b9bffb36-1021-44d5-9416-ff74449437f8",
   "metadata": {},
   "outputs": [],
   "source": [
    "pd.set_option('display.max_columns', 78)\n",
    "pd.set_option('display.max_rows', 78)"
   ]
  },
  {
   "cell_type": "code",
   "execution_count": 381,
   "id": "95c87479-cc4f-4b2e-b5df-b0d8b5b04c31",
   "metadata": {},
   "outputs": [],
   "source": [
    "selected_columns = [\n",
    "# 인구 통계\n",
    "'Country',\n",
    "'Age',\n",
    "'Gender',\n",
    "'EdLevel',\n",
    "# 프로그래밍 경험\n",
    "'YearsCode',\n",
    "'YearsCodePro',\n",
    "'LanguageHaveWorkedWith',\n",
    "'LanguageWantToWorkWith',\n",
    "'LearnCodeCoursesCert',\n",
    "'ProfessionalTech',\n",
    "'SOAccount',\n",
    "# 고용 관련 정보\n",
    "'Employment',\n",
    "'DevType',\n",
    "'WorkExp',\n",
    "]"
   ]
  },
  {
   "cell_type": "code",
   "execution_count": 382,
   "id": "de82ca95-2775-4184-baa8-b8b070aa3429",
   "metadata": {},
   "outputs": [
    {
     "data": {
      "text/html": [
       "<div>\n",
       "<style scoped>\n",
       "    .dataframe tbody tr th:only-of-type {\n",
       "        vertical-align: middle;\n",
       "    }\n",
       "\n",
       "    .dataframe tbody tr th {\n",
       "        vertical-align: top;\n",
       "    }\n",
       "\n",
       "    .dataframe thead th {\n",
       "        text-align: right;\n",
       "    }\n",
       "</style>\n",
       "<table border=\"1\" class=\"dataframe\">\n",
       "  <thead>\n",
       "    <tr style=\"text-align: right;\">\n",
       "      <th></th>\n",
       "      <th>Country</th>\n",
       "      <th>Age</th>\n",
       "      <th>Gender</th>\n",
       "      <th>EdLevel</th>\n",
       "      <th>YearsCode</th>\n",
       "      <th>YearsCodePro</th>\n",
       "      <th>LanguageHaveWorkedWith</th>\n",
       "      <th>LanguageWantToWorkWith</th>\n",
       "      <th>LearnCodeCoursesCert</th>\n",
       "      <th>ProfessionalTech</th>\n",
       "      <th>SOAccount</th>\n",
       "      <th>Employment</th>\n",
       "      <th>DevType</th>\n",
       "      <th>WorkExp</th>\n",
       "    </tr>\n",
       "    <tr>\n",
       "      <th>ResponseId</th>\n",
       "      <th></th>\n",
       "      <th></th>\n",
       "      <th></th>\n",
       "      <th></th>\n",
       "      <th></th>\n",
       "      <th></th>\n",
       "      <th></th>\n",
       "      <th></th>\n",
       "      <th></th>\n",
       "      <th></th>\n",
       "      <th></th>\n",
       "      <th></th>\n",
       "      <th></th>\n",
       "      <th></th>\n",
       "    </tr>\n",
       "  </thead>\n",
       "  <tbody>\n",
       "    <tr>\n",
       "      <th>1</th>\n",
       "      <td>NaN</td>\n",
       "      <td>NaN</td>\n",
       "      <td>NaN</td>\n",
       "      <td>NaN</td>\n",
       "      <td>NaN</td>\n",
       "      <td>NaN</td>\n",
       "      <td>NaN</td>\n",
       "      <td>NaN</td>\n",
       "      <td>NaN</td>\n",
       "      <td>NaN</td>\n",
       "      <td>NaN</td>\n",
       "      <td>NaN</td>\n",
       "      <td>NaN</td>\n",
       "      <td>NaN</td>\n",
       "    </tr>\n",
       "    <tr>\n",
       "      <th>2</th>\n",
       "      <td>Canada</td>\n",
       "      <td>NaN</td>\n",
       "      <td>NaN</td>\n",
       "      <td>NaN</td>\n",
       "      <td>NaN</td>\n",
       "      <td>NaN</td>\n",
       "      <td>JavaScript;TypeScript</td>\n",
       "      <td>Rust;TypeScript</td>\n",
       "      <td>NaN</td>\n",
       "      <td>NaN</td>\n",
       "      <td>Yes</td>\n",
       "      <td>Employed, full-time</td>\n",
       "      <td>NaN</td>\n",
       "      <td>NaN</td>\n",
       "    </tr>\n",
       "    <tr>\n",
       "      <th>3</th>\n",
       "      <td>United Kingdom of Great Britain and Northern I...</td>\n",
       "      <td>25-34 years old</td>\n",
       "      <td>Man</td>\n",
       "      <td>Master’s degree (M.A., M.S., M.Eng., MBA, etc.)</td>\n",
       "      <td>14</td>\n",
       "      <td>5</td>\n",
       "      <td>C#;C++;HTML/CSS;JavaScript;Python</td>\n",
       "      <td>C#;C++;HTML/CSS;JavaScript;TypeScript</td>\n",
       "      <td>NaN</td>\n",
       "      <td>NaN</td>\n",
       "      <td>Yes</td>\n",
       "      <td>Employed, full-time</td>\n",
       "      <td>Data scientist or machine learning specialist;...</td>\n",
       "      <td>NaN</td>\n",
       "    </tr>\n",
       "    <tr>\n",
       "      <th>4</th>\n",
       "      <td>Israel</td>\n",
       "      <td>35-44 years old</td>\n",
       "      <td>Man</td>\n",
       "      <td>Bachelor’s degree (B.A., B.S., B.Eng., etc.)</td>\n",
       "      <td>20</td>\n",
       "      <td>17</td>\n",
       "      <td>C#;JavaScript;SQL;TypeScript</td>\n",
       "      <td>C#;SQL;TypeScript</td>\n",
       "      <td>NaN</td>\n",
       "      <td>NaN</td>\n",
       "      <td>Yes</td>\n",
       "      <td>Employed, full-time</td>\n",
       "      <td>Developer, full-stack</td>\n",
       "      <td>NaN</td>\n",
       "    </tr>\n",
       "    <tr>\n",
       "      <th>5</th>\n",
       "      <td>United States of America</td>\n",
       "      <td>25-34 years old</td>\n",
       "      <td>NaN</td>\n",
       "      <td>Bachelor’s degree (B.A., B.S., B.Eng., etc.)</td>\n",
       "      <td>8</td>\n",
       "      <td>3</td>\n",
       "      <td>C#;HTML/CSS;JavaScript;SQL;Swift;TypeScript</td>\n",
       "      <td>C#;Elixir;F#;Go;JavaScript;Rust;TypeScript</td>\n",
       "      <td>NaN</td>\n",
       "      <td>NaN</td>\n",
       "      <td>Yes</td>\n",
       "      <td>Employed, full-time</td>\n",
       "      <td>Developer, front-end;Developer, full-stack;Dev...</td>\n",
       "      <td>NaN</td>\n",
       "    </tr>\n",
       "    <tr>\n",
       "      <th>...</th>\n",
       "      <td>...</td>\n",
       "      <td>...</td>\n",
       "      <td>...</td>\n",
       "      <td>...</td>\n",
       "      <td>...</td>\n",
       "      <td>...</td>\n",
       "      <td>...</td>\n",
       "      <td>...</td>\n",
       "      <td>...</td>\n",
       "      <td>...</td>\n",
       "      <td>...</td>\n",
       "      <td>...</td>\n",
       "      <td>...</td>\n",
       "      <td>...</td>\n",
       "    </tr>\n",
       "    <tr>\n",
       "      <th>73264</th>\n",
       "      <td>Nigeria</td>\n",
       "      <td>25-34 years old</td>\n",
       "      <td>Man</td>\n",
       "      <td>Bachelor’s degree (B.A., B.S., B.Eng., etc.)</td>\n",
       "      <td>8</td>\n",
       "      <td>5</td>\n",
       "      <td>Bash/Shell;Dart;JavaScript;PHP;Python;SQL;Type...</td>\n",
       "      <td>Bash/Shell;Go;JavaScript;Python;SQL;TypeScript</td>\n",
       "      <td>Udemy</td>\n",
       "      <td>DevOps function;Microservices;Developer portal...</td>\n",
       "      <td>Yes</td>\n",
       "      <td>Employed, full-time</td>\n",
       "      <td>Developer, back-end</td>\n",
       "      <td>5.0</td>\n",
       "    </tr>\n",
       "    <tr>\n",
       "      <th>73265</th>\n",
       "      <td>United States of America</td>\n",
       "      <td>25-34 years old</td>\n",
       "      <td>Man</td>\n",
       "      <td>Master’s degree (M.A., M.S., M.Eng., MBA, etc.)</td>\n",
       "      <td>6</td>\n",
       "      <td>5</td>\n",
       "      <td>Bash/Shell;HTML/CSS;JavaScript;Python;SQL</td>\n",
       "      <td>HTML/CSS;JavaScript;Python</td>\n",
       "      <td>Coursera;Udemy;Udacity</td>\n",
       "      <td>None of these</td>\n",
       "      <td>Not sure/can't remember</td>\n",
       "      <td>Employed, full-time</td>\n",
       "      <td>Data scientist or machine learning specialist</td>\n",
       "      <td>6.0</td>\n",
       "    </tr>\n",
       "    <tr>\n",
       "      <th>73266</th>\n",
       "      <td>United States of America</td>\n",
       "      <td>55-64 years old</td>\n",
       "      <td>Man</td>\n",
       "      <td>Bachelor’s degree (B.A., B.S., B.Eng., etc.)</td>\n",
       "      <td>42</td>\n",
       "      <td>33</td>\n",
       "      <td>HTML/CSS;JavaScript;PHP;Python;SQL</td>\n",
       "      <td>C#;HTML/CSS;JavaScript;PHP;Python;SQL</td>\n",
       "      <td>Udemy;Codecademy;Pluralsight;edX</td>\n",
       "      <td>None of these</td>\n",
       "      <td>Yes</td>\n",
       "      <td>Employed, full-time</td>\n",
       "      <td>Developer, full-stack;Developer, desktop or en...</td>\n",
       "      <td>42.0</td>\n",
       "    </tr>\n",
       "    <tr>\n",
       "      <th>73267</th>\n",
       "      <td>United Kingdom of Great Britain and Northern I...</td>\n",
       "      <td>55-64 years old</td>\n",
       "      <td>Man</td>\n",
       "      <td>Bachelor’s degree (B.A., B.S., B.Eng., etc.)</td>\n",
       "      <td>50</td>\n",
       "      <td>31</td>\n",
       "      <td>C#;Delphi;VBA</td>\n",
       "      <td>Delphi</td>\n",
       "      <td>NaN</td>\n",
       "      <td>NaN</td>\n",
       "      <td>Yes</td>\n",
       "      <td>Employed, full-time</td>\n",
       "      <td>Developer, front-end;Developer, desktop or ent...</td>\n",
       "      <td>NaN</td>\n",
       "    </tr>\n",
       "    <tr>\n",
       "      <th>73268</th>\n",
       "      <td>Canada</td>\n",
       "      <td>25-34 years old</td>\n",
       "      <td>Man</td>\n",
       "      <td>Bachelor’s degree (B.A., B.S., B.Eng., etc.)</td>\n",
       "      <td>16</td>\n",
       "      <td>5</td>\n",
       "      <td>C#;JavaScript;Lua;PowerShell;SQL;TypeScript</td>\n",
       "      <td>PowerShell;Rust;TypeScript</td>\n",
       "      <td>Udemy;Pluralsight</td>\n",
       "      <td>NaN</td>\n",
       "      <td>Yes</td>\n",
       "      <td>Independent contractor, freelancer, or self-em...</td>\n",
       "      <td>Developer, front-end;Engineer, data;Engineer, ...</td>\n",
       "      <td>NaN</td>\n",
       "    </tr>\n",
       "  </tbody>\n",
       "</table>\n",
       "<p>73268 rows × 14 columns</p>\n",
       "</div>"
      ],
      "text/plain": [
       "                                                      Country  \\\n",
       "ResponseId                                                      \n",
       "1                                                         NaN   \n",
       "2                                                      Canada   \n",
       "3           United Kingdom of Great Britain and Northern I...   \n",
       "4                                                      Israel   \n",
       "5                                    United States of America   \n",
       "...                                                       ...   \n",
       "73264                                                 Nigeria   \n",
       "73265                                United States of America   \n",
       "73266                                United States of America   \n",
       "73267       United Kingdom of Great Britain and Northern I...   \n",
       "73268                                                  Canada   \n",
       "\n",
       "                        Age Gender  \\\n",
       "ResponseId                           \n",
       "1                       NaN    NaN   \n",
       "2                       NaN    NaN   \n",
       "3           25-34 years old    Man   \n",
       "4           35-44 years old    Man   \n",
       "5           25-34 years old    NaN   \n",
       "...                     ...    ...   \n",
       "73264       25-34 years old    Man   \n",
       "73265       25-34 years old    Man   \n",
       "73266       55-64 years old    Man   \n",
       "73267       55-64 years old    Man   \n",
       "73268       25-34 years old    Man   \n",
       "\n",
       "                                                    EdLevel YearsCode  \\\n",
       "ResponseId                                                              \n",
       "1                                                       NaN       NaN   \n",
       "2                                                       NaN       NaN   \n",
       "3           Master’s degree (M.A., M.S., M.Eng., MBA, etc.)        14   \n",
       "4              Bachelor’s degree (B.A., B.S., B.Eng., etc.)        20   \n",
       "5              Bachelor’s degree (B.A., B.S., B.Eng., etc.)         8   \n",
       "...                                                     ...       ...   \n",
       "73264          Bachelor’s degree (B.A., B.S., B.Eng., etc.)         8   \n",
       "73265       Master’s degree (M.A., M.S., M.Eng., MBA, etc.)         6   \n",
       "73266          Bachelor’s degree (B.A., B.S., B.Eng., etc.)        42   \n",
       "73267          Bachelor’s degree (B.A., B.S., B.Eng., etc.)        50   \n",
       "73268          Bachelor’s degree (B.A., B.S., B.Eng., etc.)        16   \n",
       "\n",
       "           YearsCodePro                             LanguageHaveWorkedWith  \\\n",
       "ResponseId                                                                   \n",
       "1                   NaN                                                NaN   \n",
       "2                   NaN                              JavaScript;TypeScript   \n",
       "3                     5                  C#;C++;HTML/CSS;JavaScript;Python   \n",
       "4                    17                       C#;JavaScript;SQL;TypeScript   \n",
       "5                     3        C#;HTML/CSS;JavaScript;SQL;Swift;TypeScript   \n",
       "...                 ...                                                ...   \n",
       "73264                 5  Bash/Shell;Dart;JavaScript;PHP;Python;SQL;Type...   \n",
       "73265                 5          Bash/Shell;HTML/CSS;JavaScript;Python;SQL   \n",
       "73266                33                 HTML/CSS;JavaScript;PHP;Python;SQL   \n",
       "73267                31                                      C#;Delphi;VBA   \n",
       "73268                 5        C#;JavaScript;Lua;PowerShell;SQL;TypeScript   \n",
       "\n",
       "                                    LanguageWantToWorkWith  \\\n",
       "ResponseId                                                   \n",
       "1                                                      NaN   \n",
       "2                                          Rust;TypeScript   \n",
       "3                    C#;C++;HTML/CSS;JavaScript;TypeScript   \n",
       "4                                        C#;SQL;TypeScript   \n",
       "5               C#;Elixir;F#;Go;JavaScript;Rust;TypeScript   \n",
       "...                                                    ...   \n",
       "73264       Bash/Shell;Go;JavaScript;Python;SQL;TypeScript   \n",
       "73265                           HTML/CSS;JavaScript;Python   \n",
       "73266                C#;HTML/CSS;JavaScript;PHP;Python;SQL   \n",
       "73267                                               Delphi   \n",
       "73268                           PowerShell;Rust;TypeScript   \n",
       "\n",
       "                        LearnCodeCoursesCert  \\\n",
       "ResponseId                                     \n",
       "1                                        NaN   \n",
       "2                                        NaN   \n",
       "3                                        NaN   \n",
       "4                                        NaN   \n",
       "5                                        NaN   \n",
       "...                                      ...   \n",
       "73264                                  Udemy   \n",
       "73265                 Coursera;Udemy;Udacity   \n",
       "73266       Udemy;Codecademy;Pluralsight;edX   \n",
       "73267                                    NaN   \n",
       "73268                      Udemy;Pluralsight   \n",
       "\n",
       "                                             ProfessionalTech  \\\n",
       "ResponseId                                                      \n",
       "1                                                         NaN   \n",
       "2                                                         NaN   \n",
       "3                                                         NaN   \n",
       "4                                                         NaN   \n",
       "5                                                         NaN   \n",
       "...                                                       ...   \n",
       "73264       DevOps function;Microservices;Developer portal...   \n",
       "73265                                           None of these   \n",
       "73266                                           None of these   \n",
       "73267                                                     NaN   \n",
       "73268                                                     NaN   \n",
       "\n",
       "                          SOAccount  \\\n",
       "ResponseId                            \n",
       "1                               NaN   \n",
       "2                               Yes   \n",
       "3                               Yes   \n",
       "4                               Yes   \n",
       "5                               Yes   \n",
       "...                             ...   \n",
       "73264                           Yes   \n",
       "73265       Not sure/can't remember   \n",
       "73266                           Yes   \n",
       "73267                           Yes   \n",
       "73268                           Yes   \n",
       "\n",
       "                                                   Employment  \\\n",
       "ResponseId                                                      \n",
       "1                                                         NaN   \n",
       "2                                         Employed, full-time   \n",
       "3                                         Employed, full-time   \n",
       "4                                         Employed, full-time   \n",
       "5                                         Employed, full-time   \n",
       "...                                                       ...   \n",
       "73264                                     Employed, full-time   \n",
       "73265                                     Employed, full-time   \n",
       "73266                                     Employed, full-time   \n",
       "73267                                     Employed, full-time   \n",
       "73268       Independent contractor, freelancer, or self-em...   \n",
       "\n",
       "                                                      DevType  WorkExp  \n",
       "ResponseId                                                              \n",
       "1                                                         NaN      NaN  \n",
       "2                                                         NaN      NaN  \n",
       "3           Data scientist or machine learning specialist;...      NaN  \n",
       "4                                       Developer, full-stack      NaN  \n",
       "5           Developer, front-end;Developer, full-stack;Dev...      NaN  \n",
       "...                                                       ...      ...  \n",
       "73264                                     Developer, back-end      5.0  \n",
       "73265           Data scientist or machine learning specialist      6.0  \n",
       "73266       Developer, full-stack;Developer, desktop or en...     42.0  \n",
       "73267       Developer, front-end;Developer, desktop or ent...      NaN  \n",
       "73268       Developer, front-end;Engineer, data;Engineer, ...      NaN  \n",
       "\n",
       "[73268 rows x 14 columns]"
      ]
     },
     "execution_count": 382,
     "metadata": {},
     "output_type": "execute_result"
    }
   ],
   "source": [
    "survey_df = survey_raw_df[selected_columns].copy()\n",
    "survey_df"
   ]
  },
  {
   "cell_type": "markdown",
   "id": "623f91e2-5ff3-4609-996a-4a046c8fc2d0",
   "metadata": {
    "jp-MarkdownHeadingCollapsed": true,
    "tags": []
   },
   "source": [
    "### Columns"
   ]
  },
  {
   "cell_type": "markdown",
   "id": "d1ea8b39-0424-470e-b88e-51b8e06bce33",
   "metadata": {
    "tags": []
   },
   "source": [
    "#### YearsCode"
   ]
  },
  {
   "cell_type": "code",
   "execution_count": 395,
   "id": "b74cb928-3ebb-4a20-b8e1-287dd08679d8",
   "metadata": {},
   "outputs": [
    {
     "name": "stdout",
     "output_type": "stream",
     "text": [
      "Including any education, how many years have you been coding in total?\n"
     ]
    }
   ],
   "source": [
    "print(schema_raw[\"YearsCode\"])"
   ]
  },
  {
   "cell_type": "code",
   "execution_count": 396,
   "id": "e8913cbe-9ac5-4cf6-b678-e6ff07a63e62",
   "metadata": {},
   "outputs": [
    {
     "data": {
      "text/plain": [
       "10.0    5217\n",
       "5.0     5193\n",
       "6.0     4651\n",
       "4.0     4480\n",
       "7.0     4237\n",
       "8.0     4227\n",
       "3.0     4122\n",
       "2.0     3351\n",
       "12.0    2995\n",
       "15.0    2962\n",
       "20.0    2659\n",
       "9.0     2581\n",
       "11.0    1819\n",
       "14.0    1811\n",
       "13.0    1624\n",
       "25.0    1582\n",
       "1.0     1566\n",
       "0.0     1413\n",
       "16.0    1406\n",
       "30.0    1330\n",
       "22.0    1176\n",
       "18.0    1150\n",
       "17.0    1080\n",
       "40.0     777\n",
       "24.0     752\n",
       "35.0     742\n",
       "23.0     644\n",
       "19.0     563\n",
       "26.0     489\n",
       "27.0     485\n",
       "21.0     483\n",
       "28.0     425\n",
       "32.0     371\n",
       "38.0     288\n",
       "37.0     277\n",
       "34.0     241\n",
       "36.0     236\n",
       "33.0     229\n",
       "42.0     216\n",
       "29.0     208\n",
       "51.0     172\n",
       "31.0     170\n",
       "45.0     167\n",
       "39.0     159\n",
       "41.0     143\n",
       "43.0     115\n",
       "44.0     104\n",
       "50.0      68\n",
       "46.0      57\n",
       "47.0      42\n",
       "48.0      41\n",
       "49.0      35\n",
       "Name: YearsCode, dtype: int64"
      ]
     },
     "execution_count": 396,
     "metadata": {},
     "output_type": "execute_result"
    }
   ],
   "source": [
    "survey_df[\"YearsCode\"].value_counts()"
   ]
  },
  {
   "cell_type": "code",
   "execution_count": 397,
   "id": "e048866b-4b8d-4cf4-9254-19449e5c4a59",
   "metadata": {},
   "outputs": [
    {
     "name": "stdout",
     "output_type": "stream",
     "text": [
      "qname\n",
      "S0             <div><span style=\"font-size:19px;\"><strong>Hel...\n",
      "MetaInfo                                       Browser Meta Info\n",
      "S1             <span style=\"font-size:22px; font-family: aria...\n",
      "MainBranch     Which of the following options best describes ...\n",
      "Employment     Which of the following best describes your cur...\n",
      "                                     ...                        \n",
      "Frequency_2    Interacting with people outside of your immedi...\n",
      "Frequency_3    Encountering knowledge silos (where one indivi...\n",
      "TrueFalse_1    Are you involved in supporting new hires durin...\n",
      "TrueFalse_2    Do you use learning resources provided by your...\n",
      "TrueFalse_3    Does your employer give you time to learn new ...\n",
      "Name: question, Length: 79, dtype: object ['YearsCode']\n"
     ]
    }
   ],
   "source": [
    "print(schema_raw,[\"YearsCode\"])"
   ]
  },
  {
   "cell_type": "code",
   "execution_count": 398,
   "id": "d8e229c4-ec57-4b81-9e99-0da77797ab4f",
   "metadata": {},
   "outputs": [
    {
     "data": {
      "text/plain": [
       "1937"
      ]
     },
     "execution_count": 398,
     "metadata": {},
     "output_type": "execute_result"
    }
   ],
   "source": [
    "count_nan(survey_df[\"YearsCode\"])"
   ]
  },
  {
   "cell_type": "code",
   "execution_count": 399,
   "id": "b4cdcad0-ef64-4245-88c8-e89804298c99",
   "metadata": {},
   "outputs": [
    {
     "data": {
      "text/plain": [
       "10.0    5217\n",
       "5.0     5193\n",
       "6.0     4651\n",
       "4.0     4480\n",
       "7.0     4237\n",
       "8.0     4227\n",
       "3.0     4122\n",
       "2.0     3351\n",
       "12.0    2995\n",
       "15.0    2962\n",
       "20.0    2659\n",
       "9.0     2581\n",
       "11.0    1819\n",
       "14.0    1811\n",
       "13.0    1624\n",
       "25.0    1582\n",
       "1.0     1566\n",
       "0.0     1413\n",
       "16.0    1406\n",
       "30.0    1330\n",
       "22.0    1176\n",
       "18.0    1150\n",
       "17.0    1080\n",
       "40.0     777\n",
       "24.0     752\n",
       "35.0     742\n",
       "23.0     644\n",
       "19.0     563\n",
       "26.0     489\n",
       "27.0     485\n",
       "21.0     483\n",
       "28.0     425\n",
       "32.0     371\n",
       "38.0     288\n",
       "37.0     277\n",
       "34.0     241\n",
       "36.0     236\n",
       "33.0     229\n",
       "42.0     216\n",
       "29.0     208\n",
       "51.0     172\n",
       "31.0     170\n",
       "45.0     167\n",
       "39.0     159\n",
       "41.0     143\n",
       "43.0     115\n",
       "44.0     104\n",
       "50.0      68\n",
       "46.0      57\n",
       "47.0      42\n",
       "48.0      41\n",
       "49.0      35\n",
       "Name: YearsCode, dtype: int64"
      ]
     },
     "execution_count": 399,
     "metadata": {},
     "output_type": "execute_result"
    }
   ],
   "source": [
    "survey_df[\"YearsCode\"].value_counts()"
   ]
  },
  {
   "cell_type": "code",
   "execution_count": 400,
   "id": "3ce81472-2148-477c-8095-afd4387261e4",
   "metadata": {},
   "outputs": [
    {
     "data": {
      "text/html": [
       "<div>\n",
       "<style scoped>\n",
       "    .dataframe tbody tr th:only-of-type {\n",
       "        vertical-align: middle;\n",
       "    }\n",
       "\n",
       "    .dataframe tbody tr th {\n",
       "        vertical-align: top;\n",
       "    }\n",
       "\n",
       "    .dataframe thead th {\n",
       "        text-align: right;\n",
       "    }\n",
       "</style>\n",
       "<table border=\"1\" class=\"dataframe\">\n",
       "  <thead>\n",
       "    <tr style=\"text-align: right;\">\n",
       "      <th></th>\n",
       "      <th>YearsCode</th>\n",
       "      <th>YearsCodePro</th>\n",
       "      <th>WorkExp</th>\n",
       "    </tr>\n",
       "  </thead>\n",
       "  <tbody>\n",
       "    <tr>\n",
       "      <th>count</th>\n",
       "      <td>71331.000000</td>\n",
       "      <td>51833.000000</td>\n",
       "      <td>36769.000000</td>\n",
       "    </tr>\n",
       "    <tr>\n",
       "      <th>mean</th>\n",
       "      <td>12.251307</td>\n",
       "      <td>9.910270</td>\n",
       "      <td>10.242378</td>\n",
       "    </tr>\n",
       "    <tr>\n",
       "      <th>std</th>\n",
       "      <td>9.952419</td>\n",
       "      <td>8.712048</td>\n",
       "      <td>8.706850</td>\n",
       "    </tr>\n",
       "    <tr>\n",
       "      <th>min</th>\n",
       "      <td>0.000000</td>\n",
       "      <td>0.000000</td>\n",
       "      <td>0.000000</td>\n",
       "    </tr>\n",
       "    <tr>\n",
       "      <th>25%</th>\n",
       "      <td>5.000000</td>\n",
       "      <td>4.000000</td>\n",
       "      <td>4.000000</td>\n",
       "    </tr>\n",
       "    <tr>\n",
       "      <th>50%</th>\n",
       "      <td>9.000000</td>\n",
       "      <td>7.000000</td>\n",
       "      <td>8.000000</td>\n",
       "    </tr>\n",
       "    <tr>\n",
       "      <th>75%</th>\n",
       "      <td>16.000000</td>\n",
       "      <td>14.000000</td>\n",
       "      <td>15.000000</td>\n",
       "    </tr>\n",
       "    <tr>\n",
       "      <th>max</th>\n",
       "      <td>51.000000</td>\n",
       "      <td>51.000000</td>\n",
       "      <td>50.000000</td>\n",
       "    </tr>\n",
       "  </tbody>\n",
       "</table>\n",
       "</div>"
      ],
      "text/plain": [
       "          YearsCode  YearsCodePro       WorkExp\n",
       "count  71331.000000  51833.000000  36769.000000\n",
       "mean      12.251307      9.910270     10.242378\n",
       "std        9.952419      8.712048      8.706850\n",
       "min        0.000000      0.000000      0.000000\n",
       "25%        5.000000      4.000000      4.000000\n",
       "50%        9.000000      7.000000      8.000000\n",
       "75%       16.000000     14.000000     15.000000\n",
       "max       51.000000     51.000000     50.000000"
      ]
     },
     "execution_count": 400,
     "metadata": {},
     "output_type": "execute_result"
    }
   ],
   "source": [
    "survey_df.describe()"
   ]
  },
  {
   "cell_type": "code",
   "execution_count": 401,
   "id": "956d9fd2-353d-497e-8ee4-89800c462d77",
   "metadata": {},
   "outputs": [],
   "source": [
    "survey_df['YearsCode'] = pd.to_numeric(survey_df.YearsCode, errors='coerce')\n",
    "survey_df['YearsCodePro'] = pd.to_numeric(survey_df.YearsCodePro, errors='coerce')"
   ]
  },
  {
   "cell_type": "markdown",
   "id": "77744dcf-e6fc-4152-9542-e515372fb55e",
   "metadata": {
    "tags": []
   },
   "source": [
    "#### Gender"
   ]
  },
  {
   "cell_type": "code",
   "execution_count": 402,
   "id": "ccd468c8-5d93-4703-8141-bb50158293ad",
   "metadata": {},
   "outputs": [
    {
     "data": {
      "text/plain": [
       "Man                                                                                   64607\n",
       "Woman                                                                                  3399\n",
       "Prefer not to say                                                                      1172\n",
       "Non-binary, genderqueer, or gender non-conforming                                       704\n",
       "Or, in your own words:                                                                  279\n",
       "Man;Non-binary, genderqueer, or gender non-conforming                                   235\n",
       "Man;Or, in your own words:                                                              171\n",
       "Woman;Non-binary, genderqueer, or gender non-conforming                                 160\n",
       "Man;Woman;Non-binary, genderqueer, or gender non-conforming                              31\n",
       "Man;Woman                                                                                24\n",
       "Man;Or, in your own words:;Woman;Non-binary, genderqueer, or gender non-conforming       18\n",
       "Or, in your own words:;Woman;Non-binary, genderqueer, or gender non-conforming           15\n",
       "Or, in your own words:;Non-binary, genderqueer, or gender non-conforming                 14\n",
       "Or, in your own words:;Woman                                                             13\n",
       "Man;Or, in your own words:;Non-binary, genderqueer, or gender non-conforming              9\n",
       "Man;Or, in your own words:;Woman                                                          2\n",
       "Name: Gender, dtype: int64"
      ]
     },
     "execution_count": 402,
     "metadata": {},
     "output_type": "execute_result"
    }
   ],
   "source": [
    "schema_raw[\"Gender\"]\n",
    "survey_df[\"Gender\"].value_counts()"
   ]
  },
  {
   "cell_type": "code",
   "execution_count": 403,
   "id": "df65623c-b6b9-4352-9115-0badc53c1399",
   "metadata": {},
   "outputs": [],
   "source": [
    "survey_df.where(~(survey_df[\"Gender\"].str.contains(';', na=False)), np.nan, inplace=True)"
   ]
  },
  {
   "cell_type": "code",
   "execution_count": 404,
   "id": "ad663a06-4335-4f08-9cec-35e22ec24fa2",
   "metadata": {},
   "outputs": [
    {
     "data": {
      "text/plain": [
       "Man                                                  64607\n",
       "Woman                                                 3399\n",
       "Prefer not to say                                     1172\n",
       "Non-binary, genderqueer, or gender non-conforming      704\n",
       "Or, in your own words:                                 279\n",
       "Name: Gender, dtype: int64"
      ]
     },
     "execution_count": 404,
     "metadata": {},
     "output_type": "execute_result"
    }
   ],
   "source": [
    "survey_df[\"Gender\"].value_counts()"
   ]
  },
  {
   "cell_type": "code",
   "execution_count": 405,
   "id": "5dd44e74-9ee1-48df-9e80-73ff3cd079d9",
   "metadata": {},
   "outputs": [],
   "source": [
    "%matplotlib inline\n",
    "\n",
    "sns.set_style('darkgrid')\n",
    "mpl.rcParams['font.size'] = 14\n",
    "mpl.rcParams['figure.figsize'] = (9, 5)\n",
    "mpl.rcParams['figure.facecolor'] = '#00000000'"
   ]
  },
  {
   "cell_type": "code",
   "execution_count": 406,
   "id": "9757f572-47dc-420c-a49f-9fbe8a2805e7",
   "metadata": {},
   "outputs": [],
   "source": [
    "mpl.rcParams[\"font.family\"] = \"NanumGothic\"\n",
    "mpl.rcParams[\"axes.unicode_minus\"] = False"
   ]
  },
  {
   "cell_type": "markdown",
   "id": "a6474a52-edfa-4f96-8632-56680103a7f9",
   "metadata": {
    "jp-MarkdownHeadingCollapsed": true,
    "tags": []
   },
   "source": [
    "#### Country"
   ]
  },
  {
   "cell_type": "code",
   "execution_count": 407,
   "id": "ed4f2ea4-de3e-4e19-87a3-5f5fe5910418",
   "metadata": {},
   "outputs": [
    {
     "data": {
      "text/plain": [
       "'Where do you live? <span style=\"font-weight: bolder;\">*</span>'"
      ]
     },
     "execution_count": 407,
     "metadata": {},
     "output_type": "execute_result"
    }
   ],
   "source": [
    "schema_raw['Country']"
   ]
  },
  {
   "cell_type": "code",
   "execution_count": 408,
   "id": "06a70bab-fb1b-4ab0-8c2e-a2afd064f000",
   "metadata": {},
   "outputs": [
    {
     "data": {
      "text/plain": [
       "array([nan, 'Canada',\n",
       "       'United Kingdom of Great Britain and Northern Ireland', 'Israel',\n",
       "       'United States of America', 'Germany', 'India', 'Netherlands',\n",
       "       'Croatia', 'Australia', 'Russian Federation', 'Czech Republic',\n",
       "       'Austria', 'Serbia', 'Italy', 'Ireland', 'Poland', 'Slovenia',\n",
       "       'Iraq', 'Sweden', 'Madagascar', 'Norway', 'Taiwan',\n",
       "       'Hong Kong (S.A.R.)', 'Mexico', 'France', 'Brazil', 'Lithuania',\n",
       "       'Uruguay', 'Denmark', 'Spain', 'Egypt', 'Turkey', 'South Africa',\n",
       "       'Ukraine', 'Finland', 'Romania', 'Portugal', 'Singapore', 'Oman',\n",
       "       'Belgium', 'Chile', 'Bulgaria', 'Latvia', 'Philippines', 'Greece',\n",
       "       'Belarus', 'Saudi Arabia', 'Kenya', 'Switzerland', 'Iceland',\n",
       "       'Viet Nam', 'Thailand', 'China', 'Montenegro', 'Slovakia', 'Japan',\n",
       "       'Luxembourg', 'Turkmenistan', 'Argentina', 'Hungary', 'Tunisia',\n",
       "       'Bangladesh', 'Maldives', 'Dominican Republic', 'Jordan',\n",
       "       'Pakistan', 'Nepal', 'Iran, Islamic Republic of...', 'Indonesia',\n",
       "       'Ecuador', 'Bosnia and Herzegovina', 'Armenia', 'Colombia',\n",
       "       'Kazakhstan', 'South Korea', 'Costa Rica', 'Honduras', 'Mauritius',\n",
       "       'Estonia', 'Algeria', 'Trinidad and Tobago', 'Mali', 'Morocco',\n",
       "       'Swaziland', 'New Zealand',\n",
       "       'The former Yugoslav Republic of Macedonia', 'Afghanistan',\n",
       "       'Cyprus', 'United Arab Emirates', 'Peru', 'Uzbekistan', 'Ethiopia',\n",
       "       'Bahrain', 'Malta', 'Nicaragua', 'Andorra', 'Republic of Korea',\n",
       "       'Lebanon', 'Belize', 'Zambia', 'Bolivia', 'Malaysia', 'Sri Lanka',\n",
       "       \"Lao People's Democratic Republic\", 'Guatemala', 'Azerbaijan',\n",
       "       'Suriname', 'El Salvador', 'Syrian Arab Republic', 'Qatar',\n",
       "       'Nigeria', 'Kyrgyzstan', 'Zimbabwe', 'Rwanda', 'Georgia',\n",
       "       'Cambodia', 'Malawi', 'Yemen', 'Fiji', 'Nomadic', 'Uganda',\n",
       "       'Albania', 'Timor-Leste', 'Mongolia', 'Republic of Moldova',\n",
       "       'Tajikistan', 'Ghana', 'United Republic of Tanzania', 'Myanmar',\n",
       "       'Kuwait', 'Cameroon', 'Kosovo', 'Jamaica', 'Benin', 'Botswana',\n",
       "       'Niger', 'Palestine', 'Cape Verde', 'Libyan Arab Jamahiriya',\n",
       "       'Venezuela, Bolivarian Republic of...', 'Senegal', 'Cuba', 'Togo',\n",
       "       'Angola', 'Isle of Man', 'Panama', 'Bahamas', 'Paraguay', 'Sudan',\n",
       "       'Liberia', 'Bhutan', 'Democratic Republic of the Congo',\n",
       "       \"Côte d'Ivoire\", 'Barbados', 'Congo, Republic of the...',\n",
       "       'Namibia', 'Sierra Leone', 'Mozambique', 'Lesotho', 'Chad',\n",
       "       'North Korea', 'Antigua and Barbuda', 'Papua New Guinea', 'Palau',\n",
       "       'Somalia', 'Guinea', 'Haiti', 'Gabon', 'Mauritania', 'San Marino',\n",
       "       'Guyana', 'Saint Lucia', 'Burkina Faso', 'Brunei Darussalam',\n",
       "       'Gambia', 'Monaco', 'Djibouti', 'Seychelles', 'Solomon Islands',\n",
       "       'Saint Kitts and Nevis'], dtype=object)"
      ]
     },
     "execution_count": 408,
     "metadata": {},
     "output_type": "execute_result"
    }
   ],
   "source": [
    "survey_df['Country'].unique()"
   ]
  },
  {
   "cell_type": "code",
   "execution_count": 409,
   "id": "08bccd94-4e88-4335-9ff3-ada0ff590afd",
   "metadata": {},
   "outputs": [
    {
     "data": {
      "text/plain": [
       "180"
      ]
     },
     "execution_count": 409,
     "metadata": {},
     "output_type": "execute_result"
    }
   ],
   "source": [
    "survey_df['Country'].nunique()"
   ]
  },
  {
   "cell_type": "markdown",
   "id": "19ac20a8-f839-42b2-9bdb-fbec3cbff027",
   "metadata": {
    "jp-MarkdownHeadingCollapsed": true,
    "tags": []
   },
   "source": [
    "#### Age"
   ]
  },
  {
   "cell_type": "code",
   "execution_count": 410,
   "id": "c8d1a268-5309-4977-942f-f50032dbd393",
   "metadata": {},
   "outputs": [
    {
     "data": {
      "text/plain": [
       "'What is your age?'"
      ]
     },
     "execution_count": 410,
     "metadata": {},
     "output_type": "execute_result"
    }
   ],
   "source": [
    "schema_raw[\"Age\"]"
   ]
  },
  {
   "cell_type": "code",
   "execution_count": 411,
   "id": "dd1db605-0837-44f8-9d3e-2fd5cef8040b",
   "metadata": {},
   "outputs": [
    {
     "data": {
      "text/plain": [
       "25-34 years old       27878\n",
       "18-24 years old       16455\n",
       "35-44 years old       13866\n",
       "45-54 years old        5250\n",
       "Under 18 years old     3775\n",
       "55-64 years old        1974\n",
       "65 years or older       547\n",
       "Prefer not to say       512\n",
       "Name: Age, dtype: int64"
      ]
     },
     "execution_count": 411,
     "metadata": {},
     "output_type": "execute_result"
    }
   ],
   "source": [
    "age_counts = survey_df[\"Age\"].value_counts()\n",
    "age_counts"
   ]
  },
  {
   "cell_type": "code",
   "execution_count": 412,
   "id": "237ba6c9-14f6-4f70-b7a7-6f61de074b41",
   "metadata": {},
   "outputs": [
    {
     "data": {
      "text/plain": [
       "array([nan, '25-34 years old', '35-44 years old', 'Under 18 years old',\n",
       "       '18-24 years old', '45-54 years old', '55-64 years old',\n",
       "       '65 years or older', 'Prefer not to say'], dtype=object)"
      ]
     },
     "execution_count": 412,
     "metadata": {},
     "output_type": "execute_result"
    }
   ],
   "source": [
    "survey_df[\"Age\"].unique()"
   ]
  },
  {
   "cell_type": "code",
   "execution_count": 413,
   "id": "05e2e98b-ac93-43d8-afe8-07e41e6726c4",
   "metadata": {},
   "outputs": [
    {
     "data": {
      "text/plain": [
       "8"
      ]
     },
     "execution_count": 413,
     "metadata": {},
     "output_type": "execute_result"
    }
   ],
   "source": [
    "survey_df[\"Age\"].nunique()"
   ]
  },
  {
   "cell_type": "markdown",
   "id": "a01b37ff-d722-4d63-bf45-d16dae5bf43e",
   "metadata": {
    "jp-MarkdownHeadingCollapsed": true,
    "tags": []
   },
   "source": [
    "#### EdLevel"
   ]
  },
  {
   "cell_type": "code",
   "execution_count": 414,
   "id": "77ac3cf2-17ea-4ca1-a99a-2a1ac043a91a",
   "metadata": {},
   "outputs": [
    {
     "data": {
      "text/plain": [
       "'Which of the following best describes the highest level of formal education that you’ve completed? *'"
      ]
     },
     "execution_count": 414,
     "metadata": {},
     "output_type": "execute_result"
    }
   ],
   "source": [
    "schema_raw[\"EdLevel\"]"
   ]
  },
  {
   "cell_type": "code",
   "execution_count": 415,
   "id": "82fec783-459d-43a2-822d-7d12947865ec",
   "metadata": {},
   "outputs": [
    {
     "data": {
      "text/plain": [
       "Bachelor’s degree (B.A., B.S., B.Eng., etc.)                                          30050\n",
       "Master’s degree (M.A., M.S., M.Eng., MBA, etc.)                                       15394\n",
       "Some college/university study without earning a degree                                 9194\n",
       "Secondary school (e.g. American high school, German Realschule or Gymnasium, etc.)     7769\n",
       "Associate degree (A.A., A.S., etc.)                                                    2221\n",
       "Other doctoral degree (Ph.D., Ed.D., etc.)                                             2152\n",
       "Primary/elementary school                                                              1767\n",
       "Something else                                                                         1222\n",
       "Professional degree (JD, MD, etc.)                                                     1110\n",
       "Name: EdLevel, dtype: int64"
      ]
     },
     "execution_count": 415,
     "metadata": {},
     "output_type": "execute_result"
    }
   ],
   "source": [
    "survey_df[\"EdLevel\"].value_counts()"
   ]
  },
  {
   "cell_type": "markdown",
   "id": "1545a91a-5738-43bf-828f-3273668f700c",
   "metadata": {
    "jp-MarkdownHeadingCollapsed": true,
    "tags": []
   },
   "source": [
    "#### Employment"
   ]
  },
  {
   "cell_type": "code",
   "execution_count": 416,
   "id": "b7909056-3865-4493-b2a9-3fc1b0d8b642",
   "metadata": {},
   "outputs": [
    {
     "data": {
      "text/plain": [
       "'Which of the following best describes your current employment status?'"
      ]
     },
     "execution_count": 416,
     "metadata": {},
     "output_type": "execute_result"
    }
   ],
   "source": [
    "schema_raw[\"Employment\"]"
   ]
  },
  {
   "cell_type": "code",
   "execution_count": 417,
   "id": "36306d16-3eb8-41ee-bc42-5d7e6ed5be7b",
   "metadata": {},
   "outputs": [
    {
     "data": {
      "text/plain": [
       "Employed, full-time                                                         42644\n",
       "Student, full-time                                                           6663\n",
       "Independent contractor, freelancer, or self-employed                         4941\n",
       "Employed, full-time;Independent contractor, freelancer, or self-employed     3456\n",
       "Not employed, but looking for work                                           1810\n",
       "Student, full-time;Employed, part-time                                       1148\n",
       "Employed, part-time                                                          1116\n",
       "Student, part-time                                                           1036\n",
       "Employed, full-time;Student, full-time                                        961\n",
       "Employed, full-time;Student, part-time                                        932\n",
       "Student, part-time;Employed, part-time                                        717\n",
       "Student, full-time;Not employed, but looking for work                         715\n",
       "Not employed, and not looking for work                                        705\n",
       "I prefer not to say                                                           599\n",
       "Student, full-time;Independent contractor, freelancer, or self-employed       430\n",
       "Name: Employment, dtype: int64"
      ]
     },
     "execution_count": 417,
     "metadata": {},
     "output_type": "execute_result"
    }
   ],
   "source": [
    "survey_df[\"Employment\"].value_counts().head(15)"
   ]
  },
  {
   "cell_type": "markdown",
   "id": "a5f7bc6d-9305-4c92-8cc4-a4e3cfbf5fb8",
   "metadata": {
    "jp-MarkdownHeadingCollapsed": true,
    "tags": []
   },
   "source": [
    "#### DevType"
   ]
  },
  {
   "cell_type": "code",
   "execution_count": 418,
   "id": "1bb9fd8f-2449-413c-b657-39d6522d66c2",
   "metadata": {},
   "outputs": [
    {
     "data": {
      "text/plain": [
       "Developer, full-stack                                                                                                                                                                                                                                                                                                                                                                                                                  7091\n",
       "Developer, back-end                                                                                                                                                                                                                                                                                                                                                                                                                    5274\n",
       "Developer, front-end                                                                                                                                                                                                                                                                                                                                                                                                                   2364\n",
       "Developer, front-end;Developer, full-stack;Developer, back-end                                                                                                                                                                                                                                                                                                                                                                         1793\n",
       "Developer, full-stack;Developer, back-end                                                                                                                                                                                                                                                                                                                                                                                              1522\n",
       "                                                                                                                                                                                                                                                                                                                                                                                                                                       ... \n",
       "Educator;Engineering manager;Developer, game or graphics                                                                                                                                                                                                                                                                                                                                                                                  1\n",
       "Data scientist or machine learning specialist;Developer, full-stack;Student;Project manager                                                                                                                                                                                                                                                                                                                                               1\n",
       "Data scientist or machine learning specialist;Engineer, data;Engineer, site reliability;Developer, full-stack;Developer, back-end;Database administrator                                                                                                                                                                                                                                                                                  1\n",
       "Developer, full-stack;Developer, back-end;Developer, desktop or enterprise applications;Engineering manager;Database administrator;DevOps specialist;Project manager;Data or business analyst;Senior Executive (C-Suite, VP, etc.)                                                                                                                                                                                                        1\n",
       "Developer, front-end;Engineer, data;Engineer, site reliability;Developer, full-stack;Developer, back-end;Developer, desktop or enterprise applications;Developer, QA or test;Student;Developer, mobile;Academic researcher;DevOps specialist;Developer, embedded applications or devices;Developer, game or graphics;Cloud infrastructure engineer;Data or business analyst;Designer;Scientist;Product manager;System administrator       1\n",
       "Name: DevType, Length: 9886, dtype: int64"
      ]
     },
     "execution_count": 418,
     "metadata": {},
     "output_type": "execute_result"
    }
   ],
   "source": [
    "survey_df.DevType.value_counts()"
   ]
  },
  {
   "cell_type": "markdown",
   "id": "fa8b5a86-87ee-4ec1-a5aa-070c5ed0de55",
   "metadata": {
    "tags": []
   },
   "source": [
    "## 연습문제"
   ]
  },
  {
   "cell_type": "markdown",
   "id": "15cccb2a-4771-4840-81bf-eb1a7a54617e",
   "metadata": {
    "jp-MarkdownHeadingCollapsed": true,
    "tags": []
   },
   "source": [
    "### 작업에 들어가기 이전에 해당 column(Series)이 NaN 값을 얼마나 갖는지 확인하기 위한 함수를 만들어 봅시다.\n",
    "- series를 인자로 갖는 count_nan 함수를 만듭니다.\n",
    "- 이 함수는 인자로 전달된 series의 NaN 개수를 반환해줍니다."
   ]
  },
  {
   "cell_type": "code",
   "execution_count": 383,
   "id": "618e5e34-df76-40cc-aad7-5397f2ab3dd1",
   "metadata": {},
   "outputs": [],
   "source": [
    "def count_nan(x):\n",
    "    return x.isna().sum()"
   ]
  },
  {
   "cell_type": "code",
   "execution_count": 384,
   "id": "49bab257-9b0d-4beb-b6b5-359038a6b497",
   "metadata": {},
   "outputs": [
    {
     "data": {
      "text/plain": [
       "1937"
      ]
     },
     "execution_count": 384,
     "metadata": {},
     "output_type": "execute_result"
    }
   ],
   "source": [
    "count_nan(survey_df[\"YearsCode\"])"
   ]
  },
  {
   "cell_type": "markdown",
   "id": "3c4b0492-bd05-4100-8007-833229d2340c",
   "metadata": {
    "jp-MarkdownHeadingCollapsed": true,
    "tags": []
   },
   "source": [
    "### YearsCode"
   ]
  },
  {
   "cell_type": "markdown",
   "id": "644522b6-d1de-4ef5-879a-8f87eb4cbfd5",
   "metadata": {
    "jp-MarkdownHeadingCollapsed": true,
    "tags": []
   },
   "source": [
    "#### YearsCode의 'Less than 1 year'의 값은 0으로 변경하고 \n",
    "'More than 50 years'의 값은 51로 일괄적으로 변경하려 합니다.  \n",
    "또 dtype을 float로 변경하고 이를 survey_df[\"YearsCode\"]에 적용해보세요.\n",
    "- 아래의 Series의 메서드를 활용해보세요.\n",
    "- 힌트: replace(변경 전 값, 변경 후 값, inplace=True)"
   ]
  },
  {
   "cell_type": "code",
   "execution_count": 385,
   "id": "a427b1c1-1bb1-48c0-b345-cd32228af38b",
   "metadata": {},
   "outputs": [],
   "source": [
    "# 1년 이하는 0으로 변경\n",
    "survey_df[\"YearsCode\"].replace(\"Less than 1 year\", 0, inplace=True)\n",
    "# 50년 초과는 51으로 변경\n",
    "survey_df[\"YearsCode\"].replace(\"More than 50 years\", 51, inplace=True)\n",
    "# Dtype을 float로 변경\n",
    "survey_df[\"YearsCode\"] = survey_df[\"YearsCode\"].astype(float)"
   ]
  },
  {
   "cell_type": "code",
   "execution_count": 386,
   "id": "c930efaf-8473-414b-9aa7-6f34d5315419",
   "metadata": {},
   "outputs": [
    {
     "data": {
      "text/plain": [
       "ResponseId\n",
       "1         NaN\n",
       "2         NaN\n",
       "3        14.0\n",
       "4        20.0\n",
       "5         8.0\n",
       "         ... \n",
       "73264     8.0\n",
       "73265     6.0\n",
       "73266    42.0\n",
       "73267    50.0\n",
       "73268    16.0\n",
       "Name: YearsCode, Length: 73268, dtype: float64"
      ]
     },
     "execution_count": 386,
     "metadata": {},
     "output_type": "execute_result"
    }
   ],
   "source": [
    "survey_df[\"YearsCode\"]"
   ]
  },
  {
   "cell_type": "markdown",
   "id": "32dc3920-76db-4932-b379-9c71616a738f",
   "metadata": {
    "jp-MarkdownHeadingCollapsed": true,
    "tags": []
   },
   "source": [
    "#### YearsCodePro의 column도 YearsCode와 동일하게 일괄적으로 변경하려 합니다.  \n",
    "또 dtype을 float로 변경하고 이를 survey_df[\"YearsCodePro\"]에 적용해보세요."
   ]
  },
  {
   "cell_type": "code",
   "execution_count": 387,
   "id": "47084471-e7d6-48a4-989d-21c89ff75c35",
   "metadata": {},
   "outputs": [],
   "source": [
    "# 1년 이하는 0으로 변경\n",
    "survey_df[\"YearsCodePro\"].replace(\"Less than 1 year\", 0, inplace=True)\n",
    "# 50년 초과는 51으로 변경\n",
    "survey_df[\"YearsCodePro\"].replace(\"More than 50 years\", 51, inplace=True)\n",
    "# Dtype을 float로 변경\n",
    "survey_df[\"YearsCodePro\"] = survey_df[\"YearsCodePro\"].astype(float)"
   ]
  },
  {
   "cell_type": "code",
   "execution_count": 388,
   "id": "fbad5460-b3cc-456a-8f73-87f01d43e0f2",
   "metadata": {},
   "outputs": [
    {
     "data": {
      "text/plain": [
       "ResponseId\n",
       "1         NaN\n",
       "2         NaN\n",
       "3         5.0\n",
       "4        17.0\n",
       "5         3.0\n",
       "         ... \n",
       "73264     5.0\n",
       "73265     5.0\n",
       "73266    33.0\n",
       "73267    31.0\n",
       "73268     5.0\n",
       "Name: YearsCodePro, Length: 73268, dtype: float64"
      ]
     },
     "execution_count": 388,
     "metadata": {},
     "output_type": "execute_result"
    }
   ],
   "source": [
    "survey_df[\"YearsCodePro\"]"
   ]
  },
  {
   "cell_type": "markdown",
   "id": "466cfc52-adbe-4f36-bfba-ec4d6fddbaad",
   "metadata": {
    "jp-MarkdownHeadingCollapsed": true,
    "tags": []
   },
   "source": [
    "### 설문 응답자가 속한 국가중 응답자 수 상위 15개 국가를 아래와 같이 구해보세요."
   ]
  },
  {
   "cell_type": "code",
   "execution_count": 389,
   "id": "f35cbdce-3f09-41e4-b649-5ed0fe5413f7",
   "metadata": {},
   "outputs": [
    {
     "data": {
      "text/plain": [
       "United States of America                                13543\n",
       "India                                                    6639\n",
       "Germany                                                  5395\n",
       "United Kingdom of Great Britain and Northern Ireland     4190\n",
       "Canada                                                   2490\n",
       "France                                                   2328\n",
       "Brazil                                                   2109\n",
       "Poland                                                   1732\n",
       "Netherlands                                              1555\n",
       "Spain                                                    1521\n",
       "Italy                                                    1514\n",
       "Australia                                                1462\n",
       "Russian Federation                                       1229\n",
       "Turkey                                                   1020\n",
       "Sweden                                                   1020\n",
       "Name: Country, dtype: int64"
      ]
     },
     "execution_count": 389,
     "metadata": {},
     "output_type": "execute_result"
    }
   ],
   "source": [
    "top_contries = survey_df['Country'].value_counts().head(15)\n",
    "top_contries"
   ]
  },
  {
   "cell_type": "code",
   "execution_count": 390,
   "id": "2884b5b3-2239-40ed-9d9d-e79e7ef58c42",
   "metadata": {},
   "outputs": [
    {
     "data": {
      "text/plain": [
       "United States of America                                13543\n",
       "India                                                    6639\n",
       "Germany                                                  5395\n",
       "United Kingdom of Great Britain and Northern Ireland     4190\n",
       "Canada                                                   2490\n",
       "France                                                   2328\n",
       "Brazil                                                   2109\n",
       "Poland                                                   1732\n",
       "Netherlands                                              1555\n",
       "Spain                                                    1521\n",
       "Italy                                                    1514\n",
       "Australia                                                1462\n",
       "Russian Federation                                       1229\n",
       "Turkey                                                   1020\n",
       "Sweden                                                   1020\n",
       "Name: Country, dtype: int64"
      ]
     },
     "execution_count": 390,
     "metadata": {},
     "output_type": "execute_result"
    }
   ],
   "source": [
    "survey_df['Country'].value_counts()[:15]"
   ]
  },
  {
   "cell_type": "markdown",
   "id": "4aa2b38a-d1da-4cd2-a6c3-997f9a057230",
   "metadata": {
    "jp-MarkdownHeadingCollapsed": true,
    "tags": []
   },
   "source": [
    "### 앞의 연습 문제에서 구한 값을 가지고 다음의 차트를 작성해보세요.\n",
    "- xticks의 글자를 회전시키려면 rotation키워드 인수에 각도를 의미하는 정수 값을 입력하면 됩니다."
   ]
  },
  {
   "cell_type": "code",
   "execution_count": 391,
   "id": "7ec8047d-2171-411f-b176-88bfa06f6dcc",
   "metadata": {},
   "outputs": [
    {
     "data": {
      "image/png": "[encoded data removed]",
      "text/plain": [
       "<Figure size 1200x600 with 1 Axes>"
      ]
     },
     "metadata": {
      "needs_background": "light"
     },
     "output_type": "display_data"
    }
   ],
   "source": [
    "# figure 사이즈를 12 x 6 으로 설정합니다.\n",
    "plt.figure(figsize=(12,6))\n",
    "plt.title(\"응답자의 지역\")\n",
    "# rotation=90은 글자를 반시계 방향으로 90도 회전시킵니다.\n",
    "plt.xticks(rotation=90)\n",
    "sns.barplot(x=top_contries.index ,y=top_contries)\n",
    "plt.ylabel(\"응답자의 수\")\n",
    "plt.show()"
   ]
  },
  {
   "cell_type": "markdown",
   "id": "bd8d8fd6-67e2-48a8-969d-3f7da196fb9d",
   "metadata": {
    "jp-MarkdownHeadingCollapsed": true,
    "tags": []
   },
   "source": [
    "### 연령의 분포가 한눈에 들어오도록 아래와 같이 그래프를 출력해보세요.\n",
    "x축의 출력하는 데이터의 순서도 고려하여 작성해야 합니다."
   ]
  },
  {
   "cell_type": "code",
   "execution_count": 392,
   "id": "381c0443-3bf4-46da-a69d-b1abc5829f3e",
   "metadata": {},
   "outputs": [],
   "source": [
    "age_order = [\n",
    "    'Under 18 years old', '25-34 years old', '35-44 years old', \n",
    "       '18-24 years old', '45-54 years old', '55-64 years old',\n",
    "       '65 years or older', 'Prefer not to say']\n",
    "    "
   ]
  },
  {
   "cell_type": "code",
   "execution_count": 393,
   "id": "a2c2cc50-2296-4a1d-99b4-329689b1faba",
   "metadata": {},
   "outputs": [
    {
     "data": {
      "image/png": "[encoded data removed]",
      "text/plain": [
       "<Figure size 1200x600 with 1 Axes>"
      ]
     },
     "metadata": {
      "needs_background": "light"
     },
     "output_type": "display_data"
    }
   ],
   "source": [
    "plt.figure(figsize=(12,6))\n",
    "plt.title(schema_raw[\"Age\"])\n",
    "plt.xticks(rotation=90)\n",
    "sns.barplot(x=age_counts.index, y=age_counts.values, order=age_order)\n",
    "plt.xlabel(\"나이\")\n",
    "plt.ylabel(\"응답자의 수\")\n",
    "plt.show()"
   ]
  },
  {
   "cell_type": "code",
   "execution_count": 394,
   "id": "84ea419d-f575-4f4a-9646-c37af6df88ab",
   "metadata": {},
   "outputs": [
    {
     "data": {
      "image/png": "[encoded data removed]",
      "text/plain": [
       "<Figure size 1200x600 with 1 Axes>"
      ]
     },
     "metadata": {
      "needs_background": "light"
     },
     "output_type": "display_data"
    }
   ],
   "source": [
    "plt.figure(figsize=(12,6))\n",
    "plt.title(schema_raw[\"Age\"])\n",
    "plt.xticks(rotation=90)\n",
    "sns.countplot(data=survey_df, x=\"Age\", order=age_order)\n",
    "plt.xlabel(\"나이\")\n",
    "plt.ylabel(\"응답자의 수\")\n",
    "plt.show()"
   ]
  },
  {
   "cell_type": "markdown",
   "id": "7eb955cf-a9c8-47ca-952c-a2939debe74c",
   "metadata": {
    "jp-MarkdownHeadingCollapsed": true,
    "tags": []
   },
   "source": [
    "### 앞의 데이터를 활용하여 아래와 같이 파이 플롯을 작성해보세요."
   ]
  },
  {
   "cell_type": "code",
   "execution_count": null,
   "id": "66d24f48-a208-478a-8073-dcea60af82fc",
   "metadata": {},
   "outputs": [],
   "source": [
    "plt.style.use(\"default\")\n",
    "mpl.rcParams[\"axes.facecolor\"] = \"white\"\n",
    "gender_counts = survey_df[\"Gender\"].value_counts(True)"
   ]
  },
  {
   "cell_type": "code",
   "execution_count": null,
   "id": "83a1a938-7950-4bb9-b80c-aa029e6bc873",
   "metadata": {},
   "outputs": [],
   "source": [
    "plt.title(schema_raw[\"Gender\"])\n",
    "plt.pie(gender_counts, labels=gender_counts.index, autopct='%1.1f%%',startangle=180)\n",
    "plt.axis('equal')\n",
    "plt.show()"
   ]
  },
  {
   "cell_type": "markdown",
   "id": "6c3f4bbd-bb5a-4275-8c8a-08563d153f02",
   "metadata": {
    "jp-MarkdownHeadingCollapsed": true,
    "tags": []
   },
   "source": [
    "### 아래 보이는 그래프를 출력하는 코드를 구현해보세요."
   ]
  },
  {
   "cell_type": "code",
   "execution_count": null,
   "id": "4a19fca7-c56c-49e1-bfae-24446987b527",
   "metadata": {},
   "outputs": [],
   "source": [
    "plt.figure(figsize=(12,6))\n",
    "plt.title(schema_raw[\"EdLevel\"])\n",
    "sns.countplot(y=survey_df[\"EdLevel\"])\n",
    "plt.show()"
   ]
  },
  {
   "cell_type": "markdown",
   "id": "d6e0063d-5297-430b-b18a-9e01a8cc5bd8",
   "metadata": {
    "jp-MarkdownHeadingCollapsed": true,
    "tags": []
   },
   "source": [
    "### 아래 보이는 그래프를 출력하는 코드를 구연해보세요.\n",
    "- y축 순서 고려하세요.\n",
    "- y축의 단위가 퍼센트로 변경됐습니다."
   ]
  },
  {
   "cell_type": "code",
   "execution_count": null,
   "id": "419d46a3-7e42-4a46-b9b7-ebec6d64e125",
   "metadata": {},
   "outputs": [],
   "source": [
    "EdLevel_pct = survey_df.EdLevel.value_counts(True)*100\n",
    "EdLevel_pct"
   ]
  },
  {
   "cell_type": "code",
   "execution_count": null,
   "id": "be4b9b3b-e958-49ac-8264-f08da152930d",
   "metadata": {},
   "outputs": [],
   "source": [
    "sns.barplot(x=EdLevel_pct, y=EdLevel_pct.index)\n",
    "plt.title(schema_raw[\"EdLevel\"])\n",
    "plt.ylabel(None);\n",
    "plt.xlabel('Percentage');\n",
    "plt.show()"
   ]
  },
  {
   "cell_type": "markdown",
   "id": "2809a5f8-73a6-403c-ae0e-afd0f9d0b378",
   "metadata": {
    "jp-MarkdownHeadingCollapsed": true,
    "tags": []
   },
   "source": [
    "### 고용 형태(Employment)에 대한 상위 15개 항목에 대한 그래프를 아래와 같이 구현해보세요."
   ]
  },
  {
   "cell_type": "code",
   "execution_count": 27,
   "id": "e1c3a3bc-38a4-413c-97d4-5cfed7c00411",
   "metadata": {},
   "outputs": [
    {
     "data": {
      "text/plain": [
       "Employed, full-time                                                         59.911587\n",
       "Student, full-time                                                           9.421412\n",
       "Independent contractor, freelancer, or self-employed                         6.941946\n",
       "Employed, full-time;Independent contractor, freelancer, or self-employed     4.861314\n",
       "Not employed, but looking for work                                           2.553375\n",
       "Student, full-time;Employed, part-time                                       1.628805\n",
       "Employed, part-time                                                          1.578602\n",
       "Student, part-time                                                           1.457279\n",
       "Employed, full-time;Student, full-time                                       1.355478\n",
       "Employed, full-time;Student, part-time                                       1.319221\n",
       "Student, full-time;Not employed, but looking for work                        1.016609\n",
       "Student, part-time;Employed, part-time                                       1.005453\n",
       "Not employed, and not looking for work                                       0.999874\n",
       "I prefer not to say                                                          0.852055\n",
       "Student, full-time;Independent contractor, freelancer, or self-employed      0.614986\n",
       "Name: Employment, dtype: float64"
      ]
     },
     "execution_count": 27,
     "metadata": {},
     "output_type": "execute_result"
    }
   ],
   "source": [
    "Employment_pct = survey_df.Employment.value_counts(True).head(15)*100\n",
    "Employment_pct"
   ]
  },
  {
   "cell_type": "code",
   "execution_count": 28,
   "id": "3df54731-a1f9-46eb-97df-45e77f225346",
   "metadata": {},
   "outputs": [
    {
     "data": {
      "image/png": "[encoded data removed]",
      "text/plain": [
       "<Figure size 640x480 with 1 Axes>"
      ]
     },
     "metadata": {},
     "output_type": "display_data"
    }
   ],
   "source": [
    "sns.barplot(x = Employment_pct, y = Employment_pct.index)\n",
    "plt.title(schema_raw['Employment'])\n",
    "plt.xlabel('Percentage')\n",
    "plt.show()"
   ]
  },
  {
   "cell_type": "markdown",
   "id": "86c152d9-9160-4347-9424-db5d879c397e",
   "metadata": {
    "jp-MarkdownHeadingCollapsed": true,
    "tags": []
   },
   "source": [
    "### 즉 DevType column을 제일 작은 단위의 응답 항목으로 나누어 DataFrame 형태로 만들어 보도록 하겠습니다.\n",
    "- Series를 인자로 받아옵니다.\n",
    "- value의 구분자는 ';'입니다.\n",
    "- Series는 items() 메서드를 사용하여 루프할 수 있습니다.\n",
    "- 반환 값으로 각 제일 작은 단위의 응답 항목을 column으로 갖는 DataFrame을 줍니다.\n",
    "- 응답자가 제일 작은 단위의 기술 스텍을 선택한 경우 해당 열의 값을 True로 아닌 경우 False로 합니다."
   ]
  },
  {
   "cell_type": "code",
   "execution_count": 566,
   "id": "e5f68414-3bde-482b-ae6f-af4f4536e191",
   "metadata": {},
   "outputs": [
    {
     "data": {
      "text/html": [
       "<div>\n",
       "<style scoped>\n",
       "    .dataframe tbody tr th:only-of-type {\n",
       "        vertical-align: middle;\n",
       "    }\n",
       "\n",
       "    .dataframe tbody tr th {\n",
       "        vertical-align: top;\n",
       "    }\n",
       "\n",
       "    .dataframe thead th {\n",
       "        text-align: right;\n",
       "    }\n",
       "</style>\n",
       "<table border=\"1\" class=\"dataframe\">\n",
       "  <thead>\n",
       "    <tr style=\"text-align: right;\">\n",
       "      <th></th>\n",
       "      <th>Data scientist or machine learning specialist</th>\n",
       "      <th>Developer, front-end</th>\n",
       "      <th>Engineer, data</th>\n",
       "      <th>Engineer, site reliability</th>\n",
       "      <th>Developer, full-stack</th>\n",
       "      <th>Developer, back-end</th>\n",
       "      <th>Developer, desktop or enterprise applications</th>\n",
       "      <th>Developer, QA or test</th>\n",
       "      <th>Student</th>\n",
       "      <th>Developer, mobile</th>\n",
       "      <th>Educator</th>\n",
       "      <th>Engineering manager</th>\n",
       "      <th>Database administrator</th>\n",
       "      <th>Academic researcher</th>\n",
       "      <th>DevOps specialist</th>\n",
       "      <th>Other (please specify):</th>\n",
       "      <th>Developer, embedded applications or devices</th>\n",
       "      <th>Developer, game or graphics</th>\n",
       "      <th>Project manager</th>\n",
       "      <th>Cloud infrastructure engineer</th>\n",
       "      <th>Data or business analyst</th>\n",
       "      <th>Designer</th>\n",
       "      <th>Scientist</th>\n",
       "      <th>Product manager</th>\n",
       "      <th>Senior Executive (C-Suite, VP, etc.)</th>\n",
       "      <th>System administrator</th>\n",
       "      <th>Blockchain</th>\n",
       "      <th>Marketing or sales professional</th>\n",
       "      <th>Security professional</th>\n",
       "    </tr>\n",
       "    <tr>\n",
       "      <th>ResponseId</th>\n",
       "      <th></th>\n",
       "      <th></th>\n",
       "      <th></th>\n",
       "      <th></th>\n",
       "      <th></th>\n",
       "      <th></th>\n",
       "      <th></th>\n",
       "      <th></th>\n",
       "      <th></th>\n",
       "      <th></th>\n",
       "      <th></th>\n",
       "      <th></th>\n",
       "      <th></th>\n",
       "      <th></th>\n",
       "      <th></th>\n",
       "      <th></th>\n",
       "      <th></th>\n",
       "      <th></th>\n",
       "      <th></th>\n",
       "      <th></th>\n",
       "      <th></th>\n",
       "      <th></th>\n",
       "      <th></th>\n",
       "      <th></th>\n",
       "      <th></th>\n",
       "      <th></th>\n",
       "      <th></th>\n",
       "      <th></th>\n",
       "      <th></th>\n",
       "    </tr>\n",
       "  </thead>\n",
       "  <tbody>\n",
       "    <tr>\n",
       "      <th>1</th>\n",
       "      <td>False</td>\n",
       "      <td>False</td>\n",
       "      <td>False</td>\n",
       "      <td>False</td>\n",
       "      <td>False</td>\n",
       "      <td>False</td>\n",
       "      <td>False</td>\n",
       "      <td>False</td>\n",
       "      <td>False</td>\n",
       "      <td>False</td>\n",
       "      <td>False</td>\n",
       "      <td>False</td>\n",
       "      <td>False</td>\n",
       "      <td>False</td>\n",
       "      <td>False</td>\n",
       "      <td>False</td>\n",
       "      <td>False</td>\n",
       "      <td>False</td>\n",
       "      <td>False</td>\n",
       "      <td>False</td>\n",
       "      <td>False</td>\n",
       "      <td>False</td>\n",
       "      <td>False</td>\n",
       "      <td>False</td>\n",
       "      <td>False</td>\n",
       "      <td>False</td>\n",
       "      <td>False</td>\n",
       "      <td>False</td>\n",
       "      <td>False</td>\n",
       "    </tr>\n",
       "    <tr>\n",
       "      <th>2</th>\n",
       "      <td>False</td>\n",
       "      <td>False</td>\n",
       "      <td>False</td>\n",
       "      <td>False</td>\n",
       "      <td>False</td>\n",
       "      <td>False</td>\n",
       "      <td>False</td>\n",
       "      <td>False</td>\n",
       "      <td>False</td>\n",
       "      <td>False</td>\n",
       "      <td>False</td>\n",
       "      <td>False</td>\n",
       "      <td>False</td>\n",
       "      <td>False</td>\n",
       "      <td>False</td>\n",
       "      <td>False</td>\n",
       "      <td>False</td>\n",
       "      <td>False</td>\n",
       "      <td>False</td>\n",
       "      <td>False</td>\n",
       "      <td>False</td>\n",
       "      <td>False</td>\n",
       "      <td>False</td>\n",
       "      <td>False</td>\n",
       "      <td>False</td>\n",
       "      <td>False</td>\n",
       "      <td>False</td>\n",
       "      <td>False</td>\n",
       "      <td>False</td>\n",
       "    </tr>\n",
       "    <tr>\n",
       "      <th>3</th>\n",
       "      <td>True</td>\n",
       "      <td>True</td>\n",
       "      <td>True</td>\n",
       "      <td>True</td>\n",
       "      <td>False</td>\n",
       "      <td>False</td>\n",
       "      <td>False</td>\n",
       "      <td>False</td>\n",
       "      <td>False</td>\n",
       "      <td>False</td>\n",
       "      <td>False</td>\n",
       "      <td>False</td>\n",
       "      <td>False</td>\n",
       "      <td>False</td>\n",
       "      <td>False</td>\n",
       "      <td>False</td>\n",
       "      <td>False</td>\n",
       "      <td>False</td>\n",
       "      <td>False</td>\n",
       "      <td>False</td>\n",
       "      <td>False</td>\n",
       "      <td>False</td>\n",
       "      <td>False</td>\n",
       "      <td>False</td>\n",
       "      <td>False</td>\n",
       "      <td>False</td>\n",
       "      <td>False</td>\n",
       "      <td>False</td>\n",
       "      <td>False</td>\n",
       "    </tr>\n",
       "    <tr>\n",
       "      <th>4</th>\n",
       "      <td>False</td>\n",
       "      <td>False</td>\n",
       "      <td>False</td>\n",
       "      <td>False</td>\n",
       "      <td>True</td>\n",
       "      <td>False</td>\n",
       "      <td>False</td>\n",
       "      <td>False</td>\n",
       "      <td>False</td>\n",
       "      <td>False</td>\n",
       "      <td>False</td>\n",
       "      <td>False</td>\n",
       "      <td>False</td>\n",
       "      <td>False</td>\n",
       "      <td>False</td>\n",
       "      <td>False</td>\n",
       "      <td>False</td>\n",
       "      <td>False</td>\n",
       "      <td>False</td>\n",
       "      <td>False</td>\n",
       "      <td>False</td>\n",
       "      <td>False</td>\n",
       "      <td>False</td>\n",
       "      <td>False</td>\n",
       "      <td>False</td>\n",
       "      <td>False</td>\n",
       "      <td>False</td>\n",
       "      <td>False</td>\n",
       "      <td>False</td>\n",
       "    </tr>\n",
       "    <tr>\n",
       "      <th>5</th>\n",
       "      <td>False</td>\n",
       "      <td>True</td>\n",
       "      <td>False</td>\n",
       "      <td>False</td>\n",
       "      <td>True</td>\n",
       "      <td>True</td>\n",
       "      <td>True</td>\n",
       "      <td>True</td>\n",
       "      <td>False</td>\n",
       "      <td>False</td>\n",
       "      <td>False</td>\n",
       "      <td>False</td>\n",
       "      <td>False</td>\n",
       "      <td>False</td>\n",
       "      <td>False</td>\n",
       "      <td>False</td>\n",
       "      <td>False</td>\n",
       "      <td>False</td>\n",
       "      <td>False</td>\n",
       "      <td>False</td>\n",
       "      <td>False</td>\n",
       "      <td>False</td>\n",
       "      <td>False</td>\n",
       "      <td>False</td>\n",
       "      <td>False</td>\n",
       "      <td>False</td>\n",
       "      <td>False</td>\n",
       "      <td>False</td>\n",
       "      <td>False</td>\n",
       "    </tr>\n",
       "    <tr>\n",
       "      <th>...</th>\n",
       "      <td>...</td>\n",
       "      <td>...</td>\n",
       "      <td>...</td>\n",
       "      <td>...</td>\n",
       "      <td>...</td>\n",
       "      <td>...</td>\n",
       "      <td>...</td>\n",
       "      <td>...</td>\n",
       "      <td>...</td>\n",
       "      <td>...</td>\n",
       "      <td>...</td>\n",
       "      <td>...</td>\n",
       "      <td>...</td>\n",
       "      <td>...</td>\n",
       "      <td>...</td>\n",
       "      <td>...</td>\n",
       "      <td>...</td>\n",
       "      <td>...</td>\n",
       "      <td>...</td>\n",
       "      <td>...</td>\n",
       "      <td>...</td>\n",
       "      <td>...</td>\n",
       "      <td>...</td>\n",
       "      <td>...</td>\n",
       "      <td>...</td>\n",
       "      <td>...</td>\n",
       "      <td>...</td>\n",
       "      <td>...</td>\n",
       "      <td>...</td>\n",
       "    </tr>\n",
       "    <tr>\n",
       "      <th>73264</th>\n",
       "      <td>False</td>\n",
       "      <td>False</td>\n",
       "      <td>False</td>\n",
       "      <td>False</td>\n",
       "      <td>False</td>\n",
       "      <td>True</td>\n",
       "      <td>False</td>\n",
       "      <td>False</td>\n",
       "      <td>False</td>\n",
       "      <td>False</td>\n",
       "      <td>False</td>\n",
       "      <td>False</td>\n",
       "      <td>False</td>\n",
       "      <td>False</td>\n",
       "      <td>False</td>\n",
       "      <td>False</td>\n",
       "      <td>False</td>\n",
       "      <td>False</td>\n",
       "      <td>False</td>\n",
       "      <td>False</td>\n",
       "      <td>False</td>\n",
       "      <td>False</td>\n",
       "      <td>False</td>\n",
       "      <td>False</td>\n",
       "      <td>False</td>\n",
       "      <td>False</td>\n",
       "      <td>False</td>\n",
       "      <td>False</td>\n",
       "      <td>False</td>\n",
       "    </tr>\n",
       "    <tr>\n",
       "      <th>73265</th>\n",
       "      <td>True</td>\n",
       "      <td>False</td>\n",
       "      <td>False</td>\n",
       "      <td>False</td>\n",
       "      <td>False</td>\n",
       "      <td>False</td>\n",
       "      <td>False</td>\n",
       "      <td>False</td>\n",
       "      <td>False</td>\n",
       "      <td>False</td>\n",
       "      <td>False</td>\n",
       "      <td>False</td>\n",
       "      <td>False</td>\n",
       "      <td>False</td>\n",
       "      <td>False</td>\n",
       "      <td>False</td>\n",
       "      <td>False</td>\n",
       "      <td>False</td>\n",
       "      <td>False</td>\n",
       "      <td>False</td>\n",
       "      <td>False</td>\n",
       "      <td>False</td>\n",
       "      <td>False</td>\n",
       "      <td>False</td>\n",
       "      <td>False</td>\n",
       "      <td>False</td>\n",
       "      <td>False</td>\n",
       "      <td>False</td>\n",
       "      <td>False</td>\n",
       "    </tr>\n",
       "    <tr>\n",
       "      <th>73266</th>\n",
       "      <td>False</td>\n",
       "      <td>False</td>\n",
       "      <td>False</td>\n",
       "      <td>False</td>\n",
       "      <td>True</td>\n",
       "      <td>False</td>\n",
       "      <td>True</td>\n",
       "      <td>False</td>\n",
       "      <td>False</td>\n",
       "      <td>False</td>\n",
       "      <td>False</td>\n",
       "      <td>False</td>\n",
       "      <td>False</td>\n",
       "      <td>False</td>\n",
       "      <td>False</td>\n",
       "      <td>False</td>\n",
       "      <td>False</td>\n",
       "      <td>False</td>\n",
       "      <td>False</td>\n",
       "      <td>False</td>\n",
       "      <td>False</td>\n",
       "      <td>False</td>\n",
       "      <td>False</td>\n",
       "      <td>False</td>\n",
       "      <td>False</td>\n",
       "      <td>True</td>\n",
       "      <td>False</td>\n",
       "      <td>False</td>\n",
       "      <td>False</td>\n",
       "    </tr>\n",
       "    <tr>\n",
       "      <th>73267</th>\n",
       "      <td>False</td>\n",
       "      <td>True</td>\n",
       "      <td>False</td>\n",
       "      <td>False</td>\n",
       "      <td>False</td>\n",
       "      <td>False</td>\n",
       "      <td>True</td>\n",
       "      <td>False</td>\n",
       "      <td>False</td>\n",
       "      <td>False</td>\n",
       "      <td>False</td>\n",
       "      <td>False</td>\n",
       "      <td>False</td>\n",
       "      <td>False</td>\n",
       "      <td>False</td>\n",
       "      <td>False</td>\n",
       "      <td>False</td>\n",
       "      <td>False</td>\n",
       "      <td>False</td>\n",
       "      <td>False</td>\n",
       "      <td>False</td>\n",
       "      <td>False</td>\n",
       "      <td>False</td>\n",
       "      <td>False</td>\n",
       "      <td>False</td>\n",
       "      <td>False</td>\n",
       "      <td>False</td>\n",
       "      <td>False</td>\n",
       "      <td>False</td>\n",
       "    </tr>\n",
       "    <tr>\n",
       "      <th>73268</th>\n",
       "      <td>False</td>\n",
       "      <td>True</td>\n",
       "      <td>True</td>\n",
       "      <td>True</td>\n",
       "      <td>True</td>\n",
       "      <td>True</td>\n",
       "      <td>True</td>\n",
       "      <td>True</td>\n",
       "      <td>True</td>\n",
       "      <td>True</td>\n",
       "      <td>False</td>\n",
       "      <td>False</td>\n",
       "      <td>False</td>\n",
       "      <td>True</td>\n",
       "      <td>True</td>\n",
       "      <td>False</td>\n",
       "      <td>True</td>\n",
       "      <td>True</td>\n",
       "      <td>False</td>\n",
       "      <td>True</td>\n",
       "      <td>True</td>\n",
       "      <td>True</td>\n",
       "      <td>True</td>\n",
       "      <td>True</td>\n",
       "      <td>False</td>\n",
       "      <td>True</td>\n",
       "      <td>False</td>\n",
       "      <td>False</td>\n",
       "      <td>False</td>\n",
       "    </tr>\n",
       "  </tbody>\n",
       "</table>\n",
       "<p>73268 rows × 29 columns</p>\n",
       "</div>"
      ],
      "text/plain": [
       "            Data scientist or machine learning specialist  \\\n",
       "ResponseId                                                  \n",
       "1                                                   False   \n",
       "2                                                   False   \n",
       "3                                                    True   \n",
       "4                                                   False   \n",
       "5                                                   False   \n",
       "...                                                   ...   \n",
       "73264                                               False   \n",
       "73265                                                True   \n",
       "73266                                               False   \n",
       "73267                                               False   \n",
       "73268                                               False   \n",
       "\n",
       "            Developer, front-end  Engineer, data  Engineer, site reliability  \\\n",
       "ResponseId                                                                     \n",
       "1                          False           False                       False   \n",
       "2                          False           False                       False   \n",
       "3                           True            True                        True   \n",
       "4                          False           False                       False   \n",
       "5                           True           False                       False   \n",
       "...                          ...             ...                         ...   \n",
       "73264                      False           False                       False   \n",
       "73265                      False           False                       False   \n",
       "73266                      False           False                       False   \n",
       "73267                       True           False                       False   \n",
       "73268                       True            True                        True   \n",
       "\n",
       "            Developer, full-stack  Developer, back-end  \\\n",
       "ResponseId                                               \n",
       "1                           False                False   \n",
       "2                           False                False   \n",
       "3                           False                False   \n",
       "4                            True                False   \n",
       "5                            True                 True   \n",
       "...                           ...                  ...   \n",
       "73264                       False                 True   \n",
       "73265                       False                False   \n",
       "73266                        True                False   \n",
       "73267                       False                False   \n",
       "73268                        True                 True   \n",
       "\n",
       "            Developer, desktop or enterprise applications  \\\n",
       "ResponseId                                                  \n",
       "1                                                   False   \n",
       "2                                                   False   \n",
       "3                                                   False   \n",
       "4                                                   False   \n",
       "5                                                    True   \n",
       "...                                                   ...   \n",
       "73264                                               False   \n",
       "73265                                               False   \n",
       "73266                                                True   \n",
       "73267                                                True   \n",
       "73268                                                True   \n",
       "\n",
       "            Developer, QA or test  Student  Developer, mobile  Educator  \\\n",
       "ResponseId                                                                \n",
       "1                           False    False              False     False   \n",
       "2                           False    False              False     False   \n",
       "3                           False    False              False     False   \n",
       "4                           False    False              False     False   \n",
       "5                            True    False              False     False   \n",
       "...                           ...      ...                ...       ...   \n",
       "73264                       False    False              False     False   \n",
       "73265                       False    False              False     False   \n",
       "73266                       False    False              False     False   \n",
       "73267                       False    False              False     False   \n",
       "73268                        True     True               True     False   \n",
       "\n",
       "            Engineering manager  Database administrator  Academic researcher  \\\n",
       "ResponseId                                                                     \n",
       "1                         False                   False                False   \n",
       "2                         False                   False                False   \n",
       "3                         False                   False                False   \n",
       "4                         False                   False                False   \n",
       "5                         False                   False                False   \n",
       "...                         ...                     ...                  ...   \n",
       "73264                     False                   False                False   \n",
       "73265                     False                   False                False   \n",
       "73266                     False                   False                False   \n",
       "73267                     False                   False                False   \n",
       "73268                     False                   False                 True   \n",
       "\n",
       "            DevOps specialist  Other (please specify):  \\\n",
       "ResponseId                                               \n",
       "1                       False                    False   \n",
       "2                       False                    False   \n",
       "3                       False                    False   \n",
       "4                       False                    False   \n",
       "5                       False                    False   \n",
       "...                       ...                      ...   \n",
       "73264                   False                    False   \n",
       "73265                   False                    False   \n",
       "73266                   False                    False   \n",
       "73267                   False                    False   \n",
       "73268                    True                    False   \n",
       "\n",
       "            Developer, embedded applications or devices  \\\n",
       "ResponseId                                                \n",
       "1                                                 False   \n",
       "2                                                 False   \n",
       "3                                                 False   \n",
       "4                                                 False   \n",
       "5                                                 False   \n",
       "...                                                 ...   \n",
       "73264                                             False   \n",
       "73265                                             False   \n",
       "73266                                             False   \n",
       "73267                                             False   \n",
       "73268                                              True   \n",
       "\n",
       "            Developer, game or graphics  Project manager  \\\n",
       "ResponseId                                                 \n",
       "1                                 False            False   \n",
       "2                                 False            False   \n",
       "3                                 False            False   \n",
       "4                                 False            False   \n",
       "5                                 False            False   \n",
       "...                                 ...              ...   \n",
       "73264                             False            False   \n",
       "73265                             False            False   \n",
       "73266                             False            False   \n",
       "73267                             False            False   \n",
       "73268                              True            False   \n",
       "\n",
       "            Cloud infrastructure engineer  Data or business analyst  Designer  \\\n",
       "ResponseId                                                                      \n",
       "1                                   False                     False     False   \n",
       "2                                   False                     False     False   \n",
       "3                                   False                     False     False   \n",
       "4                                   False                     False     False   \n",
       "5                                   False                     False     False   \n",
       "...                                   ...                       ...       ...   \n",
       "73264                               False                     False     False   \n",
       "73265                               False                     False     False   \n",
       "73266                               False                     False     False   \n",
       "73267                               False                     False     False   \n",
       "73268                                True                      True      True   \n",
       "\n",
       "            Scientist  Product manager  Senior Executive (C-Suite, VP, etc.)  \\\n",
       "ResponseId                                                                     \n",
       "1               False            False                                 False   \n",
       "2               False            False                                 False   \n",
       "3               False            False                                 False   \n",
       "4               False            False                                 False   \n",
       "5               False            False                                 False   \n",
       "...               ...              ...                                   ...   \n",
       "73264           False            False                                 False   \n",
       "73265           False            False                                 False   \n",
       "73266           False            False                                 False   \n",
       "73267           False            False                                 False   \n",
       "73268            True             True                                 False   \n",
       "\n",
       "            System administrator  Blockchain  Marketing or sales professional  \\\n",
       "ResponseId                                                                      \n",
       "1                          False       False                            False   \n",
       "2                          False       False                            False   \n",
       "3                          False       False                            False   \n",
       "4                          False       False                            False   \n",
       "5                          False       False                            False   \n",
       "...                          ...         ...                              ...   \n",
       "73264                      False       False                            False   \n",
       "73265                      False       False                            False   \n",
       "73266                       True       False                            False   \n",
       "73267                      False       False                            False   \n",
       "73268                       True       False                            False   \n",
       "\n",
       "            Security professional  \n",
       "ResponseId                         \n",
       "1                           False  \n",
       "2                           False  \n",
       "3                           False  \n",
       "4                           False  \n",
       "5                           False  \n",
       "...                           ...  \n",
       "73264                       False  \n",
       "73265                       False  \n",
       "73266                       False  \n",
       "73267                       False  \n",
       "73268                       False  \n",
       "\n",
       "[73268 rows x 29 columns]"
      ]
     },
     "execution_count": 566,
     "metadata": {},
     "output_type": "execute_result"
    }
   ],
   "source": [
    "def split_multicolumn(col_series):\n",
    "    # 반환할 DataFrame이자 최초의 col_series도 담는다.\n",
    "    result_df = pd.DataFrame(col_series.values, index=col_series.index, columns=[\"DevType\"])\n",
    "    # result_df = col_series.to_frame() --> 위의 코드와 같다.\n",
    "    # 기술 스텍 목록을 담았다가 마지막 반환할 때 인덱싱으로 활용\n",
    "    options = []\n",
    "    # NaN 값을 갖는 row를 제외하고 반복\n",
    "    for idx, value  in col_series[col_series.notnull()].items():\n",
    "        # value를 가져와 ';'를 기준으로 분리하여 각 기술 스텍 문자열 리스트를 만든다.\n",
    "        for option in value.split(';'):\n",
    "            # 현재 option이 result_df.columns에 없으면 추가한다.\n",
    "            if option not in result_df.columns:\n",
    "                options.append(option)\n",
    "                result_df[option] = False\n",
    "            # 파싱한 기술 스텍에 해당하는 column의 값에 True를 넣는다.\n",
    "            result_df.at[idx, option] = True\n",
    "            # result_df.loc[idx, option] = True\n",
    "    return result_df[options]\n",
    "dev_type_df = split_multicolumn(survey_df.DevType)\n",
    "dev_type_df"
   ]
  },
  {
   "cell_type": "code",
   "execution_count": 141,
   "id": "08569bd8-2008-405e-8b17-ea896ab1b8c4",
   "metadata": {},
   "outputs": [
    {
     "data": {
      "text/plain": [
       "['Project manager',\n",
       " 'Engineering manager',\n",
       " 'Developer, back-end',\n",
       " 'Academic researcher',\n",
       " 'Engineer, site reliability',\n",
       " 'Developer, mobile',\n",
       " 'Scientist',\n",
       " 'Developer, QA or test',\n",
       " 'Data or business analyst',\n",
       " 'Educator',\n",
       " 'DevOps specialist',\n",
       " 'Database administrator',\n",
       " 'Developer, front-end',\n",
       " 'Cloud infrastructure engineer',\n",
       " 'Developer, desktop or enterprise applications',\n",
       " 'Other (please specify):',\n",
       " 'Developer, game or graphics',\n",
       " 'Developer, full-stack',\n",
       " 'Senior Executive (C-Suite, VP, etc.)',\n",
       " 'Engineer, data',\n",
       " 'Student',\n",
       " 'System administrator',\n",
       " 'Security professional',\n",
       " 'Designer',\n",
       " 'Blockchain',\n",
       " 'Marketing or sales professional',\n",
       " 'Developer, embedded applications or devices',\n",
       " 'Data scientist or machine learning specialist',\n",
       " 'Product manager']"
      ]
     },
     "execution_count": 141,
     "metadata": {},
     "output_type": "execute_result"
    }
   ],
   "source": [
    "temp = []\n",
    "for _, value in survey_df[\"DevType\"].dropna().items():\n",
    "    temp.extend(value.split(';'))\n",
    "temp\n",
    "result = list(set(temp))\n",
    "result"
   ]
  },
  {
   "cell_type": "code",
   "execution_count": 489,
   "id": "1eaea605-575f-4aca-9fbf-bd33b9e31a84",
   "metadata": {},
   "outputs": [
    {
     "data": {
      "text/html": [
       "<div>\n",
       "<style scoped>\n",
       "    .dataframe tbody tr th:only-of-type {\n",
       "        vertical-align: middle;\n",
       "    }\n",
       "\n",
       "    .dataframe tbody tr th {\n",
       "        vertical-align: top;\n",
       "    }\n",
       "\n",
       "    .dataframe thead th {\n",
       "        text-align: right;\n",
       "    }\n",
       "</style>\n",
       "<table border=\"1\" class=\"dataframe\">\n",
       "  <thead>\n",
       "    <tr style=\"text-align: right;\">\n",
       "      <th></th>\n",
       "      <th>Data scientist or machine learning specialist</th>\n",
       "      <th>Developer, full-stack</th>\n",
       "      <th>Developer, front-end</th>\n",
       "      <th>Developer, back-end</th>\n",
       "      <th>Developer, desktop or enterprise applications</th>\n",
       "      <th>Engineering manager</th>\n",
       "      <th>Engineer, data</th>\n",
       "      <th>Student</th>\n",
       "      <th>Other (please specify):</th>\n",
       "      <th>Engineer, site reliability</th>\n",
       "      <th>Developer, mobile</th>\n",
       "      <th>Marketing or sales professional</th>\n",
       "      <th>Developer, embedded applications or devices</th>\n",
       "      <th>DevOps specialist</th>\n",
       "      <th>Designer</th>\n",
       "      <th>Database administrator</th>\n",
       "      <th>System administrator</th>\n",
       "      <th>Developer, QA or test</th>\n",
       "      <th>Product manager</th>\n",
       "      <th>Project manager</th>\n",
       "      <th>Data or business analyst</th>\n",
       "      <th>Senior Executive (C-Suite, VP, etc.)</th>\n",
       "      <th>Security professional</th>\n",
       "      <th>Educator</th>\n",
       "      <th>Academic researcher</th>\n",
       "      <th>Developer, game or graphics</th>\n",
       "      <th>Cloud infrastructure engineer</th>\n",
       "      <th>Scientist</th>\n",
       "      <th>Blockchain</th>\n",
       "    </tr>\n",
       "    <tr>\n",
       "      <th>ResponseId</th>\n",
       "      <th></th>\n",
       "      <th></th>\n",
       "      <th></th>\n",
       "      <th></th>\n",
       "      <th></th>\n",
       "      <th></th>\n",
       "      <th></th>\n",
       "      <th></th>\n",
       "      <th></th>\n",
       "      <th></th>\n",
       "      <th></th>\n",
       "      <th></th>\n",
       "      <th></th>\n",
       "      <th></th>\n",
       "      <th></th>\n",
       "      <th></th>\n",
       "      <th></th>\n",
       "      <th></th>\n",
       "      <th></th>\n",
       "      <th></th>\n",
       "      <th></th>\n",
       "      <th></th>\n",
       "      <th></th>\n",
       "      <th></th>\n",
       "      <th></th>\n",
       "      <th></th>\n",
       "      <th></th>\n",
       "      <th></th>\n",
       "      <th></th>\n",
       "    </tr>\n",
       "  </thead>\n",
       "  <tbody>\n",
       "    <tr>\n",
       "      <th>1</th>\n",
       "      <td>False</td>\n",
       "      <td>False</td>\n",
       "      <td>False</td>\n",
       "      <td>False</td>\n",
       "      <td>False</td>\n",
       "      <td>False</td>\n",
       "      <td>False</td>\n",
       "      <td>False</td>\n",
       "      <td>False</td>\n",
       "      <td>False</td>\n",
       "      <td>False</td>\n",
       "      <td>False</td>\n",
       "      <td>False</td>\n",
       "      <td>False</td>\n",
       "      <td>False</td>\n",
       "      <td>False</td>\n",
       "      <td>False</td>\n",
       "      <td>False</td>\n",
       "      <td>False</td>\n",
       "      <td>False</td>\n",
       "      <td>False</td>\n",
       "      <td>False</td>\n",
       "      <td>False</td>\n",
       "      <td>False</td>\n",
       "      <td>False</td>\n",
       "      <td>False</td>\n",
       "      <td>False</td>\n",
       "      <td>False</td>\n",
       "      <td>False</td>\n",
       "    </tr>\n",
       "    <tr>\n",
       "      <th>2</th>\n",
       "      <td>False</td>\n",
       "      <td>False</td>\n",
       "      <td>False</td>\n",
       "      <td>False</td>\n",
       "      <td>False</td>\n",
       "      <td>False</td>\n",
       "      <td>False</td>\n",
       "      <td>False</td>\n",
       "      <td>False</td>\n",
       "      <td>False</td>\n",
       "      <td>False</td>\n",
       "      <td>False</td>\n",
       "      <td>False</td>\n",
       "      <td>False</td>\n",
       "      <td>False</td>\n",
       "      <td>False</td>\n",
       "      <td>False</td>\n",
       "      <td>False</td>\n",
       "      <td>False</td>\n",
       "      <td>False</td>\n",
       "      <td>False</td>\n",
       "      <td>False</td>\n",
       "      <td>False</td>\n",
       "      <td>False</td>\n",
       "      <td>False</td>\n",
       "      <td>False</td>\n",
       "      <td>False</td>\n",
       "      <td>False</td>\n",
       "      <td>False</td>\n",
       "    </tr>\n",
       "    <tr>\n",
       "      <th>3</th>\n",
       "      <td>True</td>\n",
       "      <td>False</td>\n",
       "      <td>True</td>\n",
       "      <td>False</td>\n",
       "      <td>False</td>\n",
       "      <td>False</td>\n",
       "      <td>True</td>\n",
       "      <td>False</td>\n",
       "      <td>False</td>\n",
       "      <td>True</td>\n",
       "      <td>False</td>\n",
       "      <td>False</td>\n",
       "      <td>False</td>\n",
       "      <td>False</td>\n",
       "      <td>False</td>\n",
       "      <td>False</td>\n",
       "      <td>False</td>\n",
       "      <td>False</td>\n",
       "      <td>False</td>\n",
       "      <td>False</td>\n",
       "      <td>False</td>\n",
       "      <td>False</td>\n",
       "      <td>False</td>\n",
       "      <td>False</td>\n",
       "      <td>False</td>\n",
       "      <td>False</td>\n",
       "      <td>False</td>\n",
       "      <td>False</td>\n",
       "      <td>False</td>\n",
       "    </tr>\n",
       "    <tr>\n",
       "      <th>4</th>\n",
       "      <td>False</td>\n",
       "      <td>True</td>\n",
       "      <td>False</td>\n",
       "      <td>False</td>\n",
       "      <td>False</td>\n",
       "      <td>False</td>\n",
       "      <td>False</td>\n",
       "      <td>False</td>\n",
       "      <td>False</td>\n",
       "      <td>False</td>\n",
       "      <td>False</td>\n",
       "      <td>False</td>\n",
       "      <td>False</td>\n",
       "      <td>False</td>\n",
       "      <td>False</td>\n",
       "      <td>False</td>\n",
       "      <td>False</td>\n",
       "      <td>False</td>\n",
       "      <td>False</td>\n",
       "      <td>False</td>\n",
       "      <td>False</td>\n",
       "      <td>False</td>\n",
       "      <td>False</td>\n",
       "      <td>False</td>\n",
       "      <td>False</td>\n",
       "      <td>False</td>\n",
       "      <td>False</td>\n",
       "      <td>False</td>\n",
       "      <td>False</td>\n",
       "    </tr>\n",
       "    <tr>\n",
       "      <th>5</th>\n",
       "      <td>False</td>\n",
       "      <td>True</td>\n",
       "      <td>True</td>\n",
       "      <td>True</td>\n",
       "      <td>True</td>\n",
       "      <td>False</td>\n",
       "      <td>False</td>\n",
       "      <td>False</td>\n",
       "      <td>False</td>\n",
       "      <td>False</td>\n",
       "      <td>False</td>\n",
       "      <td>False</td>\n",
       "      <td>False</td>\n",
       "      <td>False</td>\n",
       "      <td>False</td>\n",
       "      <td>False</td>\n",
       "      <td>False</td>\n",
       "      <td>True</td>\n",
       "      <td>False</td>\n",
       "      <td>False</td>\n",
       "      <td>False</td>\n",
       "      <td>False</td>\n",
       "      <td>False</td>\n",
       "      <td>False</td>\n",
       "      <td>False</td>\n",
       "      <td>False</td>\n",
       "      <td>False</td>\n",
       "      <td>False</td>\n",
       "      <td>False</td>\n",
       "    </tr>\n",
       "    <tr>\n",
       "      <th>...</th>\n",
       "      <td>...</td>\n",
       "      <td>...</td>\n",
       "      <td>...</td>\n",
       "      <td>...</td>\n",
       "      <td>...</td>\n",
       "      <td>...</td>\n",
       "      <td>...</td>\n",
       "      <td>...</td>\n",
       "      <td>...</td>\n",
       "      <td>...</td>\n",
       "      <td>...</td>\n",
       "      <td>...</td>\n",
       "      <td>...</td>\n",
       "      <td>...</td>\n",
       "      <td>...</td>\n",
       "      <td>...</td>\n",
       "      <td>...</td>\n",
       "      <td>...</td>\n",
       "      <td>...</td>\n",
       "      <td>...</td>\n",
       "      <td>...</td>\n",
       "      <td>...</td>\n",
       "      <td>...</td>\n",
       "      <td>...</td>\n",
       "      <td>...</td>\n",
       "      <td>...</td>\n",
       "      <td>...</td>\n",
       "      <td>...</td>\n",
       "      <td>...</td>\n",
       "    </tr>\n",
       "    <tr>\n",
       "      <th>73264</th>\n",
       "      <td>False</td>\n",
       "      <td>False</td>\n",
       "      <td>False</td>\n",
       "      <td>True</td>\n",
       "      <td>False</td>\n",
       "      <td>False</td>\n",
       "      <td>False</td>\n",
       "      <td>False</td>\n",
       "      <td>False</td>\n",
       "      <td>False</td>\n",
       "      <td>False</td>\n",
       "      <td>False</td>\n",
       "      <td>False</td>\n",
       "      <td>False</td>\n",
       "      <td>False</td>\n",
       "      <td>False</td>\n",
       "      <td>False</td>\n",
       "      <td>False</td>\n",
       "      <td>False</td>\n",
       "      <td>False</td>\n",
       "      <td>False</td>\n",
       "      <td>False</td>\n",
       "      <td>False</td>\n",
       "      <td>False</td>\n",
       "      <td>False</td>\n",
       "      <td>False</td>\n",
       "      <td>False</td>\n",
       "      <td>False</td>\n",
       "      <td>False</td>\n",
       "    </tr>\n",
       "    <tr>\n",
       "      <th>73265</th>\n",
       "      <td>True</td>\n",
       "      <td>False</td>\n",
       "      <td>False</td>\n",
       "      <td>False</td>\n",
       "      <td>False</td>\n",
       "      <td>False</td>\n",
       "      <td>False</td>\n",
       "      <td>False</td>\n",
       "      <td>False</td>\n",
       "      <td>False</td>\n",
       "      <td>False</td>\n",
       "      <td>False</td>\n",
       "      <td>False</td>\n",
       "      <td>False</td>\n",
       "      <td>False</td>\n",
       "      <td>False</td>\n",
       "      <td>False</td>\n",
       "      <td>False</td>\n",
       "      <td>False</td>\n",
       "      <td>False</td>\n",
       "      <td>False</td>\n",
       "      <td>False</td>\n",
       "      <td>False</td>\n",
       "      <td>False</td>\n",
       "      <td>False</td>\n",
       "      <td>False</td>\n",
       "      <td>False</td>\n",
       "      <td>False</td>\n",
       "      <td>False</td>\n",
       "    </tr>\n",
       "    <tr>\n",
       "      <th>73266</th>\n",
       "      <td>False</td>\n",
       "      <td>True</td>\n",
       "      <td>False</td>\n",
       "      <td>False</td>\n",
       "      <td>True</td>\n",
       "      <td>False</td>\n",
       "      <td>False</td>\n",
       "      <td>False</td>\n",
       "      <td>False</td>\n",
       "      <td>False</td>\n",
       "      <td>False</td>\n",
       "      <td>False</td>\n",
       "      <td>False</td>\n",
       "      <td>False</td>\n",
       "      <td>False</td>\n",
       "      <td>False</td>\n",
       "      <td>True</td>\n",
       "      <td>False</td>\n",
       "      <td>False</td>\n",
       "      <td>False</td>\n",
       "      <td>False</td>\n",
       "      <td>False</td>\n",
       "      <td>False</td>\n",
       "      <td>False</td>\n",
       "      <td>False</td>\n",
       "      <td>False</td>\n",
       "      <td>False</td>\n",
       "      <td>False</td>\n",
       "      <td>False</td>\n",
       "    </tr>\n",
       "    <tr>\n",
       "      <th>73267</th>\n",
       "      <td>False</td>\n",
       "      <td>False</td>\n",
       "      <td>True</td>\n",
       "      <td>False</td>\n",
       "      <td>True</td>\n",
       "      <td>False</td>\n",
       "      <td>False</td>\n",
       "      <td>False</td>\n",
       "      <td>False</td>\n",
       "      <td>False</td>\n",
       "      <td>False</td>\n",
       "      <td>False</td>\n",
       "      <td>False</td>\n",
       "      <td>False</td>\n",
       "      <td>False</td>\n",
       "      <td>False</td>\n",
       "      <td>False</td>\n",
       "      <td>False</td>\n",
       "      <td>False</td>\n",
       "      <td>False</td>\n",
       "      <td>False</td>\n",
       "      <td>False</td>\n",
       "      <td>False</td>\n",
       "      <td>False</td>\n",
       "      <td>False</td>\n",
       "      <td>False</td>\n",
       "      <td>False</td>\n",
       "      <td>False</td>\n",
       "      <td>False</td>\n",
       "    </tr>\n",
       "    <tr>\n",
       "      <th>73268</th>\n",
       "      <td>False</td>\n",
       "      <td>True</td>\n",
       "      <td>True</td>\n",
       "      <td>True</td>\n",
       "      <td>True</td>\n",
       "      <td>False</td>\n",
       "      <td>True</td>\n",
       "      <td>True</td>\n",
       "      <td>False</td>\n",
       "      <td>True</td>\n",
       "      <td>True</td>\n",
       "      <td>False</td>\n",
       "      <td>True</td>\n",
       "      <td>True</td>\n",
       "      <td>True</td>\n",
       "      <td>False</td>\n",
       "      <td>True</td>\n",
       "      <td>True</td>\n",
       "      <td>True</td>\n",
       "      <td>False</td>\n",
       "      <td>True</td>\n",
       "      <td>False</td>\n",
       "      <td>False</td>\n",
       "      <td>False</td>\n",
       "      <td>True</td>\n",
       "      <td>True</td>\n",
       "      <td>True</td>\n",
       "      <td>True</td>\n",
       "      <td>False</td>\n",
       "    </tr>\n",
       "  </tbody>\n",
       "</table>\n",
       "<p>73268 rows × 29 columns</p>\n",
       "</div>"
      ],
      "text/plain": [
       "            Data scientist or machine learning specialist  \\\n",
       "ResponseId                                                  \n",
       "1                                                   False   \n",
       "2                                                   False   \n",
       "3                                                    True   \n",
       "4                                                   False   \n",
       "5                                                   False   \n",
       "...                                                   ...   \n",
       "73264                                               False   \n",
       "73265                                                True   \n",
       "73266                                               False   \n",
       "73267                                               False   \n",
       "73268                                               False   \n",
       "\n",
       "            Developer, full-stack  Developer, front-end  Developer, back-end  \\\n",
       "ResponseId                                                                     \n",
       "1                           False                 False                False   \n",
       "2                           False                 False                False   \n",
       "3                           False                  True                False   \n",
       "4                            True                 False                False   \n",
       "5                            True                  True                 True   \n",
       "...                           ...                   ...                  ...   \n",
       "73264                       False                 False                 True   \n",
       "73265                       False                 False                False   \n",
       "73266                        True                 False                False   \n",
       "73267                       False                  True                False   \n",
       "73268                        True                  True                 True   \n",
       "\n",
       "            Developer, desktop or enterprise applications  \\\n",
       "ResponseId                                                  \n",
       "1                                                   False   \n",
       "2                                                   False   \n",
       "3                                                   False   \n",
       "4                                                   False   \n",
       "5                                                    True   \n",
       "...                                                   ...   \n",
       "73264                                               False   \n",
       "73265                                               False   \n",
       "73266                                                True   \n",
       "73267                                                True   \n",
       "73268                                                True   \n",
       "\n",
       "            Engineering manager  Engineer, data  Student  \\\n",
       "ResponseId                                                 \n",
       "1                         False           False    False   \n",
       "2                         False           False    False   \n",
       "3                         False            True    False   \n",
       "4                         False           False    False   \n",
       "5                         False           False    False   \n",
       "...                         ...             ...      ...   \n",
       "73264                     False           False    False   \n",
       "73265                     False           False    False   \n",
       "73266                     False           False    False   \n",
       "73267                     False           False    False   \n",
       "73268                     False            True     True   \n",
       "\n",
       "            Other (please specify):  Engineer, site reliability  \\\n",
       "ResponseId                                                        \n",
       "1                             False                       False   \n",
       "2                             False                       False   \n",
       "3                             False                        True   \n",
       "4                             False                       False   \n",
       "5                             False                       False   \n",
       "...                             ...                         ...   \n",
       "73264                         False                       False   \n",
       "73265                         False                       False   \n",
       "73266                         False                       False   \n",
       "73267                         False                       False   \n",
       "73268                         False                        True   \n",
       "\n",
       "            Developer, mobile  Marketing or sales professional  \\\n",
       "ResponseId                                                       \n",
       "1                       False                            False   \n",
       "2                       False                            False   \n",
       "3                       False                            False   \n",
       "4                       False                            False   \n",
       "5                       False                            False   \n",
       "...                       ...                              ...   \n",
       "73264                   False                            False   \n",
       "73265                   False                            False   \n",
       "73266                   False                            False   \n",
       "73267                   False                            False   \n",
       "73268                    True                            False   \n",
       "\n",
       "            Developer, embedded applications or devices  DevOps specialist  \\\n",
       "ResponseId                                                                   \n",
       "1                                                 False              False   \n",
       "2                                                 False              False   \n",
       "3                                                 False              False   \n",
       "4                                                 False              False   \n",
       "5                                                 False              False   \n",
       "...                                                 ...                ...   \n",
       "73264                                             False              False   \n",
       "73265                                             False              False   \n",
       "73266                                             False              False   \n",
       "73267                                             False              False   \n",
       "73268                                              True               True   \n",
       "\n",
       "            Designer  Database administrator  System administrator  \\\n",
       "ResponseId                                                           \n",
       "1              False                   False                 False   \n",
       "2              False                   False                 False   \n",
       "3              False                   False                 False   \n",
       "4              False                   False                 False   \n",
       "5              False                   False                 False   \n",
       "...              ...                     ...                   ...   \n",
       "73264          False                   False                 False   \n",
       "73265          False                   False                 False   \n",
       "73266          False                   False                  True   \n",
       "73267          False                   False                 False   \n",
       "73268           True                   False                  True   \n",
       "\n",
       "            Developer, QA or test  Product manager  Project manager  \\\n",
       "ResponseId                                                            \n",
       "1                           False            False            False   \n",
       "2                           False            False            False   \n",
       "3                           False            False            False   \n",
       "4                           False            False            False   \n",
       "5                            True            False            False   \n",
       "...                           ...              ...              ...   \n",
       "73264                       False            False            False   \n",
       "73265                       False            False            False   \n",
       "73266                       False            False            False   \n",
       "73267                       False            False            False   \n",
       "73268                        True             True            False   \n",
       "\n",
       "            Data or business analyst  Senior Executive (C-Suite, VP, etc.)  \\\n",
       "ResponseId                                                                   \n",
       "1                              False                                 False   \n",
       "2                              False                                 False   \n",
       "3                              False                                 False   \n",
       "4                              False                                 False   \n",
       "5                              False                                 False   \n",
       "...                              ...                                   ...   \n",
       "73264                          False                                 False   \n",
       "73265                          False                                 False   \n",
       "73266                          False                                 False   \n",
       "73267                          False                                 False   \n",
       "73268                           True                                 False   \n",
       "\n",
       "            Security professional  Educator  Academic researcher  \\\n",
       "ResponseId                                                         \n",
       "1                           False     False                False   \n",
       "2                           False     False                False   \n",
       "3                           False     False                False   \n",
       "4                           False     False                False   \n",
       "5                           False     False                False   \n",
       "...                           ...       ...                  ...   \n",
       "73264                       False     False                False   \n",
       "73265                       False     False                False   \n",
       "73266                       False     False                False   \n",
       "73267                       False     False                False   \n",
       "73268                       False     False                 True   \n",
       "\n",
       "            Developer, game or graphics  Cloud infrastructure engineer  \\\n",
       "ResponseId                                                               \n",
       "1                                 False                          False   \n",
       "2                                 False                          False   \n",
       "3                                 False                          False   \n",
       "4                                 False                          False   \n",
       "5                                 False                          False   \n",
       "...                                 ...                            ...   \n",
       "73264                             False                          False   \n",
       "73265                             False                          False   \n",
       "73266                             False                          False   \n",
       "73267                             False                          False   \n",
       "73268                              True                           True   \n",
       "\n",
       "            Scientist  Blockchain  \n",
       "ResponseId                         \n",
       "1               False       False  \n",
       "2               False       False  \n",
       "3               False       False  \n",
       "4               False       False  \n",
       "5               False       False  \n",
       "...               ...         ...  \n",
       "73264           False       False  \n",
       "73265           False       False  \n",
       "73266           False       False  \n",
       "73267           False       False  \n",
       "73268            True       False  \n",
       "\n",
       "[73268 rows x 29 columns]"
      ]
     },
     "execution_count": 489,
     "metadata": {},
     "output_type": "execute_result"
    }
   ],
   "source": [
    "def split_multicolumn(Series):\n",
    "    df = pd.DataFrame(False, columns = (Series.dropna().str.split(';').str[0].unique()), index = Series.index)\n",
    "    # for idx, rep in Series[Series.notnull()].str.split(';').items:\n",
    "    #     for one in rep:\n",
    "    #         df.at[idx, one.strip()] = True\n",
    "    for idx, rep in Series.str.split(';').items():\n",
    "        # NaN이 아닌 값을 분기\n",
    "        if isinstance(rep, list):\n",
    "            for one in rep:\n",
    "                df.at[idx, one.strip()] = True\n",
    "        else :\n",
    "            pass\n",
    "    return df\n",
    "split_multicolumn(survey_df['DevType'])"
   ]
  },
  {
   "cell_type": "markdown",
   "id": "6e9b3d9a-edc8-4a9e-9d53-a17aefdf25a1",
   "metadata": {
    "jp-MarkdownHeadingCollapsed": true,
    "tags": []
   },
   "source": [
    "### 각 역할별로 개수를 갖는 오른쪽과 같은 결과를 갖는 Series를 만들어보세요.\n",
    "- 앞서 구한 데이터프레임을 활용하여 column 별 집계(sum)를 이용합니다."
   ]
  },
  {
   "cell_type": "code",
   "execution_count": 490,
   "id": "caa213c5-1304-4a4b-9982-307121fac119",
   "metadata": {},
   "outputs": [],
   "source": [
    "dev_type_totals = dev_type_df.sum().sort_values(ascending=False)"
   ]
  },
  {
   "cell_type": "markdown",
   "id": "093a4997-268a-46eb-9737-ebf330518d55",
   "metadata": {
    "jp-MarkdownHeadingCollapsed": true,
    "tags": []
   },
   "source": [
    "### 각 역할별로 퍼센트를 갖는 오른쪽과 같은 결과를 갖는 Series를 만들어 보세요.\n",
    "- 전체 합이 100이 되어야 합니다.\n",
    "- devtype_percentage로 명명합니다."
   ]
  },
  {
   "cell_type": "code",
   "execution_count": 496,
   "id": "da22ea8c-ec4b-4efe-8d07-555a3872daa2",
   "metadata": {},
   "outputs": [],
   "source": [
    "dev_type_totals/dev_type_totals.sum()*100\n",
    "devtype_percentage = dev_type_totals = dev_type_totals/dev_type_totals.sum()*100"
   ]
  },
  {
   "cell_type": "code",
   "execution_count": 497,
   "id": "cb2823b7-074a-4e07-99ca-a09b09d7669e",
   "metadata": {},
   "outputs": [
    {
     "data": {
      "text/plain": [
       "100.0"
      ]
     },
     "execution_count": 497,
     "metadata": {},
     "output_type": "execute_result"
    }
   ],
   "source": [
    "devtype_percentage.sum()"
   ]
  },
  {
   "cell_type": "markdown",
   "id": "88c5910c-5a0d-41ed-8950-d8c6610f6460",
   "metadata": {
    "jp-MarkdownHeadingCollapsed": true,
    "tags": []
   },
   "source": [
    "### 각 역학별 퍼센트를 갖는 오른쪽과 같은 결과를 갖는 그래프를 그려보세요.\n",
    "- figsize: 12x12\n",
    "- xlabel: Percentage\n",
    "- ylabel: None"
   ]
  },
  {
   "cell_type": "code",
   "execution_count": 327,
   "id": "d89376e5-65e3-4413-9349-449ec6188859",
   "metadata": {},
   "outputs": [
    {
     "data": {
      "image/png": "[encoded data removed]",
      "text/plain": [
       "<Figure size 1200x1200 with 1 Axes>"
      ]
     },
     "metadata": {
      "needs_background": "light"
     },
     "output_type": "display_data"
    }
   ],
   "source": [
    "plt.figure(figsize=(12, 12))\n",
    "sns.barplot(x = devtype_percentage, y = devtype_percentage.index)\n",
    "\n",
    "plt.title(schema_raw.DevType)\n",
    "plt.xlabel('Percentage')\n",
    "plt.ylabel(None);\n",
    "plt.show()"
   ]
  },
  {
   "cell_type": "markdown",
   "id": "ec16c46b-fbf2-4b5f-8e74-fdcdce62d10c",
   "metadata": {
    "jp-MarkdownHeadingCollapsed": true,
    "tags": []
   },
   "source": [
    "### 2022년 가장 인기 있는 프로그래밍 언어는 무엇입니까?\n",
    "- LanguageHaveWorkedWith 열을 이용해서 그래프로 그려보세요.\n",
    "- 내림차순으로 정렬합니다.\n",
    "- figure size는 12x12 입니다.\n",
    "- x축은 퍼센트 y축은 기술 스텍별 카테고리입니다."
   ]
  },
  {
   "cell_type": "code",
   "execution_count": 563,
   "id": "19971dea-c180-466f-b3ce-63b8804d2723",
   "metadata": {},
   "outputs": [],
   "source": [
    "def split_multicolumn(col_series2):\n",
    "    result_df = pd.DataFrame(col_series2.values, index=col_series2.index, columns=[\"col_series2\"])\n",
    "    options = []\n",
    "    for idx, value  in col_series2[col_series2.notnull()].items():\n",
    "        for option in value.split(';'):\n",
    "            if option not in result_df.columns:\n",
    "                options.append(option)\n",
    "                result_df[option] = False\n",
    "            result_df.at[idx, option] = True\n",
    "    return result_df[options]\n",
    "lhww_df = split_multicolumn(survey_df.LanguageHaveWorkedWith)"
   ]
  },
  {
   "cell_type": "code",
   "execution_count": 564,
   "id": "204d4535-09e2-4a1f-ae08-73cc4492a686",
   "metadata": {},
   "outputs": [],
   "source": [
    "lhww_totals = lhww_df.sum().sort_values(ascending=False)\n",
    "lhww_totals/lhww_totals.sum()*100\n",
    "lhww_percentage = lhww_totals = lhww_totals/lhww_totals.sum()*100"
   ]
  },
  {
   "cell_type": "code",
   "execution_count": 565,
   "id": "db1f28d5-9e98-4aa4-af38-c099ed0abee1",
   "metadata": {},
   "outputs": [
    {
     "data": {
      "image/png": "[encoded data removed]",
      "text/plain": [
       "<Figure size 1200x1200 with 1 Axes>"
      ]
     },
     "metadata": {
      "needs_background": "light"
     },
     "output_type": "display_data"
    }
   ],
   "source": [
    "plt.figure(figsize=(12, 12))\n",
    "sns.barplot(x = lhww_percentage, y = lhww_percentage.index)\n",
    "plt.title('Language uesd in the past year')\n",
    "plt.xlabel('percentage')\n",
    "plt.show()"
   ]
  },
  {
   "cell_type": "markdown",
   "id": "93c2cf45-227e-4cff-be4b-56dce2672bb7",
   "metadata": {
    "jp-MarkdownHeadingCollapsed": true,
    "tags": []
   },
   "source": [
    "### 사는 곳이 한국인 응답자의 기술 스텍의 분포를 구해보세요.\n",
    "- South Korea인 사람의 분포만 다시 그리면 됩니다."
   ]
  },
  {
   "cell_type": "code",
   "execution_count": 480,
   "id": "9942bbde-2f15-4596-8462-2de824485c51",
   "metadata": {},
   "outputs": [],
   "source": [
    "home_country = survey_df[(survey_df.Country == 'South Korea') | (survey_df.Country == 'South Korea')]\n",
    "hclww = split_multicolumn(home_country.LanguageHaveWorkedWith)\n",
    "hclww_totals = hclww.sum().sort_values(ascending=False)\n",
    "hclww_percentage = hclww_totals = hclww_totals/hclww_totals.sum()*100"
   ]
  },
  {
   "cell_type": "code",
   "execution_count": 481,
   "id": "27c9b7d1-d3fa-47b5-9a4e-3f3e462fe21a",
   "metadata": {},
   "outputs": [
    {
     "data": {
      "image/png": "[encoded data removed]",
      "text/plain": [
       "<Figure size 1200x1200 with 1 Axes>"
      ]
     },
     "metadata": {
      "needs_background": "light"
     },
     "output_type": "display_data"
    }
   ],
   "source": [
    "plt.figure(figsize=(12, 12))\n",
    "sns.barplot(x = hclww_percentage, y = hclww_percentage.index)\n",
    "plt.title('Language uesd in the past year in South Korea')\n",
    "plt.xlabel('percentage')\n",
    "plt.show()"
   ]
  },
  {
   "cell_type": "markdown",
   "id": "8e064751-32ce-45bf-9b97-bc54fb45ec85",
   "metadata": {
    "jp-MarkdownHeadingCollapsed": true,
    "tags": []
   },
   "source": [
    "### 데이터 사이언스 관련 분야에서 일하는 응답자들이 가장 많이 사용하는 언어는 무엇인지 구해보세요.\n",
    "- DevType이 'Data scientist or machine learning specialist'인 대상자를 상대로 구하면 됩니다."
   ]
  },
  {
   "cell_type": "code",
   "execution_count": 509,
   "id": "cdee6846-b577-4fdb-87e0-338e1d620ff8",
   "metadata": {},
   "outputs": [
    {
     "data": {
      "text/plain": [
       "99.99999999999997"
      ]
     },
     "execution_count": 509,
     "metadata": {},
     "output_type": "execute_result"
    }
   ],
   "source": [
    "DsMls = survey_df[survey_df.DevType == 'Data scientist or machine learning specialist']\n",
    "DsMls_language = split_multicolumn(DsMls.LanguageHaveWorkedWith)\n",
    "DsMls_totals = DsMls_language.sum().sort_values(ascending=False)\n",
    "DsMls_percentage = DsMls_totals = DsMls_totals/DsMls_totals.sum()*100\n",
    "DsMls_percentage.sum()"
   ]
  },
  {
   "cell_type": "code",
   "execution_count": 506,
   "id": "35dd0ed6-4fb2-4e45-9f15-6333d43da722",
   "metadata": {},
   "outputs": [
    {
     "data": {
      "text/plain": [
       "100.0"
      ]
     },
     "execution_count": 506,
     "metadata": {},
     "output_type": "execute_result"
    }
   ],
   "source": [
    "data_science_folks = survey_df[survey_df.DevType.str.contains('Data scientist or machine learning specialist',na=False)]\n",
    "data_science_folks_language = split_multicolumn(data_science_folks.LanguageHaveWorkedWith)\n",
    "data_science_folks_language_totals = data_science_folks_language.sum().sort_values(ascending=False)\n",
    "data_science_folks_language_percentage = data_science_folks_language_totals/data_science_folks_language_totals.sum()*100\n",
    "data_science_folks_language_percentage.sum()"
   ]
  },
  {
   "cell_type": "code",
   "execution_count": 498,
   "id": "e5cda036-1ceb-4cfe-a7e8-891d3f9641e2",
   "metadata": {
    "tags": []
   },
   "outputs": [
    {
     "data": {
      "image/png": "[encoded data removed]",
      "text/plain": [
       "<Figure size 1200x1200 with 1 Axes>"
      ]
     },
     "metadata": {
      "needs_background": "light"
     },
     "output_type": "display_data"
    }
   ],
   "source": [
    "plt.figure(figsize=(12, 12))\n",
    "sns.barplot(x = DsMls_percentage, y = DsMls_percentage.index)\n",
    "plt.title('Language uesd by Data scientist or machine learning Folks')\n",
    "plt.xlabel('percentage')\n",
    "plt.show()"
   ]
  },
  {
   "cell_type": "markdown",
   "id": "53bfe557-067f-44e5-91da-6bd9c1f77999",
   "metadata": {
    "jp-MarkdownHeadingCollapsed": true,
    "tags": []
   },
   "source": [
    "### 네년에 가장 많은 사람들이 배우고 싶어하는 언어는 무엇일까요?  \n",
    "x축을 전체에서 차지하는 비울로 하는 그래프로 표현해보세요.\n",
    "```python\n",
    "survey_df.LanguageWantToWorkWith\n",
    "```"
   ]
  },
  {
   "cell_type": "code",
   "execution_count": 567,
   "id": "33374f71-30ad-467e-9d94-7fbd9bd6ec53",
   "metadata": {},
   "outputs": [],
   "source": [
    "def split_multicolumn(col_series):\n",
    "    result_df = pd.DataFrame(col_series.values, index=col_series.index, columns=[\"col_series\"])\n",
    "    options = []\n",
    "    for idx, value  in col_series[col_series.notnull()].items():\n",
    "        for option in value.split(';'):\n",
    "            if option not in result_df.columns:\n",
    "                options.append(option)\n",
    "                result_df[option] = False\n",
    "            result_df.at[idx, option] = True\n",
    "    return result_df[options]"
   ]
  },
  {
   "cell_type": "code",
   "execution_count": 562,
   "id": "c604470c-eef6-4e4f-a245-41d7caf702c5",
   "metadata": {},
   "outputs": [
    {
     "data": {
      "text/plain": [
       "99.99999999999999"
      ]
     },
     "execution_count": 562,
     "metadata": {},
     "output_type": "execute_result"
    }
   ],
   "source": [
    "LWTWW_df = split_multicolumn(survey_df.LanguageWantToWorkWith)\n",
    "LWTWW_totals = LWTWW_df.sum().sort_values(ascending=False)\n",
    "LWTWW_percentage = LWTWW_totals/LWTWW_totals.sum()*100\n",
    "LWTWW_percentage.sum()"
   ]
  },
  {
   "cell_type": "code",
   "execution_count": 560,
   "id": "72c71dc3-2e60-4567-9734-7c4a630df9f3",
   "metadata": {},
   "outputs": [
    {
     "data": {
      "image/png": "[encoded data removed]",
      "text/plain": [
       "<Figure size 1200x1200 with 1 Axes>"
      ]
     },
     "metadata": {
      "needs_background": "light"
     },
     "output_type": "display_data"
    }
   ],
   "source": [
    "plt.figure(figsize=(12, 12))\n",
    "sns.barplot(x = LWTWW_percentage, y = LWTWW_percentage.index)\n",
    "plt.title('Language Want To Work With')\n",
    "plt.xlabel('percentage')\n",
    "plt.show()"
   ]
  },
  {
   "cell_type": "markdown",
   "id": "661a0693-2389-41a4-bcc6-5c8906a2a57b",
   "metadata": {
    "jp-MarkdownHeadingCollapsed": true,
    "tags": []
   },
   "source": [
    "### 2022년 데이터베이스에 가장 많이 사용되는 언어는 무엇입니까?\n",
    "x축을 전체에서차지하는 비율로 하는 그래프로 표현해보세요.\n",
    "```python\n",
    "survey_raw_df.DatabaseHaveWorkedWith\n",
    "```"
   ]
  },
  {
   "cell_type": "code",
   "execution_count": 569,
   "id": "ba451409-a8a3-4d26-adee-dd1ca486a50e",
   "metadata": {},
   "outputs": [
    {
     "data": {
      "text/plain": [
       "100.0"
      ]
     },
     "execution_count": 569,
     "metadata": {},
     "output_type": "execute_result"
    }
   ],
   "source": [
    "DbHWW_df = split_multicolumn(survey_raw_df.DatabaseHaveWorkedWith)\n",
    "DbHWW_totals = DbHWW_df.sum().sort_values(ascending=False)\n",
    "DbHWW_percentage = DbHWW_totals/DbHWW_totals.sum()*100\n",
    "DbHWW_percentage.sum()"
   ]
  },
  {
   "cell_type": "code",
   "execution_count": 571,
   "id": "05c40538-37ab-413c-90a3-74b6d9d3b4f1",
   "metadata": {},
   "outputs": [
    {
     "data": {
      "image/png": "[encoded data removed]",
      "text/plain": [
       "<Figure size 1200x1200 with 1 Axes>"
      ]
     },
     "metadata": {
      "needs_background": "light"
     },
     "output_type": "display_data"
    }
   ],
   "source": [
    "plt.figure(figsize=(12,12))\n",
    "sns.barplot(x=DbHWW_percentage, y=DbHWW_percentage.index)\n",
    "plt.title(\"Database Have Worked With\")\n",
    "plt.xlabel(\"Percentage\")\n",
    "plt.show()"
   ]
  }
 ],
 "metadata": {
  "kernelspec": {
   "display_name": "Python 3 (ipykernel)",
   "language": "python",
   "name": "python3"
  },
  "language_info": {
   "codemirror_mode": {
    "name": "ipython",
    "version": 3
   },
   "file_extension": ".py",
   "mimetype": "text/x-python",
   "name": "python",
   "nbconvert_exporter": "python",
   "pygments_lexer": "ipython3",
   "version": "3.9.13"
  }
 },
 "nbformat": 4,
 "nbformat_minor": 5
}
