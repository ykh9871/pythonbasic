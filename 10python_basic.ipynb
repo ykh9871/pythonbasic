{
 "cells": [
  {
   "cell_type": "markdown",
   "id": "f000b636-26ba-40bf-b912-fbf4f292a637",
   "metadata": {
    "tags": []
   },
   "source": [
    "## 넘파이(Numpy)"
   ]
  },
  {
   "cell_type": "markdown",
   "id": "b5eb050b-c6ec-4569-87f5-361348d204db",
   "metadata": {
    "tags": []
   },
   "source": [
    "### Numpy 패키지를 임포트 해야합니다.\n",
    "- Numpy 패키지의 별칭은 np라는 이름으로 임포트 하는것이 관례입니다.\n",
    "- Numpy 패키지 임포트 하는 코드는 아래와 같습니다.\n",
    "``` python  \n",
    "import numpy as np\n",
    "```"
   ]
  },
  {
   "cell_type": "markdown",
   "id": "f12332d9-907b-4e5b-829b-27f10717b792",
   "metadata": {
    "jp-MarkdownHeadingCollapsed": true,
    "tags": []
   },
   "source": [
    "#### 1차원 배열 만들기"
   ]
  },
  {
   "cell_type": "code",
   "execution_count": 2,
   "id": "0f26a7c8-f2a6-40a5-bb43-58096648230f",
   "metadata": {},
   "outputs": [],
   "source": [
    "# Numpy를 임포트\n",
    "#jupyter lab에서 1회만 실행하면 그 아래 코드에선 다 사용 가능합니다.\n",
    "import numpy as np"
   ]
  },
  {
   "cell_type": "code",
   "execution_count": 3,
   "id": "9bad72ad-5198-47ff-b19a-9fa1d70be15e",
   "metadata": {},
   "outputs": [
    {
     "data": {
      "text/plain": [
       "array([0, 1, 2, 3, 4, 5, 6, 7, 8, 9])"
      ]
     },
     "execution_count": 3,
     "metadata": {},
     "output_type": "execute_result"
    }
   ],
   "source": [
    "ar = np.array([_ for _ in range(10)])\n",
    "ar"
   ]
  },
  {
   "cell_type": "code",
   "execution_count": 4,
   "id": "f0d6ac48-af3a-4529-8fc1-f4a251b0b35d",
   "metadata": {},
   "outputs": [
    {
     "data": {
      "text/plain": [
       "(10,)"
      ]
     },
     "execution_count": 4,
     "metadata": {},
     "output_type": "execute_result"
    }
   ],
   "source": [
    "ar.shape"
   ]
  },
  {
   "cell_type": "code",
   "execution_count": 5,
   "id": "a3456163-03ad-44d0-88bd-4543ed71d2a2",
   "metadata": {},
   "outputs": [
    {
     "data": {
      "text/plain": [
       "numpy.ndarray"
      ]
     },
     "execution_count": 5,
     "metadata": {},
     "output_type": "execute_result"
    }
   ],
   "source": [
    "type(ar)"
   ]
  },
  {
   "cell_type": "code",
   "execution_count": 6,
   "id": "add1e8bb-a995-4400-96d7-6e3d536978d6",
   "metadata": {},
   "outputs": [
    {
     "data": {
      "text/plain": [
       "array([ 0.1,  5. ,  4. , 12. ,  0.5])"
      ]
     },
     "execution_count": 6,
     "metadata": {},
     "output_type": "execute_result"
    }
   ],
   "source": [
    "ar2 = np.array([0.1, 5, 4, 12, 0.5])\n",
    "ar2"
   ]
  },
  {
   "cell_type": "markdown",
   "id": "cb46053a-2d70-45b4-ac00-0cf0593925c9",
   "metadata": {
    "jp-MarkdownHeadingCollapsed": true,
    "tags": []
   },
   "source": [
    "#### 넘파이의 자료형"
   ]
  },
  {
   "cell_type": "code",
   "execution_count": 34,
   "id": "11845cd3-695e-4ceb-aa3d-c83995a7e057",
   "metadata": {},
   "outputs": [
    {
     "data": {
      "text/plain": [
       "dtype('int32')"
      ]
     },
     "execution_count": 34,
     "metadata": {},
     "output_type": "execute_result"
    }
   ],
   "source": [
    "a = np.array([1,2,3])\n",
    "a.dtype"
   ]
  },
  {
   "cell_type": "code",
   "execution_count": 11,
   "id": "e51b2d55-09d1-4755-b76e-f734cea48dca",
   "metadata": {},
   "outputs": [
    {
     "data": {
      "text/plain": [
       "dtype('float64')"
      ]
     },
     "execution_count": 11,
     "metadata": {},
     "output_type": "execute_result"
    }
   ],
   "source": [
    "x = np.array([1.0,2.0,3.0])\n",
    "x.dtype"
   ]
  },
  {
   "cell_type": "code",
   "execution_count": 12,
   "id": "e2173227-caba-4826-bbcd-19b051edb138",
   "metadata": {},
   "outputs": [
    {
     "data": {
      "text/plain": [
       "dtype('float64')"
      ]
     },
     "execution_count": 12,
     "metadata": {},
     "output_type": "execute_result"
    }
   ],
   "source": [
    "x = np.array([1,2,3.0])\n",
    "x.dtype"
   ]
  },
  {
   "cell_type": "code",
   "execution_count": 41,
   "id": "f06106a6-472e-47bf-bb77-01b1e5c7a653",
   "metadata": {},
   "outputs": [
    {
     "name": "stdout",
     "output_type": "stream",
     "text": [
      "[3 6 9]\n",
      "int64\n"
     ]
    }
   ],
   "source": [
    "ar3 = np.array([_ for _ in range(3,10,3)], 'i8') #int9bytes --> 8*8bit\n",
    "print(ar3)\n",
    "print(ar3.dtype)"
   ]
  },
  {
   "cell_type": "code",
   "execution_count": 43,
   "id": "19f947f3-0d6e-4c6a-bf4a-28b3683f9178",
   "metadata": {},
   "outputs": [
    {
     "name": "stdout",
     "output_type": "stream",
     "text": [
      "[2. 4. 6. 8.]\n",
      "float64\n"
     ]
    }
   ],
   "source": [
    "ar4 = np.array([_ for _ in range(2,10,2)], 'f8')\n",
    "print(ar4)\n",
    "print(ar4.dtype)"
   ]
  },
  {
   "cell_type": "code",
   "execution_count": 47,
   "id": "273963e8-9c30-4de1-8d3c-f9075a78b7b5",
   "metadata": {},
   "outputs": [
    {
     "name": "stdout",
     "output_type": "stream",
     "text": [
      "['가나다라마' '바사아' '자' '차카']\n",
      "<U8\n"
     ]
    }
   ],
   "source": [
    "# 'U8' 유니코드 8글자 자료형을 명시적으로선언\n",
    "# 그래서 시퀀스 자료형 중 제일 큰 값이 <U5이지만 <U8로 타입이 지정되었다.\n",
    "ar5 = np.array([\"가나다라마\",\"바사아\", \"자\",\"차카\"], 'U8')\n",
    "print(ar5)\n",
    "print(ar5.dtype)\n",
    "# <U8은 최대 8글자의 유니코드 자료형이다."
   ]
  },
  {
   "cell_type": "code",
   "execution_count": 48,
   "id": "ec5fd613-ec50-4970-87e6-7762f6d3dbd2",
   "metadata": {},
   "outputs": [
    {
     "data": {
      "text/plain": [
       "dtype('float32')"
      ]
     },
     "execution_count": 48,
     "metadata": {},
     "output_type": "execute_result"
    }
   ],
   "source": [
    "x = np.array([1,2,3], dtype='f')\n",
    "x.dtype"
   ]
  },
  {
   "cell_type": "code",
   "execution_count": 49,
   "id": "1c51478f-47bb-4979-a5ed-5b3f6fb236c7",
   "metadata": {},
   "outputs": [
    {
     "data": {
      "text/plain": [
       "3.0"
      ]
     },
     "execution_count": 49,
     "metadata": {},
     "output_type": "execute_result"
    }
   ],
   "source": [
    "x[0] + x[1]"
   ]
  },
  {
   "cell_type": "code",
   "execution_count": 61,
   "id": "e64b1704-6ff1-4ae3-9c45-006fce2a9625",
   "metadata": {},
   "outputs": [
    {
     "data": {
      "text/plain": [
       "dtype('<U1')"
      ]
     },
     "execution_count": 61,
     "metadata": {},
     "output_type": "execute_result"
    }
   ],
   "source": [
    "x = np.array([1,2,3], dtype='U')\n",
    "x.dtype"
   ]
  },
  {
   "cell_type": "code",
   "execution_count": 51,
   "id": "330e7289-4caf-40fe-8d9f-96fda8f9c2a7",
   "metadata": {},
   "outputs": [
    {
     "data": {
      "text/plain": [
       "'12'"
      ]
     },
     "execution_count": 51,
     "metadata": {},
     "output_type": "execute_result"
    }
   ],
   "source": [
    "x[0] + x[1]"
   ]
  },
  {
   "cell_type": "code",
   "execution_count": 52,
   "id": "a077d602-05e3-4918-84b9-dfb21139a6e5",
   "metadata": {},
   "outputs": [
    {
     "name": "stderr",
     "output_type": "stream",
     "text": [
      "C:\\Users\\Playdata\\AppData\\Local\\Temp\\ipykernel_11176\\2068585620.py:1: RuntimeWarning: divide by zero encountered in true_divide\n",
      "  np.array([0, 1, -1, 0]) / np.array([1, 0, 0, 0])\n",
      "C:\\Users\\Playdata\\AppData\\Local\\Temp\\ipykernel_11176\\2068585620.py:1: RuntimeWarning: invalid value encountered in true_divide\n",
      "  np.array([0, 1, -1, 0]) / np.array([1, 0, 0, 0])\n"
     ]
    },
    {
     "data": {
      "text/plain": [
       "array([  0.,  inf, -inf,  nan])"
      ]
     },
     "execution_count": 52,
     "metadata": {},
     "output_type": "execute_result"
    }
   ],
   "source": [
    "np.array([0, 1, -1, 0]) / np.array([1, 0, 0, 0])"
   ]
  },
  {
   "cell_type": "code",
   "execution_count": 53,
   "id": "6e184029-1e7b-4f3b-8f8a-f75a734dabb5",
   "metadata": {},
   "outputs": [
    {
     "name": "stderr",
     "output_type": "stream",
     "text": [
      "C:\\Users\\Playdata\\AppData\\Local\\Temp\\ipykernel_11176\\2933082444.py:1: RuntimeWarning: divide by zero encountered in log\n",
      "  np.log(0)\n"
     ]
    },
    {
     "data": {
      "text/plain": [
       "-inf"
      ]
     },
     "execution_count": 53,
     "metadata": {},
     "output_type": "execute_result"
    }
   ],
   "source": [
    "np.log(0)"
   ]
  },
  {
   "cell_type": "code",
   "execution_count": 54,
   "id": "ec8f5605-2c6d-4fa4-a836-b3d0916a55df",
   "metadata": {},
   "outputs": [
    {
     "data": {
      "text/plain": [
       "0.0"
      ]
     },
     "execution_count": 54,
     "metadata": {},
     "output_type": "execute_result"
    }
   ],
   "source": [
    "np.exp(-np.inf)"
   ]
  },
  {
   "cell_type": "markdown",
   "id": "6f1a9bf0-a300-4b03-ae8f-de445efa38ce",
   "metadata": {
    "jp-MarkdownHeadingCollapsed": true,
    "tags": []
   },
   "source": [
    "#### 벡터화 연산"
   ]
  },
  {
   "cell_type": "code",
   "execution_count": 59,
   "id": "a7744d4d-b4c0-4508-ae81-5931fc183e6c",
   "metadata": {},
   "outputs": [],
   "source": [
    "data = [0,1,2,3,4,5,6,7,8,9]\n",
    "answer = [2 * d for d in data]"
   ]
  },
  {
   "cell_type": "code",
   "execution_count": 60,
   "id": "7c904832-a371-4f77-9ca9-7c38cbf59bac",
   "metadata": {},
   "outputs": [
    {
     "data": {
      "text/plain": [
       "[0, 2, 4, 6, 8, 10, 12, 14, 16, 18]"
      ]
     },
     "execution_count": 60,
     "metadata": {},
     "output_type": "execute_result"
    }
   ],
   "source": [
    "answer"
   ]
  },
  {
   "cell_type": "code",
   "execution_count": 62,
   "id": "9d9f24b2-e72b-4a4d-a544-d3c4f4993452",
   "metadata": {},
   "outputs": [
    {
     "data": {
      "text/plain": [
       "array([0, 1, 2, 3, 4, 5, 6, 7, 8, 9])"
      ]
     },
     "execution_count": 62,
     "metadata": {},
     "output_type": "execute_result"
    }
   ],
   "source": [
    "x = np.array(data)\n",
    "x"
   ]
  },
  {
   "cell_type": "code",
   "execution_count": 63,
   "id": "a29d7496-7e13-4cfe-86f9-04e88cf08877",
   "metadata": {},
   "outputs": [
    {
     "data": {
      "text/plain": [
       "array([ 0,  2,  4,  6,  8, 10, 12, 14, 16, 18])"
      ]
     },
     "execution_count": 63,
     "metadata": {},
     "output_type": "execute_result"
    }
   ],
   "source": [
    "2 * x"
   ]
  },
  {
   "cell_type": "code",
   "execution_count": 64,
   "id": "54f1f4ba-95b2-4fee-a159-72798faabb66",
   "metadata": {},
   "outputs": [
    {
     "name": "stdout",
     "output_type": "stream",
     "text": [
      "[0, 1, 2, 0, 1, 2, 0, 1, 2, 0, 1, 2, 0, 1, 2]\n"
     ]
    }
   ],
   "source": [
    "list_samp = [_ for _ in range(3)]\n",
    "print(list_samp*5)"
   ]
  },
  {
   "cell_type": "code",
   "execution_count": 65,
   "id": "47414415-a60e-4003-8114-3e4dee2deaaa",
   "metadata": {},
   "outputs": [],
   "source": [
    "a = np.array([1,2,3])\n",
    "b = np.array([10,20,30])"
   ]
  },
  {
   "cell_type": "code",
   "execution_count": 66,
   "id": "9c29bcc2-163c-4abd-9dea-6e7db59416c4",
   "metadata": {},
   "outputs": [
    {
     "data": {
      "text/plain": [
       "array([12, 24, 36])"
      ]
     },
     "execution_count": 66,
     "metadata": {},
     "output_type": "execute_result"
    }
   ],
   "source": [
    "2*a+b"
   ]
  },
  {
   "cell_type": "code",
   "execution_count": 67,
   "id": "cd7edc25-a129-47b4-828c-fe8ae70ba5c8",
   "metadata": {},
   "outputs": [
    {
     "data": {
      "text/plain": [
       "array([False,  True, False])"
      ]
     },
     "execution_count": 67,
     "metadata": {},
     "output_type": "execute_result"
    }
   ],
   "source": [
    "a == 2"
   ]
  },
  {
   "cell_type": "code",
   "execution_count": 68,
   "id": "e4fc738f-20de-4e86-bae2-a53d937110b4",
   "metadata": {},
   "outputs": [
    {
     "data": {
      "text/plain": [
       "array([False,  True,  True])"
      ]
     },
     "execution_count": 68,
     "metadata": {},
     "output_type": "execute_result"
    }
   ],
   "source": [
    "b > 10"
   ]
  },
  {
   "cell_type": "code",
   "execution_count": 69,
   "id": "5f425075-b3f9-4c2b-9f49-542c942c47fc",
   "metadata": {},
   "outputs": [
    {
     "data": {
      "text/plain": [
       "array([False,  True, False])"
      ]
     },
     "execution_count": 69,
     "metadata": {},
     "output_type": "execute_result"
    }
   ],
   "source": [
    "(a == 2) & (b > 10)"
   ]
  },
  {
   "cell_type": "markdown",
   "id": "81b55271-fd17-45e1-a612-d23020b13b2d",
   "metadata": {
    "jp-MarkdownHeadingCollapsed": true,
    "tags": []
   },
   "source": [
    "#### 2차원 배열 만들기"
   ]
  },
  {
   "cell_type": "code",
   "execution_count": 26,
   "id": "4e5f4ac2-a91f-49b4-9ba8-161cbad27acd",
   "metadata": {},
   "outputs": [
    {
     "data": {
      "text/plain": [
       "array([[0, 1, 2],\n",
       "       [3, 4, 5]])"
      ]
     },
     "execution_count": 26,
     "metadata": {},
     "output_type": "execute_result"
    }
   ],
   "source": [
    "c = np.array([[0,1,2], [3, 4, 5]]) # 2 x 3 array\n",
    "c"
   ]
  },
  {
   "cell_type": "code",
   "execution_count": 27,
   "id": "2dae7cee-dc3b-4832-87b2-a00ec2b85eaa",
   "metadata": {},
   "outputs": [
    {
     "data": {
      "text/plain": [
       "2"
      ]
     },
     "execution_count": 27,
     "metadata": {},
     "output_type": "execute_result"
    }
   ],
   "source": [
    "# 행의 갯수\n",
    "len(c)"
   ]
  },
  {
   "cell_type": "code",
   "execution_count": 28,
   "id": "c6cc8bf1-4de2-4ff8-a3b9-109c326debb5",
   "metadata": {},
   "outputs": [
    {
     "data": {
      "text/plain": [
       "3"
      ]
     },
     "execution_count": 28,
     "metadata": {},
     "output_type": "execute_result"
    }
   ],
   "source": [
    "# 열의 갯수\n",
    "len(c[0])"
   ]
  },
  {
   "cell_type": "code",
   "execution_count": 29,
   "id": "82e51975-03fa-4023-bdbb-94aacf010f03",
   "metadata": {},
   "outputs": [
    {
     "data": {
      "text/plain": [
       "(2, 3)"
      ]
     },
     "execution_count": 29,
     "metadata": {},
     "output_type": "execute_result"
    }
   ],
   "source": [
    "c.shape"
   ]
  },
  {
   "cell_type": "markdown",
   "id": "6f81cee9-12f8-4b5e-b47c-9f68620b5e18",
   "metadata": {
    "jp-MarkdownHeadingCollapsed": true,
    "tags": []
   },
   "source": [
    "#### 3차원 배열 만들기"
   ]
  },
  {
   "cell_type": "code",
   "execution_count": 31,
   "id": "2f844a8a-bdae-43f9-aa86-6a0b82e2f027",
   "metadata": {},
   "outputs": [],
   "source": [
    "# 2 x 3 x 4\n",
    "d = np.array([[[1,2,3,4],\n",
    "               [5, 6, 7, 8],\n",
    "               [9,10,11,12]],\n",
    "              [[11,12,13,14],\n",
    "               [15,16,17,18],\n",
    "               [19,20,21,22]]])"
   ]
  },
  {
   "cell_type": "code",
   "execution_count": 32,
   "id": "a785090a-d7ec-4d7f-bc4f-75b89d77bcf5",
   "metadata": {},
   "outputs": [
    {
     "data": {
      "text/plain": [
       "(2, 3, 4)"
      ]
     },
     "execution_count": 32,
     "metadata": {},
     "output_type": "execute_result"
    }
   ],
   "source": [
    "len(d), len(d[0]), len(d[0][0])"
   ]
  },
  {
   "cell_type": "code",
   "execution_count": 158,
   "id": "7abd174d-a3cd-45f1-bb8d-4eb22577b43c",
   "metadata": {},
   "outputs": [
    {
     "data": {
      "text/plain": [
       "(2, 3, 4)"
      ]
     },
     "execution_count": 158,
     "metadata": {},
     "output_type": "execute_result"
    }
   ],
   "source": [
    "d.shape"
   ]
  },
  {
   "cell_type": "markdown",
   "id": "a3332e20-4a79-4630-910b-01a3c834eb56",
   "metadata": {
    "jp-MarkdownHeadingCollapsed": true,
    "tags": []
   },
   "source": [
    "#### 배열의 차원과 크기 알아내기"
   ]
  },
  {
   "cell_type": "code",
   "execution_count": 35,
   "id": "848193e6-e98b-42d1-9c95-0edd7f19e27e",
   "metadata": {},
   "outputs": [
    {
     "name": "stdout",
     "output_type": "stream",
     "text": [
      "1\n",
      "(3,)\n"
     ]
    }
   ],
   "source": [
    "# a = np.array([1,2,3])\n",
    "print(a.ndim)\n",
    "print(a.shape)"
   ]
  },
  {
   "cell_type": "code",
   "execution_count": 94,
   "id": "edc1dc0e-e823-4a38-b088-ec73f4376177",
   "metadata": {},
   "outputs": [
    {
     "name": "stdout",
     "output_type": "stream",
     "text": [
      "2\n",
      "(2, 3)\n"
     ]
    }
   ],
   "source": [
    "# c = np.array([0,1,2],[3,4,5])\n",
    "print(c.ndim)\n",
    "print(c.shape)"
   ]
  },
  {
   "cell_type": "code",
   "execution_count": 96,
   "id": "5b4e261c-3920-499d-a09d-afc5f1ee3389",
   "metadata": {},
   "outputs": [
    {
     "name": "stdout",
     "output_type": "stream",
     "text": [
      "3\n",
      "(2, 3, 4)\n"
     ]
    }
   ],
   "source": [
    "print(d.ndim)\n",
    "print(d.shape)"
   ]
  },
  {
   "cell_type": "markdown",
   "id": "89e923e9-df67-478b-ad1f-732858cfba27",
   "metadata": {
    "jp-MarkdownHeadingCollapsed": true,
    "tags": []
   },
   "source": [
    "#### 배열의 인덱싱"
   ]
  },
  {
   "cell_type": "code",
   "execution_count": 36,
   "id": "b4701c23-98bd-4c92-b872-3bb287bd0805",
   "metadata": {},
   "outputs": [
    {
     "data": {
      "text/plain": [
       "array([0, 1, 2, 3, 4])"
      ]
     },
     "execution_count": 36,
     "metadata": {},
     "output_type": "execute_result"
    }
   ],
   "source": [
    "a = np.array([_ for _ in range(5)])\n",
    "a"
   ]
  },
  {
   "cell_type": "code",
   "execution_count": 37,
   "id": "ff6f5c72-86a8-46dc-af6e-0548825ea361",
   "metadata": {},
   "outputs": [
    {
     "data": {
      "text/plain": [
       "2"
      ]
     },
     "execution_count": 37,
     "metadata": {},
     "output_type": "execute_result"
    }
   ],
   "source": [
    "a[2]"
   ]
  },
  {
   "cell_type": "code",
   "execution_count": 38,
   "id": "3e0edeba-9f45-4521-a642-acfd756b8a2a",
   "metadata": {},
   "outputs": [
    {
     "data": {
      "text/plain": [
       "4"
      ]
     },
     "execution_count": 38,
     "metadata": {},
     "output_type": "execute_result"
    }
   ],
   "source": [
    "a[-1]"
   ]
  },
  {
   "cell_type": "code",
   "execution_count": 40,
   "id": "2ad32a13-9bf0-44b1-84e0-1aeacef88178",
   "metadata": {},
   "outputs": [
    {
     "data": {
      "text/plain": [
       "array([[0, 1, 2],\n",
       "       [3, 4, 5]])"
      ]
     },
     "execution_count": 40,
     "metadata": {},
     "output_type": "execute_result"
    }
   ],
   "source": [
    "a = np.array([[0,1,2], [3, 4, 5]])\n",
    "a"
   ]
  },
  {
   "cell_type": "code",
   "execution_count": 41,
   "id": "8227d76a-69b4-467e-b5cf-1e0ece6a26d4",
   "metadata": {},
   "outputs": [
    {
     "data": {
      "text/plain": [
       "0"
      ]
     },
     "execution_count": 41,
     "metadata": {},
     "output_type": "execute_result"
    }
   ],
   "source": [
    "a[0,0] # 첫번째 행의 첫번째 열"
   ]
  },
  {
   "cell_type": "code",
   "execution_count": 45,
   "id": "dd0587b4-1b14-4337-bcd0-d30127091ca5",
   "metadata": {},
   "outputs": [
    {
     "data": {
      "text/plain": [
       "3"
      ]
     },
     "execution_count": 45,
     "metadata": {},
     "output_type": "execute_result"
    }
   ],
   "source": [
    "a[1,0] # 첫번째 행의 두번째 열"
   ]
  },
  {
   "cell_type": "code",
   "execution_count": 46,
   "id": "0f15b57c-4cb6-4187-a898-83acfe48f6c8",
   "metadata": {},
   "outputs": [
    {
     "data": {
      "text/plain": [
       "5"
      ]
     },
     "execution_count": 46,
     "metadata": {},
     "output_type": "execute_result"
    }
   ],
   "source": [
    "a[-1,-1] # 마지막 행의 마지막 열"
   ]
  },
  {
   "cell_type": "markdown",
   "id": "26dd418f-f188-4cd9-9e36-2c7f4fed8875",
   "metadata": {
    "jp-MarkdownHeadingCollapsed": true,
    "tags": []
   },
   "source": [
    "#### 배열의 슬라이싱"
   ]
  },
  {
   "cell_type": "code",
   "execution_count": 138,
   "id": "777b7d43-36e3-45b5-9f96-66ae85c9ce87",
   "metadata": {},
   "outputs": [
    {
     "data": {
      "text/plain": [
       "array([[0, 1, 2, 3],\n",
       "       [4, 5, 6, 7]])"
      ]
     },
     "execution_count": 138,
     "metadata": {},
     "output_type": "execute_result"
    }
   ],
   "source": [
    "a = np.array([[0,1,2,3], [4, 5, 6, 7]])\n",
    "a"
   ]
  },
  {
   "cell_type": "code",
   "execution_count": 139,
   "id": "13e77070-f046-4156-bdf1-76613cee0e35",
   "metadata": {},
   "outputs": [
    {
     "data": {
      "text/plain": [
       "array([[0, 1, 2, 3],\n",
       "       [4, 5, 6, 7]])"
      ]
     },
     "execution_count": 139,
     "metadata": {},
     "output_type": "execute_result"
    }
   ],
   "source": [
    "np.array([_ for _ in range(8)]).reshape(2,4)"
   ]
  },
  {
   "cell_type": "code",
   "execution_count": 140,
   "id": "24f23feb-cabe-4d06-8d4c-ff19c449e1fa",
   "metadata": {},
   "outputs": [
    {
     "data": {
      "text/plain": [
       "array([0, 1, 2, 3])"
      ]
     },
     "execution_count": 140,
     "metadata": {},
     "output_type": "execute_result"
    }
   ],
   "source": [
    "a[0,:] # 첫번째 행 전체"
   ]
  },
  {
   "cell_type": "code",
   "execution_count": 141,
   "id": "9605b9ec-6cd3-42c8-8fa1-99316e4e25b9",
   "metadata": {},
   "outputs": [
    {
     "data": {
      "text/plain": [
       "array([1, 5])"
      ]
     },
     "execution_count": 141,
     "metadata": {},
     "output_type": "execute_result"
    }
   ],
   "source": [
    "a[:,1] # 두번째 혈 전체"
   ]
  },
  {
   "cell_type": "code",
   "execution_count": 142,
   "id": "e0658c25-4f2c-41b2-ada0-0cb56d50b887",
   "metadata": {},
   "outputs": [
    {
     "data": {
      "text/plain": [
       "array([5, 6, 7])"
      ]
     },
     "execution_count": 142,
     "metadata": {},
     "output_type": "execute_result"
    }
   ],
   "source": [
    "a[1,1:] # 두번째 행의 두번째 열부터 끝열까지"
   ]
  },
  {
   "cell_type": "code",
   "execution_count": 143,
   "id": "6b842c59-9a9b-41f3-953f-98ce6e134bfd",
   "metadata": {},
   "outputs": [
    {
     "data": {
      "text/plain": [
       "array([[0, 1],\n",
       "       [4, 5]])"
      ]
     },
     "execution_count": 143,
     "metadata": {},
     "output_type": "execute_result"
    }
   ],
   "source": [
    "a[:2,:2]"
   ]
  },
  {
   "cell_type": "markdown",
   "id": "995615eb-2e78-41b5-a808-3b2c8a62f1b0",
   "metadata": {
    "jp-MarkdownHeadingCollapsed": true,
    "tags": []
   },
   "source": [
    "#### 배열 생성"
   ]
  },
  {
   "cell_type": "markdown",
   "id": "a1ec1778-e63e-4fe2-a668-69913dfd1772",
   "metadata": {
    "jp-MarkdownHeadingCollapsed": true,
    "tags": []
   },
   "source": [
    "##### Numpy는 몇가지 단순한 배열을 생성하는 메서드를 제공합니다.  \n",
    "  \n",
    "- zeros,ones  \n",
    "- zeros_likem ones_like\n",
    "- empty\n",
    "- arange\n",
    "- linspace, logspace"
   ]
  },
  {
   "cell_type": "code",
   "execution_count": 174,
   "id": "adfb2fb3-439f-4512-961f-ac11a9b921ba",
   "metadata": {},
   "outputs": [
    {
     "data": {
      "text/plain": [
       "array([0., 0., 0., 0., 0.])"
      ]
     },
     "execution_count": 174,
     "metadata": {},
     "output_type": "execute_result"
    }
   ],
   "source": [
    "a = np.zeros(5)\n",
    "a"
   ]
  },
  {
   "cell_type": "code",
   "execution_count": 47,
   "id": "33c30e9c-4f24-4d68-a917-341ffee5c13f",
   "metadata": {},
   "outputs": [
    {
     "data": {
      "text/plain": [
       "array([[0, 0],\n",
       "       [0, 0],\n",
       "       [0, 0],\n",
       "       [0, 0],\n",
       "       [0, 0]], dtype=int32)"
      ]
     },
     "execution_count": 47,
     "metadata": {},
     "output_type": "execute_result"
    }
   ],
   "source": [
    "c = np.zeros((5,2),dtype='i')\n",
    "c"
   ]
  },
  {
   "cell_type": "code",
   "execution_count": 176,
   "id": "995f5270-2fc3-49da-bb64-bef2955eaa11",
   "metadata": {},
   "outputs": [
    {
     "data": {
      "text/plain": [
       "array(['', '', '', '', ''], dtype='<U4')"
      ]
     },
     "execution_count": 176,
     "metadata": {},
     "output_type": "execute_result"
    }
   ],
   "source": [
    "d = np.zeros(5, dtype='U4')\n",
    "d"
   ]
  },
  {
   "cell_type": "code",
   "execution_count": 177,
   "id": "a6d0799d-80fc-412b-b4b1-c346076d6eb0",
   "metadata": {},
   "outputs": [
    {
     "data": {
      "text/plain": [
       "array(['abc', 'abcd', 'ABCD', '', ''], dtype='<U4')"
      ]
     },
     "execution_count": 177,
     "metadata": {},
     "output_type": "execute_result"
    }
   ],
   "source": [
    "d[0] = \"abc\" \n",
    "d[1] = \"abcd\"\n",
    "d[2] = \"ABCDE\"\n",
    "d"
   ]
  },
  {
   "cell_type": "code",
   "execution_count": 179,
   "id": "1997e1f3-c128-488b-8163-1d3df94d32bf",
   "metadata": {},
   "outputs": [
    {
     "data": {
      "text/plain": [
       "array([[[1, 1, 1, 1],\n",
       "        [1, 1, 1, 1],\n",
       "        [1, 1, 1, 1]],\n",
       "\n",
       "       [[1, 1, 1, 1],\n",
       "        [1, 1, 1, 1],\n",
       "        [1, 1, 1, 1]]], dtype=int64)"
      ]
     },
     "execution_count": 179,
     "metadata": {},
     "output_type": "execute_result"
    }
   ],
   "source": [
    "e = np.ones((2, 3, 4), dtype = \"i8\")\n",
    "e"
   ]
  },
  {
   "cell_type": "code",
   "execution_count": 183,
   "id": "2dc18aeb-fe7d-43d4-a1d7-d69af6fb6040",
   "metadata": {},
   "outputs": [
    {
     "data": {
      "text/plain": [
       "array([1., 1., 1.], dtype=float32)"
      ]
     },
     "execution_count": 183,
     "metadata": {},
     "output_type": "execute_result"
    }
   ],
   "source": [
    "f = np.ones_like(b, dtype=\"f\")\n",
    "f"
   ]
  },
  {
   "cell_type": "code",
   "execution_count": 185,
   "id": "1caaa391-df9b-4c05-9fe3-52ef8d8cd922",
   "metadata": {},
   "outputs": [
    {
     "data": {
      "text/plain": [
       "array([[4.24399158e-314, 8.48798317e-314, 1.27319747e-313],\n",
       "       [1.69759663e-313, 2.12199579e-313, 2.54639495e-313],\n",
       "       [2.54639495e-313, 2.97079411e-313, 3.39519327e-313],\n",
       "       [3.81959242e-313, 4.24399158e-313, 4.66839074e-313]])"
      ]
     },
     "execution_count": 185,
     "metadata": {},
     "output_type": "execute_result"
    }
   ],
   "source": [
    "g = np.empty((4, 3))\n",
    "g"
   ]
  },
  {
   "cell_type": "code",
   "execution_count": 186,
   "id": "7d8b63c3-f5f1-4476-8094-ac12bdda52e7",
   "metadata": {},
   "outputs": [
    {
     "data": {
      "text/plain": [
       "array([0, 1, 2, 3, 4, 5, 6, 7, 8, 9])"
      ]
     },
     "execution_count": 186,
     "metadata": {},
     "output_type": "execute_result"
    }
   ],
   "source": [
    "np.arange(10) # 0...n-1"
   ]
  },
  {
   "cell_type": "code",
   "execution_count": 187,
   "id": "cc8853ab-add9-4bd2-bf49-2f6b5011bf26",
   "metadata": {},
   "outputs": [
    {
     "data": {
      "text/plain": [
       "array([ 3,  5,  7,  9, 11, 13, 15, 17, 19])"
      ]
     },
     "execution_count": 187,
     "metadata": {},
     "output_type": "execute_result"
    }
   ],
   "source": [
    "np.arange(3, 21, 2) # 시작, 끝(포함하지 않음), 단계"
   ]
  },
  {
   "cell_type": "code",
   "execution_count": 191,
   "id": "05d9d05f-69c2-4188-a0dc-ac693f89e732",
   "metadata": {},
   "outputs": [
    {
     "data": {
      "text/plain": [
       "array([  0.,  25.,  50.,  75., 100.])"
      ]
     },
     "execution_count": 191,
     "metadata": {},
     "output_type": "execute_result"
    }
   ],
   "source": [
    "np.linspace(0, 100, 5) # 시작, 끝(포함), 갯수"
   ]
  },
  {
   "cell_type": "code",
   "execution_count": 194,
   "id": "cbbca2f6-8bd0-4811-9b78-d287df353e26",
   "metadata": {},
   "outputs": [
    {
     "data": {
      "text/plain": [
       "array([1.e+000, 1.e+025, 1.e+050, 1.e+075, 1.e+100])"
      ]
     },
     "execution_count": 194,
     "metadata": {},
     "output_type": "execute_result"
    }
   ],
   "source": [
    "np.logspace(0, 100, 5) # 시작, 끝(포함), 갯수"
   ]
  },
  {
   "cell_type": "markdown",
   "id": "bfec1f1f-f51e-4e19-8228-b173496c4f8a",
   "metadata": {
    "jp-MarkdownHeadingCollapsed": true,
    "tags": []
   },
   "source": [
    "#### 전치연산"
   ]
  },
  {
   "cell_type": "code",
   "execution_count": 195,
   "id": "96091a4d-d159-400e-9c4d-c0c9871d45ff",
   "metadata": {},
   "outputs": [
    {
     "data": {
      "text/plain": [
       "array([[1, 2, 3],\n",
       "       [4, 5, 6]])"
      ]
     },
     "execution_count": 195,
     "metadata": {},
     "output_type": "execute_result"
    }
   ],
   "source": [
    "A = np.array([[1,2,3], [4,5,6]])\n",
    "A"
   ]
  },
  {
   "cell_type": "code",
   "execution_count": 198,
   "id": "56d955d3-5e1b-4c21-8b0c-7b1bb960cebc",
   "metadata": {},
   "outputs": [
    {
     "data": {
      "text/plain": [
       "array([[1, 4],\n",
       "       [2, 5],\n",
       "       [3, 6]])"
      ]
     },
     "execution_count": 198,
     "metadata": {},
     "output_type": "execute_result"
    }
   ],
   "source": [
    "A.T"
   ]
  },
  {
   "cell_type": "markdown",
   "id": "f9d6a17c-8be1-4e30-a374-f784b88e0d8f",
   "metadata": {
    "jp-MarkdownHeadingCollapsed": true,
    "tags": []
   },
   "source": [
    "#### 배열의 크기변형"
   ]
  },
  {
   "cell_type": "code",
   "execution_count": 49,
   "id": "1d9e8159-9c77-49f1-9203-dc17616e1cf8",
   "metadata": {},
   "outputs": [
    {
     "data": {
      "text/plain": [
       "array([[ 0,  1,  2,  3],\n",
       "       [ 4,  5,  6,  7],\n",
       "       [ 8,  9, 10, 11]])"
      ]
     },
     "execution_count": 49,
     "metadata": {},
     "output_type": "execute_result"
    }
   ],
   "source": [
    "a = np.arange(12)\n",
    "a.reshape(3,4)"
   ]
  },
  {
   "cell_type": "code",
   "execution_count": 50,
   "id": "a70758e4-1205-4392-a546-b170c371db2c",
   "metadata": {},
   "outputs": [
    {
     "data": {
      "text/plain": [
       "array([[ 0,  1,  2,  3],\n",
       "       [ 4,  5,  6,  7],\n",
       "       [ 8,  9, 10, 11]])"
      ]
     },
     "execution_count": 50,
     "metadata": {},
     "output_type": "execute_result"
    }
   ],
   "source": [
    "a.reshape(3,-1)"
   ]
  },
  {
   "cell_type": "code",
   "execution_count": 51,
   "id": "94e0703b-3dfa-43ff-a8aa-d9c0ab8b92e9",
   "metadata": {},
   "outputs": [
    {
     "data": {
      "text/plain": [
       "array([[[ 0,  1,  2],\n",
       "        [ 3,  4,  5]],\n",
       "\n",
       "       [[ 6,  7,  8],\n",
       "        [ 9, 10, 11]]])"
      ]
     },
     "execution_count": 51,
     "metadata": {},
     "output_type": "execute_result"
    }
   ],
   "source": [
    "a.reshape(2,2,-1)"
   ]
  },
  {
   "cell_type": "code",
   "execution_count": 52,
   "id": "da68775b-69df-4883-8a5d-1e444d28de68",
   "metadata": {},
   "outputs": [
    {
     "data": {
      "text/plain": [
       "array([[[ 0,  1],\n",
       "        [ 2,  3],\n",
       "        [ 4,  5]],\n",
       "\n",
       "       [[ 6,  7],\n",
       "        [ 8,  9],\n",
       "        [10, 11]]])"
      ]
     },
     "execution_count": 52,
     "metadata": {},
     "output_type": "execute_result"
    }
   ],
   "source": [
    "a.reshape(2,-1,2)"
   ]
  },
  {
   "cell_type": "code",
   "execution_count": 53,
   "id": "29921dd4-1003-4fa7-bd3e-c20b4ea6e094",
   "metadata": {
    "tags": []
   },
   "outputs": [
    {
     "data": {
      "text/plain": [
       "array([ 0,  1,  2,  3,  4,  5,  6,  7,  8,  9, 10, 11])"
      ]
     },
     "execution_count": 53,
     "metadata": {},
     "output_type": "execute_result"
    }
   ],
   "source": [
    "a.flatten()"
   ]
  },
  {
   "cell_type": "code",
   "execution_count": 54,
   "id": "b2318cd6-2c42-4ea4-8154-f9647fba8e56",
   "metadata": {},
   "outputs": [
    {
     "data": {
      "text/plain": [
       "array([ 0,  1,  2,  3,  4,  5,  6,  7,  8,  9, 10, 11])"
      ]
     },
     "execution_count": 54,
     "metadata": {},
     "output_type": "execute_result"
    }
   ],
   "source": [
    "a.ravel()"
   ]
  },
  {
   "cell_type": "code",
   "execution_count": 56,
   "id": "28a9226b-7405-403c-b598-64117a96ebd8",
   "metadata": {},
   "outputs": [
    {
     "data": {
      "text/plain": [
       "array([0, 1, 2, 3, 4])"
      ]
     },
     "execution_count": 56,
     "metadata": {},
     "output_type": "execute_result"
    }
   ],
   "source": [
    "x = np.arange(5)\n",
    "x"
   ]
  },
  {
   "cell_type": "code",
   "execution_count": 57,
   "id": "41df4e60-4b88-4d25-8465-e353217c2c60",
   "metadata": {},
   "outputs": [
    {
     "data": {
      "text/plain": [
       "array([[0, 1, 2, 3, 4]])"
      ]
     },
     "execution_count": 57,
     "metadata": {},
     "output_type": "execute_result"
    }
   ],
   "source": [
    "x.reshape(1,5)"
   ]
  },
  {
   "cell_type": "code",
   "execution_count": 58,
   "id": "edd2b14f-568d-47c2-a61f-46cdc025369e",
   "metadata": {},
   "outputs": [
    {
     "data": {
      "text/plain": [
       "array([[0],\n",
       "       [1],\n",
       "       [2],\n",
       "       [3],\n",
       "       [4]])"
      ]
     },
     "execution_count": 58,
     "metadata": {},
     "output_type": "execute_result"
    }
   ],
   "source": [
    "x.reshape(5,1)"
   ]
  },
  {
   "cell_type": "code",
   "execution_count": 59,
   "id": "4af924aa-1c86-49b7-974b-de1c3f230be2",
   "metadata": {},
   "outputs": [
    {
     "data": {
      "text/plain": [
       "array([[0],\n",
       "       [1],\n",
       "       [2],\n",
       "       [3],\n",
       "       [4]])"
      ]
     },
     "execution_count": 59,
     "metadata": {},
     "output_type": "execute_result"
    }
   ],
   "source": [
    "x[:, np.newaxis]"
   ]
  },
  {
   "cell_type": "markdown",
   "id": "415176fa-6357-43da-b503-e57ecf684ced",
   "metadata": {
    "jp-MarkdownHeadingCollapsed": true,
    "tags": []
   },
   "source": [
    "#### 배열연결"
   ]
  },
  {
   "cell_type": "markdown",
   "id": "6f47af7e-9c0f-41d0-b312-59d6ca9d5fbc",
   "metadata": {
    "jp-MarkdownHeadingCollapsed": true,
    "tags": []
   },
   "source": [
    "##### hstack"
   ]
  },
  {
   "cell_type": "code",
   "execution_count": 215,
   "id": "5f94935a-adb5-44b8-8ea7-517baeb8e7a0",
   "metadata": {},
   "outputs": [
    {
     "data": {
      "text/plain": [
       "array([[1., 1., 1.],\n",
       "       [1., 1., 1.]])"
      ]
     },
     "execution_count": 215,
     "metadata": {},
     "output_type": "execute_result"
    }
   ],
   "source": [
    "a1 = np.ones((2,3))\n",
    "a1"
   ]
  },
  {
   "cell_type": "code",
   "execution_count": 216,
   "id": "aedde857-66b4-412f-bc5b-731a34821cd2",
   "metadata": {},
   "outputs": [
    {
     "data": {
      "text/plain": [
       "array([[0., 0.],\n",
       "       [0., 0.]])"
      ]
     },
     "execution_count": 216,
     "metadata": {},
     "output_type": "execute_result"
    }
   ],
   "source": [
    "a2 = np.zeros((2,2))\n",
    "a2"
   ]
  },
  {
   "cell_type": "code",
   "execution_count": 217,
   "id": "8d731c9f-65b4-4f1b-9577-5b31dd5e2dea",
   "metadata": {},
   "outputs": [
    {
     "data": {
      "text/plain": [
       "array([[1., 1., 1., 0., 0.],\n",
       "       [1., 1., 1., 0., 0.]])"
      ]
     },
     "execution_count": 217,
     "metadata": {},
     "output_type": "execute_result"
    }
   ],
   "source": [
    "np.hstack([a1,a2])"
   ]
  },
  {
   "cell_type": "markdown",
   "id": "fba4862e-f81c-4b4d-b806-bc8d8b70fa00",
   "metadata": {
    "jp-MarkdownHeadingCollapsed": true,
    "tags": []
   },
   "source": [
    "##### vstack"
   ]
  },
  {
   "cell_type": "code",
   "execution_count": 223,
   "id": "6871ebf8-b131-43e0-991f-7cca87831672",
   "metadata": {},
   "outputs": [
    {
     "data": {
      "text/plain": [
       "array([[1., 1., 1.],\n",
       "       [1., 1., 1.]])"
      ]
     },
     "execution_count": 223,
     "metadata": {},
     "output_type": "execute_result"
    }
   ],
   "source": [
    "b1 = np.ones((2,3))\n",
    "b1"
   ]
  },
  {
   "cell_type": "code",
   "execution_count": 224,
   "id": "3926d675-6953-4054-b33b-33bdd3cb3de5",
   "metadata": {},
   "outputs": [
    {
     "data": {
      "text/plain": [
       "array([[0., 0., 0.],\n",
       "       [0., 0., 0.],\n",
       "       [0., 0., 0.]])"
      ]
     },
     "execution_count": 224,
     "metadata": {},
     "output_type": "execute_result"
    }
   ],
   "source": [
    "b2 = np.zeros((3,3))\n",
    "b2"
   ]
  },
  {
   "cell_type": "code",
   "execution_count": 225,
   "id": "c439a35b-8be0-433b-bca0-b69433a89879",
   "metadata": {},
   "outputs": [
    {
     "data": {
      "text/plain": [
       "array([[1., 1., 1.],\n",
       "       [1., 1., 1.],\n",
       "       [0., 0., 0.],\n",
       "       [0., 0., 0.],\n",
       "       [0., 0., 0.]])"
      ]
     },
     "execution_count": 225,
     "metadata": {},
     "output_type": "execute_result"
    }
   ],
   "source": [
    "np.vstack([b1,b2])"
   ]
  },
  {
   "cell_type": "markdown",
   "id": "9963b168-ff64-4a28-9a1c-6457ba7e5d88",
   "metadata": {
    "jp-MarkdownHeadingCollapsed": true,
    "tags": []
   },
   "source": [
    "##### dstack"
   ]
  },
  {
   "cell_type": "code",
   "execution_count": 227,
   "id": "7e02bf37-fd84-4ae3-8bae-b782f1781cd9",
   "metadata": {},
   "outputs": [
    {
     "data": {
      "text/plain": [
       "array([[1., 1., 1., 1.],\n",
       "       [1., 1., 1., 1.],\n",
       "       [1., 1., 1., 1.]])"
      ]
     },
     "execution_count": 227,
     "metadata": {},
     "output_type": "execute_result"
    }
   ],
   "source": [
    "c1 = np.ones((3,4))\n",
    "c1"
   ]
  },
  {
   "cell_type": "code",
   "execution_count": 228,
   "id": "26854244-2b65-436c-8f84-8e6ab6e600a0",
   "metadata": {},
   "outputs": [
    {
     "data": {
      "text/plain": [
       "array([[0., 0., 0., 0.],\n",
       "       [0., 0., 0., 0.],\n",
       "       [0., 0., 0., 0.]])"
      ]
     },
     "execution_count": 228,
     "metadata": {},
     "output_type": "execute_result"
    }
   ],
   "source": [
    "c2 = np.zeros((3,4))\n",
    "c2"
   ]
  },
  {
   "cell_type": "code",
   "execution_count": 229,
   "id": "dab5c150-ed5b-484f-880d-7f4e3b9e573f",
   "metadata": {},
   "outputs": [
    {
     "data": {
      "text/plain": [
       "array([[[1., 0.],\n",
       "        [1., 0.],\n",
       "        [1., 0.],\n",
       "        [1., 0.]],\n",
       "\n",
       "       [[1., 0.],\n",
       "        [1., 0.],\n",
       "        [1., 0.],\n",
       "        [1., 0.]],\n",
       "\n",
       "       [[1., 0.],\n",
       "        [1., 0.],\n",
       "        [1., 0.],\n",
       "        [1., 0.]]])"
      ]
     },
     "execution_count": 229,
     "metadata": {},
     "output_type": "execute_result"
    }
   ],
   "source": [
    "np.dstack([c1,c2])"
   ]
  },
  {
   "cell_type": "code",
   "execution_count": 230,
   "id": "6c4c7f1c-3ccf-468b-a42e-08095f36132d",
   "metadata": {},
   "outputs": [
    {
     "data": {
      "text/plain": [
       "(3, 4, 2)"
      ]
     },
     "execution_count": 230,
     "metadata": {},
     "output_type": "execute_result"
    }
   ],
   "source": [
    "np.dstack([c1,c2]).shape"
   ]
  },
  {
   "cell_type": "markdown",
   "id": "2abffc1b-156a-413c-8dda-498b4d9e4b83",
   "metadata": {
    "jp-MarkdownHeadingCollapsed": true,
    "tags": []
   },
   "source": [
    "##### stack"
   ]
  },
  {
   "cell_type": "code",
   "execution_count": 232,
   "id": "f363c99d-bfad-4c6e-89cf-affb9d1e5920",
   "metadata": {},
   "outputs": [
    {
     "data": {
      "text/plain": [
       "array([[[1., 1., 1., 1.],\n",
       "        [1., 1., 1., 1.],\n",
       "        [1., 1., 1., 1.]],\n",
       "\n",
       "       [[0., 0., 0., 0.],\n",
       "        [0., 0., 0., 0.],\n",
       "        [0., 0., 0., 0.]]])"
      ]
     },
     "execution_count": 232,
     "metadata": {},
     "output_type": "execute_result"
    }
   ],
   "source": [
    "c = np.stack([c1,c2])\n",
    "c"
   ]
  },
  {
   "cell_type": "code",
   "execution_count": 233,
   "id": "16e8477e-a20f-4f68-b8f2-062180b4a751",
   "metadata": {},
   "outputs": [
    {
     "data": {
      "text/plain": [
       "(2, 3, 4)"
      ]
     },
     "execution_count": 233,
     "metadata": {},
     "output_type": "execute_result"
    }
   ],
   "source": [
    "c.shape"
   ]
  },
  {
   "cell_type": "code",
   "execution_count": 234,
   "id": "5feeb849-b37b-475b-9e08-30fddc4f0ff6",
   "metadata": {},
   "outputs": [
    {
     "data": {
      "text/plain": [
       "array([[[1., 1., 1., 1.],\n",
       "        [0., 0., 0., 0.]],\n",
       "\n",
       "       [[1., 1., 1., 1.],\n",
       "        [0., 0., 0., 0.]],\n",
       "\n",
       "       [[1., 1., 1., 1.],\n",
       "        [0., 0., 0., 0.]]])"
      ]
     },
     "execution_count": 234,
     "metadata": {},
     "output_type": "execute_result"
    }
   ],
   "source": [
    "c = np.stack([c1,c2], axis=1)\n",
    "c"
   ]
  },
  {
   "cell_type": "code",
   "execution_count": 242,
   "id": "114f7f8f-efce-4278-a8d7-434862269ccf",
   "metadata": {},
   "outputs": [
    {
     "data": {
      "text/plain": [
       "(3, 4, 2)"
      ]
     },
     "execution_count": 242,
     "metadata": {},
     "output_type": "execute_result"
    }
   ],
   "source": [
    "c.shape"
   ]
  },
  {
   "cell_type": "markdown",
   "id": "27d05a05-681b-4b6a-b202-ab283428d65f",
   "metadata": {
    "jp-MarkdownHeadingCollapsed": true,
    "tags": []
   },
   "source": [
    "##### r_메서드"
   ]
  },
  {
   "cell_type": "code",
   "execution_count": 245,
   "id": "4929c60a-72ac-4827-ab07-5f6ac3e11694",
   "metadata": {},
   "outputs": [
    {
     "data": {
      "text/plain": [
       "array([1, 2, 3, 4, 5, 6])"
      ]
     },
     "execution_count": 245,
     "metadata": {},
     "output_type": "execute_result"
    }
   ],
   "source": [
    "np.r_[np.array([1,2,3]), np.array([4,5,6])]"
   ]
  },
  {
   "cell_type": "markdown",
   "id": "bbc5c996-3084-44fd-9627-bce10482752a",
   "metadata": {
    "jp-MarkdownHeadingCollapsed": true,
    "tags": []
   },
   "source": [
    "##### c_메서드"
   ]
  },
  {
   "cell_type": "code",
   "execution_count": 246,
   "id": "cdbdd7f2-5a36-442e-bc69-d037b480e2b8",
   "metadata": {},
   "outputs": [
    {
     "data": {
      "text/plain": [
       "array([[1, 4],\n",
       "       [2, 5],\n",
       "       [3, 6]])"
      ]
     },
     "execution_count": 246,
     "metadata": {},
     "output_type": "execute_result"
    }
   ],
   "source": [
    "np.c_[np.array([1,2,3]), np.array([4,5,6])]"
   ]
  },
  {
   "cell_type": "markdown",
   "id": "a8810475-d45c-45ed-b694-adfac3fda6ee",
   "metadata": {
    "jp-MarkdownHeadingCollapsed": true,
    "tags": []
   },
   "source": [
    "##### tile"
   ]
  },
  {
   "cell_type": "code",
   "execution_count": 247,
   "id": "0e51d438-aca8-4ebb-b0bc-e99e0bd84c5c",
   "metadata": {},
   "outputs": [
    {
     "data": {
      "text/plain": [
       "array([[0, 1, 2, 0, 1, 2],\n",
       "       [3, 4, 5, 3, 4, 5]])"
      ]
     },
     "execution_count": 247,
     "metadata": {},
     "output_type": "execute_result"
    }
   ],
   "source": [
    "a = np.array([[0,1,2],[3,4,5]])\n",
    "np.tile(a,2)"
   ]
  },
  {
   "cell_type": "code",
   "execution_count": 248,
   "id": "265f52e6-6da4-4c01-bf2a-cd13c783c2a4",
   "metadata": {},
   "outputs": [
    {
     "data": {
      "text/plain": [
       "array([[0, 1, 2, 0, 1, 2],\n",
       "       [3, 4, 5, 3, 4, 5],\n",
       "       [0, 1, 2, 0, 1, 2],\n",
       "       [3, 4, 5, 3, 4, 5],\n",
       "       [0, 1, 2, 0, 1, 2],\n",
       "       [3, 4, 5, 3, 4, 5]])"
      ]
     },
     "execution_count": 248,
     "metadata": {},
     "output_type": "execute_result"
    }
   ],
   "source": [
    "np.tile(a,(3,2))"
   ]
  },
  {
   "cell_type": "markdown",
   "id": "5aad64e7-8e3a-46c2-a964-1e369050e9a3",
   "metadata": {
    "jp-MarkdownHeadingCollapsed": true,
    "tags": []
   },
   "source": [
    "#### 연습문제"
   ]
  },
  {
   "cell_type": "markdown",
   "id": "60235890-f6be-4812-876c-af3ac67957f7",
   "metadata": {
    "tags": []
   },
   "source": [
    "##### 다음의 행렬이 주저졌을 때 1~5까지 문제를 풀어보세요.\n",
    "```python  \n",
    "m = np.array([[0,1,2,3,4],\n",
    "              [5,6,7,8,9],\n",
    "              [10,11,12,13,14]])\n",
    "```  \n",
    "1. 이 행렬에서 값 7을 인덱싱한다.  \n",
    "2. 이 행렬에서 값 14 을 인덱싱한다.  \n",
    "3. 이 행렬에서 배열 [6,7]을 슬라이싱한다.  \n",
    "4. 이 행렬에서 배열 [7,12]을 슬라이싱한다.  \n",
    "5. 이 행렬에서 배열 [[3,4],[8,9]]을 슬라이싱한다."
   ]
  },
  {
   "cell_type": "code",
   "execution_count": 161,
   "id": "6b3c2791-fc8c-4975-90e4-e39a2c3111f4",
   "metadata": {},
   "outputs": [],
   "source": [
    "m = np.array([[0,1,2,3,4],\n",
    "              [5,6,7,8,9],\n",
    "              [10,11,12,13,14]])"
   ]
  },
  {
   "cell_type": "code",
   "execution_count": 162,
   "id": "d01ff7a7-3726-4fe2-9a63-1ec2c98292c9",
   "metadata": {},
   "outputs": [
    {
     "data": {
      "text/plain": [
       "7"
      ]
     },
     "execution_count": 162,
     "metadata": {},
     "output_type": "execute_result"
    }
   ],
   "source": [
    "m[1,2]"
   ]
  },
  {
   "cell_type": "code",
   "execution_count": 163,
   "id": "d28a364d-1fa4-4a21-9687-18de1d3b689d",
   "metadata": {},
   "outputs": [
    {
     "data": {
      "text/plain": [
       "14"
      ]
     },
     "execution_count": 163,
     "metadata": {},
     "output_type": "execute_result"
    }
   ],
   "source": [
    "m[-1,-1]"
   ]
  },
  {
   "cell_type": "code",
   "execution_count": 164,
   "id": "c110ace3-7504-4101-bf12-3cda0f9a434e",
   "metadata": {},
   "outputs": [
    {
     "data": {
      "text/plain": [
       "array([6, 7])"
      ]
     },
     "execution_count": 164,
     "metadata": {},
     "output_type": "execute_result"
    }
   ],
   "source": [
    "m[1,1:3]"
   ]
  },
  {
   "cell_type": "code",
   "execution_count": 170,
   "id": "cc4162e5-9d6f-49a7-b786-a0b4fd790e49",
   "metadata": {},
   "outputs": [
    {
     "data": {
      "text/plain": [
       "array([ 7, 12])"
      ]
     },
     "execution_count": 170,
     "metadata": {},
     "output_type": "execute_result"
    }
   ],
   "source": [
    "m[1:,2]"
   ]
  },
  {
   "cell_type": "code",
   "execution_count": 168,
   "id": "aaa21144-c189-427c-9834-cb16343a3c85",
   "metadata": {},
   "outputs": [
    {
     "data": {
      "text/plain": [
       "array([[3, 4],\n",
       "       [8, 9]])"
      ]
     },
     "execution_count": 168,
     "metadata": {},
     "output_type": "execute_result"
    }
   ],
   "source": [
    "m[:2,3:]"
   ]
  },
  {
   "cell_type": "markdown",
   "id": "71f94cba-43da-473a-a69e-d6996278642b",
   "metadata": {
    "jp-MarkdownHeadingCollapsed": true,
    "tags": []
   },
   "source": [
    "##### 넘파이를 사용하여 다음과 같은 행렬을 만들어보세요.\n",
    "\n",
    "- 실행결과:\n",
    "```python\n",
    "array([[10,20,30,40],\n",
    "       [50,60,70,80]])\n",
    "```"
   ]
  },
  {
   "cell_type": "code",
   "execution_count": 25,
   "id": "060c0284-59ee-48a3-9e52-3747f51b353b",
   "metadata": {},
   "outputs": [
    {
     "data": {
      "text/plain": [
       "array([[10, 20, 30, 40],\n",
       "       [50, 60, 70, 80]])"
      ]
     },
     "execution_count": 25,
     "metadata": {},
     "output_type": "execute_result"
    }
   ],
   "source": [
    "e = np.array([[10,20,30,40], [50, 60, 70, 80]])\n",
    "e"
   ]
  },
  {
   "cell_type": "code",
   "execution_count": 286,
   "id": "f00aeecf-0fa6-463a-b31d-80aa42602df5",
   "metadata": {},
   "outputs": [
    {
     "data": {
      "text/plain": [
       "array([[  0.,   0.,   0.,   1.,   1.],\n",
       "       [  0.,   0.,   0.,   1.,   1.],\n",
       "       [  0.,   0.,   0.,   1.,   1.],\n",
       "       [ 10.,  20.,  30.,  40.,  50.],\n",
       "       [ 60.,  70.,  80.,  90., 100.],\n",
       "       [110., 120., 130., 140., 150.],\n",
       "       [  0.,   0.,   0.,   1.,   1.],\n",
       "       [  0.,   0.,   0.,   1.,   1.],\n",
       "       [  0.,   0.,   0.,   1.,   1.],\n",
       "       [ 10.,  20.,  30.,  40.,  50.],\n",
       "       [ 60.,  70.,  80.,  90., 100.],\n",
       "       [110., 120., 130., 140., 150.]])"
      ]
     },
     "execution_count": 286,
     "metadata": {},
     "output_type": "execute_result"
    }
   ],
   "source": [
    "f = np.linspace(10, 150, 15)\n",
    "f2 = np.zeros((3,3))\n",
    "f3 = np.ones((3,2))\n",
    "f4 = np.hstack((f2,f3))\n",
    "f5 = f.reshape(3,5)\n",
    "f6 = np.vstack([f4,f5])\n",
    "f7 = np.vstack([f6,f6])\n",
    "f7"
   ]
  }
 ],
 "metadata": {
  "kernelspec": {
   "display_name": "Python 3 (ipykernel)",
   "language": "python",
   "name": "python3"
  },
  "language_info": {
   "codemirror_mode": {
    "name": "ipython",
    "version": 3
   },
   "file_extension": ".py",
   "mimetype": "text/x-python",
   "name": "python",
   "nbconvert_exporter": "python",
   "pygments_lexer": "ipython3",
   "version": "3.9.13"
  }
 },
 "nbformat": 4,
 "nbformat_minor": 5
}
